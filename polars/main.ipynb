{
 "cells": [
  {
   "cell_type": "code",
   "execution_count": 1,
   "metadata": {},
   "outputs": [],
   "source": [
    "import polars as pl\n",
    "import os\n",
    "import glob\n",
    "import numpy as np\n",
    "import seaborn as sns\n"
   ]
  },
  {
   "attachments": {},
   "cell_type": "markdown",
   "metadata": {},
   "source": [
    "## Read in Data"
   ]
  },
  {
   "cell_type": "code",
   "execution_count": 3,
   "metadata": {},
   "outputs": [],
   "source": [
    "def get_data(url, file_name):\n",
    "    os.system(f'curl -kLs {url} -o {file_name}')\n",
    "\n",
    "get_data('https://files.grouplens.org/datasets/movielens/ml-25m-README.html', 'instructions.md')\n",
    "get_data('https://files.grouplens.org/datasets/movielens/ml-25m.zip', 'dataset.zip')"
   ]
  },
  {
   "cell_type": "code",
   "execution_count": 2,
   "metadata": {},
   "outputs": [],
   "source": [
    "def read_data(file_path):\n",
    "    pl.read_csv(file_path)"
   ]
  },
  {
   "cell_type": "code",
   "execution_count": 3,
   "metadata": {},
   "outputs": [],
   "source": [
    "def load_datasets(folder_path):\n",
    "    files = glob.glob(f'{folder_path}/*.csv')\n",
    "    list_of_files = [file.split('/')[-1].split('.')[0] for file in files]\n",
    "    dict_of_dfs = {name: pl.read_csv(file) for name, file in zip(list_of_files, files)}\n",
    "    return dict_of_dfs\n"
   ]
  },
  {
   "cell_type": "code",
   "execution_count": 4,
   "metadata": {},
   "outputs": [],
   "source": [
    "dfs = load_datasets('ml-25m')"
   ]
  },
  {
   "cell_type": "code",
   "execution_count": 5,
   "metadata": {},
   "outputs": [
    {
     "data": {
      "text/plain": [
       "dict_keys(['genome-scores', 'genome-tags', 'links', 'movies', 'ratings', 'tags'])"
      ]
     },
     "execution_count": 5,
     "metadata": {},
     "output_type": "execute_result"
    }
   ],
   "source": [
    "dfs.keys()"
   ]
  },
  {
   "cell_type": "code",
   "execution_count": 6,
   "metadata": {},
   "outputs": [
    {
     "name": "stdout",
     "output_type": "stream",
     "text": [
      "genome-scores shape: (15_584_448, 3)\n",
      "┌─────────┬───────┬───────────┐\n",
      "│ movieId ┆ tagId ┆ relevance │\n",
      "│ ---     ┆ ---   ┆ ---       │\n",
      "│ i64     ┆ i64   ┆ f64       │\n",
      "╞═════════╪═══════╪═══════════╡\n",
      "│ 1       ┆ 1     ┆ 0.02875   │\n",
      "│ 1       ┆ 2     ┆ 0.02375   │\n",
      "│ 1       ┆ 3     ┆ 0.0625    │\n",
      "│ 1       ┆ 4     ┆ 0.07575   │\n",
      "│ …       ┆ …     ┆ …         │\n",
      "│ 206499  ┆ 1125  ┆ 0.0485    │\n",
      "│ 206499  ┆ 1126  ┆ 0.01325   │\n",
      "│ 206499  ┆ 1127  ┆ 0.14025   │\n",
      "│ 206499  ┆ 1128  ┆ 0.0335    │\n",
      "└─────────┴───────┴───────────┘\n",
      "genome-tags shape: (1_128, 2)\n",
      "┌───────┬──────────────┐\n",
      "│ tagId ┆ tag          │\n",
      "│ ---   ┆ ---          │\n",
      "│ i64   ┆ str          │\n",
      "╞═══════╪══════════════╡\n",
      "│ 1     ┆ 007          │\n",
      "│ 2     ┆ 007 (series) │\n",
      "│ 3     ┆ 18th century │\n",
      "│ 4     ┆ 1920s        │\n",
      "│ …     ┆ …            │\n",
      "│ 1125  ┆ wuxia        │\n",
      "│ 1126  ┆ wwii         │\n",
      "│ 1127  ┆ zombie       │\n",
      "│ 1128  ┆ zombies      │\n",
      "└───────┴──────────────┘\n",
      "links shape: (62_423, 3)\n",
      "┌─────────┬─────────┬────────┐\n",
      "│ movieId ┆ imdbId  ┆ tmdbId │\n",
      "│ ---     ┆ ---     ┆ ---    │\n",
      "│ i64     ┆ i64     ┆ i64    │\n",
      "╞═════════╪═════════╪════════╡\n",
      "│ 1       ┆ 114709  ┆ 862    │\n",
      "│ 2       ┆ 113497  ┆ 8844   │\n",
      "│ 3       ┆ 113228  ┆ 15602  │\n",
      "│ 4       ┆ 114885  ┆ 31357  │\n",
      "│ …       ┆ …       ┆ …      │\n",
      "│ 209159  ┆ 297986  ┆ 63407  │\n",
      "│ 209163  ┆ 6755366 ┆ 553036 │\n",
      "│ 209169  ┆ 249603  ┆ 162892 │\n",
      "│ 209171  ┆ 55323   ┆ 79513  │\n",
      "└─────────┴─────────┴────────┘\n",
      "movies shape: (62_423, 3)\n",
      "┌─────────┬────────────────────────────────┬───────────────────────────────────┐\n",
      "│ movieId ┆ title                          ┆ genres                            │\n",
      "│ ---     ┆ ---                            ┆ ---                               │\n",
      "│ i64     ┆ str                            ┆ str                               │\n",
      "╞═════════╪════════════════════════════════╪═══════════════════════════════════╡\n",
      "│ 1       ┆ Toy Story (1995)               ┆ Adventure|Animation|Children|Com… │\n",
      "│ 2       ┆ Jumanji (1995)                 ┆ Adventure|Children|Fantasy        │\n",
      "│ 3       ┆ Grumpier Old Men (1995)        ┆ Comedy|Romance                    │\n",
      "│ 4       ┆ Waiting to Exhale (1995)       ┆ Comedy|Drama|Romance              │\n",
      "│ …       ┆ …                              ┆ …                                 │\n",
      "│ 209159  ┆ Window of the Soul (2001)      ┆ Documentary                       │\n",
      "│ 209163  ┆ Bad Poems (2018)               ┆ Comedy|Drama                      │\n",
      "│ 209169  ┆ A Girl Thing (2001)            ┆ (no genres listed)                │\n",
      "│ 209171  ┆ Women of Devil's Island (1962) ┆ Action|Adventure|Drama            │\n",
      "└─────────┴────────────────────────────────┴───────────────────────────────────┘\n",
      "ratings shape: (25_000_095, 4)\n",
      "┌────────┬─────────┬────────┬────────────┐\n",
      "│ userId ┆ movieId ┆ rating ┆ timestamp  │\n",
      "│ ---    ┆ ---     ┆ ---    ┆ ---        │\n",
      "│ i64    ┆ i64     ┆ f64    ┆ i64        │\n",
      "╞════════╪═════════╪════════╪════════════╡\n",
      "│ 1      ┆ 296     ┆ 5.0    ┆ 1147880044 │\n",
      "│ 1      ┆ 306     ┆ 3.5    ┆ 1147868817 │\n",
      "│ 1      ┆ 307     ┆ 5.0    ┆ 1147868828 │\n",
      "│ 1      ┆ 665     ┆ 5.0    ┆ 1147878820 │\n",
      "│ …      ┆ …       ┆ …      ┆ …          │\n",
      "│ 162541 ┆ 55768   ┆ 2.5    ┆ 1240951998 │\n",
      "│ 162541 ┆ 56176   ┆ 2.0    ┆ 1240950697 │\n",
      "│ 162541 ┆ 58559   ┆ 4.0    ┆ 1240953434 │\n",
      "│ 162541 ┆ 63876   ┆ 5.0    ┆ 1240952515 │\n",
      "└────────┴─────────┴────────┴────────────┘\n",
      "tags shape: (1_093_360, 4)\n",
      "┌────────┬─────────┬──────────────────┬────────────┐\n",
      "│ userId ┆ movieId ┆ tag              ┆ timestamp  │\n",
      "│ ---    ┆ ---     ┆ ---              ┆ ---        │\n",
      "│ i64    ┆ i64     ┆ str              ┆ i64        │\n",
      "╞════════╪═════════╪══════════════════╪════════════╡\n",
      "│ 3      ┆ 260     ┆ classic          ┆ 1439472355 │\n",
      "│ 3      ┆ 260     ┆ sci-fi           ┆ 1439472256 │\n",
      "│ 4      ┆ 1732    ┆ dark comedy      ┆ 1573943598 │\n",
      "│ 4      ┆ 1732    ┆ great dialogue   ┆ 1573943604 │\n",
      "│ …      ┆ …       ┆ …                ┆ …          │\n",
      "│ 162521 ┆ 103341  ┆ cornetto trilogy ┆ 1427311259 │\n",
      "│ 162534 ┆ 189169  ┆ comedy           ┆ 1527518175 │\n",
      "│ 162534 ┆ 189169  ┆ disabled         ┆ 1527518181 │\n",
      "│ 162534 ┆ 189169  ┆ robbery          ┆ 1527518193 │\n",
      "└────────┴─────────┴──────────────────┴────────────┘\n"
     ]
    },
    {
     "data": {
      "text/plain": [
       "[None, None, None, None, None, None]"
      ]
     },
     "execution_count": 6,
     "metadata": {},
     "output_type": "execute_result"
    }
   ],
   "source": [
    "[print(key, value) for key, value in dfs.items()]"
   ]
  },
  {
   "attachments": {},
   "cell_type": "markdown",
   "metadata": {},
   "source": [
    "## Understand the Data"
   ]
  },
  {
   "cell_type": "code",
   "execution_count": 7,
   "metadata": {},
   "outputs": [
    {
     "name": "stdout",
     "output_type": "stream",
     "text": [
      "<class 'pandas.core.frame.DataFrame'>\n",
      "RangeIndex: 15584448 entries, 0 to 15584447\n",
      "Data columns (total 3 columns):\n",
      " #   Column     Dtype  \n",
      "---  ------     -----  \n",
      " 0   movieId    int64  \n",
      " 1   tagId      int64  \n",
      " 2   relevance  float64\n",
      "dtypes: float64(1), int64(2)\n",
      "memory usage: 356.7 MB\n",
      "\n",
      "genome-scores \n",
      " None\n",
      "\n",
      "<class 'pandas.core.frame.DataFrame'>\n",
      "RangeIndex: 1128 entries, 0 to 1127\n",
      "Data columns (total 2 columns):\n",
      " #   Column  Non-Null Count  Dtype \n",
      "---  ------  --------------  ----- \n",
      " 0   tagId   1128 non-null   int64 \n",
      " 1   tag     1128 non-null   object\n",
      "dtypes: int64(1), object(1)\n",
      "memory usage: 17.8+ KB\n",
      "\n",
      "genome-tags \n",
      " None\n",
      "\n",
      "<class 'pandas.core.frame.DataFrame'>\n",
      "RangeIndex: 62423 entries, 0 to 62422\n",
      "Data columns (total 3 columns):\n",
      " #   Column   Non-Null Count  Dtype  \n",
      "---  ------   --------------  -----  \n",
      " 0   movieId  62423 non-null  int64  \n",
      " 1   imdbId   62423 non-null  int64  \n",
      " 2   tmdbId   62316 non-null  float64\n",
      "dtypes: float64(1), int64(2)\n",
      "memory usage: 1.4 MB\n",
      "\n",
      "links \n",
      " None\n",
      "\n",
      "<class 'pandas.core.frame.DataFrame'>\n",
      "RangeIndex: 62423 entries, 0 to 62422\n",
      "Data columns (total 3 columns):\n",
      " #   Column   Non-Null Count  Dtype \n",
      "---  ------   --------------  ----- \n",
      " 0   movieId  62423 non-null  int64 \n",
      " 1   title    62423 non-null  object\n",
      " 2   genres   62423 non-null  object\n",
      "dtypes: int64(1), object(2)\n",
      "memory usage: 1.4+ MB\n",
      "\n",
      "movies \n",
      " None\n",
      "\n",
      "<class 'pandas.core.frame.DataFrame'>\n",
      "RangeIndex: 25000095 entries, 0 to 25000094\n",
      "Data columns (total 4 columns):\n",
      " #   Column     Dtype  \n",
      "---  ------     -----  \n",
      " 0   userId     int64  \n",
      " 1   movieId    int64  \n",
      " 2   rating     float64\n",
      " 3   timestamp  int64  \n",
      "dtypes: float64(1), int64(3)\n",
      "memory usage: 762.9 MB\n",
      "\n",
      "ratings \n",
      " None\n",
      "\n",
      "<class 'pandas.core.frame.DataFrame'>\n",
      "RangeIndex: 1093360 entries, 0 to 1093359\n",
      "Data columns (total 4 columns):\n",
      " #   Column     Non-Null Count    Dtype \n",
      "---  ------     --------------    ----- \n",
      " 0   userId     1093360 non-null  int64 \n",
      " 1   movieId    1093360 non-null  int64 \n",
      " 2   tag        1093360 non-null  object\n",
      " 3   timestamp  1093360 non-null  int64 \n",
      "dtypes: int64(3), object(1)\n",
      "memory usage: 33.4+ MB\n",
      "\n",
      "tags \n",
      " None\n",
      "\n"
     ]
    },
    {
     "data": {
      "text/plain": [
       "[None, None, None, None, None, None]"
      ]
     },
     "execution_count": 7,
     "metadata": {},
     "output_type": "execute_result"
    }
   ],
   "source": [
    "[print(f'\\n{key} \\n {value.to_pandas().info()}\\n') for key, value in dfs.items()]"
   ]
  },
  {
   "cell_type": "code",
   "execution_count": 8,
   "metadata": {},
   "outputs": [],
   "source": [
    "def get_unique(df):\n",
    "    for col in df.columns:\n",
    "        print(col + ':', '\\n')\n",
    "        print(f'{(np.count_nonzero(df[col].unique())/df[col].shape[0])*100:.2f}% unique values.', '\\n')"
   ]
  },
  {
   "cell_type": "code",
   "execution_count": 9,
   "metadata": {},
   "outputs": [
    {
     "name": "stdout",
     "output_type": "stream",
     "text": [
      "****************************************************************************************************\n",
      "genome-scores\n",
      "****************************************************************************************************\n",
      "movieId: \n",
      "\n",
      "0.09% unique values. \n",
      "\n",
      "tagId: \n",
      "\n",
      "0.01% unique values. \n",
      "\n",
      "relevance: \n",
      "\n",
      "0.03% unique values. \n",
      "\n",
      "****************************************************************************************************\n",
      "genome-tags\n",
      "****************************************************************************************************\n",
      "tagId: \n",
      "\n",
      "100.00% unique values. \n",
      "\n",
      "tag: \n",
      "\n",
      "100.00% unique values. \n",
      "\n",
      "****************************************************************************************************\n",
      "links\n",
      "****************************************************************************************************\n",
      "movieId: \n",
      "\n",
      "100.00% unique values. \n",
      "\n",
      "imdbId: \n",
      "\n",
      "100.00% unique values. \n",
      "\n",
      "tmdbId: \n",
      "\n",
      "99.77% unique values. \n",
      "\n",
      "****************************************************************************************************\n",
      "movies\n",
      "****************************************************************************************************\n",
      "movieId: \n",
      "\n",
      "100.00% unique values. \n",
      "\n",
      "title: \n",
      "\n",
      "99.84% unique values. \n",
      "\n",
      "genres: \n",
      "\n",
      "2.63% unique values. \n",
      "\n",
      "****************************************************************************************************\n",
      "ratings\n",
      "****************************************************************************************************\n",
      "userId: \n",
      "\n",
      "0.65% unique values. \n",
      "\n",
      "movieId: \n",
      "\n",
      "0.24% unique values. \n",
      "\n",
      "rating: \n",
      "\n",
      "0.00% unique values. \n",
      "\n",
      "timestamp: \n",
      "\n",
      "80.46% unique values. \n",
      "\n",
      "****************************************************************************************************\n",
      "tags\n",
      "****************************************************************************************************\n",
      "userId: \n",
      "\n",
      "1.33% unique values. \n",
      "\n",
      "movieId: \n",
      "\n",
      "4.14% unique values. \n",
      "\n",
      "tag: \n",
      "\n",
      "6.68% unique values. \n",
      "\n",
      "timestamp: \n",
      "\n",
      "83.02% unique values. \n",
      "\n"
     ]
    }
   ],
   "source": [
    "for table, df in dfs.items():\n",
    "    print('*'*100)\n",
    "    print(table)\n",
    "    print('*'*100)\n",
    "    get_unique(df)"
   ]
  },
  {
   "attachments": {},
   "cell_type": "markdown",
   "metadata": {},
   "source": [
    "Movies Table"
   ]
  },
  {
   "cell_type": "code",
   "execution_count": 12,
   "metadata": {},
   "outputs": [
    {
     "data": {
      "text/html": [
       "<div><style>\n",
       ".dataframe > thead > tr > th,\n",
       ".dataframe > tbody > tr > td {\n",
       "  text-align: right;\n",
       "}\n",
       "</style>\n",
       "<small>shape: (62423, 3)</small><table border=\"1\" class=\"dataframe\"><thead><tr><th>movieId</th><th>title</th><th>genres</th></tr><tr><td>i64</td><td>str</td><td>str</td></tr></thead><tbody><tr><td>1</td><td>&quot;Toy Story (199…</td><td>&quot;Adventure|Anim…</td></tr><tr><td>2</td><td>&quot;Jumanji (1995)…</td><td>&quot;Adventure|Chil…</td></tr><tr><td>3</td><td>&quot;Grumpier Old M…</td><td>&quot;Comedy|Romance…</td></tr><tr><td>4</td><td>&quot;Waiting to Exh…</td><td>&quot;Comedy|Drama|R…</td></tr><tr><td>5</td><td>&quot;Father of the …</td><td>&quot;Comedy&quot;</td></tr><tr><td>6</td><td>&quot;Heat (1995)&quot;</td><td>&quot;Action|Crime|T…</td></tr><tr><td>7</td><td>&quot;Sabrina (1995)…</td><td>&quot;Comedy|Romance…</td></tr><tr><td>8</td><td>&quot;Tom and Huck (…</td><td>&quot;Adventure|Chil…</td></tr><tr><td>9</td><td>&quot;Sudden Death (…</td><td>&quot;Action&quot;</td></tr><tr><td>10</td><td>&quot;GoldenEye (199…</td><td>&quot;Action|Adventu…</td></tr><tr><td>11</td><td>&quot;American Presi…</td><td>&quot;Comedy|Drama|R…</td></tr><tr><td>12</td><td>&quot;Dracula: Dead …</td><td>&quot;Comedy|Horror&quot;</td></tr><tr><td>&hellip;</td><td>&hellip;</td><td>&hellip;</td></tr><tr><td>209141</td><td>&quot;And They Lived…</td><td>&quot;Comedy&quot;</td></tr><tr><td>209143</td><td>&quot;The Painting (…</td><td>&quot;Animation|Docu…</td></tr><tr><td>209145</td><td>&quot;Liberté (2019)…</td><td>&quot;Drama&quot;</td></tr><tr><td>209147</td><td>&quot;The Carpet of …</td><td>&quot;Crime|Horror&quot;</td></tr><tr><td>209151</td><td>&quot;Mao Zedong 194…</td><td>&quot;(no genres lis…</td></tr><tr><td>209153</td><td>&quot;Happy Flight (…</td><td>&quot;Comedy|Drama&quot;</td></tr><tr><td>209155</td><td>&quot;Santosh Subram…</td><td>&quot;Action|Comedy|…</td></tr><tr><td>209157</td><td>&quot;We (2018)&quot;</td><td>&quot;Drama&quot;</td></tr><tr><td>209159</td><td>&quot;Window of the …</td><td>&quot;Documentary&quot;</td></tr><tr><td>209163</td><td>&quot;Bad Poems (201…</td><td>&quot;Comedy|Drama&quot;</td></tr><tr><td>209169</td><td>&quot;A Girl Thing (…</td><td>&quot;(no genres lis…</td></tr><tr><td>209171</td><td>&quot;Women of Devil…</td><td>&quot;Action|Adventu…</td></tr></tbody></table></div>"
      ],
      "text/plain": [
       "shape: (62_423, 3)\n",
       "┌─────────┬────────────────────────────────┬───────────────────────────────────┐\n",
       "│ movieId ┆ title                          ┆ genres                            │\n",
       "│ ---     ┆ ---                            ┆ ---                               │\n",
       "│ i64     ┆ str                            ┆ str                               │\n",
       "╞═════════╪════════════════════════════════╪═══════════════════════════════════╡\n",
       "│ 1       ┆ Toy Story (1995)               ┆ Adventure|Animation|Children|Com… │\n",
       "│ 2       ┆ Jumanji (1995)                 ┆ Adventure|Children|Fantasy        │\n",
       "│ 3       ┆ Grumpier Old Men (1995)        ┆ Comedy|Romance                    │\n",
       "│ 4       ┆ Waiting to Exhale (1995)       ┆ Comedy|Drama|Romance              │\n",
       "│ …       ┆ …                              ┆ …                                 │\n",
       "│ 209159  ┆ Window of the Soul (2001)      ┆ Documentary                       │\n",
       "│ 209163  ┆ Bad Poems (2018)               ┆ Comedy|Drama                      │\n",
       "│ 209169  ┆ A Girl Thing (2001)            ┆ (no genres listed)                │\n",
       "│ 209171  ┆ Women of Devil's Island (1962) ┆ Action|Adventure|Drama            │\n",
       "└─────────┴────────────────────────────────┴───────────────────────────────────┘"
      ]
     },
     "execution_count": 12,
     "metadata": {},
     "output_type": "execute_result"
    }
   ],
   "source": [
    "movies = dfs['movies']\n",
    "movies"
   ]
  },
  {
   "cell_type": "code",
   "execution_count": null,
   "metadata": {},
   "outputs": [],
   "source": [
    "# get a unique list of all genres\n"
   ]
  }
 ],
 "metadata": {
  "kernelspec": {
   "display_name": "Python 3",
   "language": "python",
   "name": "python3"
  },
  "language_info": {
   "codemirror_mode": {
    "name": "ipython",
    "version": 3
   },
   "file_extension": ".py",
   "mimetype": "text/x-python",
   "name": "python",
   "nbconvert_exporter": "python",
   "pygments_lexer": "ipython3",
   "version": "3.10.6"
  },
  "orig_nbformat": 4
 },
 "nbformat": 4,
 "nbformat_minor": 2
}
