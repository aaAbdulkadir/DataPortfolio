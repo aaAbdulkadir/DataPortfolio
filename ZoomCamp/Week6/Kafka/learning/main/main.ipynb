{
 "cells": [
  {
   "cell_type": "code",
   "execution_count": 8,
   "metadata": {},
   "outputs": [],
   "source": [
    "import pandas as pd"
   ]
  },
  {
   "cell_type": "code",
   "execution_count": 9,
   "metadata": {},
   "outputs": [],
   "source": [
    "league_table = pd.read_excel('FootballData.xlsx', 'LeagueTableExport')\n",
    "fixtures = pd.read_excel('FootballData.xlsx', 'All_Fixtures')\n",
    "players = pd.read_excel('FootballData.xlsx', 'PlayerStatsExport')\n",
    "teams = pd.read_excel('FootballData.xlsx', 'TeamStatsExport')\n",
    "lineup = pd.read_excel('FootballData.xlsx', 'LineUpExport')\n",
    "plays = pd.read_excel('FootballData.xlsx', 'PlaysExport')"
   ]
  },
  {
   "cell_type": "code",
   "execution_count": 11,
   "metadata": {},
   "outputs": [
    {
     "ename": "ImportError",
     "evalue": "cannot import name 'IncompatibleBrokerVersion' from 'kafka.errors' (/home/abdul/.local/lib/python3.10/site-packages/kafka/errors.py)",
     "output_type": "error",
     "traceback": [
      "\u001b[0;31m---------------------------------------------------------------------------\u001b[0m",
      "\u001b[0;31mImportError\u001b[0m                               Traceback (most recent call last)",
      "Cell \u001b[0;32mIn [11], line 1\u001b[0m\n\u001b[0;32m----> 1\u001b[0m \u001b[39mfrom\u001b[39;00m \u001b[39mkafka\u001b[39;00m \u001b[39mimport\u001b[39;00m KafkaProducer\n\u001b[1;32m      3\u001b[0m \u001b[39m# kafa producer on local host\u001b[39;00m\n\u001b[1;32m      4\u001b[0m producer \u001b[39m=\u001b[39m KafkaProducer(bootstrap_servers\u001b[39m=\u001b[39m[\u001b[39m'\u001b[39m\u001b[39mlocalhost:9092\u001b[39m\u001b[39m'\u001b[39m])\n",
      "File \u001b[0;32m~/.local/lib/python3.10/site-packages/kafka/__init__.py:21\u001b[0m\n\u001b[1;32m     16\u001b[0m             \u001b[39mpass\u001b[39;00m\n\u001b[1;32m     18\u001b[0m logging\u001b[39m.\u001b[39mgetLogger(\u001b[39m__name__\u001b[39m)\u001b[39m.\u001b[39maddHandler(NullHandler())\n\u001b[0;32m---> 21\u001b[0m \u001b[39mfrom\u001b[39;00m \u001b[39mkafka\u001b[39;00m\u001b[39m.\u001b[39;00m\u001b[39madmin\u001b[39;00m \u001b[39mimport\u001b[39;00m KafkaAdminClient\n\u001b[1;32m     22\u001b[0m \u001b[39mfrom\u001b[39;00m \u001b[39mkafka\u001b[39;00m\u001b[39m.\u001b[39;00m\u001b[39mclient_async\u001b[39;00m \u001b[39mimport\u001b[39;00m KafkaClient\n\u001b[1;32m     23\u001b[0m \u001b[39mfrom\u001b[39;00m \u001b[39mkafka\u001b[39;00m\u001b[39m.\u001b[39;00m\u001b[39mconsumer\u001b[39;00m \u001b[39mimport\u001b[39;00m KafkaConsumer\n",
      "File \u001b[0;32m~/.local/lib/python3.10/site-packages/kafka/admin/__init__.py:4\u001b[0m\n\u001b[1;32m      1\u001b[0m \u001b[39mfrom\u001b[39;00m \u001b[39m__future__\u001b[39;00m \u001b[39mimport\u001b[39;00m absolute_import\n\u001b[1;32m      3\u001b[0m \u001b[39mfrom\u001b[39;00m \u001b[39mkafka\u001b[39;00m\u001b[39m.\u001b[39;00m\u001b[39madmin\u001b[39;00m\u001b[39m.\u001b[39;00m\u001b[39mconfig_resource\u001b[39;00m \u001b[39mimport\u001b[39;00m ConfigResource, ConfigResourceType\n\u001b[0;32m----> 4\u001b[0m \u001b[39mfrom\u001b[39;00m \u001b[39mkafka\u001b[39;00m\u001b[39m.\u001b[39;00m\u001b[39madmin\u001b[39;00m\u001b[39m.\u001b[39;00m\u001b[39mclient\u001b[39;00m \u001b[39mimport\u001b[39;00m KafkaAdminClient\n\u001b[1;32m      5\u001b[0m \u001b[39mfrom\u001b[39;00m \u001b[39mkafka\u001b[39;00m\u001b[39m.\u001b[39;00m\u001b[39madmin\u001b[39;00m\u001b[39m.\u001b[39;00m\u001b[39macl_resource\u001b[39;00m \u001b[39mimport\u001b[39;00m (ACL, ACLFilter, ResourcePattern, ResourcePatternFilter, ACLOperation,\n\u001b[1;32m      6\u001b[0m                                       ResourceType, ACLPermissionType, ACLResourcePatternType)\n\u001b[1;32m      7\u001b[0m \u001b[39mfrom\u001b[39;00m \u001b[39mkafka\u001b[39;00m\u001b[39m.\u001b[39;00m\u001b[39madmin\u001b[39;00m\u001b[39m.\u001b[39;00m\u001b[39mnew_topic\u001b[39;00m \u001b[39mimport\u001b[39;00m NewTopic\n",
      "File \u001b[0;32m~/.local/lib/python3.10/site-packages/kafka/admin/client.py:16\u001b[0m\n\u001b[1;32m     14\u001b[0m \u001b[39mfrom\u001b[39;00m \u001b[39mkafka\u001b[39;00m\u001b[39m.\u001b[39;00m\u001b[39mcoordinator\u001b[39;00m\u001b[39m.\u001b[39;00m\u001b[39mprotocol\u001b[39;00m \u001b[39mimport\u001b[39;00m ConsumerProtocolMemberMetadata, ConsumerProtocolMemberAssignment, ConsumerProtocol\n\u001b[1;32m     15\u001b[0m \u001b[39mimport\u001b[39;00m \u001b[39mkafka\u001b[39;00m\u001b[39m.\u001b[39;00m\u001b[39merrors\u001b[39;00m \u001b[39mas\u001b[39;00m \u001b[39mErrors\u001b[39;00m\n\u001b[0;32m---> 16\u001b[0m \u001b[39mfrom\u001b[39;00m \u001b[39mkafka\u001b[39;00m\u001b[39m.\u001b[39;00m\u001b[39merrors\u001b[39;00m \u001b[39mimport\u001b[39;00m (\n\u001b[1;32m     17\u001b[0m     IncompatibleBrokerVersion, KafkaConfigurationError, NotControllerError,\n\u001b[1;32m     18\u001b[0m     UnrecognizedBrokerVersion, IllegalArgumentError)\n\u001b[1;32m     19\u001b[0m \u001b[39mfrom\u001b[39;00m \u001b[39mkafka\u001b[39;00m\u001b[39m.\u001b[39;00m\u001b[39mmetrics\u001b[39;00m \u001b[39mimport\u001b[39;00m MetricConfig, Metrics\n\u001b[1;32m     20\u001b[0m \u001b[39mfrom\u001b[39;00m \u001b[39mkafka\u001b[39;00m\u001b[39m.\u001b[39;00m\u001b[39mprotocol\u001b[39;00m\u001b[39m.\u001b[39;00m\u001b[39madmin\u001b[39;00m \u001b[39mimport\u001b[39;00m (\n\u001b[1;32m     21\u001b[0m     CreateTopicsRequest, DeleteTopicsRequest, DescribeConfigsRequest, AlterConfigsRequest, CreatePartitionsRequest,\n\u001b[1;32m     22\u001b[0m     ListGroupsRequest, DescribeGroupsRequest, DescribeAclsRequest, CreateAclsRequest, DeleteAclsRequest,\n\u001b[1;32m     23\u001b[0m     DeleteGroupsRequest\n\u001b[1;32m     24\u001b[0m )\n",
      "\u001b[0;31mImportError\u001b[0m: cannot import name 'IncompatibleBrokerVersion' from 'kafka.errors' (/home/abdul/.local/lib/python3.10/site-packages/kafka/errors.py)"
     ]
    }
   ],
   "source": [
    "from kafka import KafkaProducer\n",
    "\n",
    "# kafa producer on local host\n",
    "producer = KafkaProducer(bootstrap_servers=['localhost:9092'])"
   ]
  },
  {
   "cell_type": "code",
   "execution_count": null,
   "metadata": {},
   "outputs": [],
   "source": []
  }
 ],
 "metadata": {
  "kernelspec": {
   "display_name": "Python 3",
   "language": "python",
   "name": "python3"
  },
  "language_info": {
   "codemirror_mode": {
    "name": "ipython",
    "version": 3
   },
   "file_extension": ".py",
   "mimetype": "text/x-python",
   "name": "python",
   "nbconvert_exporter": "python",
   "pygments_lexer": "ipython3",
   "version": "3.10.4"
  },
  "vscode": {
   "interpreter": {
    "hash": "916dbcbb3f70747c44a77c7bcd40155683ae19c65e1c03b4aa3499c5328201f1"
   }
  }
 },
 "nbformat": 4,
 "nbformat_minor": 2
}
