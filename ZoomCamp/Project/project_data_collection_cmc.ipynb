{
 "cells": [
  {
   "cell_type": "markdown",
   "id": "8d0d223f",
   "metadata": {},
   "source": [
    "# CMC Data Collection"
   ]
  },
  {
   "cell_type": "code",
   "execution_count": 2,
   "id": "68779d5c",
   "metadata": {},
   "outputs": [],
   "source": [
    "import pandas as pd\n",
    "import os\n",
    "import datetime as datetime\n",
    "\n",
    "from requests import Request, Session\n",
    "from requests.exceptions import ConnectionError, Timeout, TooManyRedirects\n",
    "import json"
   ]
  },
  {
   "cell_type": "markdown",
   "id": "dc548a8c",
   "metadata": {},
   "source": [
    "**CMC API DATA**"
   ]
  },
  {
   "cell_type": "code",
   "execution_count": 3,
   "id": "520930fd",
   "metadata": {},
   "outputs": [],
   "source": [
    "api_key = os.environ.get(\"MY_API_KEY\")\n",
    "api_key = \"d46ce64b-a724-4e6e-a7f7-4d4a704093ac\""
   ]
  },
  {
   "cell_type": "code",
   "execution_count": 4,
   "id": "f2d9dc01",
   "metadata": {},
   "outputs": [],
   "source": [
    "def cmc_api(url):\n",
    "    parameters = {\n",
    "      'start':'1',\n",
    "      'limit':'5000',\n",
    "      'convert':'USD'\n",
    "    }\n",
    "    headers = {\n",
    "      'Accepts': 'application/json',\n",
    "      'X-CMC_PRO_API_KEY': api_key,\n",
    "    }\n",
    "\n",
    "    session = Session()\n",
    "    session.headers.update(headers)\n",
    "\n",
    "    try:\n",
    "        response = session.get(url, params=parameters)\n",
    "        data = json.loads(response.text)\n",
    "    except (ConnectionError, Timeout, TooManyRedirects) as e:\n",
    "        print(e)\n",
    "        \n",
    "    # normalize json file into pd\n",
    "    df = pd.json_normalize(data['data'])\n",
    "\n",
    "    # put data into df\n",
    "    df['timestamp'] = pd.to_datetime('now')\n",
    "\n",
    "    return df"
   ]
  },
  {
   "cell_type": "code",
   "execution_count": 5,
   "id": "886df284",
   "metadata": {},
   "outputs": [],
   "source": [
    "# top 5000 coins listed  on cmc\n",
    "latest_listings = cmc_api('https://pro-api.coinmarketcap.com/v1/cryptocurrency/listings/latest')"
   ]
  },
  {
   "cell_type": "code",
   "execution_count": 6,
   "id": "f2b8f438",
   "metadata": {},
   "outputs": [
    {
     "data": {
      "text/plain": [
       "Index(['id', 'name', 'symbol', 'slug', 'num_market_pairs', 'date_added',\n",
       "       'tags', 'max_supply', 'circulating_supply', 'total_supply', 'platform',\n",
       "       'cmc_rank', 'self_reported_circulating_supply',\n",
       "       'self_reported_market_cap', 'tvl_ratio', 'last_updated',\n",
       "       'quote.USD.price', 'quote.USD.volume_24h',\n",
       "       'quote.USD.volume_change_24h', 'quote.USD.percent_change_1h',\n",
       "       'quote.USD.percent_change_24h', 'quote.USD.percent_change_7d',\n",
       "       'quote.USD.percent_change_30d', 'quote.USD.percent_change_60d',\n",
       "       'quote.USD.percent_change_90d', 'quote.USD.market_cap',\n",
       "       'quote.USD.market_cap_dominance', 'quote.USD.fully_diluted_market_cap',\n",
       "       'quote.USD.tvl', 'quote.USD.last_updated', 'platform.id',\n",
       "       'platform.name', 'platform.symbol', 'platform.slug',\n",
       "       'platform.token_address', 'timestamp'],\n",
       "      dtype='object')"
      ]
     },
     "execution_count": 6,
     "metadata": {},
     "output_type": "execute_result"
    }
   ],
   "source": [
    "latest_listings.columns"
   ]
  },
  {
   "cell_type": "code",
   "execution_count": 7,
   "id": "e4c41557",
   "metadata": {},
   "outputs": [
    {
     "data": {
      "text/html": [
       "<div>\n",
       "<style scoped>\n",
       "    .dataframe tbody tr th:only-of-type {\n",
       "        vertical-align: middle;\n",
       "    }\n",
       "\n",
       "    .dataframe tbody tr th {\n",
       "        vertical-align: top;\n",
       "    }\n",
       "\n",
       "    .dataframe thead th {\n",
       "        text-align: right;\n",
       "    }\n",
       "</style>\n",
       "<table border=\"1\" class=\"dataframe\">\n",
       "  <thead>\n",
       "    <tr style=\"text-align: right;\">\n",
       "      <th></th>\n",
       "      <th>id</th>\n",
       "      <th>name</th>\n",
       "      <th>symbol</th>\n",
       "      <th>slug</th>\n",
       "      <th>num_market_pairs</th>\n",
       "      <th>date_added</th>\n",
       "      <th>tags</th>\n",
       "      <th>max_supply</th>\n",
       "      <th>circulating_supply</th>\n",
       "      <th>total_supply</th>\n",
       "      <th>platform</th>\n",
       "      <th>cmc_rank</th>\n",
       "      <th>self_reported_circulating_supply</th>\n",
       "      <th>self_reported_market_cap</th>\n",
       "      <th>tvl_ratio</th>\n",
       "      <th>last_updated</th>\n",
       "      <th>quote.USD.price</th>\n",
       "      <th>quote.USD.volume_24h</th>\n",
       "      <th>quote.USD.volume_change_24h</th>\n",
       "      <th>quote.USD.percent_change_1h</th>\n",
       "      <th>quote.USD.percent_change_24h</th>\n",
       "      <th>quote.USD.percent_change_7d</th>\n",
       "      <th>quote.USD.percent_change_30d</th>\n",
       "      <th>quote.USD.percent_change_60d</th>\n",
       "      <th>quote.USD.percent_change_90d</th>\n",
       "      <th>quote.USD.market_cap</th>\n",
       "      <th>quote.USD.market_cap_dominance</th>\n",
       "      <th>quote.USD.fully_diluted_market_cap</th>\n",
       "      <th>quote.USD.tvl</th>\n",
       "      <th>quote.USD.last_updated</th>\n",
       "      <th>platform.id</th>\n",
       "      <th>platform.name</th>\n",
       "      <th>platform.symbol</th>\n",
       "      <th>platform.slug</th>\n",
       "      <th>platform.token_address</th>\n",
       "      <th>timestamp</th>\n",
       "    </tr>\n",
       "  </thead>\n",
       "  <tbody>\n",
       "    <tr>\n",
       "      <th>0</th>\n",
       "      <td>1</td>\n",
       "      <td>Bitcoin</td>\n",
       "      <td>BTC</td>\n",
       "      <td>bitcoin</td>\n",
       "      <td>9722</td>\n",
       "      <td>2013-04-28T00:00:00.000Z</td>\n",
       "      <td>[mineable, pow, sha-256, store-of-value, state...</td>\n",
       "      <td>21000000.0</td>\n",
       "      <td>19142068.0</td>\n",
       "      <td>19142068.0</td>\n",
       "      <td>NaN</td>\n",
       "      <td>1</td>\n",
       "      <td>NaN</td>\n",
       "      <td>NaN</td>\n",
       "      <td>NaN</td>\n",
       "      <td>2022-09-05T13:05:00.000Z</td>\n",
       "      <td>19736.035626</td>\n",
       "      <td>2.757727e+10</td>\n",
       "      <td>14.2138</td>\n",
       "      <td>0.129165</td>\n",
       "      <td>-0.684142</td>\n",
       "      <td>-0.920533</td>\n",
       "      <td>-14.892028</td>\n",
       "      <td>-3.408092</td>\n",
       "      <td>-33.081996</td>\n",
       "      <td>3.777885e+11</td>\n",
       "      <td>38.7344</td>\n",
       "      <td>4.144567e+11</td>\n",
       "      <td>NaN</td>\n",
       "      <td>2022-09-05T13:05:00.000Z</td>\n",
       "      <td>NaN</td>\n",
       "      <td>NaN</td>\n",
       "      <td>NaN</td>\n",
       "      <td>NaN</td>\n",
       "      <td>NaN</td>\n",
       "      <td>2022-09-05 13:08:29.576031</td>\n",
       "    </tr>\n",
       "  </tbody>\n",
       "</table>\n",
       "</div>"
      ],
      "text/plain": [
       "   id     name symbol     slug  num_market_pairs                date_added  \\\n",
       "0   1  Bitcoin    BTC  bitcoin              9722  2013-04-28T00:00:00.000Z   \n",
       "\n",
       "                                                tags  max_supply  \\\n",
       "0  [mineable, pow, sha-256, store-of-value, state...  21000000.0   \n",
       "\n",
       "   circulating_supply  total_supply  platform  cmc_rank  \\\n",
       "0          19142068.0    19142068.0       NaN         1   \n",
       "\n",
       "   self_reported_circulating_supply  self_reported_market_cap  tvl_ratio  \\\n",
       "0                               NaN                       NaN        NaN   \n",
       "\n",
       "               last_updated  quote.USD.price  quote.USD.volume_24h  \\\n",
       "0  2022-09-05T13:05:00.000Z     19736.035626          2.757727e+10   \n",
       "\n",
       "   quote.USD.volume_change_24h  quote.USD.percent_change_1h  \\\n",
       "0                      14.2138                     0.129165   \n",
       "\n",
       "   quote.USD.percent_change_24h  quote.USD.percent_change_7d  \\\n",
       "0                     -0.684142                    -0.920533   \n",
       "\n",
       "   quote.USD.percent_change_30d  quote.USD.percent_change_60d  \\\n",
       "0                    -14.892028                     -3.408092   \n",
       "\n",
       "   quote.USD.percent_change_90d  quote.USD.market_cap  \\\n",
       "0                    -33.081996          3.777885e+11   \n",
       "\n",
       "   quote.USD.market_cap_dominance  quote.USD.fully_diluted_market_cap  \\\n",
       "0                         38.7344                        4.144567e+11   \n",
       "\n",
       "   quote.USD.tvl    quote.USD.last_updated  platform.id platform.name  \\\n",
       "0            NaN  2022-09-05T13:05:00.000Z          NaN           NaN   \n",
       "\n",
       "  platform.symbol platform.slug platform.token_address  \\\n",
       "0             NaN           NaN                    NaN   \n",
       "\n",
       "                   timestamp  \n",
       "0 2022-09-05 13:08:29.576031  "
      ]
     },
     "execution_count": 7,
     "metadata": {},
     "output_type": "execute_result"
    }
   ],
   "source": [
    "pd.set_option('display.max_columns', 5000)\n",
    "pd.set_option('display.max_rows', 5000)\n",
    "latest_listings.head(1)"
   ]
  },
  {
   "cell_type": "code",
   "execution_count": 8,
   "id": "373f7fa5",
   "metadata": {},
   "outputs": [],
   "source": [
    "useful_columns = ['id', 'name', 'symbol', 'slug', 'num_market_pairs', 'date_added',\n",
    "       'max_supply', 'circulating_supply', 'total_supply','cmc_rank', 'last_updated',\n",
    "       'quote.USD.price', 'quote.USD.volume_24h','quote.USD.volume_change_24h', \n",
    "       'quote.USD.percent_change_1h', 'quote.USD.percent_change_24h', 'quote.USD.percent_change_7d',\n",
    "       'quote.USD.percent_change_30d', 'quote.USD.percent_change_60d','quote.USD.percent_change_90d', \n",
    "       'quote.USD.market_cap', 'quote.USD.market_cap_dominance', 'quote.USD.fully_diluted_market_cap', 'timestamp']"
   ]
  },
  {
   "cell_type": "code",
   "execution_count": 9,
   "id": "ffc46669",
   "metadata": {},
   "outputs": [],
   "source": [
    "df = latest_listings[useful_columns]"
   ]
  },
  {
   "cell_type": "code",
   "execution_count": 10,
   "id": "a614897e",
   "metadata": {},
   "outputs": [],
   "source": [
    "# rename columns\n",
    "for col in useful_columns:\n",
    "    if 'quote' in col:\n",
    "        new_col = col.split('.')[-1]\n",
    "        df = df.rename(columns={col:new_col})"
   ]
  },
  {
   "cell_type": "code",
   "execution_count": 11,
   "id": "85c20a88",
   "metadata": {},
   "outputs": [
    {
     "data": {
      "text/plain": [
       "Index(['id', 'name', 'symbol', 'slug', 'num_market_pairs', 'date_added',\n",
       "       'max_supply', 'circulating_supply', 'total_supply', 'cmc_rank',\n",
       "       'last_updated', 'price', 'volume_24h', 'volume_change_24h',\n",
       "       'percent_change_1h', 'percent_change_24h', 'percent_change_7d',\n",
       "       'percent_change_30d', 'percent_change_60d', 'percent_change_90d',\n",
       "       'market_cap', 'market_cap_dominance', 'fully_diluted_market_cap',\n",
       "       'timestamp'],\n",
       "      dtype='object')"
      ]
     },
     "execution_count": 11,
     "metadata": {},
     "output_type": "execute_result"
    }
   ],
   "source": [
    "df.columns"
   ]
  },
  {
   "cell_type": "code",
   "execution_count": 12,
   "id": "f5253e4c",
   "metadata": {},
   "outputs": [],
   "source": [
    "df.to_parquet('data/output.parquet')"
   ]
  },
  {
   "cell_type": "markdown",
   "id": "4e638f74",
   "metadata": {},
   "source": [
    "**MORE CMC DATA USING BS4**"
   ]
  },
  {
   "cell_type": "code",
   "execution_count": 13,
   "id": "765d4647",
   "metadata": {},
   "outputs": [],
   "source": [
    "from bs4 import BeautifulSoup\n",
    "import requests"
   ]
  },
  {
   "cell_type": "code",
   "execution_count": 14,
   "id": "5a9653f5",
   "metadata": {},
   "outputs": [],
   "source": [
    "# trending (30 coins)\n",
    "url = 'https://coinmarketcap.com/trending-cryptocurrencies/'\n",
    "website = requests.get(url).content\n",
    "soup = BeautifulSoup(website, 'lxml')\n",
    "\n",
    "trending = []\n",
    "ranks = list(range(1,31))\n",
    "\n",
    "for coin in soup.find_all(class_='sc-1eb5slv-0 gGIpIK coin-item-symbol'):\n",
    "    trending.append(coin.text)\n",
    "\n",
    "zip_list = zip(ranks, trending)\n",
    "trending_coins = list(zip_list)\n",
    "trending_coins = pd.DataFrame(trending_coins, columns=['rank', 'symbol'])\n",
    "trending_coins.to_parquet('data/trending.parquet')"
   ]
  },
  {
   "cell_type": "markdown",
   "id": "51fe5857",
   "metadata": {},
   "source": [
    "## Transformations using Spark"
   ]
  },
  {
   "cell_type": "code",
   "execution_count": 94,
   "id": "bae276c7",
   "metadata": {},
   "outputs": [
    {
     "data": {
      "text/plain": [
       "'C:\\\\Users\\\\Abdulkadir\\\\anaconda3'"
      ]
     },
     "execution_count": 94,
     "metadata": {},
     "output_type": "execute_result"
    }
   ],
   "source": [
    "# run it on azure but for now run it locally\n",
    "import sys\n",
    "\n",
    "# have my file path set to python not anaconda\n",
    "os.environ['PYSPARK_PYTHON'] = sys.executable\n",
    "os.environ['PYSPARK_DRIVER_PYTHON'] = sys.executable\n",
    "os.path.dirname(sys.executable)"
   ]
  },
  {
   "cell_type": "code",
   "execution_count": 95,
   "id": "d8390bf8",
   "metadata": {},
   "outputs": [],
   "source": [
    "import pyspark\n",
    "from pyspark.sql import SparkSession"
   ]
  },
  {
   "cell_type": "code",
   "execution_count": 96,
   "id": "dcc21f03",
   "metadata": {},
   "outputs": [],
   "source": [
    "spark = SparkSession.builder \\\n",
    ".master(\"local[*]\") \\\n",
    ".appName('project').getOrCreate()"
   ]
  },
  {
   "cell_type": "code",
   "execution_count": 97,
   "id": "a9d3aac7",
   "metadata": {},
   "outputs": [],
   "source": [
    "df = spark.read.parquet('data/output.parquet', header=True, inferSchema=True)"
   ]
  },
  {
   "cell_type": "code",
   "execution_count": 98,
   "id": "4438d6c9",
   "metadata": {},
   "outputs": [
    {
     "name": "stdout",
     "output_type": "stream",
     "text": [
      "root\n",
      " |-- id: long (nullable = true)\n",
      " |-- name: string (nullable = true)\n",
      " |-- symbol: string (nullable = true)\n",
      " |-- slug: string (nullable = true)\n",
      " |-- num_market_pairs: long (nullable = true)\n",
      " |-- date_added: string (nullable = true)\n",
      " |-- max_supply: double (nullable = true)\n",
      " |-- circulating_supply: double (nullable = true)\n",
      " |-- total_supply: double (nullable = true)\n",
      " |-- cmc_rank: long (nullable = true)\n",
      " |-- last_updated: string (nullable = true)\n",
      " |-- price: double (nullable = true)\n",
      " |-- volume_24h: double (nullable = true)\n",
      " |-- volume_change_24h: double (nullable = true)\n",
      " |-- percent_change_1h: double (nullable = true)\n",
      " |-- percent_change_24h: double (nullable = true)\n",
      " |-- percent_change_7d: double (nullable = true)\n",
      " |-- percent_change_30d: double (nullable = true)\n",
      " |-- percent_change_60d: double (nullable = true)\n",
      " |-- percent_change_90d: double (nullable = true)\n",
      " |-- market_cap: double (nullable = true)\n",
      " |-- market_cap_dominance: double (nullable = true)\n",
      " |-- fully_diluted_market_cap: double (nullable = true)\n",
      " |-- timestamp: timestamp (nullable = true)\n",
      "\n"
     ]
    }
   ],
   "source": [
    "df.printSchema()"
   ]
  },
  {
   "cell_type": "code",
   "execution_count": 99,
   "id": "558d34b5",
   "metadata": {},
   "outputs": [],
   "source": [
    "df = df.repartition(24)\n",
    "df.write.parquet('data/raw/', mode='overwrite')"
   ]
  },
  {
   "cell_type": "code",
   "execution_count": 100,
   "id": "e17fb93e",
   "metadata": {},
   "outputs": [],
   "source": [
    "df = spark.read.parquet('raw/*', header=True, inferSchema=True)\n",
    "df.createOrReplaceTempView('cmc_data')"
   ]
  },
  {
   "cell_type": "markdown",
   "id": "2041be55",
   "metadata": {},
   "source": [
    "### TOP RANKED COINS"
   ]
  },
  {
   "cell_type": "code",
   "execution_count": 117,
   "id": "6ee59c03",
   "metadata": {},
   "outputs": [
    {
     "name": "stdout",
     "output_type": "stream",
     "text": [
      "+------+----------------+--------------------+\n",
      "|symbol|            name|          market_cap|\n",
      "+------+----------------+--------------------+\n",
      "|   BTC|         Bitcoin|3.805906364441949...|\n",
      "|   ETH|        Ethereum|1.914939002048660...|\n",
      "|  USDT|          Tether|6.755486005050185E10|\n",
      "|  USDC|        USD Coin|5.187410094306044E10|\n",
      "|   BNB|             BNB|4.482078903879888E10|\n",
      "|  BUSD|     Binance USD|1.943410062155310...|\n",
      "|   ADA|         Cardano|1.709537568886378...|\n",
      "|   XRP|             XRP|1.642197102232885...|\n",
      "|   SOL|          Solana|1.109399510106651...|\n",
      "|  DOGE|        Dogecoin| 8.378473784006645E9|\n",
      "|   DOT|        Polkadot| 8.096435092846563E9|\n",
      "| MATIC|         Polygon| 7.768500583922788E9|\n",
      "|  SHIB|       Shiba Inu| 7.018334441082997E9|\n",
      "|   DAI|             Dai| 6.906040799139284E9|\n",
      "|   TRX|            TRON|  5.86477209162805E9|\n",
      "|  AVAX|       Avalanche| 5.582471428717998E9|\n",
      "|   LEO|    UNUS SED LEO| 4.941050865668064E9|\n",
      "|  WBTC| Wrapped Bitcoin| 4.931017581407625E9|\n",
      "|   UNI|         Uniswap|  4.82702139009217E9|\n",
      "|   ETC|Ethereum Classic| 4.420727960732947E9|\n",
      "+------+----------------+--------------------+\n",
      "only showing top 20 rows\n",
      "\n"
     ]
    }
   ],
   "source": [
    "spark.sql(\n",
    "\"\"\"\n",
    "    SELECT \n",
    "        symbol,\n",
    "        name, \n",
    "        market_cap\n",
    "    FROM \n",
    "        cmc_data\n",
    "    ORDER BY\n",
    "        cmc_rank \n",
    "    \"\"\"\n",
    ").show()"
   ]
  },
  {
   "cell_type": "markdown",
   "id": "634bc192",
   "metadata": {},
   "source": [
    "### PRICE FLUCTUATION OF TOP CRYPTOS"
   ]
  },
  {
   "cell_type": "code",
   "execution_count": 128,
   "id": "88d96da3",
   "metadata": {
    "scrolled": false
   },
   "outputs": [
    {
     "data": {
      "text/plain": [
       "DataFrame[symbol: string, name: string, price: double, percent_change_1h: double, percent_change_24h: double, percent_change_7d: double, percent_change_30d: double, percent_change_60d: double, percent_change_90d: double]"
      ]
     },
     "execution_count": 128,
     "metadata": {},
     "output_type": "execute_result"
    }
   ],
   "source": [
    "spark.sql(\n",
    "\"\"\"\n",
    "    SELECT \n",
    "        symbol,\n",
    "        name, \n",
    "        price,\n",
    "        percent_change_1h,\n",
    "        percent_change_24h,\n",
    "        percent_change_7d,\n",
    "        percent_change_30d,\n",
    "        percent_change_60d,\n",
    "        percent_change_90d\n",
    "    FROM \n",
    "        cmc_data\n",
    "    ORDER BY\n",
    "        cmc_rank \n",
    "    \"\"\"\n",
    ")"
   ]
  },
  {
   "cell_type": "markdown",
   "id": "2cdb766f",
   "metadata": {},
   "source": [
    "### BEST PERFORMING COINS IN THE LAST 90 DAYS WITH AT LEAST 1B MC"
   ]
  },
  {
   "cell_type": "code",
   "execution_count": 132,
   "id": "2a01c476",
   "metadata": {},
   "outputs": [
    {
     "name": "stdout",
     "output_type": "stream",
     "text": [
      "+------+----------------+--------------------+------------------+\n",
      "|symbol|            name|               price|percent_change_90d|\n",
      "+------+----------------+--------------------+------------------+\n",
      "|  LUNC|   Terra Classic|2.399075135355797...|      194.88914734|\n",
      "|   CHZ|          Chiliz|  0.2118642317375147|       65.84961719|\n",
      "|   ETC|Ethereum Classic|   32.34002726370627|       46.02605671|\n",
      "|   QNT|           Quant|   95.35640934564094|       44.10979602|\n",
      "| MATIC|         Polygon|   0.894769523419626|       43.42803672|\n",
      "|  ATOM|          Cosmos|  12.788097843341825|       37.06566737|\n",
      "|   UNI|         Uniswap|   6.471736767635462|       22.50008665|\n",
      "|  SHIB|       Shiba Inu|1.278237811759426...|        17.1303943|\n",
      "|   EOS|             EOS|  1.4860804504613887|       14.90514186|\n",
      "|   TON|         Toncoin|   1.473846480861599|       13.31421436|\n",
      "|   BIT|          BitDAO|   0.630423018370809|        9.68925969|\n",
      "|   LEO|    UNUS SED LEO|   5.179547643101104|        2.92137599|\n",
      "|  YOUC|         yOUcash|  0.5114337343841884|        2.25284855|\n",
      "|  FRAX|            Frax|  1.0005794706940985|        0.34705547|\n",
      "|  USDT|          Tether|  1.0000659647715846|        0.07042806|\n",
      "|   DAI|             Dai|  1.0000863568350948|         0.0207025|\n",
      "|  USDC|        USD Coin|  0.9999594030196143|          0.011627|\n",
      "|  BUSD|     Binance USD|  1.0000451004998463|        -0.0184577|\n",
      "|  TUSD|         TrueUSD|  0.9997948308979107|       -0.07379258|\n",
      "|   FTT|       FTX Token|     26.270238566597|       -2.91058015|\n",
      "+------+----------------+--------------------+------------------+\n",
      "only showing top 20 rows\n",
      "\n"
     ]
    }
   ],
   "source": [
    "spark.sql(\n",
    "\"\"\"\n",
    "    SELECT \n",
    "        symbol,\n",
    "        name, \n",
    "        price,\n",
    "        percent_change_90d\n",
    "    FROM \n",
    "        cmc_data\n",
    "    WHERE \n",
    "        market_cap > 1000000000\n",
    "    ORDER BY\n",
    "        percent_change_90d DESC \n",
    "    \"\"\"\n",
    ").show()"
   ]
  },
  {
   "cell_type": "markdown",
   "id": "d1ed54c8",
   "metadata": {},
   "source": [
    "### PRICE"
   ]
  },
  {
   "cell_type": "code",
   "execution_count": 135,
   "id": "11bee669",
   "metadata": {},
   "outputs": [
    {
     "name": "stdout",
     "output_type": "stream",
     "text": [
      "+------+----------------+--------------------+\n",
      "|symbol|            name|               price|\n",
      "+------+----------------+--------------------+\n",
      "|   BTC|         Bitcoin|  19883.185575976662|\n",
      "|   ETH|        Ethereum|  1566.5482625927207|\n",
      "|  USDT|          Tether|  1.0000659647715846|\n",
      "|  USDC|        USD Coin|  0.9999594030196143|\n",
      "|   BNB|             BNB|   277.8080446884254|\n",
      "|  BUSD|     Binance USD|  1.0000451004998463|\n",
      "|   ADA|         Cardano|  0.5001273654825863|\n",
      "|   XRP|             XRP|  0.3307780718316204|\n",
      "|   SOL|          Solana|   31.71163822893916|\n",
      "|  DOGE|        Dogecoin| 0.06315237443772934|\n",
      "|   DOT|        Polkadot|   7.270472559852171|\n",
      "| MATIC|         Polygon|   0.894769523419626|\n",
      "|  SHIB|       Shiba Inu|1.278237811759426...|\n",
      "|   DAI|             Dai|  1.0000863568350948|\n",
      "|   TRX|            TRON| 0.06348611107785139|\n",
      "|  AVAX|       Avalanche|  18.956469819450298|\n",
      "|   LEO|    UNUS SED LEO|   5.179547643101104|\n",
      "|  WBTC| Wrapped Bitcoin|  19878.358290412696|\n",
      "|   UNI|         Uniswap|   6.471736767635462|\n",
      "|   ETC|Ethereum Classic|   32.34002726370627|\n",
      "+------+----------------+--------------------+\n",
      "only showing top 20 rows\n",
      "\n"
     ]
    }
   ],
   "source": [
    "spark.sql(\n",
    "\"\"\"\n",
    "    SELECT \n",
    "        symbol,\n",
    "        name, \n",
    "        price\n",
    "    FROM \n",
    "        cmc_data\n",
    "    ORDER BY\n",
    "        cmc_rank\n",
    "    \"\"\"\n",
    ").show()"
   ]
  },
  {
   "cell_type": "markdown",
   "id": "e773350f",
   "metadata": {},
   "source": [
    "### TOP GAINERS (Vol > 50000USD & Rank < 100) ON CMC"
   ]
  },
  {
   "cell_type": "code",
   "execution_count": 146,
   "id": "172c3ba5",
   "metadata": {},
   "outputs": [
    {
     "name": "stdout",
     "output_type": "stream",
     "text": [
      "+------+--------------------+------------------+\n",
      "|symbol|                name|percent_change_24h|\n",
      "+------+--------------------+------------------+\n",
      "|   RVN|           Ravencoin|        28.9196728|\n",
      "|  ANKR|                Ankr|        5.48881997|\n",
      "|  LINK|           Chainlink|        5.22336399|\n",
      "|   KSM|              Kusama|        4.97553894|\n",
      "|  SAND|         The Sandbox|        4.16581293|\n",
      "|  SHIB|           Shiba Inu|        4.08841562|\n",
      "|   VET|             VeChain|        3.95098481|\n",
      "| MIOTA|                IOTA|        3.81880969|\n",
      "|   LRC|            Loopring|        3.72841622|\n",
      "|   ADA|             Cardano|        3.65592751|\n",
      "|   BAT|Basic Attention T...|        3.56960804|\n",
      "|   NEO|                 Neo|        3.40138545|\n",
      "|   GMT|               STEPN|        3.18055867|\n",
      "|  MANA|        Decentraland|        3.17400425|\n",
      "|   HOT|                Holo|        2.82774424|\n",
      "|   ENJ|          Enjin Coin|         2.7368382|\n",
      "|   UNI|             Uniswap|        2.66229856|\n",
      "|   QNT|               Quant|        2.65761708|\n",
      "|   XTZ|               Tezos|        2.43353904|\n",
      "|   ZEC|               Zcash|        2.38113682|\n",
      "+------+--------------------+------------------+\n",
      "only showing top 20 rows\n",
      "\n"
     ]
    }
   ],
   "source": [
    "spark.sql(\n",
    "\"\"\"\n",
    "    SELECT \n",
    "        symbol,\n",
    "        name, \n",
    "        percent_change_24h\n",
    "    FROM \n",
    "        cmc_data\n",
    "    WHERE \n",
    "        volume_24h > 50000 AND cmc_rank <= 100\n",
    "    ORDER BY\n",
    "        percent_change_24h DESC\n",
    "    \"\"\"\n",
    ").show()"
   ]
  },
  {
   "cell_type": "markdown",
   "id": "faf6992c",
   "metadata": {},
   "source": [
    "### TOP LOSERS (Vol > 50000USD & Rank < 100) ON CMC\n"
   ]
  },
  {
   "cell_type": "code",
   "execution_count": 145,
   "id": "216aa879",
   "metadata": {},
   "outputs": [
    {
     "name": "stdout",
     "output_type": "stream",
     "text": [
      "+------+----------------+------------------+\n",
      "|symbol|            name|percent_change_24h|\n",
      "+------+----------------+------------------+\n",
      "|   AXS|   Axie Infinity|       -4.53596768|\n",
      "|   FIL|        Filecoin|       -3.66847451|\n",
      "|   YFI|   yearn.finance|       -2.98563186|\n",
      "|   EOS|             EOS|       -2.92437485|\n",
      "| 1INCH|   1inch Network|        -2.6218788|\n",
      "|   LTC|        Litecoin|       -2.56960339|\n",
      "|   CHZ|          Chiliz|       -1.68964785|\n",
      "|   LDO|        Lido DAO|       -1.60479661|\n",
      "|   CEL|         Celsius|       -1.09245306|\n",
      "|   LEO|    UNUS SED LEO|       -0.95029925|\n",
      "|   OKB|             OKB|       -0.68771638|\n",
      "|   XEC|           eCash|       -0.67905169|\n",
      "|   BCH|    Bitcoin Cash|       -0.63249372|\n",
      "|    AR|         Arweave|        -0.3875203|\n",
      "|  EGLD|          Elrond|       -0.34233447|\n",
      "|   MKR|           Maker|       -0.29529886|\n",
      "|   DOT|        Polkadot|       -0.22912453|\n",
      "|   BTT|  BitTorrent-New|       -0.13332799|\n",
      "|  HBAR|          Hedera|       -0.11712464|\n",
      "|   ETC|Ethereum Classic|       -0.11033075|\n",
      "+------+----------------+------------------+\n",
      "only showing top 20 rows\n",
      "\n"
     ]
    }
   ],
   "source": [
    "spark.sql(\n",
    "\"\"\"\n",
    "    SELECT \n",
    "        symbol,\n",
    "        name, \n",
    "        percent_change_24h\n",
    "    FROM \n",
    "        cmc_data\n",
    "    WHERE \n",
    "        volume_24h > 50000 AND cmc_rank <= 100\n",
    "    ORDER BY\n",
    "        percent_change_24h ASC\n",
    "    \"\"\"\n",
    ").show()"
   ]
  },
  {
   "cell_type": "code",
   "execution_count": null,
   "id": "5c9449bb",
   "metadata": {},
   "outputs": [],
   "source": []
  }
 ],
 "metadata": {
  "kernelspec": {
   "display_name": "Python 3",
   "language": "python",
   "name": "python3"
  },
  "language_info": {
   "codemirror_mode": {
    "name": "ipython",
    "version": 3
   },
   "file_extension": ".py",
   "mimetype": "text/x-python",
   "name": "python",
   "nbconvert_exporter": "python",
   "pygments_lexer": "ipython3",
   "version": "3.9.13"
  },
  "vscode": {
   "interpreter": {
    "hash": "47522bcd6fb3c7f1153a388e6a10376d870d5641f7ee2cacec881af737952fcf"
   }
  }
 },
 "nbformat": 4,
 "nbformat_minor": 5
}
