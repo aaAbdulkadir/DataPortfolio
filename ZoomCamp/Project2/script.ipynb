{
 "cells": [
  {
   "cell_type": "markdown",
   "metadata": {},
   "source": [
    "- Can only pull 2 million tweets per month\n",
    "- roughly 66,666 tweets per day\n",
    "- roughly 2,777 tweets per hour\n",
    "- 46 tweets per minute"
   ]
  },
  {
   "cell_type": "markdown",
   "metadata": {},
   "source": [
    "https://developer.twitter.com/en/docs/twitter-api"
   ]
  },
  {
   "cell_type": "markdown",
   "metadata": {},
   "source": [
    "https://developer.twitter.com/apitools/query?query=LUk6UlQgTDplbiBjb3ZpZCBjb3JvbmE%3D\n",
    "https://github.com/shafiab/HashtagCashtag"
   ]
  },
  {
   "cell_type": "code",
   "execution_count": 34,
   "metadata": {},
   "outputs": [],
   "source": [
    "import os\n",
    "import tweepy\n",
    "import pandas as pd"
   ]
  },
  {
   "cell_type": "code",
   "execution_count": 2,
   "metadata": {},
   "outputs": [],
   "source": [
    "# API Keys\n",
    "TWITTER_KEY = os.environ.get(\"TWITTER_KEY\")\n",
    "TWITTER_SECRET_KEY = os.environ.get(\"TWITTER_SECRET_KEY\")\n",
    "TWITTER_BEARER_TOKEN = os.environ.get(\"TWITTER_BEARER_TOKEN\")\n",
    "TWITTER_ACCESS_TOKEN = os.environ.get(\"TWITTER_ACCESS_TOKEN\")\n",
    "TWITTER_ACCESS_TOKEN_SECRET = os.environ.get(\"TWITTER_ACCESS_TOKEN_SECRET\")\n",
    "TWITTER_CLIENT_ID = os.environ.get(\"TWITTER_CLIENT_ID\")\n",
    "TWITTER_CLIENT_SECRET = os.environ.get(\"TWITTER_CLIENT_SECRET\")"
   ]
  },
  {
   "cell_type": "code",
   "execution_count": 3,
   "metadata": {},
   "outputs": [],
   "source": [
    "client = tweepy.Client(\n",
    "    TWITTER_BEARER_TOKEN, \n",
    "    TWITTER_KEY, \n",
    "    TWITTER_SECRET_KEY, \n",
    "    TWITTER_ACCESS_TOKEN, \n",
    "    TWITTER_ACCESS_TOKEN_SECRET\n",
    "    )"
   ]
  },
  {
   "cell_type": "code",
   "execution_count": 4,
   "metadata": {},
   "outputs": [],
   "source": [
    "# queries and filters\n",
    "topic = 'coding'"
   ]
  },
  {
   "cell_type": "code",
   "execution_count": 5,
   "metadata": {},
   "outputs": [],
   "source": [
    "# gets the actual tweets with the specific conditions\n",
    "def response(topic):\n",
    "    # query by topic, that is not a retweet, in english and in the UK or US\n",
    "    query = f'{topic} -is:retweet lang:en'\n",
    "    return client.search_recent_tweets(query=query, max_results=10).data"
   ]
  },
  {
   "cell_type": "code",
   "execution_count": 6,
   "metadata": {},
   "outputs": [
    {
     "name": "stdout",
     "output_type": "stream",
     "text": [
      "@jackpo773 @cybersygh Yep. Young men, mostly, still have that hard coding that will push them into the gym or some other traditional manly pursuit. Chad &amp; MGTOW culture has been the savior for a lot of lost men.\n",
      "None\n",
      "1592508600601059328\n",
      "PLZ VOTE AND RT! I’m up for two Noonies Awards and today is the last day to vote!\n",
      "\n",
      "Search my name at this URL: https://t.co/8HGD3iyYLL\n",
      "\n",
      "Tyvm in advance! @hackernoon \n",
      " #tech #coding #algorithms #share #programming #ladderly #SoftwareDeveloper #code\n",
      "None\n",
      "1592508597803831296\n",
      "I am the Living Death.\n",
      "I am coding your hard drive now.\n",
      "Your FAT is destroyed and his copy is only in memory.\n",
      "None\n",
      "1592508421215223808\n",
      "Hire Professionals to handle your:-\n",
      "Essays\n",
      "OnlineExams\n",
      "#Fallclasses\n",
      "#Mathematics\n",
      "English\n",
      "#Programming\n",
      "#Law\n",
      "#Accounting\n",
      "#Projects\n",
      "Homework\n",
      "#Economics\n",
      "#Nursing\n",
      "Business\n",
      "#Music\n",
      "#Coding\n",
      "Calculus\n",
      "#Quizzes\n",
      "Psychology\n",
      "##Computerscience\n",
      "Test\n",
      "#Finance\n",
      "#SPSS\n",
      "None\n",
      "1592508383655235591\n",
      "Multi-Step Forms in Angular 12\n",
      "#angular #technology #android #webdesign #code #website #web #development #programming #coding #python #developer #java #software #webdevelopment #webdesigner #webdeveloper #javascript #programmer #html #coder\n",
      "https://t.co/NrEsRDsNBq\n",
      "None\n",
      "1592508241644224513\n",
      "Multi-Step Forms in Angular 12\n",
      "#angular #technology #android #webdesign #code #website #web #development #programming #coding #python #developer #java #software #webdevelopment #webdesigner #webdeveloper #javascript #programmer #html #coder\n",
      "https://t.co/cQpJCv33KH\n",
      "None\n",
      "1592508240176160768\n",
      "So many things going to push and continue to coding the features,give me some spare time...:(\n",
      "None\n",
      "1592508159079649282\n",
      "Stay up to date with the new, free coding resource from @digitallcharity including this forthcoming coding activity inspired by the @Lionesses success. Perfect for Year 6-8 pupils\n",
      "https://t.co/50TlSbfXwr\n",
      "#HourOfCode #CSEdWeek #coding https://t.co/sldkKH0xxT\n",
      "None\n",
      "1592508125491273729\n"
     ]
    }
   ],
   "source": [
    "\n",
    "for tweet in response(topic):\n",
    "    print(tweet.text)\n",
    "    print(tweet.created_at)\n",
    "    print(tweet.id)"
   ]
  },
  {
   "cell_type": "code",
   "execution_count": 7,
   "metadata": {},
   "outputs": [],
   "source": [
    "nba = []"
   ]
  },
  {
   "cell_type": "code",
   "execution_count": 28,
   "metadata": {},
   "outputs": [],
   "source": [
    "\n",
    "responses = client.search_recent_tweets(\n",
    "        query='nba -is:retweet -is:reply -is:quote lang:en',\n",
    "        tweet_fields=['created_at', 'public_metrics', 'text'], \n",
    "        user_fields=['username', 'public_metrics','location','description'],\n",
    "        expansions='author_id',\n",
    "        max_results=10\n",
    "        )"
   ]
  },
  {
   "cell_type": "code",
   "execution_count": 9,
   "metadata": {},
   "outputs": [],
   "source": [
    "for tweet in responses:\n",
    "    nba.append(tweet)"
   ]
  },
  {
   "cell_type": "code",
   "execution_count": 32,
   "metadata": {},
   "outputs": [],
   "source": [
    "user_dict = {}\n",
    "for user in responses.includes['users']:\n",
    "    user_dict[user.id] = {\n",
    "        'username': user.name,\n",
    "        'followers': user.public_metrics['followers_count'],\n",
    "        'tweets': user.public_metrics['tweet_count'],\n",
    "        'location': user.location\n",
    "        }"
   ]
  },
  {
   "cell_type": "code",
   "execution_count": 39,
   "metadata": {},
   "outputs": [
    {
     "data": {
      "text/plain": [
       "{1562650094151036936: {'username': '亚博/亚博体育/乐鱼体育/百家乐/pg电子/棋牌/德州扑克/幸运飞艇/三公/AG真人/BG真人/彩票',\n",
       "  'followers': 44,\n",
       "  'tweets': 2337,\n",
       "  'location': 'San Diego, CA'},\n",
       " 2309895487: {'username': 'CelebCritics.com',\n",
       "  'followers': 1847,\n",
       "  'tweets': 5339,\n",
       "  'location': None},\n",
       " 1349054607331389441: {'username': '北京 南京 海口 河源 台州 文登 武安 玉溪 朔州 北京 合肥',\n",
       "  'followers': 9,\n",
       "  'tweets': 10298,\n",
       "  'location': 'TengFei789'},\n",
       " 1563337269007699968: {'username': '亚博/亚博体育/乐鱼体育/百家乐/pg电子/棋牌/德州扑克/幸运飞艇/三公/AG真人/BG真人/彩票',\n",
       "  'followers': 31,\n",
       "  'tweets': 2360,\n",
       "  'location': 'Iraq'},\n",
       " 1558702223055638528: {'username': '亚博/开云/乐鱼/爱游戏/万博/亚美/火狐/欧宝/九州/百家乐/乐动/英皇/彩票/卡塔尔世界杯',\n",
       "  'followers': 0,\n",
       "  'tweets': 5668,\n",
       "  'location': '网址↑↑↑'},\n",
       " 1355191605230141441: {'username': '亚博/亚博体育/乐鱼体育/百家乐/pg电子/棋牌/德州扑克/幸运飞艇/三公/AG真人/BG真人/彩票',\n",
       "  'followers': 2,\n",
       "  'tweets': 5611,\n",
       "  'location': '官网地址→'},\n",
       " 1304263293914116096: {'username': '亚博/亚博体育/乐鱼体育/百家乐/pg电子/棋牌/德州扑克/幸运飞艇/三公/AG真人/BG真人/彩票',\n",
       "  'followers': 1,\n",
       "  'tweets': 5646,\n",
       "  'location': '官网地址→'},\n",
       " 1132252814736891909: {'username': '上海',\n",
       "  'followers': 0,\n",
       "  'tweets': 2180,\n",
       "  'location': '联系方式▲▲▲'},\n",
       " 1563015971224203275: {'username': '亚博/亚博体育/乐鱼体育/百家乐/pg电子/棋牌/德州扑克/幸运飞艇/三公/AG真人/BG真人/彩票',\n",
       "  'followers': 39,\n",
       "  'tweets': 2344,\n",
       "  'location': 'Brooklyn'},\n",
       " 1168737631171207168: {'username': '亚博/开云/乐鱼/爱游戏/万博/亚美/火狐/欧宝/九州/百家乐/乐动/英皇/彩票/卡塔尔世界杯',\n",
       "  'followers': 0,\n",
       "  'tweets': 2525,\n",
       "  'location': '网址↑↑↑'}}"
      ]
     },
     "execution_count": 39,
     "metadata": {},
     "output_type": "execute_result"
    }
   ],
   "source": [
    "user_dict"
   ]
  },
  {
   "cell_type": "code",
   "execution_count": 40,
   "metadata": {},
   "outputs": [
    {
     "data": {
      "text/plain": [
       "{'username': '亚博/亚博体育/乐鱼体育/百家乐/pg电子/棋牌/德州扑克/幸运飞艇/三公/AG真人/BG真人/彩票',\n",
       " 'followers': 44,\n",
       " 'tweets': 2337,\n",
       " 'location': 'San Diego, CA'}"
      ]
     },
     "execution_count": 40,
     "metadata": {},
     "output_type": "execute_result"
    }
   ],
   "source": [
    "user_dict[1562650094151036936]"
   ]
  },
  {
   "cell_type": "code",
   "execution_count": 41,
   "metadata": {},
   "outputs": [],
   "source": [
    "result = []\n",
    "for tweet in responses.data:\n",
    "    author_info = user_dict[tweet.author_id]\n",
    "    result.append(\n",
    "        {\n",
    "            'author_id': tweet.author_id,\n",
    "            'username': author_info['username'],\n",
    "            'author_followers': author_info['followers'],\n",
    "            'author_tweets': author_info['tweets'],\n",
    "            'author_location': author_info['location'],\n",
    "            'text': tweet.text,\n",
    "            'created_at': tweet.created_at,\n",
    "            'retweets': tweet.public_metrics['retweet_count'],\n",
    "            'replies': tweet.public_metrics['reply_count'],\n",
    "            'likes': tweet.public_metrics['like_count'],\n",
    "        }\n",
    "    )\n",
    "df = pd.DataFrame(result)"
   ]
  },
  {
   "cell_type": "code",
   "execution_count": 42,
   "metadata": {},
   "outputs": [
    {
     "data": {
      "text/html": [
       "<div>\n",
       "<style scoped>\n",
       "    .dataframe tbody tr th:only-of-type {\n",
       "        vertical-align: middle;\n",
       "    }\n",
       "\n",
       "    .dataframe tbody tr th {\n",
       "        vertical-align: top;\n",
       "    }\n",
       "\n",
       "    .dataframe thead th {\n",
       "        text-align: right;\n",
       "    }\n",
       "</style>\n",
       "<table border=\"1\" class=\"dataframe\">\n",
       "  <thead>\n",
       "    <tr style=\"text-align: right;\">\n",
       "      <th></th>\n",
       "      <th>author_id</th>\n",
       "      <th>username</th>\n",
       "      <th>author_followers</th>\n",
       "      <th>author_tweets</th>\n",
       "      <th>author_location</th>\n",
       "      <th>text</th>\n",
       "      <th>created_at</th>\n",
       "    </tr>\n",
       "  </thead>\n",
       "  <tbody>\n",
       "    <tr>\n",
       "      <th>0</th>\n",
       "      <td>1562650094151036936</td>\n",
       "      <td>亚博/亚博体育/乐鱼体育/百家乐/pg电子/棋牌/德州扑克/幸运飞艇/三公/AG真人/BG真...</td>\n",
       "      <td>44</td>\n",
       "      <td>2337</td>\n",
       "      <td>San Diego, CA</td>\n",
       "      <td>#乐鱼体育 #欧宝体育 #篮球 #八戒体育 #NBA #365体育  He had neve...</td>\n",
       "      <td>2022-11-15 18:07:54+00:00</td>\n",
       "    </tr>\n",
       "    <tr>\n",
       "      <th>1</th>\n",
       "      <td>2309895487</td>\n",
       "      <td>CelebCritics.com</td>\n",
       "      <td>1847</td>\n",
       "      <td>5339</td>\n",
       "      <td>None</td>\n",
       "      <td>Arnetta Yardbourgh: Ex-Girlfriend of NBA playe...</td>\n",
       "      <td>2022-11-15 18:07:54+00:00</td>\n",
       "    </tr>\n",
       "    <tr>\n",
       "      <th>2</th>\n",
       "      <td>1349054607331389441</td>\n",
       "      <td>北京 南京 海口 河源 台州 文登 武安 玉溪 朔州 北京 合肥</td>\n",
       "      <td>9</td>\n",
       "      <td>10298</td>\n",
       "      <td>TengFei789</td>\n",
       "      <td>Eve Cocker Murphy Lawrence #棋牌 Salome Geordie ...</td>\n",
       "      <td>2022-11-15 18:07:53+00:00</td>\n",
       "    </tr>\n",
       "    <tr>\n",
       "      <th>3</th>\n",
       "      <td>1563337269007699968</td>\n",
       "      <td>亚博/亚博体育/乐鱼体育/百家乐/pg电子/棋牌/德州扑克/幸运飞艇/三公/AG真人/BG真...</td>\n",
       "      <td>31</td>\n",
       "      <td>2360</td>\n",
       "      <td>Iraq</td>\n",
       "      <td>#乐鱼体育 #欧宝体育 #篮球 #八戒体育 #NBA #365体育  “What have ...</td>\n",
       "      <td>2022-11-15 18:07:50+00:00</td>\n",
       "    </tr>\n",
       "    <tr>\n",
       "      <th>4</th>\n",
       "      <td>1558702223055638528</td>\n",
       "      <td>亚博/开云/乐鱼/爱游戏/万博/亚美/火狐/欧宝/九州/百家乐/乐动/英皇/彩票/卡塔尔世界杯</td>\n",
       "      <td>0</td>\n",
       "      <td>5668</td>\n",
       "      <td>网址↑↑↑</td>\n",
       "      <td>Tiffany Ward Quinn Frances #博彩 Xanthe Brown Ka...</td>\n",
       "      <td>2022-11-15 18:07:49+00:00</td>\n",
       "    </tr>\n",
       "    <tr>\n",
       "      <th>5</th>\n",
       "      <td>1355191605230141441</td>\n",
       "      <td>亚博/亚博体育/乐鱼体育/百家乐/pg电子/棋牌/德州扑克/幸运飞艇/三公/AG真人/BG真...</td>\n",
       "      <td>2</td>\n",
       "      <td>5611</td>\n",
       "      <td>官网地址→</td>\n",
       "      <td>Cora Lewis Ward Tuttle Wallis Pound  #乐鱼体育 #欧宝...</td>\n",
       "      <td>2022-11-15 18:07:49+00:00</td>\n",
       "    </tr>\n",
       "    <tr>\n",
       "      <th>6</th>\n",
       "      <td>1304263293914116096</td>\n",
       "      <td>亚博/亚博体育/乐鱼体育/百家乐/pg电子/棋牌/德州扑克/幸运飞艇/三公/AG真人/BG真...</td>\n",
       "      <td>1</td>\n",
       "      <td>5646</td>\n",
       "      <td>官网地址→</td>\n",
       "      <td>Emma Eve Dinah Samuel Annabelle Taylor  #竞彩篮球 ...</td>\n",
       "      <td>2022-11-15 18:07:47+00:00</td>\n",
       "    </tr>\n",
       "    <tr>\n",
       "      <th>7</th>\n",
       "      <td>1132252814736891909</td>\n",
       "      <td>上海</td>\n",
       "      <td>0</td>\n",
       "      <td>2180</td>\n",
       "      <td>联系方式▲▲▲</td>\n",
       "      <td>Phoenix Hemingway Rita Nora #NFTs Bennett Arno...</td>\n",
       "      <td>2022-11-15 18:07:45+00:00</td>\n",
       "    </tr>\n",
       "    <tr>\n",
       "      <th>8</th>\n",
       "      <td>1563015971224203275</td>\n",
       "      <td>亚博/亚博体育/乐鱼体育/百家乐/pg电子/棋牌/德州扑克/幸运飞艇/三公/AG真人/BG真...</td>\n",
       "      <td>39</td>\n",
       "      <td>2344</td>\n",
       "      <td>Brooklyn</td>\n",
       "      <td>#乐鱼体育 #欧宝体育 #篮球 #八戒体育 #NBA #365体育  . Suddenly ...</td>\n",
       "      <td>2022-11-15 18:07:40+00:00</td>\n",
       "    </tr>\n",
       "    <tr>\n",
       "      <th>9</th>\n",
       "      <td>1168737631171207168</td>\n",
       "      <td>亚博/开云/乐鱼/爱游戏/万博/亚美/火狐/欧宝/九州/百家乐/乐动/英皇/彩票/卡塔尔世界杯</td>\n",
       "      <td>0</td>\n",
       "      <td>2525</td>\n",
       "      <td>网址↑↑↑</td>\n",
       "      <td>Alexander Snow Muriel Barrett #Airdrop Marshal...</td>\n",
       "      <td>2022-11-15 18:07:38+00:00</td>\n",
       "    </tr>\n",
       "  </tbody>\n",
       "</table>\n",
       "</div>"
      ],
      "text/plain": [
       "             author_id                                           username  \\\n",
       "0  1562650094151036936  亚博/亚博体育/乐鱼体育/百家乐/pg电子/棋牌/德州扑克/幸运飞艇/三公/AG真人/BG真...   \n",
       "1           2309895487                                   CelebCritics.com   \n",
       "2  1349054607331389441                   北京 南京 海口 河源 台州 文登 武安 玉溪 朔州 北京 合肥   \n",
       "3  1563337269007699968  亚博/亚博体育/乐鱼体育/百家乐/pg电子/棋牌/德州扑克/幸运飞艇/三公/AG真人/BG真...   \n",
       "4  1558702223055638528    亚博/开云/乐鱼/爱游戏/万博/亚美/火狐/欧宝/九州/百家乐/乐动/英皇/彩票/卡塔尔世界杯   \n",
       "5  1355191605230141441  亚博/亚博体育/乐鱼体育/百家乐/pg电子/棋牌/德州扑克/幸运飞艇/三公/AG真人/BG真...   \n",
       "6  1304263293914116096  亚博/亚博体育/乐鱼体育/百家乐/pg电子/棋牌/德州扑克/幸运飞艇/三公/AG真人/BG真...   \n",
       "7  1132252814736891909                                                 上海   \n",
       "8  1563015971224203275  亚博/亚博体育/乐鱼体育/百家乐/pg电子/棋牌/德州扑克/幸运飞艇/三公/AG真人/BG真...   \n",
       "9  1168737631171207168    亚博/开云/乐鱼/爱游戏/万博/亚美/火狐/欧宝/九州/百家乐/乐动/英皇/彩票/卡塔尔世界杯   \n",
       "\n",
       "   author_followers  author_tweets author_location  \\\n",
       "0                44           2337   San Diego, CA   \n",
       "1              1847           5339            None   \n",
       "2                 9          10298      TengFei789   \n",
       "3                31           2360            Iraq   \n",
       "4                 0           5668           网址↑↑↑   \n",
       "5                 2           5611           官网地址→   \n",
       "6                 1           5646           官网地址→   \n",
       "7                 0           2180         联系方式▲▲▲   \n",
       "8                39           2344        Brooklyn   \n",
       "9                 0           2525           网址↑↑↑   \n",
       "\n",
       "                                                text                created_at  \n",
       "0  #乐鱼体育 #欧宝体育 #篮球 #八戒体育 #NBA #365体育  He had neve... 2022-11-15 18:07:54+00:00  \n",
       "1  Arnetta Yardbourgh: Ex-Girlfriend of NBA playe... 2022-11-15 18:07:54+00:00  \n",
       "2  Eve Cocker Murphy Lawrence #棋牌 Salome Geordie ... 2022-11-15 18:07:53+00:00  \n",
       "3  #乐鱼体育 #欧宝体育 #篮球 #八戒体育 #NBA #365体育  “What have ... 2022-11-15 18:07:50+00:00  \n",
       "4  Tiffany Ward Quinn Frances #博彩 Xanthe Brown Ka... 2022-11-15 18:07:49+00:00  \n",
       "5  Cora Lewis Ward Tuttle Wallis Pound  #乐鱼体育 #欧宝... 2022-11-15 18:07:49+00:00  \n",
       "6  Emma Eve Dinah Samuel Annabelle Taylor  #竞彩篮球 ... 2022-11-15 18:07:47+00:00  \n",
       "7  Phoenix Hemingway Rita Nora #NFTs Bennett Arno... 2022-11-15 18:07:45+00:00  \n",
       "8  #乐鱼体育 #欧宝体育 #篮球 #八戒体育 #NBA #365体育  . Suddenly ... 2022-11-15 18:07:40+00:00  \n",
       "9  Alexander Snow Muriel Barrett #Airdrop Marshal... 2022-11-15 18:07:38+00:00  "
      ]
     },
     "execution_count": 42,
     "metadata": {},
     "output_type": "execute_result"
    }
   ],
   "source": [
    "df"
   ]
  },
  {
   "cell_type": "code",
   "execution_count": null,
   "metadata": {},
   "outputs": [],
   "source": []
  }
 ],
 "metadata": {
  "kernelspec": {
   "display_name": "Python 3.10.4 64-bit",
   "language": "python",
   "name": "python3"
  },
  "language_info": {
   "codemirror_mode": {
    "name": "ipython",
    "version": 3
   },
   "file_extension": ".py",
   "mimetype": "text/x-python",
   "name": "python",
   "nbconvert_exporter": "python",
   "pygments_lexer": "ipython3",
   "version": "3.10.4"
  },
  "orig_nbformat": 4,
  "vscode": {
   "interpreter": {
    "hash": "916dbcbb3f70747c44a77c7bcd40155683ae19c65e1c03b4aa3499c5328201f1"
   }
  }
 },
 "nbformat": 4,
 "nbformat_minor": 2
}
