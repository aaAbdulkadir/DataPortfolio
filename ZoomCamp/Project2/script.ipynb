{
 "cells": [
  {
   "cell_type": "markdown",
   "metadata": {},
   "source": [
    "- Can only pull 2 million tweets per month\n",
    "- roughly 66,666 tweets per day\n",
    "- roughly 2,777 tweets per hour\n",
    "- 46 tweets per minute"
   ]
  },
  {
   "cell_type": "markdown",
   "metadata": {},
   "source": [
    "https://developer.twitter.com/en/docs/twitter-api"
   ]
  },
  {
   "cell_type": "markdown",
   "metadata": {},
   "source": [
    "https://developer.twitter.com/apitools/query?query=LUk6UlQgTDplbiBjb3ZpZCBjb3JvbmE%3D\n",
    "https://github.com/shafiab/HashtagCashtag"
   ]
  },
  {
   "cell_type": "code",
   "execution_count": 1,
   "metadata": {},
   "outputs": [],
   "source": [
    "import os\n",
    "import tweepy"
   ]
  },
  {
   "cell_type": "code",
   "execution_count": 2,
   "metadata": {},
   "outputs": [],
   "source": [
    "# API Keys\n",
    "TWITTER_KEY = os.environ.get(\"TWITTER_KEY\")\n",
    "TWITTER_SECRET_KEY = os.environ.get(\"TWITTER_SECRET_KEY\")\n",
    "TWITTER_BEARER_TOKEN = os.environ.get(\"TWITTER_BEARER_TOKEN\")\n",
    "TWITTER_ACCESS_TOKEN = os.environ.get(\"TWITTER_ACCESS_TOKEN\")\n",
    "TWITTER_ACCESS_TOKEN_SECRET = os.environ.get(\"TWITTER_ACCESS_TOKEN_SECRET\")\n",
    "TWITTER_CLIENT_ID = os.environ.get(\"TWITTER_CLIENT_ID\")\n",
    "TWITTER_CLIENT_SECRET = os.environ.get(\"TWITTER_CLIENT_SECRET\")"
   ]
  },
  {
   "cell_type": "code",
   "execution_count": 3,
   "metadata": {},
   "outputs": [],
   "source": [
    "client = tweepy.Client(\n",
    "    TWITTER_BEARER_TOKEN, \n",
    "    TWITTER_KEY, \n",
    "    TWITTER_SECRET_KEY, \n",
    "    TWITTER_ACCESS_TOKEN, \n",
    "    TWITTER_ACCESS_TOKEN_SECRET\n",
    "    )"
   ]
  },
  {
   "cell_type": "code",
   "execution_count": 4,
   "metadata": {},
   "outputs": [],
   "source": [
    "# queries and filters\n",
    "topic = 'coding'"
   ]
  },
  {
   "cell_type": "code",
   "execution_count": 5,
   "metadata": {},
   "outputs": [],
   "source": [
    "# gets the actual tweets with the specific conditions\n",
    "def response(topic):\n",
    "    # query by topic, that is not a retweet, in english and in the UK or US\n",
    "    query = f'{topic} -is:retweet lang:en'\n",
    "    return client.search_recent_tweets(query=query, max_results=10).data"
   ]
  },
  {
   "cell_type": "code",
   "execution_count": 6,
   "metadata": {},
   "outputs": [
    {
     "name": "stdout",
     "output_type": "stream",
     "text": [
      "@jackpo773 @cybersygh Yep. Young men, mostly, still have that hard coding that will push them into the gym or some other traditional manly pursuit. Chad &amp; MGTOW culture has been the savior for a lot of lost men.\n",
      "None\n",
      "1592508600601059328\n",
      "PLZ VOTE AND RT! I’m up for two Noonies Awards and today is the last day to vote!\n",
      "\n",
      "Search my name at this URL: https://t.co/8HGD3iyYLL\n",
      "\n",
      "Tyvm in advance! @hackernoon \n",
      " #tech #coding #algorithms #share #programming #ladderly #SoftwareDeveloper #code\n",
      "None\n",
      "1592508597803831296\n",
      "I am the Living Death.\n",
      "I am coding your hard drive now.\n",
      "Your FAT is destroyed and his copy is only in memory.\n",
      "None\n",
      "1592508421215223808\n",
      "Hire Professionals to handle your:-\n",
      "Essays\n",
      "OnlineExams\n",
      "#Fallclasses\n",
      "#Mathematics\n",
      "English\n",
      "#Programming\n",
      "#Law\n",
      "#Accounting\n",
      "#Projects\n",
      "Homework\n",
      "#Economics\n",
      "#Nursing\n",
      "Business\n",
      "#Music\n",
      "#Coding\n",
      "Calculus\n",
      "#Quizzes\n",
      "Psychology\n",
      "##Computerscience\n",
      "Test\n",
      "#Finance\n",
      "#SPSS\n",
      "None\n",
      "1592508383655235591\n",
      "Multi-Step Forms in Angular 12\n",
      "#angular #technology #android #webdesign #code #website #web #development #programming #coding #python #developer #java #software #webdevelopment #webdesigner #webdeveloper #javascript #programmer #html #coder\n",
      "https://t.co/NrEsRDsNBq\n",
      "None\n",
      "1592508241644224513\n",
      "Multi-Step Forms in Angular 12\n",
      "#angular #technology #android #webdesign #code #website #web #development #programming #coding #python #developer #java #software #webdevelopment #webdesigner #webdeveloper #javascript #programmer #html #coder\n",
      "https://t.co/cQpJCv33KH\n",
      "None\n",
      "1592508240176160768\n",
      "So many things going to push and continue to coding the features,give me some spare time...:(\n",
      "None\n",
      "1592508159079649282\n",
      "Stay up to date with the new, free coding resource from @digitallcharity including this forthcoming coding activity inspired by the @Lionesses success. Perfect for Year 6-8 pupils\n",
      "https://t.co/50TlSbfXwr\n",
      "#HourOfCode #CSEdWeek #coding https://t.co/sldkKH0xxT\n",
      "None\n",
      "1592508125491273729\n"
     ]
    }
   ],
   "source": [
    "\n",
    "for tweet in response(topic):\n",
    "    print(tweet.text)\n",
    "    print(tweet.created_at)\n",
    "    print(tweet.id)"
   ]
  },
  {
   "cell_type": "code",
   "execution_count": 7,
   "metadata": {},
   "outputs": [],
   "source": [
    "nba = []"
   ]
  },
  {
   "cell_type": "code",
   "execution_count": 28,
   "metadata": {},
   "outputs": [],
   "source": [
    "\n",
    "responses = client.search_recent_tweets(\n",
    "        query='nba -is:retweet -is:reply -is:quote lang:en',\n",
    "        tweet_fields=['created_at', 'public_metrics', 'text'], \n",
    "        user_fields=['username', 'public_metrics','location','verified','description'],\n",
    "        expansions='author_id',\n",
    "        max_results=10\n",
    "        )"
   ]
  },
  {
   "cell_type": "code",
   "execution_count": 9,
   "metadata": {},
   "outputs": [],
   "source": [
    "for tweet in responses:\n",
    "    nba.append(tweet)"
   ]
  },
  {
   "cell_type": "code",
   "execution_count": 22,
   "metadata": {},
   "outputs": [
    {
     "name": "stdout",
     "output_type": "stream",
     "text": [
      "[<Tweet id=1592575688544063490 text='#乐鱼体育 #欧宝体育 #篮球 #八戒体育 #NBA #365体育  Neeland’s animated61 face as he detailed62     https://t.co/mYTH1B3W22'>, <Tweet id=1592575681686163458 text='Kevin Walkley Joyce Kit #AG捕鱼机 Joanna Dillon Grace Lucius  #英雄联盟 #火狐体育 #竞彩 #完美体育 #NBA #365体育 Wendell Judd Dempsey Lindsay https://t.co/2Ej1K2UFnG'>, <Tweet id=1592575681178660864 text='Vito Ford Perry Clark(e) #横滨水手 Valerie Hobbes Letitia Reade  #乐鱼体育 #欧宝体育 #开云 #时时彩 #NBA #365体育 Archibald Smith Joyce Stevenson https://t.co/VKPYfaON5U'>, <Tweet id=1592575676267515904 text='Alfred Wordsworth Wilbur Bartholomew Penelope Lancelot  #竞彩篮球 #亚博 #LOL #华体会体育 #NBA #365体育 Wordsworth Stella https://t.co/IbxcsWk60o'>, <Tweet id=1592575673138544641 text='Rod Nehemiah Judy Harriman #区块链 Aubrey Priestley #天津 Christine Cronin Roderick Alsop(p)  #英雄联盟 #火狐体育 #竞彩 #完美体育 #NBA #365体育 Tyrone Kitty https://t.co/jaH6UEpE8g'>, <Tweet id=1592575669354909696 text='James Wiseman to the G-League?! LONG OVERDUE MOVE?! | Howdy Partners #GoldenState #Warriors #NBA Video: https://t.co/ilmZDGBUKR'>, <Tweet id=1592575666955771904 text=\"Get HYPE for the New Orleans Pelicans' Upcoming Home Games! #NewOrleans #Pelicans #NBA Video: https://t.co/1r9Ed1zzjm\">, <Tweet id=1592575666750644226 text='There is a safe spot within every tornado. My job is to find it.\\nWho am I?@NCAA @usedgov @NBA @WNBA @NFL @SportsCenter @espn https://t.co/hMzy6Ge5uA'>, <Tweet id=1592575665525907457 text='Westworld (15) Wright, Abrams, Sarafyan Authentic Signed 8x10 Photo BAS #A70491 | $299.99 | @CollectingAll | #collectingall #sportsmemorabilia #sportscards #whodoyoucollect #memorabilia #thehobby #autograph #sports #nfl #basketballcards #football #nba #paniniamerica #basketball https://t.co/i3GQW9dkSM'>, <Tweet id=1592575661876555777 text='#乐鱼体育 #欧宝体育 #篮球 #八戒体育 #NBA #365体育     singing through Mulberry. Here and there, apart from thehttps://t.co/kbftBuYEJL'>]\n",
      "\n",
      "{'users': [<User id=1562987502239002624 name=亚博/亚博体育/乐鱼体育/百家乐/pg电子/棋牌/德州扑克/幸运飞艇/三公/AG真人/BG真人/彩票 username=scripps_jerome>, <User id=1358724294461640704 name=亚博/开云/乐鱼/爱游戏/万博/亚美/火狐/欧宝/九州/百家乐/乐动/英皇/彩票/卡塔尔世界杯 username=4mkludlf960ntqg>, <User id=1556259226296922112 name=亚博/开云/乐鱼/爱游戏/万博/亚美/火狐/欧宝/九州/百家乐/乐动/英皇/彩票/卡塔尔世界杯 username=d_nagjibhai>, <User id=885515316519948288 name=亚博/亚博体育/乐鱼体育/百家乐/pg电子/棋牌/德州扑克/幸运飞艇/三公/AG真人/BG真人/彩票 username=ActorFernel>, <User id=1274090200566771712 name=长春 武汉 西安 桂林 东阳 牡丹江 洛阳 绵阳 陕西 石家庄 福州 username=KMndewa>, <User id=115584885 name=San Francisco Sports username=SF_Sports_Fans>, <User id=115285160 name=New Orleans Sports username=NOLAfans>, <User id=902334274061254656 name=Scooter H Moor bka Craig H Johnson II username=ScooterMoor>, <User id=1035305829149245440 name=CollectingAll username=CollectingAll>, <User id=1562684875890511873 name=亚博 开云 乐鱼 爱游戏 万博 亚美 火狐 欧宝 九州 百家乐 乐动 英皇 彩票 卡塔尔世界杯 username=andrew_blithe>]}\n",
      "\n",
      "[]\n",
      "\n",
      "{'newest_id': '1592575688544063490', 'oldest_id': '1592575661876555777', 'result_count': 10, 'next_token': 'b26v89c19zqg8o3fpzhk28gyy8k3pf7s0cz0fhf7kclfh'}\n",
      "\n"
     ]
    }
   ],
   "source": [
    "for item in nba:\n",
    "    print(item, end='\\n\\n')"
   ]
  },
  {
   "cell_type": "code",
   "execution_count": 32,
   "metadata": {},
   "outputs": [],
   "source": [
    "user_dict = {}\n",
    "for user in responses.includes['users']:\n",
    "    user_dict[user.id] = {\n",
    "        'username': user.name,\n",
    "        'followers': user.public_metrics['followers_count'],\n",
    "        'tweets': user.public_metrics['tweet_count'],\n",
    "        'location': user.location\n",
    "        }"
   ]
  },
  {
   "cell_type": "code",
   "execution_count": 33,
   "metadata": {},
   "outputs": [
    {
     "data": {
      "text/plain": [
       "{1562650094151036936: {'username': '亚博/亚博体育/乐鱼体育/百家乐/pg电子/棋牌/德州扑克/幸运飞艇/三公/AG真人/BG真人/彩票',\n",
       "  'followers': 44,\n",
       "  'tweets': 2337,\n",
       "  'location': 'San Diego, CA'},\n",
       " 2309895487: {'username': 'CelebCritics.com',\n",
       "  'followers': 1847,\n",
       "  'tweets': 5339,\n",
       "  'location': None},\n",
       " 1349054607331389441: {'username': '北京 南京 海口 河源 台州 文登 武安 玉溪 朔州 北京 合肥',\n",
       "  'followers': 9,\n",
       "  'tweets': 10298,\n",
       "  'location': 'TengFei789'},\n",
       " 1563337269007699968: {'username': '亚博/亚博体育/乐鱼体育/百家乐/pg电子/棋牌/德州扑克/幸运飞艇/三公/AG真人/BG真人/彩票',\n",
       "  'followers': 31,\n",
       "  'tweets': 2360,\n",
       "  'location': 'Iraq'},\n",
       " 1558702223055638528: {'username': '亚博/开云/乐鱼/爱游戏/万博/亚美/火狐/欧宝/九州/百家乐/乐动/英皇/彩票/卡塔尔世界杯',\n",
       "  'followers': 0,\n",
       "  'tweets': 5668,\n",
       "  'location': '网址↑↑↑'},\n",
       " 1355191605230141441: {'username': '亚博/亚博体育/乐鱼体育/百家乐/pg电子/棋牌/德州扑克/幸运飞艇/三公/AG真人/BG真人/彩票',\n",
       "  'followers': 2,\n",
       "  'tweets': 5611,\n",
       "  'location': '官网地址→'},\n",
       " 1304263293914116096: {'username': '亚博/亚博体育/乐鱼体育/百家乐/pg电子/棋牌/德州扑克/幸运飞艇/三公/AG真人/BG真人/彩票',\n",
       "  'followers': 1,\n",
       "  'tweets': 5646,\n",
       "  'location': '官网地址→'},\n",
       " 1132252814736891909: {'username': '上海',\n",
       "  'followers': 0,\n",
       "  'tweets': 2180,\n",
       "  'location': '联系方式▲▲▲'},\n",
       " 1563015971224203275: {'username': '亚博/亚博体育/乐鱼体育/百家乐/pg电子/棋牌/德州扑克/幸运飞艇/三公/AG真人/BG真人/彩票',\n",
       "  'followers': 39,\n",
       "  'tweets': 2344,\n",
       "  'location': 'Brooklyn'},\n",
       " 1168737631171207168: {'username': '亚博/开云/乐鱼/爱游戏/万博/亚美/火狐/欧宝/九州/百家乐/乐动/英皇/彩票/卡塔尔世界杯',\n",
       "  'followers': 0,\n",
       "  'tweets': 2525,\n",
       "  'location': '网址↑↑↑'}}"
      ]
     },
     "execution_count": 33,
     "metadata": {},
     "output_type": "execute_result"
    }
   ],
   "source": [
    "user_dict"
   ]
  },
  {
   "cell_type": "code",
   "execution_count": null,
   "metadata": {},
   "outputs": [],
   "source": []
  }
 ],
 "metadata": {
  "kernelspec": {
   "display_name": "Python 3.10.4 64-bit",
   "language": "python",
   "name": "python3"
  },
  "language_info": {
   "codemirror_mode": {
    "name": "ipython",
    "version": 3
   },
   "file_extension": ".py",
   "mimetype": "text/x-python",
   "name": "python",
   "nbconvert_exporter": "python",
   "pygments_lexer": "ipython3",
   "version": "3.10.4"
  },
  "orig_nbformat": 4,
  "vscode": {
   "interpreter": {
    "hash": "916dbcbb3f70747c44a77c7bcd40155683ae19c65e1c03b4aa3499c5328201f1"
   }
  }
 },
 "nbformat": 4,
 "nbformat_minor": 2
}
