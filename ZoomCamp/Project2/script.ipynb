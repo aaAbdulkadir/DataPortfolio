{
 "cells": [
  {
   "cell_type": "markdown",
   "metadata": {},
   "source": [
    "- Can only pull 2 million tweets per month\n",
    "- roughly 66,666 tweets per day\n",
    "- roughly 2,777 tweets per hour\n",
    "- 46 tweets per minute"
   ]
  },
  {
   "cell_type": "markdown",
   "metadata": {},
   "source": [
    "https://developer.twitter.com/en/docs/twitter-api"
   ]
  },
  {
   "cell_type": "markdown",
   "metadata": {},
   "source": [
    "https://developer.twitter.com/apitools/query?query=LUk6UlQgTDplbiBjb3ZpZCBjb3JvbmE%3D"
   ]
  },
  {
   "cell_type": "code",
   "execution_count": 1,
   "metadata": {},
   "outputs": [],
   "source": [
    "import os\n",
    "import tweepy"
   ]
  },
  {
   "cell_type": "code",
   "execution_count": 2,
   "metadata": {},
   "outputs": [],
   "source": [
    "# API Keys\n",
    "TWITTER_KEY = os.environ.get(\"TWITTER_KEY\")\n",
    "TWITTER_SECRET_KEY = os.environ.get(\"TWITTER_SECRET_KEY\")\n",
    "TWITTER_BEARER_TOKEN = os.environ.get(\"TWITTER_BEARER_TOKEN\")\n",
    "TWITTER_ACCESS_TOKEN = os.environ.get(\"TWITTER_ACCESS_TOKEN\")\n",
    "TWITTER_ACCESS_TOKEN_SECRET = os.environ.get(\"TWITTER_ACCESS_TOKEN_SECRET\")\n",
    "TWITTER_CLIENT_ID = os.environ.get(\"TWITTER_CLIENT_ID\")\n",
    "TWITTER_CLIENT_SECRET = os.environ.get(\"TWITTER_CLIENT_SECRET\")"
   ]
  },
  {
   "cell_type": "code",
   "execution_count": 4,
   "metadata": {},
   "outputs": [],
   "source": [
    "client = tweepy.Client(\n",
    "    TWITTER_BEARER_TOKEN, \n",
    "    TWITTER_KEY, \n",
    "    TWITTER_SECRET_KEY, \n",
    "    TWITTER_ACCESS_TOKEN, \n",
    "    TWITTER_ACCESS_TOKEN_SECRET\n",
    "    )"
   ]
  },
  {
   "cell_type": "code",
   "execution_count": 17,
   "metadata": {},
   "outputs": [],
   "source": [
    "# queries and filters\n",
    "topic = 'coding'"
   ]
  },
  {
   "cell_type": "code",
   "execution_count": 29,
   "metadata": {},
   "outputs": [],
   "source": [
    "# gets the actual tweets with the specific conditions\n",
    "def response(topic):\n",
    "    # query by topic, that is not a retweet, in english and in the UK or US\n",
    "    query = f'{topic} -is:retweet lang:en'\n",
    "    return client.search_recent_tweets(query=query, max_results=10).data"
   ]
  },
  {
   "cell_type": "code",
   "execution_count": 30,
   "metadata": {},
   "outputs": [
    {
     "name": "stdout",
     "output_type": "stream",
     "text": [
      "Soccer Picks Daily Show World Cup Props Football Picks - Predictions, Tonys Picks 11/14/2022   #WorldCup #WorldCupPicks #WorldCupProps #SoccerPicks   Visit https://t.co/YZQm1JL1CD for Free and Premium Picks from Documented Handicappers https://t.co/Wy034ABDE1\n",
      "None\n",
      "1592234873661837314\n",
      "@Shill_Ronin 💎💎💎LAUNCHED NOV 1 💎💎💎\n",
      "\n",
      "Shiba World Cup\n",
      "1️⃣ PROS make #bet 💵 \n",
      "2️⃣ WINS buyback and burn 🔥 \n",
      "3️⃣ #BNB reward to holders\n",
      "✅ #LBANK listing\n",
      "✅ #NY TIMES SQUARE Billboard\n",
      "\n",
      "#ShibaWorldCup #WorldCup #BSCgem $SWC\n",
      "@shibawc\n",
      "TG: https://t.co/jZa6ep85r0\n",
      "twitter: https://t.co/eoKTTrYYk4\n",
      "None\n",
      "1592234813414674434\n",
      "@davidgokhshtein 💎💎💎LAUNCHED NOV 1 💎💎💎\n",
      "\n",
      "Shiba World Cup\n",
      "1️⃣ PROS make #bet 💵 \n",
      "2️⃣ WINS buyback and burn 🔥 \n",
      "3️⃣ #BNB reward to holders\n",
      "✅ #LBANK listing\n",
      "✅ #NY TIMES SQUARE Billboard\n",
      "\n",
      "#ShibaWorldCup #WorldCup #BSCgem $SWC\n",
      "@shibawc\n",
      "TG: https://t.co/jZa6ep8Dgy\n",
      "twitter: https://t.co/eoKTTrZw9C\n",
      "None\n",
      "1592234747895615488\n",
      "@MartiniGuyYT 💎💎💎LAUNCHED NOV 1 💎💎💎\n",
      "\n",
      "Shiba World Cup\n",
      "1️⃣ PROS make #bet 💵 \n",
      "2️⃣ WINS buyback and burn 🔥 \n",
      "3️⃣ #BNB reward to holders\n",
      "✅ #LBANK listing\n",
      "✅ #NY TIMES SQUARE Billboard\n",
      "\n",
      "#ShibaWorldCup #WorldCup #BSCgem $SWC\n",
      "@shibawc\n",
      "TG: https://t.co/jZa6ep85r0\n",
      "twitter: https://t.co/eoKTTrYYk4\n",
      "None\n",
      "1592234640806477826\n",
      "BBC started its first daily radio broadcasting in Marconi’s London studio 2LO on November 14, 1922.\n",
      "\n",
      "100 years later…\n",
      "\n",
      "I am chuffed to appear on BBC Sport World Cup advert 2022\n",
      "\n",
      "✨Massive thanks to my agent @REDTalentMgt \n",
      "\n",
      "https://t.co/gN2Xr79cr1\n",
      "#WorldCup #Qatar2022 #BBCSport https://t.co/r0bqaN1q2H\n",
      "None\n",
      "1592234634544308224\n",
      "@cryptojack 💎💎💎LAUNCHED NOV 1 💎💎💎\n",
      "\n",
      "Shiba World Cup\n",
      "1️⃣ PROS make #bet 💵 \n",
      "2️⃣ WINS buyback and burn 🔥 \n",
      "3️⃣ #BNB reward to holders\n",
      "✅ #LBANK listing\n",
      "✅ #NY TIMES SQUARE Billboard\n",
      "\n",
      "#ShibaWorldCup #WorldCup #BSCgem $SWC\n",
      "@shibawc\n",
      "TG: https://t.co/jZa6ep8Dgy\n",
      "twitter: https://t.co/eoKTTrZw9C\n",
      "None\n",
      "1592234577216811008\n",
      "@ChinaPumpWXC 💎💎💎LAUNCHED NOV 1 💎💎💎\n",
      "\n",
      "Shiba World Cup\n",
      "1️⃣ PROS make #bet 💵 \n",
      "2️⃣ WINS buyback and burn 🔥 \n",
      "3️⃣ #BNB reward to holders\n",
      "✅ #LBANK listing\n",
      "✅ #NY TIMES SQUARE Billboard\n",
      "\n",
      "#ShibaWorldCup #WorldCup #BSCgem $SWC\n",
      "@shibawc\n",
      "TG: https://t.co/jZa6ep8Dgy\n",
      "twitter: https://t.co/eoKTTrZw9C\n",
      "None\n",
      "1592234520006492160\n",
      "@MrRealWhale 💎💎💎LAUNCHED NOV 1 💎💎💎\n",
      "\n",
      "Shiba World Cup\n",
      "1️⃣ PROS make #bet 💵 \n",
      "2️⃣ WINS buyback and burn 🔥 \n",
      "3️⃣ #BNB reward to holders\n",
      "✅ #LBANK listing\n",
      "✅ #NY TIMES SQUARE Billboard\n",
      "\n",
      "#ShibaWorldCup #WorldCup #BSCgem $SWC\n",
      "@shibawc\n",
      "TG: https://t.co/jZa6ep8Dgy\n",
      "twitter: https://t.co/eoKTTrZw9C\n",
      "None\n",
      "1592234462133522432\n",
      "@AltCryptoGems 💎💎💎LAUNCHED NOV 1 💎💎💎\n",
      "\n",
      "Shiba World Cup\n",
      "1️⃣ PROS make #bet 💵 \n",
      "2️⃣ WINS buyback and burn 🔥 \n",
      "3️⃣ #BNB reward to holders\n",
      "✅ #LBANK listing\n",
      "✅ #NY TIMES SQUARE Billboard\n",
      "\n",
      "#ShibaWorldCup #WorldCup #BSCgem $SWC\n",
      "@shibawc\n",
      "TG: https://t.co/jZa6ep8Dgy\n",
      "twitter: https://t.co/eoKTTrZw9C\n",
      "None\n",
      "1592234342637797376\n",
      "@sofizamolo 💎💎💎LAUNCHED NOV 1 💎💎💎\n",
      "\n",
      "Shiba World Cup\n",
      "1️⃣ PROS make #bet 💵 \n",
      "2️⃣ WINS buyback and burn 🔥 \n",
      "3️⃣ #BNB reward to holders\n",
      "✅ #LBANK listing\n",
      "✅ #NY TIMES SQUARE Billboard\n",
      "\n",
      "#ShibaWorldCup #WorldCup #BSCgem $SWC\n",
      "@shibawc\n",
      "TG: https://t.co/jZa6ep8Dgy\n",
      "twitter: https://t.co/eoKTTrZw9C\n",
      "None\n",
      "1592234285674950657\n"
     ]
    }
   ],
   "source": [
    "\n",
    "for tweet in response(topic):\n",
    "    print(tweet.text)\n",
    "    print(tweet.created_at)\n",
    "    print(tweet.id)"
   ]
  },
  {
   "cell_type": "code",
   "execution_count": null,
   "metadata": {},
   "outputs": [],
   "source": []
  },
  {
   "cell_type": "code",
   "execution_count": null,
   "metadata": {},
   "outputs": [],
   "source": []
  }
 ],
 "metadata": {
  "kernelspec": {
   "display_name": "Python 3.8.9 64-bit",
   "language": "python",
   "name": "python3"
  },
  "language_info": {
   "codemirror_mode": {
    "name": "ipython",
    "version": 3
   },
   "file_extension": ".py",
   "mimetype": "text/x-python",
   "name": "python",
   "nbconvert_exporter": "python",
   "pygments_lexer": "ipython3",
   "version": "3.8.9"
  },
  "orig_nbformat": 4,
  "vscode": {
   "interpreter": {
    "hash": "31f2aee4e71d21fbe5cf8b01ff0e069b9275f58929596ceb00d14d90e3e16cd6"
   }
  }
 },
 "nbformat": 4,
 "nbformat_minor": 2
}
