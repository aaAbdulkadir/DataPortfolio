{
 "cells": [
  {
   "cell_type": "code",
   "execution_count": 1,
   "metadata": {},
   "outputs": [],
   "source": [
    "import pandas as pd\n",
    "from pandas_datareader import data as pdr\n",
    "import datetime as dt"
   ]
  },
  {
   "cell_type": "code",
   "execution_count": 2,
   "metadata": {},
   "outputs": [],
   "source": [
    "stock_list = ['AAPL']\n",
    "stocks = [i for i in stock_list]\n",
    "\n",
    "end = dt.datetime.now()\n",
    "start = dt.datetime(2017,1,1)"
   ]
  },
  {
   "cell_type": "code",
   "execution_count": 3,
   "metadata": {},
   "outputs": [
    {
     "name": "stdout",
     "output_type": "stream",
     "text": [
      "Attributes  Adj Close      Close       High        Low       Open       Volume\n",
      "Symbols          AAPL       AAPL       AAPL       AAPL       AAPL         AAPL\n",
      "Date                                                                          \n",
      "2017-01-03  27.174751  29.037500  29.082500  28.690001  28.950001  115127600.0\n",
      "2017-01-04  27.144339  29.004999  29.127501  28.937500  28.962500   84472400.0\n",
      "2017-01-05  27.282373  29.152500  29.215000  28.952499  28.980000   88774400.0\n",
      "2017-01-06  27.586527  29.477501  29.540001  29.117500  29.195000  127007600.0\n",
      "2017-01-09  27.839209  29.747499  29.857500  29.485001  29.487499  134247600.0\n"
     ]
    }
   ],
   "source": [
    "df = pdr.get_data_yahoo(stocks, start, end)\n",
    "print(df.head())"
   ]
  },
  {
   "cell_type": "code",
   "execution_count": 4,
   "metadata": {},
   "outputs": [],
   "source": [
    "from bs4 import BeautifulSoup\n",
    "import requests\n",
    "\n",
    "# get a list of top 500 stocks\n",
    "url = 'https://www.advfn.com/nasdaq/nasdaq.asp'\n",
    "website = requests.get(url).content\n",
    "soup = BeautifulSoup(website, 'lxml')"
   ]
  },
  {
   "cell_type": "code",
   "execution_count": 5,
   "metadata": {},
   "outputs": [],
   "source": [
    "import pandas as pd"
   ]
  },
  {
   "cell_type": "code",
   "execution_count": 6,
   "metadata": {},
   "outputs": [],
   "source": [
    "x = pd.read_html('https://en.wikipedia.org/wiki/Nasdaq-100')[4]['Symbol']"
   ]
  },
  {
   "cell_type": "code",
   "execution_count": 7,
   "metadata": {},
   "outputs": [
    {
     "data": {
      "text/plain": [
       "['ATVI',\n",
       " 'ADBE',\n",
       " 'ADP',\n",
       " 'ABNB',\n",
       " 'ALGN',\n",
       " 'GOOGL',\n",
       " 'GOOG',\n",
       " 'AMZN',\n",
       " 'AMD',\n",
       " 'AEP',\n",
       " 'AMGN',\n",
       " 'ADI',\n",
       " 'ANSS',\n",
       " 'AAPL',\n",
       " 'AMAT',\n",
       " 'ASML',\n",
       " 'AZN',\n",
       " 'TEAM',\n",
       " 'ADSK',\n",
       " 'BIDU',\n",
       " 'BIIB',\n",
       " 'BKNG',\n",
       " 'AVGO',\n",
       " 'CDNS',\n",
       " 'CHTR',\n",
       " 'CTAS',\n",
       " 'CSCO',\n",
       " 'CTSH',\n",
       " 'CMCSA',\n",
       " 'CEG',\n",
       " 'CPRT',\n",
       " 'COST',\n",
       " 'CRWD',\n",
       " 'CSX',\n",
       " 'DDOG',\n",
       " 'DXCM',\n",
       " 'DOCU',\n",
       " 'DLTR',\n",
       " 'EBAY',\n",
       " 'EA',\n",
       " 'ENPH',\n",
       " 'EXC',\n",
       " 'FAST',\n",
       " 'FISV',\n",
       " 'FTNT',\n",
       " 'GILD',\n",
       " 'HON',\n",
       " 'IDXX',\n",
       " 'ILMN',\n",
       " 'INTC',\n",
       " 'INTU',\n",
       " 'ISRG',\n",
       " 'JD',\n",
       " 'KDP',\n",
       " 'KLAC',\n",
       " 'KHC',\n",
       " 'LRCX',\n",
       " 'LCID',\n",
       " 'LULU',\n",
       " 'MAR',\n",
       " 'MRVL',\n",
       " 'MTCH',\n",
       " 'MELI',\n",
       " 'META',\n",
       " 'MCHP',\n",
       " 'MU',\n",
       " 'MSFT',\n",
       " 'MRNA',\n",
       " 'MDLZ',\n",
       " 'MNST',\n",
       " 'NTES',\n",
       " 'NFLX',\n",
       " 'NVDA',\n",
       " 'NXPI',\n",
       " 'ORLY',\n",
       " 'ODFL',\n",
       " 'PCAR',\n",
       " 'PANW',\n",
       " 'PAYX',\n",
       " 'PYPL',\n",
       " 'PEP',\n",
       " 'PDD',\n",
       " 'QCOM',\n",
       " 'REGN',\n",
       " 'ROST',\n",
       " 'SGEN',\n",
       " 'SIRI',\n",
       " 'SWKS',\n",
       " 'SPLK',\n",
       " 'SBUX',\n",
       " 'SNPS',\n",
       " 'TMUS',\n",
       " 'TSLA',\n",
       " 'TXN',\n",
       " 'VRSN',\n",
       " 'VRSK',\n",
       " 'VRTX',\n",
       " 'WBA',\n",
       " 'WDAY',\n",
       " 'XEL',\n",
       " 'ZM',\n",
       " 'ZS']"
      ]
     },
     "execution_count": 7,
     "metadata": {},
     "output_type": "execute_result"
    }
   ],
   "source": [
    "x.to_list()"
   ]
  },
  {
   "cell_type": "code",
   "execution_count": 8,
   "metadata": {},
   "outputs": [
    {
     "data": {
      "text/plain": [
       "(102,)"
      ]
     },
     "execution_count": 8,
     "metadata": {},
     "output_type": "execute_result"
    }
   ],
   "source": [
    "x.shape"
   ]
  },
  {
   "cell_type": "code",
   "execution_count": 10,
   "metadata": {},
   "outputs": [],
   "source": [
    "end = dt.datetime.now()"
   ]
  },
  {
   "cell_type": "code",
   "execution_count": 11,
   "metadata": {},
   "outputs": [],
   "source": [
    "from datetime import timedelta\n",
    "start = end - timedelta(days=365)"
   ]
  },
  {
   "cell_type": "code",
   "execution_count": 12,
   "metadata": {},
   "outputs": [
    {
     "data": {
      "text/plain": [
       "(datetime.datetime(2022, 12, 7, 15, 4, 9, 593710),\n",
       " datetime.datetime(2021, 12, 7, 15, 4, 9, 593710))"
      ]
     },
     "execution_count": 12,
     "metadata": {},
     "output_type": "execute_result"
    }
   ],
   "source": [
    "end, start"
   ]
  },
  {
   "cell_type": "code",
   "execution_count": 2,
   "metadata": {},
   "outputs": [],
   "source": [
    "import pandas as pd\n",
    "from pandas_datareader import data as pdr\n",
    "import datetime as dt\n",
    "from datetime import timedelta\n",
    "import time\n",
    "\n",
    "# get a list of top 500 stocks\n",
    "list_of_stocks = pd.read_html('https://en.wikipedia.org/wiki/Nasdaq-100')[4]['Symbol'].to_list()\n",
    "\n",
    "# https://au.finance.yahoo.com/\n",
    "# collect stock data for the past year\n",
    "# end = dt.datetime.now()\n",
    "# start = end - timedelta(days=10)\n",
    "# df = pdr.get_data_yahoo(list_of_stocks, start, end)"
   ]
  },
  {
   "cell_type": "code",
   "execution_count": 7,
   "metadata": {},
   "outputs": [
    {
     "name": "stdout",
     "output_type": "stream",
     "text": [
      "CEG bugged\n",
      "MSFT bugged\n",
      "MDLZ bugged\n",
      "MNST bugged\n",
      "NTES bugged\n",
      "NVDA bugged\n",
      "XEL bugged\n",
      "ZM bugged\n",
      "ZS bugged\n"
     ]
    }
   ],
   "source": [
    "dfs = []\n",
    "for stock in list_of_stocks:\n",
    "    try:\n",
    "        end = dt.datetime.now()\n",
    "        start = end - timedelta(days=10)\n",
    "        df = pdr.get_data_yahoo(stock, start, end)\n",
    "        df['CODE'] = stock\n",
    "        dfs.append(df)\n",
    "    except:\n",
    "        print(f'{stock} bugged')"
   ]
  },
  {
   "cell_type": "code",
   "execution_count": 8,
   "metadata": {},
   "outputs": [
    {
     "ename": "RemoteDataError",
     "evalue": "Unable to read URL: https://finance.yahoo.com/quote/MSFT/history?period1=1577851200&period2=1641095999&interval=1d&frequency=1d&filter=history\nResponse Text:\nb'<html><meta charset=\\'utf-8\\'><script>if(window!=window.top){document.write(\\'<p>Content is currently unavailable.</p><img src=\"//geo.yahoo.com/p?s=1197757039&t=\\'+new Date().getTime()+\\'&_R=\\'+encodeURIComponent(document.referrer)+\\'&err=404&err_url=\\'+\\'https%3A%2F%2Ffinance.yahoo.com%2Fquote%2FMSFT%2Fhistory%3Fperiod1%3D1577851200%26period2%3D1641095999%26interval%3D1d%26frequency%3D1d%26filter%3Dhistory\\'+\\'\" width=\"0px\" height=\"0px\"/>\\');}else{window.location.replace(\\'https://www.yahoo.com/?err=404&err_url=https%3A%2F%2Ffinance.yahoo.com%2Fquote%2FMSFT%2Fhistory%3Fperiod1%3D1577851200%26period2%3D1641095999%26interval%3D1d%26frequency%3D1d%26filter%3Dhistory\\');}</script><noscript><META http-equiv=\"refresh\" content=\"0;URL=\\'https://www.yahoo.com/?err=404&err_url=https%3A%2F%2Ffinance.yahoo.com%2Fquote%2FMSFT%2Fhistory%3Fperiod1%3D1577851200%26period2%3D1641095999%26interval%3D1d%26frequency%3D1d%26filter%3Dhistory\\'\"></noscript></html>'",
     "output_type": "error",
     "traceback": [
      "\u001b[0;31m---------------------------------------------------------------------------\u001b[0m",
      "\u001b[0;31mRemoteDataError\u001b[0m                           Traceback (most recent call last)",
      "Cell \u001b[0;32mIn[8], line 3\u001b[0m\n\u001b[1;32m      1\u001b[0m start_date \u001b[39m=\u001b[39m \u001b[39m'\u001b[39m\u001b[39m2020-01-01\u001b[39m\u001b[39m'\u001b[39m\n\u001b[1;32m      2\u001b[0m end_date \u001b[39m=\u001b[39m \u001b[39m'\u001b[39m\u001b[39m2022-01-01\u001b[39m\u001b[39m'\u001b[39m\n\u001b[0;32m----> 3\u001b[0m df \u001b[39m=\u001b[39m pdr\u001b[39m.\u001b[39;49mget_data_yahoo(\u001b[39m'\u001b[39;49m\u001b[39mMSFT\u001b[39;49m\u001b[39m'\u001b[39;49m, start_date, end_date)\n\u001b[1;32m      4\u001b[0m df\n",
      "File \u001b[0;32m/mnt/c/Users/Abdulkadir/Documents/GitHub/DataPortfolio/ZoomCamp/Project2/venv/lib/python3.10/site-packages/pandas_datareader/data.py:80\u001b[0m, in \u001b[0;36mget_data_yahoo\u001b[0;34m(*args, **kwargs)\u001b[0m\n\u001b[1;32m     79\u001b[0m \u001b[39mdef\u001b[39;00m \u001b[39mget_data_yahoo\u001b[39m(\u001b[39m*\u001b[39margs, \u001b[39m*\u001b[39m\u001b[39m*\u001b[39mkwargs):\n\u001b[0;32m---> 80\u001b[0m     \u001b[39mreturn\u001b[39;00m YahooDailyReader(\u001b[39m*\u001b[39;49margs, \u001b[39m*\u001b[39;49m\u001b[39m*\u001b[39;49mkwargs)\u001b[39m.\u001b[39;49mread()\n",
      "File \u001b[0;32m/mnt/c/Users/Abdulkadir/Documents/GitHub/DataPortfolio/ZoomCamp/Project2/venv/lib/python3.10/site-packages/pandas_datareader/base.py:253\u001b[0m, in \u001b[0;36m_DailyBaseReader.read\u001b[0;34m(self)\u001b[0m\n\u001b[1;32m    251\u001b[0m \u001b[39m# If a single symbol, (e.g., 'GOOG')\u001b[39;00m\n\u001b[1;32m    252\u001b[0m \u001b[39mif\u001b[39;00m \u001b[39misinstance\u001b[39m(\u001b[39mself\u001b[39m\u001b[39m.\u001b[39msymbols, (string_types, \u001b[39mint\u001b[39m)):\n\u001b[0;32m--> 253\u001b[0m     df \u001b[39m=\u001b[39m \u001b[39mself\u001b[39;49m\u001b[39m.\u001b[39;49m_read_one_data(\u001b[39mself\u001b[39;49m\u001b[39m.\u001b[39;49murl, params\u001b[39m=\u001b[39;49m\u001b[39mself\u001b[39;49m\u001b[39m.\u001b[39;49m_get_params(\u001b[39mself\u001b[39;49m\u001b[39m.\u001b[39;49msymbols))\n\u001b[1;32m    254\u001b[0m \u001b[39m# Or multiple symbols, (e.g., ['GOOG', 'AAPL', 'MSFT'])\u001b[39;00m\n\u001b[1;32m    255\u001b[0m \u001b[39melif\u001b[39;00m \u001b[39misinstance\u001b[39m(\u001b[39mself\u001b[39m\u001b[39m.\u001b[39msymbols, DataFrame):\n",
      "File \u001b[0;32m/mnt/c/Users/Abdulkadir/Documents/GitHub/DataPortfolio/ZoomCamp/Project2/venv/lib/python3.10/site-packages/pandas_datareader/yahoo/daily.py:149\u001b[0m, in \u001b[0;36mYahooDailyReader._read_one_data\u001b[0;34m(self, url, params)\u001b[0m\n\u001b[1;32m    146\u001b[0m \u001b[39mdel\u001b[39;00m params[\u001b[39m\"\u001b[39m\u001b[39msymbol\u001b[39m\u001b[39m\"\u001b[39m]\n\u001b[1;32m    147\u001b[0m url \u001b[39m=\u001b[39m url\u001b[39m.\u001b[39mformat(symbol)\n\u001b[0;32m--> 149\u001b[0m resp \u001b[39m=\u001b[39m \u001b[39mself\u001b[39;49m\u001b[39m.\u001b[39;49m_get_response(url, params\u001b[39m=\u001b[39;49mparams, headers\u001b[39m=\u001b[39;49m\u001b[39mself\u001b[39;49m\u001b[39m.\u001b[39;49mheaders)\n\u001b[1;32m    150\u001b[0m ptrn \u001b[39m=\u001b[39m \u001b[39mr\u001b[39m\u001b[39m\"\u001b[39m\u001b[39mroot\u001b[39m\u001b[39m\\\u001b[39m\u001b[39m.App\u001b[39m\u001b[39m\\\u001b[39m\u001b[39m.main = (.*?);\u001b[39m\u001b[39m\\\u001b[39m\u001b[39mn}\u001b[39m\u001b[39m\\\u001b[39m\u001b[39m(this\u001b[39m\u001b[39m\\\u001b[39m\u001b[39m)\u001b[39m\u001b[39m\\\u001b[39m\u001b[39m);\u001b[39m\u001b[39m\"\u001b[39m\n\u001b[1;32m    151\u001b[0m \u001b[39mtry\u001b[39;00m:\n",
      "File \u001b[0;32m/mnt/c/Users/Abdulkadir/Documents/GitHub/DataPortfolio/ZoomCamp/Project2/venv/lib/python3.10/site-packages/pandas_datareader/base.py:181\u001b[0m, in \u001b[0;36m_BaseReader._get_response\u001b[0;34m(self, url, params, headers)\u001b[0m\n\u001b[1;32m    178\u001b[0m \u001b[39mif\u001b[39;00m last_response_text:\n\u001b[1;32m    179\u001b[0m     msg \u001b[39m+\u001b[39m\u001b[39m=\u001b[39m \u001b[39m\"\u001b[39m\u001b[39m\\n\u001b[39;00m\u001b[39mResponse Text:\u001b[39m\u001b[39m\\n\u001b[39;00m\u001b[39m{0}\u001b[39;00m\u001b[39m\"\u001b[39m\u001b[39m.\u001b[39mformat(last_response_text)\n\u001b[0;32m--> 181\u001b[0m \u001b[39mraise\u001b[39;00m RemoteDataError(msg)\n",
      "\u001b[0;31mRemoteDataError\u001b[0m: Unable to read URL: https://finance.yahoo.com/quote/MSFT/history?period1=1577851200&period2=1641095999&interval=1d&frequency=1d&filter=history\nResponse Text:\nb'<html><meta charset=\\'utf-8\\'><script>if(window!=window.top){document.write(\\'<p>Content is currently unavailable.</p><img src=\"//geo.yahoo.com/p?s=1197757039&t=\\'+new Date().getTime()+\\'&_R=\\'+encodeURIComponent(document.referrer)+\\'&err=404&err_url=\\'+\\'https%3A%2F%2Ffinance.yahoo.com%2Fquote%2FMSFT%2Fhistory%3Fperiod1%3D1577851200%26period2%3D1641095999%26interval%3D1d%26frequency%3D1d%26filter%3Dhistory\\'+\\'\" width=\"0px\" height=\"0px\"/>\\');}else{window.location.replace(\\'https://www.yahoo.com/?err=404&err_url=https%3A%2F%2Ffinance.yahoo.com%2Fquote%2FMSFT%2Fhistory%3Fperiod1%3D1577851200%26period2%3D1641095999%26interval%3D1d%26frequency%3D1d%26filter%3Dhistory\\');}</script><noscript><META http-equiv=\"refresh\" content=\"0;URL=\\'https://www.yahoo.com/?err=404&err_url=https%3A%2F%2Ffinance.yahoo.com%2Fquote%2FMSFT%2Fhistory%3Fperiod1%3D1577851200%26period2%3D1641095999%26interval%3D1d%26frequency%3D1d%26filter%3Dhistory\\'\"></noscript></html>'"
     ]
    }
   ],
   "source": [
    "start_date = '2020-01-01'\n",
    "end_date = '2022-01-01'\n",
    "df = pdr.get_data_yahoo('MSFT', start_date, end_date)\n",
    "df"
   ]
  },
  {
   "cell_type": "code",
   "execution_count": 84,
   "metadata": {},
   "outputs": [
    {
     "data": {
      "text/plain": [
       "ATVI     8\n",
       "ADBE     8\n",
       "NTES     8\n",
       "MNST     8\n",
       "MDLZ     8\n",
       "        ..\n",
       "CEG      8\n",
       "CMCSA    8\n",
       "CTSH     8\n",
       "CSCO     8\n",
       "ZS       8\n",
       "Name: CODE, Length: 96, dtype: int64"
      ]
     },
     "execution_count": 84,
     "metadata": {},
     "output_type": "execute_result"
    }
   ],
   "source": [
    "x = pd.concat(dfs)\n",
    "x.reset_index(inplace=True)\n",
    "x['CODE'].value_counts()"
   ]
  },
  {
   "cell_type": "code",
   "execution_count": 11,
   "metadata": {},
   "outputs": [],
   "source": [
    "import pandas as pd \n",
    "import datetime\n",
    "import time"
   ]
  },
  {
   "cell_type": "code",
   "execution_count": 12,
   "metadata": {},
   "outputs": [],
   "source": [
    "interval = '1wk'\n",
    "ticker = 'MSFT'\n",
    "start = int(time.mktime(datetime.datetime(2020, 12, 1, 23, 59).timetuple()))\n",
    "end = int(time.mktime(datetime.datetime(2020, 12, 31, 23, 59).timetuple()))"
   ]
  },
  {
   "cell_type": "markdown",
   "metadata": {},
   "source": []
  },
  {
   "cell_type": "code",
   "execution_count": 13,
   "metadata": {},
   "outputs": [],
   "source": [
    "query_string = f'https://query1.finance.yahoo.com/v7/finance/download/{ticker}?period1={start}&period2={end}&interval={interval}&events=history&includeAdjustedClose=true'"
   ]
  },
  {
   "cell_type": "code",
   "execution_count": 14,
   "metadata": {},
   "outputs": [
    {
     "data": {
      "text/plain": [
       "'https://query1.finance.yahoo.com/v7/finance/download/MSFT?period1=1606867140&period2=1609459140&interval=1wk&events=history&includeAdjustedClose=true'"
      ]
     },
     "execution_count": 14,
     "metadata": {},
     "output_type": "execute_result"
    }
   ],
   "source": [
    "pd.read_csv(query_string)"
   ]
  },
  {
   "cell_type": "code",
   "execution_count": 15,
   "metadata": {},
   "outputs": [],
   "source": [
    "start = '2020-10-1'"
   ]
  },
  {
   "cell_type": "code",
   "execution_count": 18,
   "metadata": {},
   "outputs": [
    {
     "data": {
      "text/plain": [
       "['2020', '10', '1']"
      ]
     },
     "execution_count": 18,
     "metadata": {},
     "output_type": "execute_result"
    }
   ],
   "source": [
    "start.split('-')"
   ]
  },
  {
   "cell_type": "code",
   "execution_count": 29,
   "metadata": {},
   "outputs": [],
   "source": [
    "import pandas as pd \n",
    "import datetime\n",
    "import time\n",
    "\n",
    "list_of_stocks = pd.read_html('https://en.wikipedia.org/wiki/Nasdaq-100')[4]['Symbol'].to_list()\n",
    "\n",
    "def stock_pull(ticker, interval, start, end):\n",
    "    # split dates up\n",
    "    start_year, start_month, start_day = int(start.split('-')[0]), int(start.split('-')[1]), int(start.split('-')[2])\n",
    "    end_year, end_month, end_day = int(end.split('-')[0]),int(end.split('-')[1]), int(end.split('-')[2])\n",
    "\n",
    "    # period intervals\n",
    "    period_1 = int(time.mktime(datetime.datetime(start_year, start_month, start_day, 23, 59).timetuple()))\n",
    "    period_2 = int(time.mktime(datetime.datetime(end_year, end_month, end_day, 23, 59).timetuple()))\n",
    "\n",
    "    query_string = f'https://query1.finance.yahoo.com/v7/finance/download/{ticker}?period1={period_1}&period2={period_2}&interval={interval}&events=history&includeAdjustedClose=true'\n",
    "\n",
    "    df = pd.read_csv(query_string)\n",
    "    df['Ticker'] = ticker\n",
    "\n",
    "    return df\n",
    "\n"
   ]
  },
  {
   "cell_type": "code",
   "execution_count": 38,
   "metadata": {},
   "outputs": [],
   "source": [
    "dfs = []\n",
    "for stock in list_of_stocks:\n",
    "    dfs.append(stock_pull(stock, '1d', '2021-12-1', '2022-12-1'))\n"
   ]
  },
  {
   "cell_type": "code",
   "execution_count": 39,
   "metadata": {},
   "outputs": [
    {
     "data": {
      "text/html": [
       "<div>\n",
       "<style scoped>\n",
       "    .dataframe tbody tr th:only-of-type {\n",
       "        vertical-align: middle;\n",
       "    }\n",
       "\n",
       "    .dataframe tbody tr th {\n",
       "        vertical-align: top;\n",
       "    }\n",
       "\n",
       "    .dataframe thead th {\n",
       "        text-align: right;\n",
       "    }\n",
       "</style>\n",
       "<table border=\"1\" class=\"dataframe\">\n",
       "  <thead>\n",
       "    <tr style=\"text-align: right;\">\n",
       "      <th></th>\n",
       "      <th>Date</th>\n",
       "      <th>Open</th>\n",
       "      <th>High</th>\n",
       "      <th>Low</th>\n",
       "      <th>Close</th>\n",
       "      <th>Adj Close</th>\n",
       "      <th>Volume</th>\n",
       "      <th>Ticker</th>\n",
       "    </tr>\n",
       "  </thead>\n",
       "  <tbody>\n",
       "    <tr>\n",
       "      <th>0</th>\n",
       "      <td>2021-12-01</td>\n",
       "      <td>59.110001</td>\n",
       "      <td>59.209999</td>\n",
       "      <td>57.189999</td>\n",
       "      <td>57.279999</td>\n",
       "      <td>56.941532</td>\n",
       "      <td>11607000</td>\n",
       "      <td>ATVI</td>\n",
       "    </tr>\n",
       "    <tr>\n",
       "      <th>1</th>\n",
       "      <td>2021-12-02</td>\n",
       "      <td>57.279999</td>\n",
       "      <td>58.180000</td>\n",
       "      <td>56.619999</td>\n",
       "      <td>57.290001</td>\n",
       "      <td>56.951477</td>\n",
       "      <td>8606200</td>\n",
       "      <td>ATVI</td>\n",
       "    </tr>\n",
       "    <tr>\n",
       "      <th>2</th>\n",
       "      <td>2021-12-03</td>\n",
       "      <td>56.980000</td>\n",
       "      <td>57.439999</td>\n",
       "      <td>56.400002</td>\n",
       "      <td>57.360001</td>\n",
       "      <td>57.021061</td>\n",
       "      <td>13287400</td>\n",
       "      <td>ATVI</td>\n",
       "    </tr>\n",
       "    <tr>\n",
       "      <th>3</th>\n",
       "      <td>2021-12-06</td>\n",
       "      <td>57.529999</td>\n",
       "      <td>58.450001</td>\n",
       "      <td>57.240002</td>\n",
       "      <td>58.090000</td>\n",
       "      <td>57.746750</td>\n",
       "      <td>9409000</td>\n",
       "      <td>ATVI</td>\n",
       "    </tr>\n",
       "    <tr>\n",
       "      <th>4</th>\n",
       "      <td>2021-12-07</td>\n",
       "      <td>58.919998</td>\n",
       "      <td>59.270000</td>\n",
       "      <td>58.279999</td>\n",
       "      <td>58.770000</td>\n",
       "      <td>58.422729</td>\n",
       "      <td>11553500</td>\n",
       "      <td>ATVI</td>\n",
       "    </tr>\n",
       "    <tr>\n",
       "      <th>...</th>\n",
       "      <td>...</td>\n",
       "      <td>...</td>\n",
       "      <td>...</td>\n",
       "      <td>...</td>\n",
       "      <td>...</td>\n",
       "      <td>...</td>\n",
       "      <td>...</td>\n",
       "      <td>...</td>\n",
       "    </tr>\n",
       "    <tr>\n",
       "      <th>248</th>\n",
       "      <td>2022-11-25</td>\n",
       "      <td>138.429993</td>\n",
       "      <td>139.462997</td>\n",
       "      <td>136.360001</td>\n",
       "      <td>138.750000</td>\n",
       "      <td>138.750000</td>\n",
       "      <td>603300</td>\n",
       "      <td>ZS</td>\n",
       "    </tr>\n",
       "    <tr>\n",
       "      <th>249</th>\n",
       "      <td>2022-11-28</td>\n",
       "      <td>137.619995</td>\n",
       "      <td>139.389999</td>\n",
       "      <td>135.419998</td>\n",
       "      <td>136.720001</td>\n",
       "      <td>136.720001</td>\n",
       "      <td>1515000</td>\n",
       "      <td>ZS</td>\n",
       "    </tr>\n",
       "    <tr>\n",
       "      <th>250</th>\n",
       "      <td>2022-11-29</td>\n",
       "      <td>136.649994</td>\n",
       "      <td>137.559998</td>\n",
       "      <td>133.610001</td>\n",
       "      <td>134.850006</td>\n",
       "      <td>134.850006</td>\n",
       "      <td>1906300</td>\n",
       "      <td>ZS</td>\n",
       "    </tr>\n",
       "    <tr>\n",
       "      <th>251</th>\n",
       "      <td>2022-11-30</td>\n",
       "      <td>126.989998</td>\n",
       "      <td>133.529999</td>\n",
       "      <td>122.129997</td>\n",
       "      <td>133.449997</td>\n",
       "      <td>133.449997</td>\n",
       "      <td>5204100</td>\n",
       "      <td>ZS</td>\n",
       "    </tr>\n",
       "    <tr>\n",
       "      <th>252</th>\n",
       "      <td>2022-12-01</td>\n",
       "      <td>135.639999</td>\n",
       "      <td>144.869995</td>\n",
       "      <td>134.509995</td>\n",
       "      <td>144.500000</td>\n",
       "      <td>144.500000</td>\n",
       "      <td>7077700</td>\n",
       "      <td>ZS</td>\n",
       "    </tr>\n",
       "  </tbody>\n",
       "</table>\n",
       "<p>25773 rows × 8 columns</p>\n",
       "</div>"
      ],
      "text/plain": [
       "           Date        Open        High         Low       Close   Adj Close  \\\n",
       "0    2021-12-01   59.110001   59.209999   57.189999   57.279999   56.941532   \n",
       "1    2021-12-02   57.279999   58.180000   56.619999   57.290001   56.951477   \n",
       "2    2021-12-03   56.980000   57.439999   56.400002   57.360001   57.021061   \n",
       "3    2021-12-06   57.529999   58.450001   57.240002   58.090000   57.746750   \n",
       "4    2021-12-07   58.919998   59.270000   58.279999   58.770000   58.422729   \n",
       "..          ...         ...         ...         ...         ...         ...   \n",
       "248  2022-11-25  138.429993  139.462997  136.360001  138.750000  138.750000   \n",
       "249  2022-11-28  137.619995  139.389999  135.419998  136.720001  136.720001   \n",
       "250  2022-11-29  136.649994  137.559998  133.610001  134.850006  134.850006   \n",
       "251  2022-11-30  126.989998  133.529999  122.129997  133.449997  133.449997   \n",
       "252  2022-12-01  135.639999  144.869995  134.509995  144.500000  144.500000   \n",
       "\n",
       "       Volume Ticker  \n",
       "0    11607000   ATVI  \n",
       "1     8606200   ATVI  \n",
       "2    13287400   ATVI  \n",
       "3     9409000   ATVI  \n",
       "4    11553500   ATVI  \n",
       "..        ...    ...  \n",
       "248    603300     ZS  \n",
       "249   1515000     ZS  \n",
       "250   1906300     ZS  \n",
       "251   5204100     ZS  \n",
       "252   7077700     ZS  \n",
       "\n",
       "[25773 rows x 8 columns]"
      ]
     },
     "execution_count": 39,
     "metadata": {},
     "output_type": "execute_result"
    }
   ],
   "source": [
    "final_df = pd.concat(dfs)\n",
    "final_df"
   ]
  },
  {
   "cell_type": "code",
   "execution_count": 40,
   "metadata": {},
   "outputs": [
    {
     "data": {
      "text/html": [
       "<div>\n",
       "<style scoped>\n",
       "    .dataframe tbody tr th:only-of-type {\n",
       "        vertical-align: middle;\n",
       "    }\n",
       "\n",
       "    .dataframe tbody tr th {\n",
       "        vertical-align: top;\n",
       "    }\n",
       "\n",
       "    .dataframe thead th {\n",
       "        text-align: right;\n",
       "    }\n",
       "</style>\n",
       "<table border=\"1\" class=\"dataframe\">\n",
       "  <thead>\n",
       "    <tr style=\"text-align: right;\">\n",
       "      <th></th>\n",
       "      <th>Date</th>\n",
       "    </tr>\n",
       "    <tr>\n",
       "      <th>Ticker</th>\n",
       "      <th></th>\n",
       "    </tr>\n",
       "  </thead>\n",
       "  <tbody>\n",
       "    <tr>\n",
       "      <th>AAPL</th>\n",
       "      <td>253</td>\n",
       "    </tr>\n",
       "    <tr>\n",
       "      <th>ABNB</th>\n",
       "      <td>253</td>\n",
       "    </tr>\n",
       "    <tr>\n",
       "      <th>ADBE</th>\n",
       "      <td>253</td>\n",
       "    </tr>\n",
       "    <tr>\n",
       "      <th>ADI</th>\n",
       "      <td>253</td>\n",
       "    </tr>\n",
       "    <tr>\n",
       "      <th>ADP</th>\n",
       "      <td>253</td>\n",
       "    </tr>\n",
       "    <tr>\n",
       "      <th>...</th>\n",
       "      <td>...</td>\n",
       "    </tr>\n",
       "    <tr>\n",
       "      <th>WBA</th>\n",
       "      <td>253</td>\n",
       "    </tr>\n",
       "    <tr>\n",
       "      <th>WDAY</th>\n",
       "      <td>253</td>\n",
       "    </tr>\n",
       "    <tr>\n",
       "      <th>XEL</th>\n",
       "      <td>253</td>\n",
       "    </tr>\n",
       "    <tr>\n",
       "      <th>ZM</th>\n",
       "      <td>253</td>\n",
       "    </tr>\n",
       "    <tr>\n",
       "      <th>ZS</th>\n",
       "      <td>253</td>\n",
       "    </tr>\n",
       "  </tbody>\n",
       "</table>\n",
       "<p>102 rows × 1 columns</p>\n",
       "</div>"
      ],
      "text/plain": [
       "        Date\n",
       "Ticker      \n",
       "AAPL     253\n",
       "ABNB     253\n",
       "ADBE     253\n",
       "ADI      253\n",
       "ADP      253\n",
       "...      ...\n",
       "WBA      253\n",
       "WDAY     253\n",
       "XEL      253\n",
       "ZM       253\n",
       "ZS       253\n",
       "\n",
       "[102 rows x 1 columns]"
      ]
     },
     "execution_count": 40,
     "metadata": {},
     "output_type": "execute_result"
    }
   ],
   "source": [
    "final_df.groupby('Ticker').agg({'Date':'count'})"
   ]
  },
  {
   "cell_type": "code",
   "execution_count": 44,
   "metadata": {},
   "outputs": [
    {
     "data": {
      "text/plain": [
       "'2022-12-07'"
      ]
     },
     "execution_count": 44,
     "metadata": {},
     "output_type": "execute_result"
    }
   ],
   "source": [
    "datetime.datetime.now().strftime(\"%Y-%m-%d\")"
   ]
  },
  {
   "cell_type": "code",
   "execution_count": 50,
   "metadata": {},
   "outputs": [
    {
     "data": {
      "text/plain": [
       "'2021-12-07'"
      ]
     },
     "execution_count": 50,
     "metadata": {},
     "output_type": "execute_result"
    }
   ],
   "source": [
    "(datetime.datetime.now() - timedelta(days=365)).strftime(\"%Y-%m-%d\")"
   ]
  },
  {
   "cell_type": "code",
   "execution_count": 51,
   "metadata": {},
   "outputs": [],
   "source": [
    "import pandas as pd \n",
    "import datetime\n",
    "from datetime import timedelta\n",
    "import time\n",
    "\n",
    "# gets df with stocks in list of stocks\n",
    "def stock_pull(ticker, interval, start, end):\n",
    "    # split dates up\n",
    "    start_year, start_month, start_day = int(start.split('-')[0]), int(start.split('-')[1]), int(start.split('-')[2])\n",
    "    end_year, end_month, end_day = int(end.split('-')[0]),int(end.split('-')[1]), int(end.split('-')[2])\n",
    "\n",
    "    # period intervals\n",
    "    period_1 = int(time.mktime(datetime.datetime(start_year, start_month, start_day, 23, 59).timetuple()))\n",
    "    period_2 = int(time.mktime(datetime.datetime(end_year, end_month, end_day, 23, 59).timetuple()))\n",
    "\n",
    "    query_string = f'https://query1.finance.yahoo.com/v7/finance/download/{ticker}?period1={period_1}&period2={period_2}&interval={interval}&events=history&includeAdjustedClose=true'\n",
    "\n",
    "    df = pd.read_csv(query_string)\n",
    "    df['Ticker'] = ticker\n",
    "\n",
    "    return df\n",
    "\n",
    "def all_stock_pull():\n",
    "    # get a list of top 100 nasdaq\n",
    "    list_of_stocks = pd.read_html('https://en.wikipedia.org/wiki/Nasdaq-100')[4]['Symbol'].to_list()\n",
    "\n",
    "    # get date today\n",
    "    today = datetime.datetime.now().strftime(\"%Y-%m-%d\")\n",
    "\n",
    "    # get date one year ago\n",
    "    last_year = (datetime.datetime.now() - timedelta(days=365)).strftime(\"%Y-%m-%d\")\n",
    "\n",
    "    # all stocks combined\n",
    "    dfs = []\n",
    "    for stock in list_of_stocks:\n",
    "        dfs.append(stock_pull(stock, '1d', last_year, today))\n",
    "\n",
    "    return pd.concat(dfs)"
   ]
  },
  {
   "cell_type": "code",
   "execution_count": 52,
   "metadata": {},
   "outputs": [
    {
     "ename": "TypeError",
     "evalue": "unsupported operand type(s) for -: 'str' and 'datetime.timedelta'",
     "output_type": "error",
     "traceback": [
      "\u001b[0;31m---------------------------------------------------------------------------\u001b[0m",
      "\u001b[0;31mTypeError\u001b[0m                                 Traceback (most recent call last)",
      "Cell \u001b[0;32mIn[52], line 1\u001b[0m\n\u001b[0;32m----> 1\u001b[0m all_stock_pull()\n",
      "Cell \u001b[0;32mIn[51], line 31\u001b[0m, in \u001b[0;36mall_stock_pull\u001b[0;34m()\u001b[0m\n\u001b[1;32m     28\u001b[0m today \u001b[39m=\u001b[39m datetime\u001b[39m.\u001b[39mdatetime\u001b[39m.\u001b[39mnow()\u001b[39m.\u001b[39mstrftime(\u001b[39m\"\u001b[39m\u001b[39m%\u001b[39m\u001b[39mY-\u001b[39m\u001b[39m%\u001b[39m\u001b[39mm-\u001b[39m\u001b[39m%d\u001b[39;00m\u001b[39m\"\u001b[39m)\n\u001b[1;32m     30\u001b[0m \u001b[39m# get date one year ago\u001b[39;00m\n\u001b[0;32m---> 31\u001b[0m last_year \u001b[39m=\u001b[39m (today \u001b[39m-\u001b[39;49m timedelta(days\u001b[39m=\u001b[39;49m\u001b[39m365\u001b[39;49m))\u001b[39m.\u001b[39mstrftime(\u001b[39m\"\u001b[39m\u001b[39m%\u001b[39m\u001b[39mY-\u001b[39m\u001b[39m%\u001b[39m\u001b[39mm-\u001b[39m\u001b[39m%d\u001b[39;00m\u001b[39m\"\u001b[39m)\n\u001b[1;32m     33\u001b[0m \u001b[39m# all stocks combined\u001b[39;00m\n\u001b[1;32m     34\u001b[0m dfs \u001b[39m=\u001b[39m []\n",
      "\u001b[0;31mTypeError\u001b[0m: unsupported operand type(s) for -: 'str' and 'datetime.timedelta'"
     ]
    }
   ],
   "source": [
    "all_stock_pull()"
   ]
  },
  {
   "cell_type": "code",
   "execution_count": 53,
   "metadata": {},
   "outputs": [
    {
     "data": {
      "text/plain": [
       "'2022-12-07'"
      ]
     },
     "execution_count": 53,
     "metadata": {},
     "output_type": "execute_result"
    }
   ],
   "source": [
    " datetime.datetime.now().strftime(\"%Y-%m-%d\")"
   ]
  },
  {
   "cell_type": "code",
   "execution_count": null,
   "metadata": {},
   "outputs": [],
   "source": []
  }
 ],
 "metadata": {
  "kernelspec": {
   "display_name": "Python 3.10.4 ('venv': venv)",
   "language": "python",
   "name": "python3"
  },
  "language_info": {
   "codemirror_mode": {
    "name": "ipython",
    "version": 3
   },
   "file_extension": ".py",
   "mimetype": "text/x-python",
   "name": "python",
   "nbconvert_exporter": "python",
   "pygments_lexer": "ipython3",
   "version": "3.10.4"
  },
  "orig_nbformat": 4,
  "vscode": {
   "interpreter": {
    "hash": "5203edc8a35b5a4155701e548523951d0fd4a0df603495a8e60ead8f46d84f0d"
   }
  }
 },
 "nbformat": 4,
 "nbformat_minor": 2
}
