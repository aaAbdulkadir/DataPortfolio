{
 "cells": [
  {
   "cell_type": "markdown",
   "id": "ef0d1f49",
   "metadata": {},
   "source": [
    "## Homework Solution"
   ]
  },
  {
   "cell_type": "code",
   "execution_count": 1,
   "id": "2d5f8df2",
   "metadata": {},
   "outputs": [
    {
     "data": {
      "text/plain": [
       "'C:\\\\Users\\\\Abdulkadir\\\\anaconda3'"
      ]
     },
     "execution_count": 1,
     "metadata": {},
     "output_type": "execute_result"
    }
   ],
   "source": [
    "import os\n",
    "import sys\n",
    "\n",
    "# have my file path set to python not anaconda\n",
    "os.environ['PYSPARK_PYTHON'] = sys.executable\n",
    "os.environ['PYSPARK_DRIVER_PYTHON'] = sys.executable\n",
    "os.path.dirname(sys.executable)"
   ]
  },
  {
   "cell_type": "code",
   "execution_count": 2,
   "id": "a305bc53",
   "metadata": {},
   "outputs": [],
   "source": [
    "import pyspark\n",
    "from pyspark.sql import SparkSession\n",
    "import pandas as pd"
   ]
  },
  {
   "cell_type": "code",
   "execution_count": 3,
   "id": "a7017620",
   "metadata": {},
   "outputs": [],
   "source": [
    "spark = SparkSession.builder \\\n",
    ".master(\"local[*]\") \\\n",
    ".appName('Week5-Homework').getOrCreate()"
   ]
  },
  {
   "cell_type": "code",
   "execution_count": 4,
   "id": "9e1491e6",
   "metadata": {},
   "outputs": [],
   "source": [
    "# Download the HVFHV data for february 2021\n",
    "# !curl -sS https://d37ci6vzurychx.cloudfront.net/trip-data/fhvhv_tripdata_2021-02.parquet > HVFHV.parquet"
   ]
  },
  {
   "cell_type": "code",
   "execution_count": 5,
   "id": "33d94d1a",
   "metadata": {},
   "outputs": [],
   "source": [
    "df = spark.read.parquet('HVFHV.parquet', header=True, inferSchema=True)"
   ]
  },
  {
   "cell_type": "markdown",
   "id": "a4d55b5e",
   "metadata": {},
   "source": [
    "### Data exploration"
   ]
  },
  {
   "cell_type": "code",
   "execution_count": 6,
   "id": "f886b36f",
   "metadata": {},
   "outputs": [
    {
     "data": {
      "text/plain": [
       "(11613942, 24)"
      ]
     },
     "execution_count": 6,
     "metadata": {},
     "output_type": "execute_result"
    }
   ],
   "source": [
    "# shape of df\n",
    "df.count(), len(df.columns)"
   ]
  },
  {
   "cell_type": "code",
   "execution_count": 7,
   "id": "3f766aaa",
   "metadata": {},
   "outputs": [
    {
     "data": {
      "text/plain": [
       "['hvfhs_license_num',\n",
       " 'dispatching_base_num',\n",
       " 'originating_base_num',\n",
       " 'request_datetime',\n",
       " 'on_scene_datetime',\n",
       " 'pickup_datetime',\n",
       " 'dropoff_datetime',\n",
       " 'PULocationID',\n",
       " 'DOLocationID',\n",
       " 'trip_miles',\n",
       " 'trip_time',\n",
       " 'base_passenger_fare',\n",
       " 'tolls',\n",
       " 'bcf',\n",
       " 'sales_tax',\n",
       " 'congestion_surcharge',\n",
       " 'airport_fee',\n",
       " 'tips',\n",
       " 'driver_pay',\n",
       " 'shared_request_flag',\n",
       " 'shared_match_flag',\n",
       " 'access_a_ride_flag',\n",
       " 'wav_request_flag',\n",
       " 'wav_match_flag']"
      ]
     },
     "execution_count": 7,
     "metadata": {},
     "output_type": "execute_result"
    }
   ],
   "source": [
    "df.columns"
   ]
  },
  {
   "cell_type": "code",
   "execution_count": 8,
   "id": "1183c51e",
   "metadata": {},
   "outputs": [
    {
     "name": "stdout",
     "output_type": "stream",
     "text": [
      "root\n",
      " |-- hvfhs_license_num: string (nullable = true)\n",
      " |-- dispatching_base_num: string (nullable = true)\n",
      " |-- originating_base_num: string (nullable = true)\n",
      " |-- request_datetime: timestamp (nullable = true)\n",
      " |-- on_scene_datetime: timestamp (nullable = true)\n",
      " |-- pickup_datetime: timestamp (nullable = true)\n",
      " |-- dropoff_datetime: timestamp (nullable = true)\n",
      " |-- PULocationID: long (nullable = true)\n",
      " |-- DOLocationID: long (nullable = true)\n",
      " |-- trip_miles: double (nullable = true)\n",
      " |-- trip_time: long (nullable = true)\n",
      " |-- base_passenger_fare: double (nullable = true)\n",
      " |-- tolls: double (nullable = true)\n",
      " |-- bcf: double (nullable = true)\n",
      " |-- sales_tax: double (nullable = true)\n",
      " |-- congestion_surcharge: double (nullable = true)\n",
      " |-- airport_fee: double (nullable = true)\n",
      " |-- tips: double (nullable = true)\n",
      " |-- driver_pay: double (nullable = true)\n",
      " |-- shared_request_flag: string (nullable = true)\n",
      " |-- shared_match_flag: string (nullable = true)\n",
      " |-- access_a_ride_flag: string (nullable = true)\n",
      " |-- wav_request_flag: string (nullable = true)\n",
      " |-- wav_match_flag: string (nullable = true)\n",
      "\n"
     ]
    }
   ],
   "source": [
    "df.printSchema()"
   ]
  },
  {
   "cell_type": "code",
   "execution_count": 9,
   "id": "398e7539",
   "metadata": {},
   "outputs": [
    {
     "name": "stdout",
     "output_type": "stream",
     "text": [
      "hvfhs_license_num: 0\n",
      "dispatching_base_num: 0\n",
      "originating_base_num: 3319132\n",
      "request_datetime: 1\n",
      "on_scene_datetime: 3318817\n",
      "pickup_datetime: 0\n",
      "dropoff_datetime: 0\n",
      "PULocationID: 0\n",
      "DOLocationID: 0\n",
      "trip_miles: 0\n",
      "trip_time: 0\n",
      "base_passenger_fare: 0\n",
      "tolls: 0\n",
      "bcf: 0\n",
      "sales_tax: 0\n",
      "congestion_surcharge: 0\n",
      "airport_fee: 11613181\n",
      "tips: 0\n",
      "driver_pay: 0\n",
      "shared_request_flag: 0\n",
      "shared_match_flag: 0\n",
      "access_a_ride_flag: 0\n",
      "wav_request_flag: 0\n",
      "wav_match_flag: 0\n"
     ]
    }
   ],
   "source": [
    "# NULL VALUES\n",
    "from pyspark.sql.functions import col, count\n",
    "for column in df.columns:\n",
    "    print(column, end=': ')\n",
    "    print(df.filter(col(column).isNull()).count())\n"
   ]
  },
  {
   "cell_type": "code",
   "execution_count": 11,
   "id": "6e122a84",
   "metadata": {},
   "outputs": [
    {
     "data": {
      "text/html": [
       "<div>\n",
       "<style scoped>\n",
       "    .dataframe tbody tr th:only-of-type {\n",
       "        vertical-align: middle;\n",
       "    }\n",
       "\n",
       "    .dataframe tbody tr th {\n",
       "        vertical-align: top;\n",
       "    }\n",
       "\n",
       "    .dataframe thead th {\n",
       "        text-align: right;\n",
       "    }\n",
       "</style>\n",
       "<table border=\"1\" class=\"dataframe\">\n",
       "  <thead>\n",
       "    <tr style=\"text-align: right;\">\n",
       "      <th></th>\n",
       "      <th>hvfhs_license_num</th>\n",
       "      <th>dispatching_base_num</th>\n",
       "      <th>originating_base_num</th>\n",
       "      <th>request_datetime</th>\n",
       "      <th>on_scene_datetime</th>\n",
       "      <th>pickup_datetime</th>\n",
       "      <th>dropoff_datetime</th>\n",
       "      <th>PULocationID</th>\n",
       "      <th>DOLocationID</th>\n",
       "      <th>trip_miles</th>\n",
       "      <th>trip_time</th>\n",
       "      <th>base_passenger_fare</th>\n",
       "      <th>tolls</th>\n",
       "      <th>bcf</th>\n",
       "      <th>sales_tax</th>\n",
       "      <th>congestion_surcharge</th>\n",
       "      <th>airport_fee</th>\n",
       "      <th>tips</th>\n",
       "      <th>driver_pay</th>\n",
       "      <th>shared_request_flag</th>\n",
       "      <th>shared_match_flag</th>\n",
       "      <th>access_a_ride_flag</th>\n",
       "      <th>wav_request_flag</th>\n",
       "      <th>wav_match_flag</th>\n",
       "    </tr>\n",
       "  </thead>\n",
       "  <tbody>\n",
       "    <tr>\n",
       "      <th>0</th>\n",
       "      <td>HV0003</td>\n",
       "      <td>B02764</td>\n",
       "      <td>B02764</td>\n",
       "      <td>2021-01-31 23:59:00</td>\n",
       "      <td>2021-02-01 00:10:19</td>\n",
       "      <td>2021-02-01 00:10:40</td>\n",
       "      <td>2021-02-01 00:21:09</td>\n",
       "      <td>35</td>\n",
       "      <td>39</td>\n",
       "      <td>2.06</td>\n",
       "      <td>629</td>\n",
       "      <td>17.14</td>\n",
       "      <td>0.0</td>\n",
       "      <td>0.51</td>\n",
       "      <td>1.52</td>\n",
       "      <td>0.0</td>\n",
       "      <td>NaN</td>\n",
       "      <td>0.0</td>\n",
       "      <td>9.79</td>\n",
       "      <td>N</td>\n",
       "      <td>N</td>\n",
       "      <td></td>\n",
       "      <td>N</td>\n",
       "      <td>N</td>\n",
       "    </tr>\n",
       "    <tr>\n",
       "      <th>1</th>\n",
       "      <td>HV0003</td>\n",
       "      <td>B02764</td>\n",
       "      <td>B02764</td>\n",
       "      <td>2021-02-01 00:13:35</td>\n",
       "      <td>2021-02-01 00:25:23</td>\n",
       "      <td>2021-02-01 00:27:23</td>\n",
       "      <td>2021-02-01 00:44:01</td>\n",
       "      <td>39</td>\n",
       "      <td>35</td>\n",
       "      <td>3.15</td>\n",
       "      <td>998</td>\n",
       "      <td>32.11</td>\n",
       "      <td>0.0</td>\n",
       "      <td>0.96</td>\n",
       "      <td>2.85</td>\n",
       "      <td>0.0</td>\n",
       "      <td>NaN</td>\n",
       "      <td>0.0</td>\n",
       "      <td>24.01</td>\n",
       "      <td>N</td>\n",
       "      <td>N</td>\n",
       "      <td></td>\n",
       "      <td>N</td>\n",
       "      <td>N</td>\n",
       "    </tr>\n",
       "  </tbody>\n",
       "</table>\n",
       "</div>"
      ],
      "text/plain": [
       "  hvfhs_license_num dispatching_base_num originating_base_num  \\\n",
       "0            HV0003               B02764               B02764   \n",
       "1            HV0003               B02764               B02764   \n",
       "\n",
       "     request_datetime   on_scene_datetime     pickup_datetime  \\\n",
       "0 2021-01-31 23:59:00 2021-02-01 00:10:19 2021-02-01 00:10:40   \n",
       "1 2021-02-01 00:13:35 2021-02-01 00:25:23 2021-02-01 00:27:23   \n",
       "\n",
       "     dropoff_datetime  PULocationID  DOLocationID  trip_miles  trip_time  \\\n",
       "0 2021-02-01 00:21:09            35            39        2.06        629   \n",
       "1 2021-02-01 00:44:01            39            35        3.15        998   \n",
       "\n",
       "   base_passenger_fare  tolls   bcf  sales_tax  congestion_surcharge  \\\n",
       "0                17.14    0.0  0.51       1.52                   0.0   \n",
       "1                32.11    0.0  0.96       2.85                   0.0   \n",
       "\n",
       "   airport_fee  tips  driver_pay shared_request_flag shared_match_flag  \\\n",
       "0          NaN   0.0        9.79                   N                 N   \n",
       "1          NaN   0.0       24.01                   N                 N   \n",
       "\n",
       "  access_a_ride_flag wav_request_flag wav_match_flag  \n",
       "0                                   N              N  \n",
       "1                                   N              N  "
      ]
     },
     "execution_count": 11,
     "metadata": {},
     "output_type": "execute_result"
    }
   ],
   "source": [
    "import pandas as pd\n",
    "pd.set_option('display.max_columns', None)\n",
    "df.limit(2).toPandas().head()"
   ]
  },
  {
   "cell_type": "markdown",
   "id": "619d9332",
   "metadata": {},
   "source": [
    "### Q2) Repartition to 24 partitions and find how the file sizes"
   ]
  },
  {
   "cell_type": "code",
   "execution_count": 12,
   "id": "8c20d7fd",
   "metadata": {},
   "outputs": [],
   "source": [
    "df = df.repartition(24)"
   ]
  },
  {
   "cell_type": "code",
   "execution_count": 13,
   "id": "c8898c03",
   "metadata": {},
   "outputs": [],
   "source": [
    "df.write.parquet('homework/raw/', mode='overwrite')"
   ]
  },
  {
   "cell_type": "markdown",
   "id": "cf22398b",
   "metadata": {},
   "source": [
    "Each file is 21,826KB"
   ]
  },
  {
   "cell_type": "markdown",
   "id": "f30a6086",
   "metadata": {},
   "source": [
    "### Q3) How many taxi trips were there on February 15?"
   ]
  },
  {
   "cell_type": "markdown",
   "id": "d319504d",
   "metadata": {},
   "source": [
    "Consider only trips that started on February 15."
   ]
  },
  {
   "cell_type": "code",
   "execution_count": 53,
   "id": "546645b3",
   "metadata": {},
   "outputs": [
    {
     "name": "stdout",
     "output_type": "stream",
     "text": [
      "+----------------------+\n",
      "|count(pickup_datetime)|\n",
      "+----------------------+\n",
      "|                367170|\n",
      "+----------------------+\n",
      "\n"
     ]
    }
   ],
   "source": [
    "spark.sql(\"\"\"\n",
    "SELECT \n",
    "    COUNT(pickup_datetime)\n",
    "FROM \n",
    "    taxi_data\n",
    "WHERE\n",
    "    pickup_datetime BETWEEN '2021-02-15 00:00:00' AND '2021-02-15 23:59:59'\n",
    "\"\"\").show()"
   ]
  },
  {
   "cell_type": "markdown",
   "id": "9b48b618",
   "metadata": {},
   "source": [
    "### Q4) Longest trip for each day"
   ]
  },
  {
   "cell_type": "markdown",
   "id": "6b1956e1",
   "metadata": {},
   "source": [
    "Now calculate the duration for each trip.\n",
    "\n",
    "Trip starting on which day was the longest?"
   ]
  },
  {
   "cell_type": "code",
   "execution_count": 17,
   "id": "1d1e5ee5",
   "metadata": {},
   "outputs": [],
   "source": [
    "df.createOrReplaceTempView('taxi_data')"
   ]
  },
  {
   "cell_type": "code",
   "execution_count": 24,
   "id": "f4ff21f6",
   "metadata": {},
   "outputs": [
    {
     "name": "stdout",
     "output_type": "stream",
     "text": [
      "+-------------------+--------------+\n",
      "|    pickup_datetime|max(trip_time)|\n",
      "+-------------------+--------------+\n",
      "|2021-02-11 13:40:44|         75540|\n",
      "+-------------------+--------------+\n",
      "only showing top 1 row\n",
      "\n"
     ]
    }
   ],
   "source": [
    "spark.sql(\"\"\"\n",
    "SELECT \n",
    "    pickup_datetime,\n",
    "    MAX(trip_time)\n",
    "FROM \n",
    "    taxi_data\n",
    "GROUP BY\n",
    "    pickup_datetime\n",
    "ORDER BY\n",
    "    MAX(trip_time) DESC\n",
    "\"\"\").show(1)"
   ]
  },
  {
   "cell_type": "markdown",
   "id": "07e7a15d",
   "metadata": {},
   "source": [
    "### Q5) Most frequent dispatching_base_num"
   ]
  },
  {
   "cell_type": "markdown",
   "id": "a4f710b9",
   "metadata": {},
   "source": [
    "Now find the most frequently occurring dispatching_base_num in this dataset.\n",
    "\n",
    "How many stages this spark job has?"
   ]
  },
  {
   "cell_type": "code",
   "execution_count": 54,
   "id": "3a0013be",
   "metadata": {},
   "outputs": [
    {
     "name": "stdout",
     "output_type": "stream",
     "text": [
      "+--------------------+---------------------------+\n",
      "|dispatching_base_num|count(dispatching_base_num)|\n",
      "+--------------------+---------------------------+\n",
      "|              B02510|                    3233664|\n",
      "+--------------------+---------------------------+\n",
      "only showing top 1 row\n",
      "\n"
     ]
    }
   ],
   "source": [
    "spark.sql(\"\"\"\n",
    "SELECT\n",
    "    dispatching_base_num,\n",
    "    COUNT(dispatching_base_num)\n",
    "FROM \n",
    "    taxi_data\n",
    "GROUP BY\n",
    "    dispatching_base_num\n",
    "ORDER BY\n",
    "    COUNT(dispatching_base_num) DESC\n",
    "\"\"\").show(1)"
   ]
  },
  {
   "cell_type": "markdown",
   "id": "eb77886b",
   "metadata": {},
   "source": [
    "3 Stages, 2 Skipped"
   ]
  },
  {
   "cell_type": "markdown",
   "id": "b1d57a0d",
   "metadata": {},
   "source": [
    "### Q6( Most common locations pair"
   ]
  },
  {
   "cell_type": "markdown",
   "id": "ac58712d",
   "metadata": {},
   "source": [
    "Find the most common pickup-dropoff pair.\n",
    "\n",
    "For example:\n",
    "\n",
    "\"Jamaica Bay / Clinton East\"\n",
    "\n",
    "Enter two zone names separated by a slash\n",
    "\n",
    "If any of the zone names are unknown (missing), use \"Unknown\". For example, \"Unknown / Clinton East\".capitalize"
   ]
  },
  {
   "cell_type": "markdown",
   "id": "8fa54f27",
   "metadata": {},
   "source": [
    "- Only have PULocationID and DOLocation ID"
   ]
  },
  {
   "cell_type": "code",
   "execution_count": 41,
   "id": "64a0bcbb",
   "metadata": {},
   "outputs": [
    {
     "name": "stdout",
     "output_type": "stream",
     "text": [
      "+-------------------+-----+\n",
      "|pickup_dropoff_pair|count|\n",
      "+-------------------+-----+\n",
      "|              76/76|45041|\n",
      "|              26/26|37329|\n",
      "|              39/39|28026|\n",
      "|              61/61|25976|\n",
      "|              14/14|17934|\n",
      "|                7/7|14688|\n",
      "|            129/129|14688|\n",
      "|              42/42|14481|\n",
      "|              37/37|14424|\n",
      "|              89/89|13976|\n",
      "|            216/216|13716|\n",
      "|              35/35|12829|\n",
      "|            132/265|12542|\n",
      "|             188/61|11814|\n",
      "|              95/95|11548|\n",
      "|              36/37|11491|\n",
      "|              37/36|11487|\n",
      "|             61/188|11462|\n",
      "|             61/225|11342|\n",
      "|            188/188|11308|\n",
      "+-------------------+-----+\n",
      "only showing top 20 rows\n",
      "\n"
     ]
    }
   ],
   "source": [
    "spark.sql(\"\"\"\n",
    "SELECT \n",
    "    CONCAT(PULocationID, '/', DOLocationID) AS pickup_dropoff_pair,\n",
    "    COUNT(CONCAT(PULocationID, '/', DOLocationID)) AS count\n",
    "FROM \n",
    "    taxi_data\n",
    "GROUP BY\n",
    "    CONCAT(PULocationID, '/', DOLocationID)\n",
    "ORDER BY\n",
    "    count DESC\n",
    "\"\"\").show()"
   ]
  }
 ],
 "metadata": {
  "kernelspec": {
   "display_name": "Python 3",
   "language": "python",
   "name": "python3"
  },
  "language_info": {
   "codemirror_mode": {
    "name": "ipython",
    "version": 3
   },
   "file_extension": ".py",
   "mimetype": "text/x-python",
   "name": "python",
   "nbconvert_exporter": "python",
   "pygments_lexer": "ipython3",
   "version": "3.8.8"
  }
 },
 "nbformat": 4,
 "nbformat_minor": 5
}
