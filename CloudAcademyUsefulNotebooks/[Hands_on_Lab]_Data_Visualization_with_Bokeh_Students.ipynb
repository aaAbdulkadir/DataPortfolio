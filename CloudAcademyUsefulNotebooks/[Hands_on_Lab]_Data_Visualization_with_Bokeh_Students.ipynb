{
 "cells": [
  {
   "cell_type": "markdown",
   "metadata": {
    "id": "y8wUcUpnenC-"
   },
   "source": [
    "# Hands-on Lab\n",
    "## Data Visualization with Bokeh\n",
    "### Author: Andrea Giussani"
   ]
  },
  {
   "cell_type": "markdown",
   "metadata": {
    "id": "l9rAZ0Gev1eo"
   },
   "source": [
    "#### Description\n",
    "In this Hands-on lab, you will master your knowledge on Bokeh, a very popular Python library for dynamic data visualization. Here, you will build standalone plots, and add interactive tools and features, including dynamic legends and Hover inspectors.\n",
    "\n",
    "\n",
    "Before starting this lab, you are strongly encouraged to take the following courses: \n",
    " - [Data Wrangling with Pandas](https://cloudacademy.com/course/data-wrangling-with-pandas-1089/?context_resource=lp&context_id=1988).\n",
    " - [Data Visualisation with Python using Matplotlib](https://cloudacademy.com/course/data-visualization-with-python-using-matplotlib-1127/advanced-customization-in-matplotlib/?context_resource=lp&context_id=2148).\n",
    " - [Interactive Data Visualization with Python using Bokeh](https://cloudacademy.com/course/interactive-data-visualization-with-python-using-bokeh-1271/introduction/?context_id=2148&context_resource=lp).\n",
    "\n",
    "\n",
    "Your data visualization skills will be challenged, and by the end of this lab, you should have a deep understanding of how Bokeh practically works.\n",
    "\n",
    "\n",
    "\n",
    "#### Learning Objectives\n",
    "Upon completion of this lab you will be able to:\n",
    "\n",
    "- build a standard plot with Bokeh using a line glyph;\n",
    "- bring interactivity inside a bokeh plot with a dynamic legend;\n",
    "- create a Column Data Source;\n",
    "- enrich a bokeh plot with the Hover Inspector;\n",
    "- visualize cagtegorical variables with a bar chart;\n",
    "- create a multi-index bar plot for catgorical variables;\n",
    "- build a histogram with Bokeh.\n",
    "\n",
    "#### Intended Audience\n",
    "This lab is intended for:\n",
    " - Those interested in performing data visualization with Python.\n",
    " - Anyone involved in data science and engineering pipelines.\n",
    "\n",
    "#### Prerequisites\n",
    "You should possess:\n",
    " - An intermediate understanding of Python.\n",
    " - Basic knowledge of the following libraries: Pandas, Matplotlib, Numpy.\n",
    "\n"
   ]
  },
  {
   "cell_type": "markdown",
   "metadata": {
    "id": "vy3emjIkWd0c"
   },
   "source": [
    "### 1. Data Preparation"
   ]
  },
  {
   "cell_type": "markdown",
   "metadata": {
    "id": "UuMH9AkOX9aA"
   },
   "source": [
    "To import the data in our working memory, we use the Python `pandas` library, a very popular data management Python library. We are going to employ the `pd.read_csv` method to ingest the data, and then using simple slicing operations to reduce the dimensionality of the dataset."
   ]
  },
  {
   "cell_type": "code",
   "execution_count": 1,
   "metadata": {
    "id": "3jSU94mNZ3N7"
   },
   "outputs": [],
   "source": [
    "import pandas as pd"
   ]
  },
  {
   "cell_type": "code",
   "execution_count": 2,
   "metadata": {
    "id": "OQksr_aMyv54"
   },
   "outputs": [],
   "source": [
    "df_all = pd.read_csv('data/all_fifa_data.zip')"
   ]
  },
  {
   "cell_type": "markdown",
   "metadata": {
    "id": "mB2cMnbb1bmL"
   },
   "source": [
    "Let us print the first two rows of our dataset: we have 107 columns."
   ]
  },
  {
   "cell_type": "code",
   "execution_count": 3,
   "metadata": {
    "colab": {
     "base_uri": "https://localhost:8080/",
     "height": 279
    },
    "id": "SdtcLc9HBaMO",
    "outputId": "313c75ad-440a-43e0-d9d8-712002ecc898"
   },
   "outputs": [
    {
     "data": {
      "text/html": [
       "<div>\n",
       "<style scoped>\n",
       "    .dataframe tbody tr th:only-of-type {\n",
       "        vertical-align: middle;\n",
       "    }\n",
       "\n",
       "    .dataframe tbody tr th {\n",
       "        vertical-align: top;\n",
       "    }\n",
       "\n",
       "    .dataframe thead th {\n",
       "        text-align: right;\n",
       "    }\n",
       "</style>\n",
       "<table border=\"1\" class=\"dataframe\">\n",
       "  <thead>\n",
       "    <tr style=\"text-align: right;\">\n",
       "      <th></th>\n",
       "      <th>sofifa_id</th>\n",
       "      <th>player_url</th>\n",
       "      <th>short_name</th>\n",
       "      <th>long_name</th>\n",
       "      <th>age</th>\n",
       "      <th>dob</th>\n",
       "      <th>height_cm</th>\n",
       "      <th>weight_kg</th>\n",
       "      <th>nationality</th>\n",
       "      <th>club_name</th>\n",
       "      <th>...</th>\n",
       "      <th>ldm</th>\n",
       "      <th>cdm</th>\n",
       "      <th>rdm</th>\n",
       "      <th>rwb</th>\n",
       "      <th>lb</th>\n",
       "      <th>lcb</th>\n",
       "      <th>cb</th>\n",
       "      <th>rcb</th>\n",
       "      <th>rb</th>\n",
       "      <th>year</th>\n",
       "    </tr>\n",
       "  </thead>\n",
       "  <tbody>\n",
       "    <tr>\n",
       "      <th>0</th>\n",
       "      <td>158023</td>\n",
       "      <td>https://sofifa.com/player/158023/lionel-messi/...</td>\n",
       "      <td>L. Messi</td>\n",
       "      <td>Lionel Andrés Messi Cuccittini</td>\n",
       "      <td>27</td>\n",
       "      <td>1987-06-24</td>\n",
       "      <td>169</td>\n",
       "      <td>67</td>\n",
       "      <td>Argentina</td>\n",
       "      <td>FC Barcelona</td>\n",
       "      <td>...</td>\n",
       "      <td>62+3</td>\n",
       "      <td>62+3</td>\n",
       "      <td>62+3</td>\n",
       "      <td>62+3</td>\n",
       "      <td>54+3</td>\n",
       "      <td>45+3</td>\n",
       "      <td>45+3</td>\n",
       "      <td>45+3</td>\n",
       "      <td>54+3</td>\n",
       "      <td>2015</td>\n",
       "    </tr>\n",
       "    <tr>\n",
       "      <th>1</th>\n",
       "      <td>20801</td>\n",
       "      <td>https://sofifa.com/player/20801/c-ronaldo-dos-...</td>\n",
       "      <td>Cristiano Ronaldo</td>\n",
       "      <td>Cristiano Ronaldo dos Santos Aveiro</td>\n",
       "      <td>29</td>\n",
       "      <td>1985-02-05</td>\n",
       "      <td>185</td>\n",
       "      <td>80</td>\n",
       "      <td>Portugal</td>\n",
       "      <td>Real Madrid</td>\n",
       "      <td>...</td>\n",
       "      <td>63+3</td>\n",
       "      <td>63+3</td>\n",
       "      <td>63+3</td>\n",
       "      <td>63+3</td>\n",
       "      <td>57+3</td>\n",
       "      <td>52+3</td>\n",
       "      <td>52+3</td>\n",
       "      <td>52+3</td>\n",
       "      <td>57+3</td>\n",
       "      <td>2015</td>\n",
       "    </tr>\n",
       "  </tbody>\n",
       "</table>\n",
       "<p>2 rows × 107 columns</p>\n",
       "</div>"
      ],
      "text/plain": [
       "   sofifa_id                                         player_url  \\\n",
       "0     158023  https://sofifa.com/player/158023/lionel-messi/...   \n",
       "1      20801  https://sofifa.com/player/20801/c-ronaldo-dos-...   \n",
       "\n",
       "          short_name                            long_name  age         dob  \\\n",
       "0           L. Messi       Lionel Andrés Messi Cuccittini   27  1987-06-24   \n",
       "1  Cristiano Ronaldo  Cristiano Ronaldo dos Santos Aveiro   29  1985-02-05   \n",
       "\n",
       "   height_cm  weight_kg nationality     club_name  ...   ldm   cdm   rdm  \\\n",
       "0        169         67   Argentina  FC Barcelona  ...  62+3  62+3  62+3   \n",
       "1        185         80    Portugal   Real Madrid  ...  63+3  63+3  63+3   \n",
       "\n",
       "    rwb    lb   lcb    cb   rcb    rb  year  \n",
       "0  62+3  54+3  45+3  45+3  45+3  54+3  2015  \n",
       "1  63+3  57+3  52+3  52+3  52+3  57+3  2015  \n",
       "\n",
       "[2 rows x 107 columns]"
      ]
     },
     "execution_count": 3,
     "metadata": {},
     "output_type": "execute_result"
    }
   ],
   "source": [
    "df_all.head(2)"
   ]
  },
  {
   "cell_type": "markdown",
   "metadata": {
    "id": "GZOeyKaHez_f"
   },
   "source": [
    "Possibly we can reduce the dimensionality of this dataset. We indeed retain a few original columns. This is done for you in the next cell."
   ]
  },
  {
   "cell_type": "code",
   "execution_count": 4,
   "metadata": {
    "id": "bHNZOw2h2m8t"
   },
   "outputs": [],
   "source": [
    "filtered_df = df_all[[\n",
    "    'sofifa_id', 'short_name', 'age', \n",
    "    'nationality', 'club_name', 'overall', \n",
    "    'potential', 'value_eur', 'wage_eur', 'year'\n",
    "]]"
   ]
  },
  {
   "cell_type": "markdown",
   "metadata": {
    "id": "D3hFSQFNYPy6"
   },
   "source": [
    "Now the `filtered_df` contains fewer columns than the orginal one. To give you an example, the next cell produces the time series related to the football player `L. Messi`."
   ]
  },
  {
   "cell_type": "code",
   "execution_count": 5,
   "metadata": {
    "colab": {
     "base_uri": "https://localhost:8080/",
     "height": 266
    },
    "id": "WiJS5u6lc4kc",
    "outputId": "1eae02dc-e5fa-45f4-b8d3-cdb9b9c0eba2"
   },
   "outputs": [
    {
     "data": {
      "text/html": [
       "<div>\n",
       "<style scoped>\n",
       "    .dataframe tbody tr th:only-of-type {\n",
       "        vertical-align: middle;\n",
       "    }\n",
       "\n",
       "    .dataframe tbody tr th {\n",
       "        vertical-align: top;\n",
       "    }\n",
       "\n",
       "    .dataframe thead th {\n",
       "        text-align: right;\n",
       "    }\n",
       "</style>\n",
       "<table border=\"1\" class=\"dataframe\">\n",
       "  <thead>\n",
       "    <tr style=\"text-align: right;\">\n",
       "      <th></th>\n",
       "      <th>sofifa_id</th>\n",
       "      <th>short_name</th>\n",
       "      <th>age</th>\n",
       "      <th>nationality</th>\n",
       "      <th>club_name</th>\n",
       "      <th>overall</th>\n",
       "      <th>potential</th>\n",
       "      <th>value_eur</th>\n",
       "      <th>wage_eur</th>\n",
       "      <th>year</th>\n",
       "    </tr>\n",
       "  </thead>\n",
       "  <tbody>\n",
       "    <tr>\n",
       "      <th>0</th>\n",
       "      <td>158023</td>\n",
       "      <td>L. Messi</td>\n",
       "      <td>27</td>\n",
       "      <td>Argentina</td>\n",
       "      <td>FC Barcelona</td>\n",
       "      <td>93</td>\n",
       "      <td>95</td>\n",
       "      <td>100500000</td>\n",
       "      <td>550000</td>\n",
       "      <td>2015</td>\n",
       "    </tr>\n",
       "    <tr>\n",
       "      <th>16155</th>\n",
       "      <td>158023</td>\n",
       "      <td>L. Messi</td>\n",
       "      <td>28</td>\n",
       "      <td>Argentina</td>\n",
       "      <td>FC Barcelona</td>\n",
       "      <td>94</td>\n",
       "      <td>95</td>\n",
       "      <td>111000000</td>\n",
       "      <td>550000</td>\n",
       "      <td>2016</td>\n",
       "    </tr>\n",
       "    <tr>\n",
       "      <th>31779</th>\n",
       "      <td>158023</td>\n",
       "      <td>L. Messi</td>\n",
       "      <td>29</td>\n",
       "      <td>Argentina</td>\n",
       "      <td>FC Barcelona</td>\n",
       "      <td>93</td>\n",
       "      <td>93</td>\n",
       "      <td>89000000</td>\n",
       "      <td>575000</td>\n",
       "      <td>2017</td>\n",
       "    </tr>\n",
       "    <tr>\n",
       "      <th>49376</th>\n",
       "      <td>158023</td>\n",
       "      <td>L. Messi</td>\n",
       "      <td>30</td>\n",
       "      <td>Argentina</td>\n",
       "      <td>FC Barcelona</td>\n",
       "      <td>93</td>\n",
       "      <td>93</td>\n",
       "      <td>105000000</td>\n",
       "      <td>575000</td>\n",
       "      <td>2018</td>\n",
       "    </tr>\n",
       "    <tr>\n",
       "      <th>67330</th>\n",
       "      <td>158023</td>\n",
       "      <td>L. Messi</td>\n",
       "      <td>31</td>\n",
       "      <td>Argentina</td>\n",
       "      <td>FC Barcelona</td>\n",
       "      <td>94</td>\n",
       "      <td>94</td>\n",
       "      <td>110500000</td>\n",
       "      <td>575000</td>\n",
       "      <td>2019</td>\n",
       "    </tr>\n",
       "    <tr>\n",
       "      <th>85414</th>\n",
       "      <td>158023</td>\n",
       "      <td>L. Messi</td>\n",
       "      <td>32</td>\n",
       "      <td>Argentina</td>\n",
       "      <td>FC Barcelona</td>\n",
       "      <td>94</td>\n",
       "      <td>94</td>\n",
       "      <td>95500000</td>\n",
       "      <td>575000</td>\n",
       "      <td>2020</td>\n",
       "    </tr>\n",
       "    <tr>\n",
       "      <th>103897</th>\n",
       "      <td>158023</td>\n",
       "      <td>L. Messi</td>\n",
       "      <td>33</td>\n",
       "      <td>Argentina</td>\n",
       "      <td>FC Barcelona</td>\n",
       "      <td>93</td>\n",
       "      <td>93</td>\n",
       "      <td>67500000</td>\n",
       "      <td>560000</td>\n",
       "      <td>2021</td>\n",
       "    </tr>\n",
       "  </tbody>\n",
       "</table>\n",
       "</div>"
      ],
      "text/plain": [
       "        sofifa_id short_name  age nationality     club_name  overall  \\\n",
       "0          158023   L. Messi   27   Argentina  FC Barcelona       93   \n",
       "16155      158023   L. Messi   28   Argentina  FC Barcelona       94   \n",
       "31779      158023   L. Messi   29   Argentina  FC Barcelona       93   \n",
       "49376      158023   L. Messi   30   Argentina  FC Barcelona       93   \n",
       "67330      158023   L. Messi   31   Argentina  FC Barcelona       94   \n",
       "85414      158023   L. Messi   32   Argentina  FC Barcelona       94   \n",
       "103897     158023   L. Messi   33   Argentina  FC Barcelona       93   \n",
       "\n",
       "        potential  value_eur  wage_eur  year  \n",
       "0              95  100500000    550000  2015  \n",
       "16155          95  111000000    550000  2016  \n",
       "31779          93   89000000    575000  2017  \n",
       "49376          93  105000000    575000  2018  \n",
       "67330          94  110500000    575000  2019  \n",
       "85414          94   95500000    575000  2020  \n",
       "103897         93   67500000    560000  2021  "
      ]
     },
     "execution_count": 5,
     "metadata": {},
     "output_type": "execute_result"
    }
   ],
   "source": [
    "filtered_df[filtered_df.short_name.str.contains('L. Messi')]"
   ]
  },
  {
   "cell_type": "markdown",
   "metadata": {
    "id": "f8BjLkBOWgOF"
   },
   "source": [
    "### 2. Basic Plotting with Bokeh"
   ]
  },
  {
   "cell_type": "markdown",
   "metadata": {
    "id": "_MZ7SgLX3NFc"
   },
   "source": [
    "Bokeh has a nice submodule called `plotting` which contains the `figure` method.\n",
    "This is the object you need to create and customize a figure in bokeh. So it is worth you fully understand it before moving to more complex topics.\n",
    "The figure method has several class methods that are used to draw a plot inside a figure object, and those are called `glyphs`: if you are curious, you can watch the course on `Data Visualization with Bokeh` available in our content library. One possibility is to use a *line* glyph:"
   ]
  },
  {
   "cell_type": "markdown",
   "metadata": {
    "id": "CY-sCAxC87pL"
   },
   "source": [
    "In this section, we take into account the overall score evolution for `J. Vardy`, a British football player, and we plot it over time.\n",
    "To create a standard line glyph in Bokeh, we need to initialize a `figure` object, and then applying the `line` method on it. This is done for you in the next cell."
   ]
  },
  {
   "cell_type": "code",
   "execution_count": 6,
   "metadata": {
    "colab": {
     "base_uri": "https://localhost:8080/",
     "height": 417
    },
    "id": "hXNwNJnc7EWL",
    "outputId": "302d8690-c427-4b6f-c73e-fff506608975"
   },
   "outputs": [
    {
     "data": {
      "text/html": [
       "\n",
       "    <div class=\"bk-root\">\n",
       "        <a href=\"https://bokeh.org\" target=\"_blank\" class=\"bk-logo bk-logo-small bk-logo-notebook\"></a>\n",
       "        <span id=\"1002\">Loading BokehJS ...</span>\n",
       "    </div>"
      ]
     },
     "metadata": {},
     "output_type": "display_data"
    },
    {
     "data": {
      "application/javascript": [
       "\n",
       "(function(root) {\n",
       "  function now() {\n",
       "    return new Date();\n",
       "  }\n",
       "\n",
       "  var force = true;\n",
       "\n",
       "  if (typeof root._bokeh_onload_callbacks === \"undefined\" || force === true) {\n",
       "    root._bokeh_onload_callbacks = [];\n",
       "    root._bokeh_is_loading = undefined;\n",
       "  }\n",
       "\n",
       "  var JS_MIME_TYPE = 'application/javascript';\n",
       "  var HTML_MIME_TYPE = 'text/html';\n",
       "  var EXEC_MIME_TYPE = 'application/vnd.bokehjs_exec.v0+json';\n",
       "  var CLASS_NAME = 'output_bokeh rendered_html';\n",
       "\n",
       "  /**\n",
       "   * Render data to the DOM node\n",
       "   */\n",
       "  function render(props, node) {\n",
       "    var script = document.createElement(\"script\");\n",
       "    node.appendChild(script);\n",
       "  }\n",
       "\n",
       "  /**\n",
       "   * Handle when an output is cleared or removed\n",
       "   */\n",
       "  function handleClearOutput(event, handle) {\n",
       "    var cell = handle.cell;\n",
       "\n",
       "    var id = cell.output_area._bokeh_element_id;\n",
       "    var server_id = cell.output_area._bokeh_server_id;\n",
       "    // Clean up Bokeh references\n",
       "    if (id != null && id in Bokeh.index) {\n",
       "      Bokeh.index[id].model.document.clear();\n",
       "      delete Bokeh.index[id];\n",
       "    }\n",
       "\n",
       "    if (server_id !== undefined) {\n",
       "      // Clean up Bokeh references\n",
       "      var cmd = \"from bokeh.io.state import curstate; print(curstate().uuid_to_server['\" + server_id + \"'].get_sessions()[0].document.roots[0]._id)\";\n",
       "      cell.notebook.kernel.execute(cmd, {\n",
       "        iopub: {\n",
       "          output: function(msg) {\n",
       "            var id = msg.content.text.trim();\n",
       "            if (id in Bokeh.index) {\n",
       "              Bokeh.index[id].model.document.clear();\n",
       "              delete Bokeh.index[id];\n",
       "            }\n",
       "          }\n",
       "        }\n",
       "      });\n",
       "      // Destroy server and session\n",
       "      var cmd = \"import bokeh.io.notebook as ion; ion.destroy_server('\" + server_id + \"')\";\n",
       "      cell.notebook.kernel.execute(cmd);\n",
       "    }\n",
       "  }\n",
       "\n",
       "  /**\n",
       "   * Handle when a new output is added\n",
       "   */\n",
       "  function handleAddOutput(event, handle) {\n",
       "    var output_area = handle.output_area;\n",
       "    var output = handle.output;\n",
       "\n",
       "    // limit handleAddOutput to display_data with EXEC_MIME_TYPE content only\n",
       "    if ((output.output_type != \"display_data\") || (!Object.prototype.hasOwnProperty.call(output.data, EXEC_MIME_TYPE))) {\n",
       "      return\n",
       "    }\n",
       "\n",
       "    var toinsert = output_area.element.find(\".\" + CLASS_NAME.split(' ')[0]);\n",
       "\n",
       "    if (output.metadata[EXEC_MIME_TYPE][\"id\"] !== undefined) {\n",
       "      toinsert[toinsert.length - 1].firstChild.textContent = output.data[JS_MIME_TYPE];\n",
       "      // store reference to embed id on output_area\n",
       "      output_area._bokeh_element_id = output.metadata[EXEC_MIME_TYPE][\"id\"];\n",
       "    }\n",
       "    if (output.metadata[EXEC_MIME_TYPE][\"server_id\"] !== undefined) {\n",
       "      var bk_div = document.createElement(\"div\");\n",
       "      bk_div.innerHTML = output.data[HTML_MIME_TYPE];\n",
       "      var script_attrs = bk_div.children[0].attributes;\n",
       "      for (var i = 0; i < script_attrs.length; i++) {\n",
       "        toinsert[toinsert.length - 1].firstChild.setAttribute(script_attrs[i].name, script_attrs[i].value);\n",
       "        toinsert[toinsert.length - 1].firstChild.textContent = bk_div.children[0].textContent\n",
       "      }\n",
       "      // store reference to server id on output_area\n",
       "      output_area._bokeh_server_id = output.metadata[EXEC_MIME_TYPE][\"server_id\"];\n",
       "    }\n",
       "  }\n",
       "\n",
       "  function register_renderer(events, OutputArea) {\n",
       "\n",
       "    function append_mime(data, metadata, element) {\n",
       "      // create a DOM node to render to\n",
       "      var toinsert = this.create_output_subarea(\n",
       "        metadata,\n",
       "        CLASS_NAME,\n",
       "        EXEC_MIME_TYPE\n",
       "      );\n",
       "      this.keyboard_manager.register_events(toinsert);\n",
       "      // Render to node\n",
       "      var props = {data: data, metadata: metadata[EXEC_MIME_TYPE]};\n",
       "      render(props, toinsert[toinsert.length - 1]);\n",
       "      element.append(toinsert);\n",
       "      return toinsert\n",
       "    }\n",
       "\n",
       "    /* Handle when an output is cleared or removed */\n",
       "    events.on('clear_output.CodeCell', handleClearOutput);\n",
       "    events.on('delete.Cell', handleClearOutput);\n",
       "\n",
       "    /* Handle when a new output is added */\n",
       "    events.on('output_added.OutputArea', handleAddOutput);\n",
       "\n",
       "    /**\n",
       "     * Register the mime type and append_mime function with output_area\n",
       "     */\n",
       "    OutputArea.prototype.register_mime_type(EXEC_MIME_TYPE, append_mime, {\n",
       "      /* Is output safe? */\n",
       "      safe: true,\n",
       "      /* Index of renderer in `output_area.display_order` */\n",
       "      index: 0\n",
       "    });\n",
       "  }\n",
       "\n",
       "  // register the mime type if in Jupyter Notebook environment and previously unregistered\n",
       "  if (root.Jupyter !== undefined) {\n",
       "    var events = require('base/js/events');\n",
       "    var OutputArea = require('notebook/js/outputarea').OutputArea;\n",
       "\n",
       "    if (OutputArea.prototype.mime_types().indexOf(EXEC_MIME_TYPE) == -1) {\n",
       "      register_renderer(events, OutputArea);\n",
       "    }\n",
       "  }\n",
       "\n",
       "  \n",
       "  if (typeof (root._bokeh_timeout) === \"undefined\" || force === true) {\n",
       "    root._bokeh_timeout = Date.now() + 5000;\n",
       "    root._bokeh_failed_load = false;\n",
       "  }\n",
       "\n",
       "  var NB_LOAD_WARNING = {'data': {'text/html':\n",
       "     \"<div style='background-color: #fdd'>\\n\"+\n",
       "     \"<p>\\n\"+\n",
       "     \"BokehJS does not appear to have successfully loaded. If loading BokehJS from CDN, this \\n\"+\n",
       "     \"may be due to a slow or bad network connection. Possible fixes:\\n\"+\n",
       "     \"</p>\\n\"+\n",
       "     \"<ul>\\n\"+\n",
       "     \"<li>re-rerun `output_notebook()` to attempt to load from CDN again, or</li>\\n\"+\n",
       "     \"<li>use INLINE resources instead, as so:</li>\\n\"+\n",
       "     \"</ul>\\n\"+\n",
       "     \"<code>\\n\"+\n",
       "     \"from bokeh.resources import INLINE\\n\"+\n",
       "     \"output_notebook(resources=INLINE)\\n\"+\n",
       "     \"</code>\\n\"+\n",
       "     \"</div>\"}};\n",
       "\n",
       "  function display_loaded() {\n",
       "    var el = document.getElementById(\"1002\");\n",
       "    if (el != null) {\n",
       "      el.textContent = \"BokehJS is loading...\";\n",
       "    }\n",
       "    if (root.Bokeh !== undefined) {\n",
       "      if (el != null) {\n",
       "        el.textContent = \"BokehJS \" + root.Bokeh.version + \" successfully loaded.\";\n",
       "      }\n",
       "    } else if (Date.now() < root._bokeh_timeout) {\n",
       "      setTimeout(display_loaded, 100)\n",
       "    }\n",
       "  }\n",
       "\n",
       "\n",
       "  function run_callbacks() {\n",
       "    try {\n",
       "      root._bokeh_onload_callbacks.forEach(function(callback) {\n",
       "        if (callback != null)\n",
       "          callback();\n",
       "      });\n",
       "    } finally {\n",
       "      delete root._bokeh_onload_callbacks\n",
       "    }\n",
       "    console.debug(\"Bokeh: all callbacks have finished\");\n",
       "  }\n",
       "\n",
       "  function load_libs(css_urls, js_urls, callback) {\n",
       "    if (css_urls == null) css_urls = [];\n",
       "    if (js_urls == null) js_urls = [];\n",
       "\n",
       "    root._bokeh_onload_callbacks.push(callback);\n",
       "    if (root._bokeh_is_loading > 0) {\n",
       "      console.debug(\"Bokeh: BokehJS is being loaded, scheduling callback at\", now());\n",
       "      return null;\n",
       "    }\n",
       "    if (js_urls == null || js_urls.length === 0) {\n",
       "      run_callbacks();\n",
       "      return null;\n",
       "    }\n",
       "    console.debug(\"Bokeh: BokehJS not loaded, scheduling load and callback at\", now());\n",
       "    root._bokeh_is_loading = css_urls.length + js_urls.length;\n",
       "\n",
       "    function on_load() {\n",
       "      root._bokeh_is_loading--;\n",
       "      if (root._bokeh_is_loading === 0) {\n",
       "        console.debug(\"Bokeh: all BokehJS libraries/stylesheets loaded\");\n",
       "        run_callbacks()\n",
       "      }\n",
       "    }\n",
       "\n",
       "    function on_error(url) {\n",
       "      console.error(\"failed to load \" + url);\n",
       "    }\n",
       "\n",
       "    for (let i = 0; i < css_urls.length; i++) {\n",
       "      const url = css_urls[i];\n",
       "      const element = document.createElement(\"link\");\n",
       "      element.onload = on_load;\n",
       "      element.onerror = on_error.bind(null, url);\n",
       "      element.rel = \"stylesheet\";\n",
       "      element.type = \"text/css\";\n",
       "      element.href = url;\n",
       "      console.debug(\"Bokeh: injecting link tag for BokehJS stylesheet: \", url);\n",
       "      document.body.appendChild(element);\n",
       "    }\n",
       "\n",
       "    const hashes = {\"https://cdn.bokeh.org/bokeh/release/bokeh-2.3.3.min.js\": \"dM3QQsP+wXdHg42wTqW85BjZQdLNNIXqlPw/BgKoExPmTG7ZLML4EGqLMfqHT6ON\", \"https://cdn.bokeh.org/bokeh/release/bokeh-tables-2.3.3.min.js\": \"8x57I4YuIfu8XyZfFo0XVr2WAT8EK4rh/uDe3wF7YuW2FNUSNEpJbsPaB1nJ2fz2\", \"https://cdn.bokeh.org/bokeh/release/bokeh-widgets-2.3.3.min.js\": \"3QTqdz9LyAm2i0sG5XTePsHec3UHWwVsrOL68SYRoAXsafvfAyqtQ+h440+qIBhS\"};\n",
       "\n",
       "    for (let i = 0; i < js_urls.length; i++) {\n",
       "      const url = js_urls[i];\n",
       "      const element = document.createElement('script');\n",
       "      element.onload = on_load;\n",
       "      element.onerror = on_error.bind(null, url);\n",
       "      element.async = false;\n",
       "      element.src = url;\n",
       "      if (url in hashes) {\n",
       "        element.crossOrigin = \"anonymous\";\n",
       "        element.integrity = \"sha384-\" + hashes[url];\n",
       "      }\n",
       "      console.debug(\"Bokeh: injecting script tag for BokehJS library: \", url);\n",
       "      document.head.appendChild(element);\n",
       "    }\n",
       "  };\n",
       "\n",
       "  function inject_raw_css(css) {\n",
       "    const element = document.createElement(\"style\");\n",
       "    element.appendChild(document.createTextNode(css));\n",
       "    document.body.appendChild(element);\n",
       "  }\n",
       "\n",
       "  \n",
       "  var js_urls = [\"https://cdn.bokeh.org/bokeh/release/bokeh-2.3.3.min.js\", \"https://cdn.bokeh.org/bokeh/release/bokeh-widgets-2.3.3.min.js\", \"https://cdn.bokeh.org/bokeh/release/bokeh-tables-2.3.3.min.js\"];\n",
       "  var css_urls = [];\n",
       "  \n",
       "\n",
       "  var inline_js = [\n",
       "    function(Bokeh) {\n",
       "      Bokeh.set_log_level(\"info\");\n",
       "    },\n",
       "    function(Bokeh) {\n",
       "    \n",
       "    \n",
       "    }\n",
       "  ];\n",
       "\n",
       "  function run_inline_js() {\n",
       "    \n",
       "    if (root.Bokeh !== undefined || force === true) {\n",
       "      \n",
       "    for (var i = 0; i < inline_js.length; i++) {\n",
       "      inline_js[i].call(root, root.Bokeh);\n",
       "    }\n",
       "    if (force === true) {\n",
       "        display_loaded();\n",
       "      }} else if (Date.now() < root._bokeh_timeout) {\n",
       "      setTimeout(run_inline_js, 100);\n",
       "    } else if (!root._bokeh_failed_load) {\n",
       "      console.log(\"Bokeh: BokehJS failed to load within specified timeout.\");\n",
       "      root._bokeh_failed_load = true;\n",
       "    } else if (force !== true) {\n",
       "      var cell = $(document.getElementById(\"1002\")).parents('.cell').data().cell;\n",
       "      cell.output_area.append_execute_result(NB_LOAD_WARNING)\n",
       "    }\n",
       "\n",
       "  }\n",
       "\n",
       "  if (root._bokeh_is_loading === 0) {\n",
       "    console.debug(\"Bokeh: BokehJS loaded, going straight to plotting\");\n",
       "    run_inline_js();\n",
       "  } else {\n",
       "    load_libs(css_urls, js_urls, function() {\n",
       "      console.debug(\"Bokeh: BokehJS plotting callback run at\", now());\n",
       "      run_inline_js();\n",
       "    });\n",
       "  }\n",
       "}(window));"
      ],
      "application/vnd.bokehjs_load.v0+json": "\n(function(root) {\n  function now() {\n    return new Date();\n  }\n\n  var force = true;\n\n  if (typeof root._bokeh_onload_callbacks === \"undefined\" || force === true) {\n    root._bokeh_onload_callbacks = [];\n    root._bokeh_is_loading = undefined;\n  }\n\n  \n\n  \n  if (typeof (root._bokeh_timeout) === \"undefined\" || force === true) {\n    root._bokeh_timeout = Date.now() + 5000;\n    root._bokeh_failed_load = false;\n  }\n\n  var NB_LOAD_WARNING = {'data': {'text/html':\n     \"<div style='background-color: #fdd'>\\n\"+\n     \"<p>\\n\"+\n     \"BokehJS does not appear to have successfully loaded. If loading BokehJS from CDN, this \\n\"+\n     \"may be due to a slow or bad network connection. Possible fixes:\\n\"+\n     \"</p>\\n\"+\n     \"<ul>\\n\"+\n     \"<li>re-rerun `output_notebook()` to attempt to load from CDN again, or</li>\\n\"+\n     \"<li>use INLINE resources instead, as so:</li>\\n\"+\n     \"</ul>\\n\"+\n     \"<code>\\n\"+\n     \"from bokeh.resources import INLINE\\n\"+\n     \"output_notebook(resources=INLINE)\\n\"+\n     \"</code>\\n\"+\n     \"</div>\"}};\n\n  function display_loaded() {\n    var el = document.getElementById(\"1002\");\n    if (el != null) {\n      el.textContent = \"BokehJS is loading...\";\n    }\n    if (root.Bokeh !== undefined) {\n      if (el != null) {\n        el.textContent = \"BokehJS \" + root.Bokeh.version + \" successfully loaded.\";\n      }\n    } else if (Date.now() < root._bokeh_timeout) {\n      setTimeout(display_loaded, 100)\n    }\n  }\n\n\n  function run_callbacks() {\n    try {\n      root._bokeh_onload_callbacks.forEach(function(callback) {\n        if (callback != null)\n          callback();\n      });\n    } finally {\n      delete root._bokeh_onload_callbacks\n    }\n    console.debug(\"Bokeh: all callbacks have finished\");\n  }\n\n  function load_libs(css_urls, js_urls, callback) {\n    if (css_urls == null) css_urls = [];\n    if (js_urls == null) js_urls = [];\n\n    root._bokeh_onload_callbacks.push(callback);\n    if (root._bokeh_is_loading > 0) {\n      console.debug(\"Bokeh: BokehJS is being loaded, scheduling callback at\", now());\n      return null;\n    }\n    if (js_urls == null || js_urls.length === 0) {\n      run_callbacks();\n      return null;\n    }\n    console.debug(\"Bokeh: BokehJS not loaded, scheduling load and callback at\", now());\n    root._bokeh_is_loading = css_urls.length + js_urls.length;\n\n    function on_load() {\n      root._bokeh_is_loading--;\n      if (root._bokeh_is_loading === 0) {\n        console.debug(\"Bokeh: all BokehJS libraries/stylesheets loaded\");\n        run_callbacks()\n      }\n    }\n\n    function on_error(url) {\n      console.error(\"failed to load \" + url);\n    }\n\n    for (let i = 0; i < css_urls.length; i++) {\n      const url = css_urls[i];\n      const element = document.createElement(\"link\");\n      element.onload = on_load;\n      element.onerror = on_error.bind(null, url);\n      element.rel = \"stylesheet\";\n      element.type = \"text/css\";\n      element.href = url;\n      console.debug(\"Bokeh: injecting link tag for BokehJS stylesheet: \", url);\n      document.body.appendChild(element);\n    }\n\n    const hashes = {\"https://cdn.bokeh.org/bokeh/release/bokeh-2.3.3.min.js\": \"dM3QQsP+wXdHg42wTqW85BjZQdLNNIXqlPw/BgKoExPmTG7ZLML4EGqLMfqHT6ON\", \"https://cdn.bokeh.org/bokeh/release/bokeh-tables-2.3.3.min.js\": \"8x57I4YuIfu8XyZfFo0XVr2WAT8EK4rh/uDe3wF7YuW2FNUSNEpJbsPaB1nJ2fz2\", \"https://cdn.bokeh.org/bokeh/release/bokeh-widgets-2.3.3.min.js\": \"3QTqdz9LyAm2i0sG5XTePsHec3UHWwVsrOL68SYRoAXsafvfAyqtQ+h440+qIBhS\"};\n\n    for (let i = 0; i < js_urls.length; i++) {\n      const url = js_urls[i];\n      const element = document.createElement('script');\n      element.onload = on_load;\n      element.onerror = on_error.bind(null, url);\n      element.async = false;\n      element.src = url;\n      if (url in hashes) {\n        element.crossOrigin = \"anonymous\";\n        element.integrity = \"sha384-\" + hashes[url];\n      }\n      console.debug(\"Bokeh: injecting script tag for BokehJS library: \", url);\n      document.head.appendChild(element);\n    }\n  };\n\n  function inject_raw_css(css) {\n    const element = document.createElement(\"style\");\n    element.appendChild(document.createTextNode(css));\n    document.body.appendChild(element);\n  }\n\n  \n  var js_urls = [\"https://cdn.bokeh.org/bokeh/release/bokeh-2.3.3.min.js\", \"https://cdn.bokeh.org/bokeh/release/bokeh-widgets-2.3.3.min.js\", \"https://cdn.bokeh.org/bokeh/release/bokeh-tables-2.3.3.min.js\"];\n  var css_urls = [];\n  \n\n  var inline_js = [\n    function(Bokeh) {\n      Bokeh.set_log_level(\"info\");\n    },\n    function(Bokeh) {\n    \n    \n    }\n  ];\n\n  function run_inline_js() {\n    \n    if (root.Bokeh !== undefined || force === true) {\n      \n    for (var i = 0; i < inline_js.length; i++) {\n      inline_js[i].call(root, root.Bokeh);\n    }\n    if (force === true) {\n        display_loaded();\n      }} else if (Date.now() < root._bokeh_timeout) {\n      setTimeout(run_inline_js, 100);\n    } else if (!root._bokeh_failed_load) {\n      console.log(\"Bokeh: BokehJS failed to load within specified timeout.\");\n      root._bokeh_failed_load = true;\n    } else if (force !== true) {\n      var cell = $(document.getElementById(\"1002\")).parents('.cell').data().cell;\n      cell.output_area.append_execute_result(NB_LOAD_WARNING)\n    }\n\n  }\n\n  if (root._bokeh_is_loading === 0) {\n    console.debug(\"Bokeh: BokehJS loaded, going straight to plotting\");\n    run_inline_js();\n  } else {\n    load_libs(css_urls, js_urls, function() {\n      console.debug(\"Bokeh: BokehJS plotting callback run at\", now());\n      run_inline_js();\n    });\n  }\n}(window));"
     },
     "metadata": {},
     "output_type": "display_data"
    },
    {
     "data": {
      "text/html": [
       "\n",
       "\n",
       "\n",
       "\n",
       "\n",
       "\n",
       "  <div class=\"bk-root\" id=\"c4bb4c97-6839-4f27-af2a-0d5698e5a5e5\" data-root-id=\"1003\"></div>\n"
      ]
     },
     "metadata": {},
     "output_type": "display_data"
    },
    {
     "data": {
      "application/javascript": [
       "(function(root) {\n",
       "  function embed_document(root) {\n",
       "    \n",
       "  var docs_json = {\"7b602d9f-8d5b-4eea-bd20-f5567ed73af5\":{\"defs\":[],\"roots\":{\"references\":[{\"attributes\":{\"below\":[{\"id\":\"1012\"}],\"center\":[{\"id\":\"1015\"},{\"id\":\"1019\"}],\"height\":400,\"left\":[{\"id\":\"1016\"}],\"renderers\":[{\"id\":\"1038\"}],\"title\":{\"id\":\"1040\"},\"toolbar\":{\"id\":\"1027\"},\"width\":400,\"x_range\":{\"id\":\"1004\"},\"x_scale\":{\"id\":\"1008\"},\"y_range\":{\"id\":\"1006\"},\"y_scale\":{\"id\":\"1010\"}},\"id\":\"1003\",\"subtype\":\"Figure\",\"type\":\"Plot\"},{\"attributes\":{},\"id\":\"1004\",\"type\":\"DataRange1d\"},{\"attributes\":{},\"id\":\"1010\",\"type\":\"LinearScale\"},{\"attributes\":{},\"id\":\"1040\",\"type\":\"Title\"},{\"attributes\":{\"bottom_units\":\"screen\",\"fill_alpha\":0.5,\"fill_color\":\"lightgrey\",\"left_units\":\"screen\",\"level\":\"overlay\",\"line_alpha\":1.0,\"line_color\":\"black\",\"line_dash\":[4,4],\"line_width\":2,\"right_units\":\"screen\",\"syncable\":false,\"top_units\":\"screen\"},\"id\":\"1026\",\"type\":\"BoxAnnotation\"},{\"attributes\":{},\"id\":\"1050\",\"type\":\"Selection\"},{\"attributes\":{},\"id\":\"1047\",\"type\":\"AllLabels\"},{\"attributes\":{\"formatter\":{\"id\":\"1042\"},\"major_label_policy\":{\"id\":\"1044\"},\"ticker\":{\"id\":\"1017\"}},\"id\":\"1016\",\"type\":\"LinearAxis\"},{\"attributes\":{\"axis\":{\"id\":\"1012\"},\"ticker\":null},\"id\":\"1015\",\"type\":\"Grid\"},{\"attributes\":{},\"id\":\"1006\",\"type\":\"DataRange1d\"},{\"attributes\":{},\"id\":\"1013\",\"type\":\"BasicTicker\"},{\"attributes\":{},\"id\":\"1045\",\"type\":\"BasicTickFormatter\"},{\"attributes\":{\"source\":{\"id\":\"1034\"}},\"id\":\"1039\",\"type\":\"CDSView\"},{\"attributes\":{\"formatter\":{\"id\":\"1045\"},\"major_label_policy\":{\"id\":\"1047\"},\"ticker\":{\"id\":\"1013\"}},\"id\":\"1012\",\"type\":\"LinearAxis\"},{\"attributes\":{},\"id\":\"1008\",\"type\":\"LinearScale\"},{\"attributes\":{\"line_alpha\":0.1,\"line_color\":\"red\",\"x\":{\"field\":\"year\"},\"y\":{\"field\":\"overall\"}},\"id\":\"1037\",\"type\":\"Line\"},{\"attributes\":{},\"id\":\"1024\",\"type\":\"ResetTool\"},{\"attributes\":{\"line_color\":\"red\",\"x\":{\"field\":\"year\"},\"y\":{\"field\":\"overall\"}},\"id\":\"1036\",\"type\":\"Line\"},{\"attributes\":{\"axis\":{\"id\":\"1016\"},\"dimension\":1,\"ticker\":null},\"id\":\"1019\",\"type\":\"Grid\"},{\"attributes\":{},\"id\":\"1017\",\"type\":\"BasicTicker\"},{\"attributes\":{\"data\":{\"age\":[27,28,29,30,31,32,33],\"attacking_crossing\":[57,59,63,63,64,68,68],\"attacking_finishing\":[71,73,84,83,85,85,92],\"attacking_heading_accuracy\":[56,57,64,64,68,78,79],\"attacking_short_passing\":[55,65,66,66,65,67,69],\"attacking_volleys\":[62,63,76,73,82,81,82],\"body_type\":[\"Lean\",\"Lean\",\"Lean\",\"Lean\",\"Lean\",\"Lean\",\"PLAYER_BODY_TYPE_306\"],\"cam\":[\"66+0\",\"70+0\",\"76+2\",\"75+2\",\"75+2\",\"74+3\",\"78+3\"],\"cb\":[\"48+0\",\"54+0\",\"63+2\",\"61+2\",\"63+2\",\"63+3\",\"64+3\"],\"cdm\":[\"55+0\",\"58+0\",\"64+2\",\"63+2\",\"64+2\",\"63+3\",\"64+3\"],\"cf\":[\"68+0\",\"72+\",\"79+1\",\"79+1\",\"79+0\",\"78+0\",\"83+0\"],\"club_name\":[\"Leicester City\",\"Leicester City\",\"Leicester City\",\"Leicester City\",\"Leicester City\",\"Leicester City\",\"Leicester City\"],\"cm\":[\"60+0\",\"65+0\",\"70+2\",\"69+2\",\"69+2\",\"68+3\",\"71+3\"],\"contract_valid_until\":{\"__ndarray__\":\"AAAAAACIn0AAAAAAAIifQAAAAAAAkJ9AAAAAAACQn0AAAAAAAJifQAAAAAAAmJ9AAAAAAACcn0A=\",\"dtype\":\"float64\",\"order\":\"little\",\"shape\":[7]},\"defending\":{\"__ndarray__\":\"AAAAAACAQ0AAAAAAAIBFQAAAAAAAAEtAAAAAAACASUAAAAAAAABLQAAAAAAAgEtAAAAAAACAS0A=\",\"dtype\":\"float64\",\"order\":\"little\",\"shape\":[7]},\"defending_marking\":{\"__ndarray__\":\"AAAAAACAQkAAAAAAAABDQAAAAAAAAEpAAAAAAAAASEAAAAAAAIBLQAAAAAAAAPh/AAAAAAAA+H8=\",\"dtype\":\"float64\",\"order\":\"little\",\"shape\":[7]},\"defending_sliding_tackle\":[27,34,54,51,51,53,53],\"defending_standing_tackle\":[38,42,56,52,52,50,50],\"dob\":[\"1987-01-11\",\"1987-01-11\",\"1987-01-11\",\"1987-01-11\",\"1987-01-11\",\"1987-01-11\",\"1987-01-11\"],\"dribbling\":{\"__ndarray__\":\"AAAAAACAUUAAAAAAAEBSQAAAAAAAQFNAAAAAAABAU0AAAAAAAEBTQAAAAAAAgFJAAAAAAACAU0A=\",\"dtype\":\"float64\",\"order\":\"little\",\"shape\":[7]},\"gk_diving\":{\"__ndarray__\":\"AAAAAAAA+H8AAAAAAAD4fwAAAAAAAPh/AAAAAAAA+H8AAAAAAAD4fwAAAAAAAPh/AAAAAAAA+H8=\",\"dtype\":\"float64\",\"order\":\"little\",\"shape\":[7]},\"gk_handling\":{\"__ndarray__\":\"AAAAAAAA+H8AAAAAAAD4fwAAAAAAAPh/AAAAAAAA+H8AAAAAAAD4fwAAAAAAAPh/AAAAAAAA+H8=\",\"dtype\":\"float64\",\"order\":\"little\",\"shape\":[7]},\"gk_kicking\":{\"__ndarray__\":\"AAAAAAAA+H8AAAAAAAD4fwAAAAAAAPh/AAAAAAAA+H8AAAAAAAD4fwAAAAAAAPh/AAAAAAAA+H8=\",\"dtype\":\"float64\",\"order\":\"little\",\"shape\":[7]},\"gk_positioning\":{\"__ndarray__\":\"AAAAAAAA+H8AAAAAAAD4fwAAAAAAAPh/AAAAAAAA+H8AAAAAAAD4fwAAAAAAAPh/AAAAAAAA+H8=\",\"dtype\":\"float64\",\"order\":\"little\",\"shape\":[7]},\"gk_reflexes\":{\"__ndarray__\":\"AAAAAAAA+H8AAAAAAAD4fwAAAAAAAPh/AAAAAAAA+H8AAAAAAAD4fwAAAAAAAPh/AAAAAAAA+H8=\",\"dtype\":\"float64\",\"order\":\"little\",\"shape\":[7]},\"gk_speed\":{\"__ndarray__\":\"AAAAAAAA+H8AAAAAAAD4fwAAAAAAAPh/AAAAAAAA+H8AAAAAAAD4fwAAAAAAAPh/AAAAAAAA+H8=\",\"dtype\":\"float64\",\"order\":\"little\",\"shape\":[7]},\"goalkeeping_diving\":[14,15,15,15,15,15,15],\"goalkeeping_handling\":[13,14,14,14,14,14,14],\"goalkeeping_kicking\":[6,7,7,7,7,7,7],\"goalkeeping_positioning\":[14,15,15,15,15,15,15],\"goalkeeping_reflexes\":[10,11,11,11,11,11,11],\"height_cm\":[178,178,178,179,179,179,179],\"index\":[3651,19780,32046,49766,67643,85736,103958],\"international_reputation\":[1,1,3,3,3,3,3],\"joined\":[\"2012-05-01\",\"2012-05-01\",\"2012-05-01\",\"2012-05-01\",\"2012-05-01\",\"2012-05-01\",\"2012-05-01\"],\"lam\":[\"66+0\",\"70+0\",\"76+2\",\"75+2\",\"75+2\",\"74+3\",\"78+3\"],\"lb\":[\"53+0\",\"60+0\",\"67+2\",\"66+2\",\"66+2\",\"66+3\",\"67+3\"],\"lcb\":[\"48+0\",\"54+0\",\"63+2\",\"61+2\",\"63+2\",\"63+3\",\"64+3\"],\"lcm\":[\"60+0\",\"65+0\",\"70+2\",\"69+2\",\"69+2\",\"68+3\",\"71+3\"],\"ldm\":[\"55+0\",\"58+0\",\"64+2\",\"63+2\",\"64+2\",\"63+3\",\"64+3\"],\"league_name\":[\"English Premier League\",\"English Premier League\",\"English Premier League\",\"English Premier League\",\"English Premier League\",\"English Premier League\",\"English Premier League\"],\"league_rank\":{\"__ndarray__\":\"AAAAAAAA8D8AAAAAAADwPwAAAAAAAPA/AAAAAAAA8D8AAAAAAADwPwAAAAAAAPA/AAAAAAAA8D8=\",\"dtype\":\"float64\",\"order\":\"little\",\"shape\":[7]},\"lf\":[\"68+0\",\"72+\",\"79+1\",\"79+1\",\"79+0\",\"78+0\",\"83+0\"],\"lm\":[\"66+0\",\"72+\",\"77+2\",\"76+2\",\"76+2\",\"75+3\",\"79+3\"],\"loaned_from\":[\"NaN\",\"NaN\",\"NaN\",\"NaN\",\"NaN\",\"NaN\",\"NaN\"],\"long_name\":[\"Jamie Vardy\",\"Jamie Vardy\",\"Jamie Vardy\",\"Jamie Vardy\",\"Jamie Vardy\",\"Jamie Vardy\",\"Jamie Vardy\"],\"ls\":[\"69+0\",\"71+0\",\"80+2\",\"79+2\",\"80+2\",\"80+2\",\"84+2\"],\"lw\":[\"67+0\",\"72+\",\"78+1\",\"77+1\",\"78+0\",\"77+0\",\"80+0\"],\"lwb\":[\"55+0\",\"62+0\",\"69+2\",\"67+2\",\"67+2\",\"67+3\",\"68+3\"],\"mentality_aggression\":[78,85,92,92,92,87,87],\"mentality_composure\":{\"__ndarray__\":\"AAAAAAAA+H8AAAAAAAD4fwAAAAAAgFNAAAAAAADAU0AAAAAAAIBUQAAAAAAAQFRAAAAAAADAVUA=\",\"dtype\":\"float64\",\"order\":\"little\",\"shape\":[7]},\"mentality_interceptions\":[40,51,51,49,49,49,49],\"mentality_penalties\":[63,68,76,76,78,83,84],\"mentality_positioning\":[68,70,86,84,85,86,92],\"mentality_vision\":[61,67,72,72,72,72,73],\"movement_acceleration\":[83,89,94,91,89,87,90],\"movement_agility\":[69,76,77,78,75,72,72],\"movement_balance\":[55,79,79,77,76,75,75],\"movement_reactions\":[69,76,84,86,88,83,90],\"movement_sprint_speed\":[86,91,93,91,91,88,87],\"nation_jersey_number\":{\"__ndarray__\":\"AAAAAAAA+H8AAAAAAAAyQAAAAAAAADNAAAAAAAAANUAAAAAAAAAmQAAAAAAAAPh/AAAAAAAA+H8=\",\"dtype\":\"float64\",\"order\":\"little\",\"shape\":[7]},\"nation_position\":[\"NaN\",\"SUB\",\"SUB\",\"SUB\",\"SUB\",\"NaN\",\"NaN\"],\"nationality\":[\"England\",\"England\",\"England\",\"England\",\"England\",\"England\",\"England\"],\"overall\":[69,71,82,81,82,82,86],\"pace\":{\"__ndarray__\":\"AAAAAABAVUAAAAAAAIBWQAAAAAAAQFdAAAAAAADAVkAAAAAAAIBWQAAAAAAAAFZAAAAAAAAAVkA=\",\"dtype\":\"float64\",\"order\":\"little\",\"shape\":[7]},\"passing\":{\"__ndarray__\":\"AAAAAACAS0AAAAAAAABOQAAAAAAAgE9AAAAAAACAT0AAAAAAAIBPQAAAAAAAQFBAAAAAAACAUEA=\",\"dtype\":\"float64\",\"order\":\"little\",\"shape\":[7]},\"physic\":{\"__ndarray__\":\"AAAAAADAUUAAAAAAAABTQAAAAAAAwFNAAAAAAACAU0AAAAAAAEBTQAAAAAAAwFJAAAAAAADAUkA=\",\"dtype\":\"float64\",\"order\":\"little\",\"shape\":[7]},\"player_positions\":[\"ST\",\"ST\",\"ST, LW, LM\",\"ST\",\"ST\",\"ST\",\"ST\"],\"player_tags\":[\"NaN\",\"#Speedster, #Engine\",\"#Speedster, #Engine\",\"#Speedster, #Engine\",\"#Speedster, #Engine\",\"NaN\",\"NaN\"],\"player_traits\":[\"Beat Offside Trap\",\"Beat Offside Trap\",\"Diver, Beat Offside Trap\",\"Diver, Beat Offside Trap\",\"Diver, Dives Into Tackles (AI), Beat Offside Trap, Team Player\",\"Dives Into Tackles (AI), Team Player\",\"Dives Into Tackles (AI), Team Player\"],\"player_url\":[\"https://sofifa.com/player/208830/jamie-vardy/150002\",\"https://sofifa.com/player/208830/jamie-vardy/160002\",\"https://sofifa.com/player/208830/jamie-vardy/170002\",\"https://sofifa.com/player/208830/jamie-vardy/180002\",\"https://sofifa.com/player/208830/jamie-vardy/190002\",\"https://sofifa.com/player/208830/jamie-vardy/200002\",\"https://sofifa.com/player/208830/jamie-vardy/210002\"],\"potential\":[71,71,82,81,82,82,86],\"power_jumping\":[49,51,70,74,74,78,79],\"power_long_shots\":[65,68,68,67,67,64,65],\"power_shot_power\":[70,71,85,85,85,85,87],\"power_stamina\":[83,90,90,88,86,79,79],\"power_strength\":[64,67,69,68,67,68,68],\"preferred_foot\":[\"Right\",\"Right\",\"Right\",\"Right\",\"Right\",\"Right\",\"Right\"],\"ram\":[\"66+0\",\"70+0\",\"76+2\",\"75+2\",\"75+2\",\"74+3\",\"78+3\"],\"rb\":[\"53+0\",\"60+0\",\"67+2\",\"66+2\",\"66+2\",\"66+3\",\"67+3\"],\"rcb\":[\"48+0\",\"54+0\",\"63+2\",\"61+2\",\"63+2\",\"63+3\",\"64+3\"],\"rcm\":[\"60+0\",\"65+0\",\"70+2\",\"69+2\",\"69+2\",\"68+3\",\"71+3\"],\"rdm\":[\"55+0\",\"58+0\",\"64+2\",\"63+2\",\"64+2\",\"63+3\",\"64+3\"],\"real_face\":[\"No\",\"Yes\",\"Yes\",\"Yes\",\"Yes\",\"Yes\",\"Yes\"],\"release_clause_eur\":{\"__ndarray__\":\"AAAAAAAA+H8AAAAAAAD4fwAAAAAAAPh/AAAAAL7NfkEAAAAArB6CQQAAAADiwX9BAAAAACReiUE=\",\"dtype\":\"float64\",\"order\":\"little\",\"shape\":[7]},\"rf\":[\"68+0\",\"72+\",\"79+1\",\"79+1\",\"79+0\",\"78+0\",\"83+0\"],\"rm\":[\"66+0\",\"72+\",\"77+2\",\"76+2\",\"76+2\",\"75+3\",\"79+3\"],\"rs\":[\"69+0\",\"71+0\",\"80+2\",\"79+2\",\"80+2\",\"80+2\",\"84+2\"],\"rw\":[\"67+0\",\"72+\",\"78+1\",\"77+1\",\"78+0\",\"77+0\",\"80+0\"],\"rwb\":[\"55+0\",\"62+0\",\"69+2\",\"67+2\",\"67+2\",\"67+3\",\"68+3\"],\"shooting\":{\"__ndarray__\":\"AAAAAABAUUAAAAAAAMBRQAAAAAAAAFRAAAAAAADAU0AAAAAAAEBUQAAAAAAAQFRAAAAAAABAVUA=\",\"dtype\":\"float64\",\"order\":\"little\",\"shape\":[7]},\"short_name\":[\"J. Vardy\",\"J. Vardy\",\"J. Vardy\",\"J. Vardy\",\"J. Vardy\",\"J. Vardy\",\"J. Vardy\"],\"skill_ball_control\":[68,69,76,76,76,74,81],\"skill_curve\":[49,52,59,59,60,65,67],\"skill_dribbling\":[72,73,76,76,76,74,77],\"skill_fk_accuracy\":[47,48,48,48,57,57,57],\"skill_long_passing\":[47,48,48,48,48,48,48],\"skill_moves\":[3,3,3,3,3,3,3],\"sofifa_id\":[208830,208830,208830,208830,208830,208830,208830],\"st\":[\"69+0\",\"71+0\",\"80+2\",\"79+2\",\"80+2\",\"80+2\",\"84+2\"],\"team_jersey_number\":{\"__ndarray__\":\"AAAAAAAAIkAAAAAAAAAiQAAAAAAAACJAAAAAAAAAIkAAAAAAAAAiQAAAAAAAACJAAAAAAAAAIkA=\",\"dtype\":\"float64\",\"order\":\"little\",\"shape\":[7]},\"team_position\":[\"SUB\",\"RS\",\"LS\",\"LS\",\"ST\",\"ST\",\"ST\"],\"value_eur\":[1100000,1700000,19500000,17000000,20000000,17500000,28000000],\"wage_eur\":[15000,25000,100000,90000,100000,110000,160000],\"weak_foot\":[3,3,3,3,3,3,3],\"weight_kg\":[76,76,76,74,74,74,74],\"work_rate\":[\"High/High\",\"High/High\",\"High/High\",\"High/High\",\"High/High\",\"High/High\",\"High/High\"],\"year\":[2015,2016,2017,2018,2019,2020,2021]},\"selected\":{\"id\":\"1050\"},\"selection_policy\":{\"id\":\"1049\"}},\"id\":\"1034\",\"type\":\"ColumnDataSource\"},{\"attributes\":{\"active_multi\":null,\"tools\":[{\"id\":\"1020\"},{\"id\":\"1021\"},{\"id\":\"1022\"},{\"id\":\"1023\"},{\"id\":\"1024\"},{\"id\":\"1025\"}]},\"id\":\"1027\",\"type\":\"Toolbar\"},{\"attributes\":{\"overlay\":{\"id\":\"1026\"}},\"id\":\"1022\",\"type\":\"BoxZoomTool\"},{\"attributes\":{},\"id\":\"1025\",\"type\":\"HelpTool\"},{\"attributes\":{},\"id\":\"1044\",\"type\":\"AllLabels\"},{\"attributes\":{},\"id\":\"1020\",\"type\":\"PanTool\"},{\"attributes\":{},\"id\":\"1021\",\"type\":\"WheelZoomTool\"},{\"attributes\":{},\"id\":\"1049\",\"type\":\"UnionRenderers\"},{\"attributes\":{},\"id\":\"1023\",\"type\":\"SaveTool\"},{\"attributes\":{\"data_source\":{\"id\":\"1034\"},\"glyph\":{\"id\":\"1036\"},\"hover_glyph\":null,\"muted_glyph\":null,\"nonselection_glyph\":{\"id\":\"1037\"},\"view\":{\"id\":\"1039\"}},\"id\":\"1038\",\"type\":\"GlyphRenderer\"},{\"attributes\":{},\"id\":\"1042\",\"type\":\"BasicTickFormatter\"}],\"root_ids\":[\"1003\"]},\"title\":\"Bokeh Application\",\"version\":\"2.3.3\"}};\n",
       "  var render_items = [{\"docid\":\"7b602d9f-8d5b-4eea-bd20-f5567ed73af5\",\"root_ids\":[\"1003\"],\"roots\":{\"1003\":\"c4bb4c97-6839-4f27-af2a-0d5698e5a5e5\"}}];\n",
       "  root.Bokeh.embed.embed_items_notebook(docs_json, render_items);\n",
       "\n",
       "  }\n",
       "  if (root.Bokeh !== undefined) {\n",
       "    embed_document(root);\n",
       "  } else {\n",
       "    var attempts = 0;\n",
       "    var timer = setInterval(function(root) {\n",
       "      if (root.Bokeh !== undefined) {\n",
       "        clearInterval(timer);\n",
       "        embed_document(root);\n",
       "      } else {\n",
       "        attempts++;\n",
       "        if (attempts > 100) {\n",
       "          clearInterval(timer);\n",
       "          console.log(\"Bokeh: ERROR: Unable to run BokehJS code because BokehJS library is missing\");\n",
       "        }\n",
       "      }\n",
       "    }, 10, root)\n",
       "  }\n",
       "})(window);"
      ],
      "application/vnd.bokehjs_exec.v0+json": ""
     },
     "metadata": {
      "application/vnd.bokehjs_exec.v0+json": {
       "id": "1003"
      }
     },
     "output_type": "display_data"
    }
   ],
   "source": [
    "from bokeh.plotting import figure, show, output_notebook\n",
    "output_notebook() # we need to specify this to show the plot in the cell\n",
    "p = figure(plot_width=400, plot_height=400)\n",
    "p.line(x='year', y='overall', source=df_all.query('short_name==\"J. Vardy\"'), color='red')\n",
    "show(p)"
   ]
  },
  {
   "cell_type": "markdown",
   "metadata": {
    "id": "SyE9RIk0e7RV"
   },
   "source": [
    "We can also add a legend inside the plot, and we can also specify the location with the attribute `legend.location`."
   ]
  },
  {
   "cell_type": "markdown",
   "metadata": {
    "id": "h3Js5qZY6yRQ"
   },
   "source": [
    "**Task 01: Add a Legend inside the Line Plot**\n",
    "\n",
    "You are asked to add a simple legend to the plot. You are asked to add the command\n",
    "\n",
    "```python\n",
    "p.legend.location = \"bottom_right\"\n",
    "```\n",
    "before showing the plot. Make sure you add to the `line` call the argument `legend_label='J. Vardy'`."
   ]
  },
  {
   "cell_type": "code",
   "execution_count": 7,
   "metadata": {
    "colab": {
     "base_uri": "https://localhost:8080/",
     "height": 417
    },
    "id": "abJETEXL49zc",
    "outputId": "613db17f-22e0-4225-cf66-2c208b4f9551"
   },
   "outputs": [
    {
     "data": {
      "text/html": [
       "\n",
       "    <div class=\"bk-root\">\n",
       "        <a href=\"https://bokeh.org\" target=\"_blank\" class=\"bk-logo bk-logo-small bk-logo-notebook\"></a>\n",
       "        <span id=\"1106\">Loading BokehJS ...</span>\n",
       "    </div>"
      ]
     },
     "metadata": {},
     "output_type": "display_data"
    },
    {
     "data": {
      "application/javascript": [
       "\n",
       "(function(root) {\n",
       "  function now() {\n",
       "    return new Date();\n",
       "  }\n",
       "\n",
       "  var force = true;\n",
       "\n",
       "  if (typeof root._bokeh_onload_callbacks === \"undefined\" || force === true) {\n",
       "    root._bokeh_onload_callbacks = [];\n",
       "    root._bokeh_is_loading = undefined;\n",
       "  }\n",
       "\n",
       "  var JS_MIME_TYPE = 'application/javascript';\n",
       "  var HTML_MIME_TYPE = 'text/html';\n",
       "  var EXEC_MIME_TYPE = 'application/vnd.bokehjs_exec.v0+json';\n",
       "  var CLASS_NAME = 'output_bokeh rendered_html';\n",
       "\n",
       "  /**\n",
       "   * Render data to the DOM node\n",
       "   */\n",
       "  function render(props, node) {\n",
       "    var script = document.createElement(\"script\");\n",
       "    node.appendChild(script);\n",
       "  }\n",
       "\n",
       "  /**\n",
       "   * Handle when an output is cleared or removed\n",
       "   */\n",
       "  function handleClearOutput(event, handle) {\n",
       "    var cell = handle.cell;\n",
       "\n",
       "    var id = cell.output_area._bokeh_element_id;\n",
       "    var server_id = cell.output_area._bokeh_server_id;\n",
       "    // Clean up Bokeh references\n",
       "    if (id != null && id in Bokeh.index) {\n",
       "      Bokeh.index[id].model.document.clear();\n",
       "      delete Bokeh.index[id];\n",
       "    }\n",
       "\n",
       "    if (server_id !== undefined) {\n",
       "      // Clean up Bokeh references\n",
       "      var cmd = \"from bokeh.io.state import curstate; print(curstate().uuid_to_server['\" + server_id + \"'].get_sessions()[0].document.roots[0]._id)\";\n",
       "      cell.notebook.kernel.execute(cmd, {\n",
       "        iopub: {\n",
       "          output: function(msg) {\n",
       "            var id = msg.content.text.trim();\n",
       "            if (id in Bokeh.index) {\n",
       "              Bokeh.index[id].model.document.clear();\n",
       "              delete Bokeh.index[id];\n",
       "            }\n",
       "          }\n",
       "        }\n",
       "      });\n",
       "      // Destroy server and session\n",
       "      var cmd = \"import bokeh.io.notebook as ion; ion.destroy_server('\" + server_id + \"')\";\n",
       "      cell.notebook.kernel.execute(cmd);\n",
       "    }\n",
       "  }\n",
       "\n",
       "  /**\n",
       "   * Handle when a new output is added\n",
       "   */\n",
       "  function handleAddOutput(event, handle) {\n",
       "    var output_area = handle.output_area;\n",
       "    var output = handle.output;\n",
       "\n",
       "    // limit handleAddOutput to display_data with EXEC_MIME_TYPE content only\n",
       "    if ((output.output_type != \"display_data\") || (!Object.prototype.hasOwnProperty.call(output.data, EXEC_MIME_TYPE))) {\n",
       "      return\n",
       "    }\n",
       "\n",
       "    var toinsert = output_area.element.find(\".\" + CLASS_NAME.split(' ')[0]);\n",
       "\n",
       "    if (output.metadata[EXEC_MIME_TYPE][\"id\"] !== undefined) {\n",
       "      toinsert[toinsert.length - 1].firstChild.textContent = output.data[JS_MIME_TYPE];\n",
       "      // store reference to embed id on output_area\n",
       "      output_area._bokeh_element_id = output.metadata[EXEC_MIME_TYPE][\"id\"];\n",
       "    }\n",
       "    if (output.metadata[EXEC_MIME_TYPE][\"server_id\"] !== undefined) {\n",
       "      var bk_div = document.createElement(\"div\");\n",
       "      bk_div.innerHTML = output.data[HTML_MIME_TYPE];\n",
       "      var script_attrs = bk_div.children[0].attributes;\n",
       "      for (var i = 0; i < script_attrs.length; i++) {\n",
       "        toinsert[toinsert.length - 1].firstChild.setAttribute(script_attrs[i].name, script_attrs[i].value);\n",
       "        toinsert[toinsert.length - 1].firstChild.textContent = bk_div.children[0].textContent\n",
       "      }\n",
       "      // store reference to server id on output_area\n",
       "      output_area._bokeh_server_id = output.metadata[EXEC_MIME_TYPE][\"server_id\"];\n",
       "    }\n",
       "  }\n",
       "\n",
       "  function register_renderer(events, OutputArea) {\n",
       "\n",
       "    function append_mime(data, metadata, element) {\n",
       "      // create a DOM node to render to\n",
       "      var toinsert = this.create_output_subarea(\n",
       "        metadata,\n",
       "        CLASS_NAME,\n",
       "        EXEC_MIME_TYPE\n",
       "      );\n",
       "      this.keyboard_manager.register_events(toinsert);\n",
       "      // Render to node\n",
       "      var props = {data: data, metadata: metadata[EXEC_MIME_TYPE]};\n",
       "      render(props, toinsert[toinsert.length - 1]);\n",
       "      element.append(toinsert);\n",
       "      return toinsert\n",
       "    }\n",
       "\n",
       "    /* Handle when an output is cleared or removed */\n",
       "    events.on('clear_output.CodeCell', handleClearOutput);\n",
       "    events.on('delete.Cell', handleClearOutput);\n",
       "\n",
       "    /* Handle when a new output is added */\n",
       "    events.on('output_added.OutputArea', handleAddOutput);\n",
       "\n",
       "    /**\n",
       "     * Register the mime type and append_mime function with output_area\n",
       "     */\n",
       "    OutputArea.prototype.register_mime_type(EXEC_MIME_TYPE, append_mime, {\n",
       "      /* Is output safe? */\n",
       "      safe: true,\n",
       "      /* Index of renderer in `output_area.display_order` */\n",
       "      index: 0\n",
       "    });\n",
       "  }\n",
       "\n",
       "  // register the mime type if in Jupyter Notebook environment and previously unregistered\n",
       "  if (root.Jupyter !== undefined) {\n",
       "    var events = require('base/js/events');\n",
       "    var OutputArea = require('notebook/js/outputarea').OutputArea;\n",
       "\n",
       "    if (OutputArea.prototype.mime_types().indexOf(EXEC_MIME_TYPE) == -1) {\n",
       "      register_renderer(events, OutputArea);\n",
       "    }\n",
       "  }\n",
       "\n",
       "  \n",
       "  if (typeof (root._bokeh_timeout) === \"undefined\" || force === true) {\n",
       "    root._bokeh_timeout = Date.now() + 5000;\n",
       "    root._bokeh_failed_load = false;\n",
       "  }\n",
       "\n",
       "  var NB_LOAD_WARNING = {'data': {'text/html':\n",
       "     \"<div style='background-color: #fdd'>\\n\"+\n",
       "     \"<p>\\n\"+\n",
       "     \"BokehJS does not appear to have successfully loaded. If loading BokehJS from CDN, this \\n\"+\n",
       "     \"may be due to a slow or bad network connection. Possible fixes:\\n\"+\n",
       "     \"</p>\\n\"+\n",
       "     \"<ul>\\n\"+\n",
       "     \"<li>re-rerun `output_notebook()` to attempt to load from CDN again, or</li>\\n\"+\n",
       "     \"<li>use INLINE resources instead, as so:</li>\\n\"+\n",
       "     \"</ul>\\n\"+\n",
       "     \"<code>\\n\"+\n",
       "     \"from bokeh.resources import INLINE\\n\"+\n",
       "     \"output_notebook(resources=INLINE)\\n\"+\n",
       "     \"</code>\\n\"+\n",
       "     \"</div>\"}};\n",
       "\n",
       "  function display_loaded() {\n",
       "    var el = document.getElementById(\"1106\");\n",
       "    if (el != null) {\n",
       "      el.textContent = \"BokehJS is loading...\";\n",
       "    }\n",
       "    if (root.Bokeh !== undefined) {\n",
       "      if (el != null) {\n",
       "        el.textContent = \"BokehJS \" + root.Bokeh.version + \" successfully loaded.\";\n",
       "      }\n",
       "    } else if (Date.now() < root._bokeh_timeout) {\n",
       "      setTimeout(display_loaded, 100)\n",
       "    }\n",
       "  }\n",
       "\n",
       "\n",
       "  function run_callbacks() {\n",
       "    try {\n",
       "      root._bokeh_onload_callbacks.forEach(function(callback) {\n",
       "        if (callback != null)\n",
       "          callback();\n",
       "      });\n",
       "    } finally {\n",
       "      delete root._bokeh_onload_callbacks\n",
       "    }\n",
       "    console.debug(\"Bokeh: all callbacks have finished\");\n",
       "  }\n",
       "\n",
       "  function load_libs(css_urls, js_urls, callback) {\n",
       "    if (css_urls == null) css_urls = [];\n",
       "    if (js_urls == null) js_urls = [];\n",
       "\n",
       "    root._bokeh_onload_callbacks.push(callback);\n",
       "    if (root._bokeh_is_loading > 0) {\n",
       "      console.debug(\"Bokeh: BokehJS is being loaded, scheduling callback at\", now());\n",
       "      return null;\n",
       "    }\n",
       "    if (js_urls == null || js_urls.length === 0) {\n",
       "      run_callbacks();\n",
       "      return null;\n",
       "    }\n",
       "    console.debug(\"Bokeh: BokehJS not loaded, scheduling load and callback at\", now());\n",
       "    root._bokeh_is_loading = css_urls.length + js_urls.length;\n",
       "\n",
       "    function on_load() {\n",
       "      root._bokeh_is_loading--;\n",
       "      if (root._bokeh_is_loading === 0) {\n",
       "        console.debug(\"Bokeh: all BokehJS libraries/stylesheets loaded\");\n",
       "        run_callbacks()\n",
       "      }\n",
       "    }\n",
       "\n",
       "    function on_error(url) {\n",
       "      console.error(\"failed to load \" + url);\n",
       "    }\n",
       "\n",
       "    for (let i = 0; i < css_urls.length; i++) {\n",
       "      const url = css_urls[i];\n",
       "      const element = document.createElement(\"link\");\n",
       "      element.onload = on_load;\n",
       "      element.onerror = on_error.bind(null, url);\n",
       "      element.rel = \"stylesheet\";\n",
       "      element.type = \"text/css\";\n",
       "      element.href = url;\n",
       "      console.debug(\"Bokeh: injecting link tag for BokehJS stylesheet: \", url);\n",
       "      document.body.appendChild(element);\n",
       "    }\n",
       "\n",
       "    const hashes = {\"https://cdn.bokeh.org/bokeh/release/bokeh-2.3.3.min.js\": \"dM3QQsP+wXdHg42wTqW85BjZQdLNNIXqlPw/BgKoExPmTG7ZLML4EGqLMfqHT6ON\", \"https://cdn.bokeh.org/bokeh/release/bokeh-tables-2.3.3.min.js\": \"8x57I4YuIfu8XyZfFo0XVr2WAT8EK4rh/uDe3wF7YuW2FNUSNEpJbsPaB1nJ2fz2\", \"https://cdn.bokeh.org/bokeh/release/bokeh-widgets-2.3.3.min.js\": \"3QTqdz9LyAm2i0sG5XTePsHec3UHWwVsrOL68SYRoAXsafvfAyqtQ+h440+qIBhS\"};\n",
       "\n",
       "    for (let i = 0; i < js_urls.length; i++) {\n",
       "      const url = js_urls[i];\n",
       "      const element = document.createElement('script');\n",
       "      element.onload = on_load;\n",
       "      element.onerror = on_error.bind(null, url);\n",
       "      element.async = false;\n",
       "      element.src = url;\n",
       "      if (url in hashes) {\n",
       "        element.crossOrigin = \"anonymous\";\n",
       "        element.integrity = \"sha384-\" + hashes[url];\n",
       "      }\n",
       "      console.debug(\"Bokeh: injecting script tag for BokehJS library: \", url);\n",
       "      document.head.appendChild(element);\n",
       "    }\n",
       "  };\n",
       "\n",
       "  function inject_raw_css(css) {\n",
       "    const element = document.createElement(\"style\");\n",
       "    element.appendChild(document.createTextNode(css));\n",
       "    document.body.appendChild(element);\n",
       "  }\n",
       "\n",
       "  \n",
       "  var js_urls = [\"https://cdn.bokeh.org/bokeh/release/bokeh-2.3.3.min.js\", \"https://cdn.bokeh.org/bokeh/release/bokeh-widgets-2.3.3.min.js\", \"https://cdn.bokeh.org/bokeh/release/bokeh-tables-2.3.3.min.js\"];\n",
       "  var css_urls = [];\n",
       "  \n",
       "\n",
       "  var inline_js = [\n",
       "    function(Bokeh) {\n",
       "      Bokeh.set_log_level(\"info\");\n",
       "    },\n",
       "    function(Bokeh) {\n",
       "    \n",
       "    \n",
       "    }\n",
       "  ];\n",
       "\n",
       "  function run_inline_js() {\n",
       "    \n",
       "    if (root.Bokeh !== undefined || force === true) {\n",
       "      \n",
       "    for (var i = 0; i < inline_js.length; i++) {\n",
       "      inline_js[i].call(root, root.Bokeh);\n",
       "    }\n",
       "    if (force === true) {\n",
       "        display_loaded();\n",
       "      }} else if (Date.now() < root._bokeh_timeout) {\n",
       "      setTimeout(run_inline_js, 100);\n",
       "    } else if (!root._bokeh_failed_load) {\n",
       "      console.log(\"Bokeh: BokehJS failed to load within specified timeout.\");\n",
       "      root._bokeh_failed_load = true;\n",
       "    } else if (force !== true) {\n",
       "      var cell = $(document.getElementById(\"1106\")).parents('.cell').data().cell;\n",
       "      cell.output_area.append_execute_result(NB_LOAD_WARNING)\n",
       "    }\n",
       "\n",
       "  }\n",
       "\n",
       "  if (root._bokeh_is_loading === 0) {\n",
       "    console.debug(\"Bokeh: BokehJS loaded, going straight to plotting\");\n",
       "    run_inline_js();\n",
       "  } else {\n",
       "    load_libs(css_urls, js_urls, function() {\n",
       "      console.debug(\"Bokeh: BokehJS plotting callback run at\", now());\n",
       "      run_inline_js();\n",
       "    });\n",
       "  }\n",
       "}(window));"
      ],
      "application/vnd.bokehjs_load.v0+json": "\n(function(root) {\n  function now() {\n    return new Date();\n  }\n\n  var force = true;\n\n  if (typeof root._bokeh_onload_callbacks === \"undefined\" || force === true) {\n    root._bokeh_onload_callbacks = [];\n    root._bokeh_is_loading = undefined;\n  }\n\n  \n\n  \n  if (typeof (root._bokeh_timeout) === \"undefined\" || force === true) {\n    root._bokeh_timeout = Date.now() + 5000;\n    root._bokeh_failed_load = false;\n  }\n\n  var NB_LOAD_WARNING = {'data': {'text/html':\n     \"<div style='background-color: #fdd'>\\n\"+\n     \"<p>\\n\"+\n     \"BokehJS does not appear to have successfully loaded. If loading BokehJS from CDN, this \\n\"+\n     \"may be due to a slow or bad network connection. Possible fixes:\\n\"+\n     \"</p>\\n\"+\n     \"<ul>\\n\"+\n     \"<li>re-rerun `output_notebook()` to attempt to load from CDN again, or</li>\\n\"+\n     \"<li>use INLINE resources instead, as so:</li>\\n\"+\n     \"</ul>\\n\"+\n     \"<code>\\n\"+\n     \"from bokeh.resources import INLINE\\n\"+\n     \"output_notebook(resources=INLINE)\\n\"+\n     \"</code>\\n\"+\n     \"</div>\"}};\n\n  function display_loaded() {\n    var el = document.getElementById(\"1106\");\n    if (el != null) {\n      el.textContent = \"BokehJS is loading...\";\n    }\n    if (root.Bokeh !== undefined) {\n      if (el != null) {\n        el.textContent = \"BokehJS \" + root.Bokeh.version + \" successfully loaded.\";\n      }\n    } else if (Date.now() < root._bokeh_timeout) {\n      setTimeout(display_loaded, 100)\n    }\n  }\n\n\n  function run_callbacks() {\n    try {\n      root._bokeh_onload_callbacks.forEach(function(callback) {\n        if (callback != null)\n          callback();\n      });\n    } finally {\n      delete root._bokeh_onload_callbacks\n    }\n    console.debug(\"Bokeh: all callbacks have finished\");\n  }\n\n  function load_libs(css_urls, js_urls, callback) {\n    if (css_urls == null) css_urls = [];\n    if (js_urls == null) js_urls = [];\n\n    root._bokeh_onload_callbacks.push(callback);\n    if (root._bokeh_is_loading > 0) {\n      console.debug(\"Bokeh: BokehJS is being loaded, scheduling callback at\", now());\n      return null;\n    }\n    if (js_urls == null || js_urls.length === 0) {\n      run_callbacks();\n      return null;\n    }\n    console.debug(\"Bokeh: BokehJS not loaded, scheduling load and callback at\", now());\n    root._bokeh_is_loading = css_urls.length + js_urls.length;\n\n    function on_load() {\n      root._bokeh_is_loading--;\n      if (root._bokeh_is_loading === 0) {\n        console.debug(\"Bokeh: all BokehJS libraries/stylesheets loaded\");\n        run_callbacks()\n      }\n    }\n\n    function on_error(url) {\n      console.error(\"failed to load \" + url);\n    }\n\n    for (let i = 0; i < css_urls.length; i++) {\n      const url = css_urls[i];\n      const element = document.createElement(\"link\");\n      element.onload = on_load;\n      element.onerror = on_error.bind(null, url);\n      element.rel = \"stylesheet\";\n      element.type = \"text/css\";\n      element.href = url;\n      console.debug(\"Bokeh: injecting link tag for BokehJS stylesheet: \", url);\n      document.body.appendChild(element);\n    }\n\n    const hashes = {\"https://cdn.bokeh.org/bokeh/release/bokeh-2.3.3.min.js\": \"dM3QQsP+wXdHg42wTqW85BjZQdLNNIXqlPw/BgKoExPmTG7ZLML4EGqLMfqHT6ON\", \"https://cdn.bokeh.org/bokeh/release/bokeh-tables-2.3.3.min.js\": \"8x57I4YuIfu8XyZfFo0XVr2WAT8EK4rh/uDe3wF7YuW2FNUSNEpJbsPaB1nJ2fz2\", \"https://cdn.bokeh.org/bokeh/release/bokeh-widgets-2.3.3.min.js\": \"3QTqdz9LyAm2i0sG5XTePsHec3UHWwVsrOL68SYRoAXsafvfAyqtQ+h440+qIBhS\"};\n\n    for (let i = 0; i < js_urls.length; i++) {\n      const url = js_urls[i];\n      const element = document.createElement('script');\n      element.onload = on_load;\n      element.onerror = on_error.bind(null, url);\n      element.async = false;\n      element.src = url;\n      if (url in hashes) {\n        element.crossOrigin = \"anonymous\";\n        element.integrity = \"sha384-\" + hashes[url];\n      }\n      console.debug(\"Bokeh: injecting script tag for BokehJS library: \", url);\n      document.head.appendChild(element);\n    }\n  };\n\n  function inject_raw_css(css) {\n    const element = document.createElement(\"style\");\n    element.appendChild(document.createTextNode(css));\n    document.body.appendChild(element);\n  }\n\n  \n  var js_urls = [\"https://cdn.bokeh.org/bokeh/release/bokeh-2.3.3.min.js\", \"https://cdn.bokeh.org/bokeh/release/bokeh-widgets-2.3.3.min.js\", \"https://cdn.bokeh.org/bokeh/release/bokeh-tables-2.3.3.min.js\"];\n  var css_urls = [];\n  \n\n  var inline_js = [\n    function(Bokeh) {\n      Bokeh.set_log_level(\"info\");\n    },\n    function(Bokeh) {\n    \n    \n    }\n  ];\n\n  function run_inline_js() {\n    \n    if (root.Bokeh !== undefined || force === true) {\n      \n    for (var i = 0; i < inline_js.length; i++) {\n      inline_js[i].call(root, root.Bokeh);\n    }\n    if (force === true) {\n        display_loaded();\n      }} else if (Date.now() < root._bokeh_timeout) {\n      setTimeout(run_inline_js, 100);\n    } else if (!root._bokeh_failed_load) {\n      console.log(\"Bokeh: BokehJS failed to load within specified timeout.\");\n      root._bokeh_failed_load = true;\n    } else if (force !== true) {\n      var cell = $(document.getElementById(\"1106\")).parents('.cell').data().cell;\n      cell.output_area.append_execute_result(NB_LOAD_WARNING)\n    }\n\n  }\n\n  if (root._bokeh_is_loading === 0) {\n    console.debug(\"Bokeh: BokehJS loaded, going straight to plotting\");\n    run_inline_js();\n  } else {\n    load_libs(css_urls, js_urls, function() {\n      console.debug(\"Bokeh: BokehJS plotting callback run at\", now());\n      run_inline_js();\n    });\n  }\n}(window));"
     },
     "metadata": {},
     "output_type": "display_data"
    },
    {
     "data": {
      "text/html": [
       "\n",
       "\n",
       "\n",
       "\n",
       "\n",
       "\n",
       "  <div class=\"bk-root\" id=\"337e2f05-d4dc-4ff2-9a4c-51942f8c808f\" data-root-id=\"1107\"></div>\n"
      ]
     },
     "metadata": {},
     "output_type": "display_data"
    },
    {
     "data": {
      "application/javascript": [
       "(function(root) {\n",
       "  function embed_document(root) {\n",
       "    \n",
       "  var docs_json = {\"04cf9a16-0079-4722-a4a7-36f9b24fe896\":{\"defs\":[],\"roots\":{\"references\":[{\"attributes\":{\"below\":[{\"id\":\"1116\"}],\"center\":[{\"id\":\"1119\"},{\"id\":\"1123\"},{\"id\":\"1155\"}],\"height\":400,\"left\":[{\"id\":\"1120\"}],\"renderers\":[{\"id\":\"1142\"}],\"title\":{\"id\":\"1144\"},\"toolbar\":{\"id\":\"1131\"},\"width\":400,\"x_range\":{\"id\":\"1108\"},\"x_scale\":{\"id\":\"1112\"},\"y_range\":{\"id\":\"1110\"},\"y_scale\":{\"id\":\"1114\"}},\"id\":\"1107\",\"subtype\":\"Figure\",\"type\":\"Plot\"},{\"attributes\":{\"overlay\":{\"id\":\"1130\"}},\"id\":\"1126\",\"type\":\"BoxZoomTool\"},{\"attributes\":{},\"id\":\"1127\",\"type\":\"SaveTool\"},{\"attributes\":{},\"id\":\"1129\",\"type\":\"HelpTool\"},{\"attributes\":{\"active_multi\":null,\"tools\":[{\"id\":\"1124\"},{\"id\":\"1125\"},{\"id\":\"1126\"},{\"id\":\"1127\"},{\"id\":\"1128\"},{\"id\":\"1129\"}]},\"id\":\"1131\",\"type\":\"Toolbar\"},{\"attributes\":{},\"id\":\"1108\",\"type\":\"DataRange1d\"},{\"attributes\":{\"items\":[{\"id\":\"1156\"}],\"location\":\"bottom_right\"},\"id\":\"1155\",\"type\":\"Legend\"},{\"attributes\":{},\"id\":\"1149\",\"type\":\"BasicTickFormatter\"},{\"attributes\":{\"axis\":{\"id\":\"1116\"},\"ticker\":null},\"id\":\"1119\",\"type\":\"Grid\"},{\"attributes\":{},\"id\":\"1154\",\"type\":\"Selection\"},{\"attributes\":{},\"id\":\"1144\",\"type\":\"Title\"},{\"attributes\":{\"line_color\":\"red\",\"x\":{\"field\":\"year\"},\"y\":{\"field\":\"overall\"}},\"id\":\"1140\",\"type\":\"Line\"},{\"attributes\":{},\"id\":\"1153\",\"type\":\"UnionRenderers\"},{\"attributes\":{},\"id\":\"1117\",\"type\":\"BasicTicker\"},{\"attributes\":{\"bottom_units\":\"screen\",\"fill_alpha\":0.5,\"fill_color\":\"lightgrey\",\"left_units\":\"screen\",\"level\":\"overlay\",\"line_alpha\":1.0,\"line_color\":\"black\",\"line_dash\":[4,4],\"line_width\":2,\"right_units\":\"screen\",\"syncable\":false,\"top_units\":\"screen\"},\"id\":\"1130\",\"type\":\"BoxAnnotation\"},{\"attributes\":{},\"id\":\"1146\",\"type\":\"BasicTickFormatter\"},{\"attributes\":{\"source\":{\"id\":\"1138\"}},\"id\":\"1143\",\"type\":\"CDSView\"},{\"attributes\":{},\"id\":\"1148\",\"type\":\"AllLabels\"},{\"attributes\":{\"label\":{\"value\":\"J. Vardy\"},\"renderers\":[{\"id\":\"1142\"}]},\"id\":\"1156\",\"type\":\"LegendItem\"},{\"attributes\":{},\"id\":\"1110\",\"type\":\"DataRange1d\"},{\"attributes\":{\"data_source\":{\"id\":\"1138\"},\"glyph\":{\"id\":\"1140\"},\"hover_glyph\":null,\"muted_glyph\":null,\"nonselection_glyph\":{\"id\":\"1141\"},\"view\":{\"id\":\"1143\"}},\"id\":\"1142\",\"type\":\"GlyphRenderer\"},{\"attributes\":{\"line_alpha\":0.1,\"line_color\":\"red\",\"x\":{\"field\":\"year\"},\"y\":{\"field\":\"overall\"}},\"id\":\"1141\",\"type\":\"Line\"},{\"attributes\":{},\"id\":\"1121\",\"type\":\"BasicTicker\"},{\"attributes\":{\"formatter\":{\"id\":\"1149\"},\"major_label_policy\":{\"id\":\"1151\"},\"ticker\":{\"id\":\"1117\"}},\"id\":\"1116\",\"type\":\"LinearAxis\"},{\"attributes\":{},\"id\":\"1124\",\"type\":\"PanTool\"},{\"attributes\":{},\"id\":\"1112\",\"type\":\"LinearScale\"},{\"attributes\":{},\"id\":\"1151\",\"type\":\"AllLabels\"},{\"attributes\":{\"formatter\":{\"id\":\"1146\"},\"major_label_policy\":{\"id\":\"1148\"},\"ticker\":{\"id\":\"1121\"}},\"id\":\"1120\",\"type\":\"LinearAxis\"},{\"attributes\":{},\"id\":\"1114\",\"type\":\"LinearScale\"},{\"attributes\":{},\"id\":\"1128\",\"type\":\"ResetTool\"},{\"attributes\":{\"axis\":{\"id\":\"1120\"},\"dimension\":1,\"ticker\":null},\"id\":\"1123\",\"type\":\"Grid\"},{\"attributes\":{},\"id\":\"1125\",\"type\":\"WheelZoomTool\"},{\"attributes\":{\"data\":{\"age\":[27,28,29,30,31,32,33],\"attacking_crossing\":[57,59,63,63,64,68,68],\"attacking_finishing\":[71,73,84,83,85,85,92],\"attacking_heading_accuracy\":[56,57,64,64,68,78,79],\"attacking_short_passing\":[55,65,66,66,65,67,69],\"attacking_volleys\":[62,63,76,73,82,81,82],\"body_type\":[\"Lean\",\"Lean\",\"Lean\",\"Lean\",\"Lean\",\"Lean\",\"PLAYER_BODY_TYPE_306\"],\"cam\":[\"66+0\",\"70+0\",\"76+2\",\"75+2\",\"75+2\",\"74+3\",\"78+3\"],\"cb\":[\"48+0\",\"54+0\",\"63+2\",\"61+2\",\"63+2\",\"63+3\",\"64+3\"],\"cdm\":[\"55+0\",\"58+0\",\"64+2\",\"63+2\",\"64+2\",\"63+3\",\"64+3\"],\"cf\":[\"68+0\",\"72+\",\"79+1\",\"79+1\",\"79+0\",\"78+0\",\"83+0\"],\"club_name\":[\"Leicester City\",\"Leicester City\",\"Leicester City\",\"Leicester City\",\"Leicester City\",\"Leicester City\",\"Leicester City\"],\"cm\":[\"60+0\",\"65+0\",\"70+2\",\"69+2\",\"69+2\",\"68+3\",\"71+3\"],\"contract_valid_until\":{\"__ndarray__\":\"AAAAAACIn0AAAAAAAIifQAAAAAAAkJ9AAAAAAACQn0AAAAAAAJifQAAAAAAAmJ9AAAAAAACcn0A=\",\"dtype\":\"float64\",\"order\":\"little\",\"shape\":[7]},\"defending\":{\"__ndarray__\":\"AAAAAACAQ0AAAAAAAIBFQAAAAAAAAEtAAAAAAACASUAAAAAAAABLQAAAAAAAgEtAAAAAAACAS0A=\",\"dtype\":\"float64\",\"order\":\"little\",\"shape\":[7]},\"defending_marking\":{\"__ndarray__\":\"AAAAAACAQkAAAAAAAABDQAAAAAAAAEpAAAAAAAAASEAAAAAAAIBLQAAAAAAAAPh/AAAAAAAA+H8=\",\"dtype\":\"float64\",\"order\":\"little\",\"shape\":[7]},\"defending_sliding_tackle\":[27,34,54,51,51,53,53],\"defending_standing_tackle\":[38,42,56,52,52,50,50],\"dob\":[\"1987-01-11\",\"1987-01-11\",\"1987-01-11\",\"1987-01-11\",\"1987-01-11\",\"1987-01-11\",\"1987-01-11\"],\"dribbling\":{\"__ndarray__\":\"AAAAAACAUUAAAAAAAEBSQAAAAAAAQFNAAAAAAABAU0AAAAAAAEBTQAAAAAAAgFJAAAAAAACAU0A=\",\"dtype\":\"float64\",\"order\":\"little\",\"shape\":[7]},\"gk_diving\":{\"__ndarray__\":\"AAAAAAAA+H8AAAAAAAD4fwAAAAAAAPh/AAAAAAAA+H8AAAAAAAD4fwAAAAAAAPh/AAAAAAAA+H8=\",\"dtype\":\"float64\",\"order\":\"little\",\"shape\":[7]},\"gk_handling\":{\"__ndarray__\":\"AAAAAAAA+H8AAAAAAAD4fwAAAAAAAPh/AAAAAAAA+H8AAAAAAAD4fwAAAAAAAPh/AAAAAAAA+H8=\",\"dtype\":\"float64\",\"order\":\"little\",\"shape\":[7]},\"gk_kicking\":{\"__ndarray__\":\"AAAAAAAA+H8AAAAAAAD4fwAAAAAAAPh/AAAAAAAA+H8AAAAAAAD4fwAAAAAAAPh/AAAAAAAA+H8=\",\"dtype\":\"float64\",\"order\":\"little\",\"shape\":[7]},\"gk_positioning\":{\"__ndarray__\":\"AAAAAAAA+H8AAAAAAAD4fwAAAAAAAPh/AAAAAAAA+H8AAAAAAAD4fwAAAAAAAPh/AAAAAAAA+H8=\",\"dtype\":\"float64\",\"order\":\"little\",\"shape\":[7]},\"gk_reflexes\":{\"__ndarray__\":\"AAAAAAAA+H8AAAAAAAD4fwAAAAAAAPh/AAAAAAAA+H8AAAAAAAD4fwAAAAAAAPh/AAAAAAAA+H8=\",\"dtype\":\"float64\",\"order\":\"little\",\"shape\":[7]},\"gk_speed\":{\"__ndarray__\":\"AAAAAAAA+H8AAAAAAAD4fwAAAAAAAPh/AAAAAAAA+H8AAAAAAAD4fwAAAAAAAPh/AAAAAAAA+H8=\",\"dtype\":\"float64\",\"order\":\"little\",\"shape\":[7]},\"goalkeeping_diving\":[14,15,15,15,15,15,15],\"goalkeeping_handling\":[13,14,14,14,14,14,14],\"goalkeeping_kicking\":[6,7,7,7,7,7,7],\"goalkeeping_positioning\":[14,15,15,15,15,15,15],\"goalkeeping_reflexes\":[10,11,11,11,11,11,11],\"height_cm\":[178,178,178,179,179,179,179],\"index\":[3651,19780,32046,49766,67643,85736,103958],\"international_reputation\":[1,1,3,3,3,3,3],\"joined\":[\"2012-05-01\",\"2012-05-01\",\"2012-05-01\",\"2012-05-01\",\"2012-05-01\",\"2012-05-01\",\"2012-05-01\"],\"lam\":[\"66+0\",\"70+0\",\"76+2\",\"75+2\",\"75+2\",\"74+3\",\"78+3\"],\"lb\":[\"53+0\",\"60+0\",\"67+2\",\"66+2\",\"66+2\",\"66+3\",\"67+3\"],\"lcb\":[\"48+0\",\"54+0\",\"63+2\",\"61+2\",\"63+2\",\"63+3\",\"64+3\"],\"lcm\":[\"60+0\",\"65+0\",\"70+2\",\"69+2\",\"69+2\",\"68+3\",\"71+3\"],\"ldm\":[\"55+0\",\"58+0\",\"64+2\",\"63+2\",\"64+2\",\"63+3\",\"64+3\"],\"league_name\":[\"English Premier League\",\"English Premier League\",\"English Premier League\",\"English Premier League\",\"English Premier League\",\"English Premier League\",\"English Premier League\"],\"league_rank\":{\"__ndarray__\":\"AAAAAAAA8D8AAAAAAADwPwAAAAAAAPA/AAAAAAAA8D8AAAAAAADwPwAAAAAAAPA/AAAAAAAA8D8=\",\"dtype\":\"float64\",\"order\":\"little\",\"shape\":[7]},\"lf\":[\"68+0\",\"72+\",\"79+1\",\"79+1\",\"79+0\",\"78+0\",\"83+0\"],\"lm\":[\"66+0\",\"72+\",\"77+2\",\"76+2\",\"76+2\",\"75+3\",\"79+3\"],\"loaned_from\":[\"NaN\",\"NaN\",\"NaN\",\"NaN\",\"NaN\",\"NaN\",\"NaN\"],\"long_name\":[\"Jamie Vardy\",\"Jamie Vardy\",\"Jamie Vardy\",\"Jamie Vardy\",\"Jamie Vardy\",\"Jamie Vardy\",\"Jamie Vardy\"],\"ls\":[\"69+0\",\"71+0\",\"80+2\",\"79+2\",\"80+2\",\"80+2\",\"84+2\"],\"lw\":[\"67+0\",\"72+\",\"78+1\",\"77+1\",\"78+0\",\"77+0\",\"80+0\"],\"lwb\":[\"55+0\",\"62+0\",\"69+2\",\"67+2\",\"67+2\",\"67+3\",\"68+3\"],\"mentality_aggression\":[78,85,92,92,92,87,87],\"mentality_composure\":{\"__ndarray__\":\"AAAAAAAA+H8AAAAAAAD4fwAAAAAAgFNAAAAAAADAU0AAAAAAAIBUQAAAAAAAQFRAAAAAAADAVUA=\",\"dtype\":\"float64\",\"order\":\"little\",\"shape\":[7]},\"mentality_interceptions\":[40,51,51,49,49,49,49],\"mentality_penalties\":[63,68,76,76,78,83,84],\"mentality_positioning\":[68,70,86,84,85,86,92],\"mentality_vision\":[61,67,72,72,72,72,73],\"movement_acceleration\":[83,89,94,91,89,87,90],\"movement_agility\":[69,76,77,78,75,72,72],\"movement_balance\":[55,79,79,77,76,75,75],\"movement_reactions\":[69,76,84,86,88,83,90],\"movement_sprint_speed\":[86,91,93,91,91,88,87],\"nation_jersey_number\":{\"__ndarray__\":\"AAAAAAAA+H8AAAAAAAAyQAAAAAAAADNAAAAAAAAANUAAAAAAAAAmQAAAAAAAAPh/AAAAAAAA+H8=\",\"dtype\":\"float64\",\"order\":\"little\",\"shape\":[7]},\"nation_position\":[\"NaN\",\"SUB\",\"SUB\",\"SUB\",\"SUB\",\"NaN\",\"NaN\"],\"nationality\":[\"England\",\"England\",\"England\",\"England\",\"England\",\"England\",\"England\"],\"overall\":[69,71,82,81,82,82,86],\"pace\":{\"__ndarray__\":\"AAAAAABAVUAAAAAAAIBWQAAAAAAAQFdAAAAAAADAVkAAAAAAAIBWQAAAAAAAAFZAAAAAAAAAVkA=\",\"dtype\":\"float64\",\"order\":\"little\",\"shape\":[7]},\"passing\":{\"__ndarray__\":\"AAAAAACAS0AAAAAAAABOQAAAAAAAgE9AAAAAAACAT0AAAAAAAIBPQAAAAAAAQFBAAAAAAACAUEA=\",\"dtype\":\"float64\",\"order\":\"little\",\"shape\":[7]},\"physic\":{\"__ndarray__\":\"AAAAAADAUUAAAAAAAABTQAAAAAAAwFNAAAAAAACAU0AAAAAAAEBTQAAAAAAAwFJAAAAAAADAUkA=\",\"dtype\":\"float64\",\"order\":\"little\",\"shape\":[7]},\"player_positions\":[\"ST\",\"ST\",\"ST, LW, LM\",\"ST\",\"ST\",\"ST\",\"ST\"],\"player_tags\":[\"NaN\",\"#Speedster, #Engine\",\"#Speedster, #Engine\",\"#Speedster, #Engine\",\"#Speedster, #Engine\",\"NaN\",\"NaN\"],\"player_traits\":[\"Beat Offside Trap\",\"Beat Offside Trap\",\"Diver, Beat Offside Trap\",\"Diver, Beat Offside Trap\",\"Diver, Dives Into Tackles (AI), Beat Offside Trap, Team Player\",\"Dives Into Tackles (AI), Team Player\",\"Dives Into Tackles (AI), Team Player\"],\"player_url\":[\"https://sofifa.com/player/208830/jamie-vardy/150002\",\"https://sofifa.com/player/208830/jamie-vardy/160002\",\"https://sofifa.com/player/208830/jamie-vardy/170002\",\"https://sofifa.com/player/208830/jamie-vardy/180002\",\"https://sofifa.com/player/208830/jamie-vardy/190002\",\"https://sofifa.com/player/208830/jamie-vardy/200002\",\"https://sofifa.com/player/208830/jamie-vardy/210002\"],\"potential\":[71,71,82,81,82,82,86],\"power_jumping\":[49,51,70,74,74,78,79],\"power_long_shots\":[65,68,68,67,67,64,65],\"power_shot_power\":[70,71,85,85,85,85,87],\"power_stamina\":[83,90,90,88,86,79,79],\"power_strength\":[64,67,69,68,67,68,68],\"preferred_foot\":[\"Right\",\"Right\",\"Right\",\"Right\",\"Right\",\"Right\",\"Right\"],\"ram\":[\"66+0\",\"70+0\",\"76+2\",\"75+2\",\"75+2\",\"74+3\",\"78+3\"],\"rb\":[\"53+0\",\"60+0\",\"67+2\",\"66+2\",\"66+2\",\"66+3\",\"67+3\"],\"rcb\":[\"48+0\",\"54+0\",\"63+2\",\"61+2\",\"63+2\",\"63+3\",\"64+3\"],\"rcm\":[\"60+0\",\"65+0\",\"70+2\",\"69+2\",\"69+2\",\"68+3\",\"71+3\"],\"rdm\":[\"55+0\",\"58+0\",\"64+2\",\"63+2\",\"64+2\",\"63+3\",\"64+3\"],\"real_face\":[\"No\",\"Yes\",\"Yes\",\"Yes\",\"Yes\",\"Yes\",\"Yes\"],\"release_clause_eur\":{\"__ndarray__\":\"AAAAAAAA+H8AAAAAAAD4fwAAAAAAAPh/AAAAAL7NfkEAAAAArB6CQQAAAADiwX9BAAAAACReiUE=\",\"dtype\":\"float64\",\"order\":\"little\",\"shape\":[7]},\"rf\":[\"68+0\",\"72+\",\"79+1\",\"79+1\",\"79+0\",\"78+0\",\"83+0\"],\"rm\":[\"66+0\",\"72+\",\"77+2\",\"76+2\",\"76+2\",\"75+3\",\"79+3\"],\"rs\":[\"69+0\",\"71+0\",\"80+2\",\"79+2\",\"80+2\",\"80+2\",\"84+2\"],\"rw\":[\"67+0\",\"72+\",\"78+1\",\"77+1\",\"78+0\",\"77+0\",\"80+0\"],\"rwb\":[\"55+0\",\"62+0\",\"69+2\",\"67+2\",\"67+2\",\"67+3\",\"68+3\"],\"shooting\":{\"__ndarray__\":\"AAAAAABAUUAAAAAAAMBRQAAAAAAAAFRAAAAAAADAU0AAAAAAAEBUQAAAAAAAQFRAAAAAAABAVUA=\",\"dtype\":\"float64\",\"order\":\"little\",\"shape\":[7]},\"short_name\":[\"J. Vardy\",\"J. Vardy\",\"J. Vardy\",\"J. Vardy\",\"J. Vardy\",\"J. Vardy\",\"J. Vardy\"],\"skill_ball_control\":[68,69,76,76,76,74,81],\"skill_curve\":[49,52,59,59,60,65,67],\"skill_dribbling\":[72,73,76,76,76,74,77],\"skill_fk_accuracy\":[47,48,48,48,57,57,57],\"skill_long_passing\":[47,48,48,48,48,48,48],\"skill_moves\":[3,3,3,3,3,3,3],\"sofifa_id\":[208830,208830,208830,208830,208830,208830,208830],\"st\":[\"69+0\",\"71+0\",\"80+2\",\"79+2\",\"80+2\",\"80+2\",\"84+2\"],\"team_jersey_number\":{\"__ndarray__\":\"AAAAAAAAIkAAAAAAAAAiQAAAAAAAACJAAAAAAAAAIkAAAAAAAAAiQAAAAAAAACJAAAAAAAAAIkA=\",\"dtype\":\"float64\",\"order\":\"little\",\"shape\":[7]},\"team_position\":[\"SUB\",\"RS\",\"LS\",\"LS\",\"ST\",\"ST\",\"ST\"],\"value_eur\":[1100000,1700000,19500000,17000000,20000000,17500000,28000000],\"wage_eur\":[15000,25000,100000,90000,100000,110000,160000],\"weak_foot\":[3,3,3,3,3,3,3],\"weight_kg\":[76,76,76,74,74,74,74],\"work_rate\":[\"High/High\",\"High/High\",\"High/High\",\"High/High\",\"High/High\",\"High/High\",\"High/High\"],\"year\":[2015,2016,2017,2018,2019,2020,2021]},\"selected\":{\"id\":\"1154\"},\"selection_policy\":{\"id\":\"1153\"}},\"id\":\"1138\",\"type\":\"ColumnDataSource\"}],\"root_ids\":[\"1107\"]},\"title\":\"Bokeh Application\",\"version\":\"2.3.3\"}};\n",
       "  var render_items = [{\"docid\":\"04cf9a16-0079-4722-a4a7-36f9b24fe896\",\"root_ids\":[\"1107\"],\"roots\":{\"1107\":\"337e2f05-d4dc-4ff2-9a4c-51942f8c808f\"}}];\n",
       "  root.Bokeh.embed.embed_items_notebook(docs_json, render_items);\n",
       "\n",
       "  }\n",
       "  if (root.Bokeh !== undefined) {\n",
       "    embed_document(root);\n",
       "  } else {\n",
       "    var attempts = 0;\n",
       "    var timer = setInterval(function(root) {\n",
       "      if (root.Bokeh !== undefined) {\n",
       "        clearInterval(timer);\n",
       "        embed_document(root);\n",
       "      } else {\n",
       "        attempts++;\n",
       "        if (attempts > 100) {\n",
       "          clearInterval(timer);\n",
       "          console.log(\"Bokeh: ERROR: Unable to run BokehJS code because BokehJS library is missing\");\n",
       "        }\n",
       "      }\n",
       "    }, 10, root)\n",
       "  }\n",
       "})(window);"
      ],
      "application/vnd.bokehjs_exec.v0+json": ""
     },
     "metadata": {
      "application/vnd.bokehjs_exec.v0+json": {
       "id": "1107"
      }
     },
     "output_type": "display_data"
    }
   ],
   "source": [
    "from bokeh.plotting import figure, show, output_notebook\n",
    "output_notebook() # we need to specify this to show the plot in the cell\n",
    "p = figure(plot_width=400, plot_height=400)\n",
    "p.line(x='year', y='overall', source=df_all.query('short_name==\"J. Vardy\"'), color='red', legend_label='J. Vardy')\n",
    "p.legend.location = \"bottom_right\"\n",
    "show(p)"
   ]
  },
  {
   "cell_type": "code",
   "execution_count": 8,
   "metadata": {
    "colab": {
     "base_uri": "https://localhost:8080/"
    },
    "id": "F5IsmS6L6_lz",
    "outputId": "d80ef749-ef78-477f-c3e2-fa5438090863"
   },
   "outputs": [],
   "source": [
    "# ====================================\n",
    "# Validation Check\n",
    "# DO NOT CHANGE THIS CELL\n",
    "# ====================================\n",
    "%history -n 7 -f results/input_vcf_01.txt\n",
    "with open(\"results/input_vcf_01.txt\", 'r') as my_res:\n",
    "    lines = my_res.read().splitlines()\n",
    "    last_line = lines[-2]\n",
    "\n",
    "with open('results/vcf_01.txt', 'w') as f:\n",
    "    f.write(\"%s\\n\" % last_line)"
   ]
  },
  {
   "cell_type": "markdown",
   "metadata": {
    "id": "h1cP7W6N7ItC"
   },
   "source": [
    "### 3. Multiple Plots"
   ]
  },
  {
   "cell_type": "markdown",
   "metadata": {
    "id": "c3f7xAQ9e9zu"
   },
   "source": [
    "Ok, so far we have taken into account just one series. Now it's time to plot three distinct series, so that we can easily compare the overall score evolution for the considered players. We first create three distinct pandas dataframes. This is done in the next cell."
   ]
  },
  {
   "cell_type": "code",
   "execution_count": 10,
   "metadata": {
    "id": "kAIEVuZj5kXn"
   },
   "outputs": [],
   "source": [
    "vardy_df = filtered_df.query('short_name==\"J. Vardy\"')\n",
    "immobile_df = filtered_df.query('short_name==\"C. Immobile\"')\n",
    "lukaku_df = filtered_df.query('short_name==\"R. Lukaku\"')"
   ]
  },
  {
   "cell_type": "markdown",
   "metadata": {
    "id": "ssvpGVN89nLS"
   },
   "source": [
    "To show three distinct series, we initialize a figure object at first, and then we apply a line glyph for each distinct series. To highlight the distinct patterns, we use a specific color for each player. This is easily done by using the Bokeh `Colorblind3` palette. This is done for you in the next cell."
   ]
  },
  {
   "cell_type": "code",
   "execution_count": 11,
   "metadata": {
    "colab": {
     "base_uri": "https://localhost:8080/",
     "height": 417
    },
    "id": "gqABFlC35XXI",
    "outputId": "23df9828-fd18-441a-9e4a-aef281ef0825"
   },
   "outputs": [
    {
     "data": {
      "text/html": [
       "\n",
       "\n",
       "\n",
       "\n",
       "\n",
       "\n",
       "  <div class=\"bk-root\" id=\"4b55308d-2230-4e04-87e9-68b8b687ad9b\" data-root-id=\"1234\"></div>\n"
      ]
     },
     "metadata": {},
     "output_type": "display_data"
    },
    {
     "data": {
      "application/javascript": [
       "(function(root) {\n",
       "  function embed_document(root) {\n",
       "    \n",
       "  var docs_json = {\"25ad7327-da50-44df-b9e2-5de0f53a1a5a\":{\"defs\":[],\"roots\":{\"references\":[{\"attributes\":{\"below\":[{\"id\":\"1243\"}],\"center\":[{\"id\":\"1246\"},{\"id\":\"1250\"},{\"id\":\"1281\"}],\"height\":400,\"left\":[{\"id\":\"1247\"}],\"renderers\":[{\"id\":\"1268\"},{\"id\":\"1286\"},{\"id\":\"1305\"}],\"title\":{\"id\":\"1270\"},\"toolbar\":{\"id\":\"1258\"},\"width\":400,\"x_range\":{\"id\":\"1235\"},\"x_scale\":{\"id\":\"1239\"},\"y_range\":{\"id\":\"1237\"},\"y_scale\":{\"id\":\"1241\"}},\"id\":\"1234\",\"subtype\":\"Figure\",\"type\":\"Plot\"},{\"attributes\":{},\"id\":\"1252\",\"type\":\"WheelZoomTool\"},{\"attributes\":{},\"id\":\"1279\",\"type\":\"UnionRenderers\"},{\"attributes\":{},\"id\":\"1251\",\"type\":\"PanTool\"},{\"attributes\":{\"overlay\":{\"id\":\"1257\"}},\"id\":\"1253\",\"type\":\"BoxZoomTool\"},{\"attributes\":{},\"id\":\"1280\",\"type\":\"Selection\"},{\"attributes\":{},\"id\":\"1254\",\"type\":\"SaveTool\"},{\"attributes\":{},\"id\":\"1299\",\"type\":\"UnionRenderers\"},{\"attributes\":{},\"id\":\"1255\",\"type\":\"ResetTool\"},{\"attributes\":{},\"id\":\"1275\",\"type\":\"BasicTickFormatter\"},{\"attributes\":{\"label\":{\"value\":\"J. Vardy\"},\"renderers\":[{\"id\":\"1268\"}]},\"id\":\"1282\",\"type\":\"LegendItem\"},{\"attributes\":{},\"id\":\"1300\",\"type\":\"Selection\"},{\"attributes\":{\"line_alpha\":0.8,\"line_color\":\"#0072B2\",\"line_width\":2,\"x\":{\"field\":\"x\"},\"y\":{\"field\":\"y\"}},\"id\":\"1266\",\"type\":\"Line\"},{\"attributes\":{\"data\":{\"x\":[2015,2016,2017,2018,2019,2020,2021],\"y\":[69,71,82,81,82,82,86]},\"selected\":{\"id\":\"1280\"},\"selection_policy\":{\"id\":\"1279\"}},\"id\":\"1265\",\"type\":\"ColumnDataSource\"},{\"attributes\":{\"items\":[{\"id\":\"1282\"},{\"id\":\"1301\"},{\"id\":\"1322\"}],\"location\":\"bottom_right\"},\"id\":\"1281\",\"type\":\"Legend\"},{\"attributes\":{\"line_alpha\":0.8,\"line_color\":\"#F0E442\",\"line_width\":2,\"x\":{\"field\":\"x\"},\"y\":{\"field\":\"y\"}},\"id\":\"1303\",\"type\":\"Line\"},{\"attributes\":{},\"id\":\"1270\",\"type\":\"Title\"},{\"attributes\":{},\"id\":\"1274\",\"type\":\"AllLabels\"},{\"attributes\":{\"line_alpha\":0.1,\"line_color\":\"#0072B2\",\"line_width\":2,\"x\":{\"field\":\"x\"},\"y\":{\"field\":\"y\"}},\"id\":\"1267\",\"type\":\"Line\"},{\"attributes\":{},\"id\":\"1277\",\"type\":\"AllLabels\"},{\"attributes\":{\"source\":{\"id\":\"1265\"}},\"id\":\"1269\",\"type\":\"CDSView\"},{\"attributes\":{\"data_source\":{\"id\":\"1265\"},\"glyph\":{\"id\":\"1266\"},\"hover_glyph\":null,\"muted_glyph\":null,\"nonselection_glyph\":{\"id\":\"1267\"},\"view\":{\"id\":\"1269\"}},\"id\":\"1268\",\"type\":\"GlyphRenderer\"},{\"attributes\":{},\"id\":\"1272\",\"type\":\"BasicTickFormatter\"},{\"attributes\":{\"bottom_units\":\"screen\",\"fill_alpha\":0.5,\"fill_color\":\"lightgrey\",\"left_units\":\"screen\",\"level\":\"overlay\",\"line_alpha\":1.0,\"line_color\":\"black\",\"line_dash\":[4,4],\"line_width\":2,\"right_units\":\"screen\",\"syncable\":false,\"top_units\":\"screen\"},\"id\":\"1257\",\"type\":\"BoxAnnotation\"},{\"attributes\":{\"source\":{\"id\":\"1283\"}},\"id\":\"1287\",\"type\":\"CDSView\"},{\"attributes\":{},\"id\":\"1235\",\"type\":\"DataRange1d\"},{\"attributes\":{\"data_source\":{\"id\":\"1283\"},\"glyph\":{\"id\":\"1284\"},\"hover_glyph\":null,\"muted_glyph\":null,\"nonselection_glyph\":{\"id\":\"1285\"},\"view\":{\"id\":\"1287\"}},\"id\":\"1286\",\"type\":\"GlyphRenderer\"},{\"attributes\":{},\"id\":\"1237\",\"type\":\"DataRange1d\"},{\"attributes\":{\"formatter\":{\"id\":\"1272\"},\"major_label_policy\":{\"id\":\"1274\"},\"ticker\":{\"id\":\"1248\"}},\"id\":\"1247\",\"type\":\"LinearAxis\"},{\"attributes\":{\"data_source\":{\"id\":\"1302\"},\"glyph\":{\"id\":\"1303\"},\"hover_glyph\":null,\"muted_glyph\":null,\"nonselection_glyph\":{\"id\":\"1304\"},\"view\":{\"id\":\"1306\"}},\"id\":\"1305\",\"type\":\"GlyphRenderer\"},{\"attributes\":{\"formatter\":{\"id\":\"1275\"},\"major_label_policy\":{\"id\":\"1277\"},\"ticker\":{\"id\":\"1244\"}},\"id\":\"1243\",\"type\":\"LinearAxis\"},{\"attributes\":{\"line_alpha\":0.8,\"line_color\":\"#E69F00\",\"line_width\":2,\"x\":{\"field\":\"x\"},\"y\":{\"field\":\"y\"}},\"id\":\"1284\",\"type\":\"Line\"},{\"attributes\":{},\"id\":\"1241\",\"type\":\"LinearScale\"},{\"attributes\":{\"data\":{\"x\":[2015,2016,2017,2018,2019,2020,2021],\"y\":[80,79,80,82,87,86,87]},\"selected\":{\"id\":\"1300\"},\"selection_policy\":{\"id\":\"1299\"}},\"id\":\"1283\",\"type\":\"ColumnDataSource\"},{\"attributes\":{},\"id\":\"1256\",\"type\":\"HelpTool\"},{\"attributes\":{\"data\":{\"x\":[2015,2016,2017,2018,2019,2020,2021],\"y\":[80,80,84,86,87,85,85]},\"selected\":{\"id\":\"1321\"},\"selection_policy\":{\"id\":\"1320\"}},\"id\":\"1302\",\"type\":\"ColumnDataSource\"},{\"attributes\":{},\"id\":\"1239\",\"type\":\"LinearScale\"},{\"attributes\":{\"line_alpha\":0.1,\"line_color\":\"#E69F00\",\"line_width\":2,\"x\":{\"field\":\"x\"},\"y\":{\"field\":\"y\"}},\"id\":\"1285\",\"type\":\"Line\"},{\"attributes\":{},\"id\":\"1244\",\"type\":\"BasicTicker\"},{\"attributes\":{},\"id\":\"1320\",\"type\":\"UnionRenderers\"},{\"attributes\":{\"axis\":{\"id\":\"1243\"},\"ticker\":null},\"id\":\"1246\",\"type\":\"Grid\"},{\"attributes\":{\"source\":{\"id\":\"1302\"}},\"id\":\"1306\",\"type\":\"CDSView\"},{\"attributes\":{},\"id\":\"1321\",\"type\":\"Selection\"},{\"attributes\":{\"label\":{\"value\":\"C. Immobile\"},\"renderers\":[{\"id\":\"1286\"}]},\"id\":\"1301\",\"type\":\"LegendItem\"},{\"attributes\":{\"label\":{\"value\":\"R. Lukaku\"},\"renderers\":[{\"id\":\"1305\"}]},\"id\":\"1322\",\"type\":\"LegendItem\"},{\"attributes\":{\"line_alpha\":0.1,\"line_color\":\"#F0E442\",\"line_width\":2,\"x\":{\"field\":\"x\"},\"y\":{\"field\":\"y\"}},\"id\":\"1304\",\"type\":\"Line\"},{\"attributes\":{\"axis\":{\"id\":\"1247\"},\"dimension\":1,\"ticker\":null},\"id\":\"1250\",\"type\":\"Grid\"},{\"attributes\":{},\"id\":\"1248\",\"type\":\"BasicTicker\"},{\"attributes\":{\"active_multi\":null,\"tools\":[{\"id\":\"1251\"},{\"id\":\"1252\"},{\"id\":\"1253\"},{\"id\":\"1254\"},{\"id\":\"1255\"},{\"id\":\"1256\"}]},\"id\":\"1258\",\"type\":\"Toolbar\"}],\"root_ids\":[\"1234\"]},\"title\":\"Bokeh Application\",\"version\":\"2.3.3\"}};\n",
       "  var render_items = [{\"docid\":\"25ad7327-da50-44df-b9e2-5de0f53a1a5a\",\"root_ids\":[\"1234\"],\"roots\":{\"1234\":\"4b55308d-2230-4e04-87e9-68b8b687ad9b\"}}];\n",
       "  root.Bokeh.embed.embed_items_notebook(docs_json, render_items);\n",
       "\n",
       "  }\n",
       "  if (root.Bokeh !== undefined) {\n",
       "    embed_document(root);\n",
       "  } else {\n",
       "    var attempts = 0;\n",
       "    var timer = setInterval(function(root) {\n",
       "      if (root.Bokeh !== undefined) {\n",
       "        clearInterval(timer);\n",
       "        embed_document(root);\n",
       "      } else {\n",
       "        attempts++;\n",
       "        if (attempts > 100) {\n",
       "          clearInterval(timer);\n",
       "          console.log(\"Bokeh: ERROR: Unable to run BokehJS code because BokehJS library is missing\");\n",
       "        }\n",
       "      }\n",
       "    }, 10, root)\n",
       "  }\n",
       "})(window);"
      ],
      "application/vnd.bokehjs_exec.v0+json": ""
     },
     "metadata": {
      "application/vnd.bokehjs_exec.v0+json": {
       "id": "1234"
      }
     },
     "output_type": "display_data"
    }
   ],
   "source": [
    "from bokeh.palettes import Colorblind3 # this is a bokeh util that deals the color for us\n",
    "p = figure(plot_width=400, plot_height=400)\n",
    "for data, name, color in zip([vardy_df, immobile_df, lukaku_df], [\"J. Vardy\", \"C. Immobile\", \"R. Lukaku\"], Colorblind3):\n",
    "    df = pd.DataFrame(data)\n",
    "    p.line(df['year'], df['overall'], color=color, alpha=0.8, legend_label=name, line_width=2)\n",
    "\n",
    "p.legend.location = \"bottom_right\"\n",
    "show(p)"
   ]
  },
  {
   "cell_type": "markdown",
   "metadata": {
    "id": "raJD0T077Rgn"
   },
   "source": [
    "### 4. Adding Interactivity with a Legend"
   ]
  },
  {
   "cell_type": "markdown",
   "metadata": {
    "id": "_ETd3eP2fJDi"
   },
   "source": [
    "Legends added to Bokeh plots can be made interactive in case one needs to mute a certain glyph in a plot. These modes are activated by setting the `click_policy` property on a Legend to either `\"hide\"` or `\"mute\"`. Once you run the next cell, try to click on the legend: the selected player will be deactivated!"
   ]
  },
  {
   "cell_type": "code",
   "execution_count": 12,
   "metadata": {
    "colab": {
     "base_uri": "https://localhost:8080/",
     "height": 417
    },
    "id": "sV-L98rf7Tpk",
    "outputId": "d1c06ce0-b8aa-41a8-f93b-f9e1fb527880"
   },
   "outputs": [
    {
     "data": {
      "text/html": [
       "\n",
       "\n",
       "\n",
       "\n",
       "\n",
       "\n",
       "  <div class=\"bk-root\" id=\"edcfaa9f-9f1c-4321-9c1e-31e907b7ac56\" data-root-id=\"1435\"></div>\n"
      ]
     },
     "metadata": {},
     "output_type": "display_data"
    },
    {
     "data": {
      "application/javascript": [
       "(function(root) {\n",
       "  function embed_document(root) {\n",
       "    \n",
       "  var docs_json = {\"b7cc692b-e300-4812-952b-09fb5ffe17e5\":{\"defs\":[],\"roots\":{\"references\":[{\"attributes\":{\"below\":[{\"id\":\"1444\"}],\"center\":[{\"id\":\"1447\"},{\"id\":\"1451\"},{\"id\":\"1482\"}],\"height\":400,\"left\":[{\"id\":\"1448\"}],\"renderers\":[{\"id\":\"1469\"},{\"id\":\"1487\"},{\"id\":\"1506\"}],\"title\":{\"id\":\"1471\"},\"toolbar\":{\"id\":\"1459\"},\"width\":400,\"x_range\":{\"id\":\"1436\"},\"x_scale\":{\"id\":\"1440\"},\"y_range\":{\"id\":\"1438\"},\"y_scale\":{\"id\":\"1442\"}},\"id\":\"1435\",\"subtype\":\"Figure\",\"type\":\"Plot\"},{\"attributes\":{\"label\":{\"value\":\"C. Immobile\"},\"renderers\":[{\"id\":\"1487\"}]},\"id\":\"1502\",\"type\":\"LegendItem\"},{\"attributes\":{},\"id\":\"1473\",\"type\":\"BasicTickFormatter\"},{\"attributes\":{\"source\":{\"id\":\"1503\"}},\"id\":\"1507\",\"type\":\"CDSView\"},{\"attributes\":{\"line_alpha\":0.8,\"line_color\":\"#0072B2\",\"line_width\":2,\"x\":{\"field\":\"x\"},\"y\":{\"field\":\"y\"}},\"id\":\"1467\",\"type\":\"Line\"},{\"attributes\":{\"data\":{\"x\":[2015,2016,2017,2018,2019,2020,2021],\"y\":[69,71,82,81,82,82,86]},\"selected\":{\"id\":\"1481\"},\"selection_policy\":{\"id\":\"1480\"}},\"id\":\"1466\",\"type\":\"ColumnDataSource\"},{\"attributes\":{\"data_source\":{\"id\":\"1466\"},\"glyph\":{\"id\":\"1467\"},\"hover_glyph\":null,\"muted_glyph\":null,\"nonselection_glyph\":{\"id\":\"1468\"},\"view\":{\"id\":\"1470\"}},\"id\":\"1469\",\"type\":\"GlyphRenderer\"},{\"attributes\":{},\"id\":\"1475\",\"type\":\"AllLabels\"},{\"attributes\":{},\"id\":\"1521\",\"type\":\"UnionRenderers\"},{\"attributes\":{\"line_alpha\":0.1,\"line_color\":\"#0072B2\",\"line_width\":2,\"x\":{\"field\":\"x\"},\"y\":{\"field\":\"y\"}},\"id\":\"1468\",\"type\":\"Line\"},{\"attributes\":{},\"id\":\"1480\",\"type\":\"UnionRenderers\"},{\"attributes\":{},\"id\":\"1522\",\"type\":\"Selection\"},{\"attributes\":{\"click_policy\":\"hide\",\"items\":[{\"id\":\"1483\"},{\"id\":\"1502\"},{\"id\":\"1523\"}],\"location\":\"bottom_right\"},\"id\":\"1482\",\"type\":\"Legend\"},{\"attributes\":{},\"id\":\"1481\",\"type\":\"Selection\"},{\"attributes\":{},\"id\":\"1500\",\"type\":\"UnionRenderers\"},{\"attributes\":{},\"id\":\"1501\",\"type\":\"Selection\"},{\"attributes\":{\"bottom_units\":\"screen\",\"fill_alpha\":0.5,\"fill_color\":\"lightgrey\",\"left_units\":\"screen\",\"level\":\"overlay\",\"line_alpha\":1.0,\"line_color\":\"black\",\"line_dash\":[4,4],\"line_width\":2,\"right_units\":\"screen\",\"syncable\":false,\"top_units\":\"screen\"},\"id\":\"1458\",\"type\":\"BoxAnnotation\"},{\"attributes\":{},\"id\":\"1438\",\"type\":\"DataRange1d\"},{\"attributes\":{},\"id\":\"1456\",\"type\":\"ResetTool\"},{\"attributes\":{},\"id\":\"1436\",\"type\":\"DataRange1d\"},{\"attributes\":{\"formatter\":{\"id\":\"1473\"},\"major_label_policy\":{\"id\":\"1475\"},\"ticker\":{\"id\":\"1449\"}},\"id\":\"1448\",\"type\":\"LinearAxis\"},{\"attributes\":{\"formatter\":{\"id\":\"1476\"},\"major_label_policy\":{\"id\":\"1478\"},\"ticker\":{\"id\":\"1445\"}},\"id\":\"1444\",\"type\":\"LinearAxis\"},{\"attributes\":{},\"id\":\"1476\",\"type\":\"BasicTickFormatter\"},{\"attributes\":{},\"id\":\"1442\",\"type\":\"LinearScale\"},{\"attributes\":{},\"id\":\"1449\",\"type\":\"BasicTicker\"},{\"attributes\":{},\"id\":\"1440\",\"type\":\"LinearScale\"},{\"attributes\":{},\"id\":\"1457\",\"type\":\"HelpTool\"},{\"attributes\":{},\"id\":\"1478\",\"type\":\"AllLabels\"},{\"attributes\":{\"label\":{\"value\":\"J. Vardy\"},\"renderers\":[{\"id\":\"1469\"}]},\"id\":\"1483\",\"type\":\"LegendItem\"},{\"attributes\":{},\"id\":\"1445\",\"type\":\"BasicTicker\"},{\"attributes\":{},\"id\":\"1452\",\"type\":\"PanTool\"},{\"attributes\":{\"axis\":{\"id\":\"1444\"},\"ticker\":null},\"id\":\"1447\",\"type\":\"Grid\"},{\"attributes\":{},\"id\":\"1471\",\"type\":\"Title\"},{\"attributes\":{\"source\":{\"id\":\"1466\"}},\"id\":\"1470\",\"type\":\"CDSView\"},{\"attributes\":{\"source\":{\"id\":\"1484\"}},\"id\":\"1488\",\"type\":\"CDSView\"},{\"attributes\":{\"data_source\":{\"id\":\"1484\"},\"glyph\":{\"id\":\"1485\"},\"hover_glyph\":null,\"muted_glyph\":null,\"nonselection_glyph\":{\"id\":\"1486\"},\"view\":{\"id\":\"1488\"}},\"id\":\"1487\",\"type\":\"GlyphRenderer\"},{\"attributes\":{\"axis\":{\"id\":\"1448\"},\"dimension\":1,\"ticker\":null},\"id\":\"1451\",\"type\":\"Grid\"},{\"attributes\":{\"line_alpha\":0.8,\"line_color\":\"#F0E442\",\"line_width\":2,\"x\":{\"field\":\"x\"},\"y\":{\"field\":\"y\"}},\"id\":\"1504\",\"type\":\"Line\"},{\"attributes\":{\"data\":{\"x\":[2015,2016,2017,2018,2019,2020,2021],\"y\":[80,80,84,86,87,85,85]},\"selected\":{\"id\":\"1522\"},\"selection_policy\":{\"id\":\"1521\"}},\"id\":\"1503\",\"type\":\"ColumnDataSource\"},{\"attributes\":{\"active_multi\":null,\"tools\":[{\"id\":\"1452\"},{\"id\":\"1453\"},{\"id\":\"1454\"},{\"id\":\"1455\"},{\"id\":\"1456\"},{\"id\":\"1457\"}]},\"id\":\"1459\",\"type\":\"Toolbar\"},{\"attributes\":{\"line_alpha\":0.8,\"line_color\":\"#E69F00\",\"line_width\":2,\"x\":{\"field\":\"x\"},\"y\":{\"field\":\"y\"}},\"id\":\"1485\",\"type\":\"Line\"},{\"attributes\":{},\"id\":\"1453\",\"type\":\"WheelZoomTool\"},{\"attributes\":{\"line_alpha\":0.1,\"line_color\":\"#F0E442\",\"line_width\":2,\"x\":{\"field\":\"x\"},\"y\":{\"field\":\"y\"}},\"id\":\"1505\",\"type\":\"Line\"},{\"attributes\":{\"data\":{\"x\":[2015,2016,2017,2018,2019,2020,2021],\"y\":[80,79,80,82,87,86,87]},\"selected\":{\"id\":\"1501\"},\"selection_policy\":{\"id\":\"1500\"}},\"id\":\"1484\",\"type\":\"ColumnDataSource\"},{\"attributes\":{\"overlay\":{\"id\":\"1458\"}},\"id\":\"1454\",\"type\":\"BoxZoomTool\"},{\"attributes\":{\"data_source\":{\"id\":\"1503\"},\"glyph\":{\"id\":\"1504\"},\"hover_glyph\":null,\"muted_glyph\":null,\"nonselection_glyph\":{\"id\":\"1505\"},\"view\":{\"id\":\"1507\"}},\"id\":\"1506\",\"type\":\"GlyphRenderer\"},{\"attributes\":{},\"id\":\"1455\",\"type\":\"SaveTool\"},{\"attributes\":{\"line_alpha\":0.1,\"line_color\":\"#E69F00\",\"line_width\":2,\"x\":{\"field\":\"x\"},\"y\":{\"field\":\"y\"}},\"id\":\"1486\",\"type\":\"Line\"},{\"attributes\":{\"label\":{\"value\":\"R. Lukaku\"},\"renderers\":[{\"id\":\"1506\"}]},\"id\":\"1523\",\"type\":\"LegendItem\"}],\"root_ids\":[\"1435\"]},\"title\":\"Bokeh Application\",\"version\":\"2.3.3\"}};\n",
       "  var render_items = [{\"docid\":\"b7cc692b-e300-4812-952b-09fb5ffe17e5\",\"root_ids\":[\"1435\"],\"roots\":{\"1435\":\"edcfaa9f-9f1c-4321-9c1e-31e907b7ac56\"}}];\n",
       "  root.Bokeh.embed.embed_items_notebook(docs_json, render_items);\n",
       "\n",
       "  }\n",
       "  if (root.Bokeh !== undefined) {\n",
       "    embed_document(root);\n",
       "  } else {\n",
       "    var attempts = 0;\n",
       "    var timer = setInterval(function(root) {\n",
       "      if (root.Bokeh !== undefined) {\n",
       "        clearInterval(timer);\n",
       "        embed_document(root);\n",
       "      } else {\n",
       "        attempts++;\n",
       "        if (attempts > 100) {\n",
       "          clearInterval(timer);\n",
       "          console.log(\"Bokeh: ERROR: Unable to run BokehJS code because BokehJS library is missing\");\n",
       "        }\n",
       "      }\n",
       "    }, 10, root)\n",
       "  }\n",
       "})(window);"
      ],
      "application/vnd.bokehjs_exec.v0+json": ""
     },
     "metadata": {
      "application/vnd.bokehjs_exec.v0+json": {
       "id": "1435"
      }
     },
     "output_type": "display_data"
    }
   ],
   "source": [
    "p = figure(plot_width=400, plot_height=400)\n",
    "for data, name, color in zip([vardy_df, immobile_df, lukaku_df], [\"J. Vardy\", \"C. Immobile\", \"R. Lukaku\"], Colorblind3):\n",
    "    df = pd.DataFrame(data)\n",
    "    p.line(df['year'], df['overall'], line_width=2, color=color, alpha=0.8, legend_label=name)\n",
    "\n",
    "p.legend.location = \"bottom_right\"\n",
    "p.legend.click_policy=\"hide\"\n",
    "show(p)"
   ]
  },
  {
   "cell_type": "markdown",
   "metadata": {
    "id": "9ggZieqX_cl5"
   },
   "source": [
    "This is the beauty of Bokeh: with just one simple instruction, we have given a character to our plot. Well done!"
   ]
  },
  {
   "cell_type": "markdown",
   "metadata": {
    "id": "qKNG6MQp7hln"
   },
   "source": [
    "### 5. Adding Interactivity with Inspectors"
   ]
  },
  {
   "cell_type": "markdown",
   "metadata": {
    "id": "2YESR3s8-lHw"
   },
   "source": [
    "\n",
    "Bokeh comes with a number of interactive tools that can be used to report information, such as the gestures, which are tools that respond to single gestures. You see them on each single Bokeh plot in its top right location. In particular, for each type of gesture, one tool can be active at any given time, and the active tool is indicated on the toolbar by a highlight next to the tool icon. \n",
    "\n",
    "But there are other type of tools in bokeh. An example is the family of `Inspectors`.\n",
    "\n",
    "Inspectors are passive tools that report information about the plot, based on the current cursor position. Any number of inspectors may be active at any given time. The inspectors menu in the toolbar allows users to toggle the active state of any inspector. The most famous member of this familiy is by far the `Hover` tool."
   ]
  },
  {
   "cell_type": "markdown",
   "metadata": {
    "id": "jBWbCocMfjvm"
   },
   "source": [
    "Before getting our hands dirty, let us also introduce the concept of `Column Data Source (CDS)`: this is the corresponding concept of DataFrame in Pandas, but it is more efficient when used to store (and process) data in Bokeh."
   ]
  },
  {
   "cell_type": "markdown",
   "metadata": {
    "id": "oA0rP0RiBHIO"
   },
   "source": [
    "**Task 02: Create a Column Data Source**\n",
    "\n",
    "You are asked to create a Bokeh `ColumnDataSource` for the `vardy_df` object. You are asked to:\n",
    " 1. import the `ColumnDataSource` class from the `bokeh.models`;\n",
    " 2. and then applying it to the `vardy_df`. Be sure you store the new object inside the `vardy_src_df` variable."
   ]
  },
  {
   "cell_type": "code",
   "execution_count": 13,
   "metadata": {
    "id": "z1ZQM-rp95R7"
   },
   "outputs": [],
   "source": [
    "from bokeh.models import ColumnDataSource\n",
    "\n",
    "vardy_src_df = ColumnDataSource(vardy_df)"
   ]
  },
  {
   "cell_type": "code",
   "execution_count": 14,
   "metadata": {
    "id": "JtvFD5RABIse"
   },
   "outputs": [],
   "source": [
    "# ====================================\n",
    "# Validation Check\n",
    "# DO NOT CHANGE THIS CELL\n",
    "# ====================================\n",
    "vcf_02 =  type(vardy_src_df)\n",
    "with open('results/vcf_02.txt', 'w') as f:\n",
    "    f.write(\"%s\\n\" % vcf_02)"
   ]
  },
  {
   "cell_type": "markdown",
   "metadata": {
    "id": "CaUR4H0-f04V"
   },
   "source": [
    "We can access to the data with the `data` attribute:"
   ]
  },
  {
   "cell_type": "code",
   "execution_count": 15,
   "metadata": {
    "colab": {
     "base_uri": "https://localhost:8080/"
    },
    "id": "kNt6g6TI8HQA",
    "outputId": "daa2e0cf-b673-4a72-84c5-798156bd59c5"
   },
   "outputs": [
    {
     "data": {
      "text/plain": [
       "{'index': array([  3651,  19780,  32046,  49766,  67643,  85736, 103958]),\n",
       " 'sofifa_id': array([208830, 208830, 208830, 208830, 208830, 208830, 208830]),\n",
       " 'short_name': array(['J. Vardy', 'J. Vardy', 'J. Vardy', 'J. Vardy', 'J. Vardy',\n",
       "        'J. Vardy', 'J. Vardy'], dtype=object),\n",
       " 'age': array([27, 28, 29, 30, 31, 32, 33]),\n",
       " 'nationality': array(['England', 'England', 'England', 'England', 'England', 'England',\n",
       "        'England'], dtype=object),\n",
       " 'club_name': array(['Leicester City', 'Leicester City', 'Leicester City',\n",
       "        'Leicester City', 'Leicester City', 'Leicester City',\n",
       "        'Leicester City'], dtype=object),\n",
       " 'overall': array([69, 71, 82, 81, 82, 82, 86]),\n",
       " 'potential': array([71, 71, 82, 81, 82, 82, 86]),\n",
       " 'value_eur': array([ 1100000,  1700000, 19500000, 17000000, 20000000, 17500000,\n",
       "        28000000]),\n",
       " 'wage_eur': array([ 15000,  25000, 100000,  90000, 100000, 110000, 160000]),\n",
       " 'year': array([2015, 2016, 2017, 2018, 2019, 2020, 2021])}"
      ]
     },
     "execution_count": 15,
     "metadata": {},
     "output_type": "execute_result"
    }
   ],
   "source": [
    "vardy_src_df.data"
   ]
  },
  {
   "cell_type": "markdown",
   "metadata": {
    "id": "rwsF49tKf3Gk"
   },
   "source": [
    "Let us create three distincts `ColumnDataSource` for the distinct players we have considered so far."
   ]
  },
  {
   "cell_type": "code",
   "execution_count": 16,
   "metadata": {
    "id": "PAr9CJ7D-Fm_"
   },
   "outputs": [],
   "source": [
    "vardy_src_df = ColumnDataSource(vardy_df)\n",
    "immobile_src_df = ColumnDataSource(immobile_df)\n",
    "lukaku_src_df = ColumnDataSource(lukaku_df)"
   ]
  },
  {
   "cell_type": "markdown",
   "metadata": {
    "id": "FDlsEX6qflob"
   },
   "source": [
    "\n",
    "The hover tool is used to generate a tabular tooltip containing information for a particular row of the dataset.  Typically, the labels and values we wish to display are supplied as a list of `(label, value)` tuples. \n",
    "\n",
    "We first import the `HoverTool` class from the `bokeh.models` and then we specify which information we wish to display inside the `tooltips` variable. This is done for you in the next cell.\n"
   ]
  },
  {
   "cell_type": "code",
   "execution_count": 20,
   "metadata": {
    "colab": {
     "base_uri": "https://localhost:8080/",
     "height": 417
    },
    "id": "zqUXzlrs7j3K",
    "outputId": "bba5efa0-b41e-47c0-95f2-f10c6bd82e5c"
   },
   "outputs": [
    {
     "data": {
      "text/html": [
       "\n",
       "\n",
       "\n",
       "\n",
       "\n",
       "\n",
       "  <div class=\"bk-root\" id=\"2270ed5d-87c9-4210-b0ff-ed5eaff75007\" data-root-id=\"1942\"></div>\n"
      ]
     },
     "metadata": {},
     "output_type": "display_data"
    },
    {
     "data": {
      "application/javascript": [
       "(function(root) {\n",
       "  function embed_document(root) {\n",
       "    \n",
       "  var docs_json = {\"b9871ac9-eff9-45c5-8adf-1a092163268a\":{\"defs\":[],\"roots\":{\"references\":[{\"attributes\":{\"below\":[{\"id\":\"1951\"}],\"center\":[{\"id\":\"1954\"},{\"id\":\"1958\"},{\"id\":\"1989\"}],\"height\":400,\"left\":[{\"id\":\"1955\"}],\"renderers\":[{\"id\":\"1976\"},{\"id\":\"1994\"},{\"id\":\"2010\"},{\"id\":\"2029\"},{\"id\":\"2047\"},{\"id\":\"2068\"}],\"title\":{\"id\":\"1978\"},\"toolbar\":{\"id\":\"1966\"},\"width\":400,\"x_range\":{\"id\":\"1943\"},\"x_scale\":{\"id\":\"1947\"},\"y_range\":{\"id\":\"1945\"},\"y_scale\":{\"id\":\"1949\"}},\"id\":\"1942\",\"subtype\":\"Figure\",\"type\":\"Plot\"},{\"attributes\":{\"click_policy\":\"hide\",\"items\":[{\"id\":\"1990\"},{\"id\":\"2025\"},{\"id\":\"2064\"}],\"location\":\"bottom_right\"},\"id\":\"1989\",\"type\":\"Legend\"},{\"attributes\":{\"line_alpha\":0.1,\"line_color\":\"#F0E442\",\"line_width\":2,\"x\":{\"field\":\"year\"},\"y\":{\"field\":\"overall\"}},\"id\":\"2046\",\"type\":\"Line\"},{\"attributes\":{},\"id\":\"1985\",\"type\":\"AllLabels\"},{\"attributes\":{\"fill_alpha\":{\"value\":0.1},\"fill_color\":{\"value\":\"#0072B2\"},\"line_alpha\":{\"value\":0.1},\"line_color\":{\"value\":\"#0072B2\"},\"line_width\":{\"value\":2},\"x\":{\"field\":\"year\"},\"y\":{\"field\":\"overall\"}},\"id\":\"1993\",\"type\":\"Circle\"},{\"attributes\":{\"data\":{\"age\":[24,25,26,27,28,29,30],\"club_name\":[\"Borussia Dortmund\",\"Sevilla FC\",\"Lazio\",\"Lazio\",\"Lazio\",\"Lazio\",\"Lazio\"],\"index\":[223,16599,32198,49614,67384,85485,103940],\"nationality\":[\"Italy\",\"Italy\",\"Italy\",\"Italy\",\"Italy\",\"Italy\",\"Italy\"],\"overall\":[80,79,80,82,87,86,87],\"potential\":[85,82,83,83,87,86,87],\"short_name\":[\"C. Immobile\",\"C. Immobile\",\"C. Immobile\",\"C. Immobile\",\"C. Immobile\",\"C. Immobile\",\"C. Immobile\"],\"sofifa_id\":[192387,192387,192387,192387,192387,192387,192387],\"value_eur\":[13000000,13000000,18000000,26000000,52000000,44500000,48500000],\"wage_eur\":[100000,90000,60000,70000,110000,100000,125000],\"year\":[2015,2016,2017,2018,2019,2020,2021]},\"selected\":{\"id\":\"1737\"},\"selection_policy\":{\"id\":\"1736\"}},\"id\":\"1653\",\"type\":\"ColumnDataSource\"},{\"attributes\":{},\"id\":\"1978\",\"type\":\"Title\"},{\"attributes\":{\"source\":{\"id\":\"1652\"}},\"id\":\"1995\",\"type\":\"CDSView\"},{\"attributes\":{},\"id\":\"1775\",\"type\":\"UnionRenderers\"},{\"attributes\":{\"data_source\":{\"id\":\"1652\"},\"glyph\":{\"id\":\"1992\"},\"hover_glyph\":null,\"muted_glyph\":null,\"nonselection_glyph\":{\"id\":\"1993\"},\"view\":{\"id\":\"1995\"}},\"id\":\"1994\",\"type\":\"GlyphRenderer\"},{\"attributes\":{},\"id\":\"1963\",\"type\":\"ResetTool\"},{\"attributes\":{},\"id\":\"1700\",\"type\":\"UnionRenderers\"},{\"attributes\":{},\"id\":\"1776\",\"type\":\"Selection\"},{\"attributes\":{\"line_alpha\":0.1,\"line_color\":\"#E69F00\",\"line_width\":2,\"x\":{\"field\":\"year\"},\"y\":{\"field\":\"overall\"}},\"id\":\"2009\",\"type\":\"Line\"},{\"attributes\":{},\"id\":\"1980\",\"type\":\"BasicTickFormatter\"},{\"attributes\":{},\"id\":\"1962\",\"type\":\"SaveTool\"},{\"attributes\":{\"bottom_units\":\"screen\",\"fill_alpha\":0.5,\"fill_color\":\"lightgrey\",\"left_units\":\"screen\",\"level\":\"overlay\",\"line_alpha\":1.0,\"line_color\":\"black\",\"line_dash\":[4,4],\"line_width\":2,\"right_units\":\"screen\",\"syncable\":false,\"top_units\":\"screen\"},\"id\":\"1965\",\"type\":\"BoxAnnotation\"},{\"attributes\":{},\"id\":\"1982\",\"type\":\"AllLabels\"},{\"attributes\":{\"fill_alpha\":{\"value\":0.1},\"fill_color\":{\"value\":\"#E69F00\"},\"line_alpha\":{\"value\":0.1},\"line_color\":{\"value\":\"#E69F00\"},\"line_width\":{\"value\":2},\"x\":{\"field\":\"year\"},\"y\":{\"field\":\"overall\"}},\"id\":\"2028\",\"type\":\"Circle\"},{\"attributes\":{},\"id\":\"1964\",\"type\":\"HelpTool\"},{\"attributes\":{\"source\":{\"id\":\"1653\"}},\"id\":\"2030\",\"type\":\"CDSView\"},{\"attributes\":{},\"id\":\"1701\",\"type\":\"Selection\"},{\"attributes\":{\"data_source\":{\"id\":\"1653\"},\"glyph\":{\"id\":\"2027\"},\"hover_glyph\":null,\"muted_glyph\":null,\"nonselection_glyph\":{\"id\":\"2028\"},\"view\":{\"id\":\"2030\"}},\"id\":\"2029\",\"type\":\"GlyphRenderer\"},{\"attributes\":{},\"id\":\"1945\",\"type\":\"DataRange1d\"},{\"attributes\":{\"data\":{\"age\":[27,28,29,30,31,32,33],\"club_name\":[\"Leicester City\",\"Leicester City\",\"Leicester City\",\"Leicester City\",\"Leicester City\",\"Leicester City\",\"Leicester City\"],\"index\":[3651,19780,32046,49766,67643,85736,103958],\"nationality\":[\"England\",\"England\",\"England\",\"England\",\"England\",\"England\",\"England\"],\"overall\":[69,71,82,81,82,82,86],\"potential\":[71,71,82,81,82,82,86],\"short_name\":[\"J. Vardy\",\"J. Vardy\",\"J. Vardy\",\"J. Vardy\",\"J. Vardy\",\"J. Vardy\",\"J. Vardy\"],\"sofifa_id\":[208830,208830,208830,208830,208830,208830,208830],\"value_eur\":[1100000,1700000,19500000,17000000,20000000,17500000,28000000],\"wage_eur\":[15000,25000,100000,90000,100000,110000,160000],\"year\":[2015,2016,2017,2018,2019,2020,2021]},\"selected\":{\"id\":\"1701\"},\"selection_policy\":{\"id\":\"1700\"}},\"id\":\"1652\",\"type\":\"ColumnDataSource\"},{\"attributes\":{\"formatter\":{\"id\":\"1980\"},\"major_label_policy\":{\"id\":\"1982\"},\"ticker\":{\"id\":\"1956\"}},\"id\":\"1955\",\"type\":\"LinearAxis\"},{\"attributes\":{\"line_alpha\":0.8,\"line_color\":\"#E69F00\",\"line_width\":2,\"x\":{\"field\":\"year\"},\"y\":{\"field\":\"overall\"}},\"id\":\"2008\",\"type\":\"Line\"},{\"attributes\":{},\"id\":\"1952\",\"type\":\"BasicTicker\"},{\"attributes\":{\"formatter\":{\"id\":\"1983\"},\"major_label_policy\":{\"id\":\"1985\"},\"ticker\":{\"id\":\"1952\"}},\"id\":\"1951\",\"type\":\"LinearAxis\"},{\"attributes\":{},\"id\":\"1956\",\"type\":\"BasicTicker\"},{\"attributes\":{\"data_source\":{\"id\":\"1653\"},\"glyph\":{\"id\":\"2008\"},\"hover_glyph\":null,\"muted_glyph\":null,\"nonselection_glyph\":{\"id\":\"2009\"},\"view\":{\"id\":\"2011\"}},\"id\":\"2010\",\"type\":\"GlyphRenderer\"},{\"attributes\":{\"line_alpha\":0.1,\"line_color\":\"#0072B2\",\"line_width\":2,\"x\":{\"field\":\"year\"},\"y\":{\"field\":\"overall\"}},\"id\":\"1975\",\"type\":\"Line\"},{\"attributes\":{\"data\":{\"age\":[21,22,23,24,25,26,27],\"club_name\":[\"Everton\",\"Everton\",\"Everton\",\"Manchester United\",\"Manchester United\",\"Inter\",\"Inter\"],\"index\":[211,16431,31863,49421,67374,85503,103975],\"nationality\":[\"Belgium\",\"Belgium\",\"Belgium\",\"Belgium\",\"Belgium\",\"Belgium\",\"Belgium\"],\"overall\":[80,80,84,86,87,85,85],\"potential\":[86,86,90,90,89,86,86],\"short_name\":[\"R. Lukaku\",\"R. Lukaku\",\"R. Lukaku\",\"R. Lukaku\",\"R. Lukaku\",\"R. Lukaku\",\"R. Lukaku\"],\"sofifa_id\":[192505,192505,192505,192505,192505,192505,192505],\"value_eur\":[10500000,20000000,41000000,59000000,62500000,46000000,45000000],\"wage_eur\":[60000,60000,140000,200000,225000,110000,165000],\"year\":[2015,2016,2017,2018,2019,2020,2021]},\"selected\":{\"id\":\"1776\"},\"selection_policy\":{\"id\":\"1775\"}},\"id\":\"1654\",\"type\":\"ColumnDataSource\"},{\"attributes\":{\"data_source\":{\"id\":\"1654\"},\"glyph\":{\"id\":\"2045\"},\"hover_glyph\":null,\"muted_glyph\":null,\"nonselection_glyph\":{\"id\":\"2046\"},\"view\":{\"id\":\"2048\"}},\"id\":\"2047\",\"type\":\"GlyphRenderer\"},{\"attributes\":{\"label\":{\"value\":\"R. Lukaku\"},\"renderers\":[{\"id\":\"2047\"},{\"id\":\"2068\"}]},\"id\":\"2064\",\"type\":\"LegendItem\"},{\"attributes\":{\"label\":{\"value\":\"C. Immobile\"},\"renderers\":[{\"id\":\"2010\"},{\"id\":\"2029\"}]},\"id\":\"2025\",\"type\":\"LegendItem\"},{\"attributes\":{},\"id\":\"1949\",\"type\":\"LinearScale\"},{\"attributes\":{\"source\":{\"id\":\"1653\"}},\"id\":\"2011\",\"type\":\"CDSView\"},{\"attributes\":{\"fill_alpha\":{\"value\":0.8},\"fill_color\":{\"value\":\"#F0E442\"},\"line_alpha\":{\"value\":0.8},\"line_color\":{\"value\":\"#F0E442\"},\"line_width\":{\"value\":2},\"x\":{\"field\":\"year\"},\"y\":{\"field\":\"overall\"}},\"id\":\"2066\",\"type\":\"Circle\"},{\"attributes\":{\"data_source\":{\"id\":\"1652\"},\"glyph\":{\"id\":\"1974\"},\"hover_glyph\":null,\"muted_glyph\":null,\"nonselection_glyph\":{\"id\":\"1975\"},\"view\":{\"id\":\"1977\"}},\"id\":\"1976\",\"type\":\"GlyphRenderer\"},{\"attributes\":{\"fill_alpha\":{\"value\":0.8},\"fill_color\":{\"value\":\"#E69F00\"},\"line_alpha\":{\"value\":0.8},\"line_color\":{\"value\":\"#E69F00\"},\"line_width\":{\"value\":2},\"x\":{\"field\":\"year\"},\"y\":{\"field\":\"overall\"}},\"id\":\"2027\",\"type\":\"Circle\"},{\"attributes\":{},\"id\":\"1736\",\"type\":\"UnionRenderers\"},{\"attributes\":{},\"id\":\"1960\",\"type\":\"WheelZoomTool\"},{\"attributes\":{\"callback\":null,\"tooltips\":[[\"Player\",\"@short_name\"],[\"Age\",\"@age\"],[\"Club\",\"@club_name\"],[\"Mkt Value\",\"@value_eur\"],[\"Wage\",\"@wage_eur\"]]},\"id\":\"2085\",\"type\":\"HoverTool\"},{\"attributes\":{},\"id\":\"1737\",\"type\":\"Selection\"},{\"attributes\":{\"line_alpha\":0.8,\"line_color\":\"#0072B2\",\"line_width\":2,\"x\":{\"field\":\"year\"},\"y\":{\"field\":\"overall\"}},\"id\":\"1974\",\"type\":\"Line\"},{\"attributes\":{},\"id\":\"1947\",\"type\":\"LinearScale\"},{\"attributes\":{\"fill_alpha\":{\"value\":0.8},\"fill_color\":{\"value\":\"#0072B2\"},\"line_alpha\":{\"value\":0.8},\"line_color\":{\"value\":\"#0072B2\"},\"line_width\":{\"value\":2},\"x\":{\"field\":\"year\"},\"y\":{\"field\":\"overall\"}},\"id\":\"1992\",\"type\":\"Circle\"},{\"attributes\":{\"fill_alpha\":{\"value\":0.1},\"fill_color\":{\"value\":\"#F0E442\"},\"line_alpha\":{\"value\":0.1},\"line_color\":{\"value\":\"#F0E442\"},\"line_width\":{\"value\":2},\"x\":{\"field\":\"year\"},\"y\":{\"field\":\"overall\"}},\"id\":\"2067\",\"type\":\"Circle\"},{\"attributes\":{\"source\":{\"id\":\"1652\"}},\"id\":\"1977\",\"type\":\"CDSView\"},{\"attributes\":{},\"id\":\"1983\",\"type\":\"BasicTickFormatter\"},{\"attributes\":{\"source\":{\"id\":\"1654\"}},\"id\":\"2069\",\"type\":\"CDSView\"},{\"attributes\":{\"data_source\":{\"id\":\"1654\"},\"glyph\":{\"id\":\"2066\"},\"hover_glyph\":null,\"muted_glyph\":null,\"nonselection_glyph\":{\"id\":\"2067\"},\"view\":{\"id\":\"2069\"}},\"id\":\"2068\",\"type\":\"GlyphRenderer\"},{\"attributes\":{\"axis\":{\"id\":\"1955\"},\"dimension\":1,\"ticker\":null},\"id\":\"1958\",\"type\":\"Grid\"},{\"attributes\":{},\"id\":\"1959\",\"type\":\"PanTool\"},{\"attributes\":{\"line_alpha\":0.8,\"line_color\":\"#F0E442\",\"line_width\":2,\"x\":{\"field\":\"year\"},\"y\":{\"field\":\"overall\"}},\"id\":\"2045\",\"type\":\"Line\"},{\"attributes\":{\"source\":{\"id\":\"1654\"}},\"id\":\"2048\",\"type\":\"CDSView\"},{\"attributes\":{\"active_multi\":null,\"tools\":[{\"id\":\"1959\"},{\"id\":\"1960\"},{\"id\":\"1961\"},{\"id\":\"1962\"},{\"id\":\"1963\"},{\"id\":\"1964\"},{\"id\":\"2085\"}]},\"id\":\"1966\",\"type\":\"Toolbar\"},{\"attributes\":{},\"id\":\"1943\",\"type\":\"DataRange1d\"},{\"attributes\":{\"overlay\":{\"id\":\"1965\"}},\"id\":\"1961\",\"type\":\"BoxZoomTool\"},{\"attributes\":{\"axis\":{\"id\":\"1951\"},\"ticker\":null},\"id\":\"1954\",\"type\":\"Grid\"},{\"attributes\":{\"label\":{\"value\":\"J. Vardy\"},\"renderers\":[{\"id\":\"1976\"},{\"id\":\"1994\"}]},\"id\":\"1990\",\"type\":\"LegendItem\"}],\"root_ids\":[\"1942\"]},\"title\":\"Bokeh Application\",\"version\":\"2.3.3\"}};\n",
       "  var render_items = [{\"docid\":\"b9871ac9-eff9-45c5-8adf-1a092163268a\",\"root_ids\":[\"1942\"],\"roots\":{\"1942\":\"2270ed5d-87c9-4210-b0ff-ed5eaff75007\"}}];\n",
       "  root.Bokeh.embed.embed_items_notebook(docs_json, render_items);\n",
       "\n",
       "  }\n",
       "  if (root.Bokeh !== undefined) {\n",
       "    embed_document(root);\n",
       "  } else {\n",
       "    var attempts = 0;\n",
       "    var timer = setInterval(function(root) {\n",
       "      if (root.Bokeh !== undefined) {\n",
       "        clearInterval(timer);\n",
       "        embed_document(root);\n",
       "      } else {\n",
       "        attempts++;\n",
       "        if (attempts > 100) {\n",
       "          clearInterval(timer);\n",
       "          console.log(\"Bokeh: ERROR: Unable to run BokehJS code because BokehJS library is missing\");\n",
       "        }\n",
       "      }\n",
       "    }, 10, root)\n",
       "  }\n",
       "})(window);"
      ],
      "application/vnd.bokehjs_exec.v0+json": ""
     },
     "metadata": {
      "application/vnd.bokehjs_exec.v0+json": {
       "id": "1942"
      }
     },
     "output_type": "display_data"
    }
   ],
   "source": [
    "from bokeh.models import HoverTool\n",
    "\n",
    "tooltips = [\n",
    "            ('Player', '@short_name'),\n",
    "            ('Age', '@age'),\n",
    "            ('Club', '@club_name'),\n",
    "            ('Mkt Value', '@value_eur'),\n",
    "            ('Wage', '@wage_eur')   \n",
    "           ]\n",
    "\n",
    "\n",
    "p = figure(plot_width=400, plot_height=400)\n",
    "for data, name, color in zip([vardy_src_df, immobile_src_df, lukaku_src_df], [\"J. Vardy\", \"C. Immobile\", \"R. Lukaku\"], Colorblind3):\n",
    "    p.line('year', 'overall', source=data, line_width=2, color=color, alpha=0.8, legend_label=name)\n",
    "    p.circle('year', 'overall', source=data, line_width=2, color=color, alpha=0.8, legend_label=name)\n",
    "\n",
    "p.add_tools(HoverTool(tooltips=tooltips, mode='mouse'))\n",
    "\n",
    "p.legend.location = \"bottom_right\"\n",
    "p.legend.click_policy=\"hide\"\n",
    "\n",
    "show(p)"
   ]
  },
  {
   "cell_type": "markdown",
   "metadata": {
    "id": "dw-h3Xu0ZM5c"
   },
   "source": [
    "Try to move the mouse on the plot. That's impressive, isn't it? We see that once we hover the mouse over the observed data points, an extra tool appears in the plot: that contains the information we have specified in the variable `tooltips`."
   ]
  },
  {
   "cell_type": "markdown",
   "metadata": {
    "id": "Mc_h4gaUf_L7"
   },
   "source": [
    "### 6. Plotting Categorical Data"
   ]
  },
  {
   "cell_type": "markdown",
   "metadata": {
    "id": "_kYtgl9JEcZg"
   },
   "source": [
    "In this section we investigate different tools to plot categorical data with Bokeh. "
   ]
  },
  {
   "cell_type": "markdown",
   "metadata": {
    "id": "CZhrBNUjZZR9"
   },
   "source": [
    "The next method is an util that ahs been created to return the number of football players, grouped by country, for a specific year. In particular, it returns only the first `top_n` countries for that specified year."
   ]
  },
  {
   "cell_type": "code",
   "execution_count": 21,
   "metadata": {
    "id": "yrmBXzSr49N_"
   },
   "outputs": [],
   "source": [
    "def get_top_countries(df, year_filter, top_n=3):\n",
    "    df_tmp = df.query('year==@year_filter')[['short_name', 'nationality']].groupby('nationality').count().rename(\n",
    "        columns={'short_name': 'cnt'}\n",
    "        ).sort_values(\n",
    "        by='cnt', ascending=False\n",
    "    )\n",
    "    top_countries = df_tmp.head(top_n).reset_index()\n",
    "    return top_countries\n"
   ]
  },
  {
   "cell_type": "markdown",
   "metadata": {
    "id": "fG6bdUanZl3q"
   },
   "source": [
    "We apply the above method for the `year=2021` and with `top_n=10`."
   ]
  },
  {
   "cell_type": "code",
   "execution_count": 22,
   "metadata": {
    "id": "cS_owMcBeM9h"
   },
   "outputs": [],
   "source": [
    "top10_countries =  get_top_countries(filtered_df, year_filter=2021, top_n=10)"
   ]
  },
  {
   "cell_type": "code",
   "execution_count": 23,
   "metadata": {
    "colab": {
     "base_uri": "https://localhost:8080/",
     "height": 359
    },
    "id": "vjeVz0u5eVUR",
    "outputId": "b1566721-1e9a-4bdc-c1de-96ecf9e51198"
   },
   "outputs": [
    {
     "data": {
      "text/html": [
       "<div>\n",
       "<style scoped>\n",
       "    .dataframe tbody tr th:only-of-type {\n",
       "        vertical-align: middle;\n",
       "    }\n",
       "\n",
       "    .dataframe tbody tr th {\n",
       "        vertical-align: top;\n",
       "    }\n",
       "\n",
       "    .dataframe thead th {\n",
       "        text-align: right;\n",
       "    }\n",
       "</style>\n",
       "<table border=\"1\" class=\"dataframe\">\n",
       "  <thead>\n",
       "    <tr style=\"text-align: right;\">\n",
       "      <th></th>\n",
       "      <th>nationality</th>\n",
       "      <th>cnt</th>\n",
       "    </tr>\n",
       "  </thead>\n",
       "  <tbody>\n",
       "    <tr>\n",
       "      <th>0</th>\n",
       "      <td>England</td>\n",
       "      <td>1685</td>\n",
       "    </tr>\n",
       "    <tr>\n",
       "      <th>1</th>\n",
       "      <td>Germany</td>\n",
       "      <td>1189</td>\n",
       "    </tr>\n",
       "    <tr>\n",
       "      <th>2</th>\n",
       "      <td>Spain</td>\n",
       "      <td>1072</td>\n",
       "    </tr>\n",
       "    <tr>\n",
       "      <th>3</th>\n",
       "      <td>France</td>\n",
       "      <td>984</td>\n",
       "    </tr>\n",
       "    <tr>\n",
       "      <th>4</th>\n",
       "      <td>Argentina</td>\n",
       "      <td>936</td>\n",
       "    </tr>\n",
       "    <tr>\n",
       "      <th>5</th>\n",
       "      <td>Brazil</td>\n",
       "      <td>887</td>\n",
       "    </tr>\n",
       "    <tr>\n",
       "      <th>6</th>\n",
       "      <td>Japan</td>\n",
       "      <td>489</td>\n",
       "    </tr>\n",
       "    <tr>\n",
       "      <th>7</th>\n",
       "      <td>Netherlands</td>\n",
       "      <td>432</td>\n",
       "    </tr>\n",
       "    <tr>\n",
       "      <th>8</th>\n",
       "      <td>Italy</td>\n",
       "      <td>421</td>\n",
       "    </tr>\n",
       "    <tr>\n",
       "      <th>9</th>\n",
       "      <td>United States</td>\n",
       "      <td>378</td>\n",
       "    </tr>\n",
       "  </tbody>\n",
       "</table>\n",
       "</div>"
      ],
      "text/plain": [
       "     nationality   cnt\n",
       "0        England  1685\n",
       "1        Germany  1189\n",
       "2          Spain  1072\n",
       "3         France   984\n",
       "4      Argentina   936\n",
       "5         Brazil   887\n",
       "6          Japan   489\n",
       "7    Netherlands   432\n",
       "8          Italy   421\n",
       "9  United States   378"
      ]
     },
     "execution_count": 23,
     "metadata": {},
     "output_type": "execute_result"
    }
   ],
   "source": [
    "top10_countries"
   ]
  },
  {
   "cell_type": "markdown",
   "metadata": {
    "id": "FV4hZCDPgDVX"
   },
   "source": [
    "We want to plot the top 10 Countries with respect to the number of players. Hence, we plot the total count of players by countries with a `vbar` glyph. We also set the argument `x_range`,  inside the figure object, as equals to the series `top10_countries.nationality`, which is already sorted: in this way the data is going to be shown in descending order."
   ]
  },
  {
   "cell_type": "code",
   "execution_count": 26,
   "metadata": {
    "colab": {
     "base_uri": "https://localhost:8080/",
     "height": 367
    },
    "id": "zLzecQFZgO2G",
    "outputId": "727b3d36-86e4-45be-9cb1-1034db6d4a8c"
   },
   "outputs": [
    {
     "data": {
      "text/html": [
       "\n",
       "\n",
       "\n",
       "\n",
       "\n",
       "\n",
       "  <div class=\"bk-root\" id=\"4c0df325-58f5-4bda-8a45-7969f7ae2e3a\" data-root-id=\"2557\"></div>\n"
      ]
     },
     "metadata": {},
     "output_type": "display_data"
    },
    {
     "data": {
      "application/javascript": [
       "(function(root) {\n",
       "  function embed_document(root) {\n",
       "    \n",
       "  var docs_json = {\"89b2da93-b35a-4ee1-b818-81c4b811c15e\":{\"defs\":[],\"roots\":{\"references\":[{\"attributes\":{\"below\":[{\"id\":\"2568\"}],\"center\":[{\"id\":\"2570\"},{\"id\":\"2574\"}],\"height\":350,\"left\":[{\"id\":\"2571\"}],\"renderers\":[{\"id\":\"2580\"}],\"title\":{\"id\":\"2558\"},\"toolbar\":{\"id\":\"2575\"},\"toolbar_location\":null,\"x_range\":{\"id\":\"2560\"},\"x_scale\":{\"id\":\"2564\"},\"y_range\":{\"id\":\"2562\"},\"y_scale\":{\"id\":\"2566\"}},\"id\":\"2557\",\"subtype\":\"Figure\",\"type\":\"Plot\"},{\"attributes\":{},\"id\":\"2683\",\"type\":\"AllLabels\"},{\"attributes\":{\"source\":{\"id\":\"2576\"}},\"id\":\"2581\",\"type\":\"CDSView\"},{\"attributes\":{\"text\":\"Total Players by Country\"},\"id\":\"2558\",\"type\":\"Title\"},{\"attributes\":{\"fill_alpha\":{\"value\":0.1},\"fill_color\":{\"value\":\"#1f77b4\"},\"line_alpha\":{\"value\":0.1},\"line_color\":{\"value\":\"#1f77b4\"},\"top\":{\"field\":\"cnt\"},\"width\":{\"value\":0.9},\"x\":{\"field\":\"nationality\"}},\"id\":\"2579\",\"type\":\"VBar\"},{\"attributes\":{\"factors\":[\"England\",\"Germany\",\"Spain\",\"France\",\"Argentina\",\"Brazil\",\"Japan\",\"Netherlands\",\"Italy\",\"United States\"]},\"id\":\"2560\",\"type\":\"FactorRange\"},{\"attributes\":{},\"id\":\"2566\",\"type\":\"LinearScale\"},{\"attributes\":{\"formatter\":{\"id\":\"2681\"},\"major_label_policy\":{\"id\":\"2683\"},\"ticker\":{\"id\":\"2572\"}},\"id\":\"2571\",\"type\":\"LinearAxis\"},{\"attributes\":{\"data_source\":{\"id\":\"2576\"},\"glyph\":{\"id\":\"2578\"},\"hover_glyph\":null,\"muted_glyph\":null,\"nonselection_glyph\":{\"id\":\"2579\"},\"view\":{\"id\":\"2581\"}},\"id\":\"2580\",\"type\":\"GlyphRenderer\"},{\"attributes\":{},\"id\":\"2564\",\"type\":\"CategoricalScale\"},{\"attributes\":{\"start\":0},\"id\":\"2562\",\"type\":\"DataRange1d\"},{\"attributes\":{\"formatter\":{\"id\":\"2684\"},\"major_label_policy\":{\"id\":\"2686\"},\"ticker\":{\"id\":\"2569\"}},\"id\":\"2568\",\"type\":\"CategoricalAxis\"},{\"attributes\":{},\"id\":\"2569\",\"type\":\"CategoricalTicker\"},{\"attributes\":{},\"id\":\"2687\",\"type\":\"UnionRenderers\"},{\"attributes\":{\"data\":{\"cnt\":[1685,1189,1072,984,936,887,489,432,421,378],\"index\":[0,1,2,3,4,5,6,7,8,9],\"nationality\":[\"England\",\"Germany\",\"Spain\",\"France\",\"Argentina\",\"Brazil\",\"Japan\",\"Netherlands\",\"Italy\",\"United States\"]},\"selected\":{\"id\":\"2688\"},\"selection_policy\":{\"id\":\"2687\"}},\"id\":\"2576\",\"type\":\"ColumnDataSource\"},{\"attributes\":{\"axis\":{\"id\":\"2568\"},\"grid_line_color\":null,\"ticker\":null},\"id\":\"2570\",\"type\":\"Grid\"},{\"attributes\":{},\"id\":\"2688\",\"type\":\"Selection\"},{\"attributes\":{\"axis\":{\"id\":\"2571\"},\"dimension\":1,\"ticker\":null},\"id\":\"2574\",\"type\":\"Grid\"},{\"attributes\":{\"active_multi\":null},\"id\":\"2575\",\"type\":\"Toolbar\"},{\"attributes\":{},\"id\":\"2572\",\"type\":\"BasicTicker\"},{\"attributes\":{},\"id\":\"2684\",\"type\":\"CategoricalTickFormatter\"},{\"attributes\":{\"fill_color\":{\"value\":\"#1f77b4\"},\"line_color\":{\"value\":\"#1f77b4\"},\"top\":{\"field\":\"cnt\"},\"width\":{\"value\":0.9},\"x\":{\"field\":\"nationality\"}},\"id\":\"2578\",\"type\":\"VBar\"},{\"attributes\":{},\"id\":\"2686\",\"type\":\"AllLabels\"},{\"attributes\":{},\"id\":\"2681\",\"type\":\"BasicTickFormatter\"}],\"root_ids\":[\"2557\"]},\"title\":\"Bokeh Application\",\"version\":\"2.3.3\"}};\n",
       "  var render_items = [{\"docid\":\"89b2da93-b35a-4ee1-b818-81c4b811c15e\",\"root_ids\":[\"2557\"],\"roots\":{\"2557\":\"4c0df325-58f5-4bda-8a45-7969f7ae2e3a\"}}];\n",
       "  root.Bokeh.embed.embed_items_notebook(docs_json, render_items);\n",
       "\n",
       "  }\n",
       "  if (root.Bokeh !== undefined) {\n",
       "    embed_document(root);\n",
       "  } else {\n",
       "    var attempts = 0;\n",
       "    var timer = setInterval(function(root) {\n",
       "      if (root.Bokeh !== undefined) {\n",
       "        clearInterval(timer);\n",
       "        embed_document(root);\n",
       "      } else {\n",
       "        attempts++;\n",
       "        if (attempts > 100) {\n",
       "          clearInterval(timer);\n",
       "          console.log(\"Bokeh: ERROR: Unable to run BokehJS code because BokehJS library is missing\");\n",
       "        }\n",
       "      }\n",
       "    }, 10, root)\n",
       "  }\n",
       "})(window);"
      ],
      "application/vnd.bokehjs_exec.v0+json": ""
     },
     "metadata": {
      "application/vnd.bokehjs_exec.v0+json": {
       "id": "2557"
      }
     },
     "output_type": "display_data"
    }
   ],
   "source": [
    "p = figure(x_range=top10_countries.nationality, \n",
    "           plot_height=350, \n",
    "           title=\"Total Players by Country\",\n",
    "           toolbar_location=None, \n",
    "           tools=\"\"\n",
    "           )\n",
    "\n",
    "p.vbar(x='nationality', top='cnt', source=top10_countries, width=0.9)\n",
    "\n",
    "p.xgrid.grid_line_color = None\n",
    "p.y_range.start = 0\n",
    "\n",
    "show(p)"
   ]
  },
  {
   "cell_type": "markdown",
   "metadata": {
    "id": "I2ebevj2gz7V"
   },
   "source": [
    "Now we want to investigate how the average wage for three countries (namely England, Spain and Italy) evolved in the last, say, three years. \n",
    "\n",
    "To do so we need a little bit of data wrangling. This has been done for you down below here."
   ]
  },
  {
   "cell_type": "code",
   "execution_count": 31,
   "metadata": {
    "id": "nZIzi8f3FzZB"
   },
   "outputs": [],
   "source": [
    "pivot_table_wages = pd.pivot_table(\n",
    "    data=filtered_df,\n",
    "    index='nationality',\n",
    "    columns='year',\n",
    "    aggfunc='mean',\n",
    "    values='wage_eur'\n",
    ")\n",
    "pivot_table_wages.columns = pivot_table_wages.columns.map(str)\n",
    "countries = pivot_table_wages.loc[['England', 'Italy', 'Spain']].index.to_list()\n",
    "years = pivot_table_wages.loc[['England', 'Italy', 'Spain']].columns.to_list()[4:] # 4: is the years"
   ]
  },
  {
   "cell_type": "code",
   "execution_count": 32,
   "metadata": {
    "colab": {
     "base_uri": "https://localhost:8080/",
     "height": 173
    },
    "id": "ezFcfPOsWkcW",
    "outputId": "bde0ff36-de83-4b11-f942-156dc60d411e"
   },
   "outputs": [
    {
     "data": {
      "text/html": [
       "<div>\n",
       "<style scoped>\n",
       "    .dataframe tbody tr th:only-of-type {\n",
       "        vertical-align: middle;\n",
       "    }\n",
       "\n",
       "    .dataframe tbody tr th {\n",
       "        vertical-align: top;\n",
       "    }\n",
       "\n",
       "    .dataframe thead th {\n",
       "        text-align: right;\n",
       "    }\n",
       "</style>\n",
       "<table border=\"1\" class=\"dataframe\">\n",
       "  <thead>\n",
       "    <tr style=\"text-align: right;\">\n",
       "      <th>year</th>\n",
       "      <th>2019</th>\n",
       "      <th>2020</th>\n",
       "      <th>2021</th>\n",
       "    </tr>\n",
       "    <tr>\n",
       "      <th>nationality</th>\n",
       "      <th></th>\n",
       "      <th></th>\n",
       "      <th></th>\n",
       "    </tr>\n",
       "  </thead>\n",
       "  <tbody>\n",
       "    <tr>\n",
       "      <th>England</th>\n",
       "      <td>10007.076923</td>\n",
       "      <td>9684.131737</td>\n",
       "      <td>9321.364985</td>\n",
       "    </tr>\n",
       "    <tr>\n",
       "      <th>Italy</th>\n",
       "      <td>12071.132597</td>\n",
       "      <td>11000.000000</td>\n",
       "      <td>15233.254157</td>\n",
       "    </tr>\n",
       "    <tr>\n",
       "      <th>Spain</th>\n",
       "      <td>16394.985809</td>\n",
       "      <td>15771.291866</td>\n",
       "      <td>14512.033582</td>\n",
       "    </tr>\n",
       "  </tbody>\n",
       "</table>\n",
       "</div>"
      ],
      "text/plain": [
       "year                 2019          2020          2021\n",
       "nationality                                          \n",
       "England      10007.076923   9684.131737   9321.364985\n",
       "Italy        12071.132597  11000.000000  15233.254157\n",
       "Spain        16394.985809  15771.291866  14512.033582"
      ]
     },
     "execution_count": 32,
     "metadata": {},
     "output_type": "execute_result"
    }
   ],
   "source": [
    "pivot_table_wages.loc[['England', 'Italy', 'Spain'], years]"
   ]
  },
  {
   "cell_type": "markdown",
   "metadata": {
    "id": "xbNOpnTUF3d3"
   },
   "source": [
    "From a data visualization perspective, this means we are clustering the average wage by two factors: `year` and `country`. Hence, we need to create a multi-index range for our plot. In Bokeh, this can be easily tackled by using the `FactorRange`, which is a Bokeh class from the `models` submodule to create a range of values for a categorical dimension.\n",
    "\n",
    "Try to run the next cell: it is going to produced a bar chart clustered on the x-axis with respect to two quantities: `country` and `year`. Everything has been done for you."
   ]
  },
  {
   "cell_type": "code",
   "execution_count": 33,
   "metadata": {
    "colab": {
     "base_uri": "https://localhost:8080/",
     "height": 267
    },
    "id": "_7isbEWaYKza",
    "outputId": "526455bc-4a28-41c8-bc32-feefcfabe139"
   },
   "outputs": [
    {
     "data": {
      "text/html": [
       "\n",
       "\n",
       "\n",
       "\n",
       "\n",
       "\n",
       "  <div class=\"bk-root\" id=\"8614b0e2-1d3e-40b8-8e19-5e4359204473\" data-root-id=\"2736\"></div>\n"
      ]
     },
     "metadata": {},
     "output_type": "display_data"
    },
    {
     "data": {
      "application/javascript": [
       "(function(root) {\n",
       "  function embed_document(root) {\n",
       "    \n",
       "  var docs_json = {\"5ac98b46-282c-42cc-8074-36c9970b2b67\":{\"defs\":[],\"roots\":{\"references\":[{\"attributes\":{\"below\":[{\"id\":\"2746\"}],\"center\":[{\"id\":\"2748\"},{\"id\":\"2752\"}],\"height\":250,\"left\":[{\"id\":\"2749\"}],\"renderers\":[{\"id\":\"2757\"}],\"title\":{\"id\":\"2737\"},\"toolbar\":{\"id\":\"2753\"},\"toolbar_location\":null,\"x_range\":{\"id\":\"2735\"},\"x_scale\":{\"id\":\"2742\"},\"y_range\":{\"id\":\"2740\"},\"y_scale\":{\"id\":\"2744\"}},\"id\":\"2736\",\"subtype\":\"Figure\",\"type\":\"Plot\"},{\"attributes\":{\"axis\":{\"id\":\"2749\"},\"dimension\":1,\"ticker\":null},\"id\":\"2752\",\"type\":\"Grid\"},{\"attributes\":{},\"id\":\"2872\",\"type\":\"AllLabels\"},{\"attributes\":{\"data\":{\"counts\":[10007.076923076924,9684.131736526946,9321.364985163205,12071.132596685084,11000.0,15233.254156769597,16394.985808893092,15771.291866028709,14512.033582089553],\"x\":[[\"England\",\"2019\"],[\"England\",\"2020\"],[\"England\",\"2021\"],[\"Italy\",\"2019\"],[\"Italy\",\"2020\"],[\"Italy\",\"2021\"],[\"Spain\",\"2019\"],[\"Spain\",\"2020\"],[\"Spain\",\"2021\"]]},\"selected\":{\"id\":\"2874\"},\"selection_policy\":{\"id\":\"2873\"}},\"id\":\"2734\",\"type\":\"ColumnDataSource\"},{\"attributes\":{},\"id\":\"2867\",\"type\":\"BasicTickFormatter\"},{\"attributes\":{},\"id\":\"2869\",\"type\":\"AllLabels\"},{\"attributes\":{},\"id\":\"2873\",\"type\":\"UnionRenderers\"},{\"attributes\":{\"text\":\"Mean Wage (Euro) by country and year\"},\"id\":\"2737\",\"type\":\"Title\"},{\"attributes\":{\"fill_color\":{\"value\":\"#1f77b4\"},\"line_color\":{\"value\":\"#1f77b4\"},\"top\":{\"field\":\"counts\"},\"width\":{\"value\":0.9},\"x\":{\"field\":\"x\"}},\"id\":\"2755\",\"type\":\"VBar\"},{\"attributes\":{},\"id\":\"2874\",\"type\":\"Selection\"},{\"attributes\":{\"start\":0},\"id\":\"2740\",\"type\":\"DataRange1d\"},{\"attributes\":{\"active_multi\":null},\"id\":\"2753\",\"type\":\"Toolbar\"},{\"attributes\":{},\"id\":\"2744\",\"type\":\"LinearScale\"},{\"attributes\":{},\"id\":\"2742\",\"type\":\"CategoricalScale\"},{\"attributes\":{},\"id\":\"2747\",\"type\":\"CategoricalTicker\"},{\"attributes\":{\"formatter\":{\"id\":\"2867\"},\"major_label_policy\":{\"id\":\"2869\"},\"ticker\":{\"id\":\"2750\"}},\"id\":\"2749\",\"type\":\"LinearAxis\"},{\"attributes\":{\"fill_alpha\":{\"value\":0.1},\"fill_color\":{\"value\":\"#1f77b4\"},\"line_alpha\":{\"value\":0.1},\"line_color\":{\"value\":\"#1f77b4\"},\"top\":{\"field\":\"counts\"},\"width\":{\"value\":0.9},\"x\":{\"field\":\"x\"}},\"id\":\"2756\",\"type\":\"VBar\"},{\"attributes\":{\"axis\":{\"id\":\"2746\"},\"grid_line_color\":null,\"ticker\":null},\"id\":\"2748\",\"type\":\"Grid\"},{\"attributes\":{\"formatter\":{\"id\":\"2870\"},\"major_label_orientation\":1,\"major_label_policy\":{\"id\":\"2872\"},\"ticker\":{\"id\":\"2747\"}},\"id\":\"2746\",\"type\":\"CategoricalAxis\"},{\"attributes\":{},\"id\":\"2750\",\"type\":\"BasicTicker\"},{\"attributes\":{\"factors\":[[\"England\",\"2019\"],[\"England\",\"2020\"],[\"England\",\"2021\"],[\"Italy\",\"2019\"],[\"Italy\",\"2020\"],[\"Italy\",\"2021\"],[\"Spain\",\"2019\"],[\"Spain\",\"2020\"],[\"Spain\",\"2021\"]],\"range_padding\":0.1},\"id\":\"2735\",\"type\":\"FactorRange\"},{\"attributes\":{\"data_source\":{\"id\":\"2734\"},\"glyph\":{\"id\":\"2755\"},\"hover_glyph\":null,\"muted_glyph\":null,\"nonselection_glyph\":{\"id\":\"2756\"},\"view\":{\"id\":\"2758\"}},\"id\":\"2757\",\"type\":\"GlyphRenderer\"},{\"attributes\":{},\"id\":\"2870\",\"type\":\"CategoricalTickFormatter\"},{\"attributes\":{\"source\":{\"id\":\"2734\"}},\"id\":\"2758\",\"type\":\"CDSView\"}],\"root_ids\":[\"2736\"]},\"title\":\"Bokeh Application\",\"version\":\"2.3.3\"}};\n",
       "  var render_items = [{\"docid\":\"5ac98b46-282c-42cc-8074-36c9970b2b67\",\"root_ids\":[\"2736\"],\"roots\":{\"2736\":\"8614b0e2-1d3e-40b8-8e19-5e4359204473\"}}];\n",
       "  root.Bokeh.embed.embed_items_notebook(docs_json, render_items);\n",
       "\n",
       "  }\n",
       "  if (root.Bokeh !== undefined) {\n",
       "    embed_document(root);\n",
       "  } else {\n",
       "    var attempts = 0;\n",
       "    var timer = setInterval(function(root) {\n",
       "      if (root.Bokeh !== undefined) {\n",
       "        clearInterval(timer);\n",
       "        embed_document(root);\n",
       "      } else {\n",
       "        attempts++;\n",
       "        if (attempts > 100) {\n",
       "          clearInterval(timer);\n",
       "          console.log(\"Bokeh: ERROR: Unable to run BokehJS code because BokehJS library is missing\");\n",
       "        }\n",
       "      }\n",
       "    }, 10, root)\n",
       "  }\n",
       "})(window);"
      ],
      "application/vnd.bokehjs_exec.v0+json": ""
     },
     "metadata": {
      "application/vnd.bokehjs_exec.v0+json": {
       "id": "2736"
      }
     },
     "output_type": "display_data"
    }
   ],
   "source": [
    "from bokeh.models import FactorRange\n",
    "\n",
    "\n",
    "data = {\n",
    "    'country' : countries,\n",
    "    '2019'   : pivot_table_wages.loc[['England', 'Italy', 'Spain'], '2019'].to_list(),\n",
    "    '2020'   : pivot_table_wages.loc[['England', 'Italy', 'Spain'], '2020'].to_list(),\n",
    "    '2021'   : pivot_table_wages.loc[['England', 'Italy', 'Spain'], '2021'].to_list()\n",
    "    }\n",
    "\n",
    "x = [ (country, year) for country in countries for year in years]\n",
    "counts = sum(zip(data['2019'], data['2020'], data['2021']), ())\n",
    "\n",
    "source = ColumnDataSource(data=dict(x=x, counts=counts))\n",
    "\n",
    "p = figure(x_range=FactorRange(*x), plot_height=250, \n",
    "           title=\"Mean Wage (Euro) by country and year\",\n",
    "           toolbar_location=None, tools=\"\")\n",
    "\n",
    "p.vbar(x='x', top='counts', width=0.9, source=source)\n",
    "\n",
    "p.y_range.start = 0\n",
    "p.x_range.range_padding = 0.1\n",
    "p.xaxis.major_label_orientation = 1\n",
    "p.xgrid.grid_line_color = None\n",
    "\n",
    "show(p)"
   ]
  },
  {
   "cell_type": "markdown",
   "metadata": {
    "id": "6NI5LDKHWWdv"
   },
   "source": [
    "### 7. Plot the Normalized Overall Histogram"
   ]
  },
  {
   "cell_type": "markdown",
   "metadata": {
    "id": "2SNP-0dBG6cm"
   },
   "source": [
    "As a last step for this hands-on lab, we want to create a histogram for the normalized `overall` column. What does normalization mean in this context? Well, from a statistical point of view, we homogenize the data by removing, for each single point, the observed column mean and divide by its standard deviation. This operation is especially useful for those columns which are intrinsically  heterogeneous. Think, for example, to the wage: that column might be extremely different across the world for many reasons. Hence, if you want to compare two countries, it is always better to standardize the data. "
   ]
  },
  {
   "cell_type": "code",
   "execution_count": 38,
   "metadata": {
    "id": "lt3W4DPaG6l7"
   },
   "outputs": [],
   "source": [
    "def normalization_data(df, colname):\n",
    "    normalized_df = (df[colname] - df[colname].mean())/df[colname].std()\n",
    "    normalized_df = normalized_df[~normalized_df.isna()].to_frame() # to_frame converts series to df\n",
    "    return normalized_df"
   ]
  },
  {
   "cell_type": "code",
   "execution_count": 39,
   "metadata": {
    "id": "42BWOagqG-hG"
   },
   "outputs": [],
   "source": [
    "data_normalized = normalization_data(filtered_df, 'overall')"
   ]
  },
  {
   "cell_type": "markdown",
   "metadata": {
    "id": "iJOYofRhVjg5"
   },
   "source": [
    "By inspecting the min and max values of the new normalized series, it makes sense to create a grid  of 1000 values between -4 and 4."
   ]
  },
  {
   "cell_type": "markdown",
   "metadata": {
    "id": "PjWHE8S_V9_H"
   },
   "source": [
    "We also employ the `NumPy` method `histogram` to set the data in the right order to plot a histogram."
   ]
  },
  {
   "cell_type": "code",
   "execution_count": 40,
   "metadata": {
    "id": "UAQZqDd9IK6g"
   },
   "outputs": [],
   "source": [
    "import numpy as np\n",
    "hist, edges = np.histogram(data_normalized.overall.to_list(), density=True, bins=50)"
   ]
  },
  {
   "cell_type": "markdown",
   "metadata": {
    "id": "1kY_8BzdVvaV"
   },
   "source": [
    "We now create a new method called `create_histogram` that wraps the `quad()` glyph: this is used to create a histogram by specifying the argument `top=hist`. We also specify down below a few arguments, such as the `xaxis.axis_label` and the `yaxis.axis_label` to improve the readability of the plot."
   ]
  },
  {
   "cell_type": "code",
   "execution_count": 41,
   "metadata": {
    "id": "eaLVMLtQH8aI"
   },
   "outputs": [],
   "source": [
    "def create_histogram(title, hist, edges):\n",
    "    p = figure(title=title)\n",
    "    p.quad(\n",
    "        top=hist, \n",
    "        bottom=0, \n",
    "        left=edges[:-1], \n",
    "        right=edges[1:],\n",
    "        fill_color=\"blue\", \n",
    "        line_color=\"white\", \n",
    "        alpha=0.5\n",
    "        )\n",
    "    p.y_range.start = 0\n",
    "    p.xaxis.axis_label = 'Normalized Overall (x)'\n",
    "    p.yaxis.axis_label = 'Pr(x)'\n",
    "    p.grid.grid_line_color=\"white\"\n",
    "    return p"
   ]
  },
  {
   "cell_type": "markdown",
   "metadata": {
    "id": "mekuowAoIW21"
   },
   "source": [
    "We then call the `create_histogram` method with the following arguments:\n",
    " - `title=\"Normalized Overall Distribution\"`.\n",
    " - `hist=hist`.\n",
    " - `edges=edges`\n",
    "\n",
    "and we show the plot by calling the `show` method."
   ]
  },
  {
   "cell_type": "code",
   "execution_count": 42,
   "metadata": {
    "colab": {
     "base_uri": "https://localhost:8080/",
     "height": 617
    },
    "id": "1kfIQ90cIBjS",
    "outputId": "08abb0fc-8893-4be8-c35e-311721330c6d"
   },
   "outputs": [
    {
     "data": {
      "text/html": [
       "\n",
       "\n",
       "\n",
       "\n",
       "\n",
       "\n",
       "  <div class=\"bk-root\" id=\"fcac93b3-8204-4226-956a-285944053a2c\" data-root-id=\"2920\"></div>\n"
      ]
     },
     "metadata": {},
     "output_type": "display_data"
    },
    {
     "data": {
      "application/javascript": [
       "(function(root) {\n",
       "  function embed_document(root) {\n",
       "    \n",
       "  var docs_json = {\"038c4523-c9fc-4b3a-8754-898b8e4d07ca\":{\"defs\":[],\"roots\":{\"references\":[{\"attributes\":{\"below\":[{\"id\":\"2931\"}],\"center\":[{\"id\":\"2934\"},{\"id\":\"2938\"}],\"left\":[{\"id\":\"2935\"}],\"renderers\":[{\"id\":\"2956\"}],\"title\":{\"id\":\"2921\"},\"toolbar\":{\"id\":\"2946\"},\"x_range\":{\"id\":\"2923\"},\"x_scale\":{\"id\":\"2927\"},\"y_range\":{\"id\":\"2925\"},\"y_scale\":{\"id\":\"2929\"}},\"id\":\"2920\",\"subtype\":\"Figure\",\"type\":\"Plot\"},{\"attributes\":{\"axis\":{\"id\":\"2935\"},\"dimension\":1,\"grid_line_color\":\"white\",\"ticker\":null},\"id\":\"2938\",\"type\":\"Grid\"},{\"attributes\":{\"data_source\":{\"id\":\"2953\"},\"glyph\":{\"id\":\"2954\"},\"hover_glyph\":null,\"muted_glyph\":null,\"nonselection_glyph\":{\"id\":\"2955\"},\"view\":{\"id\":\"2957\"}},\"id\":\"2956\",\"type\":\"GlyphRenderer\"},{\"attributes\":{},\"id\":\"2923\",\"type\":\"DataRange1d\"},{\"attributes\":{\"source\":{\"id\":\"2953\"}},\"id\":\"2957\",\"type\":\"CDSView\"},{\"attributes\":{\"bottom\":{\"value\":0},\"fill_alpha\":{\"value\":0.5},\"fill_color\":{\"value\":\"blue\"},\"left\":{\"field\":\"left\"},\"line_alpha\":{\"value\":0.5},\"line_color\":{\"value\":\"white\"},\"right\":{\"field\":\"right\"},\"top\":{\"field\":\"top\"}},\"id\":\"2954\",\"type\":\"Quad\"},{\"attributes\":{\"overlay\":{\"id\":\"2945\"}},\"id\":\"2941\",\"type\":\"BoxZoomTool\"},{\"attributes\":{\"bottom\":{\"value\":0},\"fill_alpha\":{\"value\":0.1},\"fill_color\":{\"value\":\"blue\"},\"left\":{\"field\":\"left\"},\"line_alpha\":{\"value\":0.1},\"line_color\":{\"value\":\"white\"},\"right\":{\"field\":\"right\"},\"top\":{\"field\":\"top\"}},\"id\":\"2955\",\"type\":\"Quad\"},{\"attributes\":{},\"id\":\"3075\",\"type\":\"BasicTickFormatter\"},{\"attributes\":{},\"id\":\"2942\",\"type\":\"SaveTool\"},{\"attributes\":{},\"id\":\"2927\",\"type\":\"LinearScale\"},{\"attributes\":{},\"id\":\"3077\",\"type\":\"AllLabels\"},{\"attributes\":{},\"id\":\"3080\",\"type\":\"AllLabels\"},{\"attributes\":{},\"id\":\"2932\",\"type\":\"BasicTicker\"},{\"attributes\":{},\"id\":\"2943\",\"type\":\"ResetTool\"},{\"attributes\":{},\"id\":\"2940\",\"type\":\"WheelZoomTool\"},{\"attributes\":{},\"id\":\"3082\",\"type\":\"UnionRenderers\"},{\"attributes\":{\"active_multi\":null,\"tools\":[{\"id\":\"2939\"},{\"id\":\"2940\"},{\"id\":\"2941\"},{\"id\":\"2942\"},{\"id\":\"2943\"},{\"id\":\"2944\"}]},\"id\":\"2946\",\"type\":\"Toolbar\"},{\"attributes\":{},\"id\":\"3078\",\"type\":\"BasicTickFormatter\"},{\"attributes\":{\"start\":0},\"id\":\"2925\",\"type\":\"DataRange1d\"},{\"attributes\":{},\"id\":\"2939\",\"type\":\"PanTool\"},{\"attributes\":{\"axis_label\":\"Normalized Overall (x)\",\"formatter\":{\"id\":\"3078\"},\"major_label_policy\":{\"id\":\"3080\"},\"ticker\":{\"id\":\"2932\"}},\"id\":\"2931\",\"type\":\"LinearAxis\"},{\"attributes\":{\"data\":{\"left\":{\"__ndarray__\":\"/LcszDT7DMCMik71X8MLwB1dcB6LiwrArS+SR7ZTCcA+ArRw4RsIwM7U1ZkM5AbAXqf3wjesBcDueRnsYnQEwH9MOxWOPAPAEB9dPrkEAsCg8X5n5MwAwGCIQSEfKv+/gS2Fc3W6/L+i0sjFy0r6v8J3DBgi2/e/5BxQanhr9b8EwpO8zvvyvyRn1w4ljPC/jBg2wvY47L/MYr1mo1nnvxCtRAtQeuK/oO6XX/k1278gg6aoUnfRv6Be1Mav4r6/wJ7iKdYvoD+wflv4QonHP9AqHzNIg9U/UJYQ6u5B3z/oAIHQSoDkP6i2+SueX+k/YGxyh/E+7j8QkXVxIo/xP/DrMR/M/vM/0EbuzHVu9j+woap6H974P4z8ZijJTfs/bFcj1nK9/T8m2e9BjhYAQJYGzhhjTgFABjSs7zeGAkB0YYrGDL4DQOSOaJ3h9QRAVLxGdLYtBkDE6SRLi2UHQDQXAyJgnQhApETh+DTVCUAScr/PCQ0LQIKfnabeRAxA8sx7fbN8DUBi+llUiLQOQA==\",\"dtype\":\"float64\",\"order\":\"little\",\"shape\":[50]},\"right\":{\"__ndarray__\":\"jIpO9V/DC8AdXXAei4sKwK0vkke2UwnAPgK0cOEbCMDO1NWZDOQGwF6n98I3rAXA7nkZ7GJ0BMB/TDsVjjwDwBAfXT65BALAoPF+Z+TMAMBgiEEhHyr/v4EthXN1uvy/otLIxctK+r/CdwwYItv3v+QcUGp4a/W/BMKTvM778r8kZ9cOJYzwv4wYNsL2OOy/zGK9ZqNZ578QrUQLUHriv6Dul1/5Ndu/IIOmqFJ30b+gXtTGr+K+v8Ce4inWL6A/sH5b+EKJxz/QKh8zSIPVP1CWEOruQd8/6ACB0EqA5D+otvkrnl/pP2BscofxPu4/EJF1cSKP8T/w6zEfzP7zP9BG7sx1bvY/sKGqeh/e+D+M/GYoyU37P2xXI9Zyvf0/JtnvQY4WAECWBs4YY04BQAY0rO83hgJAdGGKxgy+A0Dkjmid4fUEQFS8RnS2LQZAxOkkS4tlB0A0FwMiYJ0IQKRE4fg01QlAEnK/zwkNC0CCn52m3kQMQPLMe32zfA1AYvpZVIi0DkDQJzgrXewPQA==\",\"dtype\":\"float64\",\"order\":\"little\",\"shape\":[50]},\"top\":{\"__ndarray__\":\"JU8Cs/CEMT+5ftCE5wcsP/penKPtBSU/PsvbdrGkUD+CCkQ5paheP8PyXNApZ2k/pB+HmviggT+FUIH9hQqQP1fD4bcxg5k/Ji6iQGCcpj8YMnLZHsysP9tNg2hb/7I/WW4cwfLAxz9Vm2hzEma+Pzfejc/Q9sE/REM4W7IzxD93HwslpXPIP/OY5lM7iMo/OLAe62n70D/NzRtRMhnRP7DqQClZ2tM/8QkZ8gSt1j867vbuH0TZP2kUpkQE4tg/ifyhQ4q+6D/ZKclIUtzWPz+FS/nRo9Q/8xkvWFVb0z/2uNDahXvQP8hjVT72x88/KjyjE9DRyj/kZukbbMbGPxPVkDsPfcU/cdB9EwT5vz8mPQiLbZG4PzcIPo8h+LM/NyaogeB6rz+LKAi5Zu20Pw62mBVerJ0/CWfpG2zGlj+SRApfRliNP44n1BJ3YYM/utV5PVkPej/yQbkQHa51PyVPArPwhHE/HF+co+0FZT+jftCE5wdcP85uNpTqhkg/JU8Cs/CEQT8cX5yj7QVFPw==\",\"dtype\":\"float64\",\"order\":\"little\",\"shape\":[50]}},\"selected\":{\"id\":\"3083\"},\"selection_policy\":{\"id\":\"3082\"}},\"id\":\"2953\",\"type\":\"ColumnDataSource\"},{\"attributes\":{},\"id\":\"2944\",\"type\":\"HelpTool\"},{\"attributes\":{\"axis_label\":\"Pr(x)\",\"formatter\":{\"id\":\"3075\"},\"major_label_policy\":{\"id\":\"3077\"},\"ticker\":{\"id\":\"2936\"}},\"id\":\"2935\",\"type\":\"LinearAxis\"},{\"attributes\":{\"text\":\"Normalized Overall Distribution\"},\"id\":\"2921\",\"type\":\"Title\"},{\"attributes\":{},\"id\":\"2936\",\"type\":\"BasicTicker\"},{\"attributes\":{\"axis\":{\"id\":\"2931\"},\"grid_line_color\":\"white\",\"ticker\":null},\"id\":\"2934\",\"type\":\"Grid\"},{\"attributes\":{},\"id\":\"3083\",\"type\":\"Selection\"},{\"attributes\":{},\"id\":\"2929\",\"type\":\"LinearScale\"},{\"attributes\":{\"bottom_units\":\"screen\",\"fill_alpha\":0.5,\"fill_color\":\"lightgrey\",\"left_units\":\"screen\",\"level\":\"overlay\",\"line_alpha\":1.0,\"line_color\":\"black\",\"line_dash\":[4,4],\"line_width\":2,\"right_units\":\"screen\",\"syncable\":false,\"top_units\":\"screen\"},\"id\":\"2945\",\"type\":\"BoxAnnotation\"}],\"root_ids\":[\"2920\"]},\"title\":\"Bokeh Application\",\"version\":\"2.3.3\"}};\n",
       "  var render_items = [{\"docid\":\"038c4523-c9fc-4b3a-8754-898b8e4d07ca\",\"root_ids\":[\"2920\"],\"roots\":{\"2920\":\"fcac93b3-8204-4226-956a-285944053a2c\"}}];\n",
       "  root.Bokeh.embed.embed_items_notebook(docs_json, render_items);\n",
       "\n",
       "  }\n",
       "  if (root.Bokeh !== undefined) {\n",
       "    embed_document(root);\n",
       "  } else {\n",
       "    var attempts = 0;\n",
       "    var timer = setInterval(function(root) {\n",
       "      if (root.Bokeh !== undefined) {\n",
       "        clearInterval(timer);\n",
       "        embed_document(root);\n",
       "      } else {\n",
       "        attempts++;\n",
       "        if (attempts > 100) {\n",
       "          clearInterval(timer);\n",
       "          console.log(\"Bokeh: ERROR: Unable to run BokehJS code because BokehJS library is missing\");\n",
       "        }\n",
       "      }\n",
       "    }, 10, root)\n",
       "  }\n",
       "})(window);"
      ],
      "application/vnd.bokehjs_exec.v0+json": ""
     },
     "metadata": {
      "application/vnd.bokehjs_exec.v0+json": {
       "id": "2920"
      }
     },
     "output_type": "display_data"
    }
   ],
   "source": [
    "\n",
    "hist_plot = create_histogram(title=\"Normalized Overall Distribution\", hist=hist, edges=edges)\n",
    "show(hist_plot)"
   ]
  },
  {
   "cell_type": "markdown",
   "metadata": {
    "id": "y2hucB_UXbG6"
   },
   "source": [
    "It looks pretty Gaussian, right? The normalization was successfully performed here, although we have a sifgnificant spike around 0: in general, this makes sense, and so we can easily state that the FIFA video game is populated by average players."
   ]
  },
  {
   "cell_type": "markdown",
   "metadata": {
    "id": "JKkQgryfJSBQ"
   },
   "source": [
    "This concludes the hands-on lab on bokeh. If you have any feedback related to this learning path, feel free to contact us at support@cloudacademy.com."
   ]
  },
  {
   "cell_type": "markdown",
   "metadata": {
    "id": "aDrjyMfzZ70C"
   },
   "source": [
    "**END**"
   ]
  }
 ],
 "metadata": {
  "colab": {
   "collapsed_sections": [],
   "name": "[Hands-on Lab] Data Visualization with Bokeh - Students.ipynb",
   "provenance": []
  },
  "kernelspec": {
   "display_name": "Python 3",
   "language": "python",
   "name": "python3"
  },
  "language_info": {
   "codemirror_mode": {
    "name": "ipython",
    "version": 3
   },
   "file_extension": ".py",
   "mimetype": "text/x-python",
   "name": "python",
   "nbconvert_exporter": "python",
   "pygments_lexer": "ipython3",
   "version": "3.8.3"
  }
 },
 "nbformat": 4,
 "nbformat_minor": 1
}
