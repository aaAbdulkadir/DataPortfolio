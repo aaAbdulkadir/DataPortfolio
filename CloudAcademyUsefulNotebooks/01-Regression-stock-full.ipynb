{
 "cells": [
  {
   "cell_type": "markdown",
   "metadata": {},
   "source": [
    "# TITLE: Building a Machine Learning Pipeline - Regression\n",
    "## Author: Andrea Giussani\n",
    "### Cloud Academy - Mar 2021"
   ]
  },
  {
   "cell_type": "markdown",
   "metadata": {},
   "source": [
    "The aim of this lab is to challenge you on building a supervised machine learning pipeline to predict the future price of a stock. Here, you will be tested on your knowledge on data preprocessing, fitting and evaluation of a regression model. "
   ]
  },
  {
   "cell_type": "markdown",
   "metadata": {},
   "source": [
    "To get the most from this lab, it is recommended to have confidence and exposure to at least the following libraries: `pandas`, `matplotlib` and `scikit-learn`.\n",
    "I strongly encourage you to have watched the following courses, available in our content library:\n",
    " - Building a Machine Learning pipeline with scikit-learn: part 01 <br>\n",
    " - Building a Machine Learning pipeline with scikit-learn: part 02 <br>\n",
    "\n",
    "as well as the following lab:\n",
    " - Introduction to Financial Data Manipulation with Python <br>\n",
    "\n",
    "before starting this challenge."
   ]
  },
  {
   "cell_type": "markdown",
   "metadata": {},
   "source": [
    "# 1. Data Preparation"
   ]
  },
  {
   "cell_type": "markdown",
   "metadata": {},
   "source": [
    "\n",
    "In order to get the data in our working directory, we are going to use a very interesting library named `pandas_datareader`. This library is great if one wants to get financial and economical data to be ingested in a pandas dataframe. There are several possibilities for you. Among many, it is worth mentioning the\n",
    "\n",
    "* Federal Reserve Economic Data (FRED);\n",
    "* Eurostat;\n",
    "* Organisation for Economic Co-operation and Development (OECD);\n",
    "* World Bank.\n",
    "\n",
    "The interesting fact is that you can even download data from either Yahoo or Google finance, and the nice thing is that those data are then stored into a pandas DataFrame automatically for you! My recommendation is that you should use this library if then you are going to use Pandas to perform further data wrangling and analysis on that dataset. \n",
    "\n",
    "In this lab we are going to focus on a particular function from the `pandas-datareader`: the `DataReader`. This belongs to the `data` submodule, and it imports data from a number of online sources, such as Google Finance, Yahoo Finance, and the St. Louis FED (FRED), among others.\n",
    "\n",
    "For further information, please check the official documentation [here](https://pandas-datareader.readthedocs.io/en/latest/index.html).\n"
   ]
  },
  {
   "cell_type": "markdown",
   "metadata": {},
   "source": [
    "We make the necessary import: this has been done for you in the following snippet"
   ]
  },
  {
   "cell_type": "code",
   "execution_count": 1,
   "metadata": {},
   "outputs": [],
   "source": [
    "import pandas as pd\n",
    "import pandas_datareader as pdr"
   ]
  },
  {
   "cell_type": "markdown",
   "metadata": {},
   "source": [
    "Now, let us take into account the Amazon stock as our reference for this lab. I am going to define now a series of variables that we are going to use in order to get the data directly from yahoo finance, using the `data.DataReader` method. \n",
    "\n",
    "For example,\n",
    "\n",
    "```python\n",
    "STOCK_NAME = \"AMZN\"\n",
    "DATA_SOURCE = \"yahoo\"\n",
    "```\n",
    "are defined already for you."
   ]
  },
  {
   "cell_type": "code",
   "execution_count": 2,
   "metadata": {},
   "outputs": [],
   "source": [
    "STOCK_NAME = \"AMZN\"\n",
    "DATA_SOURCE = \"yahoo\""
   ]
  },
  {
   "cell_type": "markdown",
   "metadata": {},
   "source": [
    "#### Challenge N.1\n",
    "\n",
    "Now, you are asked to set the `START_DATE` and the `END_DATE`. In particular, you are expected to get data related to the amazon stock from March 1st, 2011 to March 1st, 2021.\n",
    "\n",
    "**Hint**: use the datetime function from the datetime library: just import `from datetime import datetime`, and then call the function appropriately. An example is as follows: `my_date = datetime(YYYY, MM, DD)`."
   ]
  },
  {
   "cell_type": "code",
   "execution_count": 3,
   "metadata": {},
   "outputs": [],
   "source": [
    "# Challenge\n",
    "from datetime import datetime\n",
    "START_DATE = datetime(2011, 3, 1) # this might be filled by student\n",
    "END_DATE = datetime(2021, 3, 1) # this might be filled by student"
   ]
  },
  {
   "cell_type": "markdown",
   "metadata": {},
   "source": [
    "Now we get the data using the `data.DaatReader` method: it requires four arguments:\n",
    " * `name`: a string containing the stock symbol - in our case \"amzn\";\n",
    " * `data_source`: a string denoting the online resource - in our case \"yahoo\";\n",
    " * `start`: a datetime object containing the lower bound of the desired time window - in our case \"2011-03-01\"; \n",
    " * `end`: a datetime object containing the upper bound of the desired time window - in our case \"2021-03-01\".\n",
    " \n",
    "We store this into the variable df, which is of type `pandas.DataFrame`. This has been done for you."
   ]
  },
  {
   "cell_type": "code",
   "execution_count": 4,
   "metadata": {},
   "outputs": [],
   "source": [
    "df = pdr.data.DataReader(\n",
    "    name=STOCK_NAME, \n",
    "    data_source=DATA_SOURCE, \n",
    "    start=START_DATE, \n",
    "    end=END_DATE\n",
    ")"
   ]
  },
  {
   "cell_type": "markdown",
   "metadata": {},
   "source": [
    "We can inspect the last 5 rows of the above DataFrame using the pandas `tail` method."
   ]
  },
  {
   "cell_type": "code",
   "execution_count": 5,
   "metadata": {},
   "outputs": [
    {
     "data": {
      "text/html": [
       "<div>\n",
       "<style scoped>\n",
       "    .dataframe tbody tr th:only-of-type {\n",
       "        vertical-align: middle;\n",
       "    }\n",
       "\n",
       "    .dataframe tbody tr th {\n",
       "        vertical-align: top;\n",
       "    }\n",
       "\n",
       "    .dataframe thead th {\n",
       "        text-align: right;\n",
       "    }\n",
       "</style>\n",
       "<table border=\"1\" class=\"dataframe\">\n",
       "  <thead>\n",
       "    <tr style=\"text-align: right;\">\n",
       "      <th></th>\n",
       "      <th>High</th>\n",
       "      <th>Low</th>\n",
       "      <th>Open</th>\n",
       "      <th>Close</th>\n",
       "      <th>Volume</th>\n",
       "      <th>Adj Close</th>\n",
       "    </tr>\n",
       "    <tr>\n",
       "      <th>Date</th>\n",
       "      <th></th>\n",
       "      <th></th>\n",
       "      <th></th>\n",
       "      <th></th>\n",
       "      <th></th>\n",
       "      <th></th>\n",
       "    </tr>\n",
       "  </thead>\n",
       "  <tbody>\n",
       "    <tr>\n",
       "      <th>2021-02-23</th>\n",
       "      <td>160.236496</td>\n",
       "      <td>154.679993</td>\n",
       "      <td>156.351501</td>\n",
       "      <td>159.725006</td>\n",
       "      <td>93544000</td>\n",
       "      <td>159.725006</td>\n",
       "    </tr>\n",
       "    <tr>\n",
       "      <th>2021-02-24</th>\n",
       "      <td>158.561493</td>\n",
       "      <td>156.268997</td>\n",
       "      <td>158.337494</td>\n",
       "      <td>157.976501</td>\n",
       "      <td>60226000</td>\n",
       "      <td>157.976501</td>\n",
       "    </tr>\n",
       "    <tr>\n",
       "      <th>2021-02-25</th>\n",
       "      <td>158.912994</td>\n",
       "      <td>152.388000</td>\n",
       "      <td>156.837006</td>\n",
       "      <td>152.858002</td>\n",
       "      <td>90676000</td>\n",
       "      <td>152.858002</td>\n",
       "    </tr>\n",
       "    <tr>\n",
       "      <th>2021-02-26</th>\n",
       "      <td>156.121994</td>\n",
       "      <td>151.835007</td>\n",
       "      <td>154.759995</td>\n",
       "      <td>154.646500</td>\n",
       "      <td>85518000</td>\n",
       "      <td>154.646500</td>\n",
       "    </tr>\n",
       "    <tr>\n",
       "      <th>2021-03-01</th>\n",
       "      <td>157.477997</td>\n",
       "      <td>154.899506</td>\n",
       "      <td>156.394501</td>\n",
       "      <td>157.307007</td>\n",
       "      <td>54582000</td>\n",
       "      <td>157.307007</td>\n",
       "    </tr>\n",
       "  </tbody>\n",
       "</table>\n",
       "</div>"
      ],
      "text/plain": [
       "                  High         Low        Open       Close    Volume  \\\n",
       "Date                                                                   \n",
       "2021-02-23  160.236496  154.679993  156.351501  159.725006  93544000   \n",
       "2021-02-24  158.561493  156.268997  158.337494  157.976501  60226000   \n",
       "2021-02-25  158.912994  152.388000  156.837006  152.858002  90676000   \n",
       "2021-02-26  156.121994  151.835007  154.759995  154.646500  85518000   \n",
       "2021-03-01  157.477997  154.899506  156.394501  157.307007  54582000   \n",
       "\n",
       "             Adj Close  \n",
       "Date                    \n",
       "2021-02-23  159.725006  \n",
       "2021-02-24  157.976501  \n",
       "2021-02-25  152.858002  \n",
       "2021-02-26  154.646500  \n",
       "2021-03-01  157.307007  "
      ]
     },
     "execution_count": 5,
     "metadata": {},
     "output_type": "execute_result"
    }
   ],
   "source": [
    "df.tail()"
   ]
  },
  {
   "cell_type": "markdown",
   "metadata": {},
   "source": [
    "Just a brief description of the above columns: \n",
    "- **High**: stands for the maximum prices observed in a particular trading day.\n",
    "* **Low**: stands for the minimum prices observed in a particular trading day.\n",
    "* **Open**: stands for the opening prices observed in a particular trading day.\n",
    "* **Close**: stands for the closing prices observed in a particular trading day.\n",
    "* **Volume**: stands for the total volume observed in a particular trading day.\n",
    "* **Adj Close**: stands for the adjusted closing prices observed in a particular trading day."
   ]
  },
  {
   "cell_type": "markdown",
   "metadata": {},
   "source": [
    "Let us plot the last 1000 observations from the above series. This is done for you."
   ]
  },
  {
   "cell_type": "code",
   "execution_count": 6,
   "metadata": {},
   "outputs": [
    {
     "data": {
      "image/png": "[encoded data removed]",
      "text/plain": [
       "<Figure size 720x576 with 1 Axes>"
      ]
     },
     "metadata": {},
     "output_type": "display_data"
    }
   ],
   "source": [
    "%matplotlib inline\n",
    "import matplotlib.pyplot as plt\n",
    "with plt.style.context('seaborn'):\n",
    "    df.tail(1000)['Close'].plot(figsize=(10,8))\n",
    "    plt.title('Amazon Closing Price Time Series: Mar 2011-Mar 2021')"
   ]
  },
  {
   "cell_type": "code",
   "execution_count": 7,
   "metadata": {},
   "outputs": [],
   "source": [
    "# ====================================\n",
    "# Validation Check\n",
    "# DO NOT CHANGE THIS CELL\n",
    "# ====================================\n",
    "assert type(df) == pd.DataFrame\n",
    "vcf_01 = [df.index.astype(str).min(), df.index.astype(str).max()]\n",
    "with open('results/vcf_ml_regression_01.txt', 'w') as f:\n",
    "    for item in vcf_01:\n",
    "        f.write(\"%s\\n\" % item)"
   ]
  },
  {
   "cell_type": "code",
   "execution_count": 8,
   "metadata": {},
   "outputs": [
    {
     "data": {
      "text/plain": [
       "['2011-03-01', '2021-03-01']"
      ]
     },
     "execution_count": 8,
     "metadata": {},
     "output_type": "execute_result"
    }
   ],
   "source": [
    "vcf_01"
   ]
  },
  {
   "cell_type": "markdown",
   "metadata": {},
   "source": [
    "# 2. Feature Engineering"
   ]
  },
  {
   "cell_type": "markdown",
   "metadata": {},
   "source": [
    "Without loss of generality, we take into account two financial indicators that will be then used inside our machine learning model: simple returns and a proxy for volatility."
   ]
  },
  {
   "cell_type": "markdown",
   "metadata": {},
   "source": [
    "### 2.1 Daily Returns"
   ]
  },
  {
   "cell_type": "markdown",
   "metadata": {},
   "source": [
    "Daily returns are defined as a percentage change in the observed price. In mathematical terms, they are defined as follows:\n",
    "$$ R_t = \\frac{P_{t}}{P_{t-1}}-1 $$\n",
    "If you have already taken the `Data Wrangling with Pandas` course, available in our content library, this concept should be familiar to you. If not, do not worry: it is sufficient to know that daily returns are used to better evaluate any investment, compared to a simple difference in price. Below you find a method that basically computes simple returns."
   ]
  },
  {
   "cell_type": "code",
   "execution_count": 9,
   "metadata": {},
   "outputs": [],
   "source": [
    "def daily_change(row): \n",
    "    return row.pct_change()"
   ]
  },
  {
   "cell_type": "markdown",
   "metadata": {},
   "source": [
    "Note that daily returns can be alternatively computed using the pandas `.shift()` method, and this is preferred from a practical point of view, since financial returns are typically computed as log-returns. Mathematically, this translates as follows:\n",
    "\n",
    "$$ log(R_t) = \\log(P_{t}) - log(P_{t-1}) $$"
   ]
  },
  {
   "cell_type": "markdown",
   "metadata": {},
   "source": [
    "We use `NumPy` to compute the logarithm of the quantity above. We therefore  `import numpy as np` and then use the `np.log()` method on the daily observed price. This has been done for you."
   ]
  },
  {
   "cell_type": "code",
   "execution_count": 10,
   "metadata": {},
   "outputs": [],
   "source": [
    "import numpy as np\n",
    "def daily_log_change_shift(row):\n",
    "    return np.log(row) - np.log(row.shift(1)) - 1"
   ]
  },
  {
   "cell_type": "markdown",
   "metadata": {},
   "source": [
    "You are asked to compute both the simple and the log returns."
   ]
  },
  {
   "cell_type": "markdown",
   "metadata": {},
   "source": [
    "**Step 1**: Compute the simple returns using the given method `daily_change`. Store the results into a new column called `daily_returns` inside the dataframe `df`. This has been done for you."
   ]
  },
  {
   "cell_type": "code",
   "execution_count": 11,
   "metadata": {},
   "outputs": [],
   "source": [
    "df['daily_returns'] = df[['Close']].apply(lambda x: daily_change(x))"
   ]
  },
  {
   "cell_type": "markdown",
   "metadata": {},
   "source": [
    "#### Challenge\n",
    "**Step 2**: Compute the log returns.\n",
    "\n",
    "Compute the log returns by applying the `daily_log_change_shift` method on the `df[['Close']]` columns, and then store the result into a new columns called `log_daily_returns` inside the dataframe `df`."
   ]
  },
  {
   "cell_type": "code",
   "execution_count": 12,
   "metadata": {},
   "outputs": [],
   "source": [
    "# Challenge\n",
    "df['log_daily_returns'] = df[['Close']].apply(lambda x: daily_log_change_shift(x))"
   ]
  },
  {
   "cell_type": "code",
   "execution_count": 13,
   "metadata": {},
   "outputs": [],
   "source": [
    "# ====================================\n",
    "# Validation Check\n",
    "# DO NOT CHANGE THIS CELL\n",
    "# ====================================\n",
    "vcf_02 = [list(df)[-1], df.shape[1]]\n",
    "with open('results/vcf_ml_regression_02.txt', 'w') as f:\n",
    "    for item in vcf_02:\n",
    "        f.write(\"%s\\n\" % item)"
   ]
  },
  {
   "cell_type": "markdown",
   "metadata": {},
   "source": [
    "### 2.2 Volatility Index"
   ]
  },
  {
   "cell_type": "markdown",
   "metadata": {},
   "source": [
    "Typically, a stock price is affected by rumors and news related to a stock. Such kind of actions directly affect the price of the underlying asset, inducing a certain level of interest in that particular company. This *interest* can be more formally translated into the concept of volatility. Please note that there exists a more formal definition of such a financial indicator. For this lab, we are going to use a proxy that is typically used by practitioners: the scaled daily range. This is nothing more than the difference between the maximum and minimum value observed in a particular trading session ,scaled by the observed closing price. This is done for you below here."
   ]
  },
  {
   "cell_type": "code",
   "execution_count": 14,
   "metadata": {},
   "outputs": [],
   "source": [
    "df['volatility_index'] = (df['High'] - df['Low']) / df['Close'] * 100.0"
   ]
  },
  {
   "cell_type": "markdown",
   "metadata": {},
   "source": [
    "Let us inspect the first five rows of the enriched dataframe."
   ]
  },
  {
   "cell_type": "code",
   "execution_count": 15,
   "metadata": {},
   "outputs": [
    {
     "data": {
      "text/html": [
       "<div>\n",
       "<style scoped>\n",
       "    .dataframe tbody tr th:only-of-type {\n",
       "        vertical-align: middle;\n",
       "    }\n",
       "\n",
       "    .dataframe tbody tr th {\n",
       "        vertical-align: top;\n",
       "    }\n",
       "\n",
       "    .dataframe thead th {\n",
       "        text-align: right;\n",
       "    }\n",
       "</style>\n",
       "<table border=\"1\" class=\"dataframe\">\n",
       "  <thead>\n",
       "    <tr style=\"text-align: right;\">\n",
       "      <th></th>\n",
       "      <th>High</th>\n",
       "      <th>Low</th>\n",
       "      <th>Open</th>\n",
       "      <th>Close</th>\n",
       "      <th>Volume</th>\n",
       "      <th>Adj Close</th>\n",
       "      <th>daily_returns</th>\n",
       "      <th>log_daily_returns</th>\n",
       "      <th>volatility_index</th>\n",
       "    </tr>\n",
       "    <tr>\n",
       "      <th>Date</th>\n",
       "      <th></th>\n",
       "      <th></th>\n",
       "      <th></th>\n",
       "      <th></th>\n",
       "      <th></th>\n",
       "      <th></th>\n",
       "      <th></th>\n",
       "      <th></th>\n",
       "      <th></th>\n",
       "    </tr>\n",
       "  </thead>\n",
       "  <tbody>\n",
       "    <tr>\n",
       "      <th>2011-03-01</th>\n",
       "      <td>8.6980</td>\n",
       "      <td>8.4335</td>\n",
       "      <td>8.6765</td>\n",
       "      <td>8.4720</td>\n",
       "      <td>116942000</td>\n",
       "      <td>8.4720</td>\n",
       "      <td>NaN</td>\n",
       "      <td>NaN</td>\n",
       "      <td>3.122045</td>\n",
       "    </tr>\n",
       "    <tr>\n",
       "      <th>2011-03-02</th>\n",
       "      <td>8.6650</td>\n",
       "      <td>8.4175</td>\n",
       "      <td>8.4545</td>\n",
       "      <td>8.6010</td>\n",
       "      <td>103714000</td>\n",
       "      <td>8.6010</td>\n",
       "      <td>0.015227</td>\n",
       "      <td>-0.984888</td>\n",
       "      <td>2.877577</td>\n",
       "    </tr>\n",
       "    <tr>\n",
       "      <th>2011-03-03</th>\n",
       "      <td>8.7230</td>\n",
       "      <td>8.6025</td>\n",
       "      <td>8.6855</td>\n",
       "      <td>8.6395</td>\n",
       "      <td>82764000</td>\n",
       "      <td>8.6395</td>\n",
       "      <td>0.004476</td>\n",
       "      <td>-0.995534</td>\n",
       "      <td>1.394752</td>\n",
       "    </tr>\n",
       "    <tr>\n",
       "      <th>2011-03-04</th>\n",
       "      <td>8.6375</td>\n",
       "      <td>8.4755</td>\n",
       "      <td>8.6310</td>\n",
       "      <td>8.5835</td>\n",
       "      <td>98486000</td>\n",
       "      <td>8.5835</td>\n",
       "      <td>-0.006482</td>\n",
       "      <td>-1.006503</td>\n",
       "      <td>1.887339</td>\n",
       "    </tr>\n",
       "    <tr>\n",
       "      <th>2011-03-07</th>\n",
       "      <td>8.6045</td>\n",
       "      <td>8.3120</td>\n",
       "      <td>8.5960</td>\n",
       "      <td>8.4540</td>\n",
       "      <td>118658000</td>\n",
       "      <td>8.4540</td>\n",
       "      <td>-0.015087</td>\n",
       "      <td>-1.015202</td>\n",
       "      <td>3.459895</td>\n",
       "    </tr>\n",
       "  </tbody>\n",
       "</table>\n",
       "</div>"
      ],
      "text/plain": [
       "              High     Low    Open   Close     Volume  Adj Close  \\\n",
       "Date                                                               \n",
       "2011-03-01  8.6980  8.4335  8.6765  8.4720  116942000     8.4720   \n",
       "2011-03-02  8.6650  8.4175  8.4545  8.6010  103714000     8.6010   \n",
       "2011-03-03  8.7230  8.6025  8.6855  8.6395   82764000     8.6395   \n",
       "2011-03-04  8.6375  8.4755  8.6310  8.5835   98486000     8.5835   \n",
       "2011-03-07  8.6045  8.3120  8.5960  8.4540  118658000     8.4540   \n",
       "\n",
       "            daily_returns  log_daily_returns  volatility_index  \n",
       "Date                                                            \n",
       "2011-03-01            NaN                NaN          3.122045  \n",
       "2011-03-02       0.015227          -0.984888          2.877577  \n",
       "2011-03-03       0.004476          -0.995534          1.394752  \n",
       "2011-03-04      -0.006482          -1.006503          1.887339  \n",
       "2011-03-07      -0.015087          -1.015202          3.459895  "
      ]
     },
     "execution_count": 15,
     "metadata": {},
     "output_type": "execute_result"
    }
   ],
   "source": [
    "df.head()"
   ]
  },
  {
   "cell_type": "code",
   "execution_count": 16,
   "metadata": {},
   "outputs": [],
   "source": [
    "# df['norm_price'] = (df[['Close']] - df[['Close']].mean())/df[['Close']].std()\n",
    "# df['norm_price'] = (df['Close'] - df['Open']) / df['Open'] * 100.0"
   ]
  },
  {
   "cell_type": "markdown",
   "metadata": {},
   "source": [
    "We can also investigate the structure of each single feature using the `info` method."
   ]
  },
  {
   "cell_type": "code",
   "execution_count": 17,
   "metadata": {},
   "outputs": [
    {
     "name": "stdout",
     "output_type": "stream",
     "text": [
      "<class 'pandas.core.frame.DataFrame'>\n",
      "DatetimeIndex: 2517 entries, 2011-03-01 to 2021-03-01\n",
      "Data columns (total 9 columns):\n",
      " #   Column             Non-Null Count  Dtype  \n",
      "---  ------             --------------  -----  \n",
      " 0   High               2517 non-null   float64\n",
      " 1   Low                2517 non-null   float64\n",
      " 2   Open               2517 non-null   float64\n",
      " 3   Close              2517 non-null   float64\n",
      " 4   Volume             2517 non-null   int64  \n",
      " 5   Adj Close          2517 non-null   float64\n",
      " 6   daily_returns      2516 non-null   float64\n",
      " 7   log_daily_returns  2516 non-null   float64\n",
      " 8   volatility_index   2517 non-null   float64\n",
      "dtypes: float64(8), int64(1)\n",
      "memory usage: 196.6 KB\n"
     ]
    }
   ],
   "source": [
    "df.info()"
   ]
  },
  {
   "cell_type": "markdown",
   "metadata": {},
   "source": [
    "We can see that the columns `daily_returns` and `log_daily_returns` have a missing value: this is reasonable, since technically speaking we can't compute the returns for the first observation. So we have two strategies:\n",
    "1. drop the whole row where we observed a null value; or\n",
    "2. impute the null value.\n",
    "\n",
    "In this alb we are going to impute the null values using the multivariate technique `IterativeImputer`: please check the `Building a MAchine Learning pipeline with scikit-learn: part 01` course for more details.\n"
   ]
  },
  {
   "cell_type": "markdown",
   "metadata": {},
   "source": [
    "We make the necessary imports: this is done for you"
   ]
  },
  {
   "cell_type": "code",
   "execution_count": 18,
   "metadata": {},
   "outputs": [],
   "source": [
    "from sklearn.experimental import enable_iterative_imputer\n",
    "from sklearn.impute import IterativeImputer"
   ]
  },
  {
   "cell_type": "markdown",
   "metadata": {},
   "source": [
    "#### Challenge\n",
    "\n",
    "You are asked to perform the required imputation. To do so, you have to\n",
    " 1. Initialize an `IterativeImputer` with `random_state=42`; and then \n",
    " 2. Transform the original data `df` using the Iterative Imputer.\n",
    " 3. You then need to store the imputed data into the variable `imputed_data_df`\n",
    " \n",
    "**Hint**: To store the imputed data into a `pandas.DataFrame`, you might find useful the following instruction: `pd.DataFrame(new_object, columns=list(df))`, where `new_object` is the results of point 2."
   ]
  },
  {
   "cell_type": "code",
   "execution_count": 19,
   "metadata": {},
   "outputs": [],
   "source": [
    "# Challenge\n",
    "imputed_data = IterativeImputer()\n",
    "imputed_data_df = pd.DataFrame(imputed_data.fit_transform(df), columns=list(df))"
   ]
  },
  {
   "cell_type": "markdown",
   "metadata": {},
   "source": [
    "We know print the first five rows of the `imputed_data_df` object"
   ]
  },
  {
   "cell_type": "code",
   "execution_count": 20,
   "metadata": {},
   "outputs": [
    {
     "data": {
      "text/html": [
       "<div>\n",
       "<style scoped>\n",
       "    .dataframe tbody tr th:only-of-type {\n",
       "        vertical-align: middle;\n",
       "    }\n",
       "\n",
       "    .dataframe tbody tr th {\n",
       "        vertical-align: top;\n",
       "    }\n",
       "\n",
       "    .dataframe thead th {\n",
       "        text-align: right;\n",
       "    }\n",
       "</style>\n",
       "<table border=\"1\" class=\"dataframe\">\n",
       "  <thead>\n",
       "    <tr style=\"text-align: right;\">\n",
       "      <th></th>\n",
       "      <th>High</th>\n",
       "      <th>Low</th>\n",
       "      <th>Open</th>\n",
       "      <th>Close</th>\n",
       "      <th>Volume</th>\n",
       "      <th>Adj Close</th>\n",
       "      <th>daily_returns</th>\n",
       "      <th>log_daily_returns</th>\n",
       "      <th>volatility_index</th>\n",
       "    </tr>\n",
       "  </thead>\n",
       "  <tbody>\n",
       "    <tr>\n",
       "      <th>0</th>\n",
       "      <td>8.6980</td>\n",
       "      <td>8.4335</td>\n",
       "      <td>8.6765</td>\n",
       "      <td>8.4720</td>\n",
       "      <td>116942000.0</td>\n",
       "      <td>8.4720</td>\n",
       "      <td>0.001356</td>\n",
       "      <td>-0.999129</td>\n",
       "      <td>3.122045</td>\n",
       "    </tr>\n",
       "    <tr>\n",
       "      <th>1</th>\n",
       "      <td>8.6650</td>\n",
       "      <td>8.4175</td>\n",
       "      <td>8.4545</td>\n",
       "      <td>8.6010</td>\n",
       "      <td>103714000.0</td>\n",
       "      <td>8.6010</td>\n",
       "      <td>0.015227</td>\n",
       "      <td>-0.984888</td>\n",
       "      <td>2.877577</td>\n",
       "    </tr>\n",
       "    <tr>\n",
       "      <th>2</th>\n",
       "      <td>8.7230</td>\n",
       "      <td>8.6025</td>\n",
       "      <td>8.6855</td>\n",
       "      <td>8.6395</td>\n",
       "      <td>82764000.0</td>\n",
       "      <td>8.6395</td>\n",
       "      <td>0.004476</td>\n",
       "      <td>-0.995534</td>\n",
       "      <td>1.394752</td>\n",
       "    </tr>\n",
       "    <tr>\n",
       "      <th>3</th>\n",
       "      <td>8.6375</td>\n",
       "      <td>8.4755</td>\n",
       "      <td>8.6310</td>\n",
       "      <td>8.5835</td>\n",
       "      <td>98486000.0</td>\n",
       "      <td>8.5835</td>\n",
       "      <td>-0.006482</td>\n",
       "      <td>-1.006503</td>\n",
       "      <td>1.887339</td>\n",
       "    </tr>\n",
       "    <tr>\n",
       "      <th>4</th>\n",
       "      <td>8.6045</td>\n",
       "      <td>8.3120</td>\n",
       "      <td>8.5960</td>\n",
       "      <td>8.4540</td>\n",
       "      <td>118658000.0</td>\n",
       "      <td>8.4540</td>\n",
       "      <td>-0.015087</td>\n",
       "      <td>-1.015202</td>\n",
       "      <td>3.459895</td>\n",
       "    </tr>\n",
       "  </tbody>\n",
       "</table>\n",
       "</div>"
      ],
      "text/plain": [
       "     High     Low    Open   Close       Volume  Adj Close  daily_returns  \\\n",
       "0  8.6980  8.4335  8.6765  8.4720  116942000.0     8.4720       0.001356   \n",
       "1  8.6650  8.4175  8.4545  8.6010  103714000.0     8.6010       0.015227   \n",
       "2  8.7230  8.6025  8.6855  8.6395   82764000.0     8.6395       0.004476   \n",
       "3  8.6375  8.4755  8.6310  8.5835   98486000.0     8.5835      -0.006482   \n",
       "4  8.6045  8.3120  8.5960  8.4540  118658000.0     8.4540      -0.015087   \n",
       "\n",
       "   log_daily_returns  volatility_index  \n",
       "0          -0.999129          3.122045  \n",
       "1          -0.984888          2.877577  \n",
       "2          -0.995534          1.394752  \n",
       "3          -1.006503          1.887339  \n",
       "4          -1.015202          3.459895  "
      ]
     },
     "execution_count": 20,
     "metadata": {},
     "output_type": "execute_result"
    }
   ],
   "source": [
    "imputed_data_df.head()"
   ]
  },
  {
   "cell_type": "code",
   "execution_count": 21,
   "metadata": {},
   "outputs": [],
   "source": [
    "# ====================================\n",
    "# Validation Check\n",
    "# DO NOT CHANGE THIS CELL\n",
    "# ====================================\n",
    "vcf_03 =  [round(imputed_data_df.iloc[0,6], 4), round(imputed_data_df.iloc[0,7], 4)]\n",
    "with open('results/vcf_ml_regression_03.txt', 'w') as f:\n",
    "    for item in vcf_03:\n",
    "        f.write(\"%s\\n\" % item)"
   ]
  },
  {
   "cell_type": "markdown",
   "metadata": {},
   "source": [
    "# 3. Dataset Creation"
   ]
  },
  {
   "cell_type": "markdown",
   "metadata": {},
   "source": [
    "Once we have performed some feature engineering, we are now ready to perform the so-called dataset creation phase. Here we are going to perform the necessary preprocessing that is needed before ingesting the data into a machine learning model."
   ]
  },
  {
   "cell_type": "markdown",
   "metadata": {},
   "source": [
    "### 3.1 Scaling Data"
   ]
  },
  {
   "cell_type": "markdown",
   "metadata": {},
   "source": [
    "It is pretty clear that the features inside our dataframe do not share the same scale. Take, for instance, the `Volume` one: well, that is expressed in millions, whereas the `Adj Close` is expressed in hundreds. And, unfortunately, the remaining ones are expressed with very small numbers. \n",
    "\n",
    "This implies that we need to perform a sort of scaling of the data before ingesting it inside the model. To do so, we use the `StandardScaler` from the `sklearn.preprocessing` submodule. If you are not very familiar with the Standard Scaler, I strongly encourage you to watch the course `Building a Machine Learning pipeline with scikit-learn: part 01` available in our content library. \n",
    "\n",
    "The necessary import has been done for you in the next cell.\n"
   ]
  },
  {
   "cell_type": "code",
   "execution_count": 22,
   "metadata": {},
   "outputs": [],
   "source": [
    "from sklearn.preprocessing import StandardScaler"
   ]
  },
  {
   "cell_type": "markdown",
   "metadata": {},
   "source": [
    "We define a new variable called `X_unscaled` that contains the unscaled features from the `imputed_data_df` dataframe. This can be easily obtained by dropping both `Adj Close` and `Close` variables, since they are related to our target variable. This has been done for you below here:"
   ]
  },
  {
   "cell_type": "code",
   "execution_count": 23,
   "metadata": {},
   "outputs": [],
   "source": [
    "X_unscaled = imputed_data_df.drop(['Adj Close', 'Close'], axis=1)"
   ]
  },
  {
   "cell_type": "markdown",
   "metadata": {},
   "source": [
    "### Challenge\n",
    "You are asked to perform the required scaling. To do so, you have to\n",
    " 1. Initialize a `StandardScaler`; and then \n",
    " 2. Transform the `X_unscaled` using the StandardScaler.\n",
    " 3. You then need to store the imputed data into the variable `X_scaled`.\n",
    " \n",
    "**Hint**: To store the imputed data into a `pandas.DataFrame`, you might find useful the following instruction: `pd.DataFrame(new_object, columns=list(X_unscaled))`, where `new_object` is the results of point 2."
   ]
  },
  {
   "cell_type": "code",
   "execution_count": 24,
   "metadata": {},
   "outputs": [],
   "source": [
    "# challenge\n",
    "rs = StandardScaler()\n",
    "X_scaled = pd.DataFrame(rs.fit_transform(X_unscaled), columns=list(X_unscaled))"
   ]
  },
  {
   "cell_type": "code",
   "execution_count": 25,
   "metadata": {},
   "outputs": [],
   "source": [
    "# ====================================\n",
    "# Validation Check\n",
    "# DO NOT CHANGE THIS CELL\n",
    "# ====================================\n",
    "vcf_04 =  [round(X_scaled.iloc[0,1], 4)]\n",
    "with open('results/vcf_ml_regression_04.txt', 'w') as f:\n",
    "    for item in vcf_04:\n",
    "        f.write(\"%s\\n\" % item)"
   ]
  },
  {
   "cell_type": "markdown",
   "metadata": {},
   "source": [
    "We can now print the first five rows of the `X_scaled` dataframe."
   ]
  },
  {
   "cell_type": "code",
   "execution_count": 26,
   "metadata": {},
   "outputs": [
    {
     "data": {
      "text/html": [
       "<div>\n",
       "<style scoped>\n",
       "    .dataframe tbody tr th:only-of-type {\n",
       "        vertical-align: middle;\n",
       "    }\n",
       "\n",
       "    .dataframe tbody tr th {\n",
       "        vertical-align: top;\n",
       "    }\n",
       "\n",
       "    .dataframe thead th {\n",
       "        text-align: right;\n",
       "    }\n",
       "</style>\n",
       "<table border=\"1\" class=\"dataframe\">\n",
       "  <thead>\n",
       "    <tr style=\"text-align: right;\">\n",
       "      <th></th>\n",
       "      <th>High</th>\n",
       "      <th>Low</th>\n",
       "      <th>Open</th>\n",
       "      <th>Volume</th>\n",
       "      <th>daily_returns</th>\n",
       "      <th>log_daily_returns</th>\n",
       "      <th>volatility_index</th>\n",
       "    </tr>\n",
       "  </thead>\n",
       "  <tbody>\n",
       "    <tr>\n",
       "      <th>0</th>\n",
       "      <td>-0.931625</td>\n",
       "      <td>-0.935588</td>\n",
       "      <td>-0.930881</td>\n",
       "      <td>0.672504</td>\n",
       "      <td>-0.000117</td>\n",
       "      <td>-0.014641</td>\n",
       "      <td>0.694433</td>\n",
       "    </tr>\n",
       "    <tr>\n",
       "      <th>1</th>\n",
       "      <td>-0.932379</td>\n",
       "      <td>-0.935963</td>\n",
       "      <td>-0.936012</td>\n",
       "      <td>0.390834</td>\n",
       "      <td>0.697741</td>\n",
       "      <td>0.704600</td>\n",
       "      <td>0.500999</td>\n",
       "    </tr>\n",
       "    <tr>\n",
       "      <th>2</th>\n",
       "      <td>-0.931053</td>\n",
       "      <td>-0.931628</td>\n",
       "      <td>-0.930673</td>\n",
       "      <td>-0.055266</td>\n",
       "      <td>0.156864</td>\n",
       "      <td>0.166932</td>\n",
       "      <td>-0.672276</td>\n",
       "    </tr>\n",
       "    <tr>\n",
       "      <th>3</th>\n",
       "      <td>-0.933007</td>\n",
       "      <td>-0.934604</td>\n",
       "      <td>-0.931932</td>\n",
       "      <td>0.279511</td>\n",
       "      <td>-0.394461</td>\n",
       "      <td>-0.387076</td>\n",
       "      <td>-0.282520</td>\n",
       "    </tr>\n",
       "    <tr>\n",
       "      <th>4</th>\n",
       "      <td>-0.933761</td>\n",
       "      <td>-0.938435</td>\n",
       "      <td>-0.932741</td>\n",
       "      <td>0.709044</td>\n",
       "      <td>-0.827408</td>\n",
       "      <td>-0.826431</td>\n",
       "      <td>0.961754</td>\n",
       "    </tr>\n",
       "  </tbody>\n",
       "</table>\n",
       "</div>"
      ],
      "text/plain": [
       "       High       Low      Open    Volume  daily_returns  log_daily_returns  \\\n",
       "0 -0.931625 -0.935588 -0.930881  0.672504      -0.000117          -0.014641   \n",
       "1 -0.932379 -0.935963 -0.936012  0.390834       0.697741           0.704600   \n",
       "2 -0.931053 -0.931628 -0.930673 -0.055266       0.156864           0.166932   \n",
       "3 -0.933007 -0.934604 -0.931932  0.279511      -0.394461          -0.387076   \n",
       "4 -0.933761 -0.938435 -0.932741  0.709044      -0.827408          -0.826431   \n",
       "\n",
       "   volatility_index  \n",
       "0          0.694433  \n",
       "1          0.500999  \n",
       "2         -0.672276  \n",
       "3         -0.282520  \n",
       "4          0.961754  "
      ]
     },
     "execution_count": 26,
     "metadata": {},
     "output_type": "execute_result"
    }
   ],
   "source": [
    "X_scaled.head()"
   ]
  },
  {
   "cell_type": "markdown",
   "metadata": {},
   "source": [
    "Now, let us set the variable `y` as the pandas Series related to the `Adj Close` columns, which is in our case the target variable. This has been done for you in the next cell."
   ]
  },
  {
   "cell_type": "code",
   "execution_count": 27,
   "metadata": {},
   "outputs": [],
   "source": [
    "y = imputed_data_df['Adj Close']"
   ]
  },
  {
   "cell_type": "markdown",
   "metadata": {},
   "source": [
    "We finally need to split the data into two different sets: training and test. The two sets are made independent of each other. The training is used to learn specific patterns in the data, whereas the test is then used to test the prediction power of the trained model on new data. Note that we are going to take the last 10% observations as a test set. This step has been done for you in the cell below here:"
   ]
  },
  {
   "cell_type": "code",
   "execution_count": 28,
   "metadata": {},
   "outputs": [],
   "source": [
    "from sklearn.model_selection import train_test_split\n",
    "X_train, X_test, y_train, y_test = train_test_split(X_scaled,y, test_size=0.1, shuffle=False)"
   ]
  },
  {
   "cell_type": "markdown",
   "metadata": {},
   "source": [
    "# 4. Model Fitting"
   ]
  },
  {
   "cell_type": "markdown",
   "metadata": {},
   "source": [
    "## 4.1 Linear Regression"
   ]
  },
  {
   "cell_type": "markdown",
   "metadata": {},
   "source": [
    "We are now ready to fit a regression model to predict the closing price of the amazon stock. We need to import the `LinearRegression` class from the sklearn submodule `linear_models`."
   ]
  },
  {
   "cell_type": "code",
   "execution_count": 29,
   "metadata": {},
   "outputs": [],
   "source": [
    "from sklearn.linear_model import LinearRegression"
   ]
  },
  {
   "cell_type": "markdown",
   "metadata": {},
   "source": [
    "#### Challenge\n",
    "We are now ready to fit a linear regression model on our data using scikit-learn. A `LinearRegression` is technically an estimator, which means that it is characterized by two methods: a `fit` and a `predict`. You are asked to:\n",
    "1. Initialize a `LinerarRegression` model with the following hyperparameters: `normalize=True`. If this is set to `True`, than all the features will be normalized before regression by subtracting the mean and dividing by the L2-norm. Store this into the variable `lr`.\n",
    "2. Fit the instantiated model using `X_train` and `y_train`."
   ]
  },
  {
   "cell_type": "code",
   "execution_count": 30,
   "metadata": {},
   "outputs": [
    {
     "data": {
      "text/plain": [
       "LinearRegression(copy_X=True, fit_intercept=True, n_jobs=None, normalize=True)"
      ]
     },
     "execution_count": 30,
     "metadata": {},
     "output_type": "execute_result"
    }
   ],
   "source": [
    "lr = LinearRegression(normalize=True)\n",
    "lr.fit(X_train, y_train)"
   ]
  },
  {
   "cell_type": "code",
   "execution_count": 31,
   "metadata": {},
   "outputs": [],
   "source": [
    "# ====================================\n",
    "# Validation Check\n",
    "# DO NOT CHANGE THIS CELL\n",
    "# ====================================\n",
    "with open('results/vcf_ml_regression_05.txt', 'w') as f:\n",
    "    f.write(\"%s\\n\" % str(lr))"
   ]
  },
  {
   "cell_type": "markdown",
   "metadata": {},
   "source": [
    "We can visualize the estimated $\\beta$'s coefficients with the `lr`'s attribute `coef_`. For a better visualization, I have stored the results into a pandas dataframe. This is done for you in the next cell:"
   ]
  },
  {
   "cell_type": "code",
   "execution_count": 32,
   "metadata": {},
   "outputs": [
    {
     "data": {
      "text/html": [
       "<div>\n",
       "<style scoped>\n",
       "    .dataframe tbody tr th:only-of-type {\n",
       "        vertical-align: middle;\n",
       "    }\n",
       "\n",
       "    .dataframe tbody tr th {\n",
       "        vertical-align: top;\n",
       "    }\n",
       "\n",
       "    .dataframe thead th {\n",
       "        text-align: right;\n",
       "    }\n",
       "</style>\n",
       "<table border=\"1\" class=\"dataframe\">\n",
       "  <thead>\n",
       "    <tr style=\"text-align: right;\">\n",
       "      <th></th>\n",
       "      <th>estimated_beta</th>\n",
       "    </tr>\n",
       "  </thead>\n",
       "  <tbody>\n",
       "    <tr>\n",
       "      <th>High</th>\n",
       "      <td>35.663620</td>\n",
       "    </tr>\n",
       "    <tr>\n",
       "      <th>Low</th>\n",
       "      <td>30.755634</td>\n",
       "    </tr>\n",
       "    <tr>\n",
       "      <th>Open</th>\n",
       "      <td>-23.178249</td>\n",
       "    </tr>\n",
       "    <tr>\n",
       "      <th>Volume</th>\n",
       "      <td>0.002103</td>\n",
       "    </tr>\n",
       "    <tr>\n",
       "      <th>daily_returns</th>\n",
       "      <td>-0.935590</td>\n",
       "    </tr>\n",
       "    <tr>\n",
       "      <th>log_daily_returns</th>\n",
       "      <td>1.036218</td>\n",
       "    </tr>\n",
       "    <tr>\n",
       "      <th>volatility_index</th>\n",
       "      <td>0.010287</td>\n",
       "    </tr>\n",
       "  </tbody>\n",
       "</table>\n",
       "</div>"
      ],
      "text/plain": [
       "                   estimated_beta\n",
       "High                    35.663620\n",
       "Low                     30.755634\n",
       "Open                   -23.178249\n",
       "Volume                   0.002103\n",
       "daily_returns           -0.935590\n",
       "log_daily_returns        1.036218\n",
       "volatility_index         0.010287"
      ]
     },
     "execution_count": 32,
     "metadata": {},
     "output_type": "execute_result"
    }
   ],
   "source": [
    "est_coef_df = pd.DataFrame([elem for elem in lr.coef_], columns = ['estimated_beta'])\n",
    "est_coef_df.index = list(X_train)\n",
    "est_coef_df"
   ]
  },
  {
   "cell_type": "markdown",
   "metadata": {},
   "source": [
    "We can easily compute the $R^2$ on the test set by applying the `score` method on `lr`. We pass the `X_test` and `y_test` to that function. This is done for you here below:"
   ]
  },
  {
   "cell_type": "code",
   "execution_count": 33,
   "metadata": {},
   "outputs": [
    {
     "data": {
      "text/plain": [
       "0.9978379237994992"
      ]
     },
     "execution_count": 33,
     "metadata": {},
     "output_type": "execute_result"
    }
   ],
   "source": [
    "lr.score(X_test, y_test)"
   ]
  },
  {
   "cell_type": "markdown",
   "metadata": {},
   "source": [
    "That is really impressive. However, the $R^2$ is a proxy measure for evaluation: indeed, the objective function inside a linear regression model is the Mean Squared Error (MSE), and we aim to estimate the $\\beta$'s that minimize it. Let us compute the RMSE for the test set: this is going to be very useful to understand the model performance later."
   ]
  },
  {
   "cell_type": "markdown",
   "metadata": {},
   "source": [
    "#### Challenge\n",
    "We are now ready to check the model performance on unseen data: this means that we are going to use the test set we have kept independent from the training set, and try to predict the `Adj Close` for each single observation in the test set. Since we do know the true target, then we are going to compute the model performance on the test set."
   ]
  },
  {
   "cell_type": "markdown",
   "metadata": {},
   "source": [
    "You are asked to:\n",
    "1. predict the target variable for each single observation in `X_test`: this is done by applying the `.predict` method on the `lr`. Store the results into the variable `y_pred_lr`;\n",
    "2. you are going to compute the prediction error using the RMSE. To do so, we are going to use the `mean_squared_error` function imported from the `.metrics` submodule. This import has been done for you. You are, however, asked to compute it. A prefilled cell is waiting for you here below."
   ]
  },
  {
   "cell_type": "code",
   "execution_count": 34,
   "metadata": {},
   "outputs": [],
   "source": [
    "# Step 1\n",
    "y_pred_lr = lr.predict(X_test)"
   ]
  },
  {
   "cell_type": "code",
   "execution_count": 35,
   "metadata": {},
   "outputs": [
    {
     "name": "stdout",
     "output_type": "stream",
     "text": [
      "RMSE Linear Regression: 1.1015\n"
     ]
    }
   ],
   "source": [
    "# Step 2\n",
    "from sklearn.metrics import mean_squared_error\n",
    "rmse_lr = np.sqrt(mean_squared_error(y_pred_lr, y_test))\n",
    "print(f\"RMSE Linear Regression: {round(rmse_lr, 4)}\")"
   ]
  },
  {
   "cell_type": "code",
   "execution_count": 36,
   "metadata": {},
   "outputs": [],
   "source": [
    "# ====================================\n",
    "# Validation Check\n",
    "# DO NOT CHANGE THIS CELL\n",
    "# ====================================\n",
    "with open('results/vcf_ml_regression_06.txt', 'w') as f:\n",
    "    f.write(\"%s\\n\" % str(round(rmse_lr,4)))"
   ]
  },
  {
   "cell_type": "markdown",
   "metadata": {},
   "source": [
    "We can visualize the actual versus the predicted values in a plot: this is done for you in the next two cells. At first, we are going to store the predicted values inside a dataframe called `test_pred_df_lr`. Then, we compare the actual versus predicted ones by plotting them. We should expect an identical behaviour from the two series."
   ]
  },
  {
   "cell_type": "code",
   "execution_count": 37,
   "metadata": {},
   "outputs": [],
   "source": [
    "test_pred_df_lr = pd.DataFrame()\n",
    "test_pred_df_lr['Date'] = df.iloc[-len(X_test):].index\n",
    "test_pred_df_lr['y_pred_LR'] = y_pred_lr\n",
    "test_pred_df_lr.set_index('Date', inplace=True)"
   ]
  },
  {
   "cell_type": "code",
   "execution_count": 38,
   "metadata": {},
   "outputs": [
    {
     "data": {
      "image/png": "[encoded data removed]",
      "text/plain": [
       "<Figure size 720x576 with 1 Axes>"
      ]
     },
     "metadata": {},
     "output_type": "display_data"
    }
   ],
   "source": [
    "import matplotlib.pyplot as plt\n",
    "with plt.style.context('seaborn'):\n",
    "    df.tail(imputed_data_df.shape[0])['Close'].plot(figsize=(10,8))\n",
    "    test_pred_df_lr['y_pred_LR'].plot(figsize=(10,8))"
   ]
  },
  {
   "cell_type": "markdown",
   "metadata": {},
   "source": [
    "## 4.2 Ridge Regression"
   ]
  },
  {
   "cell_type": "markdown",
   "metadata": {},
   "source": [
    "A possibility here is to add some bias inside the model to control model performances and overfitting. To accomplish this, we can think of using a Ridge model. A Ridge model is a member of the linear models, and it extends somehow the Linear Regression by adding some bias to the model. In this scenario, the estimated values might not be the ones with minimum variance. This is because, technically speaking, Ridge regression regularizes the linear regression by imposing a penalty on the size of coefficients, shrinking toward zero (and toward each other) the coefficients."
   ]
  },
  {
   "cell_type": "code",
   "execution_count": 39,
   "metadata": {},
   "outputs": [],
   "source": [
    "from sklearn.linear_model import Ridge"
   ]
  },
  {
   "cell_type": "markdown",
   "metadata": {},
   "source": [
    "#### Challenge\n",
    "You are asked to:\n",
    "1. initialize a Ridge model by setting the following hyperparameters: `normalize=True, alpha=0.5, random_state=42, max_iter=1000`. The parameter `alpha` controls the regularization effect. Store this into the variable `ridge_reg`;\n",
    "2. fit the `ridge_reg` on `X_train` and `y_train`;\n",
    "3. predict the target values on `X_test` by applying the `predict` method on `ridge_reg`. Store the results into the variable `y_pred_ridge`;\n",
    "4. compute the RMSE on the predicted values by using the `mean_squared_error` method from the `sklearn.metrics` submodule. Wrap the whole function inside a `np.sqrt` method to take the root of the mean squared error. Hint: the `mean_squared_function` requires two arguments: `y_pred_ridge` and `y_test`."
   ]
  },
  {
   "cell_type": "code",
   "execution_count": 40,
   "metadata": {},
   "outputs": [],
   "source": [
    "ridge_reg = Ridge(normalize=True, alpha=0.5, random_state=42, max_iter=1000)\n",
    "ridge_reg.fit(X_train, y_train)\n",
    "y_pred_ridge = ridge_reg.predict(X_test)"
   ]
  },
  {
   "cell_type": "code",
   "execution_count": 41,
   "metadata": {},
   "outputs": [
    {
     "name": "stdout",
     "output_type": "stream",
     "text": [
      "RMSE Ridge Regression: 16.148\n"
     ]
    }
   ],
   "source": [
    "from sklearn.metrics import mean_squared_error\n",
    "rmse_ridge = np.sqrt(mean_squared_error(y_pred_ridge, y_test))\n",
    "print(f\"RMSE Ridge Regression: {round(rmse_ridge, 4)}\")"
   ]
  },
  {
   "cell_type": "code",
   "execution_count": 42,
   "metadata": {},
   "outputs": [],
   "source": [
    "# ====================================\n",
    "# Validation Check\n",
    "# DO NOT CHANGE THIS CELL\n",
    "# ====================================\n",
    "vcf_07 =  [str(ridge_reg), round(rmse_ridge, 4)]\n",
    "with open('results/vcf_ml_regression_07.txt', 'w') as f:\n",
    "    for item in vcf_07:\n",
    "        f.write(\"%s\\n\" % item)"
   ]
  },
  {
   "cell_type": "markdown",
   "metadata": {},
   "source": [
    "This is pretty high, right? It seems we are bringing too much variability inside the model. Let us check with the `score` method how well we are performing on the test set."
   ]
  },
  {
   "cell_type": "code",
   "execution_count": 43,
   "metadata": {},
   "outputs": [
    {
     "data": {
      "text/plain": [
       "0.5353055797862003"
      ]
     },
     "execution_count": 43,
     "metadata": {},
     "output_type": "execute_result"
    }
   ],
   "source": [
    "ridge_reg.score(X_test, y_test)"
   ]
  },
  {
   "cell_type": "markdown",
   "metadata": {},
   "source": [
    "Well, that is not what we wish to have at the end of the day. The $R^2$ is pretty low compared to the standard linear regression. We can plot the results as we did for the linear regression case. This is done for you below here:"
   ]
  },
  {
   "cell_type": "code",
   "execution_count": 44,
   "metadata": {},
   "outputs": [],
   "source": [
    "test_pred_df_ridge = pd.DataFrame()\n",
    "test_pred_df_ridge['Date'] = df.iloc[-len(X_test):].index\n",
    "test_pred_df_ridge['y_pred_Ridge'] = y_pred_ridge\n",
    "test_pred_df_ridge.set_index('Date', inplace=True)"
   ]
  },
  {
   "cell_type": "code",
   "execution_count": 45,
   "metadata": {},
   "outputs": [
    {
     "data": {
      "image/png": "[encoded data removed]",
      "text/plain": [
       "<Figure size 720x576 with 1 Axes>"
      ]
     },
     "metadata": {},
     "output_type": "display_data"
    }
   ],
   "source": [
    "import matplotlib.pyplot as plt\n",
    "with plt.style.context('seaborn'):\n",
    "    df.tail(test_pred_df_ridge.shape[0])['Close'].plot(figsize=(10,8))\n",
    "    test_pred_df_ridge['y_pred_Ridge'].plot(figsize=(10,8))"
   ]
  },
  {
   "cell_type": "markdown",
   "metadata": {},
   "source": [
    "## 4.3 Model Tuning: Grid Search Cross validation"
   ]
  },
  {
   "cell_type": "markdown",
   "metadata": {},
   "source": [
    "But wait: the `Ridge` model is characterized by different hyperparameters that we have assumed to be fixed - take, as an example, the `alpha=0.5` we used before. Those parameters, however, have to be estimated somehow, and a strategy to accomplish this is by means of grid search cross validation. Put in simpler terms, we are going to define a grid of possible values for our hyperparameters, and then we estimate different models with different combinations of those hyperparameters using cross-validation. If this terminology is not familiar to you, I strongly encourage you to watch the course `Building a Machine Learning pipeline with scikit-learn: part 02`."
   ]
  },
  {
   "cell_type": "markdown",
   "metadata": {},
   "source": [
    "To perform grid search cross-validation in scikit-learn, we use the `GridSearchCV` method from the `model_selection` submodule. In this lab, we are going to explore a small grid, but obviously you can play with it, and check how the model performances vary using different sets of hyperparameters. Here, I have definied a grid for the parameter alpha, which I assume it might take five possible values: `[0.005, 0.1, 0.5, 1, 5]`. This is done for you below here."
   ]
  },
  {
   "cell_type": "code",
   "execution_count": 46,
   "metadata": {},
   "outputs": [],
   "source": [
    "from sklearn.model_selection import GridSearchCV\n",
    "grid_params = {\n",
    "    'alpha': [0.005, 0.1, 0.5, 1, 5]\n",
    "}"
   ]
  },
  {
   "cell_type": "markdown",
   "metadata": {},
   "source": [
    "We then:\n",
    "1. initialize a `GridSearchCV` object by passing: the `ridge_reg` estimator, the params_rid set to be equal to `grid_params`, and `cv` equal to 5. Store this into the variable `cv`. <br>\n",
    "2. we fit the `cv` with `X_train` and `y_train`.\n",
    "\n",
    "This has been done again for you below here."
   ]
  },
  {
   "cell_type": "code",
   "execution_count": 47,
   "metadata": {},
   "outputs": [
    {
     "data": {
      "text/plain": [
       "GridSearchCV(cv=5, error_score='raise-deprecating',\n",
       "             estimator=Ridge(alpha=0.5, copy_X=True, fit_intercept=True,\n",
       "                             max_iter=1000, normalize=True, random_state=42,\n",
       "                             solver='auto', tol=0.001),\n",
       "             iid='warn', n_jobs=None,\n",
       "             param_grid={'alpha': [0.005, 0.1, 0.5, 1, 5]},\n",
       "             pre_dispatch='2*n_jobs', refit=True, return_train_score=False,\n",
       "             scoring=None, verbose=0)"
      ]
     },
     "execution_count": 47,
     "metadata": {},
     "output_type": "execute_result"
    }
   ],
   "source": [
    "cv = GridSearchCV(ridge_reg, grid_params, cv=5)\n",
    "cv.fit(X_train, y_train)"
   ]
  },
  {
   "cell_type": "markdown",
   "metadata": {},
   "source": [
    "Remember that a grid search cross-validation looks for the best model according to the specified grid. Hence, in the back-end, it fits several models but it returns just one: the best one. We can access this using the attribute `best_estimator_` as well as we can inspect the best hyperparameter using the attribute `best_params_`."
   ]
  },
  {
   "cell_type": "markdown",
   "metadata": {},
   "source": [
    "#### Challenge\n",
    "You are asked to extract both the best models and the corresponding hyperparameter, as well as to compute the RMSE on the predicted values coming from the grid search cross-validation's best model. <br>\n",
    "To do so,\n",
    "1. Get the best model: you just need to access to the attribute `best_estimator_` of the object `cv`. Store this into the variable `best_model`. <br>\n",
    "2. Get the best hyperparameter asssociated to the best model: you just need to access to the attribute `best_params_` of the object `cv`. Store this into the variable `best_params`. <br>\n",
    "3. Predict the target values on `X_test` by applying the `predict` method on the `best_model` you created in step 4. Store the results into the variable `y_pred_ridge_cv`. <br>\n",
    "5. Compute the RMSE on the predicted values by using the `mean_squared_error` method from the `sklearn.metrics` submodule. Wrap the whole function inside a `np.sqrt` method to take the root of the mean squared error. \n",
    "\n",
    "**Hint**: the `mean_squared_function` requires two arguments: `y_pred_ridge_cv` and `y_test`. <br>"
   ]
  },
  {
   "cell_type": "code",
   "execution_count": 48,
   "metadata": {},
   "outputs": [],
   "source": [
    "best_model = cv.best_estimator_\n",
    "best_params = cv.best_params_\n",
    "y_pred_ridge_cv = best_model.predict(X_test)\n",
    "rmse_ridge_cv = np.sqrt(mean_squared_error(y_pred_ridge_cv, y_test))"
   ]
  },
  {
   "cell_type": "code",
   "execution_count": 49,
   "metadata": {},
   "outputs": [
    {
     "name": "stdout",
     "output_type": "stream",
     "text": [
      "Best Ridge RMSE: 1.5253\n"
     ]
    }
   ],
   "source": [
    "print(f\"Best Ridge RMSE: {round(rmse_ridge_cv,4)}\")"
   ]
  },
  {
   "cell_type": "code",
   "execution_count": 50,
   "metadata": {},
   "outputs": [],
   "source": [
    "# ====================================\n",
    "# Validation Check\n",
    "# DO NOT CHANGE THIS CELL\n",
    "# ====================================\n",
    "vcf_08 =  [best_params['alpha'], round(rmse_ridge_cv,4)]\n",
    "with open('results/vcf_ml_regression_08.txt', 'w') as f:\n",
    "    for item in vcf_08:\n",
    "        f.write(\"%s\\n\" % item)"
   ]
  },
  {
   "cell_type": "markdown",
   "metadata": {},
   "source": [
    "Let us inspect the $R^2$ for the best model:"
   ]
  },
  {
   "cell_type": "code",
   "execution_count": 51,
   "metadata": {},
   "outputs": [
    {
     "data": {
      "text/plain": [
       "0.9998227624909393"
      ]
     },
     "execution_count": 51,
     "metadata": {},
     "output_type": "execute_result"
    }
   ],
   "source": [
    "best_model.score(X_train, y_train)"
   ]
  },
  {
   "cell_type": "markdown",
   "metadata": {},
   "source": [
    "Performances have really improved with grid search cross-validation. We can plot the predicted versus actual values to get a qualitative understanding of our model's performances."
   ]
  },
  {
   "cell_type": "code",
   "execution_count": 52,
   "metadata": {},
   "outputs": [],
   "source": [
    "test_pred_df_ridge_cv = pd.DataFrame()\n",
    "test_pred_df_ridge_cv['Date'] = df.iloc[-len(X_test):].index\n",
    "test_pred_df_ridge_cv['y_pred_Ridge_best'] = y_pred_ridge_cv\n",
    "test_pred_df_ridge_cv.set_index('Date', inplace=True)"
   ]
  },
  {
   "cell_type": "code",
   "execution_count": 53,
   "metadata": {},
   "outputs": [
    {
     "data": {
      "image/png": "[encoded data removed]",
      "text/plain": [
       "<Figure size 720x576 with 1 Axes>"
      ]
     },
     "metadata": {},
     "output_type": "display_data"
    }
   ],
   "source": [
    "import matplotlib.pyplot as plt\n",
    "with plt.style.context('seaborn'):\n",
    "    df.tail(test_pred_df_ridge_cv.shape[0])['Close'].plot(figsize=(10,8))\n",
    "    test_pred_df_ridge_cv['y_pred_Ridge_best'].plot(figsize=(10,8))"
   ]
  },
  {
   "cell_type": "markdown",
   "metadata": {},
   "source": [
    "That is pretty good, right? Let's compare the predicted values from both the best ridge model and the linear regression model with the actual values for a restricted time-window - say from Jan 01, 2021 to Mar 01, 2021. Ridge looks smoother somehow, compared to the regression model. Please, run the cell below to inspect this by yourself."
   ]
  },
  {
   "cell_type": "code",
   "execution_count": 64,
   "metadata": {},
   "outputs": [
    {
     "data": {
      "image/png": "[encoded data removed]",
      "text/plain": [
       "<Figure size 720x576 with 1 Axes>"
      ]
     },
     "metadata": {},
     "output_type": "display_data"
    }
   ],
   "source": [
    "import matplotlib.pyplot as plt\n",
    "with plt.style.context('seaborn'):\n",
    "    df.tail(test_pred_df_ridge_cv.shape[0])['Close'].plot(figsize=(10,8))\n",
    "    test_pred_df_lr['y_pred_LR'].plot(figsize=(10,8), color='orange', linestyle='--')\n",
    "    test_pred_df_ridge_cv['y_pred_Ridge_best'].plot(figsize=(10,8), color='green', linestyle=':')\n",
    "    plt.xlim('2021-01-01', '2021-03-01')\n",
    "    plt.ylim(140, 180)\n",
    "    plt.legend()"
   ]
  },
  {
   "cell_type": "markdown",
   "metadata": {},
   "source": [
    "## END"
   ]
  }
 ],
 "metadata": {
  "kernelspec": {
   "display_name": "Python 3",
   "language": "python",
   "name": "python3"
  },
  "language_info": {
   "codemirror_mode": {
    "name": "ipython",
    "version": 3
   },
   "file_extension": ".py",
   "mimetype": "text/x-python",
   "name": "python",
   "nbconvert_exporter": "python",
   "pygments_lexer": "ipython3",
   "version": "3.8.3"
  }
 },
 "nbformat": 4,
 "nbformat_minor": 5
}
