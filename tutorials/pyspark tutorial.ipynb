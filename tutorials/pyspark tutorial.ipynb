{
 "cells": [
  {
   "cell_type": "markdown",
   "id": "a38569da",
   "metadata": {},
   "source": [
    "# Learning Spark "
   ]
  },
  {
   "cell_type": "code",
   "execution_count": 1,
   "id": "dc6fbacb",
   "metadata": {},
   "outputs": [
    {
     "data": {
      "text/plain": [
       "'C:\\\\spark-3.3.0-bin-hadoop3'"
      ]
     },
     "execution_count": 1,
     "metadata": {},
     "output_type": "execute_result"
    }
   ],
   "source": [
    "## downloaded everything another way then used the following cmd to find it\n",
    "import findspark\n",
    "findspark.init()\n",
    "findspark.find()"
   ]
  },
  {
   "cell_type": "code",
   "execution_count": 2,
   "id": "317da201",
   "metadata": {},
   "outputs": [],
   "source": [
    "import pyspark\n",
    "import pandas as pd"
   ]
  },
  {
   "cell_type": "code",
   "execution_count": 3,
   "id": "37036d55",
   "metadata": {},
   "outputs": [],
   "source": [
    "from pyspark.sql import SparkSession\n",
    "spark = SparkSession.builder.appName('Practise').getOrCreate()"
   ]
  },
  {
   "cell_type": "code",
   "execution_count": 4,
   "id": "13adcccf",
   "metadata": {},
   "outputs": [
    {
     "data": {
      "text/html": [
       "\n",
       "            <div>\n",
       "                <p><b>SparkSession - in-memory</b></p>\n",
       "                \n",
       "        <div>\n",
       "            <p><b>SparkContext</b></p>\n",
       "\n",
       "            <p><a href=\"http://DESKTOP-GR6T3L7.home:4040\">Spark UI</a></p>\n",
       "\n",
       "            <dl>\n",
       "              <dt>Version</dt>\n",
       "                <dd><code>v3.3.0</code></dd>\n",
       "              <dt>Master</dt>\n",
       "                <dd><code>local[*]</code></dd>\n",
       "              <dt>AppName</dt>\n",
       "                <dd><code>Practise</code></dd>\n",
       "            </dl>\n",
       "        </div>\n",
       "        \n",
       "            </div>\n",
       "        "
      ],
      "text/plain": [
       "<pyspark.sql.session.SparkSession at 0x1f7ea3f0a60>"
      ]
     },
     "execution_count": 4,
     "metadata": {},
     "output_type": "execute_result"
    }
   ],
   "source": [
    "spark"
   ]
  },
  {
   "cell_type": "code",
   "execution_count": 5,
   "id": "d4096a59",
   "metadata": {},
   "outputs": [],
   "source": [
    "# localhost:4040 to bring up spark"
   ]
  },
  {
   "cell_type": "code",
   "execution_count": 6,
   "id": "2eb7aa78",
   "metadata": {},
   "outputs": [],
   "source": [
    "df_pyspark = spark.read.csv(r\"C:\\Users\\Abdulkadir\\Documents\\Programming\\Personal\\qa\\Python\\College.csv\")"
   ]
  },
  {
   "cell_type": "code",
   "execution_count": 7,
   "id": "e416be4e",
   "metadata": {},
   "outputs": [
    {
     "data": {
      "text/plain": [
       "DataFrame[_c0: string, _c1: string, _c2: string, _c3: string, _c4: string, _c5: string, _c6: string, _c7: string, _c8: string, _c9: string, _c10: string, _c11: string, _c12: string, _c13: string, _c14: string, _c15: string, _c16: string, _c17: string, _c18: string]"
      ]
     },
     "execution_count": 7,
     "metadata": {},
     "output_type": "execute_result"
    }
   ],
   "source": [
    "df_pyspark"
   ]
  },
  {
   "cell_type": "code",
   "execution_count": 8,
   "id": "a79e799e",
   "metadata": {},
   "outputs": [
    {
     "name": "stdout",
     "output_type": "stream",
     "text": [
      "+--------------------+-------+----+------+------+---------+---------+-----------+-----------+--------+----------+-----+--------+----+--------+---------+-----------+------+---------+\n",
      "|                 _c0|    _c1| _c2|   _c3|   _c4|      _c5|      _c6|        _c7|        _c8|     _c9|      _c10| _c11|    _c12|_c13|    _c14|     _c15|       _c16|  _c17|     _c18|\n",
      "+--------------------+-------+----+------+------+---------+---------+-----------+-----------+--------+----------+-----+--------+----+--------+---------+-----------+------+---------+\n",
      "|                null|Private|Apps|Accept|Enroll|Top10perc|Top25perc|F.Undergrad|P.Undergrad|Outstate|Room.Board|Books|Personal| PhD|Terminal|S.F.Ratio|perc.alumni|Expend|Grad.Rate|\n",
      "|Abilene Christian...|    Yes|1660|  1232|   721|       23|       52|       2885|        537|    7440|      3300|  450|    2200|  70|      78|     18.1|         12|  7041|       60|\n",
      "|  Adelphi University|    Yes|2186|  1924|   512|       16|       29|       2683|       1227|   12280|      6450|  750|    1500|  29|      30|     12.2|         16| 10527|       56|\n",
      "|      Adrian College|    Yes|1428|  1097|   336|       22|       50|       1036|         99|   11250|      3750|  400|    1165|  53|      66|     12.9|         30|  8735|       54|\n",
      "| Agnes Scott College|    Yes| 417|   349|   137|       60|       89|        510|         63|   12960|      5450|  450|     875|  92|      97|      7.7|         37| 19016|       59|\n",
      "+--------------------+-------+----+------+------+---------+---------+-----------+-----------+--------+----------+-----+--------+----+--------+---------+-----------+------+---------+\n",
      "only showing top 5 rows\n",
      "\n"
     ]
    }
   ],
   "source": [
    "# print head(5)\n",
    "df_pyspark.show(5)"
   ]
  },
  {
   "cell_type": "code",
   "execution_count": 9,
   "id": "76eee61d",
   "metadata": {},
   "outputs": [
    {
     "data": {
      "text/html": [
       "<div>\n",
       "<style scoped>\n",
       "    .dataframe tbody tr th:only-of-type {\n",
       "        vertical-align: middle;\n",
       "    }\n",
       "\n",
       "    .dataframe tbody tr th {\n",
       "        vertical-align: top;\n",
       "    }\n",
       "\n",
       "    .dataframe thead th {\n",
       "        text-align: right;\n",
       "    }\n",
       "</style>\n",
       "<table border=\"1\" class=\"dataframe\">\n",
       "  <thead>\n",
       "    <tr style=\"text-align: right;\">\n",
       "      <th></th>\n",
       "      <th>_c0</th>\n",
       "      <th>_c1</th>\n",
       "      <th>_c2</th>\n",
       "      <th>_c3</th>\n",
       "      <th>_c4</th>\n",
       "      <th>_c5</th>\n",
       "      <th>_c6</th>\n",
       "      <th>_c7</th>\n",
       "      <th>_c8</th>\n",
       "      <th>_c9</th>\n",
       "      <th>_c10</th>\n",
       "      <th>_c11</th>\n",
       "      <th>_c12</th>\n",
       "      <th>_c13</th>\n",
       "      <th>_c14</th>\n",
       "      <th>_c15</th>\n",
       "      <th>_c16</th>\n",
       "      <th>_c17</th>\n",
       "      <th>_c18</th>\n",
       "    </tr>\n",
       "  </thead>\n",
       "  <tbody>\n",
       "    <tr>\n",
       "      <th>0</th>\n",
       "      <td>None</td>\n",
       "      <td>Private</td>\n",
       "      <td>Apps</td>\n",
       "      <td>Accept</td>\n",
       "      <td>Enroll</td>\n",
       "      <td>Top10perc</td>\n",
       "      <td>Top25perc</td>\n",
       "      <td>F.Undergrad</td>\n",
       "      <td>P.Undergrad</td>\n",
       "      <td>Outstate</td>\n",
       "      <td>Room.Board</td>\n",
       "      <td>Books</td>\n",
       "      <td>Personal</td>\n",
       "      <td>PhD</td>\n",
       "      <td>Terminal</td>\n",
       "      <td>S.F.Ratio</td>\n",
       "      <td>perc.alumni</td>\n",
       "      <td>Expend</td>\n",
       "      <td>Grad.Rate</td>\n",
       "    </tr>\n",
       "    <tr>\n",
       "      <th>1</th>\n",
       "      <td>Abilene Christian University</td>\n",
       "      <td>Yes</td>\n",
       "      <td>1660</td>\n",
       "      <td>1232</td>\n",
       "      <td>721</td>\n",
       "      <td>23</td>\n",
       "      <td>52</td>\n",
       "      <td>2885</td>\n",
       "      <td>537</td>\n",
       "      <td>7440</td>\n",
       "      <td>3300</td>\n",
       "      <td>450</td>\n",
       "      <td>2200</td>\n",
       "      <td>70</td>\n",
       "      <td>78</td>\n",
       "      <td>18.1</td>\n",
       "      <td>12</td>\n",
       "      <td>7041</td>\n",
       "      <td>60</td>\n",
       "    </tr>\n",
       "    <tr>\n",
       "      <th>2</th>\n",
       "      <td>Adelphi University</td>\n",
       "      <td>Yes</td>\n",
       "      <td>2186</td>\n",
       "      <td>1924</td>\n",
       "      <td>512</td>\n",
       "      <td>16</td>\n",
       "      <td>29</td>\n",
       "      <td>2683</td>\n",
       "      <td>1227</td>\n",
       "      <td>12280</td>\n",
       "      <td>6450</td>\n",
       "      <td>750</td>\n",
       "      <td>1500</td>\n",
       "      <td>29</td>\n",
       "      <td>30</td>\n",
       "      <td>12.2</td>\n",
       "      <td>16</td>\n",
       "      <td>10527</td>\n",
       "      <td>56</td>\n",
       "    </tr>\n",
       "    <tr>\n",
       "      <th>3</th>\n",
       "      <td>Adrian College</td>\n",
       "      <td>Yes</td>\n",
       "      <td>1428</td>\n",
       "      <td>1097</td>\n",
       "      <td>336</td>\n",
       "      <td>22</td>\n",
       "      <td>50</td>\n",
       "      <td>1036</td>\n",
       "      <td>99</td>\n",
       "      <td>11250</td>\n",
       "      <td>3750</td>\n",
       "      <td>400</td>\n",
       "      <td>1165</td>\n",
       "      <td>53</td>\n",
       "      <td>66</td>\n",
       "      <td>12.9</td>\n",
       "      <td>30</td>\n",
       "      <td>8735</td>\n",
       "      <td>54</td>\n",
       "    </tr>\n",
       "    <tr>\n",
       "      <th>4</th>\n",
       "      <td>Agnes Scott College</td>\n",
       "      <td>Yes</td>\n",
       "      <td>417</td>\n",
       "      <td>349</td>\n",
       "      <td>137</td>\n",
       "      <td>60</td>\n",
       "      <td>89</td>\n",
       "      <td>510</td>\n",
       "      <td>63</td>\n",
       "      <td>12960</td>\n",
       "      <td>5450</td>\n",
       "      <td>450</td>\n",
       "      <td>875</td>\n",
       "      <td>92</td>\n",
       "      <td>97</td>\n",
       "      <td>7.7</td>\n",
       "      <td>37</td>\n",
       "      <td>19016</td>\n",
       "      <td>59</td>\n",
       "    </tr>\n",
       "  </tbody>\n",
       "</table>\n",
       "</div>"
      ],
      "text/plain": [
       "                            _c0      _c1   _c2     _c3     _c4        _c5  \\\n",
       "0                          None  Private  Apps  Accept  Enroll  Top10perc   \n",
       "1  Abilene Christian University      Yes  1660    1232     721         23   \n",
       "2            Adelphi University      Yes  2186    1924     512         16   \n",
       "3                Adrian College      Yes  1428    1097     336         22   \n",
       "4           Agnes Scott College      Yes   417     349     137         60   \n",
       "\n",
       "         _c6          _c7          _c8       _c9        _c10   _c11      _c12  \\\n",
       "0  Top25perc  F.Undergrad  P.Undergrad  Outstate  Room.Board  Books  Personal   \n",
       "1         52         2885          537      7440        3300    450      2200   \n",
       "2         29         2683         1227     12280        6450    750      1500   \n",
       "3         50         1036           99     11250        3750    400      1165   \n",
       "4         89          510           63     12960        5450    450       875   \n",
       "\n",
       "  _c13      _c14       _c15         _c16    _c17       _c18  \n",
       "0  PhD  Terminal  S.F.Ratio  perc.alumni  Expend  Grad.Rate  \n",
       "1   70        78       18.1           12    7041         60  \n",
       "2   29        30       12.2           16   10527         56  \n",
       "3   53        66       12.9           30    8735         54  \n",
       "4   92        97        7.7           37   19016         59  "
      ]
     },
     "execution_count": 9,
     "metadata": {},
     "output_type": "execute_result"
    }
   ],
   "source": [
    "# to pandas makes it a pandas df\n",
    "df_pyspark.toPandas().head()"
   ]
  },
  {
   "cell_type": "code",
   "execution_count": 10,
   "id": "4051fce5",
   "metadata": {},
   "outputs": [],
   "source": [
    "# header True to use header as header\n",
    "new_df = spark.read.option('header', True).csv(r\"C:\\Users\\Abdulkadir\\Documents\\Programming\\Personal\\qa\\Python\\College.csv\")"
   ]
  },
  {
   "cell_type": "code",
   "execution_count": 11,
   "id": "a736040a",
   "metadata": {},
   "outputs": [
    {
     "data": {
      "text/html": [
       "<div>\n",
       "<style scoped>\n",
       "    .dataframe tbody tr th:only-of-type {\n",
       "        vertical-align: middle;\n",
       "    }\n",
       "\n",
       "    .dataframe tbody tr th {\n",
       "        vertical-align: top;\n",
       "    }\n",
       "\n",
       "    .dataframe thead th {\n",
       "        text-align: right;\n",
       "    }\n",
       "</style>\n",
       "<table border=\"1\" class=\"dataframe\">\n",
       "  <thead>\n",
       "    <tr style=\"text-align: right;\">\n",
       "      <th></th>\n",
       "      <th>_c0</th>\n",
       "      <th>Private</th>\n",
       "      <th>Apps</th>\n",
       "      <th>Accept</th>\n",
       "      <th>Enroll</th>\n",
       "      <th>Top10perc</th>\n",
       "      <th>Top25perc</th>\n",
       "      <th>F.Undergrad</th>\n",
       "      <th>P.Undergrad</th>\n",
       "      <th>Outstate</th>\n",
       "      <th>Room.Board</th>\n",
       "      <th>Books</th>\n",
       "      <th>Personal</th>\n",
       "      <th>PhD</th>\n",
       "      <th>Terminal</th>\n",
       "      <th>S.F.Ratio</th>\n",
       "      <th>perc.alumni</th>\n",
       "      <th>Expend</th>\n",
       "      <th>Grad.Rate</th>\n",
       "    </tr>\n",
       "  </thead>\n",
       "  <tbody>\n",
       "    <tr>\n",
       "      <th>0</th>\n",
       "      <td>Abilene Christian University</td>\n",
       "      <td>Yes</td>\n",
       "      <td>1660</td>\n",
       "      <td>1232</td>\n",
       "      <td>721</td>\n",
       "      <td>23</td>\n",
       "      <td>52</td>\n",
       "      <td>2885</td>\n",
       "      <td>537</td>\n",
       "      <td>7440</td>\n",
       "      <td>3300</td>\n",
       "      <td>450</td>\n",
       "      <td>2200</td>\n",
       "      <td>70</td>\n",
       "      <td>78</td>\n",
       "      <td>18.1</td>\n",
       "      <td>12</td>\n",
       "      <td>7041</td>\n",
       "      <td>60</td>\n",
       "    </tr>\n",
       "    <tr>\n",
       "      <th>1</th>\n",
       "      <td>Adelphi University</td>\n",
       "      <td>Yes</td>\n",
       "      <td>2186</td>\n",
       "      <td>1924</td>\n",
       "      <td>512</td>\n",
       "      <td>16</td>\n",
       "      <td>29</td>\n",
       "      <td>2683</td>\n",
       "      <td>1227</td>\n",
       "      <td>12280</td>\n",
       "      <td>6450</td>\n",
       "      <td>750</td>\n",
       "      <td>1500</td>\n",
       "      <td>29</td>\n",
       "      <td>30</td>\n",
       "      <td>12.2</td>\n",
       "      <td>16</td>\n",
       "      <td>10527</td>\n",
       "      <td>56</td>\n",
       "    </tr>\n",
       "    <tr>\n",
       "      <th>2</th>\n",
       "      <td>Adrian College</td>\n",
       "      <td>Yes</td>\n",
       "      <td>1428</td>\n",
       "      <td>1097</td>\n",
       "      <td>336</td>\n",
       "      <td>22</td>\n",
       "      <td>50</td>\n",
       "      <td>1036</td>\n",
       "      <td>99</td>\n",
       "      <td>11250</td>\n",
       "      <td>3750</td>\n",
       "      <td>400</td>\n",
       "      <td>1165</td>\n",
       "      <td>53</td>\n",
       "      <td>66</td>\n",
       "      <td>12.9</td>\n",
       "      <td>30</td>\n",
       "      <td>8735</td>\n",
       "      <td>54</td>\n",
       "    </tr>\n",
       "    <tr>\n",
       "      <th>3</th>\n",
       "      <td>Agnes Scott College</td>\n",
       "      <td>Yes</td>\n",
       "      <td>417</td>\n",
       "      <td>349</td>\n",
       "      <td>137</td>\n",
       "      <td>60</td>\n",
       "      <td>89</td>\n",
       "      <td>510</td>\n",
       "      <td>63</td>\n",
       "      <td>12960</td>\n",
       "      <td>5450</td>\n",
       "      <td>450</td>\n",
       "      <td>875</td>\n",
       "      <td>92</td>\n",
       "      <td>97</td>\n",
       "      <td>7.7</td>\n",
       "      <td>37</td>\n",
       "      <td>19016</td>\n",
       "      <td>59</td>\n",
       "    </tr>\n",
       "    <tr>\n",
       "      <th>4</th>\n",
       "      <td>Alaska Pacific University</td>\n",
       "      <td>Yes</td>\n",
       "      <td>193</td>\n",
       "      <td>146</td>\n",
       "      <td>55</td>\n",
       "      <td>16</td>\n",
       "      <td>44</td>\n",
       "      <td>249</td>\n",
       "      <td>869</td>\n",
       "      <td>7560</td>\n",
       "      <td>4120</td>\n",
       "      <td>800</td>\n",
       "      <td>1500</td>\n",
       "      <td>76</td>\n",
       "      <td>72</td>\n",
       "      <td>11.9</td>\n",
       "      <td>2</td>\n",
       "      <td>10922</td>\n",
       "      <td>15</td>\n",
       "    </tr>\n",
       "  </tbody>\n",
       "</table>\n",
       "</div>"
      ],
      "text/plain": [
       "                            _c0 Private  Apps Accept Enroll Top10perc  \\\n",
       "0  Abilene Christian University     Yes  1660   1232    721        23   \n",
       "1            Adelphi University     Yes  2186   1924    512        16   \n",
       "2                Adrian College     Yes  1428   1097    336        22   \n",
       "3           Agnes Scott College     Yes   417    349    137        60   \n",
       "4     Alaska Pacific University     Yes   193    146     55        16   \n",
       "\n",
       "  Top25perc F.Undergrad P.Undergrad Outstate Room.Board Books Personal PhD  \\\n",
       "0        52        2885         537     7440       3300   450     2200  70   \n",
       "1        29        2683        1227    12280       6450   750     1500  29   \n",
       "2        50        1036          99    11250       3750   400     1165  53   \n",
       "3        89         510          63    12960       5450   450      875  92   \n",
       "4        44         249         869     7560       4120   800     1500  76   \n",
       "\n",
       "  Terminal S.F.Ratio perc.alumni Expend Grad.Rate  \n",
       "0       78      18.1          12   7041        60  \n",
       "1       30      12.2          16  10527        56  \n",
       "2       66      12.9          30   8735        54  \n",
       "3       97       7.7          37  19016        59  \n",
       "4       72      11.9           2  10922        15  "
      ]
     },
     "execution_count": 11,
     "metadata": {},
     "output_type": "execute_result"
    }
   ],
   "source": [
    "# print df into pandas format\n",
    "new_df.toPandas().head()"
   ]
  },
  {
   "cell_type": "code",
   "execution_count": 12,
   "id": "262a58c5",
   "metadata": {},
   "outputs": [],
   "source": [
    "# rename column name\n",
    "new_df = new_df.withColumnRenamed('_c0', 'University')"
   ]
  },
  {
   "cell_type": "code",
   "execution_count": 13,
   "id": "468f0d43",
   "metadata": {},
   "outputs": [
    {
     "data": {
      "text/plain": [
       "DataFrame[University: string, Private: string, Apps: string, Accept: string, Enroll: string, Top10perc: string, Top25perc: string, F.Undergrad: string, P.Undergrad: string, Outstate: string, Room.Board: string, Books: string, Personal: string, PhD: string, Terminal: string, S.F.Ratio: string, perc.alumni: string, Expend: string, Grad.Rate: string]"
      ]
     },
     "execution_count": 13,
     "metadata": {},
     "output_type": "execute_result"
    }
   ],
   "source": [
    "new_df"
   ]
  },
  {
   "cell_type": "code",
   "execution_count": 14,
   "id": "1155d057",
   "metadata": {},
   "outputs": [
    {
     "name": "stdout",
     "output_type": "stream",
     "text": [
      "root\n",
      " |-- University: string (nullable = true)\n",
      " |-- Private: string (nullable = true)\n",
      " |-- Apps: string (nullable = true)\n",
      " |-- Accept: string (nullable = true)\n",
      " |-- Enroll: string (nullable = true)\n",
      " |-- Top10perc: string (nullable = true)\n",
      " |-- Top25perc: string (nullable = true)\n",
      " |-- F.Undergrad: string (nullable = true)\n",
      " |-- P.Undergrad: string (nullable = true)\n",
      " |-- Outstate: string (nullable = true)\n",
      " |-- Room.Board: string (nullable = true)\n",
      " |-- Books: string (nullable = true)\n",
      " |-- Personal: string (nullable = true)\n",
      " |-- PhD: string (nullable = true)\n",
      " |-- Terminal: string (nullable = true)\n",
      " |-- S.F.Ratio: string (nullable = true)\n",
      " |-- perc.alumni: string (nullable = true)\n",
      " |-- Expend: string (nullable = true)\n",
      " |-- Grad.Rate: string (nullable = true)\n",
      "\n"
     ]
    }
   ],
   "source": [
    "# shows columns and data type\n",
    "new_df.printSchema()"
   ]
  },
  {
   "cell_type": "code",
   "execution_count": 15,
   "id": "d68b0537",
   "metadata": {},
   "outputs": [],
   "source": [
    "# all variables are taken as string by default therefore gotta use infer schema\n",
    "pyspark_df = spark.read.option('header', True).csv(r\"C:\\Users\\Abdulkadir\\Documents\\Programming\\Personal\\qa\\Python\\College.csv\", inferSchema=True)"
   ]
  },
  {
   "cell_type": "code",
   "execution_count": 16,
   "id": "0d055793",
   "metadata": {},
   "outputs": [],
   "source": [
    "pyspark_df = pyspark_df.withColumnRenamed('_c0', 'University')"
   ]
  },
  {
   "cell_type": "code",
   "execution_count": 17,
   "id": "4f84dea8",
   "metadata": {},
   "outputs": [
    {
     "name": "stdout",
     "output_type": "stream",
     "text": [
      "root\n",
      " |-- University: string (nullable = true)\n",
      " |-- Private: string (nullable = true)\n",
      " |-- Apps: integer (nullable = true)\n",
      " |-- Accept: integer (nullable = true)\n",
      " |-- Enroll: integer (nullable = true)\n",
      " |-- Top10perc: integer (nullable = true)\n",
      " |-- Top25perc: integer (nullable = true)\n",
      " |-- F.Undergrad: integer (nullable = true)\n",
      " |-- P.Undergrad: integer (nullable = true)\n",
      " |-- Outstate: integer (nullable = true)\n",
      " |-- Room.Board: integer (nullable = true)\n",
      " |-- Books: integer (nullable = true)\n",
      " |-- Personal: integer (nullable = true)\n",
      " |-- PhD: integer (nullable = true)\n",
      " |-- Terminal: integer (nullable = true)\n",
      " |-- S.F.Ratio: double (nullable = true)\n",
      " |-- perc.alumni: integer (nullable = true)\n",
      " |-- Expend: integer (nullable = true)\n",
      " |-- Grad.Rate: integer (nullable = true)\n",
      "\n"
     ]
    }
   ],
   "source": [
    "pyspark_df.printSchema()"
   ]
  },
  {
   "cell_type": "code",
   "execution_count": 18,
   "id": "0104fdd6",
   "metadata": {},
   "outputs": [
    {
     "data": {
      "text/plain": [
       "pyspark.sql.dataframe.DataFrame"
      ]
     },
     "execution_count": 18,
     "metadata": {},
     "output_type": "execute_result"
    }
   ],
   "source": [
    "type(pyspark_df)"
   ]
  },
  {
   "cell_type": "code",
   "execution_count": 19,
   "id": "72db4d23",
   "metadata": {},
   "outputs": [
    {
     "data": {
      "text/plain": [
       "['University',\n",
       " 'Private',\n",
       " 'Apps',\n",
       " 'Accept',\n",
       " 'Enroll',\n",
       " 'Top10perc',\n",
       " 'Top25perc',\n",
       " 'F.Undergrad',\n",
       " 'P.Undergrad',\n",
       " 'Outstate',\n",
       " 'Room.Board',\n",
       " 'Books',\n",
       " 'Personal',\n",
       " 'PhD',\n",
       " 'Terminal',\n",
       " 'S.F.Ratio',\n",
       " 'perc.alumni',\n",
       " 'Expend',\n",
       " 'Grad.Rate']"
      ]
     },
     "execution_count": 19,
     "metadata": {},
     "output_type": "execute_result"
    }
   ],
   "source": [
    "# selecting columns and indexing\n",
    "pyspark_df.columns"
   ]
  },
  {
   "cell_type": "code",
   "execution_count": 20,
   "id": "d98186f4",
   "metadata": {},
   "outputs": [
    {
     "data": {
      "text/plain": [
       "[Row(University='Abilene Christian University', Private='Yes', Apps=1660, Accept=1232, Enroll=721, Top10perc=23, Top25perc=52, F.Undergrad=2885, P.Undergrad=537, Outstate=7440, Room.Board=3300, Books=450, Personal=2200, PhD=70, Terminal=78, S.F.Ratio=18.1, perc.alumni=12, Expend=7041, Grad.Rate=60),\n",
       " Row(University='Adelphi University', Private='Yes', Apps=2186, Accept=1924, Enroll=512, Top10perc=16, Top25perc=29, F.Undergrad=2683, P.Undergrad=1227, Outstate=12280, Room.Board=6450, Books=750, Personal=1500, PhD=29, Terminal=30, S.F.Ratio=12.2, perc.alumni=16, Expend=10527, Grad.Rate=56)]"
      ]
     },
     "execution_count": 20,
     "metadata": {},
     "output_type": "execute_result"
    }
   ],
   "source": [
    "pyspark_df.head(2)"
   ]
  },
  {
   "cell_type": "code",
   "execution_count": 21,
   "id": "eeeabb4a",
   "metadata": {},
   "outputs": [
    {
     "name": "stdout",
     "output_type": "stream",
     "text": [
      "+--------------------+\n",
      "|          University|\n",
      "+--------------------+\n",
      "|Abilene Christian...|\n",
      "|  Adelphi University|\n",
      "|      Adrian College|\n",
      "| Agnes Scott College|\n",
      "|Alaska Pacific Un...|\n",
      "|   Albertson College|\n",
      "|Albertus Magnus C...|\n",
      "|      Albion College|\n",
      "|    Albright College|\n",
      "|Alderson-Broaddus...|\n",
      "|   Alfred University|\n",
      "|   Allegheny College|\n",
      "|Allentown Coll. o...|\n",
      "|        Alma College|\n",
      "|     Alverno College|\n",
      "|American Internat...|\n",
      "|     Amherst College|\n",
      "| Anderson University|\n",
      "|  Andrews University|\n",
      "|Angelo State Univ...|\n",
      "+--------------------+\n",
      "only showing top 20 rows\n",
      "\n"
     ]
    }
   ],
   "source": [
    "pyspark_df.select('University').show()"
   ]
  },
  {
   "cell_type": "code",
   "execution_count": 22,
   "id": "5f723bf9",
   "metadata": {},
   "outputs": [
    {
     "name": "stdout",
     "output_type": "stream",
     "text": [
      "+--------------------+------+------+\n",
      "|          University|Accept|Enroll|\n",
      "+--------------------+------+------+\n",
      "|Abilene Christian...|  1232|   721|\n",
      "|  Adelphi University|  1924|   512|\n",
      "|      Adrian College|  1097|   336|\n",
      "| Agnes Scott College|   349|   137|\n",
      "|Alaska Pacific Un...|   146|    55|\n",
      "|   Albertson College|   479|   158|\n",
      "|Albertus Magnus C...|   340|   103|\n",
      "|      Albion College|  1720|   489|\n",
      "|    Albright College|   839|   227|\n",
      "|Alderson-Broaddus...|   498|   172|\n",
      "|   Alfred University|  1425|   472|\n",
      "|   Allegheny College|  1900|   484|\n",
      "|Allentown Coll. o...|   780|   290|\n",
      "|        Alma College|  1080|   385|\n",
      "|     Alverno College|   313|   157|\n",
      "|American Internat...|  1093|   220|\n",
      "|     Amherst College|   992|   418|\n",
      "| Anderson University|   908|   423|\n",
      "|  Andrews University|   704|   322|\n",
      "|Angelo State Univ...|  2001|  1016|\n",
      "+--------------------+------+------+\n",
      "only showing top 20 rows\n",
      "\n"
     ]
    }
   ],
   "source": [
    "pyspark_df.select(['University', 'Accept', 'Enroll']).show()"
   ]
  },
  {
   "cell_type": "code",
   "execution_count": 23,
   "id": "d1e746a5",
   "metadata": {},
   "outputs": [
    {
     "data": {
      "text/plain": [
       "(Column<'Accept'>, Column<'Enroll'>, DataFrame[Accept: int, Enroll: int])"
      ]
     },
     "execution_count": 23,
     "metadata": {},
     "output_type": "execute_result"
    }
   ],
   "source": [
    "pyspark_df['Accept'], pyspark_df['Enroll'], pyspark_df[['Accept', 'Enroll']]"
   ]
  },
  {
   "cell_type": "code",
   "execution_count": 24,
   "id": "e234e135",
   "metadata": {},
   "outputs": [
    {
     "data": {
      "text/plain": [
       "[('University', 'string'),\n",
       " ('Private', 'string'),\n",
       " ('Apps', 'int'),\n",
       " ('Accept', 'int'),\n",
       " ('Enroll', 'int'),\n",
       " ('Top10perc', 'int'),\n",
       " ('Top25perc', 'int'),\n",
       " ('F.Undergrad', 'int'),\n",
       " ('P.Undergrad', 'int'),\n",
       " ('Outstate', 'int'),\n",
       " ('Room.Board', 'int'),\n",
       " ('Books', 'int'),\n",
       " ('Personal', 'int'),\n",
       " ('PhD', 'int'),\n",
       " ('Terminal', 'int'),\n",
       " ('S.F.Ratio', 'double'),\n",
       " ('perc.alumni', 'int'),\n",
       " ('Expend', 'int'),\n",
       " ('Grad.Rate', 'int')]"
      ]
     },
     "execution_count": 24,
     "metadata": {},
     "output_type": "execute_result"
    }
   ],
   "source": [
    "pyspark_df.dtypes"
   ]
  },
  {
   "cell_type": "code",
   "execution_count": 25,
   "id": "efdc905d",
   "metadata": {},
   "outputs": [
    {
     "data": {
      "text/plain": [
       "DataFrame[summary: string, University: string, Private: string, Apps: string, Accept: string, Enroll: string, Top10perc: string, Top25perc: string, F.Undergrad: string, P.Undergrad: string, Outstate: string, Room.Board: string, Books: string, Personal: string, PhD: string, Terminal: string, S.F.Ratio: string, perc.alumni: string, Expend: string, Grad.Rate: string]"
      ]
     },
     "execution_count": 25,
     "metadata": {},
     "output_type": "execute_result"
    }
   ],
   "source": [
    "pyspark_df.describe()"
   ]
  },
  {
   "cell_type": "code",
   "execution_count": 26,
   "id": "5d73cfca",
   "metadata": {},
   "outputs": [
    {
     "data": {
      "text/plain": [
       "['University',\n",
       " 'Private',\n",
       " 'Apps',\n",
       " 'Accept',\n",
       " 'Enroll',\n",
       " 'Top10perc',\n",
       " 'Top25perc',\n",
       " 'F.Undergrad',\n",
       " 'P.Undergrad',\n",
       " 'Outstate',\n",
       " 'Room.Board',\n",
       " 'Books',\n",
       " 'Personal',\n",
       " 'PhD',\n",
       " 'Terminal',\n",
       " 'S.F.Ratio',\n",
       " 'perc.alumni',\n",
       " 'Expend',\n",
       " 'Grad.Rate']"
      ]
     },
     "execution_count": 26,
     "metadata": {},
     "output_type": "execute_result"
    }
   ],
   "source": [
    "pyspark_df.columns"
   ]
  },
  {
   "cell_type": "code",
   "execution_count": 27,
   "id": "16702112",
   "metadata": {},
   "outputs": [
    {
     "name": "stdout",
     "output_type": "stream",
     "text": [
      "+-------+--------------------+------------------+----------------+\n",
      "|summary|          University|            Accept|          Enroll|\n",
      "+-------+--------------------+------------------+----------------+\n",
      "|  count|                 777|               777|             777|\n",
      "|   mean|                null|2018.8043758043757|779.972972972973|\n",
      "| stddev|                null|  2451.11397099263| 929.17619013287|\n",
      "|    min|Abilene Christian...|                72|              35|\n",
      "|    max|York College of P...|             26330|            6392|\n",
      "+-------+--------------------+------------------+----------------+\n",
      "\n"
     ]
    }
   ],
   "source": [
    "pyspark_df.select(['University', 'Accept', 'Enroll']).describe().show()"
   ]
  },
  {
   "cell_type": "code",
   "execution_count": 28,
   "id": "958e8409",
   "metadata": {},
   "outputs": [
    {
     "name": "stdout",
     "output_type": "stream",
     "text": [
      "+-------+--------------------+-------+------------------+------------------+----------------+------------------+------------------+-----------------+-----------------+------------------+------------------+------------------+------------------+------------------+------------------+------------------+------------------+----------------+------------------+\n",
      "|summary|          University|Private|              Apps|            Accept|          Enroll|         Top10perc|         Top25perc|      F.Undergrad|      P.Undergrad|          Outstate|        Room.Board|             Books|          Personal|               PhD|          Terminal|         S.F.Ratio|       perc.alumni|          Expend|         Grad.Rate|\n",
      "+-------+--------------------+-------+------------------+------------------+----------------+------------------+------------------+-----------------+-----------------+------------------+------------------+------------------+------------------+------------------+------------------+------------------+------------------+----------------+------------------+\n",
      "|  count|                 777|    777|               777|               777|             777|               777|               777|              777|              777|               777|               777|               777|               777|               777|               777|               777|               777|             777|               777|\n",
      "|   mean|                null|   null|3001.6383526383524|2018.8043758043757|779.972972972973| 27.55855855855856|  55.7966537966538|3699.907335907336|855.2985842985843| 10440.66924066924| 4357.526383526383| 549.3809523809524|1340.6422136422136| 72.66023166023166| 79.70270270270271|14.089703989703986|22.743886743886744|9660.17117117117| 65.46332046332046|\n",
      "| stddev|                null|   null|3870.2014844352884|  2451.11397099263| 929.17619013287|17.640364385452134|19.804777595131373|4850.420530887386|1522.431887295513|4023.0164841119727|1096.6964155935289|165.10536013709253|  677.071453590578|16.328154687939314|14.722358527903374|3.9583491352055478| 12.39180148937615|5221.76843985609|17.177709897155403|\n",
      "|    min|Abilene Christian...|     No|                81|                72|              35|                 1|                 9|              139|                1|              2340|              1780|                96|               250|                 8|                24|               2.5|                 0|            3186|                10|\n",
      "|    max|York College of P...|    Yes|             48094|             26330|            6392|                96|               100|            31643|            21836|             21700|              8124|              2340|              6800|               103|               100|              39.8|                64|           56233|               118|\n",
      "+-------+--------------------+-------+------------------+------------------+----------------+------------------+------------------+-----------------+-----------------+------------------+------------------+------------------+------------------+------------------+------------------+------------------+------------------+----------------+------------------+\n",
      "\n"
     ]
    }
   ],
   "source": [
    "pyspark_df.describe().show()"
   ]
  },
  {
   "cell_type": "code",
   "execution_count": 29,
   "id": "534a80d5",
   "metadata": {},
   "outputs": [
    {
     "data": {
      "text/html": [
       "<div>\n",
       "<style scoped>\n",
       "    .dataframe tbody tr th:only-of-type {\n",
       "        vertical-align: middle;\n",
       "    }\n",
       "\n",
       "    .dataframe tbody tr th {\n",
       "        vertical-align: top;\n",
       "    }\n",
       "\n",
       "    .dataframe thead th {\n",
       "        text-align: right;\n",
       "    }\n",
       "</style>\n",
       "<table border=\"1\" class=\"dataframe\">\n",
       "  <thead>\n",
       "    <tr style=\"text-align: right;\">\n",
       "      <th></th>\n",
       "      <th>summary</th>\n",
       "      <th>University</th>\n",
       "      <th>Private</th>\n",
       "      <th>Apps</th>\n",
       "      <th>Accept</th>\n",
       "      <th>Enroll</th>\n",
       "      <th>Top10perc</th>\n",
       "      <th>Top25perc</th>\n",
       "      <th>F.Undergrad</th>\n",
       "      <th>P.Undergrad</th>\n",
       "      <th>Outstate</th>\n",
       "      <th>Room.Board</th>\n",
       "      <th>Books</th>\n",
       "      <th>Personal</th>\n",
       "      <th>PhD</th>\n",
       "      <th>Terminal</th>\n",
       "      <th>S.F.Ratio</th>\n",
       "      <th>perc.alumni</th>\n",
       "      <th>Expend</th>\n",
       "      <th>Grad.Rate</th>\n",
       "    </tr>\n",
       "  </thead>\n",
       "  <tbody>\n",
       "    <tr>\n",
       "      <th>0</th>\n",
       "      <td>count</td>\n",
       "      <td>777</td>\n",
       "      <td>777</td>\n",
       "      <td>777</td>\n",
       "      <td>777</td>\n",
       "      <td>777</td>\n",
       "      <td>777</td>\n",
       "      <td>777</td>\n",
       "      <td>777</td>\n",
       "      <td>777</td>\n",
       "      <td>777</td>\n",
       "      <td>777</td>\n",
       "      <td>777</td>\n",
       "      <td>777</td>\n",
       "      <td>777</td>\n",
       "      <td>777</td>\n",
       "      <td>777</td>\n",
       "      <td>777</td>\n",
       "      <td>777</td>\n",
       "      <td>777</td>\n",
       "    </tr>\n",
       "    <tr>\n",
       "      <th>1</th>\n",
       "      <td>mean</td>\n",
       "      <td>None</td>\n",
       "      <td>None</td>\n",
       "      <td>3001.6383526383524</td>\n",
       "      <td>2018.8043758043757</td>\n",
       "      <td>779.972972972973</td>\n",
       "      <td>27.55855855855856</td>\n",
       "      <td>55.7966537966538</td>\n",
       "      <td>3699.907335907336</td>\n",
       "      <td>855.2985842985843</td>\n",
       "      <td>10440.66924066924</td>\n",
       "      <td>4357.526383526383</td>\n",
       "      <td>549.3809523809524</td>\n",
       "      <td>1340.6422136422136</td>\n",
       "      <td>72.66023166023166</td>\n",
       "      <td>79.70270270270271</td>\n",
       "      <td>14.089703989703986</td>\n",
       "      <td>22.743886743886744</td>\n",
       "      <td>9660.17117117117</td>\n",
       "      <td>65.46332046332046</td>\n",
       "    </tr>\n",
       "    <tr>\n",
       "      <th>2</th>\n",
       "      <td>stddev</td>\n",
       "      <td>None</td>\n",
       "      <td>None</td>\n",
       "      <td>3870.2014844352884</td>\n",
       "      <td>2451.11397099263</td>\n",
       "      <td>929.17619013287</td>\n",
       "      <td>17.640364385452134</td>\n",
       "      <td>19.804777595131373</td>\n",
       "      <td>4850.420530887386</td>\n",
       "      <td>1522.431887295513</td>\n",
       "      <td>4023.0164841119727</td>\n",
       "      <td>1096.6964155935289</td>\n",
       "      <td>165.10536013709253</td>\n",
       "      <td>677.071453590578</td>\n",
       "      <td>16.328154687939314</td>\n",
       "      <td>14.722358527903374</td>\n",
       "      <td>3.9583491352055478</td>\n",
       "      <td>12.39180148937615</td>\n",
       "      <td>5221.76843985609</td>\n",
       "      <td>17.177709897155403</td>\n",
       "    </tr>\n",
       "    <tr>\n",
       "      <th>3</th>\n",
       "      <td>min</td>\n",
       "      <td>Abilene Christian University</td>\n",
       "      <td>No</td>\n",
       "      <td>81</td>\n",
       "      <td>72</td>\n",
       "      <td>35</td>\n",
       "      <td>1</td>\n",
       "      <td>9</td>\n",
       "      <td>139</td>\n",
       "      <td>1</td>\n",
       "      <td>2340</td>\n",
       "      <td>1780</td>\n",
       "      <td>96</td>\n",
       "      <td>250</td>\n",
       "      <td>8</td>\n",
       "      <td>24</td>\n",
       "      <td>2.5</td>\n",
       "      <td>0</td>\n",
       "      <td>3186</td>\n",
       "      <td>10</td>\n",
       "    </tr>\n",
       "    <tr>\n",
       "      <th>4</th>\n",
       "      <td>max</td>\n",
       "      <td>York College of Pennsylvania</td>\n",
       "      <td>Yes</td>\n",
       "      <td>48094</td>\n",
       "      <td>26330</td>\n",
       "      <td>6392</td>\n",
       "      <td>96</td>\n",
       "      <td>100</td>\n",
       "      <td>31643</td>\n",
       "      <td>21836</td>\n",
       "      <td>21700</td>\n",
       "      <td>8124</td>\n",
       "      <td>2340</td>\n",
       "      <td>6800</td>\n",
       "      <td>103</td>\n",
       "      <td>100</td>\n",
       "      <td>39.8</td>\n",
       "      <td>64</td>\n",
       "      <td>56233</td>\n",
       "      <td>118</td>\n",
       "    </tr>\n",
       "  </tbody>\n",
       "</table>\n",
       "</div>"
      ],
      "text/plain": [
       "  summary                    University Private                Apps  \\\n",
       "0   count                           777     777                 777   \n",
       "1    mean                          None    None  3001.6383526383524   \n",
       "2  stddev                          None    None  3870.2014844352884   \n",
       "3     min  Abilene Christian University      No                  81   \n",
       "4     max  York College of Pennsylvania     Yes               48094   \n",
       "\n",
       "               Accept            Enroll           Top10perc  \\\n",
       "0                 777               777                 777   \n",
       "1  2018.8043758043757  779.972972972973   27.55855855855856   \n",
       "2    2451.11397099263   929.17619013287  17.640364385452134   \n",
       "3                  72                35                   1   \n",
       "4               26330              6392                  96   \n",
       "\n",
       "            Top25perc        F.Undergrad        P.Undergrad  \\\n",
       "0                 777                777                777   \n",
       "1    55.7966537966538  3699.907335907336  855.2985842985843   \n",
       "2  19.804777595131373  4850.420530887386  1522.431887295513   \n",
       "3                   9                139                  1   \n",
       "4                 100              31643              21836   \n",
       "\n",
       "             Outstate          Room.Board               Books  \\\n",
       "0                 777                 777                 777   \n",
       "1   10440.66924066924   4357.526383526383   549.3809523809524   \n",
       "2  4023.0164841119727  1096.6964155935289  165.10536013709253   \n",
       "3                2340                1780                  96   \n",
       "4               21700                8124                2340   \n",
       "\n",
       "             Personal                 PhD            Terminal  \\\n",
       "0                 777                 777                 777   \n",
       "1  1340.6422136422136   72.66023166023166   79.70270270270271   \n",
       "2    677.071453590578  16.328154687939314  14.722358527903374   \n",
       "3                 250                   8                  24   \n",
       "4                6800                 103                 100   \n",
       "\n",
       "            S.F.Ratio         perc.alumni            Expend  \\\n",
       "0                 777                 777               777   \n",
       "1  14.089703989703986  22.743886743886744  9660.17117117117   \n",
       "2  3.9583491352055478   12.39180148937615  5221.76843985609   \n",
       "3                 2.5                   0              3186   \n",
       "4                39.8                  64             56233   \n",
       "\n",
       "            Grad.Rate  \n",
       "0                 777  \n",
       "1   65.46332046332046  \n",
       "2  17.177709897155403  \n",
       "3                  10  \n",
       "4                 118  "
      ]
     },
     "execution_count": 29,
     "metadata": {},
     "output_type": "execute_result"
    }
   ],
   "source": [
    "# easier to see\n",
    "pyspark_df.describe().toPandas()"
   ]
  },
  {
   "cell_type": "code",
   "execution_count": 30,
   "id": "04137989",
   "metadata": {},
   "outputs": [],
   "source": [
    "# Adding columns in df: total undergrads\n",
    "pyspark_df = pyspark_df.withColumn('T.Undergrad', pyspark_df[\"`P.Undergrad`\"] + pyspark_df[\"`P.Undergrad`\"])"
   ]
  },
  {
   "cell_type": "code",
   "execution_count": 31,
   "id": "47eb947a",
   "metadata": {},
   "outputs": [
    {
     "data": {
      "text/plain": [
       "['University',\n",
       " 'Private',\n",
       " 'Apps',\n",
       " 'Accept',\n",
       " 'Enroll',\n",
       " 'Top10perc',\n",
       " 'Top25perc',\n",
       " 'F.Undergrad',\n",
       " 'P.Undergrad',\n",
       " 'Outstate',\n",
       " 'Room.Board',\n",
       " 'Books',\n",
       " 'Personal',\n",
       " 'PhD',\n",
       " 'Terminal',\n",
       " 'S.F.Ratio',\n",
       " 'perc.alumni',\n",
       " 'Expend',\n",
       " 'Grad.Rate',\n",
       " 'T.Undergrad']"
      ]
     },
     "execution_count": 31,
     "metadata": {},
     "output_type": "execute_result"
    }
   ],
   "source": [
    "pyspark_df.columns"
   ]
  },
  {
   "cell_type": "code",
   "execution_count": 32,
   "id": "27225c84",
   "metadata": {},
   "outputs": [
    {
     "name": "stdout",
     "output_type": "stream",
     "text": [
      "+-----------+\n",
      "|T.Undergrad|\n",
      "+-----------+\n",
      "|       1074|\n",
      "|       2454|\n",
      "|        198|\n",
      "|        126|\n",
      "|       1738|\n",
      "|         82|\n",
      "|        460|\n",
      "|         64|\n",
      "|        612|\n",
      "|        156|\n",
      "|        220|\n",
      "|         88|\n",
      "|       1276|\n",
      "|         56|\n",
      "|       2470|\n",
      "|        574|\n",
      "|         10|\n",
      "|        562|\n",
      "|        652|\n",
      "|       3024|\n",
      "+-----------+\n",
      "only showing top 20 rows\n",
      "\n"
     ]
    }
   ],
   "source": [
    "pyspark_df.select([\"`T.Undergrad`\"]).show()"
   ]
  },
  {
   "cell_type": "code",
   "execution_count": 33,
   "id": "4771d3d5",
   "metadata": {},
   "outputs": [],
   "source": [
    "# drop columns\n",
    "pyspark_df = pyspark_df.drop('T.Undergrad')"
   ]
  },
  {
   "cell_type": "code",
   "execution_count": 34,
   "id": "975fce7b",
   "metadata": {},
   "outputs": [
    {
     "data": {
      "text/plain": [
       "['University',\n",
       " 'Private',\n",
       " 'Apps',\n",
       " 'Accept',\n",
       " 'Enroll',\n",
       " 'Top10perc',\n",
       " 'Top25perc',\n",
       " 'F.Undergrad',\n",
       " 'P.Undergrad',\n",
       " 'Outstate',\n",
       " 'Room.Board',\n",
       " 'Books',\n",
       " 'Personal',\n",
       " 'PhD',\n",
       " 'Terminal',\n",
       " 'S.F.Ratio',\n",
       " 'perc.alumni',\n",
       " 'Expend',\n",
       " 'Grad.Rate']"
      ]
     },
     "execution_count": 34,
     "metadata": {},
     "output_type": "execute_result"
    }
   ],
   "source": [
    "pyspark_df.columns"
   ]
  },
  {
   "cell_type": "code",
   "execution_count": 35,
   "id": "5e0a8eac",
   "metadata": {},
   "outputs": [],
   "source": [
    "df = spark.read.csv(r\"C:\\Users\\Abdulkadir\\Documents\\Programming\\Personal\\DataScience\\pokemon_data.csv\", header=True, inferSchema=True)"
   ]
  },
  {
   "cell_type": "code",
   "execution_count": 36,
   "id": "5c40d3b6",
   "metadata": {
    "scrolled": false
   },
   "outputs": [
    {
     "name": "stdout",
     "output_type": "stream",
     "text": [
      "+---+--------------------+------+------+---+------+-------+-------+-------+-----+----------+---------+\n",
      "|  #|                Name|Type 1|Type 2| HP|Attack|Defense|Sp. Atk|Sp. Def|Speed|Generation|Legendary|\n",
      "+---+--------------------+------+------+---+------+-------+-------+-------+-----+----------+---------+\n",
      "|  1|           Bulbasaur| Grass|Poison| 45|    49|     49|     65|     65|   45|         1|    false|\n",
      "|  2|             Ivysaur| Grass|Poison| 60|    62|     63|     80|     80|   60|         1|    false|\n",
      "|  3|            Venusaur| Grass|Poison| 80|    82|     83|    100|    100|   80|         1|    false|\n",
      "|  3|VenusaurMega Venu...| Grass|Poison| 80|   100|    123|    122|    120|   80|         1|    false|\n",
      "|  4|          Charmander|  Fire|  null| 39|    52|     43|     60|     50|   65|         1|    false|\n",
      "|  5|          Charmeleon|  Fire|  null| 58|    64|     58|     80|     65|   80|         1|    false|\n",
      "|  6|           Charizard|  Fire|Flying| 78|    84|     78|    109|     85|  100|         1|    false|\n",
      "|  6|CharizardMega Cha...|  Fire|Dragon| 78|   130|    111|    130|     85|  100|         1|    false|\n",
      "|  6|CharizardMega Cha...|  Fire|Flying| 78|   104|     78|    159|    115|  100|         1|    false|\n",
      "|  7|            Squirtle| Water|  null| 44|    48|     65|     50|     64|   43|         1|    false|\n",
      "|  8|           Wartortle| Water|  null| 59|    63|     80|     65|     80|   58|         1|    false|\n",
      "|  9|           Blastoise| Water|  null| 79|    83|    100|     85|    105|   78|         1|    false|\n",
      "|  9|BlastoiseMega Bla...| Water|  null| 79|   103|    120|    135|    115|   78|         1|    false|\n",
      "| 10|            Caterpie|   Bug|  null| 45|    30|     35|     20|     20|   45|         1|    false|\n",
      "| 11|             Metapod|   Bug|  null| 50|    20|     55|     25|     25|   30|         1|    false|\n",
      "| 12|          Butterfree|   Bug|Flying| 60|    45|     50|     90|     80|   70|         1|    false|\n",
      "| 13|              Weedle|   Bug|Poison| 40|    35|     30|     20|     20|   50|         1|    false|\n",
      "| 14|              Kakuna|   Bug|Poison| 45|    25|     50|     25|     25|   35|         1|    false|\n",
      "| 15|            Beedrill|   Bug|Poison| 65|    90|     40|     45|     80|   75|         1|    false|\n",
      "| 15|BeedrillMega Beed...|   Bug|Poison| 65|   150|     40|     15|     80|  145|         1|    false|\n",
      "+---+--------------------+------+------+---+------+-------+-------+-------+-----+----------+---------+\n",
      "only showing top 20 rows\n",
      "\n"
     ]
    }
   ],
   "source": [
    "df.show()"
   ]
  },
  {
   "cell_type": "code",
   "execution_count": 37,
   "id": "c5d191a7",
   "metadata": {},
   "outputs": [],
   "source": [
    "# column name was creating problems with drop na\n",
    "df = df.withColumnRenamed(\"Sp. Atk\", 'SpAtk') \\\n",
    ".withColumnRenamed(\"Sp. Def\", 'SpDef')"
   ]
  },
  {
   "cell_type": "code",
   "execution_count": 38,
   "id": "c10457bb",
   "metadata": {},
   "outputs": [
    {
     "name": "stdout",
     "output_type": "stream",
     "text": [
      "+---+--------------------+------+------+---+------+-------+-----+-----+-----+----------+---------+\n",
      "|  #|                Name|Type 1|Type 2| HP|Attack|Defense|SpAtk|SpDef|Speed|Generation|Legendary|\n",
      "+---+--------------------+------+------+---+------+-------+-----+-----+-----+----------+---------+\n",
      "|  1|           Bulbasaur| Grass|Poison| 45|    49|     49|   65|   65|   45|         1|    false|\n",
      "|  2|             Ivysaur| Grass|Poison| 60|    62|     63|   80|   80|   60|         1|    false|\n",
      "|  3|            Venusaur| Grass|Poison| 80|    82|     83|  100|  100|   80|         1|    false|\n",
      "|  3|VenusaurMega Venu...| Grass|Poison| 80|   100|    123|  122|  120|   80|         1|    false|\n",
      "|  4|          Charmander|  Fire|  null| 39|    52|     43|   60|   50|   65|         1|    false|\n",
      "|  5|          Charmeleon|  Fire|  null| 58|    64|     58|   80|   65|   80|         1|    false|\n",
      "|  6|           Charizard|  Fire|Flying| 78|    84|     78|  109|   85|  100|         1|    false|\n",
      "|  6|CharizardMega Cha...|  Fire|Dragon| 78|   130|    111|  130|   85|  100|         1|    false|\n",
      "|  6|CharizardMega Cha...|  Fire|Flying| 78|   104|     78|  159|  115|  100|         1|    false|\n",
      "|  7|            Squirtle| Water|  null| 44|    48|     65|   50|   64|   43|         1|    false|\n",
      "|  8|           Wartortle| Water|  null| 59|    63|     80|   65|   80|   58|         1|    false|\n",
      "|  9|           Blastoise| Water|  null| 79|    83|    100|   85|  105|   78|         1|    false|\n",
      "|  9|BlastoiseMega Bla...| Water|  null| 79|   103|    120|  135|  115|   78|         1|    false|\n",
      "| 10|            Caterpie|   Bug|  null| 45|    30|     35|   20|   20|   45|         1|    false|\n",
      "| 11|             Metapod|   Bug|  null| 50|    20|     55|   25|   25|   30|         1|    false|\n",
      "| 12|          Butterfree|   Bug|Flying| 60|    45|     50|   90|   80|   70|         1|    false|\n",
      "| 13|              Weedle|   Bug|Poison| 40|    35|     30|   20|   20|   50|         1|    false|\n",
      "| 14|              Kakuna|   Bug|Poison| 45|    25|     50|   25|   25|   35|         1|    false|\n",
      "| 15|            Beedrill|   Bug|Poison| 65|    90|     40|   45|   80|   75|         1|    false|\n",
      "| 15|BeedrillMega Beed...|   Bug|Poison| 65|   150|     40|   15|   80|  145|         1|    false|\n",
      "+---+--------------------+------+------+---+------+-------+-----+-----+-----+----------+---------+\n",
      "only showing top 20 rows\n",
      "\n"
     ]
    }
   ],
   "source": [
    "df.show()"
   ]
  },
  {
   "cell_type": "code",
   "execution_count": 39,
   "id": "4433bfa8",
   "metadata": {},
   "outputs": [
    {
     "name": "stdout",
     "output_type": "stream",
     "text": [
      "+---+--------------------+------+------+---+------+-------+-----+-----+-----+----------+---------+\n",
      "|  #|                Name|Type 1|Type 2| HP|Attack|Defense|SpAtk|SpDef|Speed|Generation|Legendary|\n",
      "+---+--------------------+------+------+---+------+-------+-----+-----+-----+----------+---------+\n",
      "|  1|           Bulbasaur| Grass|Poison| 45|    49|     49|   65|   65|   45|         1|    false|\n",
      "|  2|             Ivysaur| Grass|Poison| 60|    62|     63|   80|   80|   60|         1|    false|\n",
      "|  3|            Venusaur| Grass|Poison| 80|    82|     83|  100|  100|   80|         1|    false|\n",
      "|  3|VenusaurMega Venu...| Grass|Poison| 80|   100|    123|  122|  120|   80|         1|    false|\n",
      "|  6|           Charizard|  Fire|Flying| 78|    84|     78|  109|   85|  100|         1|    false|\n",
      "|  6|CharizardMega Cha...|  Fire|Dragon| 78|   130|    111|  130|   85|  100|         1|    false|\n",
      "|  6|CharizardMega Cha...|  Fire|Flying| 78|   104|     78|  159|  115|  100|         1|    false|\n",
      "| 12|          Butterfree|   Bug|Flying| 60|    45|     50|   90|   80|   70|         1|    false|\n",
      "| 13|              Weedle|   Bug|Poison| 40|    35|     30|   20|   20|   50|         1|    false|\n",
      "| 14|              Kakuna|   Bug|Poison| 45|    25|     50|   25|   25|   35|         1|    false|\n",
      "| 15|            Beedrill|   Bug|Poison| 65|    90|     40|   45|   80|   75|         1|    false|\n",
      "| 15|BeedrillMega Beed...|   Bug|Poison| 65|   150|     40|   15|   80|  145|         1|    false|\n",
      "| 16|              Pidgey|Normal|Flying| 40|    45|     40|   35|   35|   56|         1|    false|\n",
      "| 17|           Pidgeotto|Normal|Flying| 63|    60|     55|   50|   50|   71|         1|    false|\n",
      "| 18|             Pidgeot|Normal|Flying| 83|    80|     75|   70|   70|  101|         1|    false|\n",
      "| 18| PidgeotMega Pidgeot|Normal|Flying| 83|    80|     80|  135|   80|  121|         1|    false|\n",
      "| 21|             Spearow|Normal|Flying| 40|    60|     30|   31|   31|   70|         1|    false|\n",
      "| 22|              Fearow|Normal|Flying| 65|    90|     65|   61|   61|  100|         1|    false|\n",
      "| 31|           Nidoqueen|Poison|Ground| 90|    92|     87|   75|   85|   76|         1|    false|\n",
      "| 34|            Nidoking|Poison|Ground| 81|   102|     77|   85|   75|   85|         1|    false|\n",
      "+---+--------------------+------+------+---+------+-------+-----+-----+-----+----------+---------+\n",
      "only showing top 20 rows\n",
      "\n"
     ]
    }
   ],
   "source": [
    "# drop null values\n",
    "df.na.drop().show()"
   ]
  },
  {
   "cell_type": "code",
   "execution_count": 40,
   "id": "2d680f76",
   "metadata": {},
   "outputs": [
    {
     "data": {
      "text/plain": [
       "(800, 414)"
      ]
     },
     "execution_count": 40,
     "metadata": {},
     "output_type": "execute_result"
    }
   ],
   "source": [
    "df.count(), df.na.drop().count()"
   ]
  },
  {
   "cell_type": "code",
   "execution_count": 41,
   "id": "ac6c2d1f",
   "metadata": {},
   "outputs": [
    {
     "data": {
      "text/plain": [
       "800"
      ]
     },
     "execution_count": 41,
     "metadata": {},
     "output_type": "execute_result"
    }
   ],
   "source": [
    "df.count()"
   ]
  },
  {
   "cell_type": "code",
   "execution_count": 42,
   "id": "5b69698b",
   "metadata": {},
   "outputs": [
    {
     "name": "stdout",
     "output_type": "stream",
     "text": [
      "+---+--------------------+------+--------------+---+------+-------+-----+-----+-----+----------+---------+\n",
      "|  #|                Name|Type 1|        Type 2| HP|Attack|Defense|SpAtk|SpDef|Speed|Generation|Legendary|\n",
      "+---+--------------------+------+--------------+---+------+-------+-----+-----+-----+----------+---------+\n",
      "|  1|           Bulbasaur| Grass|        Poison| 45|    49|     49|   65|   65|   45|         1|    false|\n",
      "|  2|             Ivysaur| Grass|        Poison| 60|    62|     63|   80|   80|   60|         1|    false|\n",
      "|  3|            Venusaur| Grass|        Poison| 80|    82|     83|  100|  100|   80|         1|    false|\n",
      "|  3|VenusaurMega Venu...| Grass|        Poison| 80|   100|    123|  122|  120|   80|         1|    false|\n",
      "|  4|          Charmander|  Fire|missing values| 39|    52|     43|   60|   50|   65|         1|    false|\n",
      "|  5|          Charmeleon|  Fire|missing values| 58|    64|     58|   80|   65|   80|         1|    false|\n",
      "|  6|           Charizard|  Fire|        Flying| 78|    84|     78|  109|   85|  100|         1|    false|\n",
      "|  6|CharizardMega Cha...|  Fire|        Dragon| 78|   130|    111|  130|   85|  100|         1|    false|\n",
      "|  6|CharizardMega Cha...|  Fire|        Flying| 78|   104|     78|  159|  115|  100|         1|    false|\n",
      "|  7|            Squirtle| Water|missing values| 44|    48|     65|   50|   64|   43|         1|    false|\n",
      "|  8|           Wartortle| Water|missing values| 59|    63|     80|   65|   80|   58|         1|    false|\n",
      "|  9|           Blastoise| Water|missing values| 79|    83|    100|   85|  105|   78|         1|    false|\n",
      "|  9|BlastoiseMega Bla...| Water|missing values| 79|   103|    120|  135|  115|   78|         1|    false|\n",
      "| 10|            Caterpie|   Bug|missing values| 45|    30|     35|   20|   20|   45|         1|    false|\n",
      "| 11|             Metapod|   Bug|missing values| 50|    20|     55|   25|   25|   30|         1|    false|\n",
      "| 12|          Butterfree|   Bug|        Flying| 60|    45|     50|   90|   80|   70|         1|    false|\n",
      "| 13|              Weedle|   Bug|        Poison| 40|    35|     30|   20|   20|   50|         1|    false|\n",
      "| 14|              Kakuna|   Bug|        Poison| 45|    25|     50|   25|   25|   35|         1|    false|\n",
      "| 15|            Beedrill|   Bug|        Poison| 65|    90|     40|   45|   80|   75|         1|    false|\n",
      "| 15|BeedrillMega Beed...|   Bug|        Poison| 65|   150|     40|   15|   80|  145|         1|    false|\n",
      "+---+--------------------+------+--------------+---+------+-------+-----+-----+-----+----------+---------+\n",
      "only showing top 20 rows\n",
      "\n"
     ]
    }
   ],
   "source": [
    "df.na.fill('missing values').show()"
   ]
  },
  {
   "cell_type": "code",
   "execution_count": 43,
   "id": "e5ab7dbc",
   "metadata": {
    "scrolled": false
   },
   "outputs": [
    {
     "name": "stdout",
     "output_type": "stream",
     "text": [
      "+---+--------------------+------+--------------+---+------+-------+-----+-----+-----+----------+---------+\n",
      "|  #|                Name|Type 1|        Type 2| HP|Attack|Defense|SpAtk|SpDef|Speed|Generation|Legendary|\n",
      "+---+--------------------+------+--------------+---+------+-------+-----+-----+-----+----------+---------+\n",
      "|  1|           Bulbasaur| Grass|        Poison| 45|    49|     49|   65|   65|   45|         1|    false|\n",
      "|  2|             Ivysaur| Grass|        Poison| 60|    62|     63|   80|   80|   60|         1|    false|\n",
      "|  3|            Venusaur| Grass|        Poison| 80|    82|     83|  100|  100|   80|         1|    false|\n",
      "|  3|VenusaurMega Venu...| Grass|        Poison| 80|   100|    123|  122|  120|   80|         1|    false|\n",
      "|  4|          Charmander|  Fire|missing values| 39|    52|     43|   60|   50|   65|         1|    false|\n",
      "|  5|          Charmeleon|  Fire|missing values| 58|    64|     58|   80|   65|   80|         1|    false|\n",
      "|  6|           Charizard|  Fire|        Flying| 78|    84|     78|  109|   85|  100|         1|    false|\n",
      "|  6|CharizardMega Cha...|  Fire|        Dragon| 78|   130|    111|  130|   85|  100|         1|    false|\n",
      "|  6|CharizardMega Cha...|  Fire|        Flying| 78|   104|     78|  159|  115|  100|         1|    false|\n",
      "|  7|            Squirtle| Water|missing values| 44|    48|     65|   50|   64|   43|         1|    false|\n",
      "|  8|           Wartortle| Water|missing values| 59|    63|     80|   65|   80|   58|         1|    false|\n",
      "|  9|           Blastoise| Water|missing values| 79|    83|    100|   85|  105|   78|         1|    false|\n",
      "|  9|BlastoiseMega Bla...| Water|missing values| 79|   103|    120|  135|  115|   78|         1|    false|\n",
      "| 10|            Caterpie|   Bug|missing values| 45|    30|     35|   20|   20|   45|         1|    false|\n",
      "| 11|             Metapod|   Bug|missing values| 50|    20|     55|   25|   25|   30|         1|    false|\n",
      "| 12|          Butterfree|   Bug|        Flying| 60|    45|     50|   90|   80|   70|         1|    false|\n",
      "| 13|              Weedle|   Bug|        Poison| 40|    35|     30|   20|   20|   50|         1|    false|\n",
      "| 14|              Kakuna|   Bug|        Poison| 45|    25|     50|   25|   25|   35|         1|    false|\n",
      "| 15|            Beedrill|   Bug|        Poison| 65|    90|     40|   45|   80|   75|         1|    false|\n",
      "| 15|BeedrillMega Beed...|   Bug|        Poison| 65|   150|     40|   15|   80|  145|         1|    false|\n",
      "+---+--------------------+------+--------------+---+------+-------+-----+-----+-----+----------+---------+\n",
      "only showing top 20 rows\n",
      "\n"
     ]
    }
   ],
   "source": [
    "df.na.fill('missing values', subset=['Type 2']).show()"
   ]
  },
  {
   "cell_type": "code",
   "execution_count": 44,
   "id": "7683f0e8",
   "metadata": {},
   "outputs": [],
   "source": [
    "df = spark.read.csv(r\"C:\\Users\\Abdulkadir\\Documents\\Programming\\Personal\\qa\\Python\\loan_data.csv\", header=True, inferSchema=True)"
   ]
  },
  {
   "cell_type": "code",
   "execution_count": 45,
   "id": "05ab538a",
   "metadata": {
    "scrolled": false
   },
   "outputs": [
    {
     "name": "stdout",
     "output_type": "stream",
     "text": [
      "+---+-------+----------+-------+------+-----+-------+\n",
      "| ID| Income|      Term|Balance|  Debt|Score|Default|\n",
      "+---+-------+----------+-------+------+-----+-------+\n",
      "|567|17500.0|Short Term| 1460.0| 272.0|225.0|  false|\n",
      "|523|18500.0| Long Term|  890.0| 970.0|187.0|  false|\n",
      "|544|20700.0|Short Term|  880.0| 884.0| 85.0|  false|\n",
      "|370|21600.0|Short Term|  920.0|   0.0| null|  false|\n",
      "|756|24300.0|Short Term| 1260.0|   0.0|495.0|  false|\n",
      "|929|22900.0| Long Term| 1540.0|1229.0|383.0|  false|\n",
      "|373|20400.0|Short Term| 1200.0|   0.0|556.0|  false|\n",
      "|818|24600.0|Short Term| 1470.0|   0.0|301.0|  false|\n",
      "|284|26500.0| Long Term|  720.0|1866.0|243.0|  false|\n",
      "|621|25400.0|Short Term| 1130.0|   0.0|729.0|   true|\n",
      "|404|19700.0|Short Term|  910.0|   0.0|186.0|  false|\n",
      "|763|20600.0|Short Term|  820.0|1218.0|136.0|  false|\n",
      "|327|19300.0| Long Term| 1300.0|   0.0|422.0|  false|\n",
      "|664|23700.0|Short Term| 1060.0| 801.0|240.0|  false|\n",
      "|590|18800.0|Short Term|  970.0|1542.0| 59.0|   true|\n",
      "| 24|23200.0|Short Term|  610.0|   0.0|325.0|  false|\n",
      "|931|18100.0|Short Term| 1020.0|2133.0| 34.0|   true|\n",
      "|400|18400.0|Short Term|  940.0| 892.0|195.0|   true|\n",
      "|905|17200.0|Short Term| 1140.0| 855.0|128.0|  false|\n",
      "|556|20200.0|Short Term|  810.0|   0.0|399.0|  false|\n",
      "+---+-------+----------+-------+------+-----+-------+\n",
      "only showing top 20 rows\n",
      "\n"
     ]
    }
   ],
   "source": [
    "df.show()"
   ]
  },
  {
   "cell_type": "code",
   "execution_count": 46,
   "id": "da6f4539",
   "metadata": {},
   "outputs": [
    {
     "data": {
      "text/plain": [
       "[('ID', 'int'),\n",
       " ('Income', 'double'),\n",
       " ('Term', 'string'),\n",
       " ('Balance', 'double'),\n",
       " ('Debt', 'double'),\n",
       " ('Score', 'double'),\n",
       " ('Default', 'boolean')]"
      ]
     },
     "execution_count": 46,
     "metadata": {},
     "output_type": "execute_result"
    }
   ],
   "source": [
    "df.dtypes"
   ]
  },
  {
   "cell_type": "code",
   "execution_count": 47,
   "id": "3d62a377",
   "metadata": {},
   "outputs": [
    {
     "data": {
      "text/plain": [
       "(856, 836)"
      ]
     },
     "execution_count": 47,
     "metadata": {},
     "output_type": "execute_result"
    }
   ],
   "source": [
    "df.count(), df.na.drop().count()"
   ]
  },
  {
   "cell_type": "code",
   "execution_count": 48,
   "id": "13360fb0",
   "metadata": {},
   "outputs": [
    {
     "data": {
      "text/plain": [
       "ID          0\n",
       "Income      0\n",
       "Term        0\n",
       "Balance     0\n",
       "Debt        0\n",
       "Score      20\n",
       "Default     0\n",
       "dtype: int64"
      ]
     },
     "execution_count": 48,
     "metadata": {},
     "output_type": "execute_result"
    }
   ],
   "source": [
    "df.toPandas().isnull().sum()"
   ]
  },
  {
   "cell_type": "code",
   "execution_count": 49,
   "id": "70ebebf5",
   "metadata": {},
   "outputs": [],
   "source": [
    "# filling in values\n",
    "from pyspark.ml.feature import Imputer\n",
    "\n",
    "imputer = Imputer(\n",
    "    inputCols=['Score'],\n",
    "    outputCols=[f'{format(c)}_imputed' for c in ['Score']]\n",
    ").setStrategy('mean')"
   ]
  },
  {
   "cell_type": "code",
   "execution_count": 54,
   "id": "b53a05cc",
   "metadata": {},
   "outputs": [
    {
     "name": "stdout",
     "output_type": "stream",
     "text": [
      "+---+-------+----------+-------+------+-----+-------+------------------+\n",
      "| ID| Income|      Term|Balance|  Debt|Score|Default|     Score_imputed|\n",
      "+---+-------+----------+-------+------+-----+-------+------------------+\n",
      "|567|17500.0|Short Term| 1460.0| 272.0|225.0|  false|             225.0|\n",
      "|523|18500.0| Long Term|  890.0| 970.0|187.0|  false|             187.0|\n",
      "|544|20700.0|Short Term|  880.0| 884.0| 85.0|  false|              85.0|\n",
      "|370|21600.0|Short Term|  920.0|   0.0| null|  false|450.92224880382776|\n",
      "|756|24300.0|Short Term| 1260.0|   0.0|495.0|  false|             495.0|\n",
      "|929|22900.0| Long Term| 1540.0|1229.0|383.0|  false|             383.0|\n",
      "|373|20400.0|Short Term| 1200.0|   0.0|556.0|  false|             556.0|\n",
      "|818|24600.0|Short Term| 1470.0|   0.0|301.0|  false|             301.0|\n",
      "|284|26500.0| Long Term|  720.0|1866.0|243.0|  false|             243.0|\n",
      "|621|25400.0|Short Term| 1130.0|   0.0|729.0|   true|             729.0|\n",
      "|404|19700.0|Short Term|  910.0|   0.0|186.0|  false|             186.0|\n",
      "|763|20600.0|Short Term|  820.0|1218.0|136.0|  false|             136.0|\n",
      "|327|19300.0| Long Term| 1300.0|   0.0|422.0|  false|             422.0|\n",
      "|664|23700.0|Short Term| 1060.0| 801.0|240.0|  false|             240.0|\n",
      "|590|18800.0|Short Term|  970.0|1542.0| 59.0|   true|              59.0|\n",
      "| 24|23200.0|Short Term|  610.0|   0.0|325.0|  false|             325.0|\n",
      "|931|18100.0|Short Term| 1020.0|2133.0| 34.0|   true|              34.0|\n",
      "|400|18400.0|Short Term|  940.0| 892.0|195.0|   true|             195.0|\n",
      "|905|17200.0|Short Term| 1140.0| 855.0|128.0|  false|             128.0|\n",
      "|556|20200.0|Short Term|  810.0|   0.0|399.0|  false|             399.0|\n",
      "+---+-------+----------+-------+------+-----+-------+------------------+\n",
      "only showing top 20 rows\n",
      "\n"
     ]
    }
   ],
   "source": [
    "view = imputer.fit(df).transform(df).show()"
   ]
  },
  {
   "cell_type": "code",
   "execution_count": 55,
   "id": "6276e842",
   "metadata": {},
   "outputs": [
    {
     "data": {
      "text/plain": [
       "NoneType"
      ]
     },
     "execution_count": 55,
     "metadata": {},
     "output_type": "execute_result"
    }
   ],
   "source": [
    "type(view)"
   ]
  },
  {
   "cell_type": "code",
   "execution_count": 51,
   "id": "2f6c2583",
   "metadata": {},
   "outputs": [
    {
     "data": {
      "text/plain": [
       "pyspark.sql.dataframe.DataFrame"
      ]
     },
     "execution_count": 51,
     "metadata": {},
     "output_type": "execute_result"
    }
   ],
   "source": [
    "type(df)"
   ]
  },
  {
   "cell_type": "code",
   "execution_count": 52,
   "id": "bfbfe668",
   "metadata": {},
   "outputs": [],
   "source": [
    "#filtering"
   ]
  },
  {
   "cell_type": "code",
   "execution_count": 57,
   "id": "cd456def",
   "metadata": {},
   "outputs": [
    {
     "name": "stdout",
     "output_type": "stream",
     "text": [
      "+---+-------+----------+-------+------+-----+-------+\n",
      "| ID| Income|      Term|Balance|  Debt|Score|Default|\n",
      "+---+-------+----------+-------+------+-----+-------+\n",
      "|900|18700.0|Short Term|  390.0|   0.0|349.0|  false|\n",
      "|800|19000.0| Long Term|  140.0|1185.0|125.0|  false|\n",
      "|665|15100.0|Short Term|  390.0| 617.0|152.0|  false|\n",
      "|252|17000.0|Short Term|  360.0|1537.0| 49.0|   true|\n",
      "|678|21200.0|Short Term|  360.0| 575.0|250.0|  false|\n",
      "+---+-------+----------+-------+------+-----+-------+\n",
      "\n"
     ]
    }
   ],
   "source": [
    "df.filter('Balance<=400').show()"
   ]
  },
  {
   "cell_type": "code",
   "execution_count": 59,
   "id": "0d8b4710",
   "metadata": {},
   "outputs": [
    {
     "name": "stdout",
     "output_type": "stream",
     "text": [
      "+---+-------+----------+-------+------+-----+-------+\n",
      "| ID| Income|      Term|Balance|  Debt|Score|Default|\n",
      "+---+-------+----------+-------+------+-----+-------+\n",
      "|523|18500.0| Long Term|  890.0| 970.0|187.0|  false|\n",
      "|544|20700.0|Short Term|  880.0| 884.0| 85.0|  false|\n",
      "|284|26500.0| Long Term|  720.0|1866.0|243.0|  false|\n",
      "|763|20600.0|Short Term|  820.0|1218.0|136.0|  false|\n",
      "|422|21200.0|Short Term|  730.0| 975.0| 88.0|  false|\n",
      "| 73|16400.0|Short Term|  780.0|1076.0|145.0|  false|\n",
      "|606|18800.0|Short Term|  800.0| 324.0|347.0|  false|\n",
      "|716|19800.0|Short Term|  800.0| 843.0|243.0|  false|\n",
      "|158|23700.0|Short Term|  880.0| 703.0|316.0|   true|\n",
      "|782|19000.0|Short Term|  640.0| 449.0|201.0|  false|\n",
      "|566|21300.0|Short Term|  830.0| 793.0|237.0|  false|\n",
      "|301|18600.0|Short Term|  520.0| 500.0|268.0|  false|\n",
      "|643|21300.0|Short Term|  680.0| 364.0| null|  false|\n",
      "|767|20600.0|Short Term|  630.0| 758.0|265.0|  false|\n",
      "|361|24400.0|Short Term|  750.0|2573.0| 71.0|   true|\n",
      "|979|19800.0|Short Term|  830.0|1172.0|215.0|  false|\n",
      "|103|19500.0|Short Term|  630.0| 416.0|280.0|  false|\n",
      "|741|20000.0|Short Term|  690.0|1378.0|141.0|  false|\n",
      "|944|22300.0|Short Term|  700.0|1388.0|198.0|  false|\n",
      "|630|22500.0|Short Term|  830.0|1027.0|145.0|  false|\n",
      "+---+-------+----------+-------+------+-----+-------+\n",
      "only showing top 20 rows\n",
      "\n"
     ]
    }
   ],
   "source": [
    "df.filter((df['Balance'] < 900) & (df['Debt'] > 300)).show()"
   ]
  },
  {
   "cell_type": "code",
   "execution_count": 60,
   "id": "52e335fc",
   "metadata": {},
   "outputs": [
    {
     "name": "stdout",
     "output_type": "stream",
     "text": [
      "+---+-------+----------+-------+------+-----+-------+\n",
      "| ID| Income|      Term|Balance|  Debt|Score|Default|\n",
      "+---+-------+----------+-------+------+-----+-------+\n",
      "|567|17500.0|Short Term| 1460.0| 272.0|225.0|  false|\n",
      "|523|18500.0| Long Term|  890.0| 970.0|187.0|  false|\n",
      "|544|20700.0|Short Term|  880.0| 884.0| 85.0|  false|\n",
      "|370|21600.0|Short Term|  920.0|   0.0| null|  false|\n",
      "|756|24300.0|Short Term| 1260.0|   0.0|495.0|  false|\n",
      "|929|22900.0| Long Term| 1540.0|1229.0|383.0|  false|\n",
      "|373|20400.0|Short Term| 1200.0|   0.0|556.0|  false|\n",
      "|818|24600.0|Short Term| 1470.0|   0.0|301.0|  false|\n",
      "|284|26500.0| Long Term|  720.0|1866.0|243.0|  false|\n",
      "|621|25400.0|Short Term| 1130.0|   0.0|729.0|   true|\n",
      "|404|19700.0|Short Term|  910.0|   0.0|186.0|  false|\n",
      "|763|20600.0|Short Term|  820.0|1218.0|136.0|  false|\n",
      "|327|19300.0| Long Term| 1300.0|   0.0|422.0|  false|\n",
      "|664|23700.0|Short Term| 1060.0| 801.0|240.0|  false|\n",
      "|590|18800.0|Short Term|  970.0|1542.0| 59.0|   true|\n",
      "| 24|23200.0|Short Term|  610.0|   0.0|325.0|  false|\n",
      "|931|18100.0|Short Term| 1020.0|2133.0| 34.0|   true|\n",
      "|400|18400.0|Short Term|  940.0| 892.0|195.0|   true|\n",
      "|905|17200.0|Short Term| 1140.0| 855.0|128.0|  false|\n",
      "|556|20200.0|Short Term|  810.0|   0.0|399.0|  false|\n",
      "+---+-------+----------+-------+------+-----+-------+\n",
      "only showing top 20 rows\n",
      "\n"
     ]
    }
   ],
   "source": [
    "# groupby and agg\n",
    "df.show()"
   ]
  },
  {
   "cell_type": "code",
   "execution_count": 64,
   "id": "f95452d1",
   "metadata": {},
   "outputs": [
    {
     "name": "stdout",
     "output_type": "stream",
     "text": [
      "+----------+-----------+------------------+\n",
      "|      Term|max(Income)|      avg(Balance)|\n",
      "+----------+-----------+------------------+\n",
      "| Long Term|    81900.0|1334.0808823529412|\n",
      "|Short Term|    86000.0|1158.5616438356165|\n",
      "+----------+-----------+------------------+\n",
      "\n"
     ]
    }
   ],
   "source": [
    "df.groupBy('Term').agg({'Balance':'mean', 'Income':'max'}).show()"
   ]
  },
  {
   "cell_type": "code",
   "execution_count": 63,
   "id": "aa8499f9",
   "metadata": {
    "scrolled": false
   },
   "outputs": [
    {
     "name": "stdout",
     "output_type": "stream",
     "text": [
      "+----------+------------------+------------------+------------------+-----------------+-----------------+\n",
      "|      Term|           avg(ID)|       avg(Income)|      avg(Balance)|        avg(Debt)|       avg(Score)|\n",
      "+----------+------------------+------------------+------------------+-----------------+-----------------+\n",
      "| Long Term|508.91911764705884|34416.544117647056|1334.0808823529412|715.8235294117648|538.0037313432836|\n",
      "|Short Term|  491.166095890411|27770.034246575342|1158.5616438356165|610.2328767123288|409.8345070422535|\n",
      "+----------+------------------+------------------+------------------+-----------------+-----------------+\n",
      "\n"
     ]
    }
   ],
   "source": [
    "df.groupBy('Term').mean().show()"
   ]
  },
  {
   "cell_type": "markdown",
   "id": "35cd4f70",
   "metadata": {},
   "source": [
    "## ML"
   ]
  },
  {
   "cell_type": "code",
   "execution_count": 73,
   "id": "42412e1d",
   "metadata": {},
   "outputs": [],
   "source": [
    "#machine learning\n",
    "train = spark.read.csv(r\"C:\\Users\\Abdulkadir\\Documents\\Programming\\Personal\\DataScience\\mobile phone classification\\train.csv\", header=True, inferSchema=True)\n",
    "test = spark.read.csv(r\"C:\\Users\\Abdulkadir\\Documents\\Programming\\Personal\\DataScience\\mobile phone classification\\test.csv\", header=True, inferSchema=True)"
   ]
  },
  {
   "cell_type": "code",
   "execution_count": 77,
   "id": "0f7abb4f",
   "metadata": {},
   "outputs": [
    {
     "name": "stdout",
     "output_type": "stream",
     "text": [
      "root\n",
      " |-- battery_power: integer (nullable = true)\n",
      " |-- blue: integer (nullable = true)\n",
      " |-- clock_speed: double (nullable = true)\n",
      " |-- dual_sim: integer (nullable = true)\n",
      " |-- fc: integer (nullable = true)\n",
      " |-- four_g: integer (nullable = true)\n",
      " |-- int_memory: integer (nullable = true)\n",
      " |-- m_dep: double (nullable = true)\n",
      " |-- mobile_wt: integer (nullable = true)\n",
      " |-- n_cores: integer (nullable = true)\n",
      " |-- pc: integer (nullable = true)\n",
      " |-- px_height: integer (nullable = true)\n",
      " |-- px_width: integer (nullable = true)\n",
      " |-- ram: integer (nullable = true)\n",
      " |-- sc_h: integer (nullable = true)\n",
      " |-- sc_w: integer (nullable = true)\n",
      " |-- talk_time: integer (nullable = true)\n",
      " |-- three_g: integer (nullable = true)\n",
      " |-- touch_screen: integer (nullable = true)\n",
      " |-- wifi: integer (nullable = true)\n",
      " |-- price_range: integer (nullable = true)\n",
      "\n"
     ]
    }
   ],
   "source": [
    "train.printSchema()"
   ]
  },
  {
   "cell_type": "code",
   "execution_count": 78,
   "id": "ae1b821d",
   "metadata": {},
   "outputs": [
    {
     "name": "stdout",
     "output_type": "stream",
     "text": [
      "root\n",
      " |-- id: integer (nullable = true)\n",
      " |-- battery_power: integer (nullable = true)\n",
      " |-- blue: integer (nullable = true)\n",
      " |-- clock_speed: double (nullable = true)\n",
      " |-- dual_sim: integer (nullable = true)\n",
      " |-- fc: integer (nullable = true)\n",
      " |-- four_g: integer (nullable = true)\n",
      " |-- int_memory: integer (nullable = true)\n",
      " |-- m_dep: double (nullable = true)\n",
      " |-- mobile_wt: integer (nullable = true)\n",
      " |-- n_cores: integer (nullable = true)\n",
      " |-- pc: integer (nullable = true)\n",
      " |-- px_height: integer (nullable = true)\n",
      " |-- px_width: integer (nullable = true)\n",
      " |-- ram: integer (nullable = true)\n",
      " |-- sc_h: integer (nullable = true)\n",
      " |-- sc_w: integer (nullable = true)\n",
      " |-- talk_time: integer (nullable = true)\n",
      " |-- three_g: integer (nullable = true)\n",
      " |-- touch_screen: integer (nullable = true)\n",
      " |-- wifi: integer (nullable = true)\n",
      "\n"
     ]
    }
   ],
   "source": [
    "test.printSchema()"
   ]
  },
  {
   "cell_type": "code",
   "execution_count": 84,
   "id": "c0d6fe5b",
   "metadata": {},
   "outputs": [
    {
     "data": {
      "text/plain": [
       "(2000, 21, 1000, 21)"
      ]
     },
     "execution_count": 84,
     "metadata": {},
     "output_type": "execute_result"
    }
   ],
   "source": [
    "train.count(), len(train.columns), test.count(), len(test.columns)"
   ]
  },
  {
   "cell_type": "code",
   "execution_count": 82,
   "id": "2553b37a",
   "metadata": {},
   "outputs": [
    {
     "data": {
      "text/html": [
       "<div>\n",
       "<style scoped>\n",
       "    .dataframe tbody tr th:only-of-type {\n",
       "        vertical-align: middle;\n",
       "    }\n",
       "\n",
       "    .dataframe tbody tr th {\n",
       "        vertical-align: top;\n",
       "    }\n",
       "\n",
       "    .dataframe thead th {\n",
       "        text-align: right;\n",
       "    }\n",
       "</style>\n",
       "<table border=\"1\" class=\"dataframe\">\n",
       "  <thead>\n",
       "    <tr style=\"text-align: right;\">\n",
       "      <th></th>\n",
       "      <th>battery_power</th>\n",
       "      <th>blue</th>\n",
       "      <th>clock_speed</th>\n",
       "      <th>dual_sim</th>\n",
       "      <th>fc</th>\n",
       "      <th>four_g</th>\n",
       "      <th>int_memory</th>\n",
       "      <th>m_dep</th>\n",
       "      <th>mobile_wt</th>\n",
       "      <th>n_cores</th>\n",
       "      <th>...</th>\n",
       "      <th>px_height</th>\n",
       "      <th>px_width</th>\n",
       "      <th>ram</th>\n",
       "      <th>sc_h</th>\n",
       "      <th>sc_w</th>\n",
       "      <th>talk_time</th>\n",
       "      <th>three_g</th>\n",
       "      <th>touch_screen</th>\n",
       "      <th>wifi</th>\n",
       "      <th>price_range</th>\n",
       "    </tr>\n",
       "  </thead>\n",
       "  <tbody>\n",
       "    <tr>\n",
       "      <th>0</th>\n",
       "      <td>842</td>\n",
       "      <td>0</td>\n",
       "      <td>2.2</td>\n",
       "      <td>0</td>\n",
       "      <td>1</td>\n",
       "      <td>0</td>\n",
       "      <td>7</td>\n",
       "      <td>0.6</td>\n",
       "      <td>188</td>\n",
       "      <td>2</td>\n",
       "      <td>...</td>\n",
       "      <td>20</td>\n",
       "      <td>756</td>\n",
       "      <td>2549</td>\n",
       "      <td>9</td>\n",
       "      <td>7</td>\n",
       "      <td>19</td>\n",
       "      <td>0</td>\n",
       "      <td>0</td>\n",
       "      <td>1</td>\n",
       "      <td>1</td>\n",
       "    </tr>\n",
       "    <tr>\n",
       "      <th>1</th>\n",
       "      <td>1021</td>\n",
       "      <td>1</td>\n",
       "      <td>0.5</td>\n",
       "      <td>1</td>\n",
       "      <td>0</td>\n",
       "      <td>1</td>\n",
       "      <td>53</td>\n",
       "      <td>0.7</td>\n",
       "      <td>136</td>\n",
       "      <td>3</td>\n",
       "      <td>...</td>\n",
       "      <td>905</td>\n",
       "      <td>1988</td>\n",
       "      <td>2631</td>\n",
       "      <td>17</td>\n",
       "      <td>3</td>\n",
       "      <td>7</td>\n",
       "      <td>1</td>\n",
       "      <td>1</td>\n",
       "      <td>0</td>\n",
       "      <td>2</td>\n",
       "    </tr>\n",
       "    <tr>\n",
       "      <th>2</th>\n",
       "      <td>563</td>\n",
       "      <td>1</td>\n",
       "      <td>0.5</td>\n",
       "      <td>1</td>\n",
       "      <td>2</td>\n",
       "      <td>1</td>\n",
       "      <td>41</td>\n",
       "      <td>0.9</td>\n",
       "      <td>145</td>\n",
       "      <td>5</td>\n",
       "      <td>...</td>\n",
       "      <td>1263</td>\n",
       "      <td>1716</td>\n",
       "      <td>2603</td>\n",
       "      <td>11</td>\n",
       "      <td>2</td>\n",
       "      <td>9</td>\n",
       "      <td>1</td>\n",
       "      <td>1</td>\n",
       "      <td>0</td>\n",
       "      <td>2</td>\n",
       "    </tr>\n",
       "    <tr>\n",
       "      <th>3</th>\n",
       "      <td>615</td>\n",
       "      <td>1</td>\n",
       "      <td>2.5</td>\n",
       "      <td>0</td>\n",
       "      <td>0</td>\n",
       "      <td>0</td>\n",
       "      <td>10</td>\n",
       "      <td>0.8</td>\n",
       "      <td>131</td>\n",
       "      <td>6</td>\n",
       "      <td>...</td>\n",
       "      <td>1216</td>\n",
       "      <td>1786</td>\n",
       "      <td>2769</td>\n",
       "      <td>16</td>\n",
       "      <td>8</td>\n",
       "      <td>11</td>\n",
       "      <td>1</td>\n",
       "      <td>0</td>\n",
       "      <td>0</td>\n",
       "      <td>2</td>\n",
       "    </tr>\n",
       "    <tr>\n",
       "      <th>4</th>\n",
       "      <td>1821</td>\n",
       "      <td>1</td>\n",
       "      <td>1.2</td>\n",
       "      <td>0</td>\n",
       "      <td>13</td>\n",
       "      <td>1</td>\n",
       "      <td>44</td>\n",
       "      <td>0.6</td>\n",
       "      <td>141</td>\n",
       "      <td>2</td>\n",
       "      <td>...</td>\n",
       "      <td>1208</td>\n",
       "      <td>1212</td>\n",
       "      <td>1411</td>\n",
       "      <td>8</td>\n",
       "      <td>2</td>\n",
       "      <td>15</td>\n",
       "      <td>1</td>\n",
       "      <td>1</td>\n",
       "      <td>0</td>\n",
       "      <td>1</td>\n",
       "    </tr>\n",
       "  </tbody>\n",
       "</table>\n",
       "<p>5 rows × 21 columns</p>\n",
       "</div>"
      ],
      "text/plain": [
       "   battery_power  blue  clock_speed  dual_sim  fc  four_g  int_memory  m_dep  \\\n",
       "0            842     0          2.2         0   1       0           7    0.6   \n",
       "1           1021     1          0.5         1   0       1          53    0.7   \n",
       "2            563     1          0.5         1   2       1          41    0.9   \n",
       "3            615     1          2.5         0   0       0          10    0.8   \n",
       "4           1821     1          1.2         0  13       1          44    0.6   \n",
       "\n",
       "   mobile_wt  n_cores  ...  px_height  px_width   ram  sc_h  sc_w  talk_time  \\\n",
       "0        188        2  ...         20       756  2549     9     7         19   \n",
       "1        136        3  ...        905      1988  2631    17     3          7   \n",
       "2        145        5  ...       1263      1716  2603    11     2          9   \n",
       "3        131        6  ...       1216      1786  2769    16     8         11   \n",
       "4        141        2  ...       1208      1212  1411     8     2         15   \n",
       "\n",
       "   three_g  touch_screen  wifi  price_range  \n",
       "0        0             0     1            1  \n",
       "1        1             1     0            2  \n",
       "2        1             1     0            2  \n",
       "3        1             0     0            2  \n",
       "4        1             1     0            1  \n",
       "\n",
       "[5 rows x 21 columns]"
      ]
     },
     "execution_count": 82,
     "metadata": {},
     "output_type": "execute_result"
    }
   ],
   "source": [
    "train.toPandas().head()"
   ]
  },
  {
   "cell_type": "code",
   "execution_count": 85,
   "id": "a6b164a7",
   "metadata": {
    "scrolled": true
   },
   "outputs": [
    {
     "data": {
      "text/html": [
       "<div>\n",
       "<style scoped>\n",
       "    .dataframe tbody tr th:only-of-type {\n",
       "        vertical-align: middle;\n",
       "    }\n",
       "\n",
       "    .dataframe tbody tr th {\n",
       "        vertical-align: top;\n",
       "    }\n",
       "\n",
       "    .dataframe thead th {\n",
       "        text-align: right;\n",
       "    }\n",
       "</style>\n",
       "<table border=\"1\" class=\"dataframe\">\n",
       "  <thead>\n",
       "    <tr style=\"text-align: right;\">\n",
       "      <th></th>\n",
       "      <th>id</th>\n",
       "      <th>battery_power</th>\n",
       "      <th>blue</th>\n",
       "      <th>clock_speed</th>\n",
       "      <th>dual_sim</th>\n",
       "      <th>fc</th>\n",
       "      <th>four_g</th>\n",
       "      <th>int_memory</th>\n",
       "      <th>m_dep</th>\n",
       "      <th>mobile_wt</th>\n",
       "      <th>...</th>\n",
       "      <th>pc</th>\n",
       "      <th>px_height</th>\n",
       "      <th>px_width</th>\n",
       "      <th>ram</th>\n",
       "      <th>sc_h</th>\n",
       "      <th>sc_w</th>\n",
       "      <th>talk_time</th>\n",
       "      <th>three_g</th>\n",
       "      <th>touch_screen</th>\n",
       "      <th>wifi</th>\n",
       "    </tr>\n",
       "  </thead>\n",
       "  <tbody>\n",
       "    <tr>\n",
       "      <th>0</th>\n",
       "      <td>1</td>\n",
       "      <td>1043</td>\n",
       "      <td>1</td>\n",
       "      <td>1.8</td>\n",
       "      <td>1</td>\n",
       "      <td>14</td>\n",
       "      <td>0</td>\n",
       "      <td>5</td>\n",
       "      <td>0.1</td>\n",
       "      <td>193</td>\n",
       "      <td>...</td>\n",
       "      <td>16</td>\n",
       "      <td>226</td>\n",
       "      <td>1412</td>\n",
       "      <td>3476</td>\n",
       "      <td>12</td>\n",
       "      <td>7</td>\n",
       "      <td>2</td>\n",
       "      <td>0</td>\n",
       "      <td>1</td>\n",
       "      <td>0</td>\n",
       "    </tr>\n",
       "    <tr>\n",
       "      <th>1</th>\n",
       "      <td>2</td>\n",
       "      <td>841</td>\n",
       "      <td>1</td>\n",
       "      <td>0.5</td>\n",
       "      <td>1</td>\n",
       "      <td>4</td>\n",
       "      <td>1</td>\n",
       "      <td>61</td>\n",
       "      <td>0.8</td>\n",
       "      <td>191</td>\n",
       "      <td>...</td>\n",
       "      <td>12</td>\n",
       "      <td>746</td>\n",
       "      <td>857</td>\n",
       "      <td>3895</td>\n",
       "      <td>6</td>\n",
       "      <td>0</td>\n",
       "      <td>7</td>\n",
       "      <td>1</td>\n",
       "      <td>0</td>\n",
       "      <td>0</td>\n",
       "    </tr>\n",
       "    <tr>\n",
       "      <th>2</th>\n",
       "      <td>3</td>\n",
       "      <td>1807</td>\n",
       "      <td>1</td>\n",
       "      <td>2.8</td>\n",
       "      <td>0</td>\n",
       "      <td>1</td>\n",
       "      <td>0</td>\n",
       "      <td>27</td>\n",
       "      <td>0.9</td>\n",
       "      <td>186</td>\n",
       "      <td>...</td>\n",
       "      <td>4</td>\n",
       "      <td>1270</td>\n",
       "      <td>1366</td>\n",
       "      <td>2396</td>\n",
       "      <td>17</td>\n",
       "      <td>10</td>\n",
       "      <td>10</td>\n",
       "      <td>0</td>\n",
       "      <td>1</td>\n",
       "      <td>1</td>\n",
       "    </tr>\n",
       "    <tr>\n",
       "      <th>3</th>\n",
       "      <td>4</td>\n",
       "      <td>1546</td>\n",
       "      <td>0</td>\n",
       "      <td>0.5</td>\n",
       "      <td>1</td>\n",
       "      <td>18</td>\n",
       "      <td>1</td>\n",
       "      <td>25</td>\n",
       "      <td>0.5</td>\n",
       "      <td>96</td>\n",
       "      <td>...</td>\n",
       "      <td>20</td>\n",
       "      <td>295</td>\n",
       "      <td>1752</td>\n",
       "      <td>3893</td>\n",
       "      <td>10</td>\n",
       "      <td>0</td>\n",
       "      <td>7</td>\n",
       "      <td>1</td>\n",
       "      <td>1</td>\n",
       "      <td>0</td>\n",
       "    </tr>\n",
       "    <tr>\n",
       "      <th>4</th>\n",
       "      <td>5</td>\n",
       "      <td>1434</td>\n",
       "      <td>0</td>\n",
       "      <td>1.4</td>\n",
       "      <td>0</td>\n",
       "      <td>11</td>\n",
       "      <td>1</td>\n",
       "      <td>49</td>\n",
       "      <td>0.5</td>\n",
       "      <td>108</td>\n",
       "      <td>...</td>\n",
       "      <td>18</td>\n",
       "      <td>749</td>\n",
       "      <td>810</td>\n",
       "      <td>1773</td>\n",
       "      <td>15</td>\n",
       "      <td>8</td>\n",
       "      <td>7</td>\n",
       "      <td>1</td>\n",
       "      <td>0</td>\n",
       "      <td>1</td>\n",
       "    </tr>\n",
       "  </tbody>\n",
       "</table>\n",
       "<p>5 rows × 21 columns</p>\n",
       "</div>"
      ],
      "text/plain": [
       "   id  battery_power  blue  clock_speed  dual_sim  fc  four_g  int_memory  \\\n",
       "0   1           1043     1          1.8         1  14       0           5   \n",
       "1   2            841     1          0.5         1   4       1          61   \n",
       "2   3           1807     1          2.8         0   1       0          27   \n",
       "3   4           1546     0          0.5         1  18       1          25   \n",
       "4   5           1434     0          1.4         0  11       1          49   \n",
       "\n",
       "   m_dep  mobile_wt  ...  pc  px_height  px_width   ram  sc_h  sc_w  \\\n",
       "0    0.1        193  ...  16        226      1412  3476    12     7   \n",
       "1    0.8        191  ...  12        746       857  3895     6     0   \n",
       "2    0.9        186  ...   4       1270      1366  2396    17    10   \n",
       "3    0.5         96  ...  20        295      1752  3893    10     0   \n",
       "4    0.5        108  ...  18        749       810  1773    15     8   \n",
       "\n",
       "   talk_time  three_g  touch_screen  wifi  \n",
       "0          2        0             1     0  \n",
       "1          7        1             0     0  \n",
       "2         10        0             1     1  \n",
       "3          7        1             1     0  \n",
       "4          7        1             0     1  \n",
       "\n",
       "[5 rows x 21 columns]"
      ]
     },
     "execution_count": 85,
     "metadata": {},
     "output_type": "execute_result"
    }
   ],
   "source": [
    "test.toPandas().head()"
   ]
  },
  {
   "cell_type": "code",
   "execution_count": 91,
   "id": "82d9e437",
   "metadata": {},
   "outputs": [
    {
     "data": {
      "text/plain": [
       "['battery_power',\n",
       " 'blue',\n",
       " 'clock_speed',\n",
       " 'dual_sim',\n",
       " 'fc',\n",
       " 'four_g',\n",
       " 'int_memory',\n",
       " 'm_dep',\n",
       " 'mobile_wt',\n",
       " 'n_cores',\n",
       " 'pc',\n",
       " 'px_height',\n",
       " 'px_width',\n",
       " 'ram',\n",
       " 'sc_h',\n",
       " 'sc_w',\n",
       " 'talk_time',\n",
       " 'three_g',\n",
       " 'touch_screen',\n",
       " 'wifi']"
      ]
     },
     "execution_count": 91,
     "metadata": {},
     "output_type": "execute_result"
    }
   ],
   "source": [
    "train.columns[:-1]"
   ]
  },
  {
   "cell_type": "code",
   "execution_count": 93,
   "id": "9142a6c8",
   "metadata": {},
   "outputs": [],
   "source": [
    "from pyspark.ml.feature import VectorAssembler # groups features into one features\n",
    "featureAssembler = VectorAssembler(inputCols=train.columns[:-1], outputCol='Features')"
   ]
  },
  {
   "cell_type": "code",
   "execution_count": 96,
   "id": "c87559da",
   "metadata": {},
   "outputs": [],
   "source": [
    "output = featureAssembler.transform(train)"
   ]
  },
  {
   "cell_type": "code",
   "execution_count": 100,
   "id": "85afc7e7",
   "metadata": {},
   "outputs": [
    {
     "data": {
      "text/plain": [
       "Index(['battery_power', 'blue', 'clock_speed', 'dual_sim', 'fc', 'four_g',\n",
       "       'int_memory', 'm_dep', 'mobile_wt', 'n_cores', 'pc', 'px_height',\n",
       "       'px_width', 'ram', 'sc_h', 'sc_w', 'talk_time', 'three_g',\n",
       "       'touch_screen', 'wifi', 'price_range', 'Features'],\n",
       "      dtype='object')"
      ]
     },
     "execution_count": 100,
     "metadata": {},
     "output_type": "execute_result"
    }
   ],
   "source": [
    "output.toPandas().columns \n",
    "# has added a new column to the df s 'features' which is the combination of all features"
   ]
  },
  {
   "cell_type": "code",
   "execution_count": 103,
   "id": "fa991796",
   "metadata": {},
   "outputs": [
    {
     "data": {
      "text/html": [
       "<div>\n",
       "<style scoped>\n",
       "    .dataframe tbody tr th:only-of-type {\n",
       "        vertical-align: middle;\n",
       "    }\n",
       "\n",
       "    .dataframe tbody tr th {\n",
       "        vertical-align: top;\n",
       "    }\n",
       "\n",
       "    .dataframe thead th {\n",
       "        text-align: right;\n",
       "    }\n",
       "</style>\n",
       "<table border=\"1\" class=\"dataframe\">\n",
       "  <thead>\n",
       "    <tr style=\"text-align: right;\">\n",
       "      <th></th>\n",
       "      <th>battery_power</th>\n",
       "      <th>blue</th>\n",
       "      <th>clock_speed</th>\n",
       "      <th>dual_sim</th>\n",
       "      <th>fc</th>\n",
       "      <th>four_g</th>\n",
       "      <th>int_memory</th>\n",
       "      <th>m_dep</th>\n",
       "      <th>mobile_wt</th>\n",
       "      <th>n_cores</th>\n",
       "      <th>...</th>\n",
       "      <th>px_width</th>\n",
       "      <th>ram</th>\n",
       "      <th>sc_h</th>\n",
       "      <th>sc_w</th>\n",
       "      <th>talk_time</th>\n",
       "      <th>three_g</th>\n",
       "      <th>touch_screen</th>\n",
       "      <th>wifi</th>\n",
       "      <th>price_range</th>\n",
       "      <th>Features</th>\n",
       "    </tr>\n",
       "  </thead>\n",
       "  <tbody>\n",
       "    <tr>\n",
       "      <th>0</th>\n",
       "      <td>842</td>\n",
       "      <td>0</td>\n",
       "      <td>2.2</td>\n",
       "      <td>0</td>\n",
       "      <td>1</td>\n",
       "      <td>0</td>\n",
       "      <td>7</td>\n",
       "      <td>0.6</td>\n",
       "      <td>188</td>\n",
       "      <td>2</td>\n",
       "      <td>...</td>\n",
       "      <td>756</td>\n",
       "      <td>2549</td>\n",
       "      <td>9</td>\n",
       "      <td>7</td>\n",
       "      <td>19</td>\n",
       "      <td>0</td>\n",
       "      <td>0</td>\n",
       "      <td>1</td>\n",
       "      <td>1</td>\n",
       "      <td>[842.0, 0.0, 2.2, 0.0, 1.0, 0.0, 7.0, 0.6, 188...</td>\n",
       "    </tr>\n",
       "  </tbody>\n",
       "</table>\n",
       "<p>1 rows × 22 columns</p>\n",
       "</div>"
      ],
      "text/plain": [
       "   battery_power  blue  clock_speed  dual_sim  fc  four_g  int_memory  m_dep  \\\n",
       "0            842     0          2.2         0   1       0           7    0.6   \n",
       "\n",
       "   mobile_wt  n_cores  ...  px_width   ram  sc_h  sc_w  talk_time  three_g  \\\n",
       "0        188        2  ...       756  2549     9     7         19        0   \n",
       "\n",
       "   touch_screen  wifi  price_range  \\\n",
       "0             0     1            1   \n",
       "\n",
       "                                            Features  \n",
       "0  [842.0, 0.0, 2.2, 0.0, 1.0, 0.0, 7.0, 0.6, 188...  \n",
       "\n",
       "[1 rows x 22 columns]"
      ]
     },
     "execution_count": 103,
     "metadata": {},
     "output_type": "execute_result"
    }
   ],
   "source": [
    "output.toPandas().head(1)"
   ]
  },
  {
   "cell_type": "code",
   "execution_count": 105,
   "id": "319ae433",
   "metadata": {},
   "outputs": [
    {
     "name": "stdout",
     "output_type": "stream",
     "text": [
      "root\n",
      " |-- battery_power: integer (nullable = true)\n",
      " |-- blue: integer (nullable = true)\n",
      " |-- clock_speed: double (nullable = true)\n",
      " |-- dual_sim: integer (nullable = true)\n",
      " |-- fc: integer (nullable = true)\n",
      " |-- four_g: integer (nullable = true)\n",
      " |-- int_memory: integer (nullable = true)\n",
      " |-- m_dep: double (nullable = true)\n",
      " |-- mobile_wt: integer (nullable = true)\n",
      " |-- n_cores: integer (nullable = true)\n",
      " |-- pc: integer (nullable = true)\n",
      " |-- px_height: integer (nullable = true)\n",
      " |-- px_width: integer (nullable = true)\n",
      " |-- ram: integer (nullable = true)\n",
      " |-- sc_h: integer (nullable = true)\n",
      " |-- sc_w: integer (nullable = true)\n",
      " |-- talk_time: integer (nullable = true)\n",
      " |-- three_g: integer (nullable = true)\n",
      " |-- touch_screen: integer (nullable = true)\n",
      " |-- wifi: integer (nullable = true)\n",
      " |-- price_range: integer (nullable = true)\n",
      " |-- Features: vector (nullable = true)\n",
      "\n"
     ]
    }
   ],
   "source": [
    "# the label is simply price_range and the features is the column called features\n",
    "output.printSchema()"
   ]
  },
  {
   "cell_type": "code",
   "execution_count": 106,
   "id": "5ccd69ff",
   "metadata": {},
   "outputs": [],
   "source": [
    "training_df = output.select(['Features', 'price_range'])"
   ]
  },
  {
   "cell_type": "code",
   "execution_count": 107,
   "id": "12521aae",
   "metadata": {},
   "outputs": [
    {
     "name": "stdout",
     "output_type": "stream",
     "text": [
      "+--------------------+-----------+\n",
      "|            Features|price_range|\n",
      "+--------------------+-----------+\n",
      "|[842.0,0.0,2.2,0....|          1|\n",
      "|[1021.0,1.0,0.5,1...|          2|\n",
      "|[563.0,1.0,0.5,1....|          2|\n",
      "|[615.0,1.0,2.5,0....|          2|\n",
      "|[1821.0,1.0,1.2,0...|          1|\n",
      "|[1859.0,0.0,0.5,1...|          1|\n",
      "|[1821.0,0.0,1.7,0...|          3|\n",
      "|[1954.0,0.0,0.5,1...|          0|\n",
      "|[1445.0,1.0,0.5,0...|          0|\n",
      "|[509.0,1.0,0.6,1....|          0|\n",
      "|[769.0,1.0,2.9,1....|          3|\n",
      "|[1520.0,1.0,2.2,0...|          3|\n",
      "|[1815.0,0.0,2.8,0...|          1|\n",
      "|[803.0,1.0,2.1,0....|          2|\n",
      "|[1866.0,0.0,0.5,0...|          0|\n",
      "|[775.0,0.0,1.0,0....|          0|\n",
      "|[838.0,0.0,0.5,0....|          3|\n",
      "|[595.0,0.0,0.9,1....|          3|\n",
      "|[1131.0,1.0,0.5,1...|          1|\n",
      "|[682.0,1.0,0.5,0....|          1|\n",
      "+--------------------+-----------+\n",
      "only showing top 20 rows\n",
      "\n"
     ]
    }
   ],
   "source": [
    "training_df.show()"
   ]
  },
  {
   "cell_type": "code",
   "execution_count": 111,
   "id": "8b52a209",
   "metadata": {},
   "outputs": [],
   "source": [
    "from pyspark.ml.classification import LogisticRegression\n",
    "train_data, test_data = training_df.randomSplit([.7, .3])\n",
    "LR = LogisticRegression(featuresCol='Features', labelCol='price_range')\n",
    "LR = LR.fit(train_data)"
   ]
  },
  {
   "cell_type": "code",
   "execution_count": 112,
   "id": "79ebffa9",
   "metadata": {},
   "outputs": [],
   "source": [
    "pred = LR.evaluate(test_data)"
   ]
  },
  {
   "cell_type": "code",
   "execution_count": 118,
   "id": "373916d6",
   "metadata": {},
   "outputs": [
    {
     "data": {
      "text/html": [
       "<div>\n",
       "<style scoped>\n",
       "    .dataframe tbody tr th:only-of-type {\n",
       "        vertical-align: middle;\n",
       "    }\n",
       "\n",
       "    .dataframe tbody tr th {\n",
       "        vertical-align: top;\n",
       "    }\n",
       "\n",
       "    .dataframe thead th {\n",
       "        text-align: right;\n",
       "    }\n",
       "</style>\n",
       "<table border=\"1\" class=\"dataframe\">\n",
       "  <thead>\n",
       "    <tr style=\"text-align: right;\">\n",
       "      <th></th>\n",
       "      <th>Features</th>\n",
       "      <th>price_range</th>\n",
       "      <th>rawPrediction</th>\n",
       "      <th>probability</th>\n",
       "      <th>prediction</th>\n",
       "    </tr>\n",
       "  </thead>\n",
       "  <tbody>\n",
       "    <tr>\n",
       "      <th>0</th>\n",
       "      <td>(1210.0, 0.0, 0.5, 0.0, 0.0, 0.0, 63.0, 0.1, 9...</td>\n",
       "      <td>2</td>\n",
       "      <td>[-8767.10548399319, 1419.0024480372686, 4298.0...</td>\n",
       "      <td>[0.0, 0.0, 1.0, 0.0]</td>\n",
       "      <td>2.0</td>\n",
       "    </tr>\n",
       "    <tr>\n",
       "      <th>1</th>\n",
       "      <td>(1356.0, 0.0, 2.8, 0.0, 0.0, 0.0, 29.0, 0.5, 1...</td>\n",
       "      <td>3</td>\n",
       "      <td>[-23155.731233403792, -2431.640806557458, 8377...</td>\n",
       "      <td>[0.0, 0.0, 0.0, 1.0]</td>\n",
       "      <td>3.0</td>\n",
       "    </tr>\n",
       "    <tr>\n",
       "      <th>2</th>\n",
       "      <td>[502.0, 0.0, 0.8, 0.0, 7.0, 0.0, 52.0, 1.0, 82...</td>\n",
       "      <td>2</td>\n",
       "      <td>[-3717.6697735950183, 2885.597136229313, 3222....</td>\n",
       "      <td>[0.0, 3.496151466182958e-147, 1.0, 0.0]</td>\n",
       "      <td>2.0</td>\n",
       "    </tr>\n",
       "    <tr>\n",
       "      <th>3</th>\n",
       "      <td>[502.0, 0.0, 1.5, 1.0, 7.0, 0.0, 37.0, 0.2, 19...</td>\n",
       "      <td>1</td>\n",
       "      <td>[3868.418234900135, 4969.731884148372, 1192.68...</td>\n",
       "      <td>[0.0, 1.0, 0.0, 0.0]</td>\n",
       "      <td>1.0</td>\n",
       "    </tr>\n",
       "    <tr>\n",
       "      <th>4</th>\n",
       "      <td>[503.0, 0.0, 1.2, 1.0, 5.0, 1.0, 8.0, 0.4, 111...</td>\n",
       "      <td>1</td>\n",
       "      <td>[-2124.8792716916178, 3450.9691824492875, 2706...</td>\n",
       "      <td>[0.0, 1.0, 5e-324, 0.0]</td>\n",
       "      <td>1.0</td>\n",
       "    </tr>\n",
       "    <tr>\n",
       "      <th>...</th>\n",
       "      <td>...</td>\n",
       "      <td>...</td>\n",
       "      <td>...</td>\n",
       "      <td>...</td>\n",
       "      <td>...</td>\n",
       "    </tr>\n",
       "    <tr>\n",
       "      <th>599</th>\n",
       "      <td>[1994.0, 1.0, 0.7, 0.0, 5.0, 0.0, 5.0, 0.4, 18...</td>\n",
       "      <td>2</td>\n",
       "      <td>[-2819.180544844756, 3322.7722053451052, 3378....</td>\n",
       "      <td>[0.0, 3.8185260044261255e-25, 1.0, 0.0]</td>\n",
       "      <td>2.0</td>\n",
       "    </tr>\n",
       "    <tr>\n",
       "      <th>600</th>\n",
       "      <td>[1994.0, 1.0, 0.8, 1.0, 2.0, 1.0, 7.0, 0.6, 88...</td>\n",
       "      <td>0</td>\n",
       "      <td>[8686.49442532245, 6384.128252717486, -393.473...</td>\n",
       "      <td>[1.0, 0.0, 0.0, 0.0]</td>\n",
       "      <td>0.0</td>\n",
       "    </tr>\n",
       "    <tr>\n",
       "      <th>601</th>\n",
       "      <td>[1995.0, 1.0, 1.9, 0.0, 6.0, 0.0, 9.0, 0.8, 13...</td>\n",
       "      <td>2</td>\n",
       "      <td>[-5162.202251723251, 2401.183793723849, 3668.8...</td>\n",
       "      <td>[0.0, 0.0, 1.0, 0.0]</td>\n",
       "      <td>2.0</td>\n",
       "    </tr>\n",
       "    <tr>\n",
       "      <th>602</th>\n",
       "      <td>[1996.0, 1.0, 2.8, 1.0, 0.0, 1.0, 7.0, 0.1, 13...</td>\n",
       "      <td>1</td>\n",
       "      <td>[315.9422961362652, 3934.8215413317394, 1948.2...</td>\n",
       "      <td>[0.0, 1.0, 0.0, 0.0]</td>\n",
       "      <td>1.0</td>\n",
       "    </tr>\n",
       "    <tr>\n",
       "      <th>603</th>\n",
       "      <td>[1998.0, 1.0, 1.2, 0.0, 8.0, 0.0, 31.0, 0.6, 1...</td>\n",
       "      <td>2</td>\n",
       "      <td>[-7031.5319361280635, 2024.8307054261222, 4420...</td>\n",
       "      <td>[0.0, 0.0, 1.0, 0.0]</td>\n",
       "      <td>2.0</td>\n",
       "    </tr>\n",
       "  </tbody>\n",
       "</table>\n",
       "<p>604 rows × 5 columns</p>\n",
       "</div>"
      ],
      "text/plain": [
       "                                              Features  price_range  \\\n",
       "0    (1210.0, 0.0, 0.5, 0.0, 0.0, 0.0, 63.0, 0.1, 9...            2   \n",
       "1    (1356.0, 0.0, 2.8, 0.0, 0.0, 0.0, 29.0, 0.5, 1...            3   \n",
       "2    [502.0, 0.0, 0.8, 0.0, 7.0, 0.0, 52.0, 1.0, 82...            2   \n",
       "3    [502.0, 0.0, 1.5, 1.0, 7.0, 0.0, 37.0, 0.2, 19...            1   \n",
       "4    [503.0, 0.0, 1.2, 1.0, 5.0, 1.0, 8.0, 0.4, 111...            1   \n",
       "..                                                 ...          ...   \n",
       "599  [1994.0, 1.0, 0.7, 0.0, 5.0, 0.0, 5.0, 0.4, 18...            2   \n",
       "600  [1994.0, 1.0, 0.8, 1.0, 2.0, 1.0, 7.0, 0.6, 88...            0   \n",
       "601  [1995.0, 1.0, 1.9, 0.0, 6.0, 0.0, 9.0, 0.8, 13...            2   \n",
       "602  [1996.0, 1.0, 2.8, 1.0, 0.0, 1.0, 7.0, 0.1, 13...            1   \n",
       "603  [1998.0, 1.0, 1.2, 0.0, 8.0, 0.0, 31.0, 0.6, 1...            2   \n",
       "\n",
       "                                         rawPrediction  \\\n",
       "0    [-8767.10548399319, 1419.0024480372686, 4298.0...   \n",
       "1    [-23155.731233403792, -2431.640806557458, 8377...   \n",
       "2    [-3717.6697735950183, 2885.597136229313, 3222....   \n",
       "3    [3868.418234900135, 4969.731884148372, 1192.68...   \n",
       "4    [-2124.8792716916178, 3450.9691824492875, 2706...   \n",
       "..                                                 ...   \n",
       "599  [-2819.180544844756, 3322.7722053451052, 3378....   \n",
       "600  [8686.49442532245, 6384.128252717486, -393.473...   \n",
       "601  [-5162.202251723251, 2401.183793723849, 3668.8...   \n",
       "602  [315.9422961362652, 3934.8215413317394, 1948.2...   \n",
       "603  [-7031.5319361280635, 2024.8307054261222, 4420...   \n",
       "\n",
       "                                 probability  prediction  \n",
       "0                       [0.0, 0.0, 1.0, 0.0]         2.0  \n",
       "1                       [0.0, 0.0, 0.0, 1.0]         3.0  \n",
       "2    [0.0, 3.496151466182958e-147, 1.0, 0.0]         2.0  \n",
       "3                       [0.0, 1.0, 0.0, 0.0]         1.0  \n",
       "4                    [0.0, 1.0, 5e-324, 0.0]         1.0  \n",
       "..                                       ...         ...  \n",
       "599  [0.0, 3.8185260044261255e-25, 1.0, 0.0]         2.0  \n",
       "600                     [1.0, 0.0, 0.0, 0.0]         0.0  \n",
       "601                     [0.0, 0.0, 1.0, 0.0]         2.0  \n",
       "602                     [0.0, 1.0, 0.0, 0.0]         1.0  \n",
       "603                     [0.0, 0.0, 1.0, 0.0]         2.0  \n",
       "\n",
       "[604 rows x 5 columns]"
      ]
     },
     "execution_count": 118,
     "metadata": {},
     "output_type": "execute_result"
    }
   ],
   "source": [
    "pred.predictions.toPandas()"
   ]
  },
  {
   "cell_type": "code",
   "execution_count": 120,
   "id": "42bfabf4",
   "metadata": {},
   "outputs": [
    {
     "data": {
      "text/plain": [
       "[0.9776119402985075,\n",
       " 0.9573170731707317,\n",
       " 0.9675324675324676,\n",
       " 0.9802631578947368]"
      ]
     },
     "execution_count": 120,
     "metadata": {},
     "output_type": "execute_result"
    }
   ],
   "source": [
    "pred.recallByLabel # recall"
   ]
  },
  {
   "cell_type": "code",
   "execution_count": 121,
   "id": "948e9989",
   "metadata": {},
   "outputs": [
    {
     "data": {
      "text/plain": [
       "0.9701986754966887"
      ]
     },
     "execution_count": 121,
     "metadata": {},
     "output_type": "execute_result"
    }
   ],
   "source": [
    "pred.accuracy"
   ]
  },
  {
   "cell_type": "code",
   "execution_count": 125,
   "id": "29109198",
   "metadata": {},
   "outputs": [
    {
     "name": "stdout",
     "output_type": "stream",
     "text": [
      "root\n",
      " |-- id: integer (nullable = true)\n",
      " |-- battery_power: integer (nullable = true)\n",
      " |-- blue: integer (nullable = true)\n",
      " |-- clock_speed: double (nullable = true)\n",
      " |-- dual_sim: integer (nullable = true)\n",
      " |-- fc: integer (nullable = true)\n",
      " |-- four_g: integer (nullable = true)\n",
      " |-- int_memory: integer (nullable = true)\n",
      " |-- m_dep: double (nullable = true)\n",
      " |-- mobile_wt: integer (nullable = true)\n",
      " |-- n_cores: integer (nullable = true)\n",
      " |-- pc: integer (nullable = true)\n",
      " |-- px_height: integer (nullable = true)\n",
      " |-- px_width: integer (nullable = true)\n",
      " |-- ram: integer (nullable = true)\n",
      " |-- sc_h: integer (nullable = true)\n",
      " |-- sc_w: integer (nullable = true)\n",
      " |-- talk_time: integer (nullable = true)\n",
      " |-- three_g: integer (nullable = true)\n",
      " |-- touch_screen: integer (nullable = true)\n",
      " |-- wifi: integer (nullable = true)\n",
      "\n"
     ]
    }
   ],
   "source": [
    "# now test it on the test data set\n",
    "test.printSchema()"
   ]
  },
  {
   "cell_type": "code",
   "execution_count": 129,
   "id": "18efb906",
   "metadata": {},
   "outputs": [],
   "source": [
    "test = test.drop('id')"
   ]
  },
  {
   "cell_type": "code",
   "execution_count": 130,
   "id": "c895b141",
   "metadata": {},
   "outputs": [
    {
     "name": "stdout",
     "output_type": "stream",
     "text": [
      "root\n",
      " |-- battery_power: integer (nullable = true)\n",
      " |-- blue: integer (nullable = true)\n",
      " |-- clock_speed: double (nullable = true)\n",
      " |-- dual_sim: integer (nullable = true)\n",
      " |-- fc: integer (nullable = true)\n",
      " |-- four_g: integer (nullable = true)\n",
      " |-- int_memory: integer (nullable = true)\n",
      " |-- m_dep: double (nullable = true)\n",
      " |-- mobile_wt: integer (nullable = true)\n",
      " |-- n_cores: integer (nullable = true)\n",
      " |-- pc: integer (nullable = true)\n",
      " |-- px_height: integer (nullable = true)\n",
      " |-- px_width: integer (nullable = true)\n",
      " |-- ram: integer (nullable = true)\n",
      " |-- sc_h: integer (nullable = true)\n",
      " |-- sc_w: integer (nullable = true)\n",
      " |-- talk_time: integer (nullable = true)\n",
      " |-- three_g: integer (nullable = true)\n",
      " |-- touch_screen: integer (nullable = true)\n",
      " |-- wifi: integer (nullable = true)\n",
      "\n"
     ]
    }
   ],
   "source": [
    "test.printSchema()"
   ]
  },
  {
   "cell_type": "code",
   "execution_count": 138,
   "id": "9873d302",
   "metadata": {},
   "outputs": [],
   "source": [
    "test_featureAssembler = VectorAssembler(inputCols=test.columns, outputCol='Features')"
   ]
  },
  {
   "cell_type": "code",
   "execution_count": 139,
   "id": "d89032d5",
   "metadata": {},
   "outputs": [],
   "source": [
    "test_features = test_featureAssembler.transform(test)"
   ]
  },
  {
   "cell_type": "code",
   "execution_count": 140,
   "id": "85bae535",
   "metadata": {},
   "outputs": [
    {
     "data": {
      "text/plain": [
       "['battery_power',\n",
       " 'blue',\n",
       " 'clock_speed',\n",
       " 'dual_sim',\n",
       " 'fc',\n",
       " 'four_g',\n",
       " 'int_memory',\n",
       " 'm_dep',\n",
       " 'mobile_wt',\n",
       " 'n_cores',\n",
       " 'pc',\n",
       " 'px_height',\n",
       " 'px_width',\n",
       " 'ram',\n",
       " 'sc_h',\n",
       " 'sc_w',\n",
       " 'talk_time',\n",
       " 'three_g',\n",
       " 'touch_screen',\n",
       " 'wifi',\n",
       " 'Features']"
      ]
     },
     "execution_count": 140,
     "metadata": {},
     "output_type": "execute_result"
    }
   ],
   "source": [
    "test_features.columns"
   ]
  },
  {
   "cell_type": "code",
   "execution_count": 141,
   "id": "c822e2c7",
   "metadata": {},
   "outputs": [],
   "source": [
    "test_features = test_features.select('Features')"
   ]
  },
  {
   "cell_type": "code",
   "execution_count": 143,
   "id": "e0d075e1",
   "metadata": {},
   "outputs": [
    {
     "name": "stdout",
     "output_type": "stream",
     "text": [
      "+--------------------+\n",
      "|            Features|\n",
      "+--------------------+\n",
      "|[1043.0,1.0,1.8,1...|\n",
      "|[841.0,1.0,0.5,1....|\n",
      "|[1807.0,1.0,2.8,0...|\n",
      "|[1546.0,0.0,0.5,1...|\n",
      "|[1434.0,0.0,1.4,0...|\n",
      "|[1464.0,1.0,2.9,1...|\n",
      "|[1718.0,0.0,2.4,0...|\n",
      "|[833.0,0.0,2.4,1....|\n",
      "|[1111.0,1.0,2.9,1...|\n",
      "|[1520.0,0.0,0.5,0...|\n",
      "|[1500.0,0.0,2.2,0...|\n",
      "|[1343.0,0.0,2.9,0...|\n",
      "|[900.0,1.0,1.4,1....|\n",
      "|[1190.0,1.0,2.2,1...|\n",
      "|[630.0,0.0,1.8,0....|\n",
      "|[1846.0,1.0,1.0,0...|\n",
      "|[1985.0,0.0,0.5,1...|\n",
      "|[1042.0,0.0,2.9,0...|\n",
      "|[1231.0,1.0,1.7,1...|\n",
      "|[1488.0,0.0,2.6,0...|\n",
      "+--------------------+\n",
      "only showing top 20 rows\n",
      "\n"
     ]
    }
   ],
   "source": [
    "test_features.show()"
   ]
  },
  {
   "cell_type": "code",
   "execution_count": 144,
   "id": "889e374e",
   "metadata": {},
   "outputs": [],
   "source": [
    "pred_test = LR.transform(test_features)"
   ]
  },
  {
   "cell_type": "code",
   "execution_count": 145,
   "id": "6a0186fb",
   "metadata": {},
   "outputs": [
    {
     "name": "stdout",
     "output_type": "stream",
     "text": [
      "+--------------------+--------------------+--------------------+----------+\n",
      "|            Features|       rawPrediction|         probability|prediction|\n",
      "+--------------------+--------------------+--------------------+----------+\n",
      "|[1043.0,1.0,1.8,1...|[-12600.833562058...|[0.0,0.0,2.650005...|       3.0|\n",
      "|[841.0,1.0,0.5,1....|[-15729.927528889...|   [0.0,0.0,0.0,1.0]|       3.0|\n",
      "|[1807.0,1.0,2.8,0...|[-10537.693053455...|[0.0,0.0,1.0,7.99...|       2.0|\n",
      "|[1546.0,0.0,0.5,1...|[-22326.270245365...|   [0.0,0.0,0.0,1.0]|       3.0|\n",
      "|[1434.0,0.0,1.4,0...|[-494.58864361828...|   [0.0,1.0,0.0,0.0]|       1.0|\n",
      "|[1464.0,1.0,2.9,1...|[-15276.703973004...|   [0.0,0.0,0.0,1.0]|       3.0|\n",
      "|[1718.0,0.0,2.4,0...|[-24217.675071938...|   [0.0,0.0,0.0,1.0]|       3.0|\n",
      "|[833.0,0.0,2.4,1....|[22.7180981029705...|   [0.0,1.0,0.0,0.0]|       1.0|\n",
      "|[1111.0,1.0,2.9,1...|[-13983.991793212...|   [0.0,0.0,0.0,1.0]|       3.0|\n",
      "|[1520.0,0.0,0.5,0...|[11667.1171965448...|   [1.0,0.0,0.0,0.0]|       0.0|\n",
      "|[1500.0,0.0,2.2,0...|[-21567.830738311...|   [0.0,0.0,0.0,1.0]|       3.0|\n",
      "|[1343.0,0.0,2.9,0...|[-19774.089543392...|   [0.0,0.0,0.0,1.0]|       3.0|\n",
      "|[900.0,1.0,1.4,1....|[10669.5660771482...|   [1.0,0.0,0.0,0.0]|       0.0|\n",
      "|[1190.0,1.0,2.2,1...|[6766.38913895292...|   [1.0,0.0,0.0,0.0]|       0.0|\n",
      "|[630.0,0.0,1.8,0....|[-7810.7722121134...|   [0.0,0.0,1.0,0.0]|       2.0|\n",
      "|[1846.0,1.0,1.0,0...|[6600.23439484364...|   [1.0,0.0,0.0,0.0]|       0.0|\n",
      "|[1985.0,0.0,0.5,1...|[-7386.1358783001...|   [0.0,0.0,1.0,0.0]|       2.0|\n",
      "|[1042.0,0.0,2.9,0...|[970.899143142585...|   [0.0,1.0,0.0,0.0]|       1.0|\n",
      "|[1231.0,1.0,1.7,1...|[-18023.070380432...|   [0.0,0.0,0.0,1.0]|       3.0|\n",
      "|[1488.0,0.0,2.6,0...|[-3619.9672769354...|[0.0,5.0905349367...|       2.0|\n",
      "+--------------------+--------------------+--------------------+----------+\n",
      "only showing top 20 rows\n",
      "\n"
     ]
    }
   ],
   "source": [
    "pred_test.show()"
   ]
  },
  {
   "cell_type": "code",
   "execution_count": 146,
   "id": "9a8e51fe",
   "metadata": {},
   "outputs": [
    {
     "data": {
      "text/plain": [
       "1000"
      ]
     },
     "execution_count": 146,
     "metadata": {},
     "output_type": "execute_result"
    }
   ],
   "source": [
    "pred_test.count()"
   ]
  },
  {
   "cell_type": "code",
   "execution_count": null,
   "id": "72e7187a",
   "metadata": {},
   "outputs": [],
   "source": []
  }
 ],
 "metadata": {
  "kernelspec": {
   "display_name": "Python 3",
   "language": "python",
   "name": "python3"
  },
  "language_info": {
   "codemirror_mode": {
    "name": "ipython",
    "version": 3
   },
   "file_extension": ".py",
   "mimetype": "text/x-python",
   "name": "python",
   "nbconvert_exporter": "python",
   "pygments_lexer": "ipython3",
   "version": "3.8.8"
  }
 },
 "nbformat": 4,
 "nbformat_minor": 5
}
