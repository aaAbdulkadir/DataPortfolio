{
 "cells": [
  {
   "cell_type": "code",
   "execution_count": null,
   "metadata": {},
   "outputs": [],
   "source": [
    "# Ran on databricks"
   ]
  },
  {
   "cell_type": "code",
   "execution_count": 0,
   "metadata": {
    "application/vnd.databricks.v1+cell": {
     "inputWidgets": {},
     "nuid": "9749f7c0-9bca-4197-a110-9938991a1848",
     "showTitle": false,
     "title": ""
    },
    "scrolled": false
   },
   "outputs": [
    {
     "data": {
      "text/html": [
       "<style scoped>\n",
       "  .ansiout {\n",
       "    display: block;\n",
       "    unicode-bidi: embed;\n",
       "    white-space: pre-wrap;\n",
       "    word-wrap: break-word;\n",
       "    word-break: break-all;\n",
       "    font-family: \"Source Code Pro\", \"Menlo\", monospace;;\n",
       "    font-size: 13px;\n",
       "    color: #555;\n",
       "    margin-left: 4px;\n",
       "    line-height: 19px;\n",
       "  }\n",
       "</style>\n",
       "<div class=\"ansiout\">Out[11]: </div>"
      ]
     },
     "metadata": {
      "application/vnd.databricks.v1+output": {
       "addedWidgets": {},
       "arguments": {},
       "data": "<div class=\"ansiout\">Out[11]: </div>",
       "datasetInfos": [],
       "metadata": {},
       "removedWidgets": [],
       "type": "html"
      }
     },
     "output_type": "display_data"
    },
    {
     "data": {
      "text/html": [
       "<div>\n",
       "<style scoped>\n",
       "    .dataframe tbody tr th:only-of-type {\n",
       "        vertical-align: middle;\n",
       "    }\n",
       "\n",
       "    .dataframe tbody tr th {\n",
       "        vertical-align: top;\n",
       "    }\n",
       "\n",
       "    .dataframe thead th {\n",
       "        text-align: right;\n",
       "    }\n",
       "</style>\n",
       "<table border=\"1\" class=\"dataframe\">\n",
       "  <thead>\n",
       "    <tr style=\"text-align: right;\">\n",
       "      <th></th>\n",
       "      <th>total_bill</th>\n",
       "      <th>tip</th>\n",
       "      <th>sex</th>\n",
       "      <th>smoker</th>\n",
       "      <th>day</th>\n",
       "      <th>time</th>\n",
       "      <th>size</th>\n",
       "    </tr>\n",
       "  </thead>\n",
       "  <tbody>\n",
       "    <tr>\n",
       "      <th>0</th>\n",
       "      <td>16.99</td>\n",
       "      <td>1.01</td>\n",
       "      <td>Female</td>\n",
       "      <td>No</td>\n",
       "      <td>Sun</td>\n",
       "      <td>Dinner</td>\n",
       "      <td>2</td>\n",
       "    </tr>\n",
       "    <tr>\n",
       "      <th>1</th>\n",
       "      <td>10.34</td>\n",
       "      <td>1.66</td>\n",
       "      <td>Male</td>\n",
       "      <td>No</td>\n",
       "      <td>Sun</td>\n",
       "      <td>Dinner</td>\n",
       "      <td>3</td>\n",
       "    </tr>\n",
       "    <tr>\n",
       "      <th>2</th>\n",
       "      <td>21.01</td>\n",
       "      <td>3.50</td>\n",
       "      <td>Male</td>\n",
       "      <td>No</td>\n",
       "      <td>Sun</td>\n",
       "      <td>Dinner</td>\n",
       "      <td>3</td>\n",
       "    </tr>\n",
       "    <tr>\n",
       "      <th>3</th>\n",
       "      <td>23.68</td>\n",
       "      <td>3.31</td>\n",
       "      <td>Male</td>\n",
       "      <td>No</td>\n",
       "      <td>Sun</td>\n",
       "      <td>Dinner</td>\n",
       "      <td>2</td>\n",
       "    </tr>\n",
       "    <tr>\n",
       "      <th>4</th>\n",
       "      <td>24.59</td>\n",
       "      <td>3.61</td>\n",
       "      <td>Female</td>\n",
       "      <td>No</td>\n",
       "      <td>Sun</td>\n",
       "      <td>Dinner</td>\n",
       "      <td>4</td>\n",
       "    </tr>\n",
       "    <tr>\n",
       "      <th>...</th>\n",
       "      <td>...</td>\n",
       "      <td>...</td>\n",
       "      <td>...</td>\n",
       "      <td>...</td>\n",
       "      <td>...</td>\n",
       "      <td>...</td>\n",
       "      <td>...</td>\n",
       "    </tr>\n",
       "    <tr>\n",
       "      <th>239</th>\n",
       "      <td>29.03</td>\n",
       "      <td>5.92</td>\n",
       "      <td>Male</td>\n",
       "      <td>No</td>\n",
       "      <td>Sat</td>\n",
       "      <td>Dinner</td>\n",
       "      <td>3</td>\n",
       "    </tr>\n",
       "    <tr>\n",
       "      <th>240</th>\n",
       "      <td>27.18</td>\n",
       "      <td>2.00</td>\n",
       "      <td>Female</td>\n",
       "      <td>Yes</td>\n",
       "      <td>Sat</td>\n",
       "      <td>Dinner</td>\n",
       "      <td>2</td>\n",
       "    </tr>\n",
       "    <tr>\n",
       "      <th>241</th>\n",
       "      <td>22.67</td>\n",
       "      <td>2.00</td>\n",
       "      <td>Male</td>\n",
       "      <td>Yes</td>\n",
       "      <td>Sat</td>\n",
       "      <td>Dinner</td>\n",
       "      <td>2</td>\n",
       "    </tr>\n",
       "    <tr>\n",
       "      <th>242</th>\n",
       "      <td>17.82</td>\n",
       "      <td>1.75</td>\n",
       "      <td>Male</td>\n",
       "      <td>No</td>\n",
       "      <td>Sat</td>\n",
       "      <td>Dinner</td>\n",
       "      <td>2</td>\n",
       "    </tr>\n",
       "    <tr>\n",
       "      <th>243</th>\n",
       "      <td>18.78</td>\n",
       "      <td>3.00</td>\n",
       "      <td>Female</td>\n",
       "      <td>No</td>\n",
       "      <td>Thur</td>\n",
       "      <td>Dinner</td>\n",
       "      <td>2</td>\n",
       "    </tr>\n",
       "  </tbody>\n",
       "</table>\n",
       "<p>244 rows × 7 columns</p>\n",
       "</div>"
      ]
     },
     "metadata": {
      "application/vnd.databricks.v1+output": {
       "addedWidgets": {},
       "arguments": {},
       "data": "<div>\n<style scoped>\n    .dataframe tbody tr th:only-of-type {\n        vertical-align: middle;\n    }\n\n    .dataframe tbody tr th {\n        vertical-align: top;\n    }\n\n    .dataframe thead th {\n        text-align: right;\n    }\n</style>\n<table border=\"1\" class=\"dataframe\">\n  <thead>\n    <tr style=\"text-align: right;\">\n      <th></th>\n      <th>total_bill</th>\n      <th>tip</th>\n      <th>sex</th>\n      <th>smoker</th>\n      <th>day</th>\n      <th>time</th>\n      <th>size</th>\n    </tr>\n  </thead>\n  <tbody>\n    <tr>\n      <th>0</th>\n      <td>16.99</td>\n      <td>1.01</td>\n      <td>Female</td>\n      <td>No</td>\n      <td>Sun</td>\n      <td>Dinner</td>\n      <td>2</td>\n    </tr>\n    <tr>\n      <th>1</th>\n      <td>10.34</td>\n      <td>1.66</td>\n      <td>Male</td>\n      <td>No</td>\n      <td>Sun</td>\n      <td>Dinner</td>\n      <td>3</td>\n    </tr>\n    <tr>\n      <th>2</th>\n      <td>21.01</td>\n      <td>3.50</td>\n      <td>Male</td>\n      <td>No</td>\n      <td>Sun</td>\n      <td>Dinner</td>\n      <td>3</td>\n    </tr>\n    <tr>\n      <th>3</th>\n      <td>23.68</td>\n      <td>3.31</td>\n      <td>Male</td>\n      <td>No</td>\n      <td>Sun</td>\n      <td>Dinner</td>\n      <td>2</td>\n    </tr>\n    <tr>\n      <th>4</th>\n      <td>24.59</td>\n      <td>3.61</td>\n      <td>Female</td>\n      <td>No</td>\n      <td>Sun</td>\n      <td>Dinner</td>\n      <td>4</td>\n    </tr>\n    <tr>\n      <th>...</th>\n      <td>...</td>\n      <td>...</td>\n      <td>...</td>\n      <td>...</td>\n      <td>...</td>\n      <td>...</td>\n      <td>...</td>\n    </tr>\n    <tr>\n      <th>239</th>\n      <td>29.03</td>\n      <td>5.92</td>\n      <td>Male</td>\n      <td>No</td>\n      <td>Sat</td>\n      <td>Dinner</td>\n      <td>3</td>\n    </tr>\n    <tr>\n      <th>240</th>\n      <td>27.18</td>\n      <td>2.00</td>\n      <td>Female</td>\n      <td>Yes</td>\n      <td>Sat</td>\n      <td>Dinner</td>\n      <td>2</td>\n    </tr>\n    <tr>\n      <th>241</th>\n      <td>22.67</td>\n      <td>2.00</td>\n      <td>Male</td>\n      <td>Yes</td>\n      <td>Sat</td>\n      <td>Dinner</td>\n      <td>2</td>\n    </tr>\n    <tr>\n      <th>242</th>\n      <td>17.82</td>\n      <td>1.75</td>\n      <td>Male</td>\n      <td>No</td>\n      <td>Sat</td>\n      <td>Dinner</td>\n      <td>2</td>\n    </tr>\n    <tr>\n      <th>243</th>\n      <td>18.78</td>\n      <td>3.00</td>\n      <td>Female</td>\n      <td>No</td>\n      <td>Thur</td>\n      <td>Dinner</td>\n      <td>2</td>\n    </tr>\n  </tbody>\n</table>\n<p>244 rows × 7 columns</p>\n</div>",
       "datasetInfos": [],
       "metadata": {},
       "removedWidgets": [],
       "textData": null,
       "type": "htmlSandbox"
      }
     },
     "output_type": "display_data"
    }
   ],
   "source": [
    "import seaborn as sns\n",
    "\n",
    "df = sns.load_dataset('tips')\n",
    "df"
   ]
  },
  {
   "cell_type": "code",
   "execution_count": 0,
   "metadata": {
    "application/vnd.databricks.v1+cell": {
     "inputWidgets": {},
     "nuid": "0dc58f41-cdb4-487d-9894-b36d77220c7a",
     "showTitle": false,
     "title": ""
    }
   },
   "outputs": [
    {
     "data": {
      "text/html": [
       "<style scoped>\n",
       "  .ansiout {\n",
       "    display: block;\n",
       "    unicode-bidi: embed;\n",
       "    white-space: pre-wrap;\n",
       "    word-wrap: break-word;\n",
       "    word-break: break-all;\n",
       "    font-family: \"Source Code Pro\", \"Menlo\", monospace;;\n",
       "    font-size: 13px;\n",
       "    color: #555;\n",
       "    margin-left: 4px;\n",
       "    line-height: 19px;\n",
       "  }\n",
       "</style>\n",
       "<div class=\"ansiout\">+----------+----+------+------+---+------+----+\n",
       "total_bill| tip|   sex|smoker|day|  time|size|\n",
       "+----------+----+------+------+---+------+----+\n",
       "     16.99|1.01|Female|    No|Sun|Dinner|   2|\n",
       "     10.34|1.66|  Male|    No|Sun|Dinner|   3|\n",
       "     21.01| 3.5|  Male|    No|Sun|Dinner|   3|\n",
       "     23.68|3.31|  Male|    No|Sun|Dinner|   2|\n",
       "     24.59|3.61|Female|    No|Sun|Dinner|   4|\n",
       "     25.29|4.71|  Male|    No|Sun|Dinner|   4|\n",
       "      8.77| 2.0|  Male|    No|Sun|Dinner|   2|\n",
       "     26.88|3.12|  Male|    No|Sun|Dinner|   4|\n",
       "     15.04|1.96|  Male|    No|Sun|Dinner|   2|\n",
       "     14.78|3.23|  Male|    No|Sun|Dinner|   2|\n",
       "     10.27|1.71|  Male|    No|Sun|Dinner|   2|\n",
       "     35.26| 5.0|Female|    No|Sun|Dinner|   4|\n",
       "     15.42|1.57|  Male|    No|Sun|Dinner|   2|\n",
       "     18.43| 3.0|  Male|    No|Sun|Dinner|   4|\n",
       "     14.83|3.02|Female|    No|Sun|Dinner|   2|\n",
       "     21.58|3.92|  Male|    No|Sun|Dinner|   2|\n",
       "     10.33|1.67|Female|    No|Sun|Dinner|   3|\n",
       "     16.29|3.71|  Male|    No|Sun|Dinner|   3|\n",
       "     16.97| 3.5|Female|    No|Sun|Dinner|   3|\n",
       "     20.65|3.35|  Male|    No|Sat|Dinner|   3|\n",
       "+----------+----+------+------+---+------+----+\n",
       "only showing top 20 rows\n",
       "\n",
       "</div>"
      ]
     },
     "metadata": {
      "application/vnd.databricks.v1+output": {
       "addedWidgets": {},
       "arguments": {},
       "data": "<div class=\"ansiout\">+----------+----+------+------+---+------+----+\n|total_bill| tip|   sex|smoker|day|  time|size|\n+----------+----+------+------+---+------+----+\n|     16.99|1.01|Female|    No|Sun|Dinner|   2|\n|     10.34|1.66|  Male|    No|Sun|Dinner|   3|\n|     21.01| 3.5|  Male|    No|Sun|Dinner|   3|\n|     23.68|3.31|  Male|    No|Sun|Dinner|   2|\n|     24.59|3.61|Female|    No|Sun|Dinner|   4|\n|     25.29|4.71|  Male|    No|Sun|Dinner|   4|\n|      8.77| 2.0|  Male|    No|Sun|Dinner|   2|\n|     26.88|3.12|  Male|    No|Sun|Dinner|   4|\n|     15.04|1.96|  Male|    No|Sun|Dinner|   2|\n|     14.78|3.23|  Male|    No|Sun|Dinner|   2|\n|     10.27|1.71|  Male|    No|Sun|Dinner|   2|\n|     35.26| 5.0|Female|    No|Sun|Dinner|   4|\n|     15.42|1.57|  Male|    No|Sun|Dinner|   2|\n|     18.43| 3.0|  Male|    No|Sun|Dinner|   4|\n|     14.83|3.02|Female|    No|Sun|Dinner|   2|\n|     21.58|3.92|  Male|    No|Sun|Dinner|   2|\n|     10.33|1.67|Female|    No|Sun|Dinner|   3|\n|     16.29|3.71|  Male|    No|Sun|Dinner|   3|\n|     16.97| 3.5|Female|    No|Sun|Dinner|   3|\n|     20.65|3.35|  Male|    No|Sat|Dinner|   3|\n+----------+----+------+------+---+------+----+\nonly showing top 20 rows\n\n</div>",
       "datasetInfos": [],
       "metadata": {},
       "removedWidgets": [],
       "type": "html"
      }
     },
     "output_type": "display_data"
    }
   ],
   "source": [
    "# convert df to spark df\n",
    "df = spark.createDataFrame(df)\n",
    "df.show()"
   ]
  },
  {
   "cell_type": "code",
   "execution_count": 0,
   "metadata": {
    "application/vnd.databricks.v1+cell": {
     "inputWidgets": {},
     "nuid": "194b2228-635f-4b7f-bdec-411f068f3dc3",
     "showTitle": false,
     "title": ""
    }
   },
   "outputs": [
    {
     "data": {
      "text/html": [
       "<style scoped>\n",
       "  .ansiout {\n",
       "    display: block;\n",
       "    unicode-bidi: embed;\n",
       "    white-space: pre-wrap;\n",
       "    word-wrap: break-word;\n",
       "    word-break: break-all;\n",
       "    font-family: \"Source Code Pro\", \"Menlo\", monospace;;\n",
       "    font-size: 13px;\n",
       "    color: #555;\n",
       "    margin-left: 4px;\n",
       "    line-height: 19px;\n",
       "  }\n",
       "</style>\n",
       "<div class=\"ansiout\">root\n",
       "-- total_bill: double (nullable = true)\n",
       "-- tip: double (nullable = true)\n",
       "-- sex: string (nullable = true)\n",
       "-- smoker: string (nullable = true)\n",
       "-- day: string (nullable = true)\n",
       "-- time: string (nullable = true)\n",
       "-- size: long (nullable = true)\n",
       "\n",
       "</div>"
      ]
     },
     "metadata": {
      "application/vnd.databricks.v1+output": {
       "addedWidgets": {},
       "arguments": {},
       "data": "<div class=\"ansiout\">root\n |-- total_bill: double (nullable = true)\n |-- tip: double (nullable = true)\n |-- sex: string (nullable = true)\n |-- smoker: string (nullable = true)\n |-- day: string (nullable = true)\n |-- time: string (nullable = true)\n |-- size: long (nullable = true)\n\n</div>",
       "datasetInfos": [],
       "metadata": {},
       "removedWidgets": [],
       "type": "html"
      }
     },
     "output_type": "display_data"
    }
   ],
   "source": [
    "df.printSchema()"
   ]
  },
  {
   "cell_type": "code",
   "execution_count": 0,
   "metadata": {
    "application/vnd.databricks.v1+cell": {
     "inputWidgets": {},
     "nuid": "a1f622d2-dc54-46e9-b05d-ecfecfc48fa1",
     "showTitle": false,
     "title": ""
    }
   },
   "outputs": [
    {
     "data": {
      "text/html": [
       "<style scoped>\n",
       "  .ansiout {\n",
       "    display: block;\n",
       "    unicode-bidi: embed;\n",
       "    white-space: pre-wrap;\n",
       "    word-wrap: break-word;\n",
       "    word-break: break-all;\n",
       "    font-family: \"Source Code Pro\", \"Menlo\", monospace;;\n",
       "    font-size: 13px;\n",
       "    color: #555;\n",
       "    margin-left: 4px;\n",
       "    line-height: 19px;\n",
       "  }\n",
       "</style>\n",
       "<div class=\"ansiout\"></div>"
      ]
     },
     "metadata": {
      "application/vnd.databricks.v1+output": {
       "addedWidgets": {},
       "arguments": {},
       "data": "<div class=\"ansiout\"></div>",
       "datasetInfos": [],
       "metadata": {},
       "removedWidgets": [],
       "type": "html"
      }
     },
     "output_type": "display_data"
    }
   ],
   "source": [
    "# convert categorical data into numerical data for ml model\n",
    "from pyspark.ml.feature import StringIndexer"
   ]
  },
  {
   "cell_type": "code",
   "execution_count": 0,
   "metadata": {
    "application/vnd.databricks.v1+cell": {
     "inputWidgets": {},
     "nuid": "06fc4628-cb54-46b6-9a7d-d1cac0a503f9",
     "showTitle": false,
     "title": ""
    }
   },
   "outputs": [
    {
     "data": {
      "text/html": [
       "<style scoped>\n",
       "  .ansiout {\n",
       "    display: block;\n",
       "    unicode-bidi: embed;\n",
       "    white-space: pre-wrap;\n",
       "    word-wrap: break-word;\n",
       "    word-break: break-all;\n",
       "    font-family: \"Source Code Pro\", \"Menlo\", monospace;;\n",
       "    font-size: 13px;\n",
       "    color: #555;\n",
       "    margin-left: 4px;\n",
       "    line-height: 19px;\n",
       "  }\n",
       "</style>\n",
       "<div class=\"ansiout\">+------+------+---+------+\n",
       "   sex|smoker|day|  time|\n",
       "+------+------+---+------+\n",
       "Female|    No|Sun|Dinner|\n",
       "  Male|    No|Sun|Dinner|\n",
       "  Male|    No|Sun|Dinner|\n",
       "  Male|    No|Sun|Dinner|\n",
       "+------+------+---+------+\n",
       "only showing top 4 rows\n",
       "\n",
       "</div>"
      ]
     },
     "metadata": {
      "application/vnd.databricks.v1+output": {
       "addedWidgets": {},
       "arguments": {},
       "data": "<div class=\"ansiout\">+------+------+---+------+\n|   sex|smoker|day|  time|\n+------+------+---+------+\n|Female|    No|Sun|Dinner|\n|  Male|    No|Sun|Dinner|\n|  Male|    No|Sun|Dinner|\n|  Male|    No|Sun|Dinner|\n+------+------+---+------+\nonly showing top 4 rows\n\n</div>",
       "datasetInfos": [],
       "metadata": {},
       "removedWidgets": [],
       "type": "html"
      }
     },
     "output_type": "display_data"
    }
   ],
   "source": [
    "df.select(['sex', 'smoker', 'day', 'time']).show(4)"
   ]
  },
  {
   "cell_type": "code",
   "execution_count": 0,
   "metadata": {
    "application/vnd.databricks.v1+cell": {
     "inputWidgets": {},
     "nuid": "fe74a8cc-9cd2-4647-8690-c71deb1d97f8",
     "showTitle": false,
     "title": ""
    }
   },
   "outputs": [
    {
     "data": {
      "text/html": [
       "<style scoped>\n",
       "  .ansiout {\n",
       "    display: block;\n",
       "    unicode-bidi: embed;\n",
       "    white-space: pre-wrap;\n",
       "    word-wrap: break-word;\n",
       "    word-break: break-all;\n",
       "    font-family: \"Source Code Pro\", \"Menlo\", monospace;;\n",
       "    font-size: 13px;\n",
       "    color: #555;\n",
       "    margin-left: 4px;\n",
       "    line-height: 19px;\n",
       "  }\n",
       "</style>\n",
       "<div class=\"ansiout\"></div>"
      ]
     },
     "metadata": {
      "application/vnd.databricks.v1+output": {
       "addedWidgets": {},
       "arguments": {},
       "data": "<div class=\"ansiout\"></div>",
       "datasetInfos": [],
       "metadata": {},
       "removedWidgets": [],
       "type": "html"
      }
     },
     "output_type": "display_data"
    }
   ],
   "source": [
    "indexer = StringIndexer(inputCols=['sex', 'smoker', 'day', 'time'], outputCols=['sex_n', 'smoker_n', 'day_n', 'time_n'])"
   ]
  },
  {
   "cell_type": "code",
   "execution_count": 0,
   "metadata": {
    "application/vnd.databricks.v1+cell": {
     "inputWidgets": {},
     "nuid": "ab0c5825-363c-4533-8026-fa15aa00dc87",
     "showTitle": false,
     "title": ""
    }
   },
   "outputs": [
    {
     "data": {
      "text/html": [
       "<style scoped>\n",
       "  .ansiout {\n",
       "    display: block;\n",
       "    unicode-bidi: embed;\n",
       "    white-space: pre-wrap;\n",
       "    word-wrap: break-word;\n",
       "    word-break: break-all;\n",
       "    font-family: \"Source Code Pro\", \"Menlo\", monospace;;\n",
       "    font-size: 13px;\n",
       "    color: #555;\n",
       "    margin-left: 4px;\n",
       "    line-height: 19px;\n",
       "  }\n",
       "</style>\n",
       "<div class=\"ansiout\">+----------+----+------+------+---+------+----+-----+--------+-----+------+\n",
       "total_bill| tip|   sex|smoker|day|  time|size|sex_n|smoker_n|day_n|time_n|\n",
       "+----------+----+------+------+---+------+----+-----+--------+-----+------+\n",
       "     16.99|1.01|Female|    No|Sun|Dinner|   2|  1.0|     0.0|  1.0|   0.0|\n",
       "     10.34|1.66|  Male|    No|Sun|Dinner|   3|  0.0|     0.0|  1.0|   0.0|\n",
       "     21.01| 3.5|  Male|    No|Sun|Dinner|   3|  0.0|     0.0|  1.0|   0.0|\n",
       "     23.68|3.31|  Male|    No|Sun|Dinner|   2|  0.0|     0.0|  1.0|   0.0|\n",
       "     24.59|3.61|Female|    No|Sun|Dinner|   4|  1.0|     0.0|  1.0|   0.0|\n",
       "     25.29|4.71|  Male|    No|Sun|Dinner|   4|  0.0|     0.0|  1.0|   0.0|\n",
       "      8.77| 2.0|  Male|    No|Sun|Dinner|   2|  0.0|     0.0|  1.0|   0.0|\n",
       "     26.88|3.12|  Male|    No|Sun|Dinner|   4|  0.0|     0.0|  1.0|   0.0|\n",
       "     15.04|1.96|  Male|    No|Sun|Dinner|   2|  0.0|     0.0|  1.0|   0.0|\n",
       "     14.78|3.23|  Male|    No|Sun|Dinner|   2|  0.0|     0.0|  1.0|   0.0|\n",
       "     10.27|1.71|  Male|    No|Sun|Dinner|   2|  0.0|     0.0|  1.0|   0.0|\n",
       "     35.26| 5.0|Female|    No|Sun|Dinner|   4|  1.0|     0.0|  1.0|   0.0|\n",
       "     15.42|1.57|  Male|    No|Sun|Dinner|   2|  0.0|     0.0|  1.0|   0.0|\n",
       "     18.43| 3.0|  Male|    No|Sun|Dinner|   4|  0.0|     0.0|  1.0|   0.0|\n",
       "     14.83|3.02|Female|    No|Sun|Dinner|   2|  1.0|     0.0|  1.0|   0.0|\n",
       "     21.58|3.92|  Male|    No|Sun|Dinner|   2|  0.0|     0.0|  1.0|   0.0|\n",
       "     10.33|1.67|Female|    No|Sun|Dinner|   3|  1.0|     0.0|  1.0|   0.0|\n",
       "     16.29|3.71|  Male|    No|Sun|Dinner|   3|  0.0|     0.0|  1.0|   0.0|\n",
       "     16.97| 3.5|Female|    No|Sun|Dinner|   3|  1.0|     0.0|  1.0|   0.0|\n",
       "     20.65|3.35|  Male|    No|Sat|Dinner|   3|  0.0|     0.0|  0.0|   0.0|\n",
       "+----------+----+------+------+---+------+----+-----+--------+-----+------+\n",
       "only showing top 20 rows\n",
       "\n",
       "</div>"
      ]
     },
     "metadata": {
      "application/vnd.databricks.v1+output": {
       "addedWidgets": {},
       "arguments": {},
       "data": "<div class=\"ansiout\">+----------+----+------+------+---+------+----+-----+--------+-----+------+\n|total_bill| tip|   sex|smoker|day|  time|size|sex_n|smoker_n|day_n|time_n|\n+----------+----+------+------+---+------+----+-----+--------+-----+------+\n|     16.99|1.01|Female|    No|Sun|Dinner|   2|  1.0|     0.0|  1.0|   0.0|\n|     10.34|1.66|  Male|    No|Sun|Dinner|   3|  0.0|     0.0|  1.0|   0.0|\n|     21.01| 3.5|  Male|    No|Sun|Dinner|   3|  0.0|     0.0|  1.0|   0.0|\n|     23.68|3.31|  Male|    No|Sun|Dinner|   2|  0.0|     0.0|  1.0|   0.0|\n|     24.59|3.61|Female|    No|Sun|Dinner|   4|  1.0|     0.0|  1.0|   0.0|\n|     25.29|4.71|  Male|    No|Sun|Dinner|   4|  0.0|     0.0|  1.0|   0.0|\n|      8.77| 2.0|  Male|    No|Sun|Dinner|   2|  0.0|     0.0|  1.0|   0.0|\n|     26.88|3.12|  Male|    No|Sun|Dinner|   4|  0.0|     0.0|  1.0|   0.0|\n|     15.04|1.96|  Male|    No|Sun|Dinner|   2|  0.0|     0.0|  1.0|   0.0|\n|     14.78|3.23|  Male|    No|Sun|Dinner|   2|  0.0|     0.0|  1.0|   0.0|\n|     10.27|1.71|  Male|    No|Sun|Dinner|   2|  0.0|     0.0|  1.0|   0.0|\n|     35.26| 5.0|Female|    No|Sun|Dinner|   4|  1.0|     0.0|  1.0|   0.0|\n|     15.42|1.57|  Male|    No|Sun|Dinner|   2|  0.0|     0.0|  1.0|   0.0|\n|     18.43| 3.0|  Male|    No|Sun|Dinner|   4|  0.0|     0.0|  1.0|   0.0|\n|     14.83|3.02|Female|    No|Sun|Dinner|   2|  1.0|     0.0|  1.0|   0.0|\n|     21.58|3.92|  Male|    No|Sun|Dinner|   2|  0.0|     0.0|  1.0|   0.0|\n|     10.33|1.67|Female|    No|Sun|Dinner|   3|  1.0|     0.0|  1.0|   0.0|\n|     16.29|3.71|  Male|    No|Sun|Dinner|   3|  0.0|     0.0|  1.0|   0.0|\n|     16.97| 3.5|Female|    No|Sun|Dinner|   3|  1.0|     0.0|  1.0|   0.0|\n|     20.65|3.35|  Male|    No|Sat|Dinner|   3|  0.0|     0.0|  0.0|   0.0|\n+----------+----+------+------+---+------+----+-----+--------+-----+------+\nonly showing top 20 rows\n\n</div>",
       "datasetInfos": [],
       "metadata": {},
       "removedWidgets": [],
       "type": "html"
      }
     },
     "output_type": "display_data"
    }
   ],
   "source": [
    "indexed_df = indexer.fit(df).transform(df)\n",
    "indexed_df.show()"
   ]
  },
  {
   "cell_type": "code",
   "execution_count": 0,
   "metadata": {
    "application/vnd.databricks.v1+cell": {
     "inputWidgets": {},
     "nuid": "210ac96e-a74a-420d-a297-440cb542c512",
     "showTitle": false,
     "title": ""
    }
   },
   "outputs": [
    {
     "data": {
      "text/html": [
       "<style scoped>\n",
       "  .ansiout {\n",
       "    display: block;\n",
       "    unicode-bidi: embed;\n",
       "    white-space: pre-wrap;\n",
       "    word-wrap: break-word;\n",
       "    word-break: break-all;\n",
       "    font-family: \"Source Code Pro\", \"Menlo\", monospace;;\n",
       "    font-size: 13px;\n",
       "    color: #555;\n",
       "    margin-left: 4px;\n",
       "    line-height: 19px;\n",
       "  }\n",
       "</style>\n",
       "<div class=\"ansiout\"></div>"
      ]
     },
     "metadata": {
      "application/vnd.databricks.v1+output": {
       "addedWidgets": {},
       "arguments": {},
       "data": "<div class=\"ansiout\"></div>",
       "datasetInfos": [],
       "metadata": {},
       "removedWidgets": [],
       "type": "html"
      }
     },
     "output_type": "display_data"
    }
   ],
   "source": [
    "from pyspark.ml.feature import VectorAssembler"
   ]
  },
  {
   "cell_type": "code",
   "execution_count": 0,
   "metadata": {
    "application/vnd.databricks.v1+cell": {
     "inputWidgets": {},
     "nuid": "065835d1-ed7b-4003-ab6c-81b6e1d7328d",
     "showTitle": false,
     "title": ""
    }
   },
   "outputs": [
    {
     "data": {
      "text/html": [
       "<style scoped>\n",
       "  .ansiout {\n",
       "    display: block;\n",
       "    unicode-bidi: embed;\n",
       "    white-space: pre-wrap;\n",
       "    word-wrap: break-word;\n",
       "    word-break: break-all;\n",
       "    font-family: \"Source Code Pro\", \"Menlo\", monospace;;\n",
       "    font-size: 13px;\n",
       "    color: #555;\n",
       "    margin-left: 4px;\n",
       "    line-height: 19px;\n",
       "  }\n",
       "</style>\n",
       "<div class=\"ansiout\">[&#39;total_bill&#39;, &#39;tip&#39;, &#39;sex&#39;, &#39;smoker&#39;, &#39;day&#39;, &#39;time&#39;, &#39;size&#39;, &#39;sex_n&#39;, &#39;smoker_n&#39;, &#39;day_n&#39;, &#39;time_n&#39;]\n",
       "</div>"
      ]
     },
     "metadata": {
      "application/vnd.databricks.v1+output": {
       "addedWidgets": {},
       "arguments": {},
       "data": "<div class=\"ansiout\">[&#39;total_bill&#39;, &#39;tip&#39;, &#39;sex&#39;, &#39;smoker&#39;, &#39;day&#39;, &#39;time&#39;, &#39;size&#39;, &#39;sex_n&#39;, &#39;smoker_n&#39;, &#39;day_n&#39;, &#39;time_n&#39;]\n</div>",
       "datasetInfos": [],
       "metadata": {},
       "removedWidgets": [],
       "type": "html"
      }
     },
     "output_type": "display_data"
    }
   ],
   "source": [
    "print(indexed_df.columns)"
   ]
  },
  {
   "cell_type": "code",
   "execution_count": 0,
   "metadata": {
    "application/vnd.databricks.v1+cell": {
     "inputWidgets": {},
     "nuid": "d3a33bf8-30fb-41e7-b601-392f41bab1d4",
     "showTitle": false,
     "title": ""
    }
   },
   "outputs": [
    {
     "data": {
      "text/html": [
       "<style scoped>\n",
       "  .ansiout {\n",
       "    display: block;\n",
       "    unicode-bidi: embed;\n",
       "    white-space: pre-wrap;\n",
       "    word-wrap: break-word;\n",
       "    word-break: break-all;\n",
       "    font-family: \"Source Code Pro\", \"Menlo\", monospace;;\n",
       "    font-size: 13px;\n",
       "    color: #555;\n",
       "    margin-left: 4px;\n",
       "    line-height: 19px;\n",
       "  }\n",
       "</style>\n",
       "<div class=\"ansiout\"></div>"
      ]
     },
     "metadata": {
      "application/vnd.databricks.v1+output": {
       "addedWidgets": {},
       "arguments": {},
       "data": "<div class=\"ansiout\"></div>",
       "datasetInfos": [],
       "metadata": {},
       "removedWidgets": [],
       "type": "html"
      }
     },
     "output_type": "display_data"
    }
   ],
   "source": [
    "vectorAssembler = VectorAssembler(inputCols=['total_bill', 'tip', 'sex_n', 'smoker_n', 'day_n', 'time_n'], outputCol='features')"
   ]
  },
  {
   "cell_type": "code",
   "execution_count": 0,
   "metadata": {
    "application/vnd.databricks.v1+cell": {
     "inputWidgets": {},
     "nuid": "f2d770bc-91d6-423c-9a60-1530db996f72",
     "showTitle": false,
     "title": ""
    }
   },
   "outputs": [
    {
     "data": {
      "text/html": [
       "<style scoped>\n",
       "  .ansiout {\n",
       "    display: block;\n",
       "    unicode-bidi: embed;\n",
       "    white-space: pre-wrap;\n",
       "    word-wrap: break-word;\n",
       "    word-break: break-all;\n",
       "    font-family: \"Source Code Pro\", \"Menlo\", monospace;;\n",
       "    font-size: 13px;\n",
       "    color: #555;\n",
       "    margin-left: 4px;\n",
       "    line-height: 19px;\n",
       "  }\n",
       "</style>\n",
       "<div class=\"ansiout\">+----------+----+------+------+---+------+----+-----+--------+-----+------+--------------------+\n",
       "total_bill| tip|   sex|smoker|day|  time|size|sex_n|smoker_n|day_n|time_n|            features|\n",
       "+----------+----+------+------+---+------+----+-----+--------+-----+------+--------------------+\n",
       "     16.99|1.01|Female|    No|Sun|Dinner|   2|  1.0|     0.0|  1.0|   0.0|[16.99,1.01,1.0,0...|\n",
       "     10.34|1.66|  Male|    No|Sun|Dinner|   3|  0.0|     0.0|  1.0|   0.0|[10.34,1.66,0.0,0...|\n",
       "     21.01| 3.5|  Male|    No|Sun|Dinner|   3|  0.0|     0.0|  1.0|   0.0|[21.01,3.5,0.0,0....|\n",
       "     23.68|3.31|  Male|    No|Sun|Dinner|   2|  0.0|     0.0|  1.0|   0.0|[23.68,3.31,0.0,0...|\n",
       "     24.59|3.61|Female|    No|Sun|Dinner|   4|  1.0|     0.0|  1.0|   0.0|[24.59,3.61,1.0,0...|\n",
       "     25.29|4.71|  Male|    No|Sun|Dinner|   4|  0.0|     0.0|  1.0|   0.0|[25.29,4.71,0.0,0...|\n",
       "      8.77| 2.0|  Male|    No|Sun|Dinner|   2|  0.0|     0.0|  1.0|   0.0|[8.77,2.0,0.0,0.0...|\n",
       "     26.88|3.12|  Male|    No|Sun|Dinner|   4|  0.0|     0.0|  1.0|   0.0|[26.88,3.12,0.0,0...|\n",
       "     15.04|1.96|  Male|    No|Sun|Dinner|   2|  0.0|     0.0|  1.0|   0.0|[15.04,1.96,0.0,0...|\n",
       "     14.78|3.23|  Male|    No|Sun|Dinner|   2|  0.0|     0.0|  1.0|   0.0|[14.78,3.23,0.0,0...|\n",
       "     10.27|1.71|  Male|    No|Sun|Dinner|   2|  0.0|     0.0|  1.0|   0.0|[10.27,1.71,0.0,0...|\n",
       "     35.26| 5.0|Female|    No|Sun|Dinner|   4|  1.0|     0.0|  1.0|   0.0|[35.26,5.0,1.0,0....|\n",
       "     15.42|1.57|  Male|    No|Sun|Dinner|   2|  0.0|     0.0|  1.0|   0.0|[15.42,1.57,0.0,0...|\n",
       "     18.43| 3.0|  Male|    No|Sun|Dinner|   4|  0.0|     0.0|  1.0|   0.0|[18.43,3.0,0.0,0....|\n",
       "     14.83|3.02|Female|    No|Sun|Dinner|   2|  1.0|     0.0|  1.0|   0.0|[14.83,3.02,1.0,0...|\n",
       "     21.58|3.92|  Male|    No|Sun|Dinner|   2|  0.0|     0.0|  1.0|   0.0|[21.58,3.92,0.0,0...|\n",
       "     10.33|1.67|Female|    No|Sun|Dinner|   3|  1.0|     0.0|  1.0|   0.0|[10.33,1.67,1.0,0...|\n",
       "     16.29|3.71|  Male|    No|Sun|Dinner|   3|  0.0|     0.0|  1.0|   0.0|[16.29,3.71,0.0,0...|\n",
       "     16.97| 3.5|Female|    No|Sun|Dinner|   3|  1.0|     0.0|  1.0|   0.0|[16.97,3.5,1.0,0....|\n",
       "     20.65|3.35|  Male|    No|Sat|Dinner|   3|  0.0|     0.0|  0.0|   0.0|(6,[0,1],[20.65,3...|\n",
       "+----------+----+------+------+---+------+----+-----+--------+-----+------+--------------------+\n",
       "only showing top 20 rows\n",
       "\n",
       "</div>"
      ]
     },
     "metadata": {
      "application/vnd.databricks.v1+output": {
       "addedWidgets": {},
       "arguments": {},
       "data": "<div class=\"ansiout\">+----------+----+------+------+---+------+----+-----+--------+-----+------+--------------------+\n|total_bill| tip|   sex|smoker|day|  time|size|sex_n|smoker_n|day_n|time_n|            features|\n+----------+----+------+------+---+------+----+-----+--------+-----+------+--------------------+\n|     16.99|1.01|Female|    No|Sun|Dinner|   2|  1.0|     0.0|  1.0|   0.0|[16.99,1.01,1.0,0...|\n|     10.34|1.66|  Male|    No|Sun|Dinner|   3|  0.0|     0.0|  1.0|   0.0|[10.34,1.66,0.0,0...|\n|     21.01| 3.5|  Male|    No|Sun|Dinner|   3|  0.0|     0.0|  1.0|   0.0|[21.01,3.5,0.0,0....|\n|     23.68|3.31|  Male|    No|Sun|Dinner|   2|  0.0|     0.0|  1.0|   0.0|[23.68,3.31,0.0,0...|\n|     24.59|3.61|Female|    No|Sun|Dinner|   4|  1.0|     0.0|  1.0|   0.0|[24.59,3.61,1.0,0...|\n|     25.29|4.71|  Male|    No|Sun|Dinner|   4|  0.0|     0.0|  1.0|   0.0|[25.29,4.71,0.0,0...|\n|      8.77| 2.0|  Male|    No|Sun|Dinner|   2|  0.0|     0.0|  1.0|   0.0|[8.77,2.0,0.0,0.0...|\n|     26.88|3.12|  Male|    No|Sun|Dinner|   4|  0.0|     0.0|  1.0|   0.0|[26.88,3.12,0.0,0...|\n|     15.04|1.96|  Male|    No|Sun|Dinner|   2|  0.0|     0.0|  1.0|   0.0|[15.04,1.96,0.0,0...|\n|     14.78|3.23|  Male|    No|Sun|Dinner|   2|  0.0|     0.0|  1.0|   0.0|[14.78,3.23,0.0,0...|\n|     10.27|1.71|  Male|    No|Sun|Dinner|   2|  0.0|     0.0|  1.0|   0.0|[10.27,1.71,0.0,0...|\n|     35.26| 5.0|Female|    No|Sun|Dinner|   4|  1.0|     0.0|  1.0|   0.0|[35.26,5.0,1.0,0....|\n|     15.42|1.57|  Male|    No|Sun|Dinner|   2|  0.0|     0.0|  1.0|   0.0|[15.42,1.57,0.0,0...|\n|     18.43| 3.0|  Male|    No|Sun|Dinner|   4|  0.0|     0.0|  1.0|   0.0|[18.43,3.0,0.0,0....|\n|     14.83|3.02|Female|    No|Sun|Dinner|   2|  1.0|     0.0|  1.0|   0.0|[14.83,3.02,1.0,0...|\n|     21.58|3.92|  Male|    No|Sun|Dinner|   2|  0.0|     0.0|  1.0|   0.0|[21.58,3.92,0.0,0...|\n|     10.33|1.67|Female|    No|Sun|Dinner|   3|  1.0|     0.0|  1.0|   0.0|[10.33,1.67,1.0,0...|\n|     16.29|3.71|  Male|    No|Sun|Dinner|   3|  0.0|     0.0|  1.0|   0.0|[16.29,3.71,0.0,0...|\n|     16.97| 3.5|Female|    No|Sun|Dinner|   3|  1.0|     0.0|  1.0|   0.0|[16.97,3.5,1.0,0....|\n|     20.65|3.35|  Male|    No|Sat|Dinner|   3|  0.0|     0.0|  0.0|   0.0|(6,[0,1],[20.65,3...|\n+----------+----+------+------+---+------+----+-----+--------+-----+------+--------------------+\nonly showing top 20 rows\n\n</div>",
       "datasetInfos": [],
       "metadata": {},
       "removedWidgets": [],
       "type": "html"
      }
     },
     "output_type": "display_data"
    }
   ],
   "source": [
    "output = vectorAssembler.transform(indexed_df)\n",
    "output.show()"
   ]
  },
  {
   "cell_type": "code",
   "execution_count": 0,
   "metadata": {
    "application/vnd.databricks.v1+cell": {
     "inputWidgets": {},
     "nuid": "56c06064-2687-4d36-a6a0-99ac1817b61e",
     "showTitle": false,
     "title": ""
    }
   },
   "outputs": [
    {
     "data": {
      "text/html": [
       "<style scoped>\n",
       "  .ansiout {\n",
       "    display: block;\n",
       "    unicode-bidi: embed;\n",
       "    white-space: pre-wrap;\n",
       "    word-wrap: break-word;\n",
       "    word-break: break-all;\n",
       "    font-family: \"Source Code Pro\", \"Menlo\", monospace;;\n",
       "    font-size: 13px;\n",
       "    color: #555;\n",
       "    margin-left: 4px;\n",
       "    line-height: 19px;\n",
       "  }\n",
       "</style>\n",
       "<div class=\"ansiout\">+--------------------+----+\n",
       "            features|size|\n",
       "+--------------------+----+\n",
       "[16.99,1.01,1.0,0...|   2|\n",
       "[10.34,1.66,0.0,0...|   3|\n",
       "[21.01,3.5,0.0,0....|   3|\n",
       "[23.68,3.31,0.0,0...|   2|\n",
       "[24.59,3.61,1.0,0...|   4|\n",
       "[25.29,4.71,0.0,0...|   4|\n",
       "[8.77,2.0,0.0,0.0...|   2|\n",
       "[26.88,3.12,0.0,0...|   4|\n",
       "[15.04,1.96,0.0,0...|   2|\n",
       "[14.78,3.23,0.0,0...|   2|\n",
       "[10.27,1.71,0.0,0...|   2|\n",
       "[35.26,5.0,1.0,0....|   4|\n",
       "[15.42,1.57,0.0,0...|   2|\n",
       "[18.43,3.0,0.0,0....|   4|\n",
       "[14.83,3.02,1.0,0...|   2|\n",
       "[21.58,3.92,0.0,0...|   2|\n",
       "[10.33,1.67,1.0,0...|   3|\n",
       "[16.29,3.71,0.0,0...|   3|\n",
       "[16.97,3.5,1.0,0....|   3|\n",
       "(6,[0,1],[20.65,3...|   3|\n",
       "+--------------------+----+\n",
       "only showing top 20 rows\n",
       "\n",
       "</div>"
      ]
     },
     "metadata": {
      "application/vnd.databricks.v1+output": {
       "addedWidgets": {},
       "arguments": {},
       "data": "<div class=\"ansiout\">+--------------------+----+\n|            features|size|\n+--------------------+----+\n|[16.99,1.01,1.0,0...|   2|\n|[10.34,1.66,0.0,0...|   3|\n|[21.01,3.5,0.0,0....|   3|\n|[23.68,3.31,0.0,0...|   2|\n|[24.59,3.61,1.0,0...|   4|\n|[25.29,4.71,0.0,0...|   4|\n|[8.77,2.0,0.0,0.0...|   2|\n|[26.88,3.12,0.0,0...|   4|\n|[15.04,1.96,0.0,0...|   2|\n|[14.78,3.23,0.0,0...|   2|\n|[10.27,1.71,0.0,0...|   2|\n|[35.26,5.0,1.0,0....|   4|\n|[15.42,1.57,0.0,0...|   2|\n|[18.43,3.0,0.0,0....|   4|\n|[14.83,3.02,1.0,0...|   2|\n|[21.58,3.92,0.0,0...|   2|\n|[10.33,1.67,1.0,0...|   3|\n|[16.29,3.71,0.0,0...|   3|\n|[16.97,3.5,1.0,0....|   3|\n|(6,[0,1],[20.65,3...|   3|\n+--------------------+----+\nonly showing top 20 rows\n\n</div>",
       "datasetInfos": [],
       "metadata": {},
       "removedWidgets": [],
       "type": "html"
      }
     },
     "output_type": "display_data"
    }
   ],
   "source": [
    "training_df = output.select(['features', 'size'])\n",
    "training_df.show()"
   ]
  },
  {
   "cell_type": "code",
   "execution_count": 0,
   "metadata": {
    "application/vnd.databricks.v1+cell": {
     "inputWidgets": {},
     "nuid": "f5df73bc-ec9a-4367-b55e-75b0a7d85717",
     "showTitle": false,
     "title": ""
    }
   },
   "outputs": [
    {
     "data": {
      "text/html": [
       "<style scoped>\n",
       "  .ansiout {\n",
       "    display: block;\n",
       "    unicode-bidi: embed;\n",
       "    white-space: pre-wrap;\n",
       "    word-wrap: break-word;\n",
       "    word-break: break-all;\n",
       "    font-family: \"Source Code Pro\", \"Menlo\", monospace;;\n",
       "    font-size: 13px;\n",
       "    color: #555;\n",
       "    margin-left: 4px;\n",
       "    line-height: 19px;\n",
       "  }\n",
       "</style>\n",
       "<div class=\"ansiout\"></div>"
      ]
     },
     "metadata": {
      "application/vnd.databricks.v1+output": {
       "addedWidgets": {},
       "arguments": {},
       "data": "<div class=\"ansiout\"></div>",
       "datasetInfos": [],
       "metadata": {},
       "removedWidgets": [],
       "type": "html"
      }
     },
     "output_type": "display_data"
    }
   ],
   "source": [
    "from pyspark.ml.classification import LogisticRegression\n",
    "train_data, test_data = training_df.randomSplit([.7, .3])\n",
    "LR = LogisticRegression(featuresCol='features', labelCol='size')\n",
    "LR = LR.fit(train_data)"
   ]
  },
  {
   "cell_type": "code",
   "execution_count": 0,
   "metadata": {
    "application/vnd.databricks.v1+cell": {
     "inputWidgets": {},
     "nuid": "ddebdd78-e87b-4e8d-926c-6911936e8d36",
     "showTitle": false,
     "title": ""
    }
   },
   "outputs": [
    {
     "data": {
      "text/html": [
       "<style scoped>\n",
       "  .ansiout {\n",
       "    display: block;\n",
       "    unicode-bidi: embed;\n",
       "    white-space: pre-wrap;\n",
       "    word-wrap: break-word;\n",
       "    word-break: break-all;\n",
       "    font-family: \"Source Code Pro\", \"Menlo\", monospace;;\n",
       "    font-size: 13px;\n",
       "    color: #555;\n",
       "    margin-left: 4px;\n",
       "    line-height: 19px;\n",
       "  }\n",
       "</style>\n",
       "<div class=\"ansiout\">/databricks/spark/python/pyspark/sql/context.py:134: FutureWarning: Deprecated in 3.0.0. Use SparkSession.builder.getOrCreate() instead.\n",
       "  warnings.warn(\n",
       "/databricks/spark/python/pyspark/sql/pandas/conversion.py:92: UserWarning: toPandas attempted Arrow optimization because &#39;spark.sql.execution.arrow.pyspark.enabled&#39; is set to true; however, failed by the reason below:\n",
       "  Unable to convert the field features. If this column is not necessary, you may consider dropping it or converting to primitive type before the conversion.\n",
       "Direct cause: Unsupported type in conversion to Arrow: VectorUDT\n",
       "Attempting non-optimization as &#39;spark.sql.execution.arrow.pyspark.fallback.enabled&#39; is set to true.\n",
       "  warnings.warn(msg)\n",
       "Out[43]: </div>"
      ]
     },
     "metadata": {
      "application/vnd.databricks.v1+output": {
       "addedWidgets": {},
       "arguments": {},
       "data": "<div class=\"ansiout\">/databricks/spark/python/pyspark/sql/context.py:134: FutureWarning: Deprecated in 3.0.0. Use SparkSession.builder.getOrCreate() instead.\n  warnings.warn(\n/databricks/spark/python/pyspark/sql/pandas/conversion.py:92: UserWarning: toPandas attempted Arrow optimization because &#39;spark.sql.execution.arrow.pyspark.enabled&#39; is set to true; however, failed by the reason below:\n  Unable to convert the field features. If this column is not necessary, you may consider dropping it or converting to primitive type before the conversion.\nDirect cause: Unsupported type in conversion to Arrow: VectorUDT\nAttempting non-optimization as &#39;spark.sql.execution.arrow.pyspark.fallback.enabled&#39; is set to true.\n  warnings.warn(msg)\nOut[43]: </div>",
       "datasetInfos": [],
       "metadata": {},
       "removedWidgets": [],
       "type": "html"
      }
     },
     "output_type": "display_data"
    },
    {
     "data": {
      "text/html": [
       "<div>\n",
       "<style scoped>\n",
       "    .dataframe tbody tr th:only-of-type {\n",
       "        vertical-align: middle;\n",
       "    }\n",
       "\n",
       "    .dataframe tbody tr th {\n",
       "        vertical-align: top;\n",
       "    }\n",
       "\n",
       "    .dataframe thead th {\n",
       "        text-align: right;\n",
       "    }\n",
       "</style>\n",
       "<table border=\"1\" class=\"dataframe\">\n",
       "  <thead>\n",
       "    <tr style=\"text-align: right;\">\n",
       "      <th></th>\n",
       "      <th>features</th>\n",
       "      <th>size</th>\n",
       "      <th>rawPrediction</th>\n",
       "      <th>probability</th>\n",
       "      <th>prediction</th>\n",
       "    </tr>\n",
       "  </thead>\n",
       "  <tbody>\n",
       "    <tr>\n",
       "      <th>0</th>\n",
       "      <td>(12.69, 2.0, 0.0, 0.0, 0.0, 0.0)</td>\n",
       "      <td>2</td>\n",
       "      <td>[-4.351676668767605, -1.0865988631994554, 6.10...</td>\n",
       "      <td>[2.2208959690678968e-05, 0.0005814782701798628...</td>\n",
       "      <td>2.0</td>\n",
       "    </tr>\n",
       "    <tr>\n",
       "      <th>1</th>\n",
       "      <td>(13.37, 2.0, 0.0, 0.0, 0.0, 0.0)</td>\n",
       "      <td>2</td>\n",
       "      <td>[-4.363726741096271, -1.730472350190885, 6.109...</td>\n",
       "      <td>[2.1372968730486736e-05, 0.0002974902261176327...</td>\n",
       "      <td>2.0</td>\n",
       "    </tr>\n",
       "    <tr>\n",
       "      <th>2</th>\n",
       "      <td>(21.7, 4.3, 0.0, 0.0, 0.0, 0.0)</td>\n",
       "      <td>2</td>\n",
       "      <td>[-4.590943989364682, -10.081918237222327, 5.62...</td>\n",
       "      <td>[1.0776843915262641e-05, 4.444181393244114e-08...</td>\n",
       "      <td>3.0</td>\n",
       "    </tr>\n",
       "    <tr>\n",
       "      <th>3</th>\n",
       "      <td>(31.27, 5.0, 0.0, 0.0, 0.0, 0.0)</td>\n",
       "      <td>3</td>\n",
       "      <td>[-4.784758299117603, -19.284706767751935, 5.54...</td>\n",
       "      <td>[2.3627124513471347e-06, 1.1916899099832572e-1...</td>\n",
       "      <td>4.0</td>\n",
       "    </tr>\n",
       "    <tr>\n",
       "      <th>4</th>\n",
       "      <td>[8.77, 2.0, 0.0, 0.0, 1.0, 0.0]</td>\n",
       "      <td>2</td>\n",
       "      <td>[-4.190030506618428, 1.5125118184115447, 6.088...</td>\n",
       "      <td>[3.128298285334602e-05, 0.009373263396022055, ...</td>\n",
       "      <td>2.0</td>\n",
       "    </tr>\n",
       "    <tr>\n",
       "      <th>5</th>\n",
       "      <td>[9.68, 1.32, 0.0, 0.0, 1.0, 0.0]</td>\n",
       "      <td>2</td>\n",
       "      <td>[-4.182621283781519, 0.7880389221046489, 6.259...</td>\n",
       "      <td>[2.6974001076155044e-05, 0.0038875471493995417...</td>\n",
       "      <td>2.0</td>\n",
       "    </tr>\n",
       "    <tr>\n",
       "      <th>6</th>\n",
       "      <td>[9.94, 1.56, 0.0, 0.0, 1.0, 0.0]</td>\n",
       "      <td>2</td>\n",
       "      <td>[-4.195535154350879, 0.4934350609849947, 6.204...</td>\n",
       "      <td>[2.791244079064217e-05, 0.003035230692311033, ...</td>\n",
       "      <td>2.0</td>\n",
       "    </tr>\n",
       "    <tr>\n",
       "      <th>7</th>\n",
       "      <td>[13.94, 3.06, 0.0, 0.0, 1.0, 0.0]</td>\n",
       "      <td>2</td>\n",
       "      <td>[-4.318333495086702, -3.59666191160791, 5.8783...</td>\n",
       "      <td>[2.9672629292272415e-05, 6.106242073631815e-05...</td>\n",
       "      <td>2.0</td>\n",
       "    </tr>\n",
       "    <tr>\n",
       "      <th>8</th>\n",
       "      <td>[16.29, 3.71, 0.0, 0.0, 1.0, 0.0]</td>\n",
       "      <td>3</td>\n",
       "      <td>[-4.382473871076162, -5.952942144307061, 5.742...</td>\n",
       "      <td>[2.7597380924371595e-05, 5.7388141846259995e-0...</td>\n",
       "      <td>2.0</td>\n",
       "    </tr>\n",
       "    <tr>\n",
       "      <th>9</th>\n",
       "      <td>[18.04, 3.0, 0.0, 0.0, 1.0, 0.0]</td>\n",
       "      <td>2</td>\n",
       "      <td>[-4.388911720457437, -7.466736054150511, 5.927...</td>\n",
       "      <td>[2.296898127818084e-05, 1.0579365203040922e-06...</td>\n",
       "      <td>2.0</td>\n",
       "    </tr>\n",
       "    <tr>\n",
       "      <th>10</th>\n",
       "      <td>[18.29, 3.0, 0.0, 0.0, 1.0, 0.0]</td>\n",
       "      <td>2</td>\n",
       "      <td>[-4.393341894107682, -7.703454247897364, 5.930...</td>\n",
       "      <td>[2.2574342853539637e-05, 8.242360147739943e-07...</td>\n",
       "      <td>2.0</td>\n",
       "    </tr>\n",
       "    <tr>\n",
       "      <th>11</th>\n",
       "      <td>[19.65, 3.0, 1.0, 0.0, 0.0, 0.0]</td>\n",
       "      <td>2</td>\n",
       "      <td>[-4.379722446725383, -5.506010341374088, 6.832...</td>\n",
       "      <td>[5.638677573570735e-06, 1.8282544708594906e-06...</td>\n",
       "      <td>2.0</td>\n",
       "    </tr>\n",
       "    <tr>\n",
       "      <th>12</th>\n",
       "      <td>[21.01, 3.5, 0.0, 0.0, 1.0, 0.0]</td>\n",
       "      <td>3</td>\n",
       "      <td>[-4.458847370866313, -10.379816820077524, 5.83...</td>\n",
       "      <td>[1.8729677505168046e-05, 5.02442005324114e-08,...</td>\n",
       "      <td>2.0</td>\n",
       "    </tr>\n",
       "    <tr>\n",
       "      <th>13</th>\n",
       "      <td>[25.29, 4.71, 0.0, 0.0, 1.0, 0.0]</td>\n",
       "      <td>4</td>\n",
       "      <td>[-4.5765704973729076, -14.676534367622525, 5.5...</td>\n",
       "      <td>[1.1321784999733066e-05, 4.651106961753044e-10...</td>\n",
       "      <td>4.0</td>\n",
       "    </tr>\n",
       "    <tr>\n",
       "      <th>14</th>\n",
       "      <td>[26.88, 3.12, 0.0, 0.0, 1.0, 0.0]</td>\n",
       "      <td>4</td>\n",
       "      <td>[-4.549715905716639, -15.861299854850573, 5.97...</td>\n",
       "      <td>[1.0144504606472026e-05, 1.2407159147620753e-1...</td>\n",
       "      <td>2.0</td>\n",
       "    </tr>\n",
       "    <tr>\n",
       "      <th>15</th>\n",
       "      <td>[30.4, 5.6, 0.0, 0.0, 1.0, 0.0]</td>\n",
       "      <td>4</td>\n",
       "      <td>[-4.697926480434173, -19.69460039890982, 5.409...</td>\n",
       "      <td>[4.7415681400864885e-06, 1.455289066063295e-12...</td>\n",
       "      <td>4.0</td>\n",
       "    </tr>\n",
       "    <tr>\n",
       "      <th>16</th>\n",
       "      <td>(10.51, 1.25, 0.0, 0.0, 0.0, 0.0)</td>\n",
       "      <td>2</td>\n",
       "      <td>[-4.287087773371518, 1.1288867225947286, 6.264...</td>\n",
       "      <td>[2.223046723005154e-05, 0.005001225401642692, ...</td>\n",
       "      <td>2.0</td>\n",
       "    </tr>\n",
       "    <tr>\n",
       "      <th>17</th>\n",
       "      <td>(14.0, 3.0, 0.0, 0.0, 0.0, 0.0)</td>\n",
       "      <td>2</td>\n",
       "      <td>[-4.409501153582827, -2.5287394468618203, 5.87...</td>\n",
       "      <td>[2.2639691430507414e-05, 0.0001484823848352256...</td>\n",
       "      <td>2.0</td>\n",
       "    </tr>\n",
       "    <tr>\n",
       "      <th>18</th>\n",
       "      <td>(20.23, 2.01, 0.0, 0.0, 0.0, 0.0)</td>\n",
       "      <td>2</td>\n",
       "      <td>[-4.485636809807862, -8.228036959088728, 6.165...</td>\n",
       "      <td>[1.3090465408820974e-05, 3.1020682843962736e-0...</td>\n",
       "      <td>2.0</td>\n",
       "    </tr>\n",
       "    <tr>\n",
       "      <th>19</th>\n",
       "      <td>[11.69, 2.31, 0.0, 0.0, 2.0, 1.0]</td>\n",
       "      <td>2</td>\n",
       "      <td>[-4.111057309982217, 0.9589160057223971, 6.029...</td>\n",
       "      <td>[3.674790282723283e-05, 0.005849166630829016, ...</td>\n",
       "      <td>2.0</td>\n",
       "    </tr>\n",
       "    <tr>\n",
       "      <th>20</th>\n",
       "      <td>[12.43, 1.8, 1.0, 0.0, 2.0, 1.0]</td>\n",
       "      <td>2</td>\n",
       "      <td>[-3.976618701441121, 2.7336764330969796, 7.068...</td>\n",
       "      <td>[1.4589275298724208e-05, 0.011975064694693687,...</td>\n",
       "      <td>2.0</td>\n",
       "    </tr>\n",
       "    <tr>\n",
       "      <th>21</th>\n",
       "      <td>[12.46, 1.5, 0.0, 0.0, 3.0, 0.0]</td>\n",
       "      <td>2</td>\n",
       "      <td>[-4.053752603625385, -4.105841289756722, 6.278...</td>\n",
       "      <td>[3.1547520295081976e-05, 2.994631575277054e-05...</td>\n",
       "      <td>2.0</td>\n",
       "    </tr>\n",
       "    <tr>\n",
       "      <th>22</th>\n",
       "      <td>[13.03, 2.0, 0.0, 0.0, 2.0, 1.0]</td>\n",
       "      <td>2</td>\n",
       "      <td>[-4.1240738245322675, -0.24735496574776583, 6....</td>\n",
       "      <td>[3.327863977632992e-05, 0.001606213142050248, ...</td>\n",
       "      <td>2.0</td>\n",
       "    </tr>\n",
       "    <tr>\n",
       "      <th>23</th>\n",
       "      <td>[13.42, 1.68, 1.0, 0.0, 2.0, 1.0]</td>\n",
       "      <td>2</td>\n",
       "      <td>[-3.9900089441095368, 1.8204808556709189, 7.10...</td>\n",
       "      <td>[1.3870232567873913e-05, 0.004629641904541695,...</td>\n",
       "      <td>2.0</td>\n",
       "    </tr>\n",
       "    <tr>\n",
       "      <th>24</th>\n",
       "      <td>[15.01, 2.09, 0.0, 1.0, 0.0, 0.0]</td>\n",
       "      <td>2</td>\n",
       "      <td>[-3.9042504315037787, -0.29362676981321023, 7....</td>\n",
       "      <td>[6.789516027200222e-06, 0.00025113818448283096...</td>\n",
       "      <td>2.0</td>\n",
       "    </tr>\n",
       "    <tr>\n",
       "      <th>25</th>\n",
       "      <td>[22.42, 3.48, 1.0, 1.0, 0.0, 0.0]</td>\n",
       "      <td>2</td>\n",
       "      <td>[-3.953768568238293, -5.217808523619437, 8.482...</td>\n",
       "      <td>[2.2174168630741577e-06, 6.264432996034367e-07...</td>\n",
       "      <td>2.0</td>\n",
       "    </tr>\n",
       "    <tr>\n",
       "      <th>26</th>\n",
       "      <td>[25.28, 5.0, 1.0, 1.0, 0.0, 0.0]</td>\n",
       "      <td>2</td>\n",
       "      <td>[-4.057057524626759, -8.232505277695287, 8.142...</td>\n",
       "      <td>[1.6750065574507564e-06, 2.5742018195784515e-0...</td>\n",
       "      <td>3.0</td>\n",
       "    </tr>\n",
       "    <tr>\n",
       "      <th>27</th>\n",
       "      <td>[25.71, 4.0, 1.0, 0.0, 1.0, 0.0]</td>\n",
       "      <td>3</td>\n",
       "      <td>[-4.42953919158191, -12.558427202566202, 6.663...</td>\n",
       "      <td>[4.425541512823031e-06, 1.3050742226480129e-09...</td>\n",
       "      <td>4.0</td>\n",
       "    </tr>\n",
       "    <tr>\n",
       "      <th>28</th>\n",
       "      <td>[26.86, 3.14, 1.0, 1.0, 0.0, 0.0]</td>\n",
       "      <td>2</td>\n",
       "      <td>[-4.020680924804738, -9.353332980097667, 8.602...</td>\n",
       "      <td>[1.4820834922886936e-06, 7.160301482302416e-09...</td>\n",
       "      <td>2.0</td>\n",
       "    </tr>\n",
       "    <tr>\n",
       "      <th>29</th>\n",
       "      <td>[28.97, 3.0, 0.0, 1.0, 3.0, 0.0]</td>\n",
       "      <td>2</td>\n",
       "      <td>[-3.9065836513414363, -17.033443393726365, 7.8...</td>\n",
       "      <td>[6.760776854585469e-06, 1.3460892348599079e-11...</td>\n",
       "      <td>2.0</td>\n",
       "    </tr>\n",
       "    <tr>\n",
       "      <th>30</th>\n",
       "      <td>[40.17, 4.73, 0.0, 1.0, 3.0, 0.0]</td>\n",
       "      <td>4</td>\n",
       "      <td>[-4.16493137942853, -27.98742391336718, 7.4814...</td>\n",
       "      <td>[2.937527907021401e-06, 1.3243566252840373e-16...</td>\n",
       "      <td>4.0</td>\n",
       "    </tr>\n",
       "    <tr>\n",
       "      <th>31</th>\n",
       "      <td>[7.25, 5.15, 0.0, 1.0, 1.0, 0.0]</td>\n",
       "      <td>2</td>\n",
       "      <td>[-3.7804645492439386, 5.324159387557044, 7.060...</td>\n",
       "      <td>[1.5400009143710096e-05, 0.13855076059679106, ...</td>\n",
       "      <td>2.0</td>\n",
       "    </tr>\n",
       "    <tr>\n",
       "      <th>32</th>\n",
       "      <td>[8.52, 1.48, 0.0, 0.0, 2.0, 1.0]</td>\n",
       "      <td>2</td>\n",
       "      <td>[-4.026156096940126, 4.127944618628415, 6.2016...</td>\n",
       "      <td>[3.1236602578402734e-05, 0.10862873891148504, ...</td>\n",
       "      <td>2.0</td>\n",
       "    </tr>\n",
       "    <tr>\n",
       "      <th>33</th>\n",
       "      <td>[10.63, 2.0, 1.0, 1.0, 0.0, 0.0]</td>\n",
       "      <td>2</td>\n",
       "      <td>[-3.693618224058607, 6.244392621156722, 8.7374...</td>\n",
       "      <td>[3.3447926425385867e-06, 0.06924564587361486, ...</td>\n",
       "      <td>2.0</td>\n",
       "    </tr>\n",
       "    <tr>\n",
       "      <th>34</th>\n",
       "      <td>[13.13, 2.0, 0.0, 0.0, 1.0, 0.0]</td>\n",
       "      <td>2</td>\n",
       "      <td>[-4.267292735078694, -2.615853480533513, 6.126...</td>\n",
       "      <td>[2.651624914863703e-05, 0.0001382684347429398,...</td>\n",
       "      <td>2.0</td>\n",
       "    </tr>\n",
       "    <tr>\n",
       "      <th>35</th>\n",
       "      <td>[13.39, 2.61, 1.0, 0.0, 1.0, 0.0]</td>\n",
       "      <td>2</td>\n",
       "      <td>[-4.16311181300362, -0.6125398394053185, 6.891...</td>\n",
       "      <td>[1.2642682867349176e-05, 0.0004403855494402773...</td>\n",
       "      <td>2.0</td>\n",
       "    </tr>\n",
       "    <tr>\n",
       "      <th>36</th>\n",
       "      <td>[14.26, 2.5, 0.0, 0.0, 2.0, 1.0]</td>\n",
       "      <td>2</td>\n",
       "      <td>[-4.16317546633544, -1.5128771031967005, 6.005...</td>\n",
       "      <td>[3.470272096405892e-05, 0.0004913302265864732,...</td>\n",
       "      <td>2.0</td>\n",
       "    </tr>\n",
       "    <tr>\n",
       "      <th>37</th>\n",
       "      <td>[16.0, 2.0, 0.0, 1.0, 2.0, 1.0]</td>\n",
       "      <td>2</td>\n",
       "      <td>[-3.6850511050191623, -0.051693823744731304, 7...</td>\n",
       "      <td>[9.158520384547046e-06, 0.00034655513191598163...</td>\n",
       "      <td>2.0</td>\n",
       "    </tr>\n",
       "    <tr>\n",
       "      <th>38</th>\n",
       "      <td>[16.21, 2.0, 1.0, 0.0, 1.0, 0.0]</td>\n",
       "      <td>3</td>\n",
       "      <td>[-4.191971843096736, -3.1596613433281693, 7.06...</td>\n",
       "      <td>[1.0043907449621747e-05, 2.8198723938921973e-0...</td>\n",
       "      <td>2.0</td>\n",
       "    </tr>\n",
       "    <tr>\n",
       "      <th>39</th>\n",
       "      <td>[18.26, 3.25, 1.0, 0.0, 2.0, 1.0]</td>\n",
       "      <td>2</td>\n",
       "      <td>[-4.1301153945523374, -3.0791108553014226, 6.7...</td>\n",
       "      <td>[1.380728987029601e-05, 3.949607276957279e-05,...</td>\n",
       "      <td>2.0</td>\n",
       "    </tr>\n",
       "    <tr>\n",
       "      <th>40</th>\n",
       "      <td>[21.5, 3.5, 0.0, 0.0, 1.0, 0.0]</td>\n",
       "      <td>4</td>\n",
       "      <td>[-4.467530511220793, -10.843784479821347, 5.83...</td>\n",
       "      <td>[1.790656636244347e-05, 3.0467751362044337e-08...</td>\n",
       "      <td>2.0</td>\n",
       "    </tr>\n",
       "    <tr>\n",
       "      <th>41</th>\n",
       "      <td>[22.82, 2.18, 0.0, 0.0, 2.0, 1.0]</td>\n",
       "      <td>3</td>\n",
       "      <td>[-4.303789292155676, -9.55355213759159, 6.1558...</td>\n",
       "      <td>[2.1240113281515428e-05, 1.1148432112620944e-0...</td>\n",
       "      <td>2.0</td>\n",
       "    </tr>\n",
       "    <tr>\n",
       "      <th>42</th>\n",
       "      <td>[24.55, 2.0, 0.0, 0.0, 1.0, 0.0]</td>\n",
       "      <td>4</td>\n",
       "      <td>[-4.469663067421868, -13.429140570889603, 6.22...</td>\n",
       "      <td>[1.2926001247786465e-05, 1.6611641618466807e-0...</td>\n",
       "      <td>2.0</td>\n",
       "    </tr>\n",
       "    <tr>\n",
       "      <th>43</th>\n",
       "      <td>[29.85, 5.14, 1.0, 0.0, 1.0, 0.0]</td>\n",
       "      <td>5</td>\n",
       "      <td>[-4.542358694602211, -16.708460954222943, 6.42...</td>\n",
       "      <td>[2.089742318038143e-06, 1.0874809547136058e-11...</td>\n",
       "      <td>4.0</td>\n",
       "    </tr>\n",
       "    <tr>\n",
       "      <th>44</th>\n",
       "      <td>[41.19, 5.0, 0.0, 0.0, 2.0, 1.0]</td>\n",
       "      <td>5</td>\n",
       "      <td>[-4.726919709159638, -27.516504054679523, 5.63...</td>\n",
       "      <td>[2.982053146900356e-08, 3.776805789548884e-18,...</td>\n",
       "      <td>6.0</td>\n",
       "    </tr>\n",
       "    <tr>\n",
       "      <th>45</th>\n",
       "      <td>(10.77, 1.47, 0.0, 0.0, 0.0, 0.0)</td>\n",
       "      <td>2</td>\n",
       "      <td>[-4.299309436443119, 0.8383176064436544, 6.214...</td>\n",
       "      <td>[2.2729469468450164e-05, 0.0038710820247029694...</td>\n",
       "      <td>2.0</td>\n",
       "    </tr>\n",
       "    <tr>\n",
       "      <th>46</th>\n",
       "      <td>[12.74, 2.01, 1.0, 1.0, 2.0, 1.0]</td>\n",
       "      <td>2</td>\n",
       "      <td>[-3.4977271130158805, 5.405654334396429, 8.762...</td>\n",
       "      <td>[4.448945337912971e-06, 0.032730037485345614, ...</td>\n",
       "      <td>2.0</td>\n",
       "    </tr>\n",
       "    <tr>\n",
       "      <th>47</th>\n",
       "      <td>[13.27, 2.5, 1.0, 1.0, 0.0, 0.0]</td>\n",
       "      <td>2</td>\n",
       "      <td>[-3.7577060452491597, 3.643779870975555, 8.639...</td>\n",
       "      <td>[3.4741376833669333e-06, 0.005692086841038197,...</td>\n",
       "      <td>2.0</td>\n",
       "    </tr>\n",
       "    <tr>\n",
       "      <th>48</th>\n",
       "      <td>[13.42, 3.48, 1.0, 1.0, 3.0, 1.0]</td>\n",
       "      <td>2</td>\n",
       "      <td>[-3.4684733971164743, 3.352596495874952, 8.433...</td>\n",
       "      <td>[6.560081560316184e-06, 0.006015368733426493, ...</td>\n",
       "      <td>2.0</td>\n",
       "    </tr>\n",
       "    <tr>\n",
       "      <th>49</th>\n",
       "      <td>[15.48, 2.02, 0.0, 1.0, 2.0, 1.0]</td>\n",
       "      <td>2</td>\n",
       "      <td>[-3.676528551324412, 0.43664527428013855, 7.87...</td>\n",
       "      <td>[9.338027522413721e-06, 0.0005709312899083278,...</td>\n",
       "      <td>2.0</td>\n",
       "    </tr>\n",
       "    <tr>\n",
       "      <th>50</th>\n",
       "      <td>[15.98, 3.0, 1.0, 0.0, 3.0, 1.0]</td>\n",
       "      <td>3</td>\n",
       "      <td>[-3.9888785778267795, -1.9824372125625374, 6.8...</td>\n",
       "      <td>[1.760983017877101e-05, 0.00013096087890284707...</td>\n",
       "      <td>2.0</td>\n",
       "    </tr>\n",
       "    <tr>\n",
       "      <th>51</th>\n",
       "      <td>[16.4, 2.5, 1.0, 1.0, 2.0, 1.0]</td>\n",
       "      <td>2</td>\n",
       "      <td>[-3.5795439389505517, 1.8412487262124042, 8.67...</td>\n",
       "      <td>[4.497139391839131e-06, 0.0010166154159277378,...</td>\n",
       "      <td>2.0</td>\n",
       "    </tr>\n",
       "    <tr>\n",
       "      <th>52</th>\n",
       "      <td>[24.01, 2.0, 0.0, 1.0, 0.0, 0.0]</td>\n",
       "      <td>4</td>\n",
       "      <td>[-4.060621749172671, -8.797325392341195, 7.942...</td>\n",
       "      <td>[4.1468526314417055e-06, 3.635752800226365e-08...</td>\n",
       "      <td>2.0</td>\n",
       "    </tr>\n",
       "    <tr>\n",
       "      <th>53</th>\n",
       "      <td>[25.89, 5.16, 0.0, 1.0, 0.0, 0.0]</td>\n",
       "      <td>4</td>\n",
       "      <td>[-4.203305439668398, -11.214935914352749, 7.19...</td>\n",
       "      <td>[3.847804414594774e-06, 3.4681714936604833e-09...</td>\n",
       "      <td>3.0</td>\n",
       "    </tr>\n",
       "    <tr>\n",
       "      <th>54</th>\n",
       "      <td>[26.59, 3.41, 0.0, 1.0, 0.0, 0.0]</td>\n",
       "      <td>3</td>\n",
       "      <td>[-4.155141769835189, -11.524706672093396, 7.62...</td>\n",
       "      <td>[3.643434976903404e-06, 2.295882470555625e-09,...</td>\n",
       "      <td>2.0</td>\n",
       "    </tr>\n",
       "    <tr>\n",
       "      <th>55</th>\n",
       "      <td>[28.44, 2.56, 0.0, 1.0, 2.0, 1.0]</td>\n",
       "      <td>2</td>\n",
       "      <td>[-3.9248783557925804, -11.943764003708134, 7.8...</td>\n",
       "      <td>[6.272468803718543e-06, 2.064812982243593e-09,...</td>\n",
       "      <td>2.0</td>\n",
       "    </tr>\n",
       "    <tr>\n",
       "      <th>56</th>\n",
       "      <td>[35.83, 4.67, 1.0, 0.0, 0.0, 0.0]</td>\n",
       "      <td>3</td>\n",
       "      <td>[-4.724242611432073, -21.16331304554641, 6.569...</td>\n",
       "      <td>[4.150919423404955e-07, 3.011249395973361e-14,...</td>\n",
       "      <td>4.0</td>\n",
       "    </tr>\n",
       "    <tr>\n",
       "      <th>57</th>\n",
       "      <td>[43.11, 5.0, 1.0, 1.0, 2.0, 1.0]</td>\n",
       "      <td>4</td>\n",
       "      <td>[-4.139389628962534, -23.954066214773185, 8.30...</td>\n",
       "      <td>[4.709384601956599e-07, 1.1683136681781178e-15...</td>\n",
       "      <td>4.0</td>\n",
       "    </tr>\n",
       "  </tbody>\n",
       "</table>\n",
       "</div>"
      ]
     },
     "metadata": {
      "application/vnd.databricks.v1+output": {
       "addedWidgets": {},
       "arguments": {},
       "data": "<div>\n<style scoped>\n    .dataframe tbody tr th:only-of-type {\n        vertical-align: middle;\n    }\n\n    .dataframe tbody tr th {\n        vertical-align: top;\n    }\n\n    .dataframe thead th {\n        text-align: right;\n    }\n</style>\n<table border=\"1\" class=\"dataframe\">\n  <thead>\n    <tr style=\"text-align: right;\">\n      <th></th>\n      <th>features</th>\n      <th>size</th>\n      <th>rawPrediction</th>\n      <th>probability</th>\n      <th>prediction</th>\n    </tr>\n  </thead>\n  <tbody>\n    <tr>\n      <th>0</th>\n      <td>(12.69, 2.0, 0.0, 0.0, 0.0, 0.0)</td>\n      <td>2</td>\n      <td>[-4.351676668767605, -1.0865988631994554, 6.10...</td>\n      <td>[2.2208959690678968e-05, 0.0005814782701798628...</td>\n      <td>2.0</td>\n    </tr>\n    <tr>\n      <th>1</th>\n      <td>(13.37, 2.0, 0.0, 0.0, 0.0, 0.0)</td>\n      <td>2</td>\n      <td>[-4.363726741096271, -1.730472350190885, 6.109...</td>\n      <td>[2.1372968730486736e-05, 0.0002974902261176327...</td>\n      <td>2.0</td>\n    </tr>\n    <tr>\n      <th>2</th>\n      <td>(21.7, 4.3, 0.0, 0.0, 0.0, 0.0)</td>\n      <td>2</td>\n      <td>[-4.590943989364682, -10.081918237222327, 5.62...</td>\n      <td>[1.0776843915262641e-05, 4.444181393244114e-08...</td>\n      <td>3.0</td>\n    </tr>\n    <tr>\n      <th>3</th>\n      <td>(31.27, 5.0, 0.0, 0.0, 0.0, 0.0)</td>\n      <td>3</td>\n      <td>[-4.784758299117603, -19.284706767751935, 5.54...</td>\n      <td>[2.3627124513471347e-06, 1.1916899099832572e-1...</td>\n      <td>4.0</td>\n    </tr>\n    <tr>\n      <th>4</th>\n      <td>[8.77, 2.0, 0.0, 0.0, 1.0, 0.0]</td>\n      <td>2</td>\n      <td>[-4.190030506618428, 1.5125118184115447, 6.088...</td>\n      <td>[3.128298285334602e-05, 0.009373263396022055, ...</td>\n      <td>2.0</td>\n    </tr>\n    <tr>\n      <th>5</th>\n      <td>[9.68, 1.32, 0.0, 0.0, 1.0, 0.0]</td>\n      <td>2</td>\n      <td>[-4.182621283781519, 0.7880389221046489, 6.259...</td>\n      <td>[2.6974001076155044e-05, 0.0038875471493995417...</td>\n      <td>2.0</td>\n    </tr>\n    <tr>\n      <th>6</th>\n      <td>[9.94, 1.56, 0.0, 0.0, 1.0, 0.0]</td>\n      <td>2</td>\n      <td>[-4.195535154350879, 0.4934350609849947, 6.204...</td>\n      <td>[2.791244079064217e-05, 0.003035230692311033, ...</td>\n      <td>2.0</td>\n    </tr>\n    <tr>\n      <th>7</th>\n      <td>[13.94, 3.06, 0.0, 0.0, 1.0, 0.0]</td>\n      <td>2</td>\n      <td>[-4.318333495086702, -3.59666191160791, 5.8783...</td>\n      <td>[2.9672629292272415e-05, 6.106242073631815e-05...</td>\n      <td>2.0</td>\n    </tr>\n    <tr>\n      <th>8</th>\n      <td>[16.29, 3.71, 0.0, 0.0, 1.0, 0.0]</td>\n      <td>3</td>\n      <td>[-4.382473871076162, -5.952942144307061, 5.742...</td>\n      <td>[2.7597380924371595e-05, 5.7388141846259995e-0...</td>\n      <td>2.0</td>\n    </tr>\n    <tr>\n      <th>9</th>\n      <td>[18.04, 3.0, 0.0, 0.0, 1.0, 0.0]</td>\n      <td>2</td>\n      <td>[-4.388911720457437, -7.466736054150511, 5.927...</td>\n      <td>[2.296898127818084e-05, 1.0579365203040922e-06...</td>\n      <td>2.0</td>\n    </tr>\n    <tr>\n      <th>10</th>\n      <td>[18.29, 3.0, 0.0, 0.0, 1.0, 0.0]</td>\n      <td>2</td>\n      <td>[-4.393341894107682, -7.703454247897364, 5.930...</td>\n      <td>[2.2574342853539637e-05, 8.242360147739943e-07...</td>\n      <td>2.0</td>\n    </tr>\n    <tr>\n      <th>11</th>\n      <td>[19.65, 3.0, 1.0, 0.0, 0.0, 0.0]</td>\n      <td>2</td>\n      <td>[-4.379722446725383, -5.506010341374088, 6.832...</td>\n      <td>[5.638677573570735e-06, 1.8282544708594906e-06...</td>\n      <td>2.0</td>\n    </tr>\n    <tr>\n      <th>12</th>\n      <td>[21.01, 3.5, 0.0, 0.0, 1.0, 0.0]</td>\n      <td>3</td>\n      <td>[-4.458847370866313, -10.379816820077524, 5.83...</td>\n      <td>[1.8729677505168046e-05, 5.02442005324114e-08,...</td>\n      <td>2.0</td>\n    </tr>\n    <tr>\n      <th>13</th>\n      <td>[25.29, 4.71, 0.0, 0.0, 1.0, 0.0]</td>\n      <td>4</td>\n      <td>[-4.5765704973729076, -14.676534367622525, 5.5...</td>\n      <td>[1.1321784999733066e-05, 4.651106961753044e-10...</td>\n      <td>4.0</td>\n    </tr>\n    <tr>\n      <th>14</th>\n      <td>[26.88, 3.12, 0.0, 0.0, 1.0, 0.0]</td>\n      <td>4</td>\n      <td>[-4.549715905716639, -15.861299854850573, 5.97...</td>\n      <td>[1.0144504606472026e-05, 1.2407159147620753e-1...</td>\n      <td>2.0</td>\n    </tr>\n    <tr>\n      <th>15</th>\n      <td>[30.4, 5.6, 0.0, 0.0, 1.0, 0.0]</td>\n      <td>4</td>\n      <td>[-4.697926480434173, -19.69460039890982, 5.409...</td>\n      <td>[4.7415681400864885e-06, 1.455289066063295e-12...</td>\n      <td>4.0</td>\n    </tr>\n    <tr>\n      <th>16</th>\n      <td>(10.51, 1.25, 0.0, 0.0, 0.0, 0.0)</td>\n      <td>2</td>\n      <td>[-4.287087773371518, 1.1288867225947286, 6.264...</td>\n      <td>[2.223046723005154e-05, 0.005001225401642692, ...</td>\n      <td>2.0</td>\n    </tr>\n    <tr>\n      <th>17</th>\n      <td>(14.0, 3.0, 0.0, 0.0, 0.0, 0.0)</td>\n      <td>2</td>\n      <td>[-4.409501153582827, -2.5287394468618203, 5.87...</td>\n      <td>[2.2639691430507414e-05, 0.0001484823848352256...</td>\n      <td>2.0</td>\n    </tr>\n    <tr>\n      <th>18</th>\n      <td>(20.23, 2.01, 0.0, 0.0, 0.0, 0.0)</td>\n      <td>2</td>\n      <td>[-4.485636809807862, -8.228036959088728, 6.165...</td>\n      <td>[1.3090465408820974e-05, 3.1020682843962736e-0...</td>\n      <td>2.0</td>\n    </tr>\n    <tr>\n      <th>19</th>\n      <td>[11.69, 2.31, 0.0, 0.0, 2.0, 1.0]</td>\n      <td>2</td>\n      <td>[-4.111057309982217, 0.9589160057223971, 6.029...</td>\n      <td>[3.674790282723283e-05, 0.005849166630829016, ...</td>\n      <td>2.0</td>\n    </tr>\n    <tr>\n      <th>20</th>\n      <td>[12.43, 1.8, 1.0, 0.0, 2.0, 1.0]</td>\n      <td>2</td>\n      <td>[-3.976618701441121, 2.7336764330969796, 7.068...</td>\n      <td>[1.4589275298724208e-05, 0.011975064694693687,...</td>\n      <td>2.0</td>\n    </tr>\n    <tr>\n      <th>21</th>\n      <td>[12.46, 1.5, 0.0, 0.0, 3.0, 0.0]</td>\n      <td>2</td>\n      <td>[-4.053752603625385, -4.105841289756722, 6.278...</td>\n      <td>[3.1547520295081976e-05, 2.994631575277054e-05...</td>\n      <td>2.0</td>\n    </tr>\n    <tr>\n      <th>22</th>\n      <td>[13.03, 2.0, 0.0, 0.0, 2.0, 1.0]</td>\n      <td>2</td>\n      <td>[-4.1240738245322675, -0.24735496574776583, 6....</td>\n      <td>[3.327863977632992e-05, 0.001606213142050248, ...</td>\n      <td>2.0</td>\n    </tr>\n    <tr>\n      <th>23</th>\n      <td>[13.42, 1.68, 1.0, 0.0, 2.0, 1.0]</td>\n      <td>2</td>\n      <td>[-3.9900089441095368, 1.8204808556709189, 7.10...</td>\n      <td>[1.3870232567873913e-05, 0.004629641904541695,...</td>\n      <td>2.0</td>\n    </tr>\n    <tr>\n      <th>24</th>\n      <td>[15.01, 2.09, 0.0, 1.0, 0.0, 0.0]</td>\n      <td>2</td>\n      <td>[-3.9042504315037787, -0.29362676981321023, 7....</td>\n      <td>[6.789516027200222e-06, 0.00025113818448283096...</td>\n      <td>2.0</td>\n    </tr>\n    <tr>\n      <th>25</th>\n      <td>[22.42, 3.48, 1.0, 1.0, 0.0, 0.0]</td>\n      <td>2</td>\n      <td>[-3.953768568238293, -5.217808523619437, 8.482...</td>\n      <td>[2.2174168630741577e-06, 6.264432996034367e-07...</td>\n      <td>2.0</td>\n    </tr>\n    <tr>\n      <th>26</th>\n      <td>[25.28, 5.0, 1.0, 1.0, 0.0, 0.0]</td>\n      <td>2</td>\n      <td>[-4.057057524626759, -8.232505277695287, 8.142...</td>\n      <td>[1.6750065574507564e-06, 2.5742018195784515e-0...</td>\n      <td>3.0</td>\n    </tr>\n    <tr>\n      <th>27</th>\n      <td>[25.71, 4.0, 1.0, 0.0, 1.0, 0.0]</td>\n      <td>3</td>\n      <td>[-4.42953919158191, -12.558427202566202, 6.663...</td>\n      <td>[4.425541512823031e-06, 1.3050742226480129e-09...</td>\n      <td>4.0</td>\n    </tr>\n    <tr>\n      <th>28</th>\n      <td>[26.86, 3.14, 1.0, 1.0, 0.0, 0.0]</td>\n      <td>2</td>\n      <td>[-4.020680924804738, -9.353332980097667, 8.602...</td>\n      <td>[1.4820834922886936e-06, 7.160301482302416e-09...</td>\n      <td>2.0</td>\n    </tr>\n    <tr>\n      <th>29</th>\n      <td>[28.97, 3.0, 0.0, 1.0, 3.0, 0.0]</td>\n      <td>2</td>\n      <td>[-3.9065836513414363, -17.033443393726365, 7.8...</td>\n      <td>[6.760776854585469e-06, 1.3460892348599079e-11...</td>\n      <td>2.0</td>\n    </tr>\n    <tr>\n      <th>30</th>\n      <td>[40.17, 4.73, 0.0, 1.0, 3.0, 0.0]</td>\n      <td>4</td>\n      <td>[-4.16493137942853, -27.98742391336718, 7.4814...</td>\n      <td>[2.937527907021401e-06, 1.3243566252840373e-16...</td>\n      <td>4.0</td>\n    </tr>\n    <tr>\n      <th>31</th>\n      <td>[7.25, 5.15, 0.0, 1.0, 1.0, 0.0]</td>\n      <td>2</td>\n      <td>[-3.7804645492439386, 5.324159387557044, 7.060...</td>\n      <td>[1.5400009143710096e-05, 0.13855076059679106, ...</td>\n      <td>2.0</td>\n    </tr>\n    <tr>\n      <th>32</th>\n      <td>[8.52, 1.48, 0.0, 0.0, 2.0, 1.0]</td>\n      <td>2</td>\n      <td>[-4.026156096940126, 4.127944618628415, 6.2016...</td>\n      <td>[3.1236602578402734e-05, 0.10862873891148504, ...</td>\n      <td>2.0</td>\n    </tr>\n    <tr>\n      <th>33</th>\n      <td>[10.63, 2.0, 1.0, 1.0, 0.0, 0.0]</td>\n      <td>2</td>\n      <td>[-3.693618224058607, 6.244392621156722, 8.7374...</td>\n      <td>[3.3447926425385867e-06, 0.06924564587361486, ...</td>\n      <td>2.0</td>\n    </tr>\n    <tr>\n      <th>34</th>\n      <td>[13.13, 2.0, 0.0, 0.0, 1.0, 0.0]</td>\n      <td>2</td>\n      <td>[-4.267292735078694, -2.615853480533513, 6.126...</td>\n      <td>[2.651624914863703e-05, 0.0001382684347429398,...</td>\n      <td>2.0</td>\n    </tr>\n    <tr>\n      <th>35</th>\n      <td>[13.39, 2.61, 1.0, 0.0, 1.0, 0.0]</td>\n      <td>2</td>\n      <td>[-4.16311181300362, -0.6125398394053185, 6.891...</td>\n      <td>[1.2642682867349176e-05, 0.0004403855494402773...</td>\n      <td>2.0</td>\n    </tr>\n    <tr>\n      <th>36</th>\n      <td>[14.26, 2.5, 0.0, 0.0, 2.0, 1.0]</td>\n      <td>2</td>\n      <td>[-4.16317546633544, -1.5128771031967005, 6.005...</td>\n      <td>[3.470272096405892e-05, 0.0004913302265864732,...</td>\n      <td>2.0</td>\n    </tr>\n    <tr>\n      <th>37</th>\n      <td>[16.0, 2.0, 0.0, 1.0, 2.0, 1.0]</td>\n      <td>2</td>\n      <td>[-3.6850511050191623, -0.051693823744731304, 7...</td>\n      <td>[9.158520384547046e-06, 0.00034655513191598163...</td>\n      <td>2.0</td>\n    </tr>\n    <tr>\n      <th>38</th>\n      <td>[16.21, 2.0, 1.0, 0.0, 1.0, 0.0]</td>\n      <td>3</td>\n      <td>[-4.191971843096736, -3.1596613433281693, 7.06...</td>\n      <td>[1.0043907449621747e-05, 2.8198723938921973e-0...</td>\n      <td>2.0</td>\n    </tr>\n    <tr>\n      <th>39</th>\n      <td>[18.26, 3.25, 1.0, 0.0, 2.0, 1.0]</td>\n      <td>2</td>\n      <td>[-4.1301153945523374, -3.0791108553014226, 6.7...</td>\n      <td>[1.380728987029601e-05, 3.949607276957279e-05,...</td>\n      <td>2.0</td>\n    </tr>\n    <tr>\n      <th>40</th>\n      <td>[21.5, 3.5, 0.0, 0.0, 1.0, 0.0]</td>\n      <td>4</td>\n      <td>[-4.467530511220793, -10.843784479821347, 5.83...</td>\n      <td>[1.790656636244347e-05, 3.0467751362044337e-08...</td>\n      <td>2.0</td>\n    </tr>\n    <tr>\n      <th>41</th>\n      <td>[22.82, 2.18, 0.0, 0.0, 2.0, 1.0]</td>\n      <td>3</td>\n      <td>[-4.303789292155676, -9.55355213759159, 6.1558...</td>\n      <td>[2.1240113281515428e-05, 1.1148432112620944e-0...</td>\n      <td>2.0</td>\n    </tr>\n    <tr>\n      <th>42</th>\n      <td>[24.55, 2.0, 0.0, 0.0, 1.0, 0.0]</td>\n      <td>4</td>\n      <td>[-4.469663067421868, -13.429140570889603, 6.22...</td>\n      <td>[1.2926001247786465e-05, 1.6611641618466807e-0...</td>\n      <td>2.0</td>\n    </tr>\n    <tr>\n      <th>43</th>\n      <td>[29.85, 5.14, 1.0, 0.0, 1.0, 0.0]</td>\n      <td>5</td>\n      <td>[-4.542358694602211, -16.708460954222943, 6.42...</td>\n      <td>[2.089742318038143e-06, 1.0874809547136058e-11...</td>\n      <td>4.0</td>\n    </tr>\n    <tr>\n      <th>44</th>\n      <td>[41.19, 5.0, 0.0, 0.0, 2.0, 1.0]</td>\n      <td>5</td>\n      <td>[-4.726919709159638, -27.516504054679523, 5.63...</td>\n      <td>[2.982053146900356e-08, 3.776805789548884e-18,...</td>\n      <td>6.0</td>\n    </tr>\n    <tr>\n      <th>45</th>\n      <td>(10.77, 1.47, 0.0, 0.0, 0.0, 0.0)</td>\n      <td>2</td>\n      <td>[-4.299309436443119, 0.8383176064436544, 6.214...</td>\n      <td>[2.2729469468450164e-05, 0.0038710820247029694...</td>\n      <td>2.0</td>\n    </tr>\n    <tr>\n      <th>46</th>\n      <td>[12.74, 2.01, 1.0, 1.0, 2.0, 1.0]</td>\n      <td>2</td>\n      <td>[-3.4977271130158805, 5.405654334396429, 8.762...</td>\n      <td>[4.448945337912971e-06, 0.032730037485345614, ...</td>\n      <td>2.0</td>\n    </tr>\n    <tr>\n      <th>47</th>\n      <td>[13.27, 2.5, 1.0, 1.0, 0.0, 0.0]</td>\n      <td>2</td>\n      <td>[-3.7577060452491597, 3.643779870975555, 8.639...</td>\n      <td>[3.4741376833669333e-06, 0.005692086841038197,...</td>\n      <td>2.0</td>\n    </tr>\n    <tr>\n      <th>48</th>\n      <td>[13.42, 3.48, 1.0, 1.0, 3.0, 1.0]</td>\n      <td>2</td>\n      <td>[-3.4684733971164743, 3.352596495874952, 8.433...</td>\n      <td>[6.560081560316184e-06, 0.006015368733426493, ...</td>\n      <td>2.0</td>\n    </tr>\n    <tr>\n      <th>49</th>\n      <td>[15.48, 2.02, 0.0, 1.0, 2.0, 1.0]</td>\n      <td>2</td>\n      <td>[-3.676528551324412, 0.43664527428013855, 7.87...</td>\n      <td>[9.338027522413721e-06, 0.0005709312899083278,...</td>\n      <td>2.0</td>\n    </tr>\n    <tr>\n      <th>50</th>\n      <td>[15.98, 3.0, 1.0, 0.0, 3.0, 1.0]</td>\n      <td>3</td>\n      <td>[-3.9888785778267795, -1.9824372125625374, 6.8...</td>\n      <td>[1.760983017877101e-05, 0.00013096087890284707...</td>\n      <td>2.0</td>\n    </tr>\n    <tr>\n      <th>51</th>\n      <td>[16.4, 2.5, 1.0, 1.0, 2.0, 1.0]</td>\n      <td>2</td>\n      <td>[-3.5795439389505517, 1.8412487262124042, 8.67...</td>\n      <td>[4.497139391839131e-06, 0.0010166154159277378,...</td>\n      <td>2.0</td>\n    </tr>\n    <tr>\n      <th>52</th>\n      <td>[24.01, 2.0, 0.0, 1.0, 0.0, 0.0]</td>\n      <td>4</td>\n      <td>[-4.060621749172671, -8.797325392341195, 7.942...</td>\n      <td>[4.1468526314417055e-06, 3.635752800226365e-08...</td>\n      <td>2.0</td>\n    </tr>\n    <tr>\n      <th>53</th>\n      <td>[25.89, 5.16, 0.0, 1.0, 0.0, 0.0]</td>\n      <td>4</td>\n      <td>[-4.203305439668398, -11.214935914352749, 7.19...</td>\n      <td>[3.847804414594774e-06, 3.4681714936604833e-09...</td>\n      <td>3.0</td>\n    </tr>\n    <tr>\n      <th>54</th>\n      <td>[26.59, 3.41, 0.0, 1.0, 0.0, 0.0]</td>\n      <td>3</td>\n      <td>[-4.155141769835189, -11.524706672093396, 7.62...</td>\n      <td>[3.643434976903404e-06, 2.295882470555625e-09,...</td>\n      <td>2.0</td>\n    </tr>\n    <tr>\n      <th>55</th>\n      <td>[28.44, 2.56, 0.0, 1.0, 2.0, 1.0]</td>\n      <td>2</td>\n      <td>[-3.9248783557925804, -11.943764003708134, 7.8...</td>\n      <td>[6.272468803718543e-06, 2.064812982243593e-09,...</td>\n      <td>2.0</td>\n    </tr>\n    <tr>\n      <th>56</th>\n      <td>[35.83, 4.67, 1.0, 0.0, 0.0, 0.0]</td>\n      <td>3</td>\n      <td>[-4.724242611432073, -21.16331304554641, 6.569...</td>\n      <td>[4.150919423404955e-07, 3.011249395973361e-14,...</td>\n      <td>4.0</td>\n    </tr>\n    <tr>\n      <th>57</th>\n      <td>[43.11, 5.0, 1.0, 1.0, 2.0, 1.0]</td>\n      <td>4</td>\n      <td>[-4.139389628962534, -23.954066214773185, 8.30...</td>\n      <td>[4.709384601956599e-07, 1.1683136681781178e-15...</td>\n      <td>4.0</td>\n    </tr>\n  </tbody>\n</table>\n</div>",
       "datasetInfos": [],
       "metadata": {},
       "removedWidgets": [],
       "textData": null,
       "type": "htmlSandbox"
      }
     },
     "output_type": "display_data"
    }
   ],
   "source": [
    "pred = LR.evaluate(test_data)\n",
    "pred.predictions.toPandas()"
   ]
  },
  {
   "cell_type": "code",
   "execution_count": 0,
   "metadata": {
    "application/vnd.databricks.v1+cell": {
     "inputWidgets": {},
     "nuid": "b8ca7739-c6be-4906-935c-1a6b68c6c033",
     "showTitle": false,
     "title": ""
    }
   },
   "outputs": [
    {
     "data": {
      "text/html": [
       "<style scoped>\n",
       "  .ansiout {\n",
       "    display: block;\n",
       "    unicode-bidi: embed;\n",
       "    white-space: pre-wrap;\n",
       "    word-wrap: break-word;\n",
       "    word-break: break-all;\n",
       "    font-family: \"Source Code Pro\", \"Menlo\", monospace;;\n",
       "    font-size: 13px;\n",
       "    color: #555;\n",
       "    margin-left: 4px;\n",
       "    line-height: 19px;\n",
       "  }\n",
       "</style>\n",
       "<div class=\"ansiout\">Out[46]: (0.6896551724137931, [0.9473684210526315, 0.0, 0.4444444444444444, 0.0])</div>"
      ]
     },
     "metadata": {
      "application/vnd.databricks.v1+output": {
       "addedWidgets": {},
       "arguments": {},
       "data": "<div class=\"ansiout\">Out[46]: (0.6896551724137931, [0.9473684210526315, 0.0, 0.4444444444444444, 0.0])</div>",
       "datasetInfos": [],
       "metadata": {},
       "removedWidgets": [],
       "type": "html"
      }
     },
     "output_type": "display_data"
    }
   ],
   "source": [
    "pred.accuracy, pred.recallByLabel"
   ]
  },
  {
   "cell_type": "code",
   "execution_count": 0,
   "metadata": {
    "application/vnd.databricks.v1+cell": {
     "inputWidgets": {},
     "nuid": "f19454ef-f8fe-4595-b671-62ad7cd18392",
     "showTitle": false,
     "title": ""
    }
   },
   "outputs": [],
   "source": []
  }
 ],
 "metadata": {
  "application/vnd.databricks.v1+notebook": {
   "dashboards": [],
   "language": "python",
   "notebookMetadata": {
    "pythonIndentUnit": 4
   },
   "notebookName": "2022-08-16 - DBFS Example",
   "notebookOrigID": 2969965632978444,
   "widgets": {}
  },
  "kernelspec": {
   "display_name": "Python 3",
   "language": "python",
   "name": "python3"
  },
  "language_info": {
   "codemirror_mode": {
    "name": "ipython",
    "version": 3
   },
   "file_extension": ".py",
   "mimetype": "text/x-python",
   "name": "python",
   "nbconvert_exporter": "python",
   "pygments_lexer": "ipython3",
   "version": "3.8.8"
  }
 },
 "nbformat": 4,
 "nbformat_minor": 1
}
