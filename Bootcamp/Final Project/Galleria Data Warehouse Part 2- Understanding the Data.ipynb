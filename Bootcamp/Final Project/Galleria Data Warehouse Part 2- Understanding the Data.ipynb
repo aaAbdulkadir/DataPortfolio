{
 "cells": [
  {
   "cell_type": "markdown",
   "id": "4560d971",
   "metadata": {},
   "source": [
    "## Galleria Data Warehouse Part 2: Understanding the Data"
   ]
  },
  {
   "cell_type": "markdown",
   "id": "afe4dc63",
   "metadata": {},
   "source": [
    "This documents contains an initial assessment of the data presented by Galleria fast food chain and obtaining a complete understanding of what is in the data in order to prepare for the creation of a data warehouse. Additionally, it briefly looks into the analytical questions asked which will recreated on PowerBI."
   ]
  },
  {
   "cell_type": "markdown",
   "id": "c9cd826b",
   "metadata": {},
   "source": [
    "**Table of contents:**\n",
    "\n",
    "1. Understanding and cleaning the data\n",
    "2. OLAP Schema Plan\n",
    "3. Exploratory Data Analysis"
   ]
  },
  {
   "cell_type": "markdown",
   "id": "154582cb",
   "metadata": {},
   "source": [
    "### 1. Understanding and cleaning the data"
   ]
  },
  {
   "cell_type": "markdown",
   "id": "4fbed986",
   "metadata": {},
   "source": [
    "In this section, the data will be carefully analysed to see the data quality e.g. whether it is clean, has missing values, etc, which will be cleaned. Additionally, the each column will be looked at carefully to see the type of values present and its data types."
   ]
  },
  {
   "cell_type": "code",
   "execution_count": 1,
   "id": "b031b393",
   "metadata": {},
   "outputs": [],
   "source": [
    "import pandas as pd\n",
    "import numpy as np\n",
    "from matplotlib import pyplot as plt\n",
    "import seaborn as sns"
   ]
  },
  {
   "cell_type": "code",
   "execution_count": 2,
   "id": "e700acdc",
   "metadata": {
    "scrolled": true
   },
   "outputs": [],
   "source": [
    "# use a tab delimiter to split the data\n",
    "df = pd.read_csv('Galleria.csv', delimiter='\\t')"
   ]
  },
  {
   "cell_type": "markdown",
   "id": "781a09ae",
   "metadata": {},
   "source": [
    "A tab delimiter was used to split the data to each column as the data was originally a text file with a lot of tabs and spaces."
   ]
  },
  {
   "cell_type": "code",
   "execution_count": 3,
   "id": "586ccd61",
   "metadata": {},
   "outputs": [
    {
     "data": {
      "text/html": [
       "<div>\n",
       "<style scoped>\n",
       "    .dataframe tbody tr th:only-of-type {\n",
       "        vertical-align: middle;\n",
       "    }\n",
       "\n",
       "    .dataframe tbody tr th {\n",
       "        vertical-align: top;\n",
       "    }\n",
       "\n",
       "    .dataframe thead th {\n",
       "        text-align: right;\n",
       "    }\n",
       "</style>\n",
       "<table border=\"1\" class=\"dataframe\">\n",
       "  <thead>\n",
       "    <tr style=\"text-align: right;\">\n",
       "      <th></th>\n",
       "      <th>SaleDate</th>\n",
       "      <th>TicketNo</th>\n",
       "      <th>Outlet</th>\n",
       "      <th>Total</th>\n",
       "      <th>OrderQty</th>\n",
       "      <th>Stock_Code</th>\n",
       "      <th>Name</th>\n",
       "      <th>Description</th>\n",
       "      <th>Price</th>\n",
       "      <th>Product_Group</th>\n",
       "      <th>Group_name</th>\n",
       "      <th>CardType</th>\n",
       "    </tr>\n",
       "  </thead>\n",
       "  <tbody>\n",
       "    <tr>\n",
       "      <th>0</th>\n",
       "      <td>2018-08-21</td>\n",
       "      <td>92208</td>\n",
       "      <td>Birmingham</td>\n",
       "      <td>5.0</td>\n",
       "      <td>1</td>\n",
       "      <td>BK0101</td>\n",
       "      <td>Eggs Florentine</td>\n",
       "      <td>NaN</td>\n",
       "      <td>5.0</td>\n",
       "      <td>B</td>\n",
       "      <td>Breakfast</td>\n",
       "      <td>Visa</td>\n",
       "    </tr>\n",
       "    <tr>\n",
       "      <th>1</th>\n",
       "      <td>2018-08-21</td>\n",
       "      <td>92209</td>\n",
       "      <td>Birmingham</td>\n",
       "      <td>7.5</td>\n",
       "      <td>1</td>\n",
       "      <td>CP0125</td>\n",
       "      <td>The Sicilian Crepe</td>\n",
       "      <td>Tuna, black olives, cheddar cheese, spinach an...</td>\n",
       "      <td>7.5</td>\n",
       "      <td>C</td>\n",
       "      <td>Crepes and Galettes</td>\n",
       "      <td>Avis</td>\n",
       "    </tr>\n",
       "    <tr>\n",
       "      <th>2</th>\n",
       "      <td>2018-08-21</td>\n",
       "      <td>92211</td>\n",
       "      <td>Middlesborough</td>\n",
       "      <td>7.5</td>\n",
       "      <td>1</td>\n",
       "      <td>CP0170</td>\n",
       "      <td>Crepe Japonnais</td>\n",
       "      <td>Teriyaky Salmon &amp; Shitake Mushrooms, with salad</td>\n",
       "      <td>7.5</td>\n",
       "      <td>C</td>\n",
       "      <td>Crepes and Galettes</td>\n",
       "      <td>Visa</td>\n",
       "    </tr>\n",
       "    <tr>\n",
       "      <th>3</th>\n",
       "      <td>2018-08-21</td>\n",
       "      <td>92217</td>\n",
       "      <td>Birmingham</td>\n",
       "      <td>5.0</td>\n",
       "      <td>1</td>\n",
       "      <td>BK0101</td>\n",
       "      <td>Eggs Florentine</td>\n",
       "      <td>NaN</td>\n",
       "      <td>5.0</td>\n",
       "      <td>B</td>\n",
       "      <td>Breakfast</td>\n",
       "      <td>Avis</td>\n",
       "    </tr>\n",
       "    <tr>\n",
       "      <th>4</th>\n",
       "      <td>2018-08-21</td>\n",
       "      <td>92217</td>\n",
       "      <td>Birmingham</td>\n",
       "      <td>7.5</td>\n",
       "      <td>1</td>\n",
       "      <td>CP0125</td>\n",
       "      <td>The Sicilian Crepe</td>\n",
       "      <td>Tuna, black olives, cheddar cheese, spinach an...</td>\n",
       "      <td>7.5</td>\n",
       "      <td>C</td>\n",
       "      <td>Crepes and Galettes</td>\n",
       "      <td>Avis</td>\n",
       "    </tr>\n",
       "  </tbody>\n",
       "</table>\n",
       "</div>"
      ],
      "text/plain": [
       "     SaleDate  TicketNo          Outlet  Total  OrderQty Stock_Code  \\\n",
       "0  2018-08-21     92208      Birmingham    5.0         1     BK0101   \n",
       "1  2018-08-21     92209      Birmingham    7.5         1     CP0125   \n",
       "2  2018-08-21     92211  Middlesborough    7.5         1     CP0170   \n",
       "3  2018-08-21     92217      Birmingham    5.0         1     BK0101   \n",
       "4  2018-08-21     92217      Birmingham    7.5         1     CP0125   \n",
       "\n",
       "                 Name                                        Description  \\\n",
       "0     Eggs Florentine                                                NaN   \n",
       "1  The Sicilian Crepe  Tuna, black olives, cheddar cheese, spinach an...   \n",
       "2     Crepe Japonnais    Teriyaky Salmon & Shitake Mushrooms, with salad   \n",
       "3     Eggs Florentine                                                NaN   \n",
       "4  The Sicilian Crepe  Tuna, black olives, cheddar cheese, spinach an...   \n",
       "\n",
       "   Price Product_Group           Group_name CardType  \n",
       "0    5.0          B               Breakfast     Visa  \n",
       "1    7.5             C  Crepes and Galettes     Avis  \n",
       "2    7.5             C  Crepes and Galettes     Visa  \n",
       "3    5.0          B               Breakfast     Avis  \n",
       "4    7.5             C  Crepes and Galettes     Avis  "
      ]
     },
     "execution_count": 3,
     "metadata": {},
     "output_type": "execute_result"
    }
   ],
   "source": [
    "df.head()"
   ]
  },
  {
   "cell_type": "code",
   "execution_count": 4,
   "id": "f65de1d9",
   "metadata": {
    "scrolled": true
   },
   "outputs": [
    {
     "name": "stdout",
     "output_type": "stream",
     "text": [
      "<class 'pandas.core.frame.DataFrame'>\n",
      "RangeIndex: 40705 entries, 0 to 40704\n",
      "Data columns (total 12 columns):\n",
      " #   Column         Non-Null Count  Dtype  \n",
      "---  ------         --------------  -----  \n",
      " 0   SaleDate       40705 non-null  object \n",
      " 1   TicketNo       40705 non-null  int64  \n",
      " 2   Outlet         40705 non-null  object \n",
      " 3   Total          40705 non-null  float64\n",
      " 4   OrderQty       40705 non-null  int64  \n",
      " 5   Stock_Code     40705 non-null  object \n",
      " 6   Name           40705 non-null  object \n",
      " 7   Description    29754 non-null  object \n",
      " 8   Price          40705 non-null  float64\n",
      " 9   Product_Group  40705 non-null  object \n",
      " 10  Group_name     40705 non-null  object \n",
      " 11  CardType       40705 non-null  object \n",
      "dtypes: float64(2), int64(2), object(8)\n",
      "memory usage: 3.7+ MB\n"
     ]
    }
   ],
   "source": [
    "df.info()"
   ]
  },
  {
   "cell_type": "code",
   "execution_count": 5,
   "id": "a91a6931",
   "metadata": {},
   "outputs": [
    {
     "name": "stdout",
     "output_type": "stream",
     "text": [
      "SaleDate: 1123\n",
      "TicketNo: 16708\n",
      "Outlet: 10\n",
      "Total: 204\n",
      "OrderQty: 28\n",
      "Stock_Code: 78\n",
      "Name: 77\n",
      "Description: 64\n",
      "Price: 28\n",
      "Product_Group: 9\n",
      "Group_name: 9\n",
      "CardType: 4\n"
     ]
    }
   ],
   "source": [
    "# look at unique values each variable has\n",
    "for col_name in df.columns:\n",
    "    print(col_name, end=': ')\n",
    "    print(df[col_name].value_counts().count())"
   ]
  },
  {
   "cell_type": "code",
   "execution_count": 6,
   "id": "53dccf5a",
   "metadata": {
    "scrolled": false
   },
   "outputs": [
    {
     "data": {
      "text/plain": [
       "SaleDate             0\n",
       "TicketNo             0\n",
       "Outlet               0\n",
       "Total                0\n",
       "OrderQty             0\n",
       "Stock_Code           0\n",
       "Name                 0\n",
       "Description      10951\n",
       "Price                0\n",
       "Product_Group        0\n",
       "Group_name           0\n",
       "CardType             0\n",
       "dtype: int64"
      ]
     },
     "execution_count": 6,
     "metadata": {},
     "output_type": "execute_result"
    }
   ],
   "source": [
    "df.isnull().sum()"
   ]
  },
  {
   "cell_type": "markdown",
   "id": "15885ae2",
   "metadata": {},
   "source": [
    "The NaN values for description is not an issue as it is just additional data explaining what the item is"
   ]
  },
  {
   "cell_type": "code",
   "execution_count": 7,
   "id": "a46d01b5",
   "metadata": {
    "scrolled": true
   },
   "outputs": [
    {
     "data": {
      "text/plain": [
       "SaleDate                                        2018-08-21\n",
       "TicketNo                                             92235\n",
       "Outlet                                      Middlesborough\n",
       "Total                                                  9.5\n",
       "OrderQty                                                 1\n",
       "Stock_Code                                          PZ0005\n",
       "Name                                           CAPRICCIOSA\n",
       "Description      Tomato base, Mozzarella, ham & mushrooms \n",
       "Price                                                  9.5\n",
       "Product_Group                                         P   \n",
       "Group_name                                           Pizza\n",
       "CardType                                        Debit Card\n",
       "Name: 11, dtype: object"
      ]
     },
     "execution_count": 7,
     "metadata": {},
     "output_type": "execute_result"
    }
   ],
   "source": [
    "df.iloc[11]"
   ]
  },
  {
   "cell_type": "code",
   "execution_count": 8,
   "id": "142caf57",
   "metadata": {},
   "outputs": [
    {
     "data": {
      "text/plain": [
       "SaleDate                                              2018-08-22\n",
       "TicketNo                                                   92247\n",
       "Outlet                                              Peterborough\n",
       "Total                                                        7.5\n",
       "OrderQty                                                       1\n",
       "Stock_Code                                                CP0170\n",
       "Name                                             Crepe Japonnais\n",
       "Description      Teriyaky Salmon & Shitake Mushrooms, with salad\n",
       "Price                                                        7.5\n",
       "Product_Group                                                  C\n",
       "Group_name                                   Crepes and Galettes\n",
       "CardType                                              Debit Card\n",
       "Name: 15, dtype: object"
      ]
     },
     "execution_count": 8,
     "metadata": {},
     "output_type": "execute_result"
    }
   ],
   "source": [
    "df.iloc[15]"
   ]
  },
  {
   "cell_type": "code",
   "execution_count": 9,
   "id": "959f5882",
   "metadata": {},
   "outputs": [
    {
     "data": {
      "text/plain": [
       "'Teriyaky Salmon & Shitake Mushrooms, with salad'"
      ]
     },
     "execution_count": 9,
     "metadata": {},
     "output_type": "execute_result"
    }
   ],
   "source": [
    "df['Description'].iloc[15]"
   ]
  },
  {
   "cell_type": "code",
   "execution_count": 10,
   "id": "ed4bf53e",
   "metadata": {},
   "outputs": [
    {
     "data": {
      "text/plain": [
       "nan"
      ]
     },
     "execution_count": 10,
     "metadata": {},
     "output_type": "execute_result"
    }
   ],
   "source": [
    "df['Description'].iloc[13]"
   ]
  },
  {
   "cell_type": "code",
   "execution_count": 11,
   "id": "bc9ad1b2",
   "metadata": {},
   "outputs": [
    {
     "data": {
      "text/plain": [
       "nan"
      ]
     },
     "execution_count": 11,
     "metadata": {},
     "output_type": "execute_result"
    }
   ],
   "source": [
    "df['Description'].iloc[0]"
   ]
  },
  {
   "cell_type": "code",
   "execution_count": 12,
   "id": "605100d5",
   "metadata": {},
   "outputs": [
    {
     "data": {
      "text/plain": [
       "'Tomato base, Mozzarella, ham & mushrooms '"
      ]
     },
     "execution_count": 12,
     "metadata": {},
     "output_type": "execute_result"
    }
   ],
   "source": [
    "df['Description'].iloc[11]"
   ]
  },
  {
   "cell_type": "code",
   "execution_count": 13,
   "id": "e9a790e2",
   "metadata": {},
   "outputs": [
    {
     "data": {
      "text/plain": [
       "'P   '"
      ]
     },
     "execution_count": 13,
     "metadata": {},
     "output_type": "execute_result"
    }
   ],
   "source": [
    "df['Product_Group'].iloc[11]"
   ]
  },
  {
   "cell_type": "markdown",
   "id": "7d060981",
   "metadata": {},
   "source": [
    "There are a lot of cells with extra white space that needs to be removed and potentially find cells which may just be spaces and no actual data"
   ]
  },
  {
   "cell_type": "code",
   "execution_count": 14,
   "id": "fc17c6a2",
   "metadata": {},
   "outputs": [
    {
     "data": {
      "text/plain": [
       "SaleDate          object\n",
       "TicketNo           int64\n",
       "Outlet            object\n",
       "Total            float64\n",
       "OrderQty           int64\n",
       "Stock_Code        object\n",
       "Name              object\n",
       "Description       object\n",
       "Price            float64\n",
       "Product_Group     object\n",
       "Group_name        object\n",
       "CardType          object\n",
       "dtype: object"
      ]
     },
     "execution_count": 14,
     "metadata": {},
     "output_type": "execute_result"
    }
   ],
   "source": [
    "df.dtypes"
   ]
  },
  {
   "cell_type": "markdown",
   "id": "f0c0dd4b",
   "metadata": {},
   "source": [
    "Look at object columns for whitespace as floats and integers cannot take spaces"
   ]
  },
  {
   "cell_type": "code",
   "execution_count": 15,
   "id": "5f0bc2d8",
   "metadata": {
    "scrolled": false
   },
   "outputs": [
    {
     "name": "stdout",
     "output_type": "stream",
     "text": [
      "Unique values in column 'SaleDate': 1123\n",
      "['2016-07-01' '2016-07-02' '2016-07-03' ... '2019-07-29' '2019-07-30'\n",
      " '2019-07-31']\n",
      "\n",
      "Unique values in column 'TicketNo': 16708\n",
      "[ 82191  82192  82193 ... 114778 114780 114781]\n",
      "\n",
      "Unique values in column 'Outlet': 10\n",
      "['Birmingham' 'Cardiff' 'Edinburgh' 'Ipswich' 'London' 'Middlesborough'\n",
      " 'Peterborough' 'Poole' 'Weymouth' 'Worthing']\n",
      "\n",
      "Unique values in column 'Total': 204\n",
      "[  3.     3.25   3.5    3.75   4.     4.5    5.     5.5    5.75   6.\n",
      "   6.5    6.75   7.     7.5    8.     8.5    9.     9.5    9.75  10.\n",
      "  10.5   11.    11.25  11.5   11.75  12.    12.5   13.    13.5   14.\n",
      "  14.5   15.    16.    16.25  16.5   17.    17.25  17.5   18.    18.75\n",
      "  19.    19.5   20.    20.25  21.    22.    22.5   22.75  23.    23.5\n",
      "  24.    24.5   25.    25.5   26.    26.25  27.    27.5   28.    28.5\n",
      "  28.75  29.    29.25  30.    31.5   32.    32.5   33.    33.75  34.\n",
      "  34.5   35.    35.25  35.75  36.    37.5   38.    38.5   39.    40.\n",
      "  40.25  40.5   41.25  42.    42.25  42.5   43.5   44.    45.    45.5\n",
      "  46.    47.    47.25  47.5   48.    48.75  49.    50.    51.    52.\n",
      "  52.5   54.    55.    55.25  56.    57.    57.5   58.    58.5   58.75\n",
      "  59.5   60.    60.75  62.5   63.    64.    65.    66.    66.5   67.5\n",
      "  68.    69.    70.    70.5   71.5   72.    72.5   73.5   74.25  75.\n",
      "  76.    76.5   77.    78.    78.75  80.    80.5   81.    82.25  82.5\n",
      "  84.    84.5   85.    85.5   87.5   87.75  88.    90.    91.    92.\n",
      "  94.    94.5   95.    96.    97.5   98.   100.   101.25 103.5  104.\n",
      " 104.5  105.   108.   110.   112.   112.5  114.   114.75 115.   117.5\n",
      " 119.   120.   121.   121.5  123.5  125.   126.   126.5  127.5  128.\n",
      " 128.25 129.25 130.   133.   135.   136.5  140.   141.   141.75 142.5\n",
      " 147.   148.5  150.   152.   155.25 157.5  160.   161.   161.5  172.5\n",
      " 180.   187.5  202.5  216.  ]\n",
      "\n",
      "Unique values in column 'OrderQty': 28\n",
      "[ 1  2  3  4  5  6  7  8  9 10 11 12 13 14 15 16 17 18 19 20 21 22 23 24\n",
      " 25 26 27 32]\n",
      "\n",
      "Unique values in column 'Stock_Code': 78\n",
      "['APP001' 'APP002' 'BK0101' 'BK0102' 'BK0103' 'BK0110' 'BK0160' 'BK0161'\n",
      " 'BK0162' 'CP0101' 'CP0102' 'CP0105' 'CP0107' 'CP0108' 'CP0110' 'CP0111'\n",
      " 'CP0112' 'CP0113' 'CP0117' 'CP0118' 'CP0119' 'CP0125' 'CP0134' 'CP0137'\n",
      " 'CP0151' 'CP0156' 'CP0157' 'CP0158' 'CP0159' 'CP0160' 'CP0163' 'CP0170'\n",
      " 'CP0256' 'DAB001' 'DAB002' 'DAB003' 'DAB004' 'DAB005' 'DAB006' 'DAB007'\n",
      " 'DAB008' 'DAB009' 'DAB010' 'DAB011' 'DAB012' 'DAB013' 'ENT0115' 'ENT0116'\n",
      " 'ENT120' 'ENT121' 'ICE002' 'ICE004' 'PZ0001' 'PZ0002' 'PZ0003' 'PZ0004'\n",
      " 'PZ0005' 'PZ0006' 'PZ0007' 'PZ0008' 'PZ0009' 'PZ0010' 'PZ0011' 'PZ0012'\n",
      " 'PZ0013' 'PZ0014' 'PZ0015' 'PZ0016' 'PZ0017' 'PZ0018' 'PZ0019' 'PZ0020'\n",
      " 'PZ0021' 'SAL100' 'SAL102' 'SAL103' 'SD0001' 'SUP121']\n",
      "\n",
      "Unique values in column 'Name': 77\n",
      "['4FORMAGGI' '4STAGIONI' 'Asperges et Champignons Mornay'\n",
      " 'Assiette de fromages' 'Assiette de pate' 'Banana Sara'\n",
      " 'Bananas or Strawberries' 'Belgian waffle' 'Black Coffee' 'Bloody Mary'\n",
      " 'Boeuf bourguignon' 'CALZONE' 'CAPRICCIOSA' 'COLAZIONE' 'Cappuccino'\n",
      " 'Caramel & Salted Butter' 'Chicken and Vegetable crepe'\n",
      " 'Chocolate & Grand Marnier' 'Chocolate or Nutella' 'Coq au vin'\n",
      " 'Crepe Japonnais' 'DIAVOLA' 'Eggs Benedict' 'Eggs Florentine'\n",
      " 'Eggs Royale' 'Epinards creme/creamed spinach' 'Espresso' 'FIORENTINA'\n",
      " 'Fish of the day' 'French fries' 'Fruits de mer/seafood' 'GIARDINO'\n",
      " 'HAWAII' \"Ham 'n Cheese Omelette\" 'Hazelnut Chocolate Cream'\n",
      " 'Hot Chocolate' 'Hot Cider' 'Italian crepe' 'Kir Normand'\n",
      " 'La Noix de Coco' 'La Pomme' 'La Superbe Banane Quebec' 'La Vegetarienne'\n",
      " 'La cacahuete' 'Latte' \"MARCO'S\" 'MARGHERITA' 'MEDITERRANEA' 'MOO-MOO'\n",
      " 'Mimosa' 'NAPOLETANA' 'POPAY' 'Poulet au curry'\n",
      " 'Poulet et fromage de chevre' 'Pure Wellness' 'Red Passion'\n",
      " 'Reveil Royal' 'SALAME' 'SAPORITA' 'SCHIACCIATINA' 'Salade Maison'\n",
      " 'Salade Nicoise' 'Salade Parisienne' 'Scrambled eggs'\n",
      " \"Soup a l'oignon gratinee\" 'Steak Frites' 'Suzette a la Germain'\n",
      " 'THE DON' 'TONNO CIPPOLA' 'TRENTINA' 'Tartiflette Galette' 'Tea'\n",
      " 'The Sicilian Crepe' 'The Two Cheeses crepe' \"chicken 'n cheese omelette\"\n",
      " 'creme caramel' 'juices / Orangina']\n",
      "\n",
      "Unique values in column 'Description': 65\n",
      "['(Chocolate hazelnut)'\n",
      " '(Folded pizza) Tomato base, mushrooms, red onions, black olives & pineapple '\n",
      " '3 pates with cornichons & moutarde'\n",
      " 'Amarena cherries, 2 scoops of ice cream: vanilla and chocolate, hazelnuts, meringues, hazelnuts, chocolate sauce, wafers, whipped cream'\n",
      " 'An orange Grand Marnier amd curacao reduction'\n",
      " 'Apples sauteed in butter & cinnamon'\n",
      " 'Asparagus & mushrooms in a mornay sauce'\n",
      " 'Bacon, cheese, potatoes, raclette cheese, cream, onion, white wine on a buckwheat crepe.'\n",
      " 'Banana, walnuts, butter, cream, with real Canadian Maple Syrup poured all over, and splashed with Cointreau.'\n",
      " 'Bananas in a brown sugar caramel sauce topped with rum & vanilla ice cream'\n",
      " 'Beef braised with burgundy, mushrooms, carrots, leeks & tomatoes'\n",
      " 'Caramel sauce *amp; vanilla flan' 'Carmel sauce in a salted butter'\n",
      " 'Chartreuse with hot milk'\n",
      " 'Cheddar cheese topped with Mozzarella, cherry tomatoes and basil, served with a green salad.'\n",
      " 'Chicken breast with roasted tomatoes & goat cheese'\n",
      " 'Chicken in creamy Madras curry with chutney & wold rice'\n",
      " 'Chicken stewed with red wine, onions, tomatoes, mushrooms & carrots'\n",
      " 'Chicken, peppers, sweetcorn, cheese, mustard dressing.'\n",
      " 'Chocolate & toasted coconut' 'Chocolate and orange liqueur - Heaven!'\n",
      " 'Crisp outside, fluffy inside = the best!' 'Gorgonzola, walnut & apple '\n",
      " 'Grilled Ribeye steak served with French fries' 'Ham & Gruyere'\n",
      " 'Hazelnuts, butter, cream, with Belgian chocolate (milk, dark or white).'\n",
      " 'Lettuce, frisee lettuce, ham, cheese, sweetcorn, egg, cherry tomatoes'\n",
      " 'Monthy selection of 3 cheeses' 'Mozzarella, cherry tomatoes & basil '\n",
      " 'Normandy Cider and creme de cassis'\n",
      " 'Peanut butter, chocolate and bananas'\n",
      " 'Raspberry, blueberry, strawberry, scoop of natural yoghurt ice cream, scoop of fruit yoghurt ice cream, raspberry sauce, chocolate curls, wafer, whipped cream'\n",
      " 'Romaine lettuce, parmesan, croutons & vinaigrette maison'\n",
      " 'Rosemary, Olive Oil and Sea salt '\n",
      " 'Sauteed broccoli, tomatoes, & cheese'\n",
      " 'Sauteed chicken, broccoli & cheddar' 'Sauteed in a butter cream sauce'\n",
      " 'Sauteed or grilled served with a side of broccoli, rice &, cream dill reduction'\n",
      " 'Scallops & shrimp in a bechamel sauce with a side of rice'\n",
      " 'Scrambled eggs, spinach & cheddar' 'Swiss and cheddar cheese'\n",
      " 'Teriyaky Salmon & Shitake Mushrooms, with salad'\n",
      " 'Tomato base, Cheddar cheese, bacon & eggs '\n",
      " 'Tomato base, Folded pizza, mozzarella, mushrooms & ham '\n",
      " 'Tomato base, Mozzarella & pepperoni '\n",
      " 'Tomato base, Mozzarella, Ricotta, Gorgonzola & Parmesan shavings '\n",
      " 'Tomato base, Mozzarella, black olives capers & anchovies '\n",
      " 'Tomato base, Mozzarella, cheese & oregano '\n",
      " 'Tomato base, Mozzarella, chorizo & Gorgonzola '\n",
      " 'Tomato base, Mozzarella, chorizo & green pepper '\n",
      " 'Tomato base, Mozzarella, ham & mushrooms '\n",
      " 'Tomato base, Mozzarella, ham & pineapple '\n",
      " 'Tomato base, Mozzarella, mushrooms, artichokes, black olives & ham '\n",
      " 'Tomato base, Mozzarella, mushrooms, ham, green pepper & red onion '\n",
      " 'Tomato base, Mozzarella, mushrooms, pepper, aubergine, olives & garlic '\n",
      " 'Tomato base, Mozzarella, spinach & egg '\n",
      " 'Tomato base, Mozzarella, tuna & onion '\n",
      " 'Tomato base, Ricotta cheese, spinach & black pepper '\n",
      " 'Tomato base, red onions, anchovies, capers, olives & chilli '\n",
      " 'Traditional French onion soup with bread & melted emmenthal'\n",
      " 'Tuna, black olives, cheddar cheese, spinach and our special tomato sauce!'\n",
      " 'Tuna, potatoes, green beans, onions, capers, tomatoes, egg and anchovies on a bed of romaine lettuce with the vinaigrette maison'\n",
      " 'Vodka, Tomato Juice and Tabasco - what elsee' 'Your choice!' 'nan']\n",
      "\n",
      "Unique values in column 'Price': 28\n",
      "[ 3.    3.25  3.5   3.75  4.    4.5   5.    5.5   5.75  6.5   6.75  7.\n",
      "  7.5   8.    8.5   9.    9.5  10.   10.5  11.   11.5  11.75 12.5  13.\n",
      " 13.5  14.   14.5  16.  ]\n",
      "\n",
      "Unique values in column 'Product_Group': 9\n",
      "['A   ' 'B   ' 'C' 'D   ' 'F   ' 'G   ' 'K   ' 'P   ' 'S   ']\n",
      "\n",
      "Unique values in column 'Group_name': 9\n",
      "['Breakfast' 'Crepes and Galettes' 'Desserts' 'Drinks & Beverages'\n",
      " 'Fish & Seafood' 'Pizza' 'Salads' 'Side Dishes' 'Starters/Appetisers']\n",
      "\n",
      "Unique values in column 'CardType': 4\n",
      "['Avis' 'Debit Card' 'Maestercard' 'Visa']\n",
      "\n"
     ]
    }
   ],
   "source": [
    "for col_name in df:\n",
    "    try:\n",
    "        unique_vals = np.unique(df[col_name])\n",
    "        nr_vals = len(unique_vals)\n",
    "    except:\n",
    "        unique_vals = np.unique(df[col_name].astype(str))\n",
    "        nr_vals = len(unique_vals)\n",
    "    \n",
    "    print(f\"Unique values in column '{col_name}': {nr_vals}\")\n",
    "    print(unique_vals, end='\\n\\n')"
   ]
  },
  {
   "cell_type": "markdown",
   "id": "d3892fdc",
   "metadata": {},
   "source": [
    "Strip the white space of each column:"
   ]
  },
  {
   "cell_type": "code",
   "execution_count": 16,
   "id": "09b96916",
   "metadata": {
    "scrolled": true
   },
   "outputs": [],
   "source": [
    "# goes through each column and strips whitespaces\n",
    "for col_name in df.columns:\n",
    "    if df[col_name].dtypes == object:\n",
    "        df[col_name] = df[col_name].str.strip()\n",
    "    else:\n",
    "        pass"
   ]
  },
  {
   "cell_type": "markdown",
   "id": "dd2a91fc",
   "metadata": {},
   "source": [
    "Look at sample data to see if it was successful"
   ]
  },
  {
   "cell_type": "code",
   "execution_count": 17,
   "id": "b6f0b251",
   "metadata": {},
   "outputs": [
    {
     "data": {
      "text/plain": [
       "array(['A', 'B', 'C', 'D', 'F', 'G', 'K', 'P', 'S'], dtype=object)"
      ]
     },
     "execution_count": 17,
     "metadata": {},
     "output_type": "execute_result"
    }
   ],
   "source": [
    "np.unique(df['Product_Group'])"
   ]
  },
  {
   "cell_type": "markdown",
   "id": "bb7596f8",
   "metadata": {},
   "source": [
    "Looks to have worked correctly"
   ]
  },
  {
   "cell_type": "code",
   "execution_count": 18,
   "id": "8c1f2e9a",
   "metadata": {
    "scrolled": true
   },
   "outputs": [
    {
     "data": {
      "text/plain": [
       "0"
      ]
     },
     "execution_count": 18,
     "metadata": {},
     "output_type": "execute_result"
    }
   ],
   "source": [
    "df.duplicated().sum()"
   ]
  },
  {
   "cell_type": "markdown",
   "id": "ee9b20b5",
   "metadata": {},
   "source": [
    "There seems to be no duplicates"
   ]
  },
  {
   "cell_type": "code",
   "execution_count": 19,
   "id": "43608f00",
   "metadata": {},
   "outputs": [
    {
     "data": {
      "text/plain": [
       "23997"
      ]
     },
     "execution_count": 19,
     "metadata": {},
     "output_type": "execute_result"
    }
   ],
   "source": [
    "df[['TicketNo']].duplicated().sum()"
   ]
  },
  {
   "cell_type": "code",
   "execution_count": 20,
   "id": "4cc823db",
   "metadata": {},
   "outputs": [
    {
     "data": {
      "text/html": [
       "<div>\n",
       "<style scoped>\n",
       "    .dataframe tbody tr th:only-of-type {\n",
       "        vertical-align: middle;\n",
       "    }\n",
       "\n",
       "    .dataframe tbody tr th {\n",
       "        vertical-align: top;\n",
       "    }\n",
       "\n",
       "    .dataframe thead th {\n",
       "        text-align: right;\n",
       "    }\n",
       "</style>\n",
       "<table border=\"1\" class=\"dataframe\">\n",
       "  <thead>\n",
       "    <tr style=\"text-align: right;\">\n",
       "      <th></th>\n",
       "      <th>SaleDate</th>\n",
       "      <th>TicketNo</th>\n",
       "      <th>Outlet</th>\n",
       "      <th>Total</th>\n",
       "      <th>OrderQty</th>\n",
       "      <th>Stock_Code</th>\n",
       "      <th>Name</th>\n",
       "      <th>Description</th>\n",
       "      <th>Price</th>\n",
       "      <th>Product_Group</th>\n",
       "      <th>Group_name</th>\n",
       "      <th>CardType</th>\n",
       "    </tr>\n",
       "  </thead>\n",
       "  <tbody>\n",
       "    <tr>\n",
       "      <th>3</th>\n",
       "      <td>2018-08-21</td>\n",
       "      <td>92217</td>\n",
       "      <td>Birmingham</td>\n",
       "      <td>5.0</td>\n",
       "      <td>1</td>\n",
       "      <td>BK0101</td>\n",
       "      <td>Eggs Florentine</td>\n",
       "      <td>NaN</td>\n",
       "      <td>5.0</td>\n",
       "      <td>B</td>\n",
       "      <td>Breakfast</td>\n",
       "      <td>Avis</td>\n",
       "    </tr>\n",
       "    <tr>\n",
       "      <th>4</th>\n",
       "      <td>2018-08-21</td>\n",
       "      <td>92217</td>\n",
       "      <td>Birmingham</td>\n",
       "      <td>7.5</td>\n",
       "      <td>1</td>\n",
       "      <td>CP0125</td>\n",
       "      <td>The Sicilian Crepe</td>\n",
       "      <td>Tuna, black olives, cheddar cheese, spinach an...</td>\n",
       "      <td>7.5</td>\n",
       "      <td>C</td>\n",
       "      <td>Crepes and Galettes</td>\n",
       "      <td>Avis</td>\n",
       "    </tr>\n",
       "  </tbody>\n",
       "</table>\n",
       "</div>"
      ],
      "text/plain": [
       "     SaleDate  TicketNo      Outlet  Total  OrderQty Stock_Code  \\\n",
       "3  2018-08-21     92217  Birmingham    5.0         1     BK0101   \n",
       "4  2018-08-21     92217  Birmingham    7.5         1     CP0125   \n",
       "\n",
       "                 Name                                        Description  \\\n",
       "3     Eggs Florentine                                                NaN   \n",
       "4  The Sicilian Crepe  Tuna, black olives, cheddar cheese, spinach an...   \n",
       "\n",
       "   Price Product_Group           Group_name CardType  \n",
       "3    5.0             B            Breakfast     Avis  \n",
       "4    7.5             C  Crepes and Galettes     Avis  "
      ]
     },
     "execution_count": 20,
     "metadata": {},
     "output_type": "execute_result"
    }
   ],
   "source": [
    "df[df['TicketNo'] == 92217]"
   ]
  },
  {
   "cell_type": "markdown",
   "id": "947d021f",
   "metadata": {},
   "source": [
    "One ticket number shows the different items bought for that particular ticket/person, but not a duplicate"
   ]
  },
  {
   "cell_type": "code",
   "execution_count": 21,
   "id": "146c56dc",
   "metadata": {
    "scrolled": false
   },
   "outputs": [
    {
     "data": {
      "text/html": [
       "<div>\n",
       "<style scoped>\n",
       "    .dataframe tbody tr th:only-of-type {\n",
       "        vertical-align: middle;\n",
       "    }\n",
       "\n",
       "    .dataframe tbody tr th {\n",
       "        vertical-align: top;\n",
       "    }\n",
       "\n",
       "    .dataframe thead th {\n",
       "        text-align: right;\n",
       "    }\n",
       "</style>\n",
       "<table border=\"1\" class=\"dataframe\">\n",
       "  <thead>\n",
       "    <tr style=\"text-align: right;\">\n",
       "      <th></th>\n",
       "      <th>SaleDate</th>\n",
       "      <th>TicketNo</th>\n",
       "      <th>Outlet</th>\n",
       "      <th>Total</th>\n",
       "      <th>OrderQty</th>\n",
       "      <th>Stock_Code</th>\n",
       "      <th>Name</th>\n",
       "      <th>Description</th>\n",
       "      <th>Price</th>\n",
       "      <th>Product_Group</th>\n",
       "      <th>Group_name</th>\n",
       "      <th>CardType</th>\n",
       "    </tr>\n",
       "  </thead>\n",
       "  <tbody>\n",
       "    <tr>\n",
       "      <th>40700</th>\n",
       "      <td>2018-08-20</td>\n",
       "      <td>92190</td>\n",
       "      <td>Birmingham</td>\n",
       "      <td>5.0</td>\n",
       "      <td>1</td>\n",
       "      <td>BK0101</td>\n",
       "      <td>Eggs Florentine</td>\n",
       "      <td>NaN</td>\n",
       "      <td>5.0</td>\n",
       "      <td>B</td>\n",
       "      <td>Breakfast</td>\n",
       "      <td>Avis</td>\n",
       "    </tr>\n",
       "    <tr>\n",
       "      <th>40701</th>\n",
       "      <td>2018-08-20</td>\n",
       "      <td>92191</td>\n",
       "      <td>Birmingham</td>\n",
       "      <td>5.0</td>\n",
       "      <td>1</td>\n",
       "      <td>BK0101</td>\n",
       "      <td>Eggs Florentine</td>\n",
       "      <td>NaN</td>\n",
       "      <td>5.0</td>\n",
       "      <td>B</td>\n",
       "      <td>Breakfast</td>\n",
       "      <td>Maestercard</td>\n",
       "    </tr>\n",
       "    <tr>\n",
       "      <th>40702</th>\n",
       "      <td>2018-08-20</td>\n",
       "      <td>92194</td>\n",
       "      <td>Weymouth</td>\n",
       "      <td>5.0</td>\n",
       "      <td>1</td>\n",
       "      <td>BK0110</td>\n",
       "      <td>Belgian waffle</td>\n",
       "      <td>NaN</td>\n",
       "      <td>5.0</td>\n",
       "      <td>B</td>\n",
       "      <td>Breakfast</td>\n",
       "      <td>Debit Card</td>\n",
       "    </tr>\n",
       "    <tr>\n",
       "      <th>40703</th>\n",
       "      <td>2018-08-21</td>\n",
       "      <td>92196</td>\n",
       "      <td>Middlesborough</td>\n",
       "      <td>7.5</td>\n",
       "      <td>1</td>\n",
       "      <td>CP0170</td>\n",
       "      <td>Crepe Japonnais</td>\n",
       "      <td>Teriyaky Salmon &amp; Shitake Mushrooms, with salad</td>\n",
       "      <td>7.5</td>\n",
       "      <td>C</td>\n",
       "      <td>Crepes and Galettes</td>\n",
       "      <td>Visa</td>\n",
       "    </tr>\n",
       "    <tr>\n",
       "      <th>40704</th>\n",
       "      <td>2018-08-21</td>\n",
       "      <td>92202</td>\n",
       "      <td>Peterborough</td>\n",
       "      <td>5.0</td>\n",
       "      <td>1</td>\n",
       "      <td>BK0110</td>\n",
       "      <td>Belgian waffle</td>\n",
       "      <td>NaN</td>\n",
       "      <td>5.0</td>\n",
       "      <td>B</td>\n",
       "      <td>Breakfast</td>\n",
       "      <td>Debit Card</td>\n",
       "    </tr>\n",
       "  </tbody>\n",
       "</table>\n",
       "</div>"
      ],
      "text/plain": [
       "         SaleDate  TicketNo          Outlet  Total  OrderQty Stock_Code  \\\n",
       "40700  2018-08-20     92190      Birmingham    5.0         1     BK0101   \n",
       "40701  2018-08-20     92191      Birmingham    5.0         1     BK0101   \n",
       "40702  2018-08-20     92194        Weymouth    5.0         1     BK0110   \n",
       "40703  2018-08-21     92196  Middlesborough    7.5         1     CP0170   \n",
       "40704  2018-08-21     92202    Peterborough    5.0         1     BK0110   \n",
       "\n",
       "                  Name                                      Description  \\\n",
       "40700  Eggs Florentine                                              NaN   \n",
       "40701  Eggs Florentine                                              NaN   \n",
       "40702   Belgian waffle                                              NaN   \n",
       "40703  Crepe Japonnais  Teriyaky Salmon & Shitake Mushrooms, with salad   \n",
       "40704   Belgian waffle                                              NaN   \n",
       "\n",
       "       Price Product_Group           Group_name     CardType  \n",
       "40700    5.0             B            Breakfast         Avis  \n",
       "40701    5.0             B            Breakfast  Maestercard  \n",
       "40702    5.0             B            Breakfast   Debit Card  \n",
       "40703    7.5             C  Crepes and Galettes         Visa  \n",
       "40704    5.0             B            Breakfast   Debit Card  "
      ]
     },
     "execution_count": 21,
     "metadata": {},
     "output_type": "execute_result"
    }
   ],
   "source": [
    "df.tail()"
   ]
  },
  {
   "cell_type": "markdown",
   "id": "8eaeeacf",
   "metadata": {},
   "source": [
    "Now that the data has been cleaned, it can be exported to csv"
   ]
  },
  {
   "cell_type": "code",
   "execution_count": 22,
   "id": "81064e28",
   "metadata": {},
   "outputs": [],
   "source": [
    "df.to_csv('Cleaned_Galleria.csv')"
   ]
  },
  {
   "cell_type": "markdown",
   "id": "11ae05a7",
   "metadata": {},
   "source": [
    "***Note:*** The data is cleaned in a way such that it is reproducible if any new data was to be inserted into this dataset. Currently the dataset has 40,705 which is not a lot of data and hence python would be able to handle the initial stage of cleaning. For future proof, if new rows are being inserted, let the quantity be such that python can handle it i.e. if data is too large, load it in batches or insert data more frequently OR simply insert records into the data correctly. This initial stage of cleaning is to produce a foundation for the Galleria operations, whereby this dataset can be imported to SQL by connecting to the db/data warehouse. However, this task was more so to understand the type of data which will be further explored in the following section."
   ]
  },
  {
   "cell_type": "markdown",
   "id": "0112224e",
   "metadata": {},
   "source": [
    "### 2. OLAP Schema Plan"
   ]
  },
  {
   "cell_type": "markdown",
   "id": "2beb8e20",
   "metadata": {},
   "source": [
    "#### 2.1 Looking at Data"
   ]
  },
  {
   "cell_type": "markdown",
   "id": "4ff9688d",
   "metadata": {},
   "source": [
    "This section consists of looking at the data and seeing how the data can be split to create a STAR OLAP schema."
   ]
  },
  {
   "cell_type": "code",
   "execution_count": 23,
   "id": "94148e7c",
   "metadata": {},
   "outputs": [
    {
     "data": {
      "text/html": [
       "<div>\n",
       "<style scoped>\n",
       "    .dataframe tbody tr th:only-of-type {\n",
       "        vertical-align: middle;\n",
       "    }\n",
       "\n",
       "    .dataframe tbody tr th {\n",
       "        vertical-align: top;\n",
       "    }\n",
       "\n",
       "    .dataframe thead th {\n",
       "        text-align: right;\n",
       "    }\n",
       "</style>\n",
       "<table border=\"1\" class=\"dataframe\">\n",
       "  <thead>\n",
       "    <tr style=\"text-align: right;\">\n",
       "      <th></th>\n",
       "      <th>SaleDate</th>\n",
       "      <th>TicketNo</th>\n",
       "      <th>Outlet</th>\n",
       "      <th>Total</th>\n",
       "      <th>OrderQty</th>\n",
       "      <th>Stock_Code</th>\n",
       "      <th>Name</th>\n",
       "      <th>Description</th>\n",
       "      <th>Price</th>\n",
       "      <th>Product_Group</th>\n",
       "      <th>Group_name</th>\n",
       "      <th>CardType</th>\n",
       "    </tr>\n",
       "  </thead>\n",
       "  <tbody>\n",
       "    <tr>\n",
       "      <th>0</th>\n",
       "      <td>2018-08-21</td>\n",
       "      <td>92208</td>\n",
       "      <td>Birmingham</td>\n",
       "      <td>5.0</td>\n",
       "      <td>1</td>\n",
       "      <td>BK0101</td>\n",
       "      <td>Eggs Florentine</td>\n",
       "      <td>NaN</td>\n",
       "      <td>5.0</td>\n",
       "      <td>B</td>\n",
       "      <td>Breakfast</td>\n",
       "      <td>Visa</td>\n",
       "    </tr>\n",
       "    <tr>\n",
       "      <th>1</th>\n",
       "      <td>2018-08-21</td>\n",
       "      <td>92209</td>\n",
       "      <td>Birmingham</td>\n",
       "      <td>7.5</td>\n",
       "      <td>1</td>\n",
       "      <td>CP0125</td>\n",
       "      <td>The Sicilian Crepe</td>\n",
       "      <td>Tuna, black olives, cheddar cheese, spinach an...</td>\n",
       "      <td>7.5</td>\n",
       "      <td>C</td>\n",
       "      <td>Crepes and Galettes</td>\n",
       "      <td>Avis</td>\n",
       "    </tr>\n",
       "  </tbody>\n",
       "</table>\n",
       "</div>"
      ],
      "text/plain": [
       "     SaleDate  TicketNo      Outlet  Total  OrderQty Stock_Code  \\\n",
       "0  2018-08-21     92208  Birmingham    5.0         1     BK0101   \n",
       "1  2018-08-21     92209  Birmingham    7.5         1     CP0125   \n",
       "\n",
       "                 Name                                        Description  \\\n",
       "0     Eggs Florentine                                                NaN   \n",
       "1  The Sicilian Crepe  Tuna, black olives, cheddar cheese, spinach an...   \n",
       "\n",
       "   Price Product_Group           Group_name CardType  \n",
       "0    5.0             B            Breakfast     Visa  \n",
       "1    7.5             C  Crepes and Galettes     Avis  "
      ]
     },
     "execution_count": 23,
     "metadata": {},
     "output_type": "execute_result"
    }
   ],
   "source": [
    "df.head(2)"
   ]
  },
  {
   "cell_type": "code",
   "execution_count": 24,
   "id": "a5a63833",
   "metadata": {},
   "outputs": [
    {
     "data": {
      "text/plain": [
       "array(['APP001', 'APP002', 'BK0101', 'BK0102', 'BK0103', 'BK0110',\n",
       "       'BK0160', 'BK0161', 'BK0162', 'CP0101', 'CP0102', 'CP0105',\n",
       "       'CP0107', 'CP0108', 'CP0110', 'CP0111', 'CP0112', 'CP0113',\n",
       "       'CP0117', 'CP0118', 'CP0119', 'CP0125', 'CP0134', 'CP0137',\n",
       "       'CP0151', 'CP0156', 'CP0157', 'CP0158', 'CP0159', 'CP0160',\n",
       "       'CP0163', 'CP0170', 'CP0256', 'DAB001', 'DAB002', 'DAB003',\n",
       "       'DAB004', 'DAB005', 'DAB006', 'DAB007', 'DAB008', 'DAB009',\n",
       "       'DAB010', 'DAB011', 'DAB012', 'DAB013', 'ENT0115', 'ENT0116',\n",
       "       'ENT120', 'ENT121', 'ICE002', 'ICE004', 'PZ0001', 'PZ0002',\n",
       "       'PZ0003', 'PZ0004', 'PZ0005', 'PZ0006', 'PZ0007', 'PZ0008',\n",
       "       'PZ0009', 'PZ0010', 'PZ0011', 'PZ0012', 'PZ0013', 'PZ0014',\n",
       "       'PZ0015', 'PZ0016', 'PZ0017', 'PZ0018', 'PZ0019', 'PZ0020',\n",
       "       'PZ0021', 'SAL100', 'SAL102', 'SAL103', 'SD0001', 'SUP121'],\n",
       "      dtype=object)"
      ]
     },
     "execution_count": 24,
     "metadata": {},
     "output_type": "execute_result"
    }
   ],
   "source": [
    "np.unique(df[['Stock_Code']].values)"
   ]
  },
  {
   "cell_type": "code",
   "execution_count": 25,
   "id": "2b88e021",
   "metadata": {
    "scrolled": false
   },
   "outputs": [
    {
     "data": {
      "text/html": [
       "<div>\n",
       "<style scoped>\n",
       "    .dataframe tbody tr th:only-of-type {\n",
       "        vertical-align: middle;\n",
       "    }\n",
       "\n",
       "    .dataframe tbody tr th {\n",
       "        vertical-align: top;\n",
       "    }\n",
       "\n",
       "    .dataframe thead th {\n",
       "        text-align: right;\n",
       "    }\n",
       "</style>\n",
       "<table border=\"1\" class=\"dataframe\">\n",
       "  <thead>\n",
       "    <tr style=\"text-align: right;\">\n",
       "      <th></th>\n",
       "      <th>SaleDate</th>\n",
       "      <th>TicketNo</th>\n",
       "      <th>Outlet</th>\n",
       "      <th>Total</th>\n",
       "      <th>OrderQty</th>\n",
       "      <th>Stock_Code</th>\n",
       "      <th>Name</th>\n",
       "      <th>Description</th>\n",
       "      <th>Price</th>\n",
       "      <th>Product_Group</th>\n",
       "      <th>Group_name</th>\n",
       "      <th>CardType</th>\n",
       "    </tr>\n",
       "  </thead>\n",
       "  <tbody>\n",
       "    <tr>\n",
       "      <th>87</th>\n",
       "      <td>2018-08-25</td>\n",
       "      <td>92399</td>\n",
       "      <td>Ipswich</td>\n",
       "      <td>10.0</td>\n",
       "      <td>1</td>\n",
       "      <td>PZ0021</td>\n",
       "      <td>THE DON</td>\n",
       "      <td>(Folded pizza) Tomato base, mushrooms, red oni...</td>\n",
       "      <td>10.0</td>\n",
       "      <td>P</td>\n",
       "      <td>Pizza</td>\n",
       "      <td>Maestercard</td>\n",
       "    </tr>\n",
       "    <tr>\n",
       "      <th>160</th>\n",
       "      <td>2018-08-28</td>\n",
       "      <td>92569</td>\n",
       "      <td>Poole</td>\n",
       "      <td>10.0</td>\n",
       "      <td>1</td>\n",
       "      <td>PZ0021</td>\n",
       "      <td>THE DON</td>\n",
       "      <td>(Folded pizza) Tomato base, mushrooms, red oni...</td>\n",
       "      <td>10.0</td>\n",
       "      <td>P</td>\n",
       "      <td>Pizza</td>\n",
       "      <td>Debit Card</td>\n",
       "    </tr>\n",
       "    <tr>\n",
       "      <th>216</th>\n",
       "      <td>2018-08-30</td>\n",
       "      <td>92667</td>\n",
       "      <td>Peterborough</td>\n",
       "      <td>10.0</td>\n",
       "      <td>1</td>\n",
       "      <td>PZ0021</td>\n",
       "      <td>THE DON</td>\n",
       "      <td>(Folded pizza) Tomato base, mushrooms, red oni...</td>\n",
       "      <td>10.0</td>\n",
       "      <td>P</td>\n",
       "      <td>Pizza</td>\n",
       "      <td>Debit Card</td>\n",
       "    </tr>\n",
       "  </tbody>\n",
       "</table>\n",
       "</div>"
      ],
      "text/plain": [
       "       SaleDate  TicketNo        Outlet  Total  OrderQty Stock_Code     Name  \\\n",
       "87   2018-08-25     92399       Ipswich   10.0         1     PZ0021  THE DON   \n",
       "160  2018-08-28     92569         Poole   10.0         1     PZ0021  THE DON   \n",
       "216  2018-08-30     92667  Peterborough   10.0         1     PZ0021  THE DON   \n",
       "\n",
       "                                           Description  Price Product_Group  \\\n",
       "87   (Folded pizza) Tomato base, mushrooms, red oni...   10.0             P   \n",
       "160  (Folded pizza) Tomato base, mushrooms, red oni...   10.0             P   \n",
       "216  (Folded pizza) Tomato base, mushrooms, red oni...   10.0             P   \n",
       "\n",
       "    Group_name     CardType  \n",
       "87       Pizza  Maestercard  \n",
       "160      Pizza   Debit Card  \n",
       "216      Pizza   Debit Card  "
      ]
     },
     "execution_count": 25,
     "metadata": {},
     "output_type": "execute_result"
    }
   ],
   "source": [
    "df[df['Stock_Code'] == 'PZ0021'].head(3)"
   ]
  },
  {
   "cell_type": "markdown",
   "id": "28297eb3",
   "metadata": {},
   "source": [
    "- Stock Code can be used to identify which product is being sold i.e. the name of the product so it can be used in a new table. Alongside this, the description and price can be linked."
   ]
  },
  {
   "cell_type": "markdown",
   "id": "b7ddf3b8",
   "metadata": {},
   "source": [
    "- The product group can be used to identify which group the product lies in and can be linked with the group name."
   ]
  },
  {
   "cell_type": "markdown",
   "id": "e85c6599",
   "metadata": {},
   "source": [
    "- The outlet can have its own table as it is just a city. Likewise, the card type can be split in the same manner."
   ]
  },
  {
   "cell_type": "markdown",
   "id": "cd29fb63",
   "metadata": {},
   "source": [
    "#### 2.2 Plan of schema"
   ]
  },
  {
   "cell_type": "markdown",
   "id": "42944f3e",
   "metadata": {},
   "source": [
    "Plan of STAR schema to be implemented as it is simpler and better to use for PowerBI than the snowflake schema. As there are no unique IDs in this table other than stock code (used to identify the item being sold), a primary ID must be created with multiple foreign IDs as follows:\n",
    "\n",
    "Fact Table: \n",
    "- [SaleID, SaleDate, TicketNo, Stock_Code, OutletID, CardID, GroupID, OrderQty, Total] --> SalesID is primary key\n",
    "\n",
    "Dimension Tables: \n",
    "-    - [GroupID, Product_Group, Group_name]\n",
    "    - [StockCode, Name, Description, Price]\n",
    "    - [OutletID, Outlet]\n",
    "    - [CardID, CardType]"
   ]
  },
  {
   "cell_type": "markdown",
   "id": "aedf6c64",
   "metadata": {},
   "source": [
    "The new ID columns can be created and added to the dataset for when creating the schema as follows:"
   ]
  },
  {
   "cell_type": "code",
   "execution_count": 25,
   "id": "4e737461",
   "metadata": {
    "scrolled": false
   },
   "outputs": [
    {
     "data": {
      "text/html": [
       "<div>\n",
       "<style scoped>\n",
       "    .dataframe tbody tr th:only-of-type {\n",
       "        vertical-align: middle;\n",
       "    }\n",
       "\n",
       "    .dataframe tbody tr th {\n",
       "        vertical-align: top;\n",
       "    }\n",
       "\n",
       "    .dataframe thead th {\n",
       "        text-align: right;\n",
       "    }\n",
       "</style>\n",
       "<table border=\"1\" class=\"dataframe\">\n",
       "  <thead>\n",
       "    <tr style=\"text-align: right;\">\n",
       "      <th></th>\n",
       "      <th>SaleDate</th>\n",
       "      <th>TicketNo</th>\n",
       "      <th>Outlet</th>\n",
       "      <th>Total</th>\n",
       "      <th>OrderQty</th>\n",
       "      <th>Stock_Code</th>\n",
       "      <th>Name</th>\n",
       "      <th>Description</th>\n",
       "      <th>Price</th>\n",
       "      <th>Product_Group</th>\n",
       "      <th>Group_name</th>\n",
       "      <th>CardType</th>\n",
       "    </tr>\n",
       "  </thead>\n",
       "  <tbody>\n",
       "    <tr>\n",
       "      <th>40700</th>\n",
       "      <td>2018-08-20</td>\n",
       "      <td>92190</td>\n",
       "      <td>Birmingham</td>\n",
       "      <td>5.0</td>\n",
       "      <td>1</td>\n",
       "      <td>BK0101</td>\n",
       "      <td>Eggs Florentine</td>\n",
       "      <td>NaN</td>\n",
       "      <td>5.0</td>\n",
       "      <td>B</td>\n",
       "      <td>Breakfast</td>\n",
       "      <td>Avis</td>\n",
       "    </tr>\n",
       "    <tr>\n",
       "      <th>40701</th>\n",
       "      <td>2018-08-20</td>\n",
       "      <td>92191</td>\n",
       "      <td>Birmingham</td>\n",
       "      <td>5.0</td>\n",
       "      <td>1</td>\n",
       "      <td>BK0101</td>\n",
       "      <td>Eggs Florentine</td>\n",
       "      <td>NaN</td>\n",
       "      <td>5.0</td>\n",
       "      <td>B</td>\n",
       "      <td>Breakfast</td>\n",
       "      <td>Maestercard</td>\n",
       "    </tr>\n",
       "    <tr>\n",
       "      <th>40702</th>\n",
       "      <td>2018-08-20</td>\n",
       "      <td>92194</td>\n",
       "      <td>Weymouth</td>\n",
       "      <td>5.0</td>\n",
       "      <td>1</td>\n",
       "      <td>BK0110</td>\n",
       "      <td>Belgian waffle</td>\n",
       "      <td>NaN</td>\n",
       "      <td>5.0</td>\n",
       "      <td>B</td>\n",
       "      <td>Breakfast</td>\n",
       "      <td>Debit Card</td>\n",
       "    </tr>\n",
       "    <tr>\n",
       "      <th>40703</th>\n",
       "      <td>2018-08-21</td>\n",
       "      <td>92196</td>\n",
       "      <td>Middlesborough</td>\n",
       "      <td>7.5</td>\n",
       "      <td>1</td>\n",
       "      <td>CP0170</td>\n",
       "      <td>Crepe Japonnais</td>\n",
       "      <td>Teriyaky Salmon &amp; Shitake Mushrooms, with salad</td>\n",
       "      <td>7.5</td>\n",
       "      <td>C</td>\n",
       "      <td>Crepes and Galettes</td>\n",
       "      <td>Visa</td>\n",
       "    </tr>\n",
       "    <tr>\n",
       "      <th>40704</th>\n",
       "      <td>2018-08-21</td>\n",
       "      <td>92202</td>\n",
       "      <td>Peterborough</td>\n",
       "      <td>5.0</td>\n",
       "      <td>1</td>\n",
       "      <td>BK0110</td>\n",
       "      <td>Belgian waffle</td>\n",
       "      <td>NaN</td>\n",
       "      <td>5.0</td>\n",
       "      <td>B</td>\n",
       "      <td>Breakfast</td>\n",
       "      <td>Debit Card</td>\n",
       "    </tr>\n",
       "  </tbody>\n",
       "</table>\n",
       "</div>"
      ],
      "text/plain": [
       "         SaleDate  TicketNo          Outlet  Total  OrderQty Stock_Code  \\\n",
       "40700  2018-08-20     92190      Birmingham    5.0         1     BK0101   \n",
       "40701  2018-08-20     92191      Birmingham    5.0         1     BK0101   \n",
       "40702  2018-08-20     92194        Weymouth    5.0         1     BK0110   \n",
       "40703  2018-08-21     92196  Middlesborough    7.5         1     CP0170   \n",
       "40704  2018-08-21     92202    Peterborough    5.0         1     BK0110   \n",
       "\n",
       "                  Name                                      Description  \\\n",
       "40700  Eggs Florentine                                              NaN   \n",
       "40701  Eggs Florentine                                              NaN   \n",
       "40702   Belgian waffle                                              NaN   \n",
       "40703  Crepe Japonnais  Teriyaky Salmon & Shitake Mushrooms, with salad   \n",
       "40704   Belgian waffle                                              NaN   \n",
       "\n",
       "       Price Product_Group           Group_name     CardType  \n",
       "40700    5.0             B            Breakfast         Avis  \n",
       "40701    5.0             B            Breakfast  Maestercard  \n",
       "40702    5.0             B            Breakfast   Debit Card  \n",
       "40703    7.5             C  Crepes and Galettes         Visa  \n",
       "40704    5.0             B            Breakfast   Debit Card  "
      ]
     },
     "execution_count": 25,
     "metadata": {},
     "output_type": "execute_result"
    }
   ],
   "source": [
    "df.tail()"
   ]
  },
  {
   "cell_type": "code",
   "execution_count": 26,
   "id": "b74d96d5",
   "metadata": {},
   "outputs": [],
   "source": [
    "df.rename(columns={\"Stock_Code\": \"StockCode\", \"Product_Group\": \"ProductGroup\", \"Group_name\":\"GroupName\"}, inplace=True)"
   ]
  },
  {
   "cell_type": "markdown",
   "id": "58f960c0",
   "metadata": {},
   "source": [
    "The dataset can then be imported to SQL database as follows:"
   ]
  },
  {
   "cell_type": "code",
   "execution_count": 27,
   "id": "a36d7eab",
   "metadata": {
    "scrolled": true
   },
   "outputs": [
    {
     "name": "stdout",
     "output_type": "stream",
     "text": [
      "Dataset appended.\n"
     ]
    }
   ],
   "source": [
    "import pyodbc\n",
    "from sqlalchemy import create_engine\n",
    "import urllib\n",
    "\n",
    "SERVER_NAME = 'DESKTOP-GR6T3L7'\n",
    "DATABASE_NAME = 'Galleria'\n",
    "\n",
    "# connection string\n",
    "conn = pyodbc.connect('DRIVER={ODBC Driver 17 for SQL Server}; \\\n",
    "                       SERVER=' + SERVER_NAME + '; \\\n",
    "                       DATABASE=' + DATABASE_NAME + '; \\\n",
    "                       Trusted_Connection=yes')\n",
    "\n",
    "# cursor to extract data\n",
    "cursor = conn.cursor()\n",
    "\n",
    "# Use this to connect for saving data\n",
    "quoted = urllib.parse.quote_plus('DRIVER={ODBC Driver 17 for SQL Server}; \\\n",
    "                       SERVER='+SERVER_NAME+'; \\\n",
    "                       DATABASE='+DATABASE_NAME+'; \\\n",
    "                       Trusted_Connection=yes')\n",
    "\n",
    "# save the dataset into SQL database\n",
    "engine = create_engine('mssql+pyodbc:///?odbc_connect={}'.format(quoted))\n",
    "df.to_sql('initial_dataset', schema='dbo', con=engine, if_exists='replace')\n",
    "\n",
    "# close port\n",
    "cursor.close()\n",
    "conn.close( \n",
    ")\n",
    "print('Dataset appended.')"
   ]
  },
  {
   "cell_type": "markdown",
   "id": "af677c88",
   "metadata": {},
   "source": [
    "Verification with SQL database to ensure schema splitting is correct:"
   ]
  },
  {
   "cell_type": "code",
   "execution_count": 28,
   "id": "3a91b1a4",
   "metadata": {
    "scrolled": true
   },
   "outputs": [
    {
     "data": {
      "text/html": [
       "<div>\n",
       "<style scoped>\n",
       "    .dataframe tbody tr th:only-of-type {\n",
       "        vertical-align: middle;\n",
       "    }\n",
       "\n",
       "    .dataframe tbody tr th {\n",
       "        vertical-align: top;\n",
       "    }\n",
       "\n",
       "    .dataframe thead th {\n",
       "        text-align: right;\n",
       "    }\n",
       "</style>\n",
       "<table border=\"1\" class=\"dataframe\">\n",
       "  <thead>\n",
       "    <tr style=\"text-align: right;\">\n",
       "      <th></th>\n",
       "      <th>SaleDate</th>\n",
       "      <th>TicketNo</th>\n",
       "      <th>Outlet</th>\n",
       "      <th>Total</th>\n",
       "      <th>OrderQty</th>\n",
       "      <th>StockCode</th>\n",
       "      <th>Name</th>\n",
       "      <th>Description</th>\n",
       "      <th>Price</th>\n",
       "      <th>ProductGroup</th>\n",
       "      <th>GroupName</th>\n",
       "      <th>CardType</th>\n",
       "    </tr>\n",
       "  </thead>\n",
       "  <tbody>\n",
       "    <tr>\n",
       "      <th>19</th>\n",
       "      <td>2018-08-22</td>\n",
       "      <td>92257</td>\n",
       "      <td>Poole</td>\n",
       "      <td>7.5</td>\n",
       "      <td>1</td>\n",
       "      <td>CP0125</td>\n",
       "      <td>The Sicilian Crepe</td>\n",
       "      <td>Tuna, black olives, cheddar cheese, spinach an...</td>\n",
       "      <td>7.5</td>\n",
       "      <td>C</td>\n",
       "      <td>Crepes and Galettes</td>\n",
       "      <td>Avis</td>\n",
       "    </tr>\n",
       "  </tbody>\n",
       "</table>\n",
       "</div>"
      ],
      "text/plain": [
       "      SaleDate  TicketNo Outlet  Total  OrderQty StockCode  \\\n",
       "19  2018-08-22     92257  Poole    7.5         1    CP0125   \n",
       "\n",
       "                  Name                                        Description  \\\n",
       "19  The Sicilian Crepe  Tuna, black olives, cheddar cheese, spinach an...   \n",
       "\n",
       "    Price ProductGroup            GroupName CardType  \n",
       "19    7.5            C  Crepes and Galettes     Avis  "
      ]
     },
     "execution_count": 28,
     "metadata": {},
     "output_type": "execute_result"
    }
   ],
   "source": [
    "df[(df['TicketNo'] == 92257)]"
   ]
  },
  {
   "cell_type": "code",
   "execution_count": 29,
   "id": "ce8eb6fd",
   "metadata": {},
   "outputs": [
    {
     "data": {
      "text/html": [
       "<div>\n",
       "<style scoped>\n",
       "    .dataframe tbody tr th:only-of-type {\n",
       "        vertical-align: middle;\n",
       "    }\n",
       "\n",
       "    .dataframe tbody tr th {\n",
       "        vertical-align: top;\n",
       "    }\n",
       "\n",
       "    .dataframe thead th {\n",
       "        text-align: right;\n",
       "    }\n",
       "</style>\n",
       "<table border=\"1\" class=\"dataframe\">\n",
       "  <thead>\n",
       "    <tr style=\"text-align: right;\">\n",
       "      <th></th>\n",
       "      <th>SaleDate</th>\n",
       "      <th>TicketNo</th>\n",
       "      <th>Outlet</th>\n",
       "      <th>Total</th>\n",
       "      <th>OrderQty</th>\n",
       "      <th>StockCode</th>\n",
       "      <th>Name</th>\n",
       "      <th>Description</th>\n",
       "      <th>Price</th>\n",
       "      <th>ProductGroup</th>\n",
       "      <th>GroupName</th>\n",
       "      <th>CardType</th>\n",
       "    </tr>\n",
       "  </thead>\n",
       "  <tbody>\n",
       "    <tr>\n",
       "      <th>2</th>\n",
       "      <td>2018-08-21</td>\n",
       "      <td>92211</td>\n",
       "      <td>Middlesborough</td>\n",
       "      <td>7.5</td>\n",
       "      <td>1</td>\n",
       "      <td>CP0170</td>\n",
       "      <td>Crepe Japonnais</td>\n",
       "      <td>Teriyaky Salmon &amp; Shitake Mushrooms, with salad</td>\n",
       "      <td>7.5</td>\n",
       "      <td>C</td>\n",
       "      <td>Crepes and Galettes</td>\n",
       "      <td>Visa</td>\n",
       "    </tr>\n",
       "  </tbody>\n",
       "</table>\n",
       "</div>"
      ],
      "text/plain": [
       "     SaleDate  TicketNo          Outlet  Total  OrderQty StockCode  \\\n",
       "2  2018-08-21     92211  Middlesborough    7.5         1    CP0170   \n",
       "\n",
       "              Name                                      Description  Price  \\\n",
       "2  Crepe Japonnais  Teriyaky Salmon & Shitake Mushrooms, with salad    7.5   \n",
       "\n",
       "  ProductGroup            GroupName CardType  \n",
       "2            C  Crepes and Galettes     Visa  "
      ]
     },
     "execution_count": 29,
     "metadata": {},
     "output_type": "execute_result"
    }
   ],
   "source": [
    "df[(df['TicketNo'] == 92211)]"
   ]
  },
  {
   "cell_type": "code",
   "execution_count": 30,
   "id": "ff5da235",
   "metadata": {
    "scrolled": true
   },
   "outputs": [
    {
     "data": {
      "text/html": [
       "<div>\n",
       "<style scoped>\n",
       "    .dataframe tbody tr th:only-of-type {\n",
       "        vertical-align: middle;\n",
       "    }\n",
       "\n",
       "    .dataframe tbody tr th {\n",
       "        vertical-align: top;\n",
       "    }\n",
       "\n",
       "    .dataframe thead th {\n",
       "        text-align: right;\n",
       "    }\n",
       "</style>\n",
       "<table border=\"1\" class=\"dataframe\">\n",
       "  <thead>\n",
       "    <tr style=\"text-align: right;\">\n",
       "      <th></th>\n",
       "      <th>SaleDate</th>\n",
       "      <th>TicketNo</th>\n",
       "      <th>Outlet</th>\n",
       "      <th>Total</th>\n",
       "      <th>OrderQty</th>\n",
       "      <th>StockCode</th>\n",
       "      <th>Name</th>\n",
       "      <th>Description</th>\n",
       "      <th>Price</th>\n",
       "      <th>ProductGroup</th>\n",
       "      <th>GroupName</th>\n",
       "      <th>CardType</th>\n",
       "    </tr>\n",
       "  </thead>\n",
       "  <tbody>\n",
       "    <tr>\n",
       "      <th>318</th>\n",
       "      <td>2018-09-01</td>\n",
       "      <td>92785</td>\n",
       "      <td>Poole</td>\n",
       "      <td>10.0</td>\n",
       "      <td>1</td>\n",
       "      <td>PZ0019</td>\n",
       "      <td>MOO-MOO</td>\n",
       "      <td>Tomato base, Mozzarella, chorizo &amp; Gorgonzola</td>\n",
       "      <td>10.0</td>\n",
       "      <td>P</td>\n",
       "      <td>Pizza</td>\n",
       "      <td>Avis</td>\n",
       "    </tr>\n",
       "  </tbody>\n",
       "</table>\n",
       "</div>"
      ],
      "text/plain": [
       "       SaleDate  TicketNo Outlet  Total  OrderQty StockCode     Name  \\\n",
       "318  2018-09-01     92785  Poole   10.0         1    PZ0019  MOO-MOO   \n",
       "\n",
       "                                       Description  Price ProductGroup  \\\n",
       "318  Tomato base, Mozzarella, chorizo & Gorgonzola   10.0            P   \n",
       "\n",
       "    GroupName CardType  \n",
       "318     Pizza     Avis  "
      ]
     },
     "execution_count": 30,
     "metadata": {},
     "output_type": "execute_result"
    }
   ],
   "source": [
    "df[(df['StockCode'] == 'PZ0019') & (df['TicketNo'] == 92785)]"
   ]
  },
  {
   "cell_type": "markdown",
   "id": "25fc473b",
   "metadata": {},
   "source": [
    "### 3. Exploratory data analysis"
   ]
  },
  {
   "cell_type": "markdown",
   "id": "7ea0afce",
   "metadata": {},
   "source": [
    "This section consists of looking at each variable and how they relate to each other and trying to identify relationships and trends as well as looking at the distribution of the data.\n",
    "\n"
   ]
  },
  {
   "cell_type": "code",
   "execution_count": 32,
   "id": "bebed47c",
   "metadata": {},
   "outputs": [],
   "source": [
    "data = pd.read_csv('Cleaned_Galleria.csv')"
   ]
  },
  {
   "cell_type": "code",
   "execution_count": 33,
   "id": "eae5c669",
   "metadata": {},
   "outputs": [
    {
     "data": {
      "text/plain": [
       "Index(['Unnamed: 0', 'SaleDate', 'TicketNo', 'Outlet', 'Total', 'OrderQty',\n",
       "       'Stock_Code', 'Name', 'Description', 'Price', 'Product_Group',\n",
       "       'Group_name', 'CardType'],\n",
       "      dtype='object')"
      ]
     },
     "execution_count": 33,
     "metadata": {},
     "output_type": "execute_result"
    }
   ],
   "source": [
    "data.columns"
   ]
  },
  {
   "cell_type": "code",
   "execution_count": 34,
   "id": "776ff475",
   "metadata": {},
   "outputs": [],
   "source": [
    "del data['Unnamed: 0']"
   ]
  },
  {
   "cell_type": "markdown",
   "id": "ea349f81",
   "metadata": {},
   "source": [
    "#### 3.1 Numerical Data"
   ]
  },
  {
   "cell_type": "code",
   "execution_count": 35,
   "id": "ffb66a80",
   "metadata": {},
   "outputs": [
    {
     "data": {
      "text/html": [
       "<div>\n",
       "<style scoped>\n",
       "    .dataframe tbody tr th:only-of-type {\n",
       "        vertical-align: middle;\n",
       "    }\n",
       "\n",
       "    .dataframe tbody tr th {\n",
       "        vertical-align: top;\n",
       "    }\n",
       "\n",
       "    .dataframe thead th {\n",
       "        text-align: right;\n",
       "    }\n",
       "</style>\n",
       "<table border=\"1\" class=\"dataframe\">\n",
       "  <thead>\n",
       "    <tr style=\"text-align: right;\">\n",
       "      <th></th>\n",
       "      <th>TicketNo</th>\n",
       "      <th>Total</th>\n",
       "      <th>OrderQty</th>\n",
       "      <th>Price</th>\n",
       "    </tr>\n",
       "  </thead>\n",
       "  <tbody>\n",
       "    <tr>\n",
       "      <th>count</th>\n",
       "      <td>40705.000000</td>\n",
       "      <td>40705.000000</td>\n",
       "      <td>40705.000000</td>\n",
       "      <td>40705.000000</td>\n",
       "    </tr>\n",
       "    <tr>\n",
       "      <th>mean</th>\n",
       "      <td>92232.059526</td>\n",
       "      <td>18.237716</td>\n",
       "      <td>2.462769</td>\n",
       "      <td>7.590910</td>\n",
       "    </tr>\n",
       "    <tr>\n",
       "      <th>std</th>\n",
       "      <td>9052.340917</td>\n",
       "      <td>18.114654</td>\n",
       "      <td>2.391667</td>\n",
       "      <td>2.608612</td>\n",
       "    </tr>\n",
       "    <tr>\n",
       "      <th>min</th>\n",
       "      <td>82191.000000</td>\n",
       "      <td>3.000000</td>\n",
       "      <td>1.000000</td>\n",
       "      <td>3.000000</td>\n",
       "    </tr>\n",
       "    <tr>\n",
       "      <th>25%</th>\n",
       "      <td>85270.000000</td>\n",
       "      <td>7.500000</td>\n",
       "      <td>1.000000</td>\n",
       "      <td>5.000000</td>\n",
       "    </tr>\n",
       "    <tr>\n",
       "      <th>50%</th>\n",
       "      <td>88650.000000</td>\n",
       "      <td>10.000000</td>\n",
       "      <td>1.000000</td>\n",
       "      <td>7.500000</td>\n",
       "    </tr>\n",
       "    <tr>\n",
       "      <th>75%</th>\n",
       "      <td>98323.000000</td>\n",
       "      <td>22.500000</td>\n",
       "      <td>3.000000</td>\n",
       "      <td>9.500000</td>\n",
       "    </tr>\n",
       "    <tr>\n",
       "      <th>max</th>\n",
       "      <td>114781.000000</td>\n",
       "      <td>216.000000</td>\n",
       "      <td>32.000000</td>\n",
       "      <td>16.000000</td>\n",
       "    </tr>\n",
       "  </tbody>\n",
       "</table>\n",
       "</div>"
      ],
      "text/plain": [
       "            TicketNo         Total      OrderQty         Price\n",
       "count   40705.000000  40705.000000  40705.000000  40705.000000\n",
       "mean    92232.059526     18.237716      2.462769      7.590910\n",
       "std      9052.340917     18.114654      2.391667      2.608612\n",
       "min     82191.000000      3.000000      1.000000      3.000000\n",
       "25%     85270.000000      7.500000      1.000000      5.000000\n",
       "50%     88650.000000     10.000000      1.000000      7.500000\n",
       "75%     98323.000000     22.500000      3.000000      9.500000\n",
       "max    114781.000000    216.000000     32.000000     16.000000"
      ]
     },
     "execution_count": 35,
     "metadata": {},
     "output_type": "execute_result"
    }
   ],
   "source": [
    "data.describe()"
   ]
  },
  {
   "cell_type": "markdown",
   "id": "849c4e68",
   "metadata": {},
   "source": [
    "Notes:\n",
    "- The most important variable for a business is to maximise profits and by looking at the variable $total$, we can understand how it varies.\n",
    "- The order quantity ranges from 1 to 32 for one ticket but the mean is around 2.5 orders per item.\n",
    "- The mean spent from one ticket is around £18, the minimum is £3 and the maximum is £216, where the £216 could be an anomaly.\n",
    "- The mean price is around £7.50, the minimum is £2.60 and the maximum is £16.00 which which means is roughly the in between the min and max."
   ]
  },
  {
   "cell_type": "code",
   "execution_count": 36,
   "id": "93310dbb",
   "metadata": {},
   "outputs": [
    {
     "data": {
      "image/png": "[encoded data removed]",
      "text/plain": [
       "<Figure size 720x720 with 20 Axes>"
      ]
     },
     "metadata": {
      "needs_background": "light"
     },
     "output_type": "display_data"
    }
   ],
   "source": [
    "sns.pairplot(data)\n",
    "plt.show()"
   ]
  },
  {
   "cell_type": "markdown",
   "id": "33853c4b",
   "metadata": {},
   "source": [
    "Notes:\n",
    "- Order quantity is lower for higher prices and generally a higher order quantity is positively correlated with the total amount spent."
   ]
  },
  {
   "cell_type": "code",
   "execution_count": 37,
   "id": "0269ca9a",
   "metadata": {},
   "outputs": [
    {
     "data": {
      "image/png": "[encoded data removed]",
      "text/plain": [
       "<Figure size 504x288 with 1 Axes>"
      ]
     },
     "metadata": {},
     "output_type": "display_data"
    }
   ],
   "source": [
    "total_correlation = data.corr()['Total'].sort_values(ascending=False)\n",
    "\n",
    "with sns.axes_style(\"white\"):\n",
    "    plt.figure(figsize=(7,4))\n",
    "    total_correlation.plot.bar()\n",
    "    plt.ylabel('Correlation')\n",
    "    plt.title('Total Spent Correlation vs Variables')\n",
    "    plt.show()"
   ]
  },
  {
   "cell_type": "markdown",
   "id": "a22cdddd",
   "metadata": {},
   "source": [
    "#### 3.2 Categorical Data"
   ]
  },
  {
   "cell_type": "code",
   "execution_count": 38,
   "id": "b3947025",
   "metadata": {},
   "outputs": [
    {
     "data": {
      "text/plain": [
       "Index(['SaleDate', 'TicketNo', 'Outlet', 'Total', 'OrderQty', 'Stock_Code',\n",
       "       'Name', 'Description', 'Price', 'Product_Group', 'Group_name',\n",
       "       'CardType'],\n",
       "      dtype='object')"
      ]
     },
     "execution_count": 38,
     "metadata": {},
     "output_type": "execute_result"
    }
   ],
   "source": [
    "data.columns"
   ]
  },
  {
   "cell_type": "code",
   "execution_count": 39,
   "id": "cd80f95e",
   "metadata": {},
   "outputs": [],
   "source": [
    "from datetime import datetime\n",
    "\n",
    "data['SaleDate'] = pd.to_datetime(data['SaleDate'])"
   ]
  },
  {
   "cell_type": "markdown",
   "id": "cfb21375",
   "metadata": {},
   "source": [
    "Looking at how sales vary with month and year"
   ]
  },
  {
   "cell_type": "code",
   "execution_count": 40,
   "id": "e9b24066",
   "metadata": {},
   "outputs": [],
   "source": [
    "data['SaleMonth'] = data['SaleDate'].dt.month"
   ]
  },
  {
   "cell_type": "code",
   "execution_count": 41,
   "id": "7b8a2a7f",
   "metadata": {},
   "outputs": [],
   "source": [
    "import calendar\n",
    "\n",
    "data['SaleMonthAbbr'] = data['SaleMonth'].apply(lambda x: calendar.month_abbr[x])"
   ]
  },
  {
   "cell_type": "code",
   "execution_count": 42,
   "id": "dfd0ab6b",
   "metadata": {},
   "outputs": [
    {
     "data": {
      "text/html": [
       "<div>\n",
       "<style scoped>\n",
       "    .dataframe tbody tr th:only-of-type {\n",
       "        vertical-align: middle;\n",
       "    }\n",
       "\n",
       "    .dataframe tbody tr th {\n",
       "        vertical-align: top;\n",
       "    }\n",
       "\n",
       "    .dataframe thead th {\n",
       "        text-align: right;\n",
       "    }\n",
       "</style>\n",
       "<table border=\"1\" class=\"dataframe\">\n",
       "  <thead>\n",
       "    <tr style=\"text-align: right;\">\n",
       "      <th></th>\n",
       "      <th></th>\n",
       "      <th>Total</th>\n",
       "      <th>OrderQty</th>\n",
       "    </tr>\n",
       "    <tr>\n",
       "      <th>SaleMonth</th>\n",
       "      <th>SaleMonthAbbr</th>\n",
       "      <th></th>\n",
       "      <th></th>\n",
       "    </tr>\n",
       "  </thead>\n",
       "  <tbody>\n",
       "    <tr>\n",
       "      <th>1</th>\n",
       "      <th>Jan</th>\n",
       "      <td>14.596248</td>\n",
       "      <td>2.000816</td>\n",
       "    </tr>\n",
       "    <tr>\n",
       "      <th>2</th>\n",
       "      <th>Feb</th>\n",
       "      <td>16.225779</td>\n",
       "      <td>2.203875</td>\n",
       "    </tr>\n",
       "    <tr>\n",
       "      <th>3</th>\n",
       "      <th>Mar</th>\n",
       "      <td>15.485018</td>\n",
       "      <td>2.091867</td>\n",
       "    </tr>\n",
       "    <tr>\n",
       "      <th>4</th>\n",
       "      <th>Apr</th>\n",
       "      <td>17.136807</td>\n",
       "      <td>2.353277</td>\n",
       "    </tr>\n",
       "    <tr>\n",
       "      <th>5</th>\n",
       "      <th>May</th>\n",
       "      <td>17.841837</td>\n",
       "      <td>2.401743</td>\n",
       "    </tr>\n",
       "    <tr>\n",
       "      <th>6</th>\n",
       "      <th>Jun</th>\n",
       "      <td>16.987483</td>\n",
       "      <td>2.284503</td>\n",
       "    </tr>\n",
       "    <tr>\n",
       "      <th>7</th>\n",
       "      <th>Jul</th>\n",
       "      <td>21.092904</td>\n",
       "      <td>2.870885</td>\n",
       "    </tr>\n",
       "    <tr>\n",
       "      <th>8</th>\n",
       "      <th>Aug</th>\n",
       "      <td>21.282662</td>\n",
       "      <td>2.864440</td>\n",
       "    </tr>\n",
       "    <tr>\n",
       "      <th>9</th>\n",
       "      <th>Sep</th>\n",
       "      <td>21.804009</td>\n",
       "      <td>2.890772</td>\n",
       "    </tr>\n",
       "    <tr>\n",
       "      <th>10</th>\n",
       "      <th>Oct</th>\n",
       "      <td>17.717975</td>\n",
       "      <td>2.444650</td>\n",
       "    </tr>\n",
       "    <tr>\n",
       "      <th>11</th>\n",
       "      <th>Nov</th>\n",
       "      <td>19.287005</td>\n",
       "      <td>2.593820</td>\n",
       "    </tr>\n",
       "    <tr>\n",
       "      <th>12</th>\n",
       "      <th>Dec</th>\n",
       "      <td>18.069911</td>\n",
       "      <td>2.409788</td>\n",
       "    </tr>\n",
       "  </tbody>\n",
       "</table>\n",
       "</div>"
      ],
      "text/plain": [
       "                             Total  OrderQty\n",
       "SaleMonth SaleMonthAbbr                     \n",
       "1         Jan            14.596248  2.000816\n",
       "2         Feb            16.225779  2.203875\n",
       "3         Mar            15.485018  2.091867\n",
       "4         Apr            17.136807  2.353277\n",
       "5         May            17.841837  2.401743\n",
       "6         Jun            16.987483  2.284503\n",
       "7         Jul            21.092904  2.870885\n",
       "8         Aug            21.282662  2.864440\n",
       "9         Sep            21.804009  2.890772\n",
       "10        Oct            17.717975  2.444650\n",
       "11        Nov            19.287005  2.593820\n",
       "12        Dec            18.069911  2.409788"
      ]
     },
     "execution_count": 42,
     "metadata": {},
     "output_type": "execute_result"
    }
   ],
   "source": [
    "by_month = data.groupby(['SaleMonth', 'SaleMonthAbbr']).agg({'Total': 'mean', 'OrderQty':'mean'})\n",
    "by_month"
   ]
  },
  {
   "cell_type": "code",
   "execution_count": 43,
   "id": "566a9ea4",
   "metadata": {},
   "outputs": [
    {
     "data": {
      "text/plain": [
       "<AxesSubplot:xlabel='SaleMonthAbbr', ylabel='Total'>"
      ]
     },
     "execution_count": 43,
     "metadata": {},
     "output_type": "execute_result"
    },
    {
     "data": {
      "image/png": "[encoded data removed]",
      "text/plain": [
       "<Figure size 432x288 with 1 Axes>"
      ]
     },
     "metadata": {
      "needs_background": "light"
     },
     "output_type": "display_data"
    }
   ],
   "source": [
    "sns.scatterplot(x='SaleMonthAbbr', y='Total', data=by_month)"
   ]
  },
  {
   "cell_type": "markdown",
   "id": "9446849d",
   "metadata": {},
   "source": [
    "- Sales usually increase throughout the year but more significantly during the summer."
   ]
  },
  {
   "cell_type": "code",
   "execution_count": 44,
   "id": "c6c145d2",
   "metadata": {},
   "outputs": [],
   "source": [
    "data['SaleYear'] = data['SaleDate'].dt.year"
   ]
  },
  {
   "cell_type": "code",
   "execution_count": 45,
   "id": "3d89aa3b",
   "metadata": {},
   "outputs": [
    {
     "data": {
      "text/html": [
       "<div>\n",
       "<style scoped>\n",
       "    .dataframe tbody tr th:only-of-type {\n",
       "        vertical-align: middle;\n",
       "    }\n",
       "\n",
       "    .dataframe tbody tr th {\n",
       "        vertical-align: top;\n",
       "    }\n",
       "\n",
       "    .dataframe thead th {\n",
       "        text-align: right;\n",
       "    }\n",
       "</style>\n",
       "<table border=\"1\" class=\"dataframe\">\n",
       "  <thead>\n",
       "    <tr style=\"text-align: right;\">\n",
       "      <th></th>\n",
       "      <th>Total</th>\n",
       "      <th>OrderQty</th>\n",
       "    </tr>\n",
       "    <tr>\n",
       "      <th>SaleYear</th>\n",
       "      <th></th>\n",
       "      <th></th>\n",
       "    </tr>\n",
       "  </thead>\n",
       "  <tbody>\n",
       "    <tr>\n",
       "      <th>2016</th>\n",
       "      <td>16.814440</td>\n",
       "      <td>2.300020</td>\n",
       "    </tr>\n",
       "    <tr>\n",
       "      <th>2017</th>\n",
       "      <td>20.976292</td>\n",
       "      <td>2.860546</td>\n",
       "    </tr>\n",
       "    <tr>\n",
       "      <th>2018</th>\n",
       "      <td>19.200004</td>\n",
       "      <td>2.581745</td>\n",
       "    </tr>\n",
       "    <tr>\n",
       "      <th>2019</th>\n",
       "      <td>13.409238</td>\n",
       "      <td>1.770092</td>\n",
       "    </tr>\n",
       "  </tbody>\n",
       "</table>\n",
       "</div>"
      ],
      "text/plain": [
       "              Total  OrderQty\n",
       "SaleYear                     \n",
       "2016      16.814440  2.300020\n",
       "2017      20.976292  2.860546\n",
       "2018      19.200004  2.581745\n",
       "2019      13.409238  1.770092"
      ]
     },
     "execution_count": 45,
     "metadata": {},
     "output_type": "execute_result"
    }
   ],
   "source": [
    "by_year = data.groupby('SaleYear').agg({'Total': 'mean', 'OrderQty':'mean'})\n",
    "by_year"
   ]
  },
  {
   "cell_type": "code",
   "execution_count": 46,
   "id": "b5ae0973",
   "metadata": {},
   "outputs": [
    {
     "data": {
      "text/plain": [
       "<AxesSubplot:xlabel='SaleYear', ylabel='Total'>"
      ]
     },
     "execution_count": 46,
     "metadata": {},
     "output_type": "execute_result"
    },
    {
     "data": {
      "image/png": "[encoded data removed]",
      "text/plain": [
       "<Figure size 432x288 with 1 Axes>"
      ]
     },
     "metadata": {
      "needs_background": "light"
     },
     "output_type": "display_data"
    }
   ],
   "source": [
    "sns.scatterplot(x='SaleYear', y='Total', data=by_year)"
   ]
  },
  {
   "cell_type": "markdown",
   "id": "b5b8ef70",
   "metadata": {},
   "source": [
    "- Sales started to decrease after 2017."
   ]
  },
  {
   "cell_type": "markdown",
   "id": "76ebbe32",
   "metadata": {},
   "source": [
    "Looking at how sales vary with location"
   ]
  },
  {
   "cell_type": "code",
   "execution_count": 47,
   "id": "4691a9ab",
   "metadata": {},
   "outputs": [
    {
     "data": {
      "text/html": [
       "<div>\n",
       "<style scoped>\n",
       "    .dataframe tbody tr th:only-of-type {\n",
       "        vertical-align: middle;\n",
       "    }\n",
       "\n",
       "    .dataframe tbody tr th {\n",
       "        vertical-align: top;\n",
       "    }\n",
       "\n",
       "    .dataframe thead th {\n",
       "        text-align: right;\n",
       "    }\n",
       "</style>\n",
       "<table border=\"1\" class=\"dataframe\">\n",
       "  <thead>\n",
       "    <tr style=\"text-align: right;\">\n",
       "      <th></th>\n",
       "      <th>Outlet</th>\n",
       "      <th>Total</th>\n",
       "      <th>OrderQty</th>\n",
       "    </tr>\n",
       "  </thead>\n",
       "  <tbody>\n",
       "    <tr>\n",
       "      <th>4</th>\n",
       "      <td>London</td>\n",
       "      <td>23.179106</td>\n",
       "      <td>3.148175</td>\n",
       "    </tr>\n",
       "    <tr>\n",
       "      <th>9</th>\n",
       "      <td>Worthing</td>\n",
       "      <td>22.743359</td>\n",
       "      <td>3.156114</td>\n",
       "    </tr>\n",
       "    <tr>\n",
       "      <th>1</th>\n",
       "      <td>Cardiff</td>\n",
       "      <td>21.952769</td>\n",
       "      <td>3.025335</td>\n",
       "    </tr>\n",
       "    <tr>\n",
       "      <th>2</th>\n",
       "      <td>Edinburgh</td>\n",
       "      <td>21.201490</td>\n",
       "      <td>2.896703</td>\n",
       "    </tr>\n",
       "    <tr>\n",
       "      <th>5</th>\n",
       "      <td>Middlesborough</td>\n",
       "      <td>18.801459</td>\n",
       "      <td>2.559357</td>\n",
       "    </tr>\n",
       "    <tr>\n",
       "      <th>0</th>\n",
       "      <td>Birmingham</td>\n",
       "      <td>18.801087</td>\n",
       "      <td>2.420227</td>\n",
       "    </tr>\n",
       "    <tr>\n",
       "      <th>7</th>\n",
       "      <td>Poole</td>\n",
       "      <td>16.694711</td>\n",
       "      <td>2.253094</td>\n",
       "    </tr>\n",
       "    <tr>\n",
       "      <th>3</th>\n",
       "      <td>Ipswich</td>\n",
       "      <td>14.910027</td>\n",
       "      <td>1.968265</td>\n",
       "    </tr>\n",
       "    <tr>\n",
       "      <th>8</th>\n",
       "      <td>Weymouth</td>\n",
       "      <td>11.464674</td>\n",
       "      <td>1.601449</td>\n",
       "    </tr>\n",
       "    <tr>\n",
       "      <th>6</th>\n",
       "      <td>Peterborough</td>\n",
       "      <td>8.971286</td>\n",
       "      <td>1.161548</td>\n",
       "    </tr>\n",
       "  </tbody>\n",
       "</table>\n",
       "</div>"
      ],
      "text/plain": [
       "           Outlet      Total  OrderQty\n",
       "4          London  23.179106  3.148175\n",
       "9        Worthing  22.743359  3.156114\n",
       "1         Cardiff  21.952769  3.025335\n",
       "2       Edinburgh  21.201490  2.896703\n",
       "5  Middlesborough  18.801459  2.559357\n",
       "0      Birmingham  18.801087  2.420227\n",
       "7           Poole  16.694711  2.253094\n",
       "3         Ipswich  14.910027  1.968265\n",
       "8        Weymouth  11.464674  1.601449\n",
       "6    Peterborough   8.971286  1.161548"
      ]
     },
     "execution_count": 47,
     "metadata": {},
     "output_type": "execute_result"
    }
   ],
   "source": [
    "by_location = data.groupby('Outlet').agg({'Total': 'mean', 'OrderQty':'mean'}).reset_index().sort_values('Total', ascending=False)\n",
    "by_location"
   ]
  },
  {
   "cell_type": "code",
   "execution_count": 48,
   "id": "d56d453a",
   "metadata": {},
   "outputs": [
    {
     "data": {
      "image/png": "[encoded data removed]",
      "text/plain": [
       "<Figure size 864x576 with 1 Axes>"
      ]
     },
     "metadata": {
      "needs_background": "light"
     },
     "output_type": "display_data"
    }
   ],
   "source": [
    "plt.figure(figsize=(12,8))\n",
    "sns.barplot(x='Outlet', y='Total', data=by_location)\n",
    "plt.xticks(rotation=45)\n",
    "plt.show()"
   ]
  },
  {
   "cell_type": "markdown",
   "id": "56df298e",
   "metadata": {},
   "source": [
    "Looking at how sales vary with food category"
   ]
  },
  {
   "cell_type": "code",
   "execution_count": 49,
   "id": "869dc46f",
   "metadata": {},
   "outputs": [
    {
     "data": {
      "text/html": [
       "<div>\n",
       "<style scoped>\n",
       "    .dataframe tbody tr th:only-of-type {\n",
       "        vertical-align: middle;\n",
       "    }\n",
       "\n",
       "    .dataframe tbody tr th {\n",
       "        vertical-align: top;\n",
       "    }\n",
       "\n",
       "    .dataframe thead th {\n",
       "        text-align: right;\n",
       "    }\n",
       "</style>\n",
       "<table border=\"1\" class=\"dataframe\">\n",
       "  <thead>\n",
       "    <tr style=\"text-align: right;\">\n",
       "      <th></th>\n",
       "      <th>Group_name</th>\n",
       "      <th>Total</th>\n",
       "      <th>OrderQty</th>\n",
       "    </tr>\n",
       "  </thead>\n",
       "  <tbody>\n",
       "    <tr>\n",
       "      <th>8</th>\n",
       "      <td>Starters/Appetisers</td>\n",
       "      <td>31.323877</td>\n",
       "      <td>2.591017</td>\n",
       "    </tr>\n",
       "    <tr>\n",
       "      <th>4</th>\n",
       "      <td>Fish &amp; Seafood</td>\n",
       "      <td>26.211165</td>\n",
       "      <td>1.849515</td>\n",
       "    </tr>\n",
       "    <tr>\n",
       "      <th>1</th>\n",
       "      <td>Crepes and Galettes</td>\n",
       "      <td>22.279510</td>\n",
       "      <td>2.811535</td>\n",
       "    </tr>\n",
       "    <tr>\n",
       "      <th>5</th>\n",
       "      <td>Pizza</td>\n",
       "      <td>21.965373</td>\n",
       "      <td>2.306699</td>\n",
       "    </tr>\n",
       "    <tr>\n",
       "      <th>6</th>\n",
       "      <td>Salads</td>\n",
       "      <td>21.357386</td>\n",
       "      <td>2.439773</td>\n",
       "    </tr>\n",
       "    <tr>\n",
       "      <th>2</th>\n",
       "      <td>Desserts</td>\n",
       "      <td>15.740754</td>\n",
       "      <td>1.856191</td>\n",
       "    </tr>\n",
       "    <tr>\n",
       "      <th>0</th>\n",
       "      <td>Breakfast</td>\n",
       "      <td>12.261673</td>\n",
       "      <td>2.326537</td>\n",
       "    </tr>\n",
       "    <tr>\n",
       "      <th>7</th>\n",
       "      <td>Side Dishes</td>\n",
       "      <td>11.924409</td>\n",
       "      <td>2.981102</td>\n",
       "    </tr>\n",
       "    <tr>\n",
       "      <th>3</th>\n",
       "      <td>Drinks &amp; Beverages</td>\n",
       "      <td>10.997214</td>\n",
       "      <td>2.770734</td>\n",
       "    </tr>\n",
       "  </tbody>\n",
       "</table>\n",
       "</div>"
      ],
      "text/plain": [
       "            Group_name      Total  OrderQty\n",
       "8  Starters/Appetisers  31.323877  2.591017\n",
       "4       Fish & Seafood  26.211165  1.849515\n",
       "1  Crepes and Galettes  22.279510  2.811535\n",
       "5                Pizza  21.965373  2.306699\n",
       "6               Salads  21.357386  2.439773\n",
       "2             Desserts  15.740754  1.856191\n",
       "0            Breakfast  12.261673  2.326537\n",
       "7          Side Dishes  11.924409  2.981102\n",
       "3   Drinks & Beverages  10.997214  2.770734"
      ]
     },
     "execution_count": 49,
     "metadata": {},
     "output_type": "execute_result"
    }
   ],
   "source": [
    "by_product = data.groupby('Group_name').agg({'Total': 'mean', 'OrderQty':'mean'}).reset_index().sort_values('Total', ascending=False)\n",
    "by_product"
   ]
  },
  {
   "cell_type": "code",
   "execution_count": 50,
   "id": "8150e024",
   "metadata": {},
   "outputs": [
    {
     "data": {
      "image/png": "[encoded data removed]",
      "text/plain": [
       "<Figure size 864x576 with 1 Axes>"
      ]
     },
     "metadata": {
      "needs_background": "light"
     },
     "output_type": "display_data"
    }
   ],
   "source": [
    "plt.figure(figsize=(12,8))\n",
    "sns.barplot(x='Group_name', y='Total', data=by_product)\n",
    "plt.xticks(rotation=45)\n",
    "plt.show()"
   ]
  },
  {
   "cell_type": "markdown",
   "id": "e510abe8",
   "metadata": {},
   "source": [
    "This section provided a brief look into the data and how the total sales is affected by other variables."
   ]
  },
  {
   "cell_type": "markdown",
   "id": "0b03c6d0",
   "metadata": {},
   "source": [
    "#### 3.3 Report Analysis Requirement"
   ]
  },
  {
   "cell_type": "markdown",
   "id": "ca132b6b",
   "metadata": {},
   "source": [
    "A) Most popular menu items and those which produce the most revenue"
   ]
  },
  {
   "cell_type": "code",
   "execution_count": 51,
   "id": "1c2b0999",
   "metadata": {},
   "outputs": [
    {
     "data": {
      "text/plain": [
       "Index(['SaleDate', 'TicketNo', 'Outlet', 'Total', 'OrderQty', 'StockCode',\n",
       "       'Name', 'Description', 'Price', 'ProductGroup', 'GroupName', 'CardType',\n",
       "       'OutletID', 'CardTypeID', 'ProductID', 'NameID'],\n",
       "      dtype='object')"
      ]
     },
     "execution_count": 51,
     "metadata": {},
     "output_type": "execute_result"
    }
   ],
   "source": [
    "df.columns"
   ]
  },
  {
   "cell_type": "markdown",
   "id": "e394304b",
   "metadata": {},
   "source": [
    "Most popular items:"
   ]
  },
  {
   "cell_type": "code",
   "execution_count": 52,
   "id": "49ad68a7",
   "metadata": {},
   "outputs": [
    {
     "data": {
      "text/html": [
       "<div>\n",
       "<style scoped>\n",
       "    .dataframe tbody tr th:only-of-type {\n",
       "        vertical-align: middle;\n",
       "    }\n",
       "\n",
       "    .dataframe tbody tr th {\n",
       "        vertical-align: top;\n",
       "    }\n",
       "\n",
       "    .dataframe thead th {\n",
       "        text-align: right;\n",
       "    }\n",
       "</style>\n",
       "<table border=\"1\" class=\"dataframe\">\n",
       "  <thead>\n",
       "    <tr style=\"text-align: right;\">\n",
       "      <th></th>\n",
       "      <th></th>\n",
       "      <th>OrderQty</th>\n",
       "      <th>Total</th>\n",
       "    </tr>\n",
       "    <tr>\n",
       "      <th>Name</th>\n",
       "      <th>StockCode</th>\n",
       "      <th></th>\n",
       "      <th></th>\n",
       "    </tr>\n",
       "  </thead>\n",
       "  <tbody>\n",
       "    <tr>\n",
       "      <th>Crepe Japonnais</th>\n",
       "      <th>CP0170</th>\n",
       "      <td>8212</td>\n",
       "      <td>61590.0</td>\n",
       "    </tr>\n",
       "    <tr>\n",
       "      <th>Belgian waffle</th>\n",
       "      <th>BK0110</th>\n",
       "      <td>6636</td>\n",
       "      <td>33180.0</td>\n",
       "    </tr>\n",
       "    <tr>\n",
       "      <th>Tartiflette Galette</th>\n",
       "      <th>CP0137</th>\n",
       "      <td>6548</td>\n",
       "      <td>44199.0</td>\n",
       "    </tr>\n",
       "    <tr>\n",
       "      <th>Eggs Florentine</th>\n",
       "      <th>BK0101</th>\n",
       "      <td>6434</td>\n",
       "      <td>32170.0</td>\n",
       "    </tr>\n",
       "    <tr>\n",
       "      <th>Italian crepe</th>\n",
       "      <th>CP0134</th>\n",
       "      <td>3603</td>\n",
       "      <td>27022.5</td>\n",
       "    </tr>\n",
       "    <tr>\n",
       "      <th>Chicken and Vegetable crepe</th>\n",
       "      <th>CP0256</th>\n",
       "      <td>2958</td>\n",
       "      <td>19227.0</td>\n",
       "    </tr>\n",
       "    <tr>\n",
       "      <th>POPAY</th>\n",
       "      <th>PZ0008</th>\n",
       "      <td>2947</td>\n",
       "      <td>27996.5</td>\n",
       "    </tr>\n",
       "    <tr>\n",
       "      <th>CALZONE</th>\n",
       "      <th>PZ0009</th>\n",
       "      <td>2623</td>\n",
       "      <td>26230.0</td>\n",
       "    </tr>\n",
       "    <tr>\n",
       "      <th>CAPRICCIOSA</th>\n",
       "      <th>PZ0005</th>\n",
       "      <td>2361</td>\n",
       "      <td>22429.5</td>\n",
       "    </tr>\n",
       "    <tr>\n",
       "      <th>juices / Orangina</th>\n",
       "      <th>DAB009</th>\n",
       "      <td>2264</td>\n",
       "      <td>6792.0</td>\n",
       "    </tr>\n",
       "  </tbody>\n",
       "</table>\n",
       "</div>"
      ],
      "text/plain": [
       "                                       OrderQty    Total\n",
       "Name                        StockCode                   \n",
       "Crepe Japonnais             CP0170         8212  61590.0\n",
       "Belgian waffle              BK0110         6636  33180.0\n",
       "Tartiflette Galette         CP0137         6548  44199.0\n",
       "Eggs Florentine             BK0101         6434  32170.0\n",
       "Italian crepe               CP0134         3603  27022.5\n",
       "Chicken and Vegetable crepe CP0256         2958  19227.0\n",
       "POPAY                       PZ0008         2947  27996.5\n",
       "CALZONE                     PZ0009         2623  26230.0\n",
       "CAPRICCIOSA                 PZ0005         2361  22429.5\n",
       "juices / Orangina           DAB009         2264   6792.0"
      ]
     },
     "execution_count": 52,
     "metadata": {},
     "output_type": "execute_result"
    }
   ],
   "source": [
    "df.groupby(['Name', 'StockCode']).agg({'OrderQty':'sum', 'Total':'sum'}).sort_values('OrderQty', ascending=False).head(10)"
   ]
  },
  {
   "cell_type": "markdown",
   "id": "bacc25ae",
   "metadata": {},
   "source": [
    "Items with most revenue:"
   ]
  },
  {
   "cell_type": "code",
   "execution_count": 53,
   "id": "42ee8bd2",
   "metadata": {},
   "outputs": [
    {
     "data": {
      "text/html": [
       "<div>\n",
       "<style scoped>\n",
       "    .dataframe tbody tr th:only-of-type {\n",
       "        vertical-align: middle;\n",
       "    }\n",
       "\n",
       "    .dataframe tbody tr th {\n",
       "        vertical-align: top;\n",
       "    }\n",
       "\n",
       "    .dataframe thead th {\n",
       "        text-align: right;\n",
       "    }\n",
       "</style>\n",
       "<table border=\"1\" class=\"dataframe\">\n",
       "  <thead>\n",
       "    <tr style=\"text-align: right;\">\n",
       "      <th></th>\n",
       "      <th></th>\n",
       "      <th>OrderQty</th>\n",
       "      <th>Total</th>\n",
       "      <th>Price</th>\n",
       "    </tr>\n",
       "    <tr>\n",
       "      <th>Name</th>\n",
       "      <th>StockCode</th>\n",
       "      <th></th>\n",
       "      <th></th>\n",
       "      <th></th>\n",
       "    </tr>\n",
       "  </thead>\n",
       "  <tbody>\n",
       "    <tr>\n",
       "      <th>Crepe Japonnais</th>\n",
       "      <th>CP0170</th>\n",
       "      <td>8212</td>\n",
       "      <td>61590.0</td>\n",
       "      <td>7.50</td>\n",
       "    </tr>\n",
       "    <tr>\n",
       "      <th>Tartiflette Galette</th>\n",
       "      <th>CP0137</th>\n",
       "      <td>6548</td>\n",
       "      <td>44199.0</td>\n",
       "      <td>6.75</td>\n",
       "    </tr>\n",
       "    <tr>\n",
       "      <th>Belgian waffle</th>\n",
       "      <th>BK0110</th>\n",
       "      <td>6636</td>\n",
       "      <td>33180.0</td>\n",
       "      <td>5.00</td>\n",
       "    </tr>\n",
       "    <tr>\n",
       "      <th>Eggs Florentine</th>\n",
       "      <th>BK0101</th>\n",
       "      <td>6434</td>\n",
       "      <td>32170.0</td>\n",
       "      <td>5.00</td>\n",
       "    </tr>\n",
       "    <tr>\n",
       "      <th>POPAY</th>\n",
       "      <th>PZ0008</th>\n",
       "      <td>2947</td>\n",
       "      <td>27996.5</td>\n",
       "      <td>9.50</td>\n",
       "    </tr>\n",
       "    <tr>\n",
       "      <th>Italian crepe</th>\n",
       "      <th>CP0134</th>\n",
       "      <td>3603</td>\n",
       "      <td>27022.5</td>\n",
       "      <td>7.50</td>\n",
       "    </tr>\n",
       "    <tr>\n",
       "      <th>CALZONE</th>\n",
       "      <th>PZ0009</th>\n",
       "      <td>2623</td>\n",
       "      <td>26230.0</td>\n",
       "      <td>10.00</td>\n",
       "    </tr>\n",
       "    <tr>\n",
       "      <th>CAPRICCIOSA</th>\n",
       "      <th>PZ0005</th>\n",
       "      <td>2361</td>\n",
       "      <td>22429.5</td>\n",
       "      <td>9.50</td>\n",
       "    </tr>\n",
       "    <tr>\n",
       "      <th>MARCO'S</th>\n",
       "      <th>PZ0006</th>\n",
       "      <td>2205</td>\n",
       "      <td>20947.5</td>\n",
       "      <td>9.50</td>\n",
       "    </tr>\n",
       "    <tr>\n",
       "      <th>MEDITERRANEA</th>\n",
       "      <th>PZ0007</th>\n",
       "      <td>2183</td>\n",
       "      <td>20738.5</td>\n",
       "      <td>9.50</td>\n",
       "    </tr>\n",
       "  </tbody>\n",
       "</table>\n",
       "</div>"
      ],
      "text/plain": [
       "                               OrderQty    Total  Price\n",
       "Name                StockCode                          \n",
       "Crepe Japonnais     CP0170         8212  61590.0   7.50\n",
       "Tartiflette Galette CP0137         6548  44199.0   6.75\n",
       "Belgian waffle      BK0110         6636  33180.0   5.00\n",
       "Eggs Florentine     BK0101         6434  32170.0   5.00\n",
       "POPAY               PZ0008         2947  27996.5   9.50\n",
       "Italian crepe       CP0134         3603  27022.5   7.50\n",
       "CALZONE             PZ0009         2623  26230.0  10.00\n",
       "CAPRICCIOSA         PZ0005         2361  22429.5   9.50\n",
       "MARCO'S             PZ0006         2205  20947.5   9.50\n",
       "MEDITERRANEA        PZ0007         2183  20738.5   9.50"
      ]
     },
     "execution_count": 53,
     "metadata": {},
     "output_type": "execute_result"
    }
   ],
   "source": [
    "df.groupby(['Name', 'StockCode']).agg({'OrderQty':'sum', 'Total':'sum', 'Price':'mean'}).sort_values('Total', ascending=False).head(10)"
   ]
  },
  {
   "cell_type": "markdown",
   "id": "6cda6270",
   "metadata": {},
   "source": [
    "B) Most popular product groups and those which provide the most revenue"
   ]
  },
  {
   "cell_type": "markdown",
   "id": "f3542c80",
   "metadata": {},
   "source": [
    "Most popular product groups:"
   ]
  },
  {
   "cell_type": "code",
   "execution_count": 54,
   "id": "11ec3cc2",
   "metadata": {},
   "outputs": [
    {
     "data": {
      "text/html": [
       "<div>\n",
       "<style scoped>\n",
       "    .dataframe tbody tr th:only-of-type {\n",
       "        vertical-align: middle;\n",
       "    }\n",
       "\n",
       "    .dataframe tbody tr th {\n",
       "        vertical-align: top;\n",
       "    }\n",
       "\n",
       "    .dataframe thead th {\n",
       "        text-align: right;\n",
       "    }\n",
       "</style>\n",
       "<table border=\"1\" class=\"dataframe\">\n",
       "  <thead>\n",
       "    <tr style=\"text-align: right;\">\n",
       "      <th></th>\n",
       "      <th></th>\n",
       "      <th>OrderQty</th>\n",
       "      <th>Total</th>\n",
       "    </tr>\n",
       "    <tr>\n",
       "      <th>ProductGroup</th>\n",
       "      <th>GroupName</th>\n",
       "      <th></th>\n",
       "      <th></th>\n",
       "    </tr>\n",
       "  </thead>\n",
       "  <tbody>\n",
       "    <tr>\n",
       "      <th>C</th>\n",
       "      <th>Crepes and Galettes</th>\n",
       "      <td>28225</td>\n",
       "      <td>223664.00</td>\n",
       "    </tr>\n",
       "    <tr>\n",
       "      <th>P</th>\n",
       "      <th>Pizza</th>\n",
       "      <td>27512</td>\n",
       "      <td>261981.00</td>\n",
       "    </tr>\n",
       "    <tr>\n",
       "      <th>B</th>\n",
       "      <th>Breakfast</th>\n",
       "      <td>15746</td>\n",
       "      <td>82987.00</td>\n",
       "    </tr>\n",
       "    <tr>\n",
       "      <th>G</th>\n",
       "      <th>Drinks &amp; Beverages</th>\n",
       "      <td>15167</td>\n",
       "      <td>60198.75</td>\n",
       "    </tr>\n",
       "    <tr>\n",
       "      <th>D</th>\n",
       "      <th>Desserts</th>\n",
       "      <td>8080</td>\n",
       "      <td>68519.50</td>\n",
       "    </tr>\n",
       "    <tr>\n",
       "      <th>S</th>\n",
       "      <th>Salads</th>\n",
       "      <td>2147</td>\n",
       "      <td>18794.50</td>\n",
       "    </tr>\n",
       "    <tr>\n",
       "      <th>K</th>\n",
       "      <th>Side Dishes</th>\n",
       "      <td>1893</td>\n",
       "      <td>7572.00</td>\n",
       "    </tr>\n",
       "    <tr>\n",
       "      <th>A</th>\n",
       "      <th>Starters/Appetisers</th>\n",
       "      <td>1096</td>\n",
       "      <td>13250.00</td>\n",
       "    </tr>\n",
       "    <tr>\n",
       "      <th>F</th>\n",
       "      <th>Fish &amp; Seafood</th>\n",
       "      <td>381</td>\n",
       "      <td>5399.50</td>\n",
       "    </tr>\n",
       "  </tbody>\n",
       "</table>\n",
       "</div>"
      ],
      "text/plain": [
       "                                  OrderQty      Total\n",
       "ProductGroup GroupName                               \n",
       "C            Crepes and Galettes     28225  223664.00\n",
       "P            Pizza                   27512  261981.00\n",
       "B            Breakfast               15746   82987.00\n",
       "G            Drinks & Beverages      15167   60198.75\n",
       "D            Desserts                 8080   68519.50\n",
       "S            Salads                   2147   18794.50\n",
       "K            Side Dishes              1893    7572.00\n",
       "A            Starters/Appetisers      1096   13250.00\n",
       "F            Fish & Seafood            381    5399.50"
      ]
     },
     "execution_count": 54,
     "metadata": {},
     "output_type": "execute_result"
    }
   ],
   "source": [
    "df.groupby(['ProductGroup', 'GroupName']).agg({'OrderQty':'sum', 'Total':'sum'}).sort_values('OrderQty', ascending=False).head(10)"
   ]
  },
  {
   "cell_type": "markdown",
   "id": "46603743",
   "metadata": {},
   "source": [
    "Product group which provides the most revenue:"
   ]
  },
  {
   "cell_type": "code",
   "execution_count": 55,
   "id": "decd7bf6",
   "metadata": {},
   "outputs": [
    {
     "data": {
      "text/html": [
       "<div>\n",
       "<style scoped>\n",
       "    .dataframe tbody tr th:only-of-type {\n",
       "        vertical-align: middle;\n",
       "    }\n",
       "\n",
       "    .dataframe tbody tr th {\n",
       "        vertical-align: top;\n",
       "    }\n",
       "\n",
       "    .dataframe thead th {\n",
       "        text-align: right;\n",
       "    }\n",
       "</style>\n",
       "<table border=\"1\" class=\"dataframe\">\n",
       "  <thead>\n",
       "    <tr style=\"text-align: right;\">\n",
       "      <th></th>\n",
       "      <th></th>\n",
       "      <th>OrderQty</th>\n",
       "      <th>Total</th>\n",
       "      <th>Price</th>\n",
       "    </tr>\n",
       "    <tr>\n",
       "      <th>ProductGroup</th>\n",
       "      <th>GroupName</th>\n",
       "      <th></th>\n",
       "      <th></th>\n",
       "      <th></th>\n",
       "    </tr>\n",
       "  </thead>\n",
       "  <tbody>\n",
       "    <tr>\n",
       "      <th>P</th>\n",
       "      <th>Pizza</th>\n",
       "      <td>27512</td>\n",
       "      <td>261981.00</td>\n",
       "      <td>9.558607</td>\n",
       "    </tr>\n",
       "    <tr>\n",
       "      <th>C</th>\n",
       "      <th>Crepes and Galettes</th>\n",
       "      <td>28225</td>\n",
       "      <td>223664.00</td>\n",
       "      <td>8.124639</td>\n",
       "    </tr>\n",
       "    <tr>\n",
       "      <th>B</th>\n",
       "      <th>Breakfast</th>\n",
       "      <td>15746</td>\n",
       "      <td>82987.00</td>\n",
       "      <td>5.259752</td>\n",
       "    </tr>\n",
       "    <tr>\n",
       "      <th>D</th>\n",
       "      <th>Desserts</th>\n",
       "      <td>8080</td>\n",
       "      <td>68519.50</td>\n",
       "      <td>8.662991</td>\n",
       "    </tr>\n",
       "    <tr>\n",
       "      <th>G</th>\n",
       "      <th>Drinks &amp; Beverages</th>\n",
       "      <td>15167</td>\n",
       "      <td>60198.75</td>\n",
       "      <td>4.029549</td>\n",
       "    </tr>\n",
       "    <tr>\n",
       "      <th>S</th>\n",
       "      <th>Salads</th>\n",
       "      <td>2147</td>\n",
       "      <td>18794.50</td>\n",
       "      <td>8.545455</td>\n",
       "    </tr>\n",
       "    <tr>\n",
       "      <th>A</th>\n",
       "      <th>Starters/Appetisers</th>\n",
       "      <td>1096</td>\n",
       "      <td>13250.00</td>\n",
       "      <td>11.989362</td>\n",
       "    </tr>\n",
       "    <tr>\n",
       "      <th>K</th>\n",
       "      <th>Side Dishes</th>\n",
       "      <td>1893</td>\n",
       "      <td>7572.00</td>\n",
       "      <td>4.000000</td>\n",
       "    </tr>\n",
       "    <tr>\n",
       "      <th>F</th>\n",
       "      <th>Fish &amp; Seafood</th>\n",
       "      <td>381</td>\n",
       "      <td>5399.50</td>\n",
       "      <td>14.184466</td>\n",
       "    </tr>\n",
       "  </tbody>\n",
       "</table>\n",
       "</div>"
      ],
      "text/plain": [
       "                                  OrderQty      Total      Price\n",
       "ProductGroup GroupName                                          \n",
       "P            Pizza                   27512  261981.00   9.558607\n",
       "C            Crepes and Galettes     28225  223664.00   8.124639\n",
       "B            Breakfast               15746   82987.00   5.259752\n",
       "D            Desserts                 8080   68519.50   8.662991\n",
       "G            Drinks & Beverages      15167   60198.75   4.029549\n",
       "S            Salads                   2147   18794.50   8.545455\n",
       "A            Starters/Appetisers      1096   13250.00  11.989362\n",
       "K            Side Dishes              1893    7572.00   4.000000\n",
       "F            Fish & Seafood            381    5399.50  14.184466"
      ]
     },
     "execution_count": 55,
     "metadata": {},
     "output_type": "execute_result"
    }
   ],
   "source": [
    "df.groupby(['ProductGroup', 'GroupName']).agg({'OrderQty':'sum', 'Total':'sum', 'Price':'mean'}).sort_values('Total', ascending=False).head(10)"
   ]
  },
  {
   "cell_type": "markdown",
   "id": "7c548257",
   "metadata": {},
   "source": [
    "C) League table with total weekly and monthly sales of various outlets"
   ]
  },
  {
   "cell_type": "code",
   "execution_count": 56,
   "id": "f0f18b98",
   "metadata": {},
   "outputs": [
    {
     "data": {
      "text/plain": [
       "Index(['SaleDate', 'TicketNo', 'Outlet', 'Total', 'OrderQty', 'StockCode',\n",
       "       'Name', 'Description', 'Price', 'ProductGroup', 'GroupName', 'CardType',\n",
       "       'OutletID', 'CardTypeID', 'ProductID', 'NameID'],\n",
       "      dtype='object')"
      ]
     },
     "execution_count": 56,
     "metadata": {},
     "output_type": "execute_result"
    }
   ],
   "source": [
    "df.columns"
   ]
  },
  {
   "cell_type": "code",
   "execution_count": 57,
   "id": "8a18b7b6",
   "metadata": {},
   "outputs": [],
   "source": [
    "df['SaleDate'] = pd.to_datetime(df['SaleDate'])\n",
    "df['SaleMonth'] = df['SaleDate'].dt.month\n",
    "df['SaleMonthAbbr'] = df['SaleMonth'].apply(lambda x: calendar.month_abbr[x])"
   ]
  },
  {
   "cell_type": "code",
   "execution_count": 58,
   "id": "854a9c01",
   "metadata": {},
   "outputs": [],
   "source": [
    "# splitting date weekly\n",
    "df['WeekNumber'] = df['SaleDate'].dt.isocalendar().week"
   ]
  },
  {
   "cell_type": "code",
   "execution_count": 59,
   "id": "c5e92282",
   "metadata": {},
   "outputs": [
    {
     "data": {
      "text/html": [
       "<div>\n",
       "<style scoped>\n",
       "    .dataframe tbody tr th:only-of-type {\n",
       "        vertical-align: middle;\n",
       "    }\n",
       "\n",
       "    .dataframe tbody tr th {\n",
       "        vertical-align: top;\n",
       "    }\n",
       "\n",
       "    .dataframe thead th {\n",
       "        text-align: right;\n",
       "    }\n",
       "</style>\n",
       "<table border=\"1\" class=\"dataframe\">\n",
       "  <thead>\n",
       "    <tr style=\"text-align: right;\">\n",
       "      <th></th>\n",
       "      <th></th>\n",
       "      <th>OrderQty</th>\n",
       "      <th>Total</th>\n",
       "    </tr>\n",
       "    <tr>\n",
       "      <th>WeekNumber</th>\n",
       "      <th>Outlet</th>\n",
       "      <th></th>\n",
       "      <th></th>\n",
       "    </tr>\n",
       "  </thead>\n",
       "  <tbody>\n",
       "    <tr>\n",
       "      <th rowspan=\"10\" valign=\"top\">1</th>\n",
       "      <th>Middlesborough</th>\n",
       "      <td>658</td>\n",
       "      <td>4590.75</td>\n",
       "    </tr>\n",
       "    <tr>\n",
       "      <th>Edinburgh</th>\n",
       "      <td>583</td>\n",
       "      <td>4490.00</td>\n",
       "    </tr>\n",
       "    <tr>\n",
       "      <th>Birmingham</th>\n",
       "      <td>379</td>\n",
       "      <td>3079.50</td>\n",
       "    </tr>\n",
       "    <tr>\n",
       "      <th>Worthing</th>\n",
       "      <td>350</td>\n",
       "      <td>2713.00</td>\n",
       "    </tr>\n",
       "    <tr>\n",
       "      <th>Cardiff</th>\n",
       "      <td>271</td>\n",
       "      <td>2042.50</td>\n",
       "    </tr>\n",
       "    <tr>\n",
       "      <th>London</th>\n",
       "      <td>328</td>\n",
       "      <td>2016.50</td>\n",
       "    </tr>\n",
       "    <tr>\n",
       "      <th>Ipswich</th>\n",
       "      <td>206</td>\n",
       "      <td>1402.25</td>\n",
       "    </tr>\n",
       "    <tr>\n",
       "      <th>Poole</th>\n",
       "      <td>138</td>\n",
       "      <td>1020.00</td>\n",
       "    </tr>\n",
       "    <tr>\n",
       "      <th>Weymouth</th>\n",
       "      <td>115</td>\n",
       "      <td>823.50</td>\n",
       "    </tr>\n",
       "    <tr>\n",
       "      <th>Peterborough</th>\n",
       "      <td>86</td>\n",
       "      <td>685.00</td>\n",
       "    </tr>\n",
       "    <tr>\n",
       "      <th rowspan=\"7\" valign=\"top\">2</th>\n",
       "      <th>Peterborough</th>\n",
       "      <td>71</td>\n",
       "      <td>564.50</td>\n",
       "    </tr>\n",
       "    <tr>\n",
       "      <th>Middlesborough</th>\n",
       "      <td>57</td>\n",
       "      <td>418.25</td>\n",
       "    </tr>\n",
       "    <tr>\n",
       "      <th>Birmingham</th>\n",
       "      <td>46</td>\n",
       "      <td>345.00</td>\n",
       "    </tr>\n",
       "    <tr>\n",
       "      <th>Ipswich</th>\n",
       "      <td>37</td>\n",
       "      <td>296.25</td>\n",
       "    </tr>\n",
       "    <tr>\n",
       "      <th>Poole</th>\n",
       "      <td>31</td>\n",
       "      <td>231.50</td>\n",
       "    </tr>\n",
       "    <tr>\n",
       "      <th>Edinburgh</th>\n",
       "      <td>25</td>\n",
       "      <td>186.00</td>\n",
       "    </tr>\n",
       "    <tr>\n",
       "      <th>Weymouth</th>\n",
       "      <td>16</td>\n",
       "      <td>130.00</td>\n",
       "    </tr>\n",
       "    <tr>\n",
       "      <th rowspan=\"7\" valign=\"top\">3</th>\n",
       "      <th>Peterborough</th>\n",
       "      <td>91</td>\n",
       "      <td>755.00</td>\n",
       "    </tr>\n",
       "    <tr>\n",
       "      <th>Middlesborough</th>\n",
       "      <td>47</td>\n",
       "      <td>344.50</td>\n",
       "    </tr>\n",
       "    <tr>\n",
       "      <th>Birmingham</th>\n",
       "      <td>42</td>\n",
       "      <td>307.50</td>\n",
       "    </tr>\n",
       "    <tr>\n",
       "      <th>Ipswich</th>\n",
       "      <td>39</td>\n",
       "      <td>282.25</td>\n",
       "    </tr>\n",
       "    <tr>\n",
       "      <th>Weymouth</th>\n",
       "      <td>30</td>\n",
       "      <td>197.75</td>\n",
       "    </tr>\n",
       "    <tr>\n",
       "      <th>Edinburgh</th>\n",
       "      <td>28</td>\n",
       "      <td>190.50</td>\n",
       "    </tr>\n",
       "    <tr>\n",
       "      <th>Poole</th>\n",
       "      <td>18</td>\n",
       "      <td>147.00</td>\n",
       "    </tr>\n",
       "    <tr>\n",
       "      <th rowspan=\"7\" valign=\"top\">4</th>\n",
       "      <th>Peterborough</th>\n",
       "      <td>78</td>\n",
       "      <td>604.50</td>\n",
       "    </tr>\n",
       "    <tr>\n",
       "      <th>Birmingham</th>\n",
       "      <td>40</td>\n",
       "      <td>307.75</td>\n",
       "    </tr>\n",
       "    <tr>\n",
       "      <th>Middlesborough</th>\n",
       "      <td>42</td>\n",
       "      <td>303.25</td>\n",
       "    </tr>\n",
       "    <tr>\n",
       "      <th>Weymouth</th>\n",
       "      <td>28</td>\n",
       "      <td>209.00</td>\n",
       "    </tr>\n",
       "    <tr>\n",
       "      <th>Ipswich</th>\n",
       "      <td>27</td>\n",
       "      <td>201.75</td>\n",
       "    </tr>\n",
       "    <tr>\n",
       "      <th>Poole</th>\n",
       "      <td>23</td>\n",
       "      <td>169.25</td>\n",
       "    </tr>\n",
       "    <tr>\n",
       "      <th>Edinburgh</th>\n",
       "      <td>23</td>\n",
       "      <td>153.75</td>\n",
       "    </tr>\n",
       "    <tr>\n",
       "      <th rowspan=\"10\" valign=\"top\">5</th>\n",
       "      <th>Middlesborough</th>\n",
       "      <td>1562</td>\n",
       "      <td>11175.25</td>\n",
       "    </tr>\n",
       "    <tr>\n",
       "      <th>Birmingham</th>\n",
       "      <td>1135</td>\n",
       "      <td>8913.50</td>\n",
       "    </tr>\n",
       "    <tr>\n",
       "      <th>Edinburgh</th>\n",
       "      <td>1238</td>\n",
       "      <td>8624.75</td>\n",
       "    </tr>\n",
       "    <tr>\n",
       "      <th>Cardiff</th>\n",
       "      <td>693</td>\n",
       "      <td>4892.25</td>\n",
       "    </tr>\n",
       "    <tr>\n",
       "      <th>Worthing</th>\n",
       "      <td>676</td>\n",
       "      <td>4810.00</td>\n",
       "    </tr>\n",
       "    <tr>\n",
       "      <th>London</th>\n",
       "      <td>600</td>\n",
       "      <td>4574.00</td>\n",
       "    </tr>\n",
       "    <tr>\n",
       "      <th>Poole</th>\n",
       "      <td>467</td>\n",
       "      <td>3680.00</td>\n",
       "    </tr>\n",
       "    <tr>\n",
       "      <th>Ipswich</th>\n",
       "      <td>248</td>\n",
       "      <td>1893.50</td>\n",
       "    </tr>\n",
       "    <tr>\n",
       "      <th>Weymouth</th>\n",
       "      <td>148</td>\n",
       "      <td>1021.00</td>\n",
       "    </tr>\n",
       "    <tr>\n",
       "      <th>Peterborough</th>\n",
       "      <td>96</td>\n",
       "      <td>750.00</td>\n",
       "    </tr>\n",
       "    <tr>\n",
       "      <th rowspan=\"7\" valign=\"top\">6</th>\n",
       "      <th>Peterborough</th>\n",
       "      <td>80</td>\n",
       "      <td>647.00</td>\n",
       "    </tr>\n",
       "    <tr>\n",
       "      <th>Middlesborough</th>\n",
       "      <td>54</td>\n",
       "      <td>403.00</td>\n",
       "    </tr>\n",
       "    <tr>\n",
       "      <th>Birmingham</th>\n",
       "      <td>50</td>\n",
       "      <td>345.50</td>\n",
       "    </tr>\n",
       "    <tr>\n",
       "      <th>Ipswich</th>\n",
       "      <td>44</td>\n",
       "      <td>333.50</td>\n",
       "    </tr>\n",
       "    <tr>\n",
       "      <th>Edinburgh</th>\n",
       "      <td>40</td>\n",
       "      <td>309.50</td>\n",
       "    </tr>\n",
       "    <tr>\n",
       "      <th>Poole</th>\n",
       "      <td>30</td>\n",
       "      <td>209.25</td>\n",
       "    </tr>\n",
       "    <tr>\n",
       "      <th>Weymouth</th>\n",
       "      <td>24</td>\n",
       "      <td>181.00</td>\n",
       "    </tr>\n",
       "    <tr>\n",
       "      <th rowspan=\"2\" valign=\"top\">7</th>\n",
       "      <th>Peterborough</th>\n",
       "      <td>91</td>\n",
       "      <td>717.50</td>\n",
       "    </tr>\n",
       "    <tr>\n",
       "      <th>Birmingham</th>\n",
       "      <td>39</td>\n",
       "      <td>296.25</td>\n",
       "    </tr>\n",
       "  </tbody>\n",
       "</table>\n",
       "</div>"
      ],
      "text/plain": [
       "                           OrderQty     Total\n",
       "WeekNumber Outlet                            \n",
       "1          Middlesborough       658   4590.75\n",
       "           Edinburgh            583   4490.00\n",
       "           Birmingham           379   3079.50\n",
       "           Worthing             350   2713.00\n",
       "           Cardiff              271   2042.50\n",
       "           London               328   2016.50\n",
       "           Ipswich              206   1402.25\n",
       "           Poole                138   1020.00\n",
       "           Weymouth             115    823.50\n",
       "           Peterborough          86    685.00\n",
       "2          Peterborough          71    564.50\n",
       "           Middlesborough        57    418.25\n",
       "           Birmingham            46    345.00\n",
       "           Ipswich               37    296.25\n",
       "           Poole                 31    231.50\n",
       "           Edinburgh             25    186.00\n",
       "           Weymouth              16    130.00\n",
       "3          Peterborough          91    755.00\n",
       "           Middlesborough        47    344.50\n",
       "           Birmingham            42    307.50\n",
       "           Ipswich               39    282.25\n",
       "           Weymouth              30    197.75\n",
       "           Edinburgh             28    190.50\n",
       "           Poole                 18    147.00\n",
       "4          Peterborough          78    604.50\n",
       "           Birmingham            40    307.75\n",
       "           Middlesborough        42    303.25\n",
       "           Weymouth              28    209.00\n",
       "           Ipswich               27    201.75\n",
       "           Poole                 23    169.25\n",
       "           Edinburgh             23    153.75\n",
       "5          Middlesborough      1562  11175.25\n",
       "           Birmingham          1135   8913.50\n",
       "           Edinburgh           1238   8624.75\n",
       "           Cardiff              693   4892.25\n",
       "           Worthing             676   4810.00\n",
       "           London               600   4574.00\n",
       "           Poole                467   3680.00\n",
       "           Ipswich              248   1893.50\n",
       "           Weymouth             148   1021.00\n",
       "           Peterborough          96    750.00\n",
       "6          Peterborough          80    647.00\n",
       "           Middlesborough        54    403.00\n",
       "           Birmingham            50    345.50\n",
       "           Ipswich               44    333.50\n",
       "           Edinburgh             40    309.50\n",
       "           Poole                 30    209.25\n",
       "           Weymouth              24    181.00\n",
       "7          Peterborough          91    717.50\n",
       "           Birmingham            39    296.25"
      ]
     },
     "execution_count": 59,
     "metadata": {},
     "output_type": "execute_result"
    }
   ],
   "source": [
    "df.groupby(['WeekNumber', 'Outlet']).agg({'OrderQty':'sum', 'Total':'sum'}).sort_values(['WeekNumber', 'Total'], ascending=[True,False]).head(50)"
   ]
  },
  {
   "cell_type": "code",
   "execution_count": 60,
   "id": "b02a1427",
   "metadata": {},
   "outputs": [
    {
     "data": {
      "text/plain": [
       "array(['Birmingham', 'Cardiff', 'Edinburgh', 'Ipswich', 'London',\n",
       "       'Middlesborough', 'Peterborough', 'Poole', 'Weymouth', 'Worthing'],\n",
       "      dtype=object)"
      ]
     },
     "execution_count": 60,
     "metadata": {},
     "output_type": "execute_result"
    }
   ],
   "source": [
    "np.unique(df['Outlet'])"
   ]
  },
  {
   "cell_type": "code",
   "execution_count": 61,
   "id": "d63c19e7",
   "metadata": {},
   "outputs": [
    {
     "data": {
      "text/html": [
       "<div>\n",
       "<style scoped>\n",
       "    .dataframe tbody tr th:only-of-type {\n",
       "        vertical-align: middle;\n",
       "    }\n",
       "\n",
       "    .dataframe tbody tr th {\n",
       "        vertical-align: top;\n",
       "    }\n",
       "\n",
       "    .dataframe thead th {\n",
       "        text-align: right;\n",
       "    }\n",
       "</style>\n",
       "<table border=\"1\" class=\"dataframe\">\n",
       "  <thead>\n",
       "    <tr style=\"text-align: right;\">\n",
       "      <th></th>\n",
       "      <th>SaleDate</th>\n",
       "      <th>TicketNo</th>\n",
       "      <th>Outlet</th>\n",
       "      <th>Total</th>\n",
       "      <th>OrderQty</th>\n",
       "      <th>StockCode</th>\n",
       "      <th>Name</th>\n",
       "      <th>Description</th>\n",
       "      <th>Price</th>\n",
       "      <th>ProductGroup</th>\n",
       "      <th>GroupName</th>\n",
       "      <th>CardType</th>\n",
       "      <th>OutletID</th>\n",
       "      <th>CardTypeID</th>\n",
       "      <th>ProductID</th>\n",
       "      <th>NameID</th>\n",
       "      <th>SaleMonth</th>\n",
       "      <th>SaleMonthAbbr</th>\n",
       "      <th>WeekNumber</th>\n",
       "    </tr>\n",
       "  </thead>\n",
       "  <tbody>\n",
       "  </tbody>\n",
       "</table>\n",
       "</div>"
      ],
      "text/plain": [
       "Empty DataFrame\n",
       "Columns: [SaleDate, TicketNo, Outlet, Total, OrderQty, StockCode, Name, Description, Price, ProductGroup, GroupName, CardType, OutletID, CardTypeID, ProductID, NameID, SaleMonth, SaleMonthAbbr, WeekNumber]\n",
       "Index: []"
      ]
     },
     "execution_count": 61,
     "metadata": {},
     "output_type": "execute_result"
    }
   ],
   "source": [
    "df[(df['Outlet'] == 'London') & df['WeekNumber'] == 2]"
   ]
  },
  {
   "cell_type": "code",
   "execution_count": 62,
   "id": "5715d4cc",
   "metadata": {},
   "outputs": [
    {
     "data": {
      "text/html": [
       "<div>\n",
       "<style scoped>\n",
       "    .dataframe tbody tr th:only-of-type {\n",
       "        vertical-align: middle;\n",
       "    }\n",
       "\n",
       "    .dataframe tbody tr th {\n",
       "        vertical-align: top;\n",
       "    }\n",
       "\n",
       "    .dataframe thead th {\n",
       "        text-align: right;\n",
       "    }\n",
       "</style>\n",
       "<table border=\"1\" class=\"dataframe\">\n",
       "  <thead>\n",
       "    <tr style=\"text-align: right;\">\n",
       "      <th></th>\n",
       "      <th></th>\n",
       "      <th></th>\n",
       "      <th>OrderQty</th>\n",
       "      <th>Total</th>\n",
       "    </tr>\n",
       "    <tr>\n",
       "      <th>SaleMonth</th>\n",
       "      <th>SaleMonthAbbr</th>\n",
       "      <th>Outlet</th>\n",
       "      <th></th>\n",
       "      <th></th>\n",
       "    </tr>\n",
       "  </thead>\n",
       "  <tbody>\n",
       "    <tr>\n",
       "      <th rowspan=\"10\" valign=\"top\">1</th>\n",
       "      <th rowspan=\"10\" valign=\"top\">Jan</th>\n",
       "      <th>Middlesborough</th>\n",
       "      <td>1010</td>\n",
       "      <td>7029.75</td>\n",
       "    </tr>\n",
       "    <tr>\n",
       "      <th>Edinburgh</th>\n",
       "      <td>902</td>\n",
       "      <td>6637.00</td>\n",
       "    </tr>\n",
       "    <tr>\n",
       "      <th>Birmingham</th>\n",
       "      <td>630</td>\n",
       "      <td>4955.25</td>\n",
       "    </tr>\n",
       "    <tr>\n",
       "      <th>Worthing</th>\n",
       "      <td>432</td>\n",
       "      <td>3294.50</td>\n",
       "    </tr>\n",
       "    <tr>\n",
       "      <th>Cardiff</th>\n",
       "      <td>443</td>\n",
       "      <td>3285.00</td>\n",
       "    </tr>\n",
       "    <tr>\n",
       "      <th>Peterborough</th>\n",
       "      <td>357</td>\n",
       "      <td>2847.75</td>\n",
       "    </tr>\n",
       "    <tr>\n",
       "      <th>London</th>\n",
       "      <td>387</td>\n",
       "      <td>2381.50</td>\n",
       "    </tr>\n",
       "    <tr>\n",
       "      <th>Ipswich</th>\n",
       "      <td>323</td>\n",
       "      <td>2279.75</td>\n",
       "    </tr>\n",
       "    <tr>\n",
       "      <th>Poole</th>\n",
       "      <td>216</td>\n",
       "      <td>1598.75</td>\n",
       "    </tr>\n",
       "    <tr>\n",
       "      <th>Weymouth</th>\n",
       "      <td>206</td>\n",
       "      <td>1480.75</td>\n",
       "    </tr>\n",
       "    <tr>\n",
       "      <th rowspan=\"10\" valign=\"top\">2</th>\n",
       "      <th rowspan=\"10\" valign=\"top\">Feb</th>\n",
       "      <th>Middlesborough</th>\n",
       "      <td>1726</td>\n",
       "      <td>12356.75</td>\n",
       "    </tr>\n",
       "    <tr>\n",
       "      <th>Birmingham</th>\n",
       "      <td>1252</td>\n",
       "      <td>9734.50</td>\n",
       "    </tr>\n",
       "    <tr>\n",
       "      <th>Edinburgh</th>\n",
       "      <td>1341</td>\n",
       "      <td>9430.25</td>\n",
       "    </tr>\n",
       "    <tr>\n",
       "      <th>Cardiff</th>\n",
       "      <td>694</td>\n",
       "      <td>4899.75</td>\n",
       "    </tr>\n",
       "    <tr>\n",
       "      <th>Worthing</th>\n",
       "      <td>677</td>\n",
       "      <td>4815.00</td>\n",
       "    </tr>\n",
       "    <tr>\n",
       "      <th>London</th>\n",
       "      <td>600</td>\n",
       "      <td>4574.00</td>\n",
       "    </tr>\n",
       "    <tr>\n",
       "      <th>Poole</th>\n",
       "      <td>552</td>\n",
       "      <td>4316.50</td>\n",
       "    </tr>\n",
       "    <tr>\n",
       "      <th>Peterborough</th>\n",
       "      <td>374</td>\n",
       "      <td>2930.25</td>\n",
       "    </tr>\n",
       "    <tr>\n",
       "      <th>Ipswich</th>\n",
       "      <td>369</td>\n",
       "      <td>2790.50</td>\n",
       "    </tr>\n",
       "    <tr>\n",
       "      <th>Weymouth</th>\n",
       "      <td>263</td>\n",
       "      <td>1932.50</td>\n",
       "    </tr>\n",
       "    <tr>\n",
       "      <th rowspan=\"10\" valign=\"top\">3</th>\n",
       "      <th rowspan=\"10\" valign=\"top\">Mar</th>\n",
       "      <th>Middlesborough</th>\n",
       "      <td>1648</td>\n",
       "      <td>12272.75</td>\n",
       "    </tr>\n",
       "    <tr>\n",
       "      <th>Edinburgh</th>\n",
       "      <td>1180</td>\n",
       "      <td>8952.50</td>\n",
       "    </tr>\n",
       "    <tr>\n",
       "      <th>Birmingham</th>\n",
       "      <td>658</td>\n",
       "      <td>4861.00</td>\n",
       "    </tr>\n",
       "    <tr>\n",
       "      <th>London</th>\n",
       "      <td>601</td>\n",
       "      <td>4434.50</td>\n",
       "    </tr>\n",
       "    <tr>\n",
       "      <th>Worthing</th>\n",
       "      <td>530</td>\n",
       "      <td>3546.50</td>\n",
       "    </tr>\n",
       "    <tr>\n",
       "      <th>Ipswich</th>\n",
       "      <td>430</td>\n",
       "      <td>3394.00</td>\n",
       "    </tr>\n",
       "    <tr>\n",
       "      <th>Peterborough</th>\n",
       "      <td>416</td>\n",
       "      <td>3234.25</td>\n",
       "    </tr>\n",
       "    <tr>\n",
       "      <th>Cardiff</th>\n",
       "      <td>405</td>\n",
       "      <td>2746.75</td>\n",
       "    </tr>\n",
       "    <tr>\n",
       "      <th>Poole</th>\n",
       "      <td>278</td>\n",
       "      <td>2017.25</td>\n",
       "    </tr>\n",
       "    <tr>\n",
       "      <th>Weymouth</th>\n",
       "      <td>207</td>\n",
       "      <td>1568.50</td>\n",
       "    </tr>\n",
       "    <tr>\n",
       "      <th rowspan=\"10\" valign=\"top\">4</th>\n",
       "      <th rowspan=\"10\" valign=\"top\">Apr</th>\n",
       "      <th>Edinburgh</th>\n",
       "      <td>1471</td>\n",
       "      <td>10728.75</td>\n",
       "    </tr>\n",
       "    <tr>\n",
       "      <th>Middlesborough</th>\n",
       "      <td>1408</td>\n",
       "      <td>10051.75</td>\n",
       "    </tr>\n",
       "    <tr>\n",
       "      <th>Birmingham</th>\n",
       "      <td>814</td>\n",
       "      <td>6156.25</td>\n",
       "    </tr>\n",
       "    <tr>\n",
       "      <th>Cardiff</th>\n",
       "      <td>693</td>\n",
       "      <td>5097.75</td>\n",
       "    </tr>\n",
       "    <tr>\n",
       "      <th>Worthing</th>\n",
       "      <td>621</td>\n",
       "      <td>4863.25</td>\n",
       "    </tr>\n",
       "    <tr>\n",
       "      <th>London</th>\n",
       "      <td>593</td>\n",
       "      <td>3926.25</td>\n",
       "    </tr>\n",
       "    <tr>\n",
       "      <th>Ipswich</th>\n",
       "      <td>426</td>\n",
       "      <td>2917.25</td>\n",
       "    </tr>\n",
       "    <tr>\n",
       "      <th>Peterborough</th>\n",
       "      <td>352</td>\n",
       "      <td>2728.25</td>\n",
       "    </tr>\n",
       "    <tr>\n",
       "      <th>Poole</th>\n",
       "      <td>345</td>\n",
       "      <td>2548.50</td>\n",
       "    </tr>\n",
       "    <tr>\n",
       "      <th>Weymouth</th>\n",
       "      <td>278</td>\n",
       "      <td>1964.00</td>\n",
       "    </tr>\n",
       "    <tr>\n",
       "      <th rowspan=\"10\" valign=\"top\">5</th>\n",
       "      <th rowspan=\"10\" valign=\"top\">May</th>\n",
       "      <th>Middlesborough</th>\n",
       "      <td>2422</td>\n",
       "      <td>18219.00</td>\n",
       "    </tr>\n",
       "    <tr>\n",
       "      <th>Edinburgh</th>\n",
       "      <td>1946</td>\n",
       "      <td>13572.25</td>\n",
       "    </tr>\n",
       "    <tr>\n",
       "      <th>Birmingham</th>\n",
       "      <td>1674</td>\n",
       "      <td>13061.25</td>\n",
       "    </tr>\n",
       "    <tr>\n",
       "      <th>London</th>\n",
       "      <td>836</td>\n",
       "      <td>6555.75</td>\n",
       "    </tr>\n",
       "    <tr>\n",
       "      <th>Cardiff</th>\n",
       "      <td>889</td>\n",
       "      <td>6493.75</td>\n",
       "    </tr>\n",
       "    <tr>\n",
       "      <th>Worthing</th>\n",
       "      <td>896</td>\n",
       "      <td>6354.00</td>\n",
       "    </tr>\n",
       "    <tr>\n",
       "      <th>Poole</th>\n",
       "      <td>704</td>\n",
       "      <td>5357.75</td>\n",
       "    </tr>\n",
       "    <tr>\n",
       "      <th>Ipswich</th>\n",
       "      <td>438</td>\n",
       "      <td>3212.25</td>\n",
       "    </tr>\n",
       "    <tr>\n",
       "      <th>Peterborough</th>\n",
       "      <td>364</td>\n",
       "      <td>2822.50</td>\n",
       "    </tr>\n",
       "    <tr>\n",
       "      <th>Weymouth</th>\n",
       "      <td>305</td>\n",
       "      <td>2159.75</td>\n",
       "    </tr>\n",
       "  </tbody>\n",
       "</table>\n",
       "</div>"
      ],
      "text/plain": [
       "                                        OrderQty     Total\n",
       "SaleMonth SaleMonthAbbr Outlet                            \n",
       "1         Jan           Middlesborough      1010   7029.75\n",
       "                        Edinburgh            902   6637.00\n",
       "                        Birmingham           630   4955.25\n",
       "                        Worthing             432   3294.50\n",
       "                        Cardiff              443   3285.00\n",
       "                        Peterborough         357   2847.75\n",
       "                        London               387   2381.50\n",
       "                        Ipswich              323   2279.75\n",
       "                        Poole                216   1598.75\n",
       "                        Weymouth             206   1480.75\n",
       "2         Feb           Middlesborough      1726  12356.75\n",
       "                        Birmingham          1252   9734.50\n",
       "                        Edinburgh           1341   9430.25\n",
       "                        Cardiff              694   4899.75\n",
       "                        Worthing             677   4815.00\n",
       "                        London               600   4574.00\n",
       "                        Poole                552   4316.50\n",
       "                        Peterborough         374   2930.25\n",
       "                        Ipswich              369   2790.50\n",
       "                        Weymouth             263   1932.50\n",
       "3         Mar           Middlesborough      1648  12272.75\n",
       "                        Edinburgh           1180   8952.50\n",
       "                        Birmingham           658   4861.00\n",
       "                        London               601   4434.50\n",
       "                        Worthing             530   3546.50\n",
       "                        Ipswich              430   3394.00\n",
       "                        Peterborough         416   3234.25\n",
       "                        Cardiff              405   2746.75\n",
       "                        Poole                278   2017.25\n",
       "                        Weymouth             207   1568.50\n",
       "4         Apr           Edinburgh           1471  10728.75\n",
       "                        Middlesborough      1408  10051.75\n",
       "                        Birmingham           814   6156.25\n",
       "                        Cardiff              693   5097.75\n",
       "                        Worthing             621   4863.25\n",
       "                        London               593   3926.25\n",
       "                        Ipswich              426   2917.25\n",
       "                        Peterborough         352   2728.25\n",
       "                        Poole                345   2548.50\n",
       "                        Weymouth             278   1964.00\n",
       "5         May           Middlesborough      2422  18219.00\n",
       "                        Edinburgh           1946  13572.25\n",
       "                        Birmingham          1674  13061.25\n",
       "                        London               836   6555.75\n",
       "                        Cardiff              889   6493.75\n",
       "                        Worthing             896   6354.00\n",
       "                        Poole                704   5357.75\n",
       "                        Ipswich              438   3212.25\n",
       "                        Peterborough         364   2822.50\n",
       "                        Weymouth             305   2159.75"
      ]
     },
     "execution_count": 62,
     "metadata": {},
     "output_type": "execute_result"
    }
   ],
   "source": [
    "df.groupby(['SaleMonth', 'SaleMonthAbbr', 'Outlet']).agg({'OrderQty':'sum', 'Total':'sum'}).sort_values(['SaleMonth', 'Total'], ascending=[True,False]).head(50)"
   ]
  },
  {
   "cell_type": "markdown",
   "id": "83020278",
   "metadata": {},
   "source": [
    "D) Additional insights: What is the most popular item in each outlet"
   ]
  },
  {
   "cell_type": "code",
   "execution_count": 63,
   "id": "ee399319",
   "metadata": {},
   "outputs": [
    {
     "data": {
      "text/plain": [
       "Index(['SaleDate', 'TicketNo', 'Outlet', 'Total', 'OrderQty', 'StockCode',\n",
       "       'Name', 'Description', 'Price', 'ProductGroup', 'GroupName', 'CardType',\n",
       "       'OutletID', 'CardTypeID', 'ProductID', 'NameID', 'SaleMonth',\n",
       "       'SaleMonthAbbr', 'WeekNumber'],\n",
       "      dtype='object')"
      ]
     },
     "execution_count": 63,
     "metadata": {},
     "output_type": "execute_result"
    }
   ],
   "source": [
    "df.columns"
   ]
  },
  {
   "cell_type": "code",
   "execution_count": 64,
   "id": "3adbd083",
   "metadata": {},
   "outputs": [
    {
     "data": {
      "text/html": [
       "<div>\n",
       "<style scoped>\n",
       "    .dataframe tbody tr th:only-of-type {\n",
       "        vertical-align: middle;\n",
       "    }\n",
       "\n",
       "    .dataframe tbody tr th {\n",
       "        vertical-align: top;\n",
       "    }\n",
       "\n",
       "    .dataframe thead th {\n",
       "        text-align: right;\n",
       "    }\n",
       "</style>\n",
       "<table border=\"1\" class=\"dataframe\">\n",
       "  <thead>\n",
       "    <tr style=\"text-align: right;\">\n",
       "      <th></th>\n",
       "      <th></th>\n",
       "      <th>OrderQty</th>\n",
       "      <th>Total</th>\n",
       "    </tr>\n",
       "    <tr>\n",
       "      <th>Outlet</th>\n",
       "      <th>Name</th>\n",
       "      <th></th>\n",
       "      <th></th>\n",
       "    </tr>\n",
       "  </thead>\n",
       "  <tbody>\n",
       "    <tr>\n",
       "      <th rowspan=\"5\" valign=\"top\">Birmingham</th>\n",
       "      <th>Crepe Japonnais</th>\n",
       "      <td>879</td>\n",
       "      <td>6592.50</td>\n",
       "    </tr>\n",
       "    <tr>\n",
       "      <th>Belgian waffle</th>\n",
       "      <td>778</td>\n",
       "      <td>3890.00</td>\n",
       "    </tr>\n",
       "    <tr>\n",
       "      <th>Eggs Florentine</th>\n",
       "      <td>729</td>\n",
       "      <td>3645.00</td>\n",
       "    </tr>\n",
       "    <tr>\n",
       "      <th>Tartiflette Galette</th>\n",
       "      <td>663</td>\n",
       "      <td>4475.25</td>\n",
       "    </tr>\n",
       "    <tr>\n",
       "      <th>POPAY</th>\n",
       "      <td>534</td>\n",
       "      <td>5073.00</td>\n",
       "    </tr>\n",
       "    <tr>\n",
       "      <th>...</th>\n",
       "      <th>...</th>\n",
       "      <td>...</td>\n",
       "      <td>...</td>\n",
       "    </tr>\n",
       "    <tr>\n",
       "      <th rowspan=\"5\" valign=\"top\">Worthing</th>\n",
       "      <th>Reveil Royal</th>\n",
       "      <td>5</td>\n",
       "      <td>35.00</td>\n",
       "    </tr>\n",
       "    <tr>\n",
       "      <th>Kir Normand</th>\n",
       "      <td>4</td>\n",
       "      <td>28.00</td>\n",
       "    </tr>\n",
       "    <tr>\n",
       "      <th>Bloody Mary</th>\n",
       "      <td>3</td>\n",
       "      <td>24.00</td>\n",
       "    </tr>\n",
       "    <tr>\n",
       "      <th>Asperges et Champignons Mornay</th>\n",
       "      <td>2</td>\n",
       "      <td>26.00</td>\n",
       "    </tr>\n",
       "    <tr>\n",
       "      <th>Eggs Royale</th>\n",
       "      <td>1</td>\n",
       "      <td>5.00</td>\n",
       "    </tr>\n",
       "  </tbody>\n",
       "</table>\n",
       "<p>690 rows × 2 columns</p>\n",
       "</div>"
      ],
      "text/plain": [
       "                                           OrderQty    Total\n",
       "Outlet     Name                                             \n",
       "Birmingham Crepe Japonnais                      879  6592.50\n",
       "           Belgian waffle                       778  3890.00\n",
       "           Eggs Florentine                      729  3645.00\n",
       "           Tartiflette Galette                  663  4475.25\n",
       "           POPAY                                534  5073.00\n",
       "...                                             ...      ...\n",
       "Worthing   Reveil Royal                           5    35.00\n",
       "           Kir Normand                            4    28.00\n",
       "           Bloody Mary                            3    24.00\n",
       "           Asperges et Champignons Mornay         2    26.00\n",
       "           Eggs Royale                            1     5.00\n",
       "\n",
       "[690 rows x 2 columns]"
      ]
     },
     "execution_count": 64,
     "metadata": {},
     "output_type": "execute_result"
    }
   ],
   "source": [
    "outlet_name = df.groupby(['Outlet', 'Name']).agg({'OrderQty':'sum', 'Total':'sum'}).sort_values(['Outlet', 'OrderQty'], ascending=[True, False])\n",
    "outlet_name"
   ]
  },
  {
   "cell_type": "code",
   "execution_count": 65,
   "id": "3b8ec2dd",
   "metadata": {},
   "outputs": [
    {
     "data": {
      "text/html": [
       "<div>\n",
       "<style scoped>\n",
       "    .dataframe tbody tr th:only-of-type {\n",
       "        vertical-align: middle;\n",
       "    }\n",
       "\n",
       "    .dataframe tbody tr th {\n",
       "        vertical-align: top;\n",
       "    }\n",
       "\n",
       "    .dataframe thead th {\n",
       "        text-align: right;\n",
       "    }\n",
       "</style>\n",
       "<table border=\"1\" class=\"dataframe\">\n",
       "  <thead>\n",
       "    <tr style=\"text-align: right;\">\n",
       "      <th></th>\n",
       "      <th></th>\n",
       "      <th>OrderQty</th>\n",
       "      <th>Total</th>\n",
       "    </tr>\n",
       "    <tr>\n",
       "      <th>Outlet</th>\n",
       "      <th>Name</th>\n",
       "      <th></th>\n",
       "      <th></th>\n",
       "    </tr>\n",
       "  </thead>\n",
       "  <tbody>\n",
       "    <tr>\n",
       "      <th rowspan=\"3\" valign=\"top\">Birmingham</th>\n",
       "      <th>Crepe Japonnais</th>\n",
       "      <td>879</td>\n",
       "      <td>6592.50</td>\n",
       "    </tr>\n",
       "    <tr>\n",
       "      <th>Belgian waffle</th>\n",
       "      <td>778</td>\n",
       "      <td>3890.00</td>\n",
       "    </tr>\n",
       "    <tr>\n",
       "      <th>Eggs Florentine</th>\n",
       "      <td>729</td>\n",
       "      <td>3645.00</td>\n",
       "    </tr>\n",
       "    <tr>\n",
       "      <th rowspan=\"3\" valign=\"top\">Cardiff</th>\n",
       "      <th>Crepe Japonnais</th>\n",
       "      <td>514</td>\n",
       "      <td>3855.00</td>\n",
       "    </tr>\n",
       "    <tr>\n",
       "      <th>Tartiflette Galette</th>\n",
       "      <td>513</td>\n",
       "      <td>3462.75</td>\n",
       "    </tr>\n",
       "    <tr>\n",
       "      <th>Belgian waffle</th>\n",
       "      <td>414</td>\n",
       "      <td>2070.00</td>\n",
       "    </tr>\n",
       "    <tr>\n",
       "      <th rowspan=\"3\" valign=\"top\">Edinburgh</th>\n",
       "      <th>Crepe Japonnais</th>\n",
       "      <td>1635</td>\n",
       "      <td>12262.50</td>\n",
       "    </tr>\n",
       "    <tr>\n",
       "      <th>Tartiflette Galette</th>\n",
       "      <td>1433</td>\n",
       "      <td>9672.75</td>\n",
       "    </tr>\n",
       "    <tr>\n",
       "      <th>Eggs Florentine</th>\n",
       "      <td>1277</td>\n",
       "      <td>6385.00</td>\n",
       "    </tr>\n",
       "    <tr>\n",
       "      <th rowspan=\"3\" valign=\"top\">Ipswich</th>\n",
       "      <th>Crepe Japonnais</th>\n",
       "      <td>672</td>\n",
       "      <td>5040.00</td>\n",
       "    </tr>\n",
       "    <tr>\n",
       "      <th>Belgian waffle</th>\n",
       "      <td>547</td>\n",
       "      <td>2735.00</td>\n",
       "    </tr>\n",
       "    <tr>\n",
       "      <th>Eggs Florentine</th>\n",
       "      <td>547</td>\n",
       "      <td>2735.00</td>\n",
       "    </tr>\n",
       "    <tr>\n",
       "      <th rowspan=\"3\" valign=\"top\">London</th>\n",
       "      <th>Crepe Japonnais</th>\n",
       "      <td>584</td>\n",
       "      <td>4380.00</td>\n",
       "    </tr>\n",
       "    <tr>\n",
       "      <th>Tartiflette Galette</th>\n",
       "      <td>562</td>\n",
       "      <td>3793.50</td>\n",
       "    </tr>\n",
       "    <tr>\n",
       "      <th>Belgian waffle</th>\n",
       "      <td>440</td>\n",
       "      <td>2200.00</td>\n",
       "    </tr>\n",
       "    <tr>\n",
       "      <th rowspan=\"3\" valign=\"top\">Middlesborough</th>\n",
       "      <th>Crepe Japonnais</th>\n",
       "      <td>1686</td>\n",
       "      <td>12645.00</td>\n",
       "    </tr>\n",
       "    <tr>\n",
       "      <th>Tartiflette Galette</th>\n",
       "      <td>1443</td>\n",
       "      <td>9740.25</td>\n",
       "    </tr>\n",
       "    <tr>\n",
       "      <th>Belgian waffle</th>\n",
       "      <td>1373</td>\n",
       "      <td>6865.00</td>\n",
       "    </tr>\n",
       "    <tr>\n",
       "      <th rowspan=\"3\" valign=\"top\">Peterborough</th>\n",
       "      <th>Crepe Japonnais</th>\n",
       "      <td>603</td>\n",
       "      <td>4522.50</td>\n",
       "    </tr>\n",
       "    <tr>\n",
       "      <th>Belgian waffle</th>\n",
       "      <td>527</td>\n",
       "      <td>2635.00</td>\n",
       "    </tr>\n",
       "    <tr>\n",
       "      <th>Eggs Florentine</th>\n",
       "      <td>507</td>\n",
       "      <td>2535.00</td>\n",
       "    </tr>\n",
       "    <tr>\n",
       "      <th rowspan=\"3\" valign=\"top\">Poole</th>\n",
       "      <th>Crepe Japonnais</th>\n",
       "      <td>576</td>\n",
       "      <td>4320.00</td>\n",
       "    </tr>\n",
       "    <tr>\n",
       "      <th>Belgian waffle</th>\n",
       "      <td>510</td>\n",
       "      <td>2550.00</td>\n",
       "    </tr>\n",
       "    <tr>\n",
       "      <th>Eggs Florentine</th>\n",
       "      <td>485</td>\n",
       "      <td>2425.00</td>\n",
       "    </tr>\n",
       "    <tr>\n",
       "      <th rowspan=\"3\" valign=\"top\">Weymouth</th>\n",
       "      <th>Crepe Japonnais</th>\n",
       "      <td>549</td>\n",
       "      <td>4117.50</td>\n",
       "    </tr>\n",
       "    <tr>\n",
       "      <th>Eggs Florentine</th>\n",
       "      <td>407</td>\n",
       "      <td>2035.00</td>\n",
       "    </tr>\n",
       "    <tr>\n",
       "      <th>Belgian waffle</th>\n",
       "      <td>396</td>\n",
       "      <td>1980.00</td>\n",
       "    </tr>\n",
       "    <tr>\n",
       "      <th rowspan=\"3\" valign=\"top\">Worthing</th>\n",
       "      <th>Tartiflette Galette</th>\n",
       "      <td>549</td>\n",
       "      <td>3705.75</td>\n",
       "    </tr>\n",
       "    <tr>\n",
       "      <th>Crepe Japonnais</th>\n",
       "      <td>514</td>\n",
       "      <td>3855.00</td>\n",
       "    </tr>\n",
       "    <tr>\n",
       "      <th>Latte</th>\n",
       "      <td>509</td>\n",
       "      <td>1782.25</td>\n",
       "    </tr>\n",
       "  </tbody>\n",
       "</table>\n",
       "</div>"
      ],
      "text/plain": [
       "                                    OrderQty     Total\n",
       "Outlet         Name                                   \n",
       "Birmingham     Crepe Japonnais           879   6592.50\n",
       "               Belgian waffle            778   3890.00\n",
       "               Eggs Florentine           729   3645.00\n",
       "Cardiff        Crepe Japonnais           514   3855.00\n",
       "               Tartiflette Galette       513   3462.75\n",
       "               Belgian waffle            414   2070.00\n",
       "Edinburgh      Crepe Japonnais          1635  12262.50\n",
       "               Tartiflette Galette      1433   9672.75\n",
       "               Eggs Florentine          1277   6385.00\n",
       "Ipswich        Crepe Japonnais           672   5040.00\n",
       "               Belgian waffle            547   2735.00\n",
       "               Eggs Florentine           547   2735.00\n",
       "London         Crepe Japonnais           584   4380.00\n",
       "               Tartiflette Galette       562   3793.50\n",
       "               Belgian waffle            440   2200.00\n",
       "Middlesborough Crepe Japonnais          1686  12645.00\n",
       "               Tartiflette Galette      1443   9740.25\n",
       "               Belgian waffle           1373   6865.00\n",
       "Peterborough   Crepe Japonnais           603   4522.50\n",
       "               Belgian waffle            527   2635.00\n",
       "               Eggs Florentine           507   2535.00\n",
       "Poole          Crepe Japonnais           576   4320.00\n",
       "               Belgian waffle            510   2550.00\n",
       "               Eggs Florentine           485   2425.00\n",
       "Weymouth       Crepe Japonnais           549   4117.50\n",
       "               Eggs Florentine           407   2035.00\n",
       "               Belgian waffle            396   1980.00\n",
       "Worthing       Tartiflette Galette       549   3705.75\n",
       "               Crepe Japonnais           514   3855.00\n",
       "               Latte                     509   1782.25"
      ]
     },
     "execution_count": 65,
     "metadata": {},
     "output_type": "execute_result"
    }
   ],
   "source": [
    "outlet_name.groupby('Outlet').head(3)"
   ]
  },
  {
   "cell_type": "markdown",
   "id": "744b521b",
   "metadata": {},
   "source": [
    "Verification with PowerBI numbers:"
   ]
  },
  {
   "cell_type": "code",
   "execution_count": 66,
   "id": "4f3df18e",
   "metadata": {},
   "outputs": [
    {
     "data": {
      "text/plain": [
       "16708"
      ]
     },
     "execution_count": 66,
     "metadata": {},
     "output_type": "execute_result"
    }
   ],
   "source": [
    "np.count_nonzero(np.unique(df['TicketNo']))"
   ]
  },
  {
   "cell_type": "code",
   "execution_count": 67,
   "id": "a1e227ed",
   "metadata": {},
   "outputs": [
    {
     "data": {
      "text/plain": [
       "1123"
      ]
     },
     "execution_count": 67,
     "metadata": {},
     "output_type": "execute_result"
    }
   ],
   "source": [
    "np.count_nonzero(np.unique(df['SaleDate']))"
   ]
  },
  {
   "cell_type": "code",
   "execution_count": 68,
   "id": "5846657e",
   "metadata": {},
   "outputs": [
    {
     "data": {
      "text/plain": [
       "742366.25"
      ]
     },
     "execution_count": 68,
     "metadata": {},
     "output_type": "execute_result"
    }
   ],
   "source": [
    "df['Total'].sum()"
   ]
  },
  {
   "cell_type": "code",
   "execution_count": 70,
   "id": "36f29525",
   "metadata": {},
   "outputs": [
    {
     "data": {
      "text/html": [
       "<div>\n",
       "<style scoped>\n",
       "    .dataframe tbody tr th:only-of-type {\n",
       "        vertical-align: middle;\n",
       "    }\n",
       "\n",
       "    .dataframe tbody tr th {\n",
       "        vertical-align: top;\n",
       "    }\n",
       "\n",
       "    .dataframe thead th {\n",
       "        text-align: right;\n",
       "    }\n",
       "</style>\n",
       "<table border=\"1\" class=\"dataframe\">\n",
       "  <thead>\n",
       "    <tr style=\"text-align: right;\">\n",
       "      <th></th>\n",
       "      <th>SaleDate</th>\n",
       "      <th>TicketNo</th>\n",
       "      <th>Outlet</th>\n",
       "      <th>Total</th>\n",
       "      <th>OrderQty</th>\n",
       "      <th>StockCode</th>\n",
       "      <th>Name</th>\n",
       "      <th>Description</th>\n",
       "      <th>Price</th>\n",
       "      <th>ProductGroup</th>\n",
       "      <th>GroupName</th>\n",
       "      <th>CardType</th>\n",
       "      <th>OutletID</th>\n",
       "      <th>CardTypeID</th>\n",
       "      <th>ProductID</th>\n",
       "      <th>NameID</th>\n",
       "      <th>SaleMonth</th>\n",
       "      <th>SaleMonthAbbr</th>\n",
       "      <th>WeekNumber</th>\n",
       "    </tr>\n",
       "  </thead>\n",
       "  <tbody>\n",
       "    <tr>\n",
       "      <th>0</th>\n",
       "      <td>2018-08-21</td>\n",
       "      <td>92208</td>\n",
       "      <td>Birmingham</td>\n",
       "      <td>5.0</td>\n",
       "      <td>1</td>\n",
       "      <td>BK0101</td>\n",
       "      <td>Eggs Florentine</td>\n",
       "      <td>NaN</td>\n",
       "      <td>5.0</td>\n",
       "      <td>B</td>\n",
       "      <td>Breakfast</td>\n",
       "      <td>Visa</td>\n",
       "      <td>1</td>\n",
       "      <td>1</td>\n",
       "      <td>1</td>\n",
       "      <td>1</td>\n",
       "      <td>8</td>\n",
       "      <td>Aug</td>\n",
       "      <td>34</td>\n",
       "    </tr>\n",
       "    <tr>\n",
       "      <th>1</th>\n",
       "      <td>2018-08-21</td>\n",
       "      <td>92209</td>\n",
       "      <td>Birmingham</td>\n",
       "      <td>7.5</td>\n",
       "      <td>1</td>\n",
       "      <td>CP0125</td>\n",
       "      <td>The Sicilian Crepe</td>\n",
       "      <td>Tuna, black olives, cheddar cheese, spinach an...</td>\n",
       "      <td>7.5</td>\n",
       "      <td>C</td>\n",
       "      <td>Crepes and Galettes</td>\n",
       "      <td>Avis</td>\n",
       "      <td>2</td>\n",
       "      <td>2</td>\n",
       "      <td>2</td>\n",
       "      <td>2</td>\n",
       "      <td>8</td>\n",
       "      <td>Aug</td>\n",
       "      <td>34</td>\n",
       "    </tr>\n",
       "    <tr>\n",
       "      <th>2</th>\n",
       "      <td>2018-08-21</td>\n",
       "      <td>92211</td>\n",
       "      <td>Middlesborough</td>\n",
       "      <td>7.5</td>\n",
       "      <td>1</td>\n",
       "      <td>CP0170</td>\n",
       "      <td>Crepe Japonnais</td>\n",
       "      <td>Teriyaky Salmon &amp; Shitake Mushrooms, with salad</td>\n",
       "      <td>7.5</td>\n",
       "      <td>C</td>\n",
       "      <td>Crepes and Galettes</td>\n",
       "      <td>Visa</td>\n",
       "      <td>3</td>\n",
       "      <td>3</td>\n",
       "      <td>3</td>\n",
       "      <td>3</td>\n",
       "      <td>8</td>\n",
       "      <td>Aug</td>\n",
       "      <td>34</td>\n",
       "    </tr>\n",
       "    <tr>\n",
       "      <th>3</th>\n",
       "      <td>2018-08-21</td>\n",
       "      <td>92217</td>\n",
       "      <td>Birmingham</td>\n",
       "      <td>5.0</td>\n",
       "      <td>1</td>\n",
       "      <td>BK0101</td>\n",
       "      <td>Eggs Florentine</td>\n",
       "      <td>NaN</td>\n",
       "      <td>5.0</td>\n",
       "      <td>B</td>\n",
       "      <td>Breakfast</td>\n",
       "      <td>Avis</td>\n",
       "      <td>4</td>\n",
       "      <td>4</td>\n",
       "      <td>4</td>\n",
       "      <td>4</td>\n",
       "      <td>8</td>\n",
       "      <td>Aug</td>\n",
       "      <td>34</td>\n",
       "    </tr>\n",
       "    <tr>\n",
       "      <th>4</th>\n",
       "      <td>2018-08-21</td>\n",
       "      <td>92217</td>\n",
       "      <td>Birmingham</td>\n",
       "      <td>7.5</td>\n",
       "      <td>1</td>\n",
       "      <td>CP0125</td>\n",
       "      <td>The Sicilian Crepe</td>\n",
       "      <td>Tuna, black olives, cheddar cheese, spinach an...</td>\n",
       "      <td>7.5</td>\n",
       "      <td>C</td>\n",
       "      <td>Crepes and Galettes</td>\n",
       "      <td>Avis</td>\n",
       "      <td>5</td>\n",
       "      <td>5</td>\n",
       "      <td>5</td>\n",
       "      <td>5</td>\n",
       "      <td>8</td>\n",
       "      <td>Aug</td>\n",
       "      <td>34</td>\n",
       "    </tr>\n",
       "    <tr>\n",
       "      <th>...</th>\n",
       "      <td>...</td>\n",
       "      <td>...</td>\n",
       "      <td>...</td>\n",
       "      <td>...</td>\n",
       "      <td>...</td>\n",
       "      <td>...</td>\n",
       "      <td>...</td>\n",
       "      <td>...</td>\n",
       "      <td>...</td>\n",
       "      <td>...</td>\n",
       "      <td>...</td>\n",
       "      <td>...</td>\n",
       "      <td>...</td>\n",
       "      <td>...</td>\n",
       "      <td>...</td>\n",
       "      <td>...</td>\n",
       "      <td>...</td>\n",
       "      <td>...</td>\n",
       "      <td>...</td>\n",
       "    </tr>\n",
       "    <tr>\n",
       "      <th>40700</th>\n",
       "      <td>2018-08-20</td>\n",
       "      <td>92190</td>\n",
       "      <td>Birmingham</td>\n",
       "      <td>5.0</td>\n",
       "      <td>1</td>\n",
       "      <td>BK0101</td>\n",
       "      <td>Eggs Florentine</td>\n",
       "      <td>NaN</td>\n",
       "      <td>5.0</td>\n",
       "      <td>B</td>\n",
       "      <td>Breakfast</td>\n",
       "      <td>Avis</td>\n",
       "      <td>40701</td>\n",
       "      <td>40701</td>\n",
       "      <td>40701</td>\n",
       "      <td>40701</td>\n",
       "      <td>8</td>\n",
       "      <td>Aug</td>\n",
       "      <td>34</td>\n",
       "    </tr>\n",
       "    <tr>\n",
       "      <th>40701</th>\n",
       "      <td>2018-08-20</td>\n",
       "      <td>92191</td>\n",
       "      <td>Birmingham</td>\n",
       "      <td>5.0</td>\n",
       "      <td>1</td>\n",
       "      <td>BK0101</td>\n",
       "      <td>Eggs Florentine</td>\n",
       "      <td>NaN</td>\n",
       "      <td>5.0</td>\n",
       "      <td>B</td>\n",
       "      <td>Breakfast</td>\n",
       "      <td>Maestercard</td>\n",
       "      <td>40702</td>\n",
       "      <td>40702</td>\n",
       "      <td>40702</td>\n",
       "      <td>40702</td>\n",
       "      <td>8</td>\n",
       "      <td>Aug</td>\n",
       "      <td>34</td>\n",
       "    </tr>\n",
       "    <tr>\n",
       "      <th>40702</th>\n",
       "      <td>2018-08-20</td>\n",
       "      <td>92194</td>\n",
       "      <td>Weymouth</td>\n",
       "      <td>5.0</td>\n",
       "      <td>1</td>\n",
       "      <td>BK0110</td>\n",
       "      <td>Belgian waffle</td>\n",
       "      <td>NaN</td>\n",
       "      <td>5.0</td>\n",
       "      <td>B</td>\n",
       "      <td>Breakfast</td>\n",
       "      <td>Debit Card</td>\n",
       "      <td>40703</td>\n",
       "      <td>40703</td>\n",
       "      <td>40703</td>\n",
       "      <td>40703</td>\n",
       "      <td>8</td>\n",
       "      <td>Aug</td>\n",
       "      <td>34</td>\n",
       "    </tr>\n",
       "    <tr>\n",
       "      <th>40703</th>\n",
       "      <td>2018-08-21</td>\n",
       "      <td>92196</td>\n",
       "      <td>Middlesborough</td>\n",
       "      <td>7.5</td>\n",
       "      <td>1</td>\n",
       "      <td>CP0170</td>\n",
       "      <td>Crepe Japonnais</td>\n",
       "      <td>Teriyaky Salmon &amp; Shitake Mushrooms, with salad</td>\n",
       "      <td>7.5</td>\n",
       "      <td>C</td>\n",
       "      <td>Crepes and Galettes</td>\n",
       "      <td>Visa</td>\n",
       "      <td>40704</td>\n",
       "      <td>40704</td>\n",
       "      <td>40704</td>\n",
       "      <td>40704</td>\n",
       "      <td>8</td>\n",
       "      <td>Aug</td>\n",
       "      <td>34</td>\n",
       "    </tr>\n",
       "    <tr>\n",
       "      <th>40704</th>\n",
       "      <td>2018-08-21</td>\n",
       "      <td>92202</td>\n",
       "      <td>Peterborough</td>\n",
       "      <td>5.0</td>\n",
       "      <td>1</td>\n",
       "      <td>BK0110</td>\n",
       "      <td>Belgian waffle</td>\n",
       "      <td>NaN</td>\n",
       "      <td>5.0</td>\n",
       "      <td>B</td>\n",
       "      <td>Breakfast</td>\n",
       "      <td>Debit Card</td>\n",
       "      <td>40705</td>\n",
       "      <td>40705</td>\n",
       "      <td>40705</td>\n",
       "      <td>40705</td>\n",
       "      <td>8</td>\n",
       "      <td>Aug</td>\n",
       "      <td>34</td>\n",
       "    </tr>\n",
       "  </tbody>\n",
       "</table>\n",
       "<p>40705 rows × 19 columns</p>\n",
       "</div>"
      ],
      "text/plain": [
       "        SaleDate  TicketNo          Outlet  Total  OrderQty StockCode  \\\n",
       "0     2018-08-21     92208      Birmingham    5.0         1    BK0101   \n",
       "1     2018-08-21     92209      Birmingham    7.5         1    CP0125   \n",
       "2     2018-08-21     92211  Middlesborough    7.5         1    CP0170   \n",
       "3     2018-08-21     92217      Birmingham    5.0         1    BK0101   \n",
       "4     2018-08-21     92217      Birmingham    7.5         1    CP0125   \n",
       "...          ...       ...             ...    ...       ...       ...   \n",
       "40700 2018-08-20     92190      Birmingham    5.0         1    BK0101   \n",
       "40701 2018-08-20     92191      Birmingham    5.0         1    BK0101   \n",
       "40702 2018-08-20     92194        Weymouth    5.0         1    BK0110   \n",
       "40703 2018-08-21     92196  Middlesborough    7.5         1    CP0170   \n",
       "40704 2018-08-21     92202    Peterborough    5.0         1    BK0110   \n",
       "\n",
       "                     Name                                        Description  \\\n",
       "0         Eggs Florentine                                                NaN   \n",
       "1      The Sicilian Crepe  Tuna, black olives, cheddar cheese, spinach an...   \n",
       "2         Crepe Japonnais    Teriyaky Salmon & Shitake Mushrooms, with salad   \n",
       "3         Eggs Florentine                                                NaN   \n",
       "4      The Sicilian Crepe  Tuna, black olives, cheddar cheese, spinach an...   \n",
       "...                   ...                                                ...   \n",
       "40700     Eggs Florentine                                                NaN   \n",
       "40701     Eggs Florentine                                                NaN   \n",
       "40702      Belgian waffle                                                NaN   \n",
       "40703     Crepe Japonnais    Teriyaky Salmon & Shitake Mushrooms, with salad   \n",
       "40704      Belgian waffle                                                NaN   \n",
       "\n",
       "       Price ProductGroup            GroupName     CardType  OutletID  \\\n",
       "0        5.0            B            Breakfast         Visa         1   \n",
       "1        7.5            C  Crepes and Galettes         Avis         2   \n",
       "2        7.5            C  Crepes and Galettes         Visa         3   \n",
       "3        5.0            B            Breakfast         Avis         4   \n",
       "4        7.5            C  Crepes and Galettes         Avis         5   \n",
       "...      ...          ...                  ...          ...       ...   \n",
       "40700    5.0            B            Breakfast         Avis     40701   \n",
       "40701    5.0            B            Breakfast  Maestercard     40702   \n",
       "40702    5.0            B            Breakfast   Debit Card     40703   \n",
       "40703    7.5            C  Crepes and Galettes         Visa     40704   \n",
       "40704    5.0            B            Breakfast   Debit Card     40705   \n",
       "\n",
       "       CardTypeID  ProductID  NameID  SaleMonth SaleMonthAbbr  WeekNumber  \n",
       "0               1          1       1          8           Aug          34  \n",
       "1               2          2       2          8           Aug          34  \n",
       "2               3          3       3          8           Aug          34  \n",
       "3               4          4       4          8           Aug          34  \n",
       "4               5          5       5          8           Aug          34  \n",
       "...           ...        ...     ...        ...           ...         ...  \n",
       "40700       40701      40701   40701          8           Aug          34  \n",
       "40701       40702      40702   40702          8           Aug          34  \n",
       "40702       40703      40703   40703          8           Aug          34  \n",
       "40703       40704      40704   40704          8           Aug          34  \n",
       "40704       40705      40705   40705          8           Aug          34  \n",
       "\n",
       "[40705 rows x 19 columns]"
      ]
     },
     "execution_count": 70,
     "metadata": {},
     "output_type": "execute_result"
    }
   ],
   "source": [
    "df"
   ]
  },
  {
   "cell_type": "markdown",
   "id": "f01caaeb",
   "metadata": {},
   "source": [
    "Looking at unique customers of each year:"
   ]
  },
  {
   "cell_type": "code",
   "execution_count": 91,
   "id": "bb459880",
   "metadata": {},
   "outputs": [
    {
     "data": {
      "text/plain": [
       "1334"
      ]
     },
     "execution_count": 91,
     "metadata": {},
     "output_type": "execute_result"
    }
   ],
   "source": [
    "np.unique(df[df['SaleDate'].dt.year == 2016]['TicketNo']).shape[0]"
   ]
  },
  {
   "cell_type": "code",
   "execution_count": 88,
   "id": "3f9e2e9e",
   "metadata": {},
   "outputs": [
    {
     "data": {
      "text/plain": [
       "3279"
      ]
     },
     "execution_count": 88,
     "metadata": {},
     "output_type": "execute_result"
    }
   ],
   "source": [
    "np.unique(df[df['SaleDate'].dt.year == 2017]['TicketNo']).shape[0]"
   ]
  },
  {
   "cell_type": "code",
   "execution_count": 89,
   "id": "7b96c283",
   "metadata": {},
   "outputs": [
    {
     "data": {
      "text/plain": [
       "6269"
      ]
     },
     "execution_count": 89,
     "metadata": {},
     "output_type": "execute_result"
    }
   ],
   "source": [
    "np.unique(df[df['SaleDate'].dt.year == 2018]['TicketNo']).shape[0]"
   ]
  },
  {
   "cell_type": "code",
   "execution_count": 92,
   "id": "3bc8d616",
   "metadata": {},
   "outputs": [
    {
     "data": {
      "text/plain": [
       "5826"
      ]
     },
     "execution_count": 92,
     "metadata": {},
     "output_type": "execute_result"
    }
   ],
   "source": [
    "np.unique(df[df['SaleDate'].dt.year == 2019]['TicketNo']).shape[0]"
   ]
  },
  {
   "cell_type": "markdown",
   "id": "e2f16f75",
   "metadata": {},
   "source": [
    "Note: the count values match correctly on PowerBI i.e. summation of order quantity and the rest of the count values. However, the summation of revenue seems to be slightly off. Must be a PowerBI thing."
   ]
  },
  {
   "cell_type": "markdown",
   "id": "f31a475e",
   "metadata": {},
   "source": [
    "**END**"
   ]
  }
 ],
 "metadata": {
  "kernelspec": {
   "display_name": "Python 3",
   "language": "python",
   "name": "python3"
  },
  "language_info": {
   "codemirror_mode": {
    "name": "ipython",
    "version": 3
   },
   "file_extension": ".py",
   "mimetype": "text/x-python",
   "name": "python",
   "nbconvert_exporter": "python",
   "pygments_lexer": "ipython3",
   "version": "3.8.8"
  }
 },
 "nbformat": 4,
 "nbformat_minor": 5
}
