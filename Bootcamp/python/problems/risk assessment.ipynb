{
 "cells": [
  {
   "cell_type": "markdown",
   "id": "24c8abb6",
   "metadata": {},
   "source": [
    "## Risk Evaluation/"
   ]
  },
  {
   "cell_type": "code",
   "execution_count": 1,
   "id": "0aee3ba8",
   "metadata": {},
   "outputs": [],
   "source": [
    "import pandas as pd"
   ]
  },
  {
   "cell_type": "code",
   "execution_count": 2,
   "id": "2e60fe75",
   "metadata": {},
   "outputs": [],
   "source": [
    "x = {\n",
    "        'Name': ['Harsh', 'Warsh'],\n",
    "        'Married':['No', 'Yes'],\n",
    "        'Insurance':['Yes', 'No'],\n",
    "        'Real Estate': ['100000', '23452'],\n",
    "        'Salary':['78000', '10000'],\n",
    "        'Expenses':['23000', '74049']\n",
    "        \n",
    "    }"
   ]
  },
  {
   "cell_type": "code",
   "execution_count": 3,
   "id": "486e7b0a",
   "metadata": {},
   "outputs": [
    {
     "data": {
      "text/html": [
       "<div>\n",
       "<style scoped>\n",
       "    .dataframe tbody tr th:only-of-type {\n",
       "        vertical-align: middle;\n",
       "    }\n",
       "\n",
       "    .dataframe tbody tr th {\n",
       "        vertical-align: top;\n",
       "    }\n",
       "\n",
       "    .dataframe thead th {\n",
       "        text-align: right;\n",
       "    }\n",
       "</style>\n",
       "<table border=\"1\" class=\"dataframe\">\n",
       "  <thead>\n",
       "    <tr style=\"text-align: right;\">\n",
       "      <th></th>\n",
       "      <th>Name</th>\n",
       "      <th>Married</th>\n",
       "      <th>Insurance</th>\n",
       "      <th>Real Estate</th>\n",
       "      <th>Salary</th>\n",
       "      <th>Expenses</th>\n",
       "    </tr>\n",
       "  </thead>\n",
       "  <tbody>\n",
       "    <tr>\n",
       "      <th>0</th>\n",
       "      <td>Harsh</td>\n",
       "      <td>No</td>\n",
       "      <td>Yes</td>\n",
       "      <td>100000</td>\n",
       "      <td>78000</td>\n",
       "      <td>23000</td>\n",
       "    </tr>\n",
       "    <tr>\n",
       "      <th>1</th>\n",
       "      <td>Warsh</td>\n",
       "      <td>Yes</td>\n",
       "      <td>No</td>\n",
       "      <td>23452</td>\n",
       "      <td>10000</td>\n",
       "      <td>74049</td>\n",
       "    </tr>\n",
       "  </tbody>\n",
       "</table>\n",
       "</div>"
      ],
      "text/plain": [
       "    Name Married Insurance Real Estate Salary Expenses\n",
       "0  Harsh      No       Yes      100000  78000    23000\n",
       "1  Warsh     Yes        No       23452  10000    74049"
      ]
     },
     "execution_count": 3,
     "metadata": {},
     "output_type": "execute_result"
    }
   ],
   "source": [
    "df = pd.DataFrame(x)\n",
    "df"
   ]
  },
  {
   "cell_type": "code",
   "execution_count": 4,
   "id": "2a2236a4",
   "metadata": {},
   "outputs": [
    {
     "data": {
      "text/plain": [
       "Name           object\n",
       "Married        object\n",
       "Insurance      object\n",
       "Real Estate    object\n",
       "Salary         object\n",
       "Expenses       object\n",
       "dtype: object"
      ]
     },
     "execution_count": 4,
     "metadata": {},
     "output_type": "execute_result"
    }
   ],
   "source": [
    "df.dtypes"
   ]
  },
  {
   "cell_type": "code",
   "execution_count": 5,
   "id": "aad41c4b",
   "metadata": {},
   "outputs": [],
   "source": [
    "df[['Real Estate', 'Salary', 'Expenses']] = df[['Real Estate', 'Salary', 'Expenses']].apply(pd.to_numeric)"
   ]
  },
  {
   "cell_type": "code",
   "execution_count": 6,
   "id": "0c326c59",
   "metadata": {},
   "outputs": [
    {
     "data": {
      "text/plain": [
       "Name           object\n",
       "Married        object\n",
       "Insurance      object\n",
       "Real Estate     int64\n",
       "Salary          int64\n",
       "Expenses        int64\n",
       "dtype: object"
      ]
     },
     "execution_count": 6,
     "metadata": {},
     "output_type": "execute_result"
    }
   ],
   "source": [
    "df.dtypes"
   ]
  },
  {
   "cell_type": "markdown",
   "id": "54b9555d",
   "metadata": {},
   "source": [
    "Score out of 10 for each parameter:\n",
    "\n",
    "- If Married, score = 4, if not, 10\n",
    "- If Insurance score = 10, if not, 3\n",
    "- If Real Estate between 0-10000: 2, 10000-30000: 4, 30000-50000: 6, 50000:70000: 8, 70000-: 10\n",
    "- Salary between 0-20000: 2, 20000-40000: 4, 40000-60000: 6, 60000-80000: 8, 80000-: 10\n",
    "- Expenses between 0-20000: 10, 20000-40000: 8, 40000-60000: 6, 60000-80000: 4, 80000-: 2"
   ]
  },
  {
   "cell_type": "markdown",
   "id": "32300f18",
   "metadata": {},
   "source": [
    "Max score is 50\n",
    "\n",
    "- 0-20: Poor\n",
    "- 20-40: Good\n",
    "- 40+: Excellent"
   ]
  },
  {
   "cell_type": "code",
   "execution_count": 7,
   "id": "56e5a70e",
   "metadata": {},
   "outputs": [],
   "source": [
    "def married(status):\n",
    "    if status == 'Yes':\n",
    "        return 10\n",
    "    else:\n",
    "        return 4"
   ]
  },
  {
   "cell_type": "code",
   "execution_count": 8,
   "id": "cc573092",
   "metadata": {},
   "outputs": [],
   "source": [
    "def insurance(status):\n",
    "    if status == 'Yes':\n",
    "        return 10\n",
    "    else:\n",
    "        return 3"
   ]
  },
  {
   "cell_type": "code",
   "execution_count": 9,
   "id": "4bea9112",
   "metadata": {},
   "outputs": [],
   "source": [
    "def real_estate(value):\n",
    "    if value <= 0:\n",
    "        return 0\n",
    "    elif ((value > 0) & (value <= 10000)):\n",
    "        return 2\n",
    "    elif ((value > 10000) & (value <= 30000)):\n",
    "        return 4\n",
    "    elif ((value > 30000) & (value <= 60000)):\n",
    "        return 6\n",
    "    elif ((value > 60000) & (value <= 80000)):\n",
    "        return 8\n",
    "    else:\n",
    "        return 10"
   ]
  },
  {
   "cell_type": "code",
   "execution_count": 10,
   "id": "2c29ee51",
   "metadata": {},
   "outputs": [],
   "source": [
    "def salary(value):\n",
    "    if value <= 0:\n",
    "        return 0\n",
    "    elif ((value > 0) and (value <= 20000)):\n",
    "        return 2\n",
    "    elif ((value > 20000) and (value <= 40000)):\n",
    "        return 4\n",
    "    elif ((value > 40000) and (value <= 60000)):\n",
    "        return 6\n",
    "    elif ((value > 60000) and (value <= 80000)):\n",
    "        return 8\n",
    "    else:\n",
    "        return 10"
   ]
  },
  {
   "cell_type": "code",
   "execution_count": 11,
   "id": "b89a6a2c",
   "metadata": {},
   "outputs": [],
   "source": [
    "def expenses(value):\n",
    "    if value <= 0:\n",
    "        return 0\n",
    "    elif ((value > 0) and (value <= 20000)):\n",
    "        return 10\n",
    "    elif ((value > 20000) and (value <= 40000)):\n",
    "        return 8\n",
    "    elif ((value > 40000) and (value <= 60000)):\n",
    "        return 6\n",
    "    elif ((value > 60000) and (value <= 80000)):\n",
    "        return 4\n",
    "    else:\n",
    "        return 2"
   ]
  },
  {
   "cell_type": "code",
   "execution_count": 12,
   "id": "5b53cbd9",
   "metadata": {},
   "outputs": [],
   "source": [
    "def tally(total):\n",
    "    if total <= 20:\n",
    "        return 'Poor'\n",
    "    elif (total > 20 and total <= 40):\n",
    "        return 'Good'\n",
    "    else:\n",
    "        return 'Excellent'"
   ]
  },
  {
   "cell_type": "code",
   "execution_count": 13,
   "id": "faae102f",
   "metadata": {},
   "outputs": [
    {
     "data": {
      "text/plain": [
       "Index(['Name', 'Married', 'Insurance', 'Real Estate', 'Salary', 'Expenses'], dtype='object')"
      ]
     },
     "execution_count": 13,
     "metadata": {},
     "output_type": "execute_result"
    }
   ],
   "source": [
    "df.columns"
   ]
  },
  {
   "cell_type": "code",
   "execution_count": 20,
   "id": "7e653efd",
   "metadata": {},
   "outputs": [],
   "source": [
    "harsh_total = married(df['Name'].iloc[0]) + insurance(df['Married'].iloc[0]) + real_estate(df['Real Estate'].iloc[0]) + salary(df['Salary'].iloc[0]) + expenses(df['Expenses'].iloc[0])"
   ]
  },
  {
   "cell_type": "code",
   "execution_count": 21,
   "id": "a07d1055",
   "metadata": {},
   "outputs": [
    {
     "data": {
      "text/plain": [
       "33"
      ]
     },
     "execution_count": 21,
     "metadata": {},
     "output_type": "execute_result"
    }
   ],
   "source": [
    "harsh_total"
   ]
  },
  {
   "cell_type": "code",
   "execution_count": 22,
   "id": "64b259e7",
   "metadata": {},
   "outputs": [
    {
     "data": {
      "text/plain": [
       "'Good'"
      ]
     },
     "execution_count": 22,
     "metadata": {},
     "output_type": "execute_result"
    }
   ],
   "source": [
    "tally(harsh_total)"
   ]
  },
  {
   "cell_type": "code",
   "execution_count": 23,
   "id": "3d3ce6cc",
   "metadata": {},
   "outputs": [],
   "source": [
    "warsh_total = married(df['Name'].iloc[1]) + insurance(df['Married'].iloc[1]) + real_estate(df['Real Estate'].iloc[1]) + salary(df['Salary'].iloc[1]) + expenses(df['Expenses'].iloc[1])"
   ]
  },
  {
   "cell_type": "code",
   "execution_count": 24,
   "id": "7d818e6a",
   "metadata": {},
   "outputs": [
    {
     "data": {
      "text/plain": [
       "24"
      ]
     },
     "execution_count": 24,
     "metadata": {},
     "output_type": "execute_result"
    }
   ],
   "source": [
    "warsh_total"
   ]
  },
  {
   "cell_type": "code",
   "execution_count": 25,
   "id": "42f74313",
   "metadata": {},
   "outputs": [
    {
     "data": {
      "text/plain": [
       "'Good'"
      ]
     },
     "execution_count": 25,
     "metadata": {},
     "output_type": "execute_result"
    }
   ],
   "source": [
    "tally(warsh_total)"
   ]
  },
  {
   "cell_type": "code",
   "execution_count": null,
   "id": "48de4921",
   "metadata": {},
   "outputs": [],
   "source": []
  }
 ],
 "metadata": {
  "kernelspec": {
   "display_name": "Python 3",
   "language": "python",
   "name": "python3"
  },
  "language_info": {
   "codemirror_mode": {
    "name": "ipython",
    "version": 3
   },
   "file_extension": ".py",
   "mimetype": "text/x-python",
   "name": "python",
   "nbconvert_exporter": "python",
   "pygments_lexer": "ipython3",
   "version": "3.8.8"
  }
 },
 "nbformat": 4,
 "nbformat_minor": 5
}
