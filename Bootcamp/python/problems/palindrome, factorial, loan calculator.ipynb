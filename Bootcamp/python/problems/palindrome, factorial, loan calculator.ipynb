{
 "cells": [
  {
   "cell_type": "markdown",
   "id": "1a40521a",
   "metadata": {},
   "source": [
    "## Palindrome"
   ]
  },
  {
   "cell_type": "code",
   "execution_count": 94,
   "id": "b44241fb",
   "metadata": {},
   "outputs": [],
   "source": [
    "def palindrome(string):\n",
    "    if string.lower() == string[::-1].lower():\n",
    "        return True\n",
    "    else:\n",
    "        return False"
   ]
  },
  {
   "cell_type": "code",
   "execution_count": 95,
   "id": "d606c663",
   "metadata": {},
   "outputs": [
    {
     "data": {
      "text/plain": [
       "True"
      ]
     },
     "execution_count": 95,
     "metadata": {},
     "output_type": "execute_result"
    }
   ],
   "source": [
    "palindrome('Racecar')"
   ]
  },
  {
   "cell_type": "code",
   "execution_count": 96,
   "id": "618e7190",
   "metadata": {},
   "outputs": [
    {
     "data": {
      "text/plain": [
       "False"
      ]
     },
     "execution_count": 96,
     "metadata": {},
     "output_type": "execute_result"
    }
   ],
   "source": [
    "palindrome('Palindrome')"
   ]
  },
  {
   "cell_type": "markdown",
   "id": "5ef3fac4",
   "metadata": {},
   "source": [
    "## Factorial"
   ]
  },
  {
   "cell_type": "code",
   "execution_count": 97,
   "id": "fec03983",
   "metadata": {},
   "outputs": [],
   "source": [
    "def factorial(num):\n",
    "    if num > 0:\n",
    "        for x in range(1, num):\n",
    "            num = num * x\n",
    "        return num\n",
    "    elif num == 0:\n",
    "        num = 1\n",
    "        return num\n",
    "    else:\n",
    "        for x in range(1, num*-1):\n",
    "            num = num * x\n",
    "        return num  "
   ]
  },
  {
   "cell_type": "code",
   "execution_count": 106,
   "id": "479292da",
   "metadata": {
    "scrolled": true
   },
   "outputs": [
    {
     "data": {
      "text/plain": [
       "5040"
      ]
     },
     "execution_count": 106,
     "metadata": {},
     "output_type": "execute_result"
    }
   ],
   "source": [
    "factorial(7)"
   ]
  },
  {
   "cell_type": "markdown",
   "id": "e5d8db52",
   "metadata": {},
   "source": [
    "## Loan Calculator"
   ]
  },
  {
   "cell_type": "markdown",
   "id": "6cb31a9f",
   "metadata": {},
   "source": [
    "- Formula for EMI - p * r * (1+r)n/((1+r)n-1)\n",
    "- p = Principal or Loan Amount\n",
    "- r = Interest Rate Per Month\n",
    "- n = Number of monthly installments\n",
    "- years in education (simple interest), years outside education (compound interest), years in work (compound interest)"
   ]
  },
  {
   "cell_type": "code",
   "execution_count": 136,
   "id": "991e365d",
   "metadata": {},
   "outputs": [
    {
     "data": {
      "text/plain": [
       "4200.0"
      ]
     },
     "execution_count": 136,
     "metadata": {},
     "output_type": "execute_result"
    }
   ],
   "source": [
    "simple_interest(28000, .05, 3)"
   ]
  },
  {
   "cell_type": "code",
   "execution_count": 152,
   "id": "16faf024",
   "metadata": {},
   "outputs": [
    {
     "data": {
      "text/plain": [
       "1403.0"
      ]
     },
     "execution_count": 152,
     "metadata": {},
     "output_type": "execute_result"
    }
   ],
   "source": [
    "simple_interest(28000, .05, 3)"
   ]
  },
  {
   "cell_type": "code",
   "execution_count": 151,
   "id": "f4274547",
   "metadata": {},
   "outputs": [],
   "source": [
    "def simple_interest(amount, rate, years):\n",
    "    amount = amount * rate + years\n",
    "    return amount"
   ]
  },
  {
   "cell_type": "code",
   "execution_count": 143,
   "id": "51570575",
   "metadata": {},
   "outputs": [],
   "source": [
    "def compound_interest(amount, rate, years):\n",
    "    amount = amount + (amount * rate * years)\n",
    "    return amount"
   ]
  },
  {
   "cell_type": "code",
   "execution_count": null,
   "id": "2c055aa5",
   "metadata": {},
   "outputs": [],
   "source": [
    "def calculate_debt(simple_interest, compound_interest):\n",
    "    "
   ]
  },
  {
   "cell_type": "code",
   "execution_count": 144,
   "id": "d1045810",
   "metadata": {
    "scrolled": false
   },
   "outputs": [
    {
     "name": "stdout",
     "output_type": "stream",
     "text": [
      "How many years did you study in university: 3\n",
      "When would you like to pay off your loan: 7\n",
      "How much did you loan from the university: 28000\n",
      "4200.0\n",
      "5040.0\n"
     ]
    }
   ],
   "source": [
    "while True:\n",
    "    try:\n",
    "        years_in_uni = int(input('How many years did you study in university: '))\n",
    "        break\n",
    "    except:\n",
    "        print('Please input years amount (int)')\n",
    "    \n",
    "while True:\n",
    "    try:\n",
    "        time_period = int(input('When would you like to pay off your loan: '))\n",
    "        break\n",
    "    except:\n",
    "        print('Please input years amount (int)')\n",
    "        \n",
    "while True:\n",
    "    try:\n",
    "        loan_amount = int(input('How much did you loan from the university: '))\n",
    "        break\n",
    "    except:\n",
    "        print('Please input years amount (int)')\n",
    "\n",
    "        \n",
    "years_out_uni = time_period - years_in_uni\n",
    "\n",
    "        \n",
    "# fixed uni rate\n",
    "rate = 0.05\n",
    "        \n",
    "# calculation\n",
    "debt_after_3_years = simple_interest(loan_amount, rate, years_in_uni)\n",
    "print(debt_after_3_years)\n",
    "\n",
    "print(compound_interest(debt_after_3_years, rate, years_out_uni))\n",
    "        "
   ]
  },
  {
   "cell_type": "code",
   "execution_count": 140,
   "id": "baf97f2e",
   "metadata": {},
   "outputs": [
    {
     "data": {
      "text/plain": [
       "34034.175"
      ]
     },
     "execution_count": 140,
     "metadata": {},
     "output_type": "execute_result"
    }
   ],
   "source": [
    "compound_interest(28000, .05, 4)"
   ]
  },
  {
   "cell_type": "code",
   "execution_count": 90,
   "id": "3fc941c1",
   "metadata": {},
   "outputs": [],
   "source": [
    "diff_in_years = years_out_uni - years_in_uni"
   ]
  },
  {
   "cell_type": "code",
   "execution_count": 91,
   "id": "effe80bb",
   "metadata": {},
   "outputs": [
    {
     "data": {
      "text/plain": [
       "7"
      ]
     },
     "execution_count": 91,
     "metadata": {},
     "output_type": "execute_result"
    }
   ],
   "source": [
    "diff_in_years"
   ]
  },
  {
   "cell_type": "code",
   "execution_count": null,
   "id": "e5f4ad24",
   "metadata": {},
   "outputs": [],
   "source": []
  },
  {
   "cell_type": "code",
   "execution_count": 93,
   "id": "39eb4b8d",
   "metadata": {},
   "outputs": [
    {
     "data": {
      "text/plain": [
       "10350.0"
      ]
     },
     "execution_count": 93,
     "metadata": {},
     "output_type": "execute_result"
    }
   ],
   "source": [
    "simple_interest(, 0.05, 3) + compound_interest()"
   ]
  },
  {
   "cell_type": "code",
   "execution_count": null,
   "id": "ab6f8622",
   "metadata": {},
   "outputs": [],
   "source": []
  },
  {
   "cell_type": "code",
   "execution_count": null,
   "id": "f48daef6",
   "metadata": {},
   "outputs": [],
   "source": []
  }
 ],
 "metadata": {
  "kernelspec": {
   "display_name": "Python 3",
   "language": "python",
   "name": "python3"
  },
  "language_info": {
   "codemirror_mode": {
    "name": "ipython",
    "version": 3
   },
   "file_extension": ".py",
   "mimetype": "text/x-python",
   "name": "python",
   "nbconvert_exporter": "python",
   "pygments_lexer": "ipython3",
   "version": "3.8.8"
  }
 },
 "nbformat": 4,
 "nbformat_minor": 5
}
