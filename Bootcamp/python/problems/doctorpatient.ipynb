{
 "cells": [
  {
   "cell_type": "markdown",
   "id": "4fb1fd62",
   "metadata": {},
   "source": [
    "Doctor:\n",
    "\n",
    "- How many available slots\n",
    "- cancellation rate (how many been cancelled)\n",
    "- no of booking made last 5 days\n",
    "\n",
    "Patient:\n",
    "\n",
    "- available slots\n",
    "- book a slot\n",
    "- can cancel"
   ]
  },
  {
   "cell_type": "code",
   "execution_count": 17,
   "id": "8e24d819",
   "metadata": {},
   "outputs": [],
   "source": [
    "def validation():\n",
    "    while True:\n",
    "        try:\n",
    "            print('Select from the following choices:')\n",
    "            print('     1 for doctor')\n",
    "            print('     2 for patient')\n",
    "            \n",
    "            indentification = int(input('Select: '))\n",
    "            if indentification == 1 or indentification == 2:\n",
    "                break\n",
    "            else:\n",
    "                print('Please select a valid input!\\n')\n",
    "        except:\n",
    "            print('Please input either 1 or 2!\\n')\n",
    "    return indentification"
   ]
  },
  {
   "cell_type": "code",
   "execution_count": 18,
   "id": "8ba6f6fc",
   "metadata": {},
   "outputs": [],
   "source": [
    "# appointment slots\n",
    "days = ['monday', 'tuesday', 'wednesday', 'thursday', 'friday']\n",
    "times = ['10:00', '12:00', '14:00', '16:00']\n",
    "\n",
    "appointments = {\n",
    "     days[0]: times,\n",
    "     days[1]: times,\n",
    "     days[2]: times,\n",
    "     days[3]: times,\n",
    "     days[4]: times\n",
    "}"
   ]
  },
  {
   "cell_type": "code",
   "execution_count": 19,
   "id": "926723c8",
   "metadata": {
    "scrolled": true
   },
   "outputs": [
    {
     "data": {
      "text/plain": [
       "{'monday': ['10:00', '12:00', '14:00', '16:00'],\n",
       " 'tuesday': ['10:00', '12:00', '14:00', '16:00'],\n",
       " 'wednesday': ['10:00', '12:00', '14:00', '16:00'],\n",
       " 'thursday': ['10:00', '12:00', '14:00', '16:00'],\n",
       " 'friday': ['10:00', '12:00', '14:00', '16:00']}"
      ]
     },
     "execution_count": 19,
     "metadata": {},
     "output_type": "execute_result"
    }
   ],
   "source": [
    "appointments"
   ]
  },
  {
   "cell_type": "code",
   "execution_count": 64,
   "id": "e7d62940",
   "metadata": {},
   "outputs": [
    {
     "data": {
      "text/html": [
       "<div>\n",
       "<style scoped>\n",
       "    .dataframe tbody tr th:only-of-type {\n",
       "        vertical-align: middle;\n",
       "    }\n",
       "\n",
       "    .dataframe tbody tr th {\n",
       "        vertical-align: top;\n",
       "    }\n",
       "\n",
       "    .dataframe thead th {\n",
       "        text-align: right;\n",
       "    }\n",
       "</style>\n",
       "<table border=\"1\" class=\"dataframe\">\n",
       "  <thead>\n",
       "    <tr style=\"text-align: right;\">\n",
       "      <th></th>\n",
       "      <th>monday</th>\n",
       "      <th>tuesday</th>\n",
       "      <th>wednesday</th>\n",
       "      <th>thursday</th>\n",
       "      <th>friday</th>\n",
       "    </tr>\n",
       "  </thead>\n",
       "  <tbody>\n",
       "    <tr>\n",
       "      <th>0</th>\n",
       "      <td>10:00</td>\n",
       "      <td>10:00</td>\n",
       "      <td>10:00</td>\n",
       "      <td>10:00</td>\n",
       "      <td>10:00</td>\n",
       "    </tr>\n",
       "    <tr>\n",
       "      <th>1</th>\n",
       "      <td>12:00</td>\n",
       "      <td>12:00</td>\n",
       "      <td>12:00</td>\n",
       "      <td>12:00</td>\n",
       "      <td>12:00</td>\n",
       "    </tr>\n",
       "    <tr>\n",
       "      <th>2</th>\n",
       "      <td>14:00</td>\n",
       "      <td>14:00</td>\n",
       "      <td>14:00</td>\n",
       "      <td>14:00</td>\n",
       "      <td>14:00</td>\n",
       "    </tr>\n",
       "    <tr>\n",
       "      <th>3</th>\n",
       "      <td>16:00</td>\n",
       "      <td>16:00</td>\n",
       "      <td>16:00</td>\n",
       "      <td>16:00</td>\n",
       "      <td>16:00</td>\n",
       "    </tr>\n",
       "  </tbody>\n",
       "</table>\n",
       "</div>"
      ],
      "text/plain": [
       "  monday tuesday wednesday thursday friday\n",
       "0  10:00   10:00     10:00    10:00  10:00\n",
       "1  12:00   12:00     12:00    12:00  12:00\n",
       "2  14:00   14:00     14:00    14:00  14:00\n",
       "3  16:00   16:00     16:00    16:00  16:00"
      ]
     },
     "execution_count": 64,
     "metadata": {},
     "output_type": "execute_result"
    }
   ],
   "source": [
    "df = pd.DataFrame(appointments)\n",
    "df"
   ]
  },
  {
   "cell_type": "code",
   "execution_count": 20,
   "id": "7899ad66",
   "metadata": {},
   "outputs": [],
   "source": [
    "# db for patients\n",
    "db = {\n",
    "    \n",
    "}"
   ]
  },
  {
   "cell_type": "code",
   "execution_count": 34,
   "id": "25381797",
   "metadata": {},
   "outputs": [],
   "source": [
    "def doctor():\n",
    "    print('--------- DOCTORS OPTIONS---------')\n",
    "    print('Select from the following options:')\n",
    "    print('     1 for number of available appointments')\n",
    "    print('     2 for number of booked appointments')\n",
    "    print('     3 for number of cancelled appointments')\n",
    "    \n",
    "    option = select_options()\n",
    "    \n",
    "    return option"
   ]
  },
  {
   "cell_type": "code",
   "execution_count": 22,
   "id": "dbb9aa8a",
   "metadata": {},
   "outputs": [],
   "source": [
    "def patient():\n",
    "    print('--------- PATIENTS OPTIONS---------')\n",
    "    print('Select from the following options:')\n",
    "    print('     1 for appointments avaiable')\n",
    "    print('     2 to book an appointment')\n",
    "    print('     3 to cancel an appointment')\n",
    "    \n",
    "    select_options()\n",
    "    \n",
    "    pass"
   ]
  },
  {
   "cell_type": "code",
   "execution_count": 23,
   "id": "1c1d5c19",
   "metadata": {},
   "outputs": [],
   "source": [
    "def select_options():\n",
    "    while True:\n",
    "        try:\n",
    "            indentification = int(input('Select: '))\n",
    "            if indentification == 1 or indentification == 2 or indentification == 3:\n",
    "                break\n",
    "            else:\n",
    "                print('Please select a valid input!\\n')\n",
    "        except:\n",
    "            print('Please input either 1, 2 or 3!\\n')\n",
    "    return indentification"
   ]
  },
  {
   "cell_type": "code",
   "execution_count": 77,
   "id": "db9d56e9",
   "metadata": {},
   "outputs": [
    {
     "name": "stdout",
     "output_type": "stream",
     "text": [
      "Select from the following choices:\n",
      "     1 for doctor\n",
      "     2 for patient\n",
      "Select: 1\n",
      "\n",
      "\n",
      "--------- DOCTORS OPTIONS---------\n",
      "Select from the following options:\n",
      "     1 for number of available appointments\n",
      "     2 for number of booked appointments\n",
      "     3 for number of cancelled appointments\n",
      "Select: 3\n"
     ]
    }
   ],
   "source": [
    "'''-------------------- MAIN --------------------'''\n",
    "identification = validation()\n",
    "\n",
    "if identification == 1:\n",
    "    # run doctor function\n",
    "    print('\\n')\n",
    "    doctors_option = doctor()\n",
    "    \n",
    "    # functionality of doctors part\n",
    "    if doctors_option == 1:\n",
    "        print('\\n')\n",
    "        print(df)\n",
    "        print(f'\\nThere are {df.shape[0]*df.shape[1]} appointments available')\n",
    "    \n",
    "    \n",
    "else:\n",
    "    # run patient function\n",
    "    print('\\n')\n",
    "    patients_options = patient()"
   ]
  },
  {
   "cell_type": "code",
   "execution_count": null,
   "id": "2d33261f",
   "metadata": {},
   "outputs": [],
   "source": []
  }
 ],
 "metadata": {
  "kernelspec": {
   "display_name": "Python 3",
   "language": "python",
   "name": "python3"
  },
  "language_info": {
   "codemirror_mode": {
    "name": "ipython",
    "version": 3
   },
   "file_extension": ".py",
   "mimetype": "text/x-python",
   "name": "python",
   "nbconvert_exporter": "python",
   "pygments_lexer": "ipython3",
   "version": "3.8.8"
  }
 },
 "nbformat": 4,
 "nbformat_minor": 5
}
