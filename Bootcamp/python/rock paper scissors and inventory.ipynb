{
 "cells": [
  {
   "cell_type": "markdown",
   "id": "6038526d",
   "metadata": {},
   "source": [
    "Two player rock paper scissors.\n",
    "\n",
    "A) pick 1 player or 2 players\n",
    "\n",
    "1. Ask each player if they want to be rock paper or scissors\n",
    "2. do if logic to determine win lose draw\n"
   ]
  },
  {
   "cell_type": "markdown",
   "id": "cae29270",
   "metadata": {},
   "source": [
    "# Rock Paper Scissors"
   ]
  },
  {
   "cell_type": "code",
   "execution_count": 14,
   "id": "41e59445",
   "metadata": {},
   "outputs": [],
   "source": [
    "import random"
   ]
  },
  {
   "cell_type": "code",
   "execution_count": 15,
   "id": "f3b25940",
   "metadata": {},
   "outputs": [],
   "source": [
    "def determining_players():\n",
    "    while True:\n",
    "        user_input = input('How many players (either 1 or 2): ')\n",
    "        try:\n",
    "            if int(user_input) == 1:\n",
    "                number_of_players = 1\n",
    "                print('You are playing against computer')\n",
    "                break\n",
    "            elif int(user_input) == 2:\n",
    "                number_of_players = 2\n",
    "                print('You are playing against player number 2')\n",
    "                break\n",
    "            else:\n",
    "                print('Enter a valid number! Either 1 or 2')\n",
    "        except:\n",
    "            print('Invalid input. Either 1 or 2!')\n",
    "    return number_of_players"
   ]
  },
  {
   "cell_type": "code",
   "execution_count": 16,
   "id": "9df1d44e",
   "metadata": {},
   "outputs": [],
   "source": [
    "def two_player_game():\n",
    "    while True:\n",
    "        # ask player 1 if they want rock, paper or scissors\n",
    "        player_1 = input('Player 1: Rock, Paper or Scissors: ')\n",
    "        player_1 = player_1.lower()\n",
    "\n",
    "        # ask player 2 if they want rock, paper or scissors\n",
    "        player_2 = input('Player 2: Rock, Paper or Scissors: ')\n",
    "        player_2 = player_2.lower()\n",
    "\n",
    "        # compare player 1 input with player 2 input\n",
    "        if (player_1 == 'rock') and (player_2 =='paper'):\n",
    "            print('Player 2 wins!')\n",
    "            break\n",
    "        elif (player_1 == 'paper') and (player_2 == 'rock'):\n",
    "            print('Player 1 wins!')\n",
    "            break\n",
    "\n",
    "        elif (player_1 == 'paper') and (player_2 == 'scissors'):\n",
    "            print('Player 2 wins!')\n",
    "            break\n",
    "        elif (player_1 == 'scissors') and (player_2 == 'paper'):\n",
    "            print('Player 1 wins!')\n",
    "            break\n",
    "\n",
    "        elif (player_1 == 'rock') and (player_2 == 'scissors'):\n",
    "            print('Player 1 wins!')\n",
    "            break\n",
    "        elif (player_1 == 'scissors') and (player_2 == 'rock'):\n",
    "            print('Player 2 wins!')\n",
    "            break\n",
    "\n",
    "        elif (player_1 == player_2):\n",
    "            print('Its a tie!')\n",
    "        else:\n",
    "            print(\"Invalid input! Please pick either 'rock', 'paper' or 'scissors': \")"
   ]
  },
  {
   "cell_type": "code",
   "execution_count": 17,
   "id": "7f93f399",
   "metadata": {},
   "outputs": [],
   "source": [
    "def one_player_game():\n",
    "     while True:\n",
    "        # ask player 1 if they want rock, paper or scissors\n",
    "        player_1 = input('Player 1: Rock, Paper or Scissors: ')\n",
    "        player_1 = player_1.lower()\n",
    "        \n",
    "        # list of options for computer \n",
    "        computer_options = ['rock', 'paper', 'scissors']\n",
    "        \n",
    "        # get computer input\n",
    "        number = random.randint(0,2) # assign computer to either 0, 1 or 2\n",
    "        computer = computer_options[number]\n",
    "\n",
    "        # compare player 1 input with player 2 input\n",
    "        if (player_1 == 'rock') and (computer =='paper'):\n",
    "            print(f'The computer chose {computer} therefore...')\n",
    "            print('Computer wins!')\n",
    "            break\n",
    "        elif (player_1 == 'paper') and (computer == 'rock'):\n",
    "            print(f'The computer chose {computer} therefore...')\n",
    "            print('Player 1 wins!')\n",
    "            break\n",
    "\n",
    "        elif (player_1 == 'paper') and (computer == 'scissors'):\n",
    "            print(f'The computer chose {computer} therefore...')\n",
    "            print('Computer wins!')\n",
    "            break\n",
    "        elif (player_1 == 'scissors') and (computer == 'paper'):\n",
    "            print(f'The computer chose {computer} therefore...')\n",
    "            print('Player 1 wins!')\n",
    "            break\n",
    "\n",
    "        elif (player_1 == 'rock') and (computer == 'scissors'):\n",
    "            print(f'The computer chose {computer} therefore...')\n",
    "            print('Player 1 wins!')\n",
    "            break\n",
    "        elif (player_1 == 'scissors') and (computer == 'rock'):\n",
    "            print(f'The computer chose {computer} therefore...')\n",
    "            print('Computer wins!')\n",
    "            break\n",
    "\n",
    "        elif (player_1 == computer):\n",
    "            print(f'The computer chose {computer} therefore...')\n",
    "            print('Its a tie!')\n",
    "            break\n",
    "        else:\n",
    "            print(\"Invalid input! Please pick either 'rock', 'paper' or 'scissors': \")"
   ]
  },
  {
   "cell_type": "code",
   "execution_count": 19,
   "id": "e03197b6",
   "metadata": {},
   "outputs": [
    {
     "name": "stdout",
     "output_type": "stream",
     "text": [
      "How many players (either 1 or 2): 2\n",
      "You are playing against player number 2\n",
      "Player 1: Rock, Paper or Scissors: rock\n",
      "Player 2: Rock, Paper or Scissors: paper\n",
      "Player 2 wins!\n"
     ]
    }
   ],
   "source": [
    "''' ----------------------------------------------- MAIN -----------------------------------------------'''\n",
    "# Determine if it is a 1 player or 2 player game\n",
    "number_of_players = determining_players()\n",
    "\n",
    "if number_of_players == 1:\n",
    "    one_player_game()\n",
    "else:\n",
    "    two_player_game()"
   ]
  },
  {
   "cell_type": "markdown",
   "id": "104b7aec",
   "metadata": {},
   "source": [
    "# Inventory"
   ]
  },
  {
   "cell_type": "code",
   "execution_count": 20,
   "id": "37abf17e",
   "metadata": {},
   "outputs": [],
   "source": [
    "db = {\n",
    "    'book': 3,\n",
    "    'tv': 10,\n",
    "    'computer': 141\n",
    "}"
   ]
  },
  {
   "cell_type": "code",
   "execution_count": 21,
   "id": "706641b2",
   "metadata": {},
   "outputs": [],
   "source": [
    "def pick_item():\n",
    "    while True:\n",
    "        print('What item do you want to buy from the following list:')\n",
    "        print('    Press 1 for a book')\n",
    "        print('    Press 2 for a tv')\n",
    "        print('    Press 3 for a computer')\n",
    "        user_input = input()\n",
    "        try:\n",
    "            if int(user_input) == 1:\n",
    "                item = 'book'\n",
    "                break\n",
    "            elif int(user_input) == 2:\n",
    "                item = 'tv'\n",
    "                break\n",
    "            elif int(user_input) == 3:\n",
    "                item = 'computer'\n",
    "                break\n",
    "            else:\n",
    "                print('Pick a number from the list!')\n",
    "        except:\n",
    "            print('Invalid input! Choose from the list')\n",
    "    return item"
   ]
  },
  {
   "cell_type": "code",
   "execution_count": 22,
   "id": "a431b065",
   "metadata": {},
   "outputs": [],
   "source": [
    "def number_of_item(item):\n",
    "    while True:\n",
    "        print(f\"How many {item}'s do you want: \")\n",
    "        try:\n",
    "            number = int(input())\n",
    "            break\n",
    "        except:\n",
    "            print('Invalid input! Please choose a number.')\n",
    "    return number"
   ]
  },
  {
   "cell_type": "code",
   "execution_count": 23,
   "id": "65c1c198",
   "metadata": {},
   "outputs": [],
   "source": [
    "def sufficient_stock(number):\n",
    "    if number > db[item]:\n",
    "        if number > 0: \n",
    "            print(f'We only have {db[item]} in stock, please pick a sufficient number.')\n",
    "        else: \n",
    "            print('Sorry, we are out of stock!')\n",
    "        return False\n",
    "    else:\n",
    "        print(f\"You have chosen {number} number of {item}'s.\")\n",
    "        db[item] = db[item] - number\n",
    "        return True"
   ]
  },
  {
   "cell_type": "code",
   "execution_count": 24,
   "id": "8d925d29",
   "metadata": {},
   "outputs": [
    {
     "name": "stdout",
     "output_type": "stream",
     "text": [
      "What item do you want to buy from the following list:\n",
      "    Press 1 for a book\n",
      "    Press 2 for a tv\n",
      "    Press 3 for a computer\n",
      "1\n",
      "How many book's do you want: \n",
      "2\n",
      "You have chosen 2 number of book's.\n"
     ]
    }
   ],
   "source": [
    "''' ----------------------------------------------- MAIN -----------------------------------------------'''\n",
    "# pick item for inventory\n",
    "item = pick_item()\n",
    "\n",
    "while True:\n",
    "    # pick number of items from inventory\n",
    "    number = number_of_item(item)\n",
    "\n",
    "    # determine if there is sufficient stock\n",
    "    stock_level = sufficient_stock(number)\n",
    "    \n",
    "    if stock_level == True:\n",
    "        break\n",
    "    else:\n",
    "        continue"
   ]
  },
  {
   "cell_type": "code",
   "execution_count": 25,
   "id": "c15c02d0",
   "metadata": {},
   "outputs": [
    {
     "data": {
      "text/plain": [
       "{'book': 1, 'tv': 10, 'computer': 141}"
      ]
     },
     "execution_count": 25,
     "metadata": {},
     "output_type": "execute_result"
    }
   ],
   "source": [
    "db"
   ]
  }
 ],
 "metadata": {
  "kernelspec": {
   "display_name": "Python 3",
   "language": "python",
   "name": "python3"
  },
  "language_info": {
   "codemirror_mode": {
    "name": "ipython",
    "version": 3
   },
   "file_extension": ".py",
   "mimetype": "text/x-python",
   "name": "python",
   "nbconvert_exporter": "python",
   "pygments_lexer": "ipython3",
   "version": "3.8.8"
  }
 },
 "nbformat": 4,
 "nbformat_minor": 5
}
