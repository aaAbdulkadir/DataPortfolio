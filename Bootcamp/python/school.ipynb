{
 "cells": [
  {
   "cell_type": "code",
   "execution_count": 1,
   "id": "e5292282",
   "metadata": {},
   "outputs": [],
   "source": [
    "import pandas as pd"
   ]
  },
  {
   "cell_type": "code",
   "execution_count": 2,
   "id": "874d8e5e",
   "metadata": {},
   "outputs": [],
   "source": [
    "# database\n",
    "students = {\n",
    "    'ID': [143, 232, 163, 136, 168, 12],\n",
    "    'First Name': ['Wayne', 'Michael', 'Cristiano', 'Lionel', 'Kylian', 'Pep'],\n",
    "    'Last Name': ['Rooney', 'Don', 'Ronaldo', 'Messi', 'Mbappe', 'Guordiola'],\n",
    "    'Role': ['Student', 'Student', 'Student', 'Student', 'Student', 'Teacher']\n",
    "}\n",
    "\n",
    "database = pd.DataFrame(students)"
   ]
  },
  {
   "cell_type": "code",
   "execution_count": 3,
   "id": "055d798d",
   "metadata": {},
   "outputs": [
    {
     "data": {
      "text/html": [
       "<div>\n",
       "<style scoped>\n",
       "    .dataframe tbody tr th:only-of-type {\n",
       "        vertical-align: middle;\n",
       "    }\n",
       "\n",
       "    .dataframe tbody tr th {\n",
       "        vertical-align: top;\n",
       "    }\n",
       "\n",
       "    .dataframe thead th {\n",
       "        text-align: right;\n",
       "    }\n",
       "</style>\n",
       "<table border=\"1\" class=\"dataframe\">\n",
       "  <thead>\n",
       "    <tr style=\"text-align: right;\">\n",
       "      <th></th>\n",
       "      <th>ID</th>\n",
       "      <th>First Name</th>\n",
       "      <th>Last Name</th>\n",
       "      <th>Role</th>\n",
       "    </tr>\n",
       "  </thead>\n",
       "  <tbody>\n",
       "    <tr>\n",
       "      <th>0</th>\n",
       "      <td>143</td>\n",
       "      <td>Wayne</td>\n",
       "      <td>Rooney</td>\n",
       "      <td>Student</td>\n",
       "    </tr>\n",
       "    <tr>\n",
       "      <th>1</th>\n",
       "      <td>232</td>\n",
       "      <td>Michael</td>\n",
       "      <td>Don</td>\n",
       "      <td>Student</td>\n",
       "    </tr>\n",
       "    <tr>\n",
       "      <th>2</th>\n",
       "      <td>163</td>\n",
       "      <td>Cristiano</td>\n",
       "      <td>Ronaldo</td>\n",
       "      <td>Student</td>\n",
       "    </tr>\n",
       "    <tr>\n",
       "      <th>3</th>\n",
       "      <td>136</td>\n",
       "      <td>Lionel</td>\n",
       "      <td>Messi</td>\n",
       "      <td>Student</td>\n",
       "    </tr>\n",
       "    <tr>\n",
       "      <th>4</th>\n",
       "      <td>168</td>\n",
       "      <td>Kylian</td>\n",
       "      <td>Mbappe</td>\n",
       "      <td>Student</td>\n",
       "    </tr>\n",
       "    <tr>\n",
       "      <th>5</th>\n",
       "      <td>12</td>\n",
       "      <td>Pep</td>\n",
       "      <td>Guordiola</td>\n",
       "      <td>Teacher</td>\n",
       "    </tr>\n",
       "  </tbody>\n",
       "</table>\n",
       "</div>"
      ],
      "text/plain": [
       "    ID First Name  Last Name     Role\n",
       "0  143      Wayne     Rooney  Student\n",
       "1  232    Michael        Don  Student\n",
       "2  163  Cristiano    Ronaldo  Student\n",
       "3  136     Lionel      Messi  Student\n",
       "4  168     Kylian     Mbappe  Student\n",
       "5   12        Pep  Guordiola  Teacher"
      ]
     },
     "execution_count": 3,
     "metadata": {},
     "output_type": "execute_result"
    }
   ],
   "source": [
    "database"
   ]
  },
  {
   "cell_type": "code",
   "execution_count": 4,
   "id": "650f6f5f",
   "metadata": {},
   "outputs": [],
   "source": [
    "# books for libary\n",
    "libraries = {\n",
    "    'Genre': ['Kids', 'Horror', 'Romance', 'Educational'],\n",
    "    'Number of books available':[23, 45, 62, 74],\n",
    "    'Number of books on loan': [13, 46, 62, 71]\n",
    "}\n",
    "\n",
    "library_df = pd.DataFrame(libraries)"
   ]
  },
  {
   "cell_type": "code",
   "execution_count": 5,
   "id": "9a14bf63",
   "metadata": {},
   "outputs": [],
   "source": [
    "library_df['Total Number of books'] = library_df['Number of books available'] + library_df['Number of books on loan']"
   ]
  },
  {
   "cell_type": "code",
   "execution_count": 6,
   "id": "6d312481",
   "metadata": {},
   "outputs": [
    {
     "data": {
      "text/html": [
       "<div>\n",
       "<style scoped>\n",
       "    .dataframe tbody tr th:only-of-type {\n",
       "        vertical-align: middle;\n",
       "    }\n",
       "\n",
       "    .dataframe tbody tr th {\n",
       "        vertical-align: top;\n",
       "    }\n",
       "\n",
       "    .dataframe thead th {\n",
       "        text-align: right;\n",
       "    }\n",
       "</style>\n",
       "<table border=\"1\" class=\"dataframe\">\n",
       "  <thead>\n",
       "    <tr style=\"text-align: right;\">\n",
       "      <th></th>\n",
       "      <th>Genre</th>\n",
       "      <th>Number of books available</th>\n",
       "      <th>Number of books on loan</th>\n",
       "      <th>Total Number of books</th>\n",
       "    </tr>\n",
       "  </thead>\n",
       "  <tbody>\n",
       "    <tr>\n",
       "      <th>0</th>\n",
       "      <td>Kids</td>\n",
       "      <td>23</td>\n",
       "      <td>13</td>\n",
       "      <td>36</td>\n",
       "    </tr>\n",
       "    <tr>\n",
       "      <th>1</th>\n",
       "      <td>Horror</td>\n",
       "      <td>45</td>\n",
       "      <td>46</td>\n",
       "      <td>91</td>\n",
       "    </tr>\n",
       "    <tr>\n",
       "      <th>2</th>\n",
       "      <td>Romance</td>\n",
       "      <td>62</td>\n",
       "      <td>62</td>\n",
       "      <td>124</td>\n",
       "    </tr>\n",
       "    <tr>\n",
       "      <th>3</th>\n",
       "      <td>Educational</td>\n",
       "      <td>74</td>\n",
       "      <td>71</td>\n",
       "      <td>145</td>\n",
       "    </tr>\n",
       "  </tbody>\n",
       "</table>\n",
       "</div>"
      ],
      "text/plain": [
       "         Genre  Number of books available  Number of books on loan  \\\n",
       "0         Kids                         23                       13   \n",
       "1       Horror                         45                       46   \n",
       "2      Romance                         62                       62   \n",
       "3  Educational                         74                       71   \n",
       "\n",
       "   Total Number of books  \n",
       "0                     36  \n",
       "1                     91  \n",
       "2                    124  \n",
       "3                    145  "
      ]
     },
     "execution_count": 6,
     "metadata": {},
     "output_type": "execute_result"
    }
   ],
   "source": [
    "library_df"
   ]
  },
  {
   "cell_type": "code",
   "execution_count": 7,
   "id": "137879d3",
   "metadata": {},
   "outputs": [],
   "source": [
    "def pick_department():\n",
    "    while True:\n",
    "        try:\n",
    "            print('========================================')\n",
    "            print('What department do you want to access:\\n')\n",
    "            print('     1 for library')\n",
    "            print('     2 for sports')\n",
    "            print('     3 HR')\n",
    "            print('========================================')\n",
    "            \n",
    "            department = int(input('Select: '))\n",
    "            if department == 1 or department == 2 or department == 3:\n",
    "                break\n",
    "            else:\n",
    "                print('Please select a valid input!\\n')\n",
    "        except:\n",
    "            print('Please input either 1, 2 or 3!\\n')\n",
    "    return department"
   ]
  },
  {
   "cell_type": "code",
   "execution_count": 8,
   "id": "05caf9ba",
   "metadata": {},
   "outputs": [],
   "source": [
    "def verification():\n",
    "    print('========================================')\n",
    "    id_number = int(input('Input ID Number: '))\n",
    "    print('========================================')\n",
    "    \n",
    "    # gives row of person\n",
    "    row = database[database['ID'] == 12].reset_index(drop=True)\n",
    "    \n",
    "    # if person is student\n",
    "    if row.at[0,'Role'] == 'Student':\n",
    "        return 'Student'\n",
    "    # if person is teacher\n",
    "    else:\n",
    "        return 'Teacher'"
   ]
  },
  {
   "cell_type": "code",
   "execution_count": 9,
   "id": "69a18e9f",
   "metadata": {},
   "outputs": [],
   "source": [
    "def library():\n",
    "    # ask how many books do you want\n",
    "    print('========================================')\n",
    "    print('THIS IS THE LIBRARY DEPARTMENT.')\n",
    "    print('========================================')\n",
    "    \n",
    "    if role == 'Student':\n",
    "        \n",
    "        # menu for student\n",
    "        options = library_options()\n",
    "        \n",
    "    elif role == 'Teacher':\n",
    "        \n",
    "        # menu for student\n",
    "        options = library_options()"
   ]
  },
  {
   "cell_type": "code",
   "execution_count": 10,
   "id": "325a1749",
   "metadata": {},
   "outputs": [],
   "source": [
    "def library_options():\n",
    "    while True:\n",
    "        try:\n",
    "            # menu for student\n",
    "            print('Libary Options:\\n')\n",
    "            print('    1 to see collection of books')\n",
    "            print('    2 to borrow a book')\n",
    "            print('    3 to return a book')\n",
    "            print('    4 to return to main menu')\n",
    "            \n",
    "            print('========================================')\n",
    "            \n",
    "            options = int(input('Select: '))\n",
    "            if options == 1 or options == 2 or options == 3 or options == 4:\n",
    "                break\n",
    "            else:\n",
    "                print('Please select a valid input!\\n')\n",
    "        except:\n",
    "            print('Please input either 1, 2, 3 or 4!\\n')\n",
    "    return options"
   ]
  },
  {
   "cell_type": "code",
   "execution_count": 11,
   "id": "9d5df995",
   "metadata": {},
   "outputs": [],
   "source": [
    "def sports():\n",
    "    pass"
   ]
  },
  {
   "cell_type": "code",
   "execution_count": 12,
   "id": "bc1ea2ae",
   "metadata": {},
   "outputs": [],
   "source": [
    "def HR():\n",
    "    pass"
   ]
  },
  {
   "cell_type": "code",
   "execution_count": 13,
   "id": "4caa0216",
   "metadata": {},
   "outputs": [
    {
     "name": "stdout",
     "output_type": "stream",
     "text": [
      "========================================\n",
      "What department do you want to access:\n",
      "\n",
      "     1 for library\n",
      "     2 for sports\n",
      "     3 HR\n",
      "========================================\n",
      "Select: 1\n",
      "========================================\n",
      "Input ID Number: 12\n",
      "========================================\n",
      "========================================\n",
      "THIS IS THE LIBRARY DEPARTMENT.\n",
      "========================================\n",
      "Libary Options:\n",
      "\n",
      "    1 to see collection of books\n",
      "    2 to borrow a book\n",
      "    3 to return a book\n",
      "    4 to return to main menu\n",
      "========================================\n",
      "Select: 1\n"
     ]
    }
   ],
   "source": [
    "'''----- MAIN -----'''\n",
    "department = pick_department()\n",
    "\n",
    "role = verification()\n",
    "\n",
    "if department == 1:\n",
    "    library()\n",
    "else:\n",
    "    pass\n",
    "    "
   ]
  },
  {
   "cell_type": "code",
   "execution_count": null,
   "id": "b8dc290e",
   "metadata": {},
   "outputs": [],
   "source": []
  },
  {
   "cell_type": "code",
   "execution_count": null,
   "id": "de558da7",
   "metadata": {},
   "outputs": [],
   "source": []
  },
  {
   "cell_type": "code",
   "execution_count": null,
   "id": "dc4123f4",
   "metadata": {},
   "outputs": [],
   "source": []
  },
  {
   "cell_type": "code",
   "execution_count": null,
   "id": "f6a3a8b8",
   "metadata": {},
   "outputs": [],
   "source": []
  },
  {
   "cell_type": "code",
   "execution_count": 10,
   "id": "c7651db7",
   "metadata": {},
   "outputs": [
    {
     "name": "stdout",
     "output_type": "stream",
     "text": [
      "         Genre  Number of books available\n",
      "0         Kids                         23\n",
      "1       Horror                         45\n",
      "2      Romance                         62\n",
      "3  Educational                         74\n"
     ]
    }
   ],
   "source": [
    "# show student collection of books\n",
    "print(library_df[['Genre', 'Number of books available']])"
   ]
  }
 ],
 "metadata": {
  "kernelspec": {
   "display_name": "Python 3",
   "language": "python",
   "name": "python3"
  },
  "language_info": {
   "codemirror_mode": {
    "name": "ipython",
    "version": 3
   },
   "file_extension": ".py",
   "mimetype": "text/x-python",
   "name": "python",
   "nbconvert_exporter": "python",
   "pygments_lexer": "ipython3",
   "version": "3.8.8"
  }
 },
 "nbformat": 4,
 "nbformat_minor": 5
}
