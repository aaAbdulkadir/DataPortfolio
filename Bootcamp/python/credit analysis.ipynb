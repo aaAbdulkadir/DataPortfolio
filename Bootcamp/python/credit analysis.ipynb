{
 "cells": [
  {
   "cell_type": "code",
   "execution_count": 1,
   "id": "e2bd3fa3",
   "metadata": {},
   "outputs": [],
   "source": [
    "import pandas as pd\n",
    "import numpy as np\n",
    "from matplotlib import pyplot as plt\n",
    "import seaborn as sns"
   ]
  },
  {
   "cell_type": "code",
   "execution_count": 2,
   "id": "b238ea5b",
   "metadata": {},
   "outputs": [],
   "source": [
    "df = pd.read_csv('loan_data.csv')"
   ]
  },
  {
   "cell_type": "code",
   "execution_count": 3,
   "id": "c0ef6002",
   "metadata": {},
   "outputs": [
    {
     "data": {
      "text/html": [
       "<div>\n",
       "<style scoped>\n",
       "    .dataframe tbody tr th:only-of-type {\n",
       "        vertical-align: middle;\n",
       "    }\n",
       "\n",
       "    .dataframe tbody tr th {\n",
       "        vertical-align: top;\n",
       "    }\n",
       "\n",
       "    .dataframe thead th {\n",
       "        text-align: right;\n",
       "    }\n",
       "</style>\n",
       "<table border=\"1\" class=\"dataframe\">\n",
       "  <thead>\n",
       "    <tr style=\"text-align: right;\">\n",
       "      <th></th>\n",
       "      <th>ID</th>\n",
       "      <th>Income</th>\n",
       "      <th>Term</th>\n",
       "      <th>Balance</th>\n",
       "      <th>Debt</th>\n",
       "      <th>Score</th>\n",
       "      <th>Default</th>\n",
       "    </tr>\n",
       "  </thead>\n",
       "  <tbody>\n",
       "    <tr>\n",
       "      <th>0</th>\n",
       "      <td>567</td>\n",
       "      <td>17500.0</td>\n",
       "      <td>Short Term</td>\n",
       "      <td>1460.0</td>\n",
       "      <td>272.0</td>\n",
       "      <td>225.0</td>\n",
       "      <td>False</td>\n",
       "    </tr>\n",
       "    <tr>\n",
       "      <th>1</th>\n",
       "      <td>523</td>\n",
       "      <td>18500.0</td>\n",
       "      <td>Long Term</td>\n",
       "      <td>890.0</td>\n",
       "      <td>970.0</td>\n",
       "      <td>187.0</td>\n",
       "      <td>False</td>\n",
       "    </tr>\n",
       "    <tr>\n",
       "      <th>2</th>\n",
       "      <td>544</td>\n",
       "      <td>20700.0</td>\n",
       "      <td>Short Term</td>\n",
       "      <td>880.0</td>\n",
       "      <td>884.0</td>\n",
       "      <td>85.0</td>\n",
       "      <td>False</td>\n",
       "    </tr>\n",
       "    <tr>\n",
       "      <th>3</th>\n",
       "      <td>370</td>\n",
       "      <td>21600.0</td>\n",
       "      <td>Short Term</td>\n",
       "      <td>920.0</td>\n",
       "      <td>0.0</td>\n",
       "      <td>NaN</td>\n",
       "      <td>False</td>\n",
       "    </tr>\n",
       "    <tr>\n",
       "      <th>4</th>\n",
       "      <td>756</td>\n",
       "      <td>24300.0</td>\n",
       "      <td>Short Term</td>\n",
       "      <td>1260.0</td>\n",
       "      <td>0.0</td>\n",
       "      <td>495.0</td>\n",
       "      <td>False</td>\n",
       "    </tr>\n",
       "    <tr>\n",
       "      <th>5</th>\n",
       "      <td>929</td>\n",
       "      <td>22900.0</td>\n",
       "      <td>Long Term</td>\n",
       "      <td>1540.0</td>\n",
       "      <td>1229.0</td>\n",
       "      <td>383.0</td>\n",
       "      <td>False</td>\n",
       "    </tr>\n",
       "    <tr>\n",
       "      <th>6</th>\n",
       "      <td>373</td>\n",
       "      <td>20400.0</td>\n",
       "      <td>Short Term</td>\n",
       "      <td>1200.0</td>\n",
       "      <td>0.0</td>\n",
       "      <td>556.0</td>\n",
       "      <td>False</td>\n",
       "    </tr>\n",
       "    <tr>\n",
       "      <th>7</th>\n",
       "      <td>818</td>\n",
       "      <td>24600.0</td>\n",
       "      <td>Short Term</td>\n",
       "      <td>1470.0</td>\n",
       "      <td>0.0</td>\n",
       "      <td>301.0</td>\n",
       "      <td>False</td>\n",
       "    </tr>\n",
       "    <tr>\n",
       "      <th>8</th>\n",
       "      <td>284</td>\n",
       "      <td>26500.0</td>\n",
       "      <td>Long Term</td>\n",
       "      <td>720.0</td>\n",
       "      <td>1866.0</td>\n",
       "      <td>243.0</td>\n",
       "      <td>False</td>\n",
       "    </tr>\n",
       "    <tr>\n",
       "      <th>9</th>\n",
       "      <td>621</td>\n",
       "      <td>25400.0</td>\n",
       "      <td>Short Term</td>\n",
       "      <td>1130.0</td>\n",
       "      <td>0.0</td>\n",
       "      <td>729.0</td>\n",
       "      <td>True</td>\n",
       "    </tr>\n",
       "  </tbody>\n",
       "</table>\n",
       "</div>"
      ],
      "text/plain": [
       "    ID   Income        Term  Balance    Debt  Score  Default\n",
       "0  567  17500.0  Short Term   1460.0   272.0  225.0    False\n",
       "1  523  18500.0   Long Term    890.0   970.0  187.0    False\n",
       "2  544  20700.0  Short Term    880.0   884.0   85.0    False\n",
       "3  370  21600.0  Short Term    920.0     0.0    NaN    False\n",
       "4  756  24300.0  Short Term   1260.0     0.0  495.0    False\n",
       "5  929  22900.0   Long Term   1540.0  1229.0  383.0    False\n",
       "6  373  20400.0  Short Term   1200.0     0.0  556.0    False\n",
       "7  818  24600.0  Short Term   1470.0     0.0  301.0    False\n",
       "8  284  26500.0   Long Term    720.0  1866.0  243.0    False\n",
       "9  621  25400.0  Short Term   1130.0     0.0  729.0     True"
      ]
     },
     "execution_count": 3,
     "metadata": {},
     "output_type": "execute_result"
    }
   ],
   "source": [
    "df.head(10)"
   ]
  },
  {
   "cell_type": "code",
   "execution_count": 4,
   "id": "b81dcf41",
   "metadata": {},
   "outputs": [
    {
     "name": "stdout",
     "output_type": "stream",
     "text": [
      "<class 'pandas.core.frame.DataFrame'>\n",
      "RangeIndex: 856 entries, 0 to 855\n",
      "Data columns (total 7 columns):\n",
      " #   Column   Non-Null Count  Dtype  \n",
      "---  ------   --------------  -----  \n",
      " 0   ID       856 non-null    int64  \n",
      " 1   Income   856 non-null    float64\n",
      " 2   Term     856 non-null    object \n",
      " 3   Balance  856 non-null    float64\n",
      " 4   Debt     856 non-null    float64\n",
      " 5   Score    836 non-null    float64\n",
      " 6   Default  856 non-null    bool   \n",
      "dtypes: bool(1), float64(4), int64(1), object(1)\n",
      "memory usage: 41.1+ KB\n"
     ]
    }
   ],
   "source": [
    "df.info()"
   ]
  },
  {
   "cell_type": "code",
   "execution_count": 5,
   "id": "0742aea6",
   "metadata": {},
   "outputs": [
    {
     "data": {
      "text/plain": [
       "ID          0\n",
       "Income      0\n",
       "Term        0\n",
       "Balance     0\n",
       "Debt        0\n",
       "Score      20\n",
       "Default     0\n",
       "dtype: int64"
      ]
     },
     "execution_count": 5,
     "metadata": {},
     "output_type": "execute_result"
    }
   ],
   "source": [
    "df.isnull().sum()"
   ]
  },
  {
   "cell_type": "code",
   "execution_count": 6,
   "id": "c3bf6ab0",
   "metadata": {},
   "outputs": [
    {
     "data": {
      "text/html": [
       "<div>\n",
       "<style scoped>\n",
       "    .dataframe tbody tr th:only-of-type {\n",
       "        vertical-align: middle;\n",
       "    }\n",
       "\n",
       "    .dataframe tbody tr th {\n",
       "        vertical-align: top;\n",
       "    }\n",
       "\n",
       "    .dataframe thead th {\n",
       "        text-align: right;\n",
       "    }\n",
       "</style>\n",
       "<table border=\"1\" class=\"dataframe\">\n",
       "  <thead>\n",
       "    <tr style=\"text-align: right;\">\n",
       "      <th></th>\n",
       "      <th>ID</th>\n",
       "      <th>Income</th>\n",
       "      <th>Term</th>\n",
       "      <th>Balance</th>\n",
       "      <th>Debt</th>\n",
       "      <th>Score</th>\n",
       "      <th>Default</th>\n",
       "    </tr>\n",
       "  </thead>\n",
       "  <tbody>\n",
       "    <tr>\n",
       "      <th>0</th>\n",
       "      <td>567</td>\n",
       "      <td>17500.0</td>\n",
       "      <td>Short Term</td>\n",
       "      <td>1460.0</td>\n",
       "      <td>272.0</td>\n",
       "      <td>225.0</td>\n",
       "      <td>False</td>\n",
       "    </tr>\n",
       "    <tr>\n",
       "      <th>1</th>\n",
       "      <td>523</td>\n",
       "      <td>18500.0</td>\n",
       "      <td>Long Term</td>\n",
       "      <td>890.0</td>\n",
       "      <td>970.0</td>\n",
       "      <td>187.0</td>\n",
       "      <td>False</td>\n",
       "    </tr>\n",
       "    <tr>\n",
       "      <th>2</th>\n",
       "      <td>544</td>\n",
       "      <td>20700.0</td>\n",
       "      <td>Short Term</td>\n",
       "      <td>880.0</td>\n",
       "      <td>884.0</td>\n",
       "      <td>85.0</td>\n",
       "      <td>False</td>\n",
       "    </tr>\n",
       "    <tr>\n",
       "      <th>3</th>\n",
       "      <td>370</td>\n",
       "      <td>21600.0</td>\n",
       "      <td>Short Term</td>\n",
       "      <td>920.0</td>\n",
       "      <td>0.0</td>\n",
       "      <td>NaN</td>\n",
       "      <td>False</td>\n",
       "    </tr>\n",
       "    <tr>\n",
       "      <th>4</th>\n",
       "      <td>756</td>\n",
       "      <td>24300.0</td>\n",
       "      <td>Short Term</td>\n",
       "      <td>1260.0</td>\n",
       "      <td>0.0</td>\n",
       "      <td>495.0</td>\n",
       "      <td>False</td>\n",
       "    </tr>\n",
       "    <tr>\n",
       "      <th>...</th>\n",
       "      <td>...</td>\n",
       "      <td>...</td>\n",
       "      <td>...</td>\n",
       "      <td>...</td>\n",
       "      <td>...</td>\n",
       "      <td>...</td>\n",
       "      <td>...</td>\n",
       "    </tr>\n",
       "    <tr>\n",
       "      <th>851</th>\n",
       "      <td>71</td>\n",
       "      <td>30000.0</td>\n",
       "      <td>Long Term</td>\n",
       "      <td>1270.0</td>\n",
       "      <td>3779.0</td>\n",
       "      <td>52.0</td>\n",
       "      <td>True</td>\n",
       "    </tr>\n",
       "    <tr>\n",
       "      <th>852</th>\n",
       "      <td>932</td>\n",
       "      <td>42500.0</td>\n",
       "      <td>Long Term</td>\n",
       "      <td>1550.0</td>\n",
       "      <td>0.0</td>\n",
       "      <td>779.0</td>\n",
       "      <td>False</td>\n",
       "    </tr>\n",
       "    <tr>\n",
       "      <th>853</th>\n",
       "      <td>39</td>\n",
       "      <td>36400.0</td>\n",
       "      <td>Long Term</td>\n",
       "      <td>1830.0</td>\n",
       "      <td>3032.0</td>\n",
       "      <td>360.0</td>\n",
       "      <td>True</td>\n",
       "    </tr>\n",
       "    <tr>\n",
       "      <th>854</th>\n",
       "      <td>283</td>\n",
       "      <td>42200.0</td>\n",
       "      <td>Long Term</td>\n",
       "      <td>1500.0</td>\n",
       "      <td>2498.0</td>\n",
       "      <td>417.0</td>\n",
       "      <td>False</td>\n",
       "    </tr>\n",
       "    <tr>\n",
       "      <th>855</th>\n",
       "      <td>847</td>\n",
       "      <td>30800.0</td>\n",
       "      <td>Long Term</td>\n",
       "      <td>1190.0</td>\n",
       "      <td>2355.0</td>\n",
       "      <td>177.0</td>\n",
       "      <td>True</td>\n",
       "    </tr>\n",
       "  </tbody>\n",
       "</table>\n",
       "<p>856 rows × 7 columns</p>\n",
       "</div>"
      ],
      "text/plain": [
       "      ID   Income        Term  Balance    Debt  Score  Default\n",
       "0    567  17500.0  Short Term   1460.0   272.0  225.0    False\n",
       "1    523  18500.0   Long Term    890.0   970.0  187.0    False\n",
       "2    544  20700.0  Short Term    880.0   884.0   85.0    False\n",
       "3    370  21600.0  Short Term    920.0     0.0    NaN    False\n",
       "4    756  24300.0  Short Term   1260.0     0.0  495.0    False\n",
       "..   ...      ...         ...      ...     ...    ...      ...\n",
       "851   71  30000.0   Long Term   1270.0  3779.0   52.0     True\n",
       "852  932  42500.0   Long Term   1550.0     0.0  779.0    False\n",
       "853   39  36400.0   Long Term   1830.0  3032.0  360.0     True\n",
       "854  283  42200.0   Long Term   1500.0  2498.0  417.0    False\n",
       "855  847  30800.0   Long Term   1190.0  2355.0  177.0     True\n",
       "\n",
       "[856 rows x 7 columns]"
      ]
     },
     "execution_count": 6,
     "metadata": {},
     "output_type": "execute_result"
    }
   ],
   "source": [
    "df"
   ]
  },
  {
   "cell_type": "code",
   "execution_count": 7,
   "id": "d6a957c7",
   "metadata": {
    "scrolled": false
   },
   "outputs": [
    {
     "data": {
      "text/html": [
       "<div>\n",
       "<style scoped>\n",
       "    .dataframe tbody tr th:only-of-type {\n",
       "        vertical-align: middle;\n",
       "    }\n",
       "\n",
       "    .dataframe tbody tr th {\n",
       "        vertical-align: top;\n",
       "    }\n",
       "\n",
       "    .dataframe thead th {\n",
       "        text-align: right;\n",
       "    }\n",
       "</style>\n",
       "<table border=\"1\" class=\"dataframe\">\n",
       "  <thead>\n",
       "    <tr style=\"text-align: right;\">\n",
       "      <th></th>\n",
       "      <th>ID</th>\n",
       "      <th>Income</th>\n",
       "      <th>Term</th>\n",
       "      <th>Balance</th>\n",
       "      <th>Debt</th>\n",
       "      <th>Score</th>\n",
       "      <th>Default</th>\n",
       "    </tr>\n",
       "  </thead>\n",
       "  <tbody>\n",
       "    <tr>\n",
       "      <th>3</th>\n",
       "      <td>370</td>\n",
       "      <td>21600.0</td>\n",
       "      <td>Short Term</td>\n",
       "      <td>920.0</td>\n",
       "      <td>0.0</td>\n",
       "      <td>NaN</td>\n",
       "      <td>False</td>\n",
       "    </tr>\n",
       "    <tr>\n",
       "      <th>20</th>\n",
       "      <td>673</td>\n",
       "      <td>23500.0</td>\n",
       "      <td>Short Term</td>\n",
       "      <td>790.0</td>\n",
       "      <td>0.0</td>\n",
       "      <td>NaN</td>\n",
       "      <td>False</td>\n",
       "    </tr>\n",
       "    <tr>\n",
       "      <th>36</th>\n",
       "      <td>36</td>\n",
       "      <td>18500.0</td>\n",
       "      <td>Short Term</td>\n",
       "      <td>980.0</td>\n",
       "      <td>354.0</td>\n",
       "      <td>NaN</td>\n",
       "      <td>True</td>\n",
       "    </tr>\n",
       "    <tr>\n",
       "      <th>61</th>\n",
       "      <td>643</td>\n",
       "      <td>21300.0</td>\n",
       "      <td>Short Term</td>\n",
       "      <td>680.0</td>\n",
       "      <td>364.0</td>\n",
       "      <td>NaN</td>\n",
       "      <td>False</td>\n",
       "    </tr>\n",
       "    <tr>\n",
       "      <th>86</th>\n",
       "      <td>83</td>\n",
       "      <td>18400.0</td>\n",
       "      <td>Short Term</td>\n",
       "      <td>510.0</td>\n",
       "      <td>0.0</td>\n",
       "      <td>NaN</td>\n",
       "      <td>False</td>\n",
       "    </tr>\n",
       "    <tr>\n",
       "      <th>162</th>\n",
       "      <td>839</td>\n",
       "      <td>20700.0</td>\n",
       "      <td>Short Term</td>\n",
       "      <td>980.0</td>\n",
       "      <td>0.0</td>\n",
       "      <td>NaN</td>\n",
       "      <td>False</td>\n",
       "    </tr>\n",
       "    <tr>\n",
       "      <th>221</th>\n",
       "      <td>477</td>\n",
       "      <td>21500.0</td>\n",
       "      <td>Short Term</td>\n",
       "      <td>1300.0</td>\n",
       "      <td>1858.0</td>\n",
       "      <td>NaN</td>\n",
       "      <td>True</td>\n",
       "    </tr>\n",
       "    <tr>\n",
       "      <th>338</th>\n",
       "      <td>539</td>\n",
       "      <td>21600.0</td>\n",
       "      <td>Long Term</td>\n",
       "      <td>1180.0</td>\n",
       "      <td>738.0</td>\n",
       "      <td>NaN</td>\n",
       "      <td>False</td>\n",
       "    </tr>\n",
       "    <tr>\n",
       "      <th>357</th>\n",
       "      <td>714</td>\n",
       "      <td>20000.0</td>\n",
       "      <td>Short Term</td>\n",
       "      <td>1050.0</td>\n",
       "      <td>0.0</td>\n",
       "      <td>NaN</td>\n",
       "      <td>False</td>\n",
       "    </tr>\n",
       "    <tr>\n",
       "      <th>361</th>\n",
       "      <td>364</td>\n",
       "      <td>20800.0</td>\n",
       "      <td>Short Term</td>\n",
       "      <td>1030.0</td>\n",
       "      <td>115.0</td>\n",
       "      <td>NaN</td>\n",
       "      <td>False</td>\n",
       "    </tr>\n",
       "    <tr>\n",
       "      <th>383</th>\n",
       "      <td>224</td>\n",
       "      <td>21800.0</td>\n",
       "      <td>Short Term</td>\n",
       "      <td>730.0</td>\n",
       "      <td>345.0</td>\n",
       "      <td>NaN</td>\n",
       "      <td>False</td>\n",
       "    </tr>\n",
       "    <tr>\n",
       "      <th>388</th>\n",
       "      <td>429</td>\n",
       "      <td>17300.0</td>\n",
       "      <td>Short Term</td>\n",
       "      <td>1080.0</td>\n",
       "      <td>0.0</td>\n",
       "      <td>NaN</td>\n",
       "      <td>False</td>\n",
       "    </tr>\n",
       "    <tr>\n",
       "      <th>483</th>\n",
       "      <td>218</td>\n",
       "      <td>24300.0</td>\n",
       "      <td>Long Term</td>\n",
       "      <td>1280.0</td>\n",
       "      <td>0.0</td>\n",
       "      <td>NaN</td>\n",
       "      <td>False</td>\n",
       "    </tr>\n",
       "    <tr>\n",
       "      <th>535</th>\n",
       "      <td>748</td>\n",
       "      <td>44300.0</td>\n",
       "      <td>Long Term</td>\n",
       "      <td>1300.0</td>\n",
       "      <td>0.0</td>\n",
       "      <td>NaN</td>\n",
       "      <td>False</td>\n",
       "    </tr>\n",
       "    <tr>\n",
       "      <th>563</th>\n",
       "      <td>199</td>\n",
       "      <td>44200.0</td>\n",
       "      <td>Short Term</td>\n",
       "      <td>920.0</td>\n",
       "      <td>0.0</td>\n",
       "      <td>NaN</td>\n",
       "      <td>False</td>\n",
       "    </tr>\n",
       "    <tr>\n",
       "      <th>589</th>\n",
       "      <td>886</td>\n",
       "      <td>41400.0</td>\n",
       "      <td>Short Term</td>\n",
       "      <td>1140.0</td>\n",
       "      <td>0.0</td>\n",
       "      <td>NaN</td>\n",
       "      <td>False</td>\n",
       "    </tr>\n",
       "    <tr>\n",
       "      <th>615</th>\n",
       "      <td>971</td>\n",
       "      <td>35300.0</td>\n",
       "      <td>Short Term</td>\n",
       "      <td>790.0</td>\n",
       "      <td>1479.0</td>\n",
       "      <td>NaN</td>\n",
       "      <td>False</td>\n",
       "    </tr>\n",
       "    <tr>\n",
       "      <th>631</th>\n",
       "      <td>970</td>\n",
       "      <td>40200.0</td>\n",
       "      <td>Long Term</td>\n",
       "      <td>1040.0</td>\n",
       "      <td>0.0</td>\n",
       "      <td>NaN</td>\n",
       "      <td>False</td>\n",
       "    </tr>\n",
       "    <tr>\n",
       "      <th>642</th>\n",
       "      <td>683</td>\n",
       "      <td>38200.0</td>\n",
       "      <td>Short Term</td>\n",
       "      <td>1610.0</td>\n",
       "      <td>0.0</td>\n",
       "      <td>NaN</td>\n",
       "      <td>False</td>\n",
       "    </tr>\n",
       "    <tr>\n",
       "      <th>753</th>\n",
       "      <td>529</td>\n",
       "      <td>61700.0</td>\n",
       "      <td>Short Term</td>\n",
       "      <td>1450.0</td>\n",
       "      <td>3933.0</td>\n",
       "      <td>NaN</td>\n",
       "      <td>False</td>\n",
       "    </tr>\n",
       "  </tbody>\n",
       "</table>\n",
       "</div>"
      ],
      "text/plain": [
       "      ID   Income        Term  Balance    Debt  Score  Default\n",
       "3    370  21600.0  Short Term    920.0     0.0    NaN    False\n",
       "20   673  23500.0  Short Term    790.0     0.0    NaN    False\n",
       "36    36  18500.0  Short Term    980.0   354.0    NaN     True\n",
       "61   643  21300.0  Short Term    680.0   364.0    NaN    False\n",
       "86    83  18400.0  Short Term    510.0     0.0    NaN    False\n",
       "162  839  20700.0  Short Term    980.0     0.0    NaN    False\n",
       "221  477  21500.0  Short Term   1300.0  1858.0    NaN     True\n",
       "338  539  21600.0   Long Term   1180.0   738.0    NaN    False\n",
       "357  714  20000.0  Short Term   1050.0     0.0    NaN    False\n",
       "361  364  20800.0  Short Term   1030.0   115.0    NaN    False\n",
       "383  224  21800.0  Short Term    730.0   345.0    NaN    False\n",
       "388  429  17300.0  Short Term   1080.0     0.0    NaN    False\n",
       "483  218  24300.0   Long Term   1280.0     0.0    NaN    False\n",
       "535  748  44300.0   Long Term   1300.0     0.0    NaN    False\n",
       "563  199  44200.0  Short Term    920.0     0.0    NaN    False\n",
       "589  886  41400.0  Short Term   1140.0     0.0    NaN    False\n",
       "615  971  35300.0  Short Term    790.0  1479.0    NaN    False\n",
       "631  970  40200.0   Long Term   1040.0     0.0    NaN    False\n",
       "642  683  38200.0  Short Term   1610.0     0.0    NaN    False\n",
       "753  529  61700.0  Short Term   1450.0  3933.0    NaN    False"
      ]
     },
     "execution_count": 7,
     "metadata": {},
     "output_type": "execute_result"
    }
   ],
   "source": [
    "df[df.isna().any(axis=1)]"
   ]
  },
  {
   "cell_type": "code",
   "execution_count": 8,
   "id": "0ccd14c7",
   "metadata": {
    "scrolled": true
   },
   "outputs": [
    {
     "data": {
      "text/plain": [
       "(856, 7)"
      ]
     },
     "execution_count": 8,
     "metadata": {},
     "output_type": "execute_result"
    }
   ],
   "source": [
    "df.shape"
   ]
  },
  {
   "cell_type": "markdown",
   "id": "a232d876",
   "metadata": {},
   "source": [
    "drop the 20 columns that have NaN scores as it probably wont affect the data since there are 856 rows"
   ]
  },
  {
   "cell_type": "code",
   "execution_count": 9,
   "id": "a8de12eb",
   "metadata": {},
   "outputs": [],
   "source": [
    "df = df[~df.isna().any(axis=1)]"
   ]
  },
  {
   "cell_type": "code",
   "execution_count": 10,
   "id": "664f8b5e",
   "metadata": {
    "scrolled": true
   },
   "outputs": [
    {
     "name": "stdout",
     "output_type": "stream",
     "text": [
      "The number of values in features \"ID\" are 836\n",
      "The number of values in features \"Income\" are 328\n",
      "The number of values in features \"Term\" are 2; ['Long Term' 'Short Term']\n",
      "The number of values in features \"Balance\" are 183\n",
      "The number of values in features \"Debt\" are 398\n",
      "The number of values in features \"Score\" are 537\n",
      "The number of values in features \"Default\" are 2; [False  True]\n"
     ]
    }
   ],
   "source": [
    "for column in df:\n",
    "    unique_vals = np.unique(df[column])\n",
    "    nr_vals = len(unique_vals)\n",
    "    if nr_vals < 11:\n",
    "        print(f'The number of values in features \"{column}\" are {nr_vals}; {unique_vals}')\n",
    "    else:\n",
    "        print(f'The number of values in features \"{column}\" are {nr_vals}')"
   ]
  },
  {
   "cell_type": "code",
   "execution_count": 11,
   "id": "d6da0955",
   "metadata": {},
   "outputs": [
    {
     "data": {
      "text/plain": [
       "Index(['ID', 'Income', 'Term', 'Balance', 'Debt', 'Score', 'Default'], dtype='object')"
      ]
     },
     "execution_count": 11,
     "metadata": {},
     "output_type": "execute_result"
    }
   ],
   "source": [
    "df.columns"
   ]
  },
  {
   "cell_type": "code",
   "execution_count": 12,
   "id": "b7b1e74f",
   "metadata": {},
   "outputs": [
    {
     "name": "stderr",
     "output_type": "stream",
     "text": [
      "<__array_function__ internals>:5: RuntimeWarning: Converting input from bool to <class 'numpy.uint8'> for compatibility.\n",
      "<__array_function__ internals>:5: RuntimeWarning: Converting input from bool to <class 'numpy.uint8'> for compatibility.\n"
     ]
    },
    {
     "data": {
      "text/plain": [
       "<seaborn.axisgrid.PairGrid at 0x18b52a5edc0>"
      ]
     },
     "execution_count": 12,
     "metadata": {},
     "output_type": "execute_result"
    },
    {
     "data": {
      "image/png": "[encoded data removed]",
      "text/plain": [
       "<Figure size 900x900 with 30 Axes>"
      ]
     },
     "metadata": {
      "needs_background": "light"
     },
     "output_type": "display_data"
    }
   ],
   "source": [
    "sns.pairplot(df[['Income', 'Term', 'Balance', 'Debt', 'Score', 'Default']])"
   ]
  },
  {
   "cell_type": "markdown",
   "id": "14408aa5",
   "metadata": {},
   "source": [
    "## Point 1"
   ]
  },
  {
   "cell_type": "code",
   "execution_count": 13,
   "id": "e74f3450",
   "metadata": {},
   "outputs": [
    {
     "data": {
      "text/plain": [
       "Index(['ID', 'Income', 'Term', 'Balance', 'Debt', 'Score', 'Default'], dtype='object')"
      ]
     },
     "execution_count": 13,
     "metadata": {},
     "output_type": "execute_result"
    }
   ],
   "source": [
    "df.columns"
   ]
  },
  {
   "cell_type": "code",
   "execution_count": 14,
   "id": "7bd47373",
   "metadata": {},
   "outputs": [
    {
     "data": {
      "text/html": [
       "<div>\n",
       "<style scoped>\n",
       "    .dataframe tbody tr th:only-of-type {\n",
       "        vertical-align: middle;\n",
       "    }\n",
       "\n",
       "    .dataframe tbody tr th {\n",
       "        vertical-align: top;\n",
       "    }\n",
       "\n",
       "    .dataframe thead th {\n",
       "        text-align: right;\n",
       "    }\n",
       "</style>\n",
       "<table border=\"1\" class=\"dataframe\">\n",
       "  <thead>\n",
       "    <tr style=\"text-align: right;\">\n",
       "      <th></th>\n",
       "      <th>index</th>\n",
       "      <th>counts</th>\n",
       "    </tr>\n",
       "  </thead>\n",
       "  <tbody>\n",
       "    <tr>\n",
       "      <th>0</th>\n",
       "      <td>False</td>\n",
       "      <td>750</td>\n",
       "    </tr>\n",
       "    <tr>\n",
       "      <th>1</th>\n",
       "      <td>True</td>\n",
       "      <td>86</td>\n",
       "    </tr>\n",
       "  </tbody>\n",
       "</table>\n",
       "</div>"
      ],
      "text/plain": [
       "   index  counts\n",
       "0  False     750\n",
       "1   True      86"
      ]
     },
     "execution_count": 14,
     "metadata": {},
     "output_type": "execute_result"
    }
   ],
   "source": [
    "df['Default'].value_counts().reset_index(name='counts')"
   ]
  },
  {
   "cell_type": "code",
   "execution_count": 15,
   "id": "a2964561",
   "metadata": {},
   "outputs": [
    {
     "data": {
      "text/plain": [
       "(11800.0, 86000.0)"
      ]
     },
     "execution_count": 15,
     "metadata": {},
     "output_type": "execute_result"
    }
   ],
   "source": [
    "df['Income'].min(), df['Income'].max()"
   ]
  },
  {
   "cell_type": "markdown",
   "id": "0ea9d2d0",
   "metadata": {},
   "source": [
    "Range:\n",
    "\n",
    "- 10,000 - 20,000\n",
    "- 30,000 - 30,000\n",
    "- 30,000 - 40,000\n",
    "- 40,000 - 50,000\n",
    "- 50,000 - 60,000\n",
    "- 60,000 - 70,000\n",
    "- 70,000 +"
   ]
  },
  {
   "cell_type": "code",
   "execution_count": 16,
   "id": "1de4db6b",
   "metadata": {},
   "outputs": [],
   "source": [
    "def salary_range(df):\n",
    "    if df['Income'] <= 20000:\n",
    "        df['Income Range'] = '10,000 - 20,000'\n",
    "    elif df['Income'] > 20000 and df['Income'] <= 30000:\n",
    "        df['Income Range'] = '20,000 - 30,000'\n",
    "    elif df['Income'] > 30000 and df['Income'] <= 40000:\n",
    "        df['Income Range'] = '30,000 - 40,000'\n",
    "    elif df['Income'] > 40000 and df['Income'] <= 50000:\n",
    "        df['Income Range'] = '40,000 - 50,000'\n",
    "    elif df['Income'] > 50000 and df['Income'] <= 60000:\n",
    "        df['Income Range'] = '50,000 - 60,000'\n",
    "    else:\n",
    "        df['Income Range'] = '60000+'\n",
    "    return df"
   ]
  },
  {
   "cell_type": "code",
   "execution_count": 17,
   "id": "08ab8fd0",
   "metadata": {
    "scrolled": false
   },
   "outputs": [
    {
     "data": {
      "text/html": [
       "<div>\n",
       "<style scoped>\n",
       "    .dataframe tbody tr th:only-of-type {\n",
       "        vertical-align: middle;\n",
       "    }\n",
       "\n",
       "    .dataframe tbody tr th {\n",
       "        vertical-align: top;\n",
       "    }\n",
       "\n",
       "    .dataframe thead th {\n",
       "        text-align: right;\n",
       "    }\n",
       "</style>\n",
       "<table border=\"1\" class=\"dataframe\">\n",
       "  <thead>\n",
       "    <tr style=\"text-align: right;\">\n",
       "      <th></th>\n",
       "      <th>ID</th>\n",
       "      <th>Income</th>\n",
       "      <th>Term</th>\n",
       "      <th>Balance</th>\n",
       "      <th>Debt</th>\n",
       "      <th>Score</th>\n",
       "      <th>Default</th>\n",
       "      <th>Income Range</th>\n",
       "    </tr>\n",
       "  </thead>\n",
       "  <tbody>\n",
       "    <tr>\n",
       "      <th>0</th>\n",
       "      <td>567</td>\n",
       "      <td>17500.0</td>\n",
       "      <td>Short Term</td>\n",
       "      <td>1460.0</td>\n",
       "      <td>272.0</td>\n",
       "      <td>225.0</td>\n",
       "      <td>False</td>\n",
       "      <td>10,000 - 20,000</td>\n",
       "    </tr>\n",
       "    <tr>\n",
       "      <th>1</th>\n",
       "      <td>523</td>\n",
       "      <td>18500.0</td>\n",
       "      <td>Long Term</td>\n",
       "      <td>890.0</td>\n",
       "      <td>970.0</td>\n",
       "      <td>187.0</td>\n",
       "      <td>False</td>\n",
       "      <td>10,000 - 20,000</td>\n",
       "    </tr>\n",
       "    <tr>\n",
       "      <th>2</th>\n",
       "      <td>544</td>\n",
       "      <td>20700.0</td>\n",
       "      <td>Short Term</td>\n",
       "      <td>880.0</td>\n",
       "      <td>884.0</td>\n",
       "      <td>85.0</td>\n",
       "      <td>False</td>\n",
       "      <td>20,000 - 30,000</td>\n",
       "    </tr>\n",
       "    <tr>\n",
       "      <th>4</th>\n",
       "      <td>756</td>\n",
       "      <td>24300.0</td>\n",
       "      <td>Short Term</td>\n",
       "      <td>1260.0</td>\n",
       "      <td>0.0</td>\n",
       "      <td>495.0</td>\n",
       "      <td>False</td>\n",
       "      <td>20,000 - 30,000</td>\n",
       "    </tr>\n",
       "    <tr>\n",
       "      <th>5</th>\n",
       "      <td>929</td>\n",
       "      <td>22900.0</td>\n",
       "      <td>Long Term</td>\n",
       "      <td>1540.0</td>\n",
       "      <td>1229.0</td>\n",
       "      <td>383.0</td>\n",
       "      <td>False</td>\n",
       "      <td>20,000 - 30,000</td>\n",
       "    </tr>\n",
       "  </tbody>\n",
       "</table>\n",
       "</div>"
      ],
      "text/plain": [
       "    ID   Income        Term  Balance    Debt  Score  Default     Income Range\n",
       "0  567  17500.0  Short Term   1460.0   272.0  225.0    False  10,000 - 20,000\n",
       "1  523  18500.0   Long Term    890.0   970.0  187.0    False  10,000 - 20,000\n",
       "2  544  20700.0  Short Term    880.0   884.0   85.0    False  20,000 - 30,000\n",
       "4  756  24300.0  Short Term   1260.0     0.0  495.0    False  20,000 - 30,000\n",
       "5  929  22900.0   Long Term   1540.0  1229.0  383.0    False  20,000 - 30,000"
      ]
     },
     "execution_count": 17,
     "metadata": {},
     "output_type": "execute_result"
    }
   ],
   "source": [
    "df = df.apply(salary_range, axis=1)\n",
    "df.head()"
   ]
  },
  {
   "cell_type": "code",
   "execution_count": 18,
   "id": "275f4cac",
   "metadata": {},
   "outputs": [
    {
     "data": {
      "text/plain": [
       "Index(['ID', 'Income', 'Term', 'Balance', 'Debt', 'Score', 'Default',\n",
       "       'Income Range'],\n",
       "      dtype='object')"
      ]
     },
     "execution_count": 18,
     "metadata": {},
     "output_type": "execute_result"
    }
   ],
   "source": [
    "df.columns"
   ]
  },
  {
   "cell_type": "code",
   "execution_count": 19,
   "id": "cd79114e",
   "metadata": {},
   "outputs": [
    {
     "data": {
      "text/html": [
       "<div>\n",
       "<style scoped>\n",
       "    .dataframe tbody tr th:only-of-type {\n",
       "        vertical-align: middle;\n",
       "    }\n",
       "\n",
       "    .dataframe tbody tr th {\n",
       "        vertical-align: top;\n",
       "    }\n",
       "\n",
       "    .dataframe thead th {\n",
       "        text-align: right;\n",
       "    }\n",
       "</style>\n",
       "<table border=\"1\" class=\"dataframe\">\n",
       "  <thead>\n",
       "    <tr style=\"text-align: right;\">\n",
       "      <th></th>\n",
       "      <th></th>\n",
       "      <th>Default</th>\n",
       "    </tr>\n",
       "    <tr>\n",
       "      <th>Income Range</th>\n",
       "      <th>Default</th>\n",
       "      <th></th>\n",
       "    </tr>\n",
       "  </thead>\n",
       "  <tbody>\n",
       "    <tr>\n",
       "      <th rowspan=\"2\" valign=\"top\">10,000 - 20,000</th>\n",
       "      <th>False</th>\n",
       "      <td>210</td>\n",
       "    </tr>\n",
       "    <tr>\n",
       "      <th>True</th>\n",
       "      <td>26</td>\n",
       "    </tr>\n",
       "    <tr>\n",
       "      <th rowspan=\"2\" valign=\"top\">20,000 - 30,000</th>\n",
       "      <th>False</th>\n",
       "      <td>246</td>\n",
       "    </tr>\n",
       "    <tr>\n",
       "      <th>True</th>\n",
       "      <td>35</td>\n",
       "    </tr>\n",
       "    <tr>\n",
       "      <th rowspan=\"2\" valign=\"top\">30,000 - 40,000</th>\n",
       "      <th>False</th>\n",
       "      <td>110</td>\n",
       "    </tr>\n",
       "    <tr>\n",
       "      <th>True</th>\n",
       "      <td>16</td>\n",
       "    </tr>\n",
       "    <tr>\n",
       "      <th rowspan=\"2\" valign=\"top\">40,000 - 50,000</th>\n",
       "      <th>False</th>\n",
       "      <td>115</td>\n",
       "    </tr>\n",
       "    <tr>\n",
       "      <th>True</th>\n",
       "      <td>5</td>\n",
       "    </tr>\n",
       "    <tr>\n",
       "      <th rowspan=\"2\" valign=\"top\">50,000 - 60,000</th>\n",
       "      <th>False</th>\n",
       "      <td>31</td>\n",
       "    </tr>\n",
       "    <tr>\n",
       "      <th>True</th>\n",
       "      <td>2</td>\n",
       "    </tr>\n",
       "    <tr>\n",
       "      <th rowspan=\"2\" valign=\"top\">60000+</th>\n",
       "      <th>False</th>\n",
       "      <td>38</td>\n",
       "    </tr>\n",
       "    <tr>\n",
       "      <th>True</th>\n",
       "      <td>2</td>\n",
       "    </tr>\n",
       "  </tbody>\n",
       "</table>\n",
       "</div>"
      ],
      "text/plain": [
       "                         Default\n",
       "Income Range    Default         \n",
       "10,000 - 20,000 False        210\n",
       "                True          26\n",
       "20,000 - 30,000 False        246\n",
       "                True          35\n",
       "30,000 - 40,000 False        110\n",
       "                True          16\n",
       "40,000 - 50,000 False        115\n",
       "                True           5\n",
       "50,000 - 60,000 False         31\n",
       "                True           2\n",
       "60000+          False         38\n",
       "                True           2"
      ]
     },
     "execution_count": 19,
     "metadata": {},
     "output_type": "execute_result"
    }
   ],
   "source": [
    "defaulters = df.groupby(['Income Range', 'Default']).agg({'Default': 'count'})\n",
    "defaulters"
   ]
  },
  {
   "cell_type": "code",
   "execution_count": 20,
   "id": "afe4b6ff",
   "metadata": {},
   "outputs": [
    {
     "data": {
      "text/html": [
       "<div>\n",
       "<style scoped>\n",
       "    .dataframe tbody tr th:only-of-type {\n",
       "        vertical-align: middle;\n",
       "    }\n",
       "\n",
       "    .dataframe tbody tr th {\n",
       "        vertical-align: top;\n",
       "    }\n",
       "\n",
       "    .dataframe thead th {\n",
       "        text-align: right;\n",
       "    }\n",
       "</style>\n",
       "<table border=\"1\" class=\"dataframe\">\n",
       "  <thead>\n",
       "    <tr style=\"text-align: right;\">\n",
       "      <th></th>\n",
       "      <th>Income Range</th>\n",
       "      <th>Default</th>\n",
       "      <th>counts</th>\n",
       "    </tr>\n",
       "  </thead>\n",
       "  <tbody>\n",
       "    <tr>\n",
       "      <th>1</th>\n",
       "      <td>10,000 - 20,000</td>\n",
       "      <td>False</td>\n",
       "      <td>210</td>\n",
       "    </tr>\n",
       "    <tr>\n",
       "      <th>7</th>\n",
       "      <td>10,000 - 20,000</td>\n",
       "      <td>True</td>\n",
       "      <td>26</td>\n",
       "    </tr>\n",
       "    <tr>\n",
       "      <th>0</th>\n",
       "      <td>20,000 - 30,000</td>\n",
       "      <td>False</td>\n",
       "      <td>246</td>\n",
       "    </tr>\n",
       "    <tr>\n",
       "      <th>5</th>\n",
       "      <td>20,000 - 30,000</td>\n",
       "      <td>True</td>\n",
       "      <td>35</td>\n",
       "    </tr>\n",
       "    <tr>\n",
       "      <th>3</th>\n",
       "      <td>30,000 - 40,000</td>\n",
       "      <td>False</td>\n",
       "      <td>110</td>\n",
       "    </tr>\n",
       "    <tr>\n",
       "      <th>8</th>\n",
       "      <td>30,000 - 40,000</td>\n",
       "      <td>True</td>\n",
       "      <td>16</td>\n",
       "    </tr>\n",
       "    <tr>\n",
       "      <th>2</th>\n",
       "      <td>40,000 - 50,000</td>\n",
       "      <td>False</td>\n",
       "      <td>115</td>\n",
       "    </tr>\n",
       "    <tr>\n",
       "      <th>9</th>\n",
       "      <td>40,000 - 50,000</td>\n",
       "      <td>True</td>\n",
       "      <td>5</td>\n",
       "    </tr>\n",
       "    <tr>\n",
       "      <th>6</th>\n",
       "      <td>50,000 - 60,000</td>\n",
       "      <td>False</td>\n",
       "      <td>31</td>\n",
       "    </tr>\n",
       "    <tr>\n",
       "      <th>10</th>\n",
       "      <td>50,000 - 60,000</td>\n",
       "      <td>True</td>\n",
       "      <td>2</td>\n",
       "    </tr>\n",
       "    <tr>\n",
       "      <th>4</th>\n",
       "      <td>60000+</td>\n",
       "      <td>False</td>\n",
       "      <td>38</td>\n",
       "    </tr>\n",
       "    <tr>\n",
       "      <th>11</th>\n",
       "      <td>60000+</td>\n",
       "      <td>True</td>\n",
       "      <td>2</td>\n",
       "    </tr>\n",
       "  </tbody>\n",
       "</table>\n",
       "</div>"
      ],
      "text/plain": [
       "       Income Range  Default  counts\n",
       "1   10,000 - 20,000    False     210\n",
       "7   10,000 - 20,000     True      26\n",
       "0   20,000 - 30,000    False     246\n",
       "5   20,000 - 30,000     True      35\n",
       "3   30,000 - 40,000    False     110\n",
       "8   30,000 - 40,000     True      16\n",
       "2   40,000 - 50,000    False     115\n",
       "9   40,000 - 50,000     True       5\n",
       "6   50,000 - 60,000    False      31\n",
       "10  50,000 - 60,000     True       2\n",
       "4            60000+    False      38\n",
       "11           60000+     True       2"
      ]
     },
     "execution_count": 20,
     "metadata": {},
     "output_type": "execute_result"
    }
   ],
   "source": [
    "graph1 = df[['Income Range', 'Default']].value_counts().reset_index(name='counts').sort_values('Income Range', ascending=True)\n",
    "graph1"
   ]
  },
  {
   "cell_type": "code",
   "execution_count": 21,
   "id": "a9d310d6",
   "metadata": {},
   "outputs": [
    {
     "data": {
      "image/png": "[encoded data removed]",
      "text/plain": [
       "<Figure size 864x576 with 1 Axes>"
      ]
     },
     "metadata": {},
     "output_type": "display_data"
    }
   ],
   "source": [
    "sns.set(rc = {'figure.figsize':(12,8)})\n",
    "chart1= sns.barplot(x='Income Range', y='counts', hue='Default', data=graph1)"
   ]
  },
  {
   "cell_type": "markdown",
   "id": "c6e8cbb2",
   "metadata": {},
   "source": [
    "- The people with a higher salary range tend to default less than the people within the smaller salary range.\n",
    "- The most defaulters lie in the range of 20,000 - 30,000 "
   ]
  },
  {
   "cell_type": "markdown",
   "id": "7f12ee45",
   "metadata": {},
   "source": [
    "## Point 2"
   ]
  },
  {
   "cell_type": "code",
   "execution_count": 22,
   "id": "e6600a07",
   "metadata": {},
   "outputs": [
    {
     "data": {
      "text/plain": [
       "Index(['ID', 'Income', 'Term', 'Balance', 'Debt', 'Score', 'Default',\n",
       "       'Income Range'],\n",
       "      dtype='object')"
      ]
     },
     "execution_count": 22,
     "metadata": {},
     "output_type": "execute_result"
    }
   ],
   "source": [
    "df.columns"
   ]
  },
  {
   "cell_type": "code",
   "execution_count": 23,
   "id": "7091858c",
   "metadata": {},
   "outputs": [
    {
     "data": {
      "text/html": [
       "<div>\n",
       "<style scoped>\n",
       "    .dataframe tbody tr th:only-of-type {\n",
       "        vertical-align: middle;\n",
       "    }\n",
       "\n",
       "    .dataframe tbody tr th {\n",
       "        vertical-align: top;\n",
       "    }\n",
       "\n",
       "    .dataframe thead th {\n",
       "        text-align: right;\n",
       "    }\n",
       "</style>\n",
       "<table border=\"1\" class=\"dataframe\">\n",
       "  <thead>\n",
       "    <tr style=\"text-align: right;\">\n",
       "      <th></th>\n",
       "      <th>Term</th>\n",
       "      <th>Default</th>\n",
       "      <th>counts</th>\n",
       "    </tr>\n",
       "  </thead>\n",
       "  <tbody>\n",
       "    <tr>\n",
       "      <th>0</th>\n",
       "      <td>Short Term</td>\n",
       "      <td>False</td>\n",
       "      <td>513</td>\n",
       "    </tr>\n",
       "    <tr>\n",
       "      <th>1</th>\n",
       "      <td>Long Term</td>\n",
       "      <td>False</td>\n",
       "      <td>237</td>\n",
       "    </tr>\n",
       "    <tr>\n",
       "      <th>2</th>\n",
       "      <td>Short Term</td>\n",
       "      <td>True</td>\n",
       "      <td>55</td>\n",
       "    </tr>\n",
       "    <tr>\n",
       "      <th>3</th>\n",
       "      <td>Long Term</td>\n",
       "      <td>True</td>\n",
       "      <td>31</td>\n",
       "    </tr>\n",
       "  </tbody>\n",
       "</table>\n",
       "</div>"
      ],
      "text/plain": [
       "         Term  Default  counts\n",
       "0  Short Term    False     513\n",
       "1   Long Term    False     237\n",
       "2  Short Term     True      55\n",
       "3   Long Term     True      31"
      ]
     },
     "execution_count": 23,
     "metadata": {},
     "output_type": "execute_result"
    }
   ],
   "source": [
    "graph2 = df[['Term', 'Default']].value_counts().reset_index(name='counts')\n",
    "graph2"
   ]
  },
  {
   "cell_type": "code",
   "execution_count": 24,
   "id": "5573eb53",
   "metadata": {},
   "outputs": [
    {
     "data": {
      "image/png": "[encoded data removed]",
      "text/plain": [
       "<Figure size 864x576 with 1 Axes>"
      ]
     },
     "metadata": {},
     "output_type": "display_data"
    }
   ],
   "source": [
    "chart2 =  sns.barplot(x='Term', y='counts', hue='Default', data=graph2)"
   ]
  },
  {
   "cell_type": "markdown",
   "id": "f84d411b",
   "metadata": {},
   "source": [
    "- There are usually more people on short term loans than long term loans\n",
    "- The ratio of people defaulting on long term is higher than the ratio of people defaulting on short term. "
   ]
  },
  {
   "cell_type": "code",
   "execution_count": 25,
   "id": "eaa8e896",
   "metadata": {},
   "outputs": [
    {
     "data": {
      "text/plain": [
       "10.72"
      ]
     },
     "execution_count": 25,
     "metadata": {},
     "output_type": "execute_result"
    }
   ],
   "source": [
    "short_term_ratio = (graph2['counts'].iloc[2] / graph2['counts'].iloc[0])*100\n",
    "short_term_ratio.round(2)"
   ]
  },
  {
   "cell_type": "code",
   "execution_count": 26,
   "id": "c1520eed",
   "metadata": {},
   "outputs": [
    {
     "data": {
      "text/plain": [
       "13.08"
      ]
     },
     "execution_count": 26,
     "metadata": {},
     "output_type": "execute_result"
    }
   ],
   "source": [
    "long_term_ratio = (graph2['counts'].iloc[3] / graph2['counts'].iloc[1])*100\n",
    "long_term_ratio.round(2)"
   ]
  },
  {
   "cell_type": "markdown",
   "id": "95f43421",
   "metadata": {},
   "source": [
    "## Point 3"
   ]
  },
  {
   "cell_type": "markdown",
   "id": "3e546f56",
   "metadata": {},
   "source": [
    "Score vs Debt"
   ]
  },
  {
   "cell_type": "code",
   "execution_count": 27,
   "id": "880a698c",
   "metadata": {},
   "outputs": [
    {
     "data": {
      "text/html": [
       "<div>\n",
       "<style scoped>\n",
       "    .dataframe tbody tr th:only-of-type {\n",
       "        vertical-align: middle;\n",
       "    }\n",
       "\n",
       "    .dataframe tbody tr th {\n",
       "        vertical-align: top;\n",
       "    }\n",
       "\n",
       "    .dataframe thead th {\n",
       "        text-align: right;\n",
       "    }\n",
       "</style>\n",
       "<table border=\"1\" class=\"dataframe\">\n",
       "  <thead>\n",
       "    <tr style=\"text-align: right;\">\n",
       "      <th></th>\n",
       "      <th>Debt</th>\n",
       "      <th>Score</th>\n",
       "    </tr>\n",
       "  </thead>\n",
       "  <tbody>\n",
       "    <tr>\n",
       "      <th>277</th>\n",
       "      <td>547.0</td>\n",
       "      <td>0.0</td>\n",
       "    </tr>\n",
       "    <tr>\n",
       "      <th>801</th>\n",
       "      <td>12891.0</td>\n",
       "      <td>0.0</td>\n",
       "    </tr>\n",
       "    <tr>\n",
       "      <th>482</th>\n",
       "      <td>3470.0</td>\n",
       "      <td>0.0</td>\n",
       "    </tr>\n",
       "    <tr>\n",
       "      <th>176</th>\n",
       "      <td>2130.0</td>\n",
       "      <td>4.0</td>\n",
       "    </tr>\n",
       "    <tr>\n",
       "      <th>177</th>\n",
       "      <td>2272.0</td>\n",
       "      <td>5.0</td>\n",
       "    </tr>\n",
       "    <tr>\n",
       "      <th>...</th>\n",
       "      <td>...</td>\n",
       "      <td>...</td>\n",
       "    </tr>\n",
       "    <tr>\n",
       "      <th>757</th>\n",
       "      <td>1912.0</td>\n",
       "      <td>1000.0</td>\n",
       "    </tr>\n",
       "    <tr>\n",
       "      <th>756</th>\n",
       "      <td>0.0</td>\n",
       "      <td>1000.0</td>\n",
       "    </tr>\n",
       "    <tr>\n",
       "      <th>542</th>\n",
       "      <td>1499.0</td>\n",
       "      <td>1000.0</td>\n",
       "    </tr>\n",
       "    <tr>\n",
       "      <th>732</th>\n",
       "      <td>1771.0</td>\n",
       "      <td>1000.0</td>\n",
       "    </tr>\n",
       "    <tr>\n",
       "      <th>741</th>\n",
       "      <td>2584.0</td>\n",
       "      <td>1000.0</td>\n",
       "    </tr>\n",
       "  </tbody>\n",
       "</table>\n",
       "<p>836 rows × 2 columns</p>\n",
       "</div>"
      ],
      "text/plain": [
       "        Debt   Score\n",
       "277    547.0     0.0\n",
       "801  12891.0     0.0\n",
       "482   3470.0     0.0\n",
       "176   2130.0     4.0\n",
       "177   2272.0     5.0\n",
       "..       ...     ...\n",
       "757   1912.0  1000.0\n",
       "756      0.0  1000.0\n",
       "542   1499.0  1000.0\n",
       "732   1771.0  1000.0\n",
       "741   2584.0  1000.0\n",
       "\n",
       "[836 rows x 2 columns]"
      ]
     },
     "execution_count": 27,
     "metadata": {},
     "output_type": "execute_result"
    }
   ],
   "source": [
    "sc_vs_db = df[['Debt', 'Score']].sort_values('Score', ascending=True)\n",
    "sc_vs_db"
   ]
  },
  {
   "cell_type": "code",
   "execution_count": 28,
   "id": "906c1bb8",
   "metadata": {},
   "outputs": [
    {
     "data": {
      "text/plain": [
       "<AxesSubplot:xlabel='Score', ylabel='Debt'>"
      ]
     },
     "execution_count": 28,
     "metadata": {},
     "output_type": "execute_result"
    },
    {
     "data": {
      "image/png": "[encoded data removed]",
      "text/plain": [
       "<Figure size 864x576 with 1 Axes>"
      ]
     },
     "metadata": {},
     "output_type": "display_data"
    }
   ],
   "source": [
    "sns.scatterplot(x='Score', y='Debt', data=sc_vs_db)"
   ]
  },
  {
   "cell_type": "markdown",
   "id": "5401b849",
   "metadata": {},
   "source": [
    "- There is no strong positive correlation between credit score and debt. However, the people with the highest of debt are the ones with the higher score but generally it is more or less the same across the board"
   ]
  },
  {
   "cell_type": "markdown",
   "id": "49e0512f",
   "metadata": {},
   "source": [
    "## Point 4"
   ]
  },
  {
   "cell_type": "markdown",
   "id": "a7a64ad1",
   "metadata": {},
   "source": [
    "Income vs Credit Score"
   ]
  },
  {
   "cell_type": "code",
   "execution_count": 29,
   "id": "56d919c0",
   "metadata": {},
   "outputs": [
    {
     "data": {
      "text/html": [
       "<div>\n",
       "<style scoped>\n",
       "    .dataframe tbody tr th:only-of-type {\n",
       "        vertical-align: middle;\n",
       "    }\n",
       "\n",
       "    .dataframe tbody tr th {\n",
       "        vertical-align: top;\n",
       "    }\n",
       "\n",
       "    .dataframe thead th {\n",
       "        text-align: right;\n",
       "    }\n",
       "</style>\n",
       "<table border=\"1\" class=\"dataframe\">\n",
       "  <thead>\n",
       "    <tr style=\"text-align: right;\">\n",
       "      <th></th>\n",
       "      <th>Income</th>\n",
       "      <th>Score</th>\n",
       "    </tr>\n",
       "  </thead>\n",
       "  <tbody>\n",
       "    <tr>\n",
       "      <th>803</th>\n",
       "      <td>11800.0</td>\n",
       "      <td>193.0</td>\n",
       "    </tr>\n",
       "    <tr>\n",
       "      <th>444</th>\n",
       "      <td>13700.0</td>\n",
       "      <td>179.0</td>\n",
       "    </tr>\n",
       "    <tr>\n",
       "      <th>419</th>\n",
       "      <td>13800.0</td>\n",
       "      <td>180.0</td>\n",
       "    </tr>\n",
       "    <tr>\n",
       "      <th>372</th>\n",
       "      <td>14300.0</td>\n",
       "      <td>63.0</td>\n",
       "    </tr>\n",
       "    <tr>\n",
       "      <th>466</th>\n",
       "      <td>14400.0</td>\n",
       "      <td>309.0</td>\n",
       "    </tr>\n",
       "    <tr>\n",
       "      <th>...</th>\n",
       "      <td>...</td>\n",
       "      <td>...</td>\n",
       "    </tr>\n",
       "    <tr>\n",
       "      <th>801</th>\n",
       "      <td>79900.0</td>\n",
       "      <td>0.0</td>\n",
       "    </tr>\n",
       "    <tr>\n",
       "      <th>791</th>\n",
       "      <td>81800.0</td>\n",
       "      <td>1000.0</td>\n",
       "    </tr>\n",
       "    <tr>\n",
       "      <th>800</th>\n",
       "      <td>81900.0</td>\n",
       "      <td>818.0</td>\n",
       "    </tr>\n",
       "    <tr>\n",
       "      <th>798</th>\n",
       "      <td>82100.0</td>\n",
       "      <td>1000.0</td>\n",
       "    </tr>\n",
       "    <tr>\n",
       "      <th>790</th>\n",
       "      <td>86000.0</td>\n",
       "      <td>837.0</td>\n",
       "    </tr>\n",
       "  </tbody>\n",
       "</table>\n",
       "<p>836 rows × 2 columns</p>\n",
       "</div>"
      ],
      "text/plain": [
       "      Income   Score\n",
       "803  11800.0   193.0\n",
       "444  13700.0   179.0\n",
       "419  13800.0   180.0\n",
       "372  14300.0    63.0\n",
       "466  14400.0   309.0\n",
       "..       ...     ...\n",
       "801  79900.0     0.0\n",
       "791  81800.0  1000.0\n",
       "800  81900.0   818.0\n",
       "798  82100.0  1000.0\n",
       "790  86000.0   837.0\n",
       "\n",
       "[836 rows x 2 columns]"
      ]
     },
     "execution_count": 29,
     "metadata": {},
     "output_type": "execute_result"
    }
   ],
   "source": [
    "inc_vs_cs = df[['Income', 'Score']].sort_values('Income')\n",
    "inc_vs_cs"
   ]
  },
  {
   "cell_type": "code",
   "execution_count": 30,
   "id": "68cc0528",
   "metadata": {},
   "outputs": [
    {
     "data": {
      "text/plain": [
       "<AxesSubplot:xlabel='Income', ylabel='Score'>"
      ]
     },
     "execution_count": 30,
     "metadata": {},
     "output_type": "execute_result"
    },
    {
     "data": {
      "image/png": "[encoded data removed]",
      "text/plain": [
       "<Figure size 864x576 with 1 Axes>"
      ]
     },
     "metadata": {},
     "output_type": "display_data"
    }
   ],
   "source": [
    "sns.scatterplot(x='Income', y='Score', data=inc_vs_cs)"
   ]
  },
  {
   "cell_type": "markdown",
   "id": "83eb23bf",
   "metadata": {},
   "source": [
    "- As the income increases, the credit score increases. The people who have a higher credit score default less."
   ]
  },
  {
   "cell_type": "markdown",
   "id": "18e7a7bb",
   "metadata": {},
   "source": [
    "Credit score vs Default"
   ]
  },
  {
   "cell_type": "code",
   "execution_count": 31,
   "id": "78e79119",
   "metadata": {},
   "outputs": [
    {
     "data": {
      "text/html": [
       "<div>\n",
       "<style scoped>\n",
       "    .dataframe tbody tr th:only-of-type {\n",
       "        vertical-align: middle;\n",
       "    }\n",
       "\n",
       "    .dataframe tbody tr th {\n",
       "        vertical-align: top;\n",
       "    }\n",
       "\n",
       "    .dataframe thead th {\n",
       "        text-align: right;\n",
       "    }\n",
       "</style>\n",
       "<table border=\"1\" class=\"dataframe\">\n",
       "  <thead>\n",
       "    <tr style=\"text-align: right;\">\n",
       "      <th></th>\n",
       "      <th>Score</th>\n",
       "      <th>Default</th>\n",
       "    </tr>\n",
       "  </thead>\n",
       "  <tbody>\n",
       "    <tr>\n",
       "      <th>0</th>\n",
       "      <td>225.0</td>\n",
       "      <td>False</td>\n",
       "    </tr>\n",
       "    <tr>\n",
       "      <th>1</th>\n",
       "      <td>187.0</td>\n",
       "      <td>False</td>\n",
       "    </tr>\n",
       "    <tr>\n",
       "      <th>2</th>\n",
       "      <td>85.0</td>\n",
       "      <td>False</td>\n",
       "    </tr>\n",
       "    <tr>\n",
       "      <th>4</th>\n",
       "      <td>495.0</td>\n",
       "      <td>False</td>\n",
       "    </tr>\n",
       "    <tr>\n",
       "      <th>5</th>\n",
       "      <td>383.0</td>\n",
       "      <td>False</td>\n",
       "    </tr>\n",
       "    <tr>\n",
       "      <th>...</th>\n",
       "      <td>...</td>\n",
       "      <td>...</td>\n",
       "    </tr>\n",
       "    <tr>\n",
       "      <th>851</th>\n",
       "      <td>52.0</td>\n",
       "      <td>True</td>\n",
       "    </tr>\n",
       "    <tr>\n",
       "      <th>852</th>\n",
       "      <td>779.0</td>\n",
       "      <td>False</td>\n",
       "    </tr>\n",
       "    <tr>\n",
       "      <th>853</th>\n",
       "      <td>360.0</td>\n",
       "      <td>True</td>\n",
       "    </tr>\n",
       "    <tr>\n",
       "      <th>854</th>\n",
       "      <td>417.0</td>\n",
       "      <td>False</td>\n",
       "    </tr>\n",
       "    <tr>\n",
       "      <th>855</th>\n",
       "      <td>177.0</td>\n",
       "      <td>True</td>\n",
       "    </tr>\n",
       "  </tbody>\n",
       "</table>\n",
       "<p>836 rows × 2 columns</p>\n",
       "</div>"
      ],
      "text/plain": [
       "     Score  Default\n",
       "0    225.0    False\n",
       "1    187.0    False\n",
       "2     85.0    False\n",
       "4    495.0    False\n",
       "5    383.0    False\n",
       "..     ...      ...\n",
       "851   52.0     True\n",
       "852  779.0    False\n",
       "853  360.0     True\n",
       "854  417.0    False\n",
       "855  177.0     True\n",
       "\n",
       "[836 rows x 2 columns]"
      ]
     },
     "execution_count": 31,
     "metadata": {},
     "output_type": "execute_result"
    }
   ],
   "source": [
    "df[['Score', 'Default']]"
   ]
  },
  {
   "cell_type": "code",
   "execution_count": 32,
   "id": "72c3cdfb",
   "metadata": {},
   "outputs": [
    {
     "data": {
      "text/plain": [
       "(0.0, 1000.0)"
      ]
     },
     "execution_count": 32,
     "metadata": {},
     "output_type": "execute_result"
    }
   ],
   "source": [
    "df['Score'].min(), df['Score'].max()"
   ]
  },
  {
   "cell_type": "code",
   "execution_count": 33,
   "id": "8e446cf2",
   "metadata": {},
   "outputs": [],
   "source": [
    "def score_range(df):\n",
    "    if df['Score'] <= 200:\n",
    "        df['Score Range'] = '0-200'\n",
    "    elif df['Score'] > 200 and df['Score'] <= 400:\n",
    "        df['Score Range'] = '200 - 400'\n",
    "    elif df['Score'] > 400 and df['Score'] <= 600:\n",
    "        df['Score Range'] = '400 - 600'\n",
    "    elif df['Score'] > 600 and df['Score'] <= 800:\n",
    "        df['Score Range'] = '600 - 800'\n",
    "    else:\n",
    "        df['Score Range'] = '800-1000'\n",
    "    return df"
   ]
  },
  {
   "cell_type": "code",
   "execution_count": 34,
   "id": "4bb229e5",
   "metadata": {},
   "outputs": [
    {
     "data": {
      "text/html": [
       "<div>\n",
       "<style scoped>\n",
       "    .dataframe tbody tr th:only-of-type {\n",
       "        vertical-align: middle;\n",
       "    }\n",
       "\n",
       "    .dataframe tbody tr th {\n",
       "        vertical-align: top;\n",
       "    }\n",
       "\n",
       "    .dataframe thead th {\n",
       "        text-align: right;\n",
       "    }\n",
       "</style>\n",
       "<table border=\"1\" class=\"dataframe\">\n",
       "  <thead>\n",
       "    <tr style=\"text-align: right;\">\n",
       "      <th></th>\n",
       "      <th>ID</th>\n",
       "      <th>Income</th>\n",
       "      <th>Term</th>\n",
       "      <th>Balance</th>\n",
       "      <th>Debt</th>\n",
       "      <th>Score</th>\n",
       "      <th>Default</th>\n",
       "      <th>Income Range</th>\n",
       "      <th>Score Range</th>\n",
       "    </tr>\n",
       "  </thead>\n",
       "  <tbody>\n",
       "    <tr>\n",
       "      <th>0</th>\n",
       "      <td>567</td>\n",
       "      <td>17500.0</td>\n",
       "      <td>Short Term</td>\n",
       "      <td>1460.0</td>\n",
       "      <td>272.0</td>\n",
       "      <td>225.0</td>\n",
       "      <td>False</td>\n",
       "      <td>10,000 - 20,000</td>\n",
       "      <td>200 - 400</td>\n",
       "    </tr>\n",
       "    <tr>\n",
       "      <th>1</th>\n",
       "      <td>523</td>\n",
       "      <td>18500.0</td>\n",
       "      <td>Long Term</td>\n",
       "      <td>890.0</td>\n",
       "      <td>970.0</td>\n",
       "      <td>187.0</td>\n",
       "      <td>False</td>\n",
       "      <td>10,000 - 20,000</td>\n",
       "      <td>0-200</td>\n",
       "    </tr>\n",
       "    <tr>\n",
       "      <th>2</th>\n",
       "      <td>544</td>\n",
       "      <td>20700.0</td>\n",
       "      <td>Short Term</td>\n",
       "      <td>880.0</td>\n",
       "      <td>884.0</td>\n",
       "      <td>85.0</td>\n",
       "      <td>False</td>\n",
       "      <td>20,000 - 30,000</td>\n",
       "      <td>0-200</td>\n",
       "    </tr>\n",
       "    <tr>\n",
       "      <th>4</th>\n",
       "      <td>756</td>\n",
       "      <td>24300.0</td>\n",
       "      <td>Short Term</td>\n",
       "      <td>1260.0</td>\n",
       "      <td>0.0</td>\n",
       "      <td>495.0</td>\n",
       "      <td>False</td>\n",
       "      <td>20,000 - 30,000</td>\n",
       "      <td>400 - 600</td>\n",
       "    </tr>\n",
       "    <tr>\n",
       "      <th>5</th>\n",
       "      <td>929</td>\n",
       "      <td>22900.0</td>\n",
       "      <td>Long Term</td>\n",
       "      <td>1540.0</td>\n",
       "      <td>1229.0</td>\n",
       "      <td>383.0</td>\n",
       "      <td>False</td>\n",
       "      <td>20,000 - 30,000</td>\n",
       "      <td>200 - 400</td>\n",
       "    </tr>\n",
       "    <tr>\n",
       "      <th>...</th>\n",
       "      <td>...</td>\n",
       "      <td>...</td>\n",
       "      <td>...</td>\n",
       "      <td>...</td>\n",
       "      <td>...</td>\n",
       "      <td>...</td>\n",
       "      <td>...</td>\n",
       "      <td>...</td>\n",
       "      <td>...</td>\n",
       "    </tr>\n",
       "    <tr>\n",
       "      <th>851</th>\n",
       "      <td>71</td>\n",
       "      <td>30000.0</td>\n",
       "      <td>Long Term</td>\n",
       "      <td>1270.0</td>\n",
       "      <td>3779.0</td>\n",
       "      <td>52.0</td>\n",
       "      <td>True</td>\n",
       "      <td>20,000 - 30,000</td>\n",
       "      <td>0-200</td>\n",
       "    </tr>\n",
       "    <tr>\n",
       "      <th>852</th>\n",
       "      <td>932</td>\n",
       "      <td>42500.0</td>\n",
       "      <td>Long Term</td>\n",
       "      <td>1550.0</td>\n",
       "      <td>0.0</td>\n",
       "      <td>779.0</td>\n",
       "      <td>False</td>\n",
       "      <td>40,000 - 50,000</td>\n",
       "      <td>600 - 800</td>\n",
       "    </tr>\n",
       "    <tr>\n",
       "      <th>853</th>\n",
       "      <td>39</td>\n",
       "      <td>36400.0</td>\n",
       "      <td>Long Term</td>\n",
       "      <td>1830.0</td>\n",
       "      <td>3032.0</td>\n",
       "      <td>360.0</td>\n",
       "      <td>True</td>\n",
       "      <td>30,000 - 40,000</td>\n",
       "      <td>200 - 400</td>\n",
       "    </tr>\n",
       "    <tr>\n",
       "      <th>854</th>\n",
       "      <td>283</td>\n",
       "      <td>42200.0</td>\n",
       "      <td>Long Term</td>\n",
       "      <td>1500.0</td>\n",
       "      <td>2498.0</td>\n",
       "      <td>417.0</td>\n",
       "      <td>False</td>\n",
       "      <td>40,000 - 50,000</td>\n",
       "      <td>400 - 600</td>\n",
       "    </tr>\n",
       "    <tr>\n",
       "      <th>855</th>\n",
       "      <td>847</td>\n",
       "      <td>30800.0</td>\n",
       "      <td>Long Term</td>\n",
       "      <td>1190.0</td>\n",
       "      <td>2355.0</td>\n",
       "      <td>177.0</td>\n",
       "      <td>True</td>\n",
       "      <td>30,000 - 40,000</td>\n",
       "      <td>0-200</td>\n",
       "    </tr>\n",
       "  </tbody>\n",
       "</table>\n",
       "<p>836 rows × 9 columns</p>\n",
       "</div>"
      ],
      "text/plain": [
       "      ID   Income        Term  Balance    Debt  Score  Default  \\\n",
       "0    567  17500.0  Short Term   1460.0   272.0  225.0    False   \n",
       "1    523  18500.0   Long Term    890.0   970.0  187.0    False   \n",
       "2    544  20700.0  Short Term    880.0   884.0   85.0    False   \n",
       "4    756  24300.0  Short Term   1260.0     0.0  495.0    False   \n",
       "5    929  22900.0   Long Term   1540.0  1229.0  383.0    False   \n",
       "..   ...      ...         ...      ...     ...    ...      ...   \n",
       "851   71  30000.0   Long Term   1270.0  3779.0   52.0     True   \n",
       "852  932  42500.0   Long Term   1550.0     0.0  779.0    False   \n",
       "853   39  36400.0   Long Term   1830.0  3032.0  360.0     True   \n",
       "854  283  42200.0   Long Term   1500.0  2498.0  417.0    False   \n",
       "855  847  30800.0   Long Term   1190.0  2355.0  177.0     True   \n",
       "\n",
       "        Income Range Score Range  \n",
       "0    10,000 - 20,000   200 - 400  \n",
       "1    10,000 - 20,000       0-200  \n",
       "2    20,000 - 30,000       0-200  \n",
       "4    20,000 - 30,000   400 - 600  \n",
       "5    20,000 - 30,000   200 - 400  \n",
       "..               ...         ...  \n",
       "851  20,000 - 30,000       0-200  \n",
       "852  40,000 - 50,000   600 - 800  \n",
       "853  30,000 - 40,000   200 - 400  \n",
       "854  40,000 - 50,000   400 - 600  \n",
       "855  30,000 - 40,000       0-200  \n",
       "\n",
       "[836 rows x 9 columns]"
      ]
     },
     "execution_count": 34,
     "metadata": {},
     "output_type": "execute_result"
    }
   ],
   "source": [
    "df = df.apply(score_range, axis=1)\n",
    "df"
   ]
  },
  {
   "cell_type": "code",
   "execution_count": 35,
   "id": "bfd60d46",
   "metadata": {},
   "outputs": [
    {
     "data": {
      "text/html": [
       "<div>\n",
       "<style scoped>\n",
       "    .dataframe tbody tr th:only-of-type {\n",
       "        vertical-align: middle;\n",
       "    }\n",
       "\n",
       "    .dataframe tbody tr th {\n",
       "        vertical-align: top;\n",
       "    }\n",
       "\n",
       "    .dataframe thead th {\n",
       "        text-align: right;\n",
       "    }\n",
       "</style>\n",
       "<table border=\"1\" class=\"dataframe\">\n",
       "  <thead>\n",
       "    <tr style=\"text-align: right;\">\n",
       "      <th></th>\n",
       "      <th>Score Range</th>\n",
       "      <th>Default</th>\n",
       "      <th>counts</th>\n",
       "    </tr>\n",
       "  </thead>\n",
       "  <tbody>\n",
       "    <tr>\n",
       "      <th>4</th>\n",
       "      <td>0-200</td>\n",
       "      <td>False</td>\n",
       "      <td>94</td>\n",
       "    </tr>\n",
       "    <tr>\n",
       "      <th>5</th>\n",
       "      <td>0-200</td>\n",
       "      <td>True</td>\n",
       "      <td>50</td>\n",
       "    </tr>\n",
       "    <tr>\n",
       "      <th>0</th>\n",
       "      <td>200 - 400</td>\n",
       "      <td>False</td>\n",
       "      <td>281</td>\n",
       "    </tr>\n",
       "    <tr>\n",
       "      <th>6</th>\n",
       "      <td>200 - 400</td>\n",
       "      <td>True</td>\n",
       "      <td>22</td>\n",
       "    </tr>\n",
       "    <tr>\n",
       "      <th>1</th>\n",
       "      <td>400 - 600</td>\n",
       "      <td>False</td>\n",
       "      <td>145</td>\n",
       "    </tr>\n",
       "    <tr>\n",
       "      <th>7</th>\n",
       "      <td>400 - 600</td>\n",
       "      <td>True</td>\n",
       "      <td>6</td>\n",
       "    </tr>\n",
       "    <tr>\n",
       "      <th>3</th>\n",
       "      <td>600 - 800</td>\n",
       "      <td>False</td>\n",
       "      <td>98</td>\n",
       "    </tr>\n",
       "    <tr>\n",
       "      <th>8</th>\n",
       "      <td>600 - 800</td>\n",
       "      <td>True</td>\n",
       "      <td>5</td>\n",
       "    </tr>\n",
       "    <tr>\n",
       "      <th>2</th>\n",
       "      <td>800-1000</td>\n",
       "      <td>False</td>\n",
       "      <td>132</td>\n",
       "    </tr>\n",
       "    <tr>\n",
       "      <th>9</th>\n",
       "      <td>800-1000</td>\n",
       "      <td>True</td>\n",
       "      <td>3</td>\n",
       "    </tr>\n",
       "  </tbody>\n",
       "</table>\n",
       "</div>"
      ],
      "text/plain": [
       "  Score Range  Default  counts\n",
       "4       0-200    False      94\n",
       "5       0-200     True      50\n",
       "0   200 - 400    False     281\n",
       "6   200 - 400     True      22\n",
       "1   400 - 600    False     145\n",
       "7   400 - 600     True       6\n",
       "3   600 - 800    False      98\n",
       "8   600 - 800     True       5\n",
       "2    800-1000    False     132\n",
       "9    800-1000     True       3"
      ]
     },
     "execution_count": 35,
     "metadata": {},
     "output_type": "execute_result"
    }
   ],
   "source": [
    "graph3 = df[['Score Range', 'Default']].value_counts().reset_index(name='counts').sort_values('Score Range', ascending=True)\n",
    "graph3"
   ]
  },
  {
   "cell_type": "code",
   "execution_count": 36,
   "id": "c06c90e0",
   "metadata": {},
   "outputs": [
    {
     "data": {
      "image/png": "[encoded data removed]",
      "text/plain": [
       "<Figure size 864x576 with 1 Axes>"
      ]
     },
     "metadata": {},
     "output_type": "display_data"
    }
   ],
   "source": [
    "chart3 = sns.barplot(x='Score Range', y='counts', hue='Default', data=graph3)"
   ]
  },
  {
   "cell_type": "markdown",
   "id": "f69e4173",
   "metadata": {},
   "source": [
    "- As we said, the people with the higher credit score tend to default less as the people with the lower credit score."
   ]
  }
 ],
 "metadata": {
  "kernelspec": {
   "display_name": "Python 3",
   "language": "python",
   "name": "python3"
  },
  "language_info": {
   "codemirror_mode": {
    "name": "ipython",
    "version": 3
   },
   "file_extension": ".py",
   "mimetype": "text/x-python",
   "name": "python",
   "nbconvert_exporter": "python",
   "pygments_lexer": "ipython3",
   "version": "3.8.8"
  }
 },
 "nbformat": 4,
 "nbformat_minor": 5
}
