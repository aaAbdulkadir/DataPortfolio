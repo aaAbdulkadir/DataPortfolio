{
 "cells": [
  {
   "cell_type": "code",
   "execution_count": 1,
   "metadata": {
    "colab": {
     "base_uri": "https://localhost:8080/",
     "height": 317
    },
    "id": "0cB05gAiT4Po",
    "outputId": "8b2f5965-f783-42c9-b0a4-854386ec1da2"
   },
   "outputs": [
    {
     "data": {
      "text/html": [
       "<div>\n",
       "<style scoped>\n",
       "    .dataframe tbody tr th:only-of-type {\n",
       "        vertical-align: middle;\n",
       "    }\n",
       "\n",
       "    .dataframe tbody tr th {\n",
       "        vertical-align: top;\n",
       "    }\n",
       "\n",
       "    .dataframe thead th {\n",
       "        text-align: right;\n",
       "    }\n",
       "</style>\n",
       "<table border=\"1\" class=\"dataframe\">\n",
       "  <thead>\n",
       "    <tr style=\"text-align: right;\">\n",
       "      <th></th>\n",
       "      <th>id</th>\n",
       "      <th>diagnosis</th>\n",
       "      <th>radius_mean</th>\n",
       "      <th>texture_mean</th>\n",
       "      <th>perimeter_mean</th>\n",
       "      <th>area_mean</th>\n",
       "      <th>smoothness_mean</th>\n",
       "      <th>compactness_mean</th>\n",
       "      <th>concavity_mean</th>\n",
       "      <th>concave points_mean</th>\n",
       "      <th>...</th>\n",
       "      <th>texture_worst</th>\n",
       "      <th>perimeter_worst</th>\n",
       "      <th>area_worst</th>\n",
       "      <th>smoothness_worst</th>\n",
       "      <th>compactness_worst</th>\n",
       "      <th>concavity_worst</th>\n",
       "      <th>concave points_worst</th>\n",
       "      <th>symmetry_worst</th>\n",
       "      <th>fractal_dimension_worst</th>\n",
       "      <th>Unnamed: 32</th>\n",
       "    </tr>\n",
       "  </thead>\n",
       "  <tbody>\n",
       "    <tr>\n",
       "      <th>0</th>\n",
       "      <td>842302</td>\n",
       "      <td>M</td>\n",
       "      <td>17.99</td>\n",
       "      <td>10.38</td>\n",
       "      <td>122.80</td>\n",
       "      <td>1001.0</td>\n",
       "      <td>0.11840</td>\n",
       "      <td>0.27760</td>\n",
       "      <td>0.3001</td>\n",
       "      <td>0.14710</td>\n",
       "      <td>...</td>\n",
       "      <td>17.33</td>\n",
       "      <td>184.60</td>\n",
       "      <td>2019.0</td>\n",
       "      <td>0.1622</td>\n",
       "      <td>0.6656</td>\n",
       "      <td>0.7119</td>\n",
       "      <td>0.2654</td>\n",
       "      <td>0.4601</td>\n",
       "      <td>0.11890</td>\n",
       "      <td>NaN</td>\n",
       "    </tr>\n",
       "    <tr>\n",
       "      <th>1</th>\n",
       "      <td>842517</td>\n",
       "      <td>M</td>\n",
       "      <td>20.57</td>\n",
       "      <td>17.77</td>\n",
       "      <td>132.90</td>\n",
       "      <td>1326.0</td>\n",
       "      <td>0.08474</td>\n",
       "      <td>0.07864</td>\n",
       "      <td>0.0869</td>\n",
       "      <td>0.07017</td>\n",
       "      <td>...</td>\n",
       "      <td>23.41</td>\n",
       "      <td>158.80</td>\n",
       "      <td>1956.0</td>\n",
       "      <td>0.1238</td>\n",
       "      <td>0.1866</td>\n",
       "      <td>0.2416</td>\n",
       "      <td>0.1860</td>\n",
       "      <td>0.2750</td>\n",
       "      <td>0.08902</td>\n",
       "      <td>NaN</td>\n",
       "    </tr>\n",
       "    <tr>\n",
       "      <th>2</th>\n",
       "      <td>84300903</td>\n",
       "      <td>M</td>\n",
       "      <td>19.69</td>\n",
       "      <td>21.25</td>\n",
       "      <td>130.00</td>\n",
       "      <td>1203.0</td>\n",
       "      <td>0.10960</td>\n",
       "      <td>0.15990</td>\n",
       "      <td>0.1974</td>\n",
       "      <td>0.12790</td>\n",
       "      <td>...</td>\n",
       "      <td>25.53</td>\n",
       "      <td>152.50</td>\n",
       "      <td>1709.0</td>\n",
       "      <td>0.1444</td>\n",
       "      <td>0.4245</td>\n",
       "      <td>0.4504</td>\n",
       "      <td>0.2430</td>\n",
       "      <td>0.3613</td>\n",
       "      <td>0.08758</td>\n",
       "      <td>NaN</td>\n",
       "    </tr>\n",
       "    <tr>\n",
       "      <th>3</th>\n",
       "      <td>84348301</td>\n",
       "      <td>M</td>\n",
       "      <td>11.42</td>\n",
       "      <td>20.38</td>\n",
       "      <td>77.58</td>\n",
       "      <td>386.1</td>\n",
       "      <td>0.14250</td>\n",
       "      <td>0.28390</td>\n",
       "      <td>0.2414</td>\n",
       "      <td>0.10520</td>\n",
       "      <td>...</td>\n",
       "      <td>26.50</td>\n",
       "      <td>98.87</td>\n",
       "      <td>567.7</td>\n",
       "      <td>0.2098</td>\n",
       "      <td>0.8663</td>\n",
       "      <td>0.6869</td>\n",
       "      <td>0.2575</td>\n",
       "      <td>0.6638</td>\n",
       "      <td>0.17300</td>\n",
       "      <td>NaN</td>\n",
       "    </tr>\n",
       "    <tr>\n",
       "      <th>4</th>\n",
       "      <td>84358402</td>\n",
       "      <td>M</td>\n",
       "      <td>20.29</td>\n",
       "      <td>14.34</td>\n",
       "      <td>135.10</td>\n",
       "      <td>1297.0</td>\n",
       "      <td>0.10030</td>\n",
       "      <td>0.13280</td>\n",
       "      <td>0.1980</td>\n",
       "      <td>0.10430</td>\n",
       "      <td>...</td>\n",
       "      <td>16.67</td>\n",
       "      <td>152.20</td>\n",
       "      <td>1575.0</td>\n",
       "      <td>0.1374</td>\n",
       "      <td>0.2050</td>\n",
       "      <td>0.4000</td>\n",
       "      <td>0.1625</td>\n",
       "      <td>0.2364</td>\n",
       "      <td>0.07678</td>\n",
       "      <td>NaN</td>\n",
       "    </tr>\n",
       "  </tbody>\n",
       "</table>\n",
       "<p>5 rows × 33 columns</p>\n",
       "</div>"
      ],
      "text/plain": [
       "         id diagnosis  radius_mean  texture_mean  perimeter_mean  area_mean  \\\n",
       "0    842302         M        17.99         10.38          122.80     1001.0   \n",
       "1    842517         M        20.57         17.77          132.90     1326.0   \n",
       "2  84300903         M        19.69         21.25          130.00     1203.0   \n",
       "3  84348301         M        11.42         20.38           77.58      386.1   \n",
       "4  84358402         M        20.29         14.34          135.10     1297.0   \n",
       "\n",
       "   smoothness_mean  compactness_mean  concavity_mean  concave points_mean  \\\n",
       "0          0.11840           0.27760          0.3001              0.14710   \n",
       "1          0.08474           0.07864          0.0869              0.07017   \n",
       "2          0.10960           0.15990          0.1974              0.12790   \n",
       "3          0.14250           0.28390          0.2414              0.10520   \n",
       "4          0.10030           0.13280          0.1980              0.10430   \n",
       "\n",
       "   ...  texture_worst  perimeter_worst  area_worst  smoothness_worst  \\\n",
       "0  ...          17.33           184.60      2019.0            0.1622   \n",
       "1  ...          23.41           158.80      1956.0            0.1238   \n",
       "2  ...          25.53           152.50      1709.0            0.1444   \n",
       "3  ...          26.50            98.87       567.7            0.2098   \n",
       "4  ...          16.67           152.20      1575.0            0.1374   \n",
       "\n",
       "   compactness_worst  concavity_worst  concave points_worst  symmetry_worst  \\\n",
       "0             0.6656           0.7119                0.2654          0.4601   \n",
       "1             0.1866           0.2416                0.1860          0.2750   \n",
       "2             0.4245           0.4504                0.2430          0.3613   \n",
       "3             0.8663           0.6869                0.2575          0.6638   \n",
       "4             0.2050           0.4000                0.1625          0.2364   \n",
       "\n",
       "   fractal_dimension_worst  Unnamed: 32  \n",
       "0                  0.11890          NaN  \n",
       "1                  0.08902          NaN  \n",
       "2                  0.08758          NaN  \n",
       "3                  0.17300          NaN  \n",
       "4                  0.07678          NaN  \n",
       "\n",
       "[5 rows x 33 columns]"
      ]
     },
     "execution_count": 1,
     "metadata": {},
     "output_type": "execute_result"
    }
   ],
   "source": [
    "import pandas as pd\n",
    "data = pd.read_csv('https://raw.githubusercontent.com/a-forty-two/cylons/master/data.csv')\n",
    "data.head()"
   ]
  },
  {
   "cell_type": "code",
   "execution_count": 2,
   "metadata": {
    "colab": {
     "base_uri": "https://localhost:8080/"
    },
    "id": "4YxnkrvDUC-B",
    "outputId": "9f568742-d837-4719-a468-928c0fad9fe5"
   },
   "outputs": [
    {
     "data": {
      "text/plain": [
       "Index(['id', 'diagnosis', 'radius_mean', 'texture_mean', 'perimeter_mean',\n",
       "       'area_mean', 'smoothness_mean', 'compactness_mean', 'concavity_mean',\n",
       "       'concave points_mean', 'symmetry_mean', 'fractal_dimension_mean',\n",
       "       'radius_se', 'texture_se', 'perimeter_se', 'area_se', 'smoothness_se',\n",
       "       'compactness_se', 'concavity_se', 'concave points_se', 'symmetry_se',\n",
       "       'fractal_dimension_se', 'radius_worst', 'texture_worst',\n",
       "       'perimeter_worst', 'area_worst', 'smoothness_worst',\n",
       "       'compactness_worst', 'concavity_worst', 'concave points_worst',\n",
       "       'symmetry_worst', 'fractal_dimension_worst', 'Unnamed: 32'],\n",
       "      dtype='object')"
      ]
     },
     "execution_count": 2,
     "metadata": {},
     "output_type": "execute_result"
    }
   ],
   "source": [
    "data.columns"
   ]
  },
  {
   "cell_type": "code",
   "execution_count": 3,
   "metadata": {
    "colab": {
     "base_uri": "https://localhost:8080/",
     "height": 287
    },
    "id": "8-awsoyNULbu",
    "outputId": "7c499a00-a5f7-42be-c7bd-5f0bdd83c169"
   },
   "outputs": [
    {
     "data": {
      "text/html": [
       "<div>\n",
       "<style scoped>\n",
       "    .dataframe tbody tr th:only-of-type {\n",
       "        vertical-align: middle;\n",
       "    }\n",
       "\n",
       "    .dataframe tbody tr th {\n",
       "        vertical-align: top;\n",
       "    }\n",
       "\n",
       "    .dataframe thead th {\n",
       "        text-align: right;\n",
       "    }\n",
       "</style>\n",
       "<table border=\"1\" class=\"dataframe\">\n",
       "  <thead>\n",
       "    <tr style=\"text-align: right;\">\n",
       "      <th></th>\n",
       "      <th>id</th>\n",
       "      <th>diagnosis</th>\n",
       "      <th>radius_mean</th>\n",
       "      <th>texture_mean</th>\n",
       "      <th>perimeter_mean</th>\n",
       "      <th>area_mean</th>\n",
       "      <th>smoothness_mean</th>\n",
       "      <th>compactness_mean</th>\n",
       "      <th>concavity_mean</th>\n",
       "      <th>concave points_mean</th>\n",
       "      <th>symmetry_mean</th>\n",
       "      <th>fractal_dimension_mean</th>\n",
       "    </tr>\n",
       "  </thead>\n",
       "  <tbody>\n",
       "    <tr>\n",
       "      <th>0</th>\n",
       "      <td>842302</td>\n",
       "      <td>M</td>\n",
       "      <td>17.99</td>\n",
       "      <td>10.38</td>\n",
       "      <td>122.80</td>\n",
       "      <td>1001.0</td>\n",
       "      <td>0.11840</td>\n",
       "      <td>0.27760</td>\n",
       "      <td>0.3001</td>\n",
       "      <td>0.14710</td>\n",
       "      <td>0.2419</td>\n",
       "      <td>0.07871</td>\n",
       "    </tr>\n",
       "    <tr>\n",
       "      <th>1</th>\n",
       "      <td>842517</td>\n",
       "      <td>M</td>\n",
       "      <td>20.57</td>\n",
       "      <td>17.77</td>\n",
       "      <td>132.90</td>\n",
       "      <td>1326.0</td>\n",
       "      <td>0.08474</td>\n",
       "      <td>0.07864</td>\n",
       "      <td>0.0869</td>\n",
       "      <td>0.07017</td>\n",
       "      <td>0.1812</td>\n",
       "      <td>0.05667</td>\n",
       "    </tr>\n",
       "    <tr>\n",
       "      <th>2</th>\n",
       "      <td>84300903</td>\n",
       "      <td>M</td>\n",
       "      <td>19.69</td>\n",
       "      <td>21.25</td>\n",
       "      <td>130.00</td>\n",
       "      <td>1203.0</td>\n",
       "      <td>0.10960</td>\n",
       "      <td>0.15990</td>\n",
       "      <td>0.1974</td>\n",
       "      <td>0.12790</td>\n",
       "      <td>0.2069</td>\n",
       "      <td>0.05999</td>\n",
       "    </tr>\n",
       "    <tr>\n",
       "      <th>3</th>\n",
       "      <td>84348301</td>\n",
       "      <td>M</td>\n",
       "      <td>11.42</td>\n",
       "      <td>20.38</td>\n",
       "      <td>77.58</td>\n",
       "      <td>386.1</td>\n",
       "      <td>0.14250</td>\n",
       "      <td>0.28390</td>\n",
       "      <td>0.2414</td>\n",
       "      <td>0.10520</td>\n",
       "      <td>0.2597</td>\n",
       "      <td>0.09744</td>\n",
       "    </tr>\n",
       "    <tr>\n",
       "      <th>4</th>\n",
       "      <td>84358402</td>\n",
       "      <td>M</td>\n",
       "      <td>20.29</td>\n",
       "      <td>14.34</td>\n",
       "      <td>135.10</td>\n",
       "      <td>1297.0</td>\n",
       "      <td>0.10030</td>\n",
       "      <td>0.13280</td>\n",
       "      <td>0.1980</td>\n",
       "      <td>0.10430</td>\n",
       "      <td>0.1809</td>\n",
       "      <td>0.05883</td>\n",
       "    </tr>\n",
       "  </tbody>\n",
       "</table>\n",
       "</div>"
      ],
      "text/plain": [
       "         id diagnosis  radius_mean  texture_mean  perimeter_mean  area_mean  \\\n",
       "0    842302         M        17.99         10.38          122.80     1001.0   \n",
       "1    842517         M        20.57         17.77          132.90     1326.0   \n",
       "2  84300903         M        19.69         21.25          130.00     1203.0   \n",
       "3  84348301         M        11.42         20.38           77.58      386.1   \n",
       "4  84358402         M        20.29         14.34          135.10     1297.0   \n",
       "\n",
       "   smoothness_mean  compactness_mean  concavity_mean  concave points_mean  \\\n",
       "0          0.11840           0.27760          0.3001              0.14710   \n",
       "1          0.08474           0.07864          0.0869              0.07017   \n",
       "2          0.10960           0.15990          0.1974              0.12790   \n",
       "3          0.14250           0.28390          0.2414              0.10520   \n",
       "4          0.10030           0.13280          0.1980              0.10430   \n",
       "\n",
       "   symmetry_mean  fractal_dimension_mean  \n",
       "0         0.2419                 0.07871  \n",
       "1         0.1812                 0.05667  \n",
       "2         0.2069                 0.05999  \n",
       "3         0.2597                 0.09744  \n",
       "4         0.1809                 0.05883  "
      ]
     },
     "execution_count": 3,
     "metadata": {},
     "output_type": "execute_result"
    }
   ],
   "source": [
    "our_columns = ['id', 'diagnosis', 'radius_mean', 'texture_mean', 'perimeter_mean',\n",
    "       'area_mean', 'smoothness_mean', 'compactness_mean', 'concavity_mean',\n",
    "       'concave points_mean', 'symmetry_mean', 'fractal_dimension_mean']\n",
    "df = data.loc[:, our_columns]\n",
    "df.head()"
   ]
  },
  {
   "cell_type": "code",
   "execution_count": 4,
   "metadata": {
    "id": "0Mjat7iTUVdP"
   },
   "outputs": [],
   "source": [
    "# have we identified y?\n",
    "# have we identified x?\n",
    "# Y -> diagnosis\n",
    "# X -> thanks to correlation test, we choose\n",
    "# NOT to use the ID column-> but everything\n",
    "# else can be at least tested upon!"
   ]
  },
  {
   "cell_type": "code",
   "execution_count": 5,
   "metadata": {
    "colab": {
     "base_uri": "https://localhost:8080/",
     "height": 319
    },
    "id": "DI5EINo6Uevt",
    "outputId": "01787cb2-2834-4016-d53a-6ec04555005c"
   },
   "outputs": [
    {
     "data": {
      "text/html": [
       "<div>\n",
       "<style scoped>\n",
       "    .dataframe tbody tr th:only-of-type {\n",
       "        vertical-align: middle;\n",
       "    }\n",
       "\n",
       "    .dataframe tbody tr th {\n",
       "        vertical-align: top;\n",
       "    }\n",
       "\n",
       "    .dataframe thead th {\n",
       "        text-align: right;\n",
       "    }\n",
       "</style>\n",
       "<table border=\"1\" class=\"dataframe\">\n",
       "  <thead>\n",
       "    <tr style=\"text-align: right;\">\n",
       "      <th></th>\n",
       "      <th>diagnosis</th>\n",
       "      <th>radius_mean</th>\n",
       "      <th>texture_mean</th>\n",
       "      <th>perimeter_mean</th>\n",
       "      <th>area_mean</th>\n",
       "      <th>smoothness_mean</th>\n",
       "      <th>compactness_mean</th>\n",
       "      <th>concavity_mean</th>\n",
       "      <th>concave points_mean</th>\n",
       "      <th>symmetry_mean</th>\n",
       "      <th>fractal_dimension_mean</th>\n",
       "    </tr>\n",
       "    <tr>\n",
       "      <th>id</th>\n",
       "      <th></th>\n",
       "      <th></th>\n",
       "      <th></th>\n",
       "      <th></th>\n",
       "      <th></th>\n",
       "      <th></th>\n",
       "      <th></th>\n",
       "      <th></th>\n",
       "      <th></th>\n",
       "      <th></th>\n",
       "      <th></th>\n",
       "    </tr>\n",
       "  </thead>\n",
       "  <tbody>\n",
       "    <tr>\n",
       "      <th>842302</th>\n",
       "      <td>M</td>\n",
       "      <td>17.99</td>\n",
       "      <td>10.38</td>\n",
       "      <td>122.80</td>\n",
       "      <td>1001.0</td>\n",
       "      <td>0.11840</td>\n",
       "      <td>0.27760</td>\n",
       "      <td>0.3001</td>\n",
       "      <td>0.14710</td>\n",
       "      <td>0.2419</td>\n",
       "      <td>0.07871</td>\n",
       "    </tr>\n",
       "    <tr>\n",
       "      <th>842517</th>\n",
       "      <td>M</td>\n",
       "      <td>20.57</td>\n",
       "      <td>17.77</td>\n",
       "      <td>132.90</td>\n",
       "      <td>1326.0</td>\n",
       "      <td>0.08474</td>\n",
       "      <td>0.07864</td>\n",
       "      <td>0.0869</td>\n",
       "      <td>0.07017</td>\n",
       "      <td>0.1812</td>\n",
       "      <td>0.05667</td>\n",
       "    </tr>\n",
       "    <tr>\n",
       "      <th>84300903</th>\n",
       "      <td>M</td>\n",
       "      <td>19.69</td>\n",
       "      <td>21.25</td>\n",
       "      <td>130.00</td>\n",
       "      <td>1203.0</td>\n",
       "      <td>0.10960</td>\n",
       "      <td>0.15990</td>\n",
       "      <td>0.1974</td>\n",
       "      <td>0.12790</td>\n",
       "      <td>0.2069</td>\n",
       "      <td>0.05999</td>\n",
       "    </tr>\n",
       "    <tr>\n",
       "      <th>84348301</th>\n",
       "      <td>M</td>\n",
       "      <td>11.42</td>\n",
       "      <td>20.38</td>\n",
       "      <td>77.58</td>\n",
       "      <td>386.1</td>\n",
       "      <td>0.14250</td>\n",
       "      <td>0.28390</td>\n",
       "      <td>0.2414</td>\n",
       "      <td>0.10520</td>\n",
       "      <td>0.2597</td>\n",
       "      <td>0.09744</td>\n",
       "    </tr>\n",
       "    <tr>\n",
       "      <th>84358402</th>\n",
       "      <td>M</td>\n",
       "      <td>20.29</td>\n",
       "      <td>14.34</td>\n",
       "      <td>135.10</td>\n",
       "      <td>1297.0</td>\n",
       "      <td>0.10030</td>\n",
       "      <td>0.13280</td>\n",
       "      <td>0.1980</td>\n",
       "      <td>0.10430</td>\n",
       "      <td>0.1809</td>\n",
       "      <td>0.05883</td>\n",
       "    </tr>\n",
       "  </tbody>\n",
       "</table>\n",
       "</div>"
      ],
      "text/plain": [
       "         diagnosis  radius_mean  texture_mean  perimeter_mean  area_mean  \\\n",
       "id                                                                         \n",
       "842302           M        17.99         10.38          122.80     1001.0   \n",
       "842517           M        20.57         17.77          132.90     1326.0   \n",
       "84300903         M        19.69         21.25          130.00     1203.0   \n",
       "84348301         M        11.42         20.38           77.58      386.1   \n",
       "84358402         M        20.29         14.34          135.10     1297.0   \n",
       "\n",
       "          smoothness_mean  compactness_mean  concavity_mean  \\\n",
       "id                                                            \n",
       "842302            0.11840           0.27760          0.3001   \n",
       "842517            0.08474           0.07864          0.0869   \n",
       "84300903          0.10960           0.15990          0.1974   \n",
       "84348301          0.14250           0.28390          0.2414   \n",
       "84358402          0.10030           0.13280          0.1980   \n",
       "\n",
       "          concave points_mean  symmetry_mean  fractal_dimension_mean  \n",
       "id                                                                    \n",
       "842302                0.14710         0.2419                 0.07871  \n",
       "842517                0.07017         0.1812                 0.05667  \n",
       "84300903              0.12790         0.2069                 0.05999  \n",
       "84348301              0.10520         0.2597                 0.09744  \n",
       "84358402              0.10430         0.1809                 0.05883  "
      ]
     },
     "execution_count": 5,
     "metadata": {},
     "output_type": "execute_result"
    }
   ],
   "source": [
    "# get rid of ID without losing it\n",
    "df = df.set_index('id')\n",
    "df.head()\n",
    "# ID won't participate in ML anymore\n",
    "# ID has not been LOST either!"
   ]
  },
  {
   "cell_type": "code",
   "execution_count": 6,
   "metadata": {
    "colab": {
     "base_uri": "https://localhost:8080/"
    },
    "id": "dfokVNsmY2o3",
    "outputId": "6936af44-0337-4dc5-ef87-eaee985e1250"
   },
   "outputs": [
    {
     "name": "stdout",
     "output_type": "stream",
     "text": [
      "diagnosis 0\n",
      "radius_mean 0\n",
      "texture_mean 0\n",
      "perimeter_mean 0\n",
      "area_mean 0\n",
      "smoothness_mean 0\n",
      "compactness_mean 0\n",
      "concavity_mean 0\n",
      "concave points_mean 0\n",
      "symmetry_mean 0\n",
      "fractal_dimension_mean 0\n"
     ]
    }
   ],
   "source": [
    "# Check for missing values\n",
    "for col_name in df.columns:\n",
    "  print(col_name, end=\" \")\n",
    "  print(df[col_name].isna().sum())"
   ]
  },
  {
   "cell_type": "code",
   "execution_count": null,
   "metadata": {
    "id": "EA1uo4EiUwfo"
   },
   "outputs": [],
   "source": [
    "# diagnosis = weights * [df.columns] + bias\n",
    "# weights, bias -> LEARNT by the machine"
   ]
  },
  {
   "cell_type": "code",
   "execution_count": null,
   "metadata": {
    "id": "WGpRd6elVInn"
   },
   "outputs": [],
   "source": [
    "# BASIC CHECKS WITHOUT WHICH ML CANNOT HAPPEN\n",
    "# 1) NO Missing Values\n",
    "# 2) NO Non-Numerical Values!"
   ]
  },
  {
   "cell_type": "code",
   "execution_count": null,
   "metadata": {
    "id": "32pZ0Fg9VTXx"
   },
   "outputs": [],
   "source": [
    "# 1) there are all values present\n",
    "# 2) we have M and B that needs to be\n",
    "# numerical instead"
   ]
  },
  {
   "cell_type": "code",
   "execution_count": null,
   "metadata": {
    "id": "BqyuivxbVaOa"
   },
   "outputs": [],
   "source": [
    "# LAMBDA is a 1 LINE FUNCTION\n",
    "# Advantage of a function->\n",
    "#     its a block of code executed together\n",
    "# Disadvantage-> a MEMORY jump is required\n",
    "#     Executor jumps from main block to \n",
    "#     function block, executes it, and then\n",
    "#     jumps back to main block-> time!\n",
    "\n",
    "# LAMBDA-> ability to perform a 1-line \n",
    "#     function LIKE operation for which NO\n",
    "#     JUMP is required!\n",
    "#     LAMBDA is a 1-line function that executes\n",
    "#     MUCH faster than a normal function"
   ]
  },
  {
   "cell_type": "code",
   "execution_count": null,
   "metadata": {
    "id": "G8b9qvwHWPtK"
   },
   "outputs": [],
   "source": [
    "# Syntax-> \n",
    "# <name> = lambda input: what_to_do_with_i/p\n",
    "# example:\n",
    "# mylambda = lambda x : x+1\n",
    "# example:\n",
    "# deg_to_K = lambda temp: temp + 273\n"
   ]
  },
  {
   "cell_type": "code",
   "execution_count": 7,
   "metadata": {
    "id": "vuW0RxAAWhpo"
   },
   "outputs": [],
   "source": [
    "outputs = { 'B': 0, 'M': 1}\n",
    "transform_logic = lambda xyz: outputs[xyz]"
   ]
  },
  {
   "cell_type": "code",
   "execution_count": 8,
   "metadata": {
    "colab": {
     "base_uri": "https://localhost:8080/"
    },
    "id": "_oR6XWUlXWk2",
    "outputId": "7902476f-047b-4f83-850c-27e5fb1236e7"
   },
   "outputs": [
    {
     "data": {
      "text/plain": [
       "1"
      ]
     },
     "execution_count": 8,
     "metadata": {},
     "output_type": "execute_result"
    }
   ],
   "source": [
    "# test\n",
    "transform_logic('M')"
   ]
  },
  {
   "cell_type": "code",
   "execution_count": 9,
   "metadata": {
    "id": "_p_TXr-EXYJc"
   },
   "outputs": [],
   "source": [
    "# You can take a FUNCTION/LAMBDA and pass\n",
    "#it as a MAPPING logic\n",
    "# Mapping logic will be applied to EVERY \n",
    "# value in the target column\n",
    "Y = df['diagnosis'].map(transform_logic)"
   ]
  },
  {
   "cell_type": "code",
   "execution_count": 10,
   "metadata": {
    "colab": {
     "base_uri": "https://localhost:8080/"
    },
    "id": "ACOpuUCWXvqk",
    "outputId": "0a615066-577f-4455-95fb-5003aaecb469"
   },
   "outputs": [
    {
     "data": {
      "text/plain": [
       "id\n",
       "924632    0\n",
       "924934    0\n",
       "924964    0\n",
       "925236    0\n",
       "925277    0\n",
       "925291    0\n",
       "925292    0\n",
       "925311    0\n",
       "925622    1\n",
       "926125    1\n",
       "926424    1\n",
       "926682    1\n",
       "926954    1\n",
       "927241    1\n",
       "92751     0\n",
       "Name: diagnosis, dtype: int64"
      ]
     },
     "execution_count": 10,
     "metadata": {},
     "output_type": "execute_result"
    }
   ],
   "source": [
    "Y[-15:]"
   ]
  },
  {
   "cell_type": "code",
   "execution_count": 11,
   "metadata": {
    "colab": {
     "base_uri": "https://localhost:8080/"
    },
    "id": "IaYvAzMJXxMW",
    "outputId": "b3494709-4271-4325-a880-59f85421fa92"
   },
   "outputs": [
    {
     "data": {
      "text/plain": [
       "id\n",
       "924632    B\n",
       "924934    B\n",
       "924964    B\n",
       "925236    B\n",
       "925277    B\n",
       "925291    B\n",
       "925292    B\n",
       "925311    B\n",
       "925622    M\n",
       "926125    M\n",
       "926424    M\n",
       "926682    M\n",
       "926954    M\n",
       "927241    M\n",
       "92751     B\n",
       "Name: diagnosis, dtype: object"
      ]
     },
     "execution_count": 11,
     "metadata": {},
     "output_type": "execute_result"
    }
   ],
   "source": [
    "df['diagnosis'][-15:]"
   ]
  },
  {
   "cell_type": "code",
   "execution_count": 12,
   "metadata": {
    "id": "sjqE6bcoX3S4"
   },
   "outputs": [],
   "source": [
    "# TRANSFORM-> on a single item\n",
    "# APPLY that logic to EVERY VALUE\n",
    "\n",
    "# M and B are non trainable\n",
    "# TRANSFORMATION-> convert M to 1, and B->0\n",
    "# "
   ]
  },
  {
   "cell_type": "code",
   "execution_count": 13,
   "metadata": {
    "id": "Ggry_xAQYboQ"
   },
   "outputs": [],
   "source": [
    "logic = lambda val: 1 if val=='M' else 0\n",
    "Y = df['diagnosis'].map(logic)"
   ]
  },
  {
   "cell_type": "code",
   "execution_count": 14,
   "metadata": {
    "colab": {
     "base_uri": "https://localhost:8080/"
    },
    "id": "6nkp-HntYsHz",
    "outputId": "f66b66b0-a515-4efa-aa8d-70179c9c12fb"
   },
   "outputs": [
    {
     "data": {
      "text/plain": [
       "id\n",
       "924632    0\n",
       "924934    0\n",
       "924964    0\n",
       "925236    0\n",
       "925277    0\n",
       "925291    0\n",
       "925292    0\n",
       "925311    0\n",
       "925622    1\n",
       "926125    1\n",
       "926424    1\n",
       "926682    1\n",
       "926954    1\n",
       "927241    1\n",
       "92751     0\n",
       "Name: diagnosis, dtype: int64"
      ]
     },
     "execution_count": 14,
     "metadata": {},
     "output_type": "execute_result"
    }
   ],
   "source": [
    "Y[-15:]"
   ]
  },
  {
   "cell_type": "code",
   "execution_count": 15,
   "metadata": {
    "colab": {
     "base_uri": "https://localhost:8080/"
    },
    "id": "-_q6spb1Ytsv",
    "outputId": "6adcbf45-0dd3-4211-bb3f-45918bfcafa0"
   },
   "outputs": [
    {
     "data": {
      "text/plain": [
       "Index(['diagnosis', 'radius_mean', 'texture_mean', 'perimeter_mean',\n",
       "       'area_mean', 'smoothness_mean', 'compactness_mean', 'concavity_mean',\n",
       "       'concave points_mean', 'symmetry_mean', 'fractal_dimension_mean'],\n",
       "      dtype='object')"
      ]
     },
     "execution_count": 15,
     "metadata": {},
     "output_type": "execute_result"
    }
   ],
   "source": [
    "# Y has only numbers now!\n",
    "# Only problem is X\n",
    "df.columns"
   ]
  },
  {
   "cell_type": "code",
   "execution_count": 16,
   "metadata": {
    "id": "gLqNk9IRZOyU"
   },
   "outputs": [],
   "source": [
    "# in iloc-> we are passing 1, because we\n",
    "# want 0th column ('diagnosis') to be ignored\n",
    "X = df.iloc[:, 1:]"
   ]
  },
  {
   "cell_type": "code",
   "execution_count": 17,
   "metadata": {
    "colab": {
     "base_uri": "https://localhost:8080/",
     "height": 319
    },
    "id": "b8gKBmIFZiAk",
    "outputId": "4fc31361-a891-425a-8ebf-28aa7bbd9c00"
   },
   "outputs": [
    {
     "data": {
      "text/html": [
       "<div>\n",
       "<style scoped>\n",
       "    .dataframe tbody tr th:only-of-type {\n",
       "        vertical-align: middle;\n",
       "    }\n",
       "\n",
       "    .dataframe tbody tr th {\n",
       "        vertical-align: top;\n",
       "    }\n",
       "\n",
       "    .dataframe thead th {\n",
       "        text-align: right;\n",
       "    }\n",
       "</style>\n",
       "<table border=\"1\" class=\"dataframe\">\n",
       "  <thead>\n",
       "    <tr style=\"text-align: right;\">\n",
       "      <th></th>\n",
       "      <th>radius_mean</th>\n",
       "      <th>texture_mean</th>\n",
       "      <th>perimeter_mean</th>\n",
       "      <th>area_mean</th>\n",
       "      <th>smoothness_mean</th>\n",
       "      <th>compactness_mean</th>\n",
       "      <th>concavity_mean</th>\n",
       "      <th>concave points_mean</th>\n",
       "      <th>symmetry_mean</th>\n",
       "      <th>fractal_dimension_mean</th>\n",
       "    </tr>\n",
       "    <tr>\n",
       "      <th>id</th>\n",
       "      <th></th>\n",
       "      <th></th>\n",
       "      <th></th>\n",
       "      <th></th>\n",
       "      <th></th>\n",
       "      <th></th>\n",
       "      <th></th>\n",
       "      <th></th>\n",
       "      <th></th>\n",
       "      <th></th>\n",
       "    </tr>\n",
       "  </thead>\n",
       "  <tbody>\n",
       "    <tr>\n",
       "      <th>842302</th>\n",
       "      <td>17.99</td>\n",
       "      <td>10.38</td>\n",
       "      <td>122.80</td>\n",
       "      <td>1001.0</td>\n",
       "      <td>0.11840</td>\n",
       "      <td>0.27760</td>\n",
       "      <td>0.3001</td>\n",
       "      <td>0.14710</td>\n",
       "      <td>0.2419</td>\n",
       "      <td>0.07871</td>\n",
       "    </tr>\n",
       "    <tr>\n",
       "      <th>842517</th>\n",
       "      <td>20.57</td>\n",
       "      <td>17.77</td>\n",
       "      <td>132.90</td>\n",
       "      <td>1326.0</td>\n",
       "      <td>0.08474</td>\n",
       "      <td>0.07864</td>\n",
       "      <td>0.0869</td>\n",
       "      <td>0.07017</td>\n",
       "      <td>0.1812</td>\n",
       "      <td>0.05667</td>\n",
       "    </tr>\n",
       "    <tr>\n",
       "      <th>84300903</th>\n",
       "      <td>19.69</td>\n",
       "      <td>21.25</td>\n",
       "      <td>130.00</td>\n",
       "      <td>1203.0</td>\n",
       "      <td>0.10960</td>\n",
       "      <td>0.15990</td>\n",
       "      <td>0.1974</td>\n",
       "      <td>0.12790</td>\n",
       "      <td>0.2069</td>\n",
       "      <td>0.05999</td>\n",
       "    </tr>\n",
       "    <tr>\n",
       "      <th>84348301</th>\n",
       "      <td>11.42</td>\n",
       "      <td>20.38</td>\n",
       "      <td>77.58</td>\n",
       "      <td>386.1</td>\n",
       "      <td>0.14250</td>\n",
       "      <td>0.28390</td>\n",
       "      <td>0.2414</td>\n",
       "      <td>0.10520</td>\n",
       "      <td>0.2597</td>\n",
       "      <td>0.09744</td>\n",
       "    </tr>\n",
       "    <tr>\n",
       "      <th>84358402</th>\n",
       "      <td>20.29</td>\n",
       "      <td>14.34</td>\n",
       "      <td>135.10</td>\n",
       "      <td>1297.0</td>\n",
       "      <td>0.10030</td>\n",
       "      <td>0.13280</td>\n",
       "      <td>0.1980</td>\n",
       "      <td>0.10430</td>\n",
       "      <td>0.1809</td>\n",
       "      <td>0.05883</td>\n",
       "    </tr>\n",
       "  </tbody>\n",
       "</table>\n",
       "</div>"
      ],
      "text/plain": [
       "          radius_mean  texture_mean  perimeter_mean  area_mean  \\\n",
       "id                                                               \n",
       "842302          17.99         10.38          122.80     1001.0   \n",
       "842517          20.57         17.77          132.90     1326.0   \n",
       "84300903        19.69         21.25          130.00     1203.0   \n",
       "84348301        11.42         20.38           77.58      386.1   \n",
       "84358402        20.29         14.34          135.10     1297.0   \n",
       "\n",
       "          smoothness_mean  compactness_mean  concavity_mean  \\\n",
       "id                                                            \n",
       "842302            0.11840           0.27760          0.3001   \n",
       "842517            0.08474           0.07864          0.0869   \n",
       "84300903          0.10960           0.15990          0.1974   \n",
       "84348301          0.14250           0.28390          0.2414   \n",
       "84358402          0.10030           0.13280          0.1980   \n",
       "\n",
       "          concave points_mean  symmetry_mean  fractal_dimension_mean  \n",
       "id                                                                    \n",
       "842302                0.14710         0.2419                 0.07871  \n",
       "842517                0.07017         0.1812                 0.05667  \n",
       "84300903              0.12790         0.2069                 0.05999  \n",
       "84348301              0.10520         0.2597                 0.09744  \n",
       "84358402              0.10430         0.1809                 0.05883  "
      ]
     },
     "execution_count": 17,
     "metadata": {},
     "output_type": "execute_result"
    }
   ],
   "source": [
    "X.head()"
   ]
  },
  {
   "cell_type": "code",
   "execution_count": 18,
   "metadata": {
    "id": "z9qfyRbyZi8I"
   },
   "outputs": [],
   "source": [
    "# X is not normalized\n",
    "# Optionally we can normalize the data also"
   ]
  },
  {
   "cell_type": "code",
   "execution_count": 19,
   "metadata": {
    "id": "NWV5I4y0ZoVo"
   },
   "outputs": [],
   "source": [
    "# Z-score = (data-mean)/standard_dev\n",
    "mu = df.describe().T['mean']\n",
    "sigma = df.describe().T['std']\n",
    "X_norm = (X-mu)/sigma"
   ]
  },
  {
   "cell_type": "code",
   "execution_count": 20,
   "metadata": {
    "colab": {
     "base_uri": "https://localhost:8080/",
     "height": 319
    },
    "id": "QYONmhAzZ3Bu",
    "outputId": "ea20958f-9191-4f6a-fcbe-9994ba4174c0"
   },
   "outputs": [
    {
     "data": {
      "text/html": [
       "<div>\n",
       "<style scoped>\n",
       "    .dataframe tbody tr th:only-of-type {\n",
       "        vertical-align: middle;\n",
       "    }\n",
       "\n",
       "    .dataframe tbody tr th {\n",
       "        vertical-align: top;\n",
       "    }\n",
       "\n",
       "    .dataframe thead th {\n",
       "        text-align: right;\n",
       "    }\n",
       "</style>\n",
       "<table border=\"1\" class=\"dataframe\">\n",
       "  <thead>\n",
       "    <tr style=\"text-align: right;\">\n",
       "      <th></th>\n",
       "      <th>radius_mean</th>\n",
       "      <th>texture_mean</th>\n",
       "      <th>perimeter_mean</th>\n",
       "      <th>area_mean</th>\n",
       "      <th>smoothness_mean</th>\n",
       "      <th>compactness_mean</th>\n",
       "      <th>concavity_mean</th>\n",
       "      <th>concave points_mean</th>\n",
       "      <th>symmetry_mean</th>\n",
       "      <th>fractal_dimension_mean</th>\n",
       "    </tr>\n",
       "    <tr>\n",
       "      <th>id</th>\n",
       "      <th></th>\n",
       "      <th></th>\n",
       "      <th></th>\n",
       "      <th></th>\n",
       "      <th></th>\n",
       "      <th></th>\n",
       "      <th></th>\n",
       "      <th></th>\n",
       "      <th></th>\n",
       "      <th></th>\n",
       "    </tr>\n",
       "  </thead>\n",
       "  <tbody>\n",
       "    <tr>\n",
       "      <th>842302</th>\n",
       "      <td>1.096100</td>\n",
       "      <td>-2.071512</td>\n",
       "      <td>1.268817</td>\n",
       "      <td>0.983510</td>\n",
       "      <td>1.567087</td>\n",
       "      <td>3.280628</td>\n",
       "      <td>2.650542</td>\n",
       "      <td>2.530249</td>\n",
       "      <td>2.215566</td>\n",
       "      <td>2.253764</td>\n",
       "    </tr>\n",
       "    <tr>\n",
       "      <th>842517</th>\n",
       "      <td>1.828212</td>\n",
       "      <td>-0.353322</td>\n",
       "      <td>1.684473</td>\n",
       "      <td>1.907030</td>\n",
       "      <td>-0.826235</td>\n",
       "      <td>-0.486643</td>\n",
       "      <td>-0.023825</td>\n",
       "      <td>0.547662</td>\n",
       "      <td>0.001391</td>\n",
       "      <td>-0.867889</td>\n",
       "    </tr>\n",
       "    <tr>\n",
       "      <th>84300903</th>\n",
       "      <td>1.578499</td>\n",
       "      <td>0.455786</td>\n",
       "      <td>1.565126</td>\n",
       "      <td>1.557513</td>\n",
       "      <td>0.941382</td>\n",
       "      <td>1.052000</td>\n",
       "      <td>1.362280</td>\n",
       "      <td>2.035440</td>\n",
       "      <td>0.938859</td>\n",
       "      <td>-0.397658</td>\n",
       "    </tr>\n",
       "    <tr>\n",
       "      <th>84348301</th>\n",
       "      <td>-0.768233</td>\n",
       "      <td>0.253509</td>\n",
       "      <td>-0.592166</td>\n",
       "      <td>-0.763792</td>\n",
       "      <td>3.280667</td>\n",
       "      <td>3.399917</td>\n",
       "      <td>1.914213</td>\n",
       "      <td>1.450431</td>\n",
       "      <td>2.864862</td>\n",
       "      <td>4.906602</td>\n",
       "    </tr>\n",
       "    <tr>\n",
       "      <th>84358402</th>\n",
       "      <td>1.748758</td>\n",
       "      <td>-1.150804</td>\n",
       "      <td>1.775011</td>\n",
       "      <td>1.824624</td>\n",
       "      <td>0.280125</td>\n",
       "      <td>0.538866</td>\n",
       "      <td>1.369806</td>\n",
       "      <td>1.427237</td>\n",
       "      <td>-0.009552</td>\n",
       "      <td>-0.561956</td>\n",
       "    </tr>\n",
       "  </tbody>\n",
       "</table>\n",
       "</div>"
      ],
      "text/plain": [
       "          radius_mean  texture_mean  perimeter_mean  area_mean  \\\n",
       "id                                                               \n",
       "842302       1.096100     -2.071512        1.268817   0.983510   \n",
       "842517       1.828212     -0.353322        1.684473   1.907030   \n",
       "84300903     1.578499      0.455786        1.565126   1.557513   \n",
       "84348301    -0.768233      0.253509       -0.592166  -0.763792   \n",
       "84358402     1.748758     -1.150804        1.775011   1.824624   \n",
       "\n",
       "          smoothness_mean  compactness_mean  concavity_mean  \\\n",
       "id                                                            \n",
       "842302           1.567087          3.280628        2.650542   \n",
       "842517          -0.826235         -0.486643       -0.023825   \n",
       "84300903         0.941382          1.052000        1.362280   \n",
       "84348301         3.280667          3.399917        1.914213   \n",
       "84358402         0.280125          0.538866        1.369806   \n",
       "\n",
       "          concave points_mean  symmetry_mean  fractal_dimension_mean  \n",
       "id                                                                    \n",
       "842302               2.530249       2.215566                2.253764  \n",
       "842517               0.547662       0.001391               -0.867889  \n",
       "84300903             2.035440       0.938859               -0.397658  \n",
       "84348301             1.450431       2.864862                4.906602  \n",
       "84358402             1.427237      -0.009552               -0.561956  "
      ]
     },
     "execution_count": 20,
     "metadata": {},
     "output_type": "execute_result"
    }
   ],
   "source": [
    "X_norm.head()"
   ]
  },
  {
   "cell_type": "code",
   "execution_count": 21,
   "metadata": {
    "id": "CcI-HDSmaOyZ"
   },
   "outputs": [],
   "source": [
    "# OPTIONALLY-> we can choose to remove outliers\n",
    "for col_name in X_norm.columns:\n",
    "  #print(col_name, end=\" \")\n",
    "  samples = X_norm[col_name]\n",
    "  outliers = samples[(samples<-3) | (samples > 3)]\n",
    "  outlier_indexes = outliers.index\n",
    "  # drop these indexes from both Y and X_norm\n",
    "  X_norm.drop(outlier_indexes)\n",
    "  Y.drop(outlier_indexes)\n",
    "  #print(outlier_indexes)"
   ]
  },
  {
   "cell_type": "code",
   "execution_count": 22,
   "metadata": {
    "id": "0UJVKaa8a_2H"
   },
   "outputs": [],
   "source": [
    "# Y = mx + c\n",
    "# diagnosis = weights * (columns) + bias\n",
    "# Y = weights * X_norm + bias\n"
   ]
  },
  {
   "cell_type": "code",
   "execution_count": 23,
   "metadata": {
    "id": "G3fUkOsPbVf5"
   },
   "outputs": [],
   "source": [
    "# This point- we can get started with\n",
    "# MODEL SELECTION"
   ]
  },
  {
   "cell_type": "code",
   "execution_count": 24,
   "metadata": {
    "id": "7rzJGAqku1hH"
   },
   "outputs": [],
   "source": [
    "# Divide the data between \n",
    "# Training and Testing\n",
    "from sklearn.model_selection import train_test_split\n",
    "xtrain,xtest,ytrain,ytest = train_test_split(X_norm,\n",
    "                                                Y,\n",
    "                                                test_size=0.2)"
   ]
  },
  {
   "cell_type": "code",
   "execution_count": 27,
   "metadata": {
    "colab": {
     "base_uri": "https://localhost:8080/",
     "height": 319
    },
    "id": "WB4L5CXfvSgn",
    "outputId": "518b2ab7-b691-4955-8563-21ee20239070"
   },
   "outputs": [
    {
     "data": {
      "text/html": [
       "<div>\n",
       "<style scoped>\n",
       "    .dataframe tbody tr th:only-of-type {\n",
       "        vertical-align: middle;\n",
       "    }\n",
       "\n",
       "    .dataframe tbody tr th {\n",
       "        vertical-align: top;\n",
       "    }\n",
       "\n",
       "    .dataframe thead th {\n",
       "        text-align: right;\n",
       "    }\n",
       "</style>\n",
       "<table border=\"1\" class=\"dataframe\">\n",
       "  <thead>\n",
       "    <tr style=\"text-align: right;\">\n",
       "      <th></th>\n",
       "      <th>radius_mean</th>\n",
       "      <th>texture_mean</th>\n",
       "      <th>perimeter_mean</th>\n",
       "      <th>area_mean</th>\n",
       "      <th>smoothness_mean</th>\n",
       "      <th>compactness_mean</th>\n",
       "      <th>concavity_mean</th>\n",
       "      <th>concave points_mean</th>\n",
       "      <th>symmetry_mean</th>\n",
       "      <th>fractal_dimension_mean</th>\n",
       "    </tr>\n",
       "    <tr>\n",
       "      <th>id</th>\n",
       "      <th></th>\n",
       "      <th></th>\n",
       "      <th></th>\n",
       "      <th></th>\n",
       "      <th></th>\n",
       "      <th></th>\n",
       "      <th></th>\n",
       "      <th></th>\n",
       "      <th></th>\n",
       "      <th></th>\n",
       "    </tr>\n",
       "  </thead>\n",
       "  <tbody>\n",
       "    <tr>\n",
       "      <th>89742801</th>\n",
       "      <td>0.832199</td>\n",
       "      <td>0.397660</td>\n",
       "      <td>0.816123</td>\n",
       "      <td>0.749361</td>\n",
       "      <td>1.104919</td>\n",
       "      <td>0.023839</td>\n",
       "      <td>0.777732</td>\n",
       "      <td>1.299411</td>\n",
       "      <td>-0.308666</td>\n",
       "      <td>-0.295680</td>\n",
       "    </tr>\n",
       "    <tr>\n",
       "      <th>9113816</th>\n",
       "      <td>-0.592299</td>\n",
       "      <td>2.057726</td>\n",
       "      <td>-0.622209</td>\n",
       "      <td>-0.582498</td>\n",
       "      <td>-0.628569</td>\n",
       "      <td>-0.839588</td>\n",
       "      <td>-0.816978</td>\n",
       "      <td>-0.648126</td>\n",
       "      <td>0.154596</td>\n",
       "      <td>-0.823982</td>\n",
       "    </tr>\n",
       "    <tr>\n",
       "      <th>883270</th>\n",
       "      <td>0.026307</td>\n",
       "      <td>1.990300</td>\n",
       "      <td>0.023909</td>\n",
       "      <td>-0.088059</td>\n",
       "      <td>-1.004704</td>\n",
       "      <td>-0.008350</td>\n",
       "      <td>0.269703</td>\n",
       "      <td>-0.124711</td>\n",
       "      <td>-1.713044</td>\n",
       "      <td>-0.213531</td>\n",
       "    </tr>\n",
       "    <tr>\n",
       "      <th>91762702</th>\n",
       "      <td>2.980296</td>\n",
       "      <td>0.537162</td>\n",
       "      <td>3.026093</td>\n",
       "      <td>3.370455</td>\n",
       "      <td>0.472103</td>\n",
       "      <td>2.011995</td>\n",
       "      <td>1.783756</td>\n",
       "      <td>2.530249</td>\n",
       "      <td>0.654335</td>\n",
       "      <td>0.650447</td>\n",
       "    </tr>\n",
       "    <tr>\n",
       "      <th>85922302</th>\n",
       "      <td>-0.410690</td>\n",
       "      <td>1.057966</td>\n",
       "      <td>-0.381869</td>\n",
       "      <td>-0.442975</td>\n",
       "      <td>1.126250</td>\n",
       "      <td>0.413897</td>\n",
       "      <td>0.301063</td>\n",
       "      <td>0.510552</td>\n",
       "      <td>0.340630</td>\n",
       "      <td>0.439409</td>\n",
       "    </tr>\n",
       "  </tbody>\n",
       "</table>\n",
       "</div>"
      ],
      "text/plain": [
       "          radius_mean  texture_mean  perimeter_mean  area_mean  \\\n",
       "id                                                               \n",
       "89742801     0.832199      0.397660        0.816123   0.749361   \n",
       "9113816     -0.592299      2.057726       -0.622209  -0.582498   \n",
       "883270       0.026307      1.990300        0.023909  -0.088059   \n",
       "91762702     2.980296      0.537162        3.026093   3.370455   \n",
       "85922302    -0.410690      1.057966       -0.381869  -0.442975   \n",
       "\n",
       "          smoothness_mean  compactness_mean  concavity_mean  \\\n",
       "id                                                            \n",
       "89742801         1.104919          0.023839        0.777732   \n",
       "9113816         -0.628569         -0.839588       -0.816978   \n",
       "883270          -1.004704         -0.008350        0.269703   \n",
       "91762702         0.472103          2.011995        1.783756   \n",
       "85922302         1.126250          0.413897        0.301063   \n",
       "\n",
       "          concave points_mean  symmetry_mean  fractal_dimension_mean  \n",
       "id                                                                    \n",
       "89742801             1.299411      -0.308666               -0.295680  \n",
       "9113816             -0.648126       0.154596               -0.823982  \n",
       "883270              -0.124711      -1.713044               -0.213531  \n",
       "91762702             2.530249       0.654335                0.650447  \n",
       "85922302             0.510552       0.340630                0.439409  "
      ]
     },
     "execution_count": 27,
     "metadata": {},
     "output_type": "execute_result"
    }
   ],
   "source": [
    "xtrain[:5]"
   ]
  },
  {
   "cell_type": "code",
   "execution_count": 28,
   "metadata": {
    "colab": {
     "base_uri": "https://localhost:8080/",
     "height": 319
    },
    "id": "J8qtLyS_vVBt",
    "outputId": "d3c687ea-e98a-40be-e72d-878f5069eef5"
   },
   "outputs": [
    {
     "data": {
      "text/html": [
       "<div>\n",
       "<style scoped>\n",
       "    .dataframe tbody tr th:only-of-type {\n",
       "        vertical-align: middle;\n",
       "    }\n",
       "\n",
       "    .dataframe tbody tr th {\n",
       "        vertical-align: top;\n",
       "    }\n",
       "\n",
       "    .dataframe thead th {\n",
       "        text-align: right;\n",
       "    }\n",
       "</style>\n",
       "<table border=\"1\" class=\"dataframe\">\n",
       "  <thead>\n",
       "    <tr style=\"text-align: right;\">\n",
       "      <th></th>\n",
       "      <th>radius_mean</th>\n",
       "      <th>texture_mean</th>\n",
       "      <th>perimeter_mean</th>\n",
       "      <th>area_mean</th>\n",
       "      <th>smoothness_mean</th>\n",
       "      <th>compactness_mean</th>\n",
       "      <th>concavity_mean</th>\n",
       "      <th>concave points_mean</th>\n",
       "      <th>symmetry_mean</th>\n",
       "      <th>fractal_dimension_mean</th>\n",
       "    </tr>\n",
       "    <tr>\n",
       "      <th>id</th>\n",
       "      <th></th>\n",
       "      <th></th>\n",
       "      <th></th>\n",
       "      <th></th>\n",
       "      <th></th>\n",
       "      <th></th>\n",
       "      <th></th>\n",
       "      <th></th>\n",
       "      <th></th>\n",
       "      <th></th>\n",
       "    </tr>\n",
       "  </thead>\n",
       "  <tbody>\n",
       "    <tr>\n",
       "      <th>88466802</th>\n",
       "      <td>-0.986732</td>\n",
       "      <td>1.378819</td>\n",
       "      <td>-0.986010</td>\n",
       "      <td>-0.874898</td>\n",
       "      <td>0.014912</td>\n",
       "      <td>-0.605933</td>\n",
       "      <td>-0.815473</td>\n",
       "      <td>-0.844504</td>\n",
       "      <td>0.311449</td>\n",
       "      <td>0.069740</td>\n",
       "    </tr>\n",
       "    <tr>\n",
       "      <th>8712853</th>\n",
       "      <td>0.239131</td>\n",
       "      <td>-0.543973</td>\n",
       "      <td>0.174944</td>\n",
       "      <td>0.088121</td>\n",
       "      <td>0.155695</td>\n",
       "      <td>-0.482667</td>\n",
       "      <td>-0.787500</td>\n",
       "      <td>-0.286297</td>\n",
       "      <td>-0.115336</td>\n",
       "      <td>-0.891967</td>\n",
       "    </tr>\n",
       "    <tr>\n",
       "      <th>90251</th>\n",
       "      <td>-0.492982</td>\n",
       "      <td>-0.420747</td>\n",
       "      <td>-0.466235</td>\n",
       "      <td>-0.545557</td>\n",
       "      <td>0.557427</td>\n",
       "      <td>0.480168</td>\n",
       "      <td>-0.374804</td>\n",
       "      <td>-0.518497</td>\n",
       "      <td>-0.118984</td>\n",
       "      <td>0.436577</td>\n",
       "    </tr>\n",
       "    <tr>\n",
       "      <th>869218</th>\n",
       "      <td>-0.765396</td>\n",
       "      <td>-0.460273</td>\n",
       "      <td>-0.753490</td>\n",
       "      <td>-0.729977</td>\n",
       "      <td>0.912941</td>\n",
       "      <td>-0.179521</td>\n",
       "      <td>-0.859125</td>\n",
       "      <td>-0.781106</td>\n",
       "      <td>-0.607780</td>\n",
       "      <td>0.399751</td>\n",
       "    </tr>\n",
       "    <tr>\n",
       "      <th>905501</th>\n",
       "      <td>-0.527033</td>\n",
       "      <td>-0.318446</td>\n",
       "      <td>-0.558008</td>\n",
       "      <td>-0.536464</td>\n",
       "      <td>-0.676208</td>\n",
       "      <td>-0.739991</td>\n",
       "      <td>-0.711107</td>\n",
       "      <td>-0.576998</td>\n",
       "      <td>0.563142</td>\n",
       "      <td>-0.967034</td>\n",
       "    </tr>\n",
       "  </tbody>\n",
       "</table>\n",
       "</div>"
      ],
      "text/plain": [
       "          radius_mean  texture_mean  perimeter_mean  area_mean  \\\n",
       "id                                                               \n",
       "88466802    -0.986732      1.378819       -0.986010  -0.874898   \n",
       "8712853      0.239131     -0.543973        0.174944   0.088121   \n",
       "90251       -0.492982     -0.420747       -0.466235  -0.545557   \n",
       "869218      -0.765396     -0.460273       -0.753490  -0.729977   \n",
       "905501      -0.527033     -0.318446       -0.558008  -0.536464   \n",
       "\n",
       "          smoothness_mean  compactness_mean  concavity_mean  \\\n",
       "id                                                            \n",
       "88466802         0.014912         -0.605933       -0.815473   \n",
       "8712853          0.155695         -0.482667       -0.787500   \n",
       "90251            0.557427          0.480168       -0.374804   \n",
       "869218           0.912941         -0.179521       -0.859125   \n",
       "905501          -0.676208         -0.739991       -0.711107   \n",
       "\n",
       "          concave points_mean  symmetry_mean  fractal_dimension_mean  \n",
       "id                                                                    \n",
       "88466802            -0.844504       0.311449                0.069740  \n",
       "8712853             -0.286297      -0.115336               -0.891967  \n",
       "90251               -0.518497      -0.118984                0.436577  \n",
       "869218              -0.781106      -0.607780                0.399751  \n",
       "905501              -0.576998       0.563142               -0.967034  "
      ]
     },
     "execution_count": 28,
     "metadata": {},
     "output_type": "execute_result"
    }
   ],
   "source": [
    "xtest[:5]"
   ]
  },
  {
   "cell_type": "code",
   "execution_count": 29,
   "metadata": {
    "colab": {
     "base_uri": "https://localhost:8080/"
    },
    "id": "JByOHnonvWor",
    "outputId": "3796be8d-f64c-4eba-de3c-26f2341f8cfa"
   },
   "outputs": [
    {
     "data": {
      "text/plain": [
       "id\n",
       "89742801    1\n",
       "9113816     0\n",
       "883270      0\n",
       "91762702    1\n",
       "85922302    1\n",
       "Name: diagnosis, dtype: int64"
      ]
     },
     "execution_count": 29,
     "metadata": {},
     "output_type": "execute_result"
    }
   ],
   "source": [
    "ytrain[:5]"
   ]
  },
  {
   "cell_type": "code",
   "execution_count": 30,
   "metadata": {
    "colab": {
     "base_uri": "https://localhost:8080/"
    },
    "id": "vfn4Q7k7vZmW",
    "outputId": "00a2dc49-591a-4fcd-dc83-5fe8fc87fa11"
   },
   "outputs": [
    {
     "data": {
      "text/plain": [
       "id\n",
       "88466802    0\n",
       "8712853     0\n",
       "90251       0\n",
       "869218      0\n",
       "905501      0\n",
       "Name: diagnosis, dtype: int64"
      ]
     },
     "execution_count": 30,
     "metadata": {},
     "output_type": "execute_result"
    }
   ],
   "source": [
    "ytest[:5]"
   ]
  },
  {
   "cell_type": "code",
   "execution_count": 31,
   "metadata": {
    "id": "MOdKbKJFvae7"
   },
   "outputs": [],
   "source": [
    "# By IDs we can validate that\n",
    "# xtrain, ytrain and xtest, ytest \n",
    "# have been mapped correctly!"
   ]
  },
  {
   "cell_type": "code",
   "execution_count": 32,
   "metadata": {
    "id": "gdfWmok0vkcC"
   },
   "outputs": [],
   "source": [
    "# first we need algos\n",
    "# KNN, Naive Bayes, Random Forest\n",
    "# SVM, Decision Tree"
   ]
  },
  {
   "cell_type": "code",
   "execution_count": 33,
   "metadata": {
    "id": "y_c1tOAYwMn8"
   },
   "outputs": [],
   "source": [
    "from sklearn.tree import DecisionTreeClassifier\n",
    "from sklearn.ensemble import RandomForestClassifier\n",
    "from sklearn.svm import LinearSVC\n",
    "from sklearn.naive_bayes import GaussianNB\n",
    "from sklearn.neighbors import KNeighborsClassifier"
   ]
  },
  {
   "cell_type": "code",
   "execution_count": 34,
   "metadata": {
    "id": "suhvgNotwuoE"
   },
   "outputs": [],
   "source": [
    "# first an isolated\n",
    "from sklearn.linear_model import LogisticRegression\n",
    "# LOGISTIC regression is also a classification algorithm ;) \n",
    "#1) declare the algorithm object\n",
    "# 2) fit the model\n",
    "# 3) predict output values/metrics\n",
    "# 4) evaluate the model\n",
    "model = LogisticRegression()\n",
    "model.fit(xtrain, ytrain) # need to know-> X and Y\n",
    "p = model.predict(xtest)"
   ]
  },
  {
   "cell_type": "code",
   "execution_count": 35,
   "metadata": {
    "colab": {
     "base_uri": "https://localhost:8080/"
    },
    "id": "zUMsV80Lx6Vk",
    "outputId": "a239e9a1-d2db-4981-d2bb-29da8dcf56b7"
   },
   "outputs": [
    {
     "data": {
      "text/plain": [
       "array([0, 0, 0, 0, 0], dtype=int64)"
      ]
     },
     "execution_count": 35,
     "metadata": {},
     "output_type": "execute_result"
    }
   ],
   "source": [
    "p[:5]"
   ]
  },
  {
   "cell_type": "code",
   "execution_count": 36,
   "metadata": {
    "colab": {
     "base_uri": "https://localhost:8080/"
    },
    "id": "6BCgRgnMx-L6",
    "outputId": "99774caf-6f2c-4d19-dd6b-b3b23f2b198e"
   },
   "outputs": [
    {
     "data": {
      "text/plain": [
       "id\n",
       "88466802    0\n",
       "8712853     0\n",
       "90251       0\n",
       "869218      0\n",
       "905501      0\n",
       "Name: diagnosis, dtype: int64"
      ]
     },
     "execution_count": 36,
     "metadata": {},
     "output_type": "execute_result"
    }
   ],
   "source": [
    "# values that we ALREADY know as correct\n",
    "ytest[:5]"
   ]
  },
  {
   "cell_type": "code",
   "execution_count": 37,
   "metadata": {
    "colab": {
     "base_uri": "https://localhost:8080/"
    },
    "id": "IBVRAd1ayCGP",
    "outputId": "b6b31575-9ab1-4983-da6e-af88256ff512"
   },
   "outputs": [
    {
     "data": {
      "text/plain": [
       "0.956140350877193"
      ]
     },
     "execution_count": 37,
     "metadata": {},
     "output_type": "execute_result"
    }
   ],
   "source": [
    "from sklearn.metrics import accuracy_score\n",
    "accuracy_score(p, ytest)"
   ]
  },
  {
   "cell_type": "code",
   "execution_count": 38,
   "metadata": {
    "id": "9CN1AQdwyMHf"
   },
   "outputs": [],
   "source": [
    "mymodels = {\"Logistic\":LogisticRegression(),\n",
    "            \"Neighbour\": KNeighborsClassifier(),\n",
    "            \"Sherlock\": GaussianNB(),\n",
    "            \"DTree1\": DecisionTreeClassifier(max_depth=100),\n",
    "            \"DTree2\": DecisionTreeClassifier(max_depth=10),\n",
    "            \"RF1\": RandomForestClassifier(n_estimators=25),\n",
    "            \"RF2\": RandomForestClassifier(n_estimators=50),\n",
    "            \"SVM\": LinearSVC()\n",
    "            }\n"
   ]
  },
  {
   "cell_type": "code",
   "execution_count": 39,
   "metadata": {},
   "outputs": [
    {
     "data": {
      "text/plain": [
       "dict_items([('Logistic', LogisticRegression()), ('Neighbour', KNeighborsClassifier()), ('Sherlock', GaussianNB()), ('DTree1', DecisionTreeClassifier(max_depth=100)), ('DTree2', DecisionTreeClassifier(max_depth=10)), ('RF1', RandomForestClassifier(n_estimators=25)), ('RF2', RandomForestClassifier(n_estimators=50)), ('SVM', LinearSVC())])"
      ]
     },
     "execution_count": 39,
     "metadata": {},
     "output_type": "execute_result"
    }
   ],
   "source": [
    "mymodels.items()"
   ]
  },
  {
   "cell_type": "code",
   "execution_count": 40,
   "metadata": {
    "colab": {
     "base_uri": "https://localhost:8080/"
    },
    "id": "kks5oqAZz1M8",
    "outputId": "81b05310-33a1-4011-b89a-a67beb0faa85"
   },
   "outputs": [
    {
     "name": "stdout",
     "output_type": "stream",
     "text": [
      "Logistic 95.6140350877193%\n",
      "Neighbour 94.73684210526315%\n",
      "Sherlock 90.35087719298247%\n",
      "DTree1 93.85964912280701%\n",
      "DTree2 94.73684210526315%\n",
      "RF1 92.98245614035088%\n",
      "RF2 93.85964912280701%\n",
      "SVM 95.6140350877193%\n"
     ]
    }
   ],
   "source": [
    "for modelname,model in mymodels.items():\n",
    "  print(modelname, end=\" \")\n",
    "  model.fit(xtrain, ytrain)\n",
    "  p = model.predict(xtest)\n",
    "  accuracy = accuracy_score(p, ytest)\n",
    "  print(accuracy*100, end=\"%\\n\")"
   ]
  },
  {
   "cell_type": "code",
   "execution_count": 41,
   "metadata": {
    "colab": {
     "base_uri": "https://localhost:8080/"
    },
    "id": "KOgA7gSc0PgB",
    "outputId": "158e7b19-fc6c-413b-fc8e-524f5a5df0dc"
   },
   "outputs": [
    {
     "name": "stdout",
     "output_type": "stream",
     "text": [
      "1 =  0.9035087719298246\n",
      "2 =  0.9298245614035088\n",
      "3 =  0.956140350877193\n",
      "4 =  0.9122807017543859\n",
      "5 =  0.9122807017543859\n",
      "6 =  0.9298245614035088\n",
      "7 =  0.9473684210526315\n",
      "8 =  0.9385964912280702\n",
      "9 =  0.9385964912280702\n",
      "10 =  0.9298245614035088\n",
      "11 =  0.9385964912280702\n",
      "12 =  0.9385964912280702\n",
      "13 =  0.9298245614035088\n",
      "14 =  0.9473684210526315\n",
      "15 =  0.9473684210526315\n",
      "16 =  0.9298245614035088\n",
      "17 =  0.9385964912280702\n",
      "18 =  0.9298245614035088\n",
      "19 =  0.9385964912280702\n",
      "20 =  0.9473684210526315\n",
      "21 =  0.9298245614035088\n",
      "22 =  0.9385964912280702\n",
      "23 =  0.9473684210526315\n",
      "24 =  0.9210526315789473\n",
      "25 =  0.956140350877193\n",
      "26 =  0.9298245614035088\n",
      "27 =  0.9385964912280702\n",
      "28 =  0.9385964912280702\n",
      "29 =  0.9210526315789473\n",
      "30 =  0.9385964912280702\n",
      "31 =  0.9298245614035088\n",
      "32 =  0.9473684210526315\n",
      "33 =  0.9385964912280702\n",
      "34 =  0.9385964912280702\n",
      "35 =  0.9385964912280702\n",
      "36 =  0.9473684210526315\n",
      "37 =  0.9473684210526315\n",
      "38 =  0.9385964912280702\n",
      "39 =  0.9473684210526315\n",
      "40 =  0.956140350877193\n",
      "41 =  0.9473684210526315\n",
      "42 =  0.9473684210526315\n",
      "43 =  0.9473684210526315\n",
      "44 =  0.9298245614035088\n",
      "45 =  0.9385964912280702\n",
      "46 =  0.9473684210526315\n",
      "47 =  0.9298245614035088\n",
      "48 =  0.9473684210526315\n",
      "49 =  0.9385964912280702\n",
      "50 =  0.956140350877193\n",
      "51 =  0.9473684210526315\n",
      "52 =  0.9473684210526315\n",
      "53 =  0.9385964912280702\n",
      "54 =  0.9473684210526315\n",
      "55 =  0.9385964912280702\n",
      "56 =  0.9210526315789473\n",
      "57 =  0.9473684210526315\n",
      "58 =  0.9385964912280702\n",
      "59 =  0.956140350877193\n",
      "60 =  0.9473684210526315\n",
      "61 =  0.956140350877193\n",
      "62 =  0.9385964912280702\n",
      "63 =  0.9385964912280702\n",
      "64 =  0.9385964912280702\n",
      "65 =  0.9473684210526315\n",
      "66 =  0.9385964912280702\n",
      "67 =  0.9385964912280702\n",
      "68 =  0.9298245614035088\n",
      "69 =  0.9473684210526315\n",
      "70 =  0.9298245614035088\n",
      "71 =  0.9473684210526315\n",
      "72 =  0.956140350877193\n",
      "73 =  0.9385964912280702\n",
      "74 =  0.956140350877193\n",
      "75 =  0.9385964912280702\n",
      "76 =  0.9385964912280702\n",
      "77 =  0.9385964912280702\n",
      "78 =  0.9385964912280702\n",
      "79 =  0.9385964912280702\n",
      "80 =  0.9385964912280702\n",
      "81 =  0.9385964912280702\n",
      "82 =  0.9385964912280702\n",
      "83 =  0.9473684210526315\n",
      "84 =  0.9385964912280702\n",
      "85 =  0.9385964912280702\n",
      "86 =  0.9385964912280702\n",
      "87 =  0.9473684210526315\n",
      "88 =  0.9473684210526315\n",
      "89 =  0.9385964912280702\n",
      "90 =  0.9298245614035088\n",
      "91 =  0.9473684210526315\n",
      "92 =  0.956140350877193\n",
      "93 =  0.9385964912280702\n",
      "94 =  0.9385964912280702\n",
      "95 =  0.9473684210526315\n",
      "96 =  0.9473684210526315\n",
      "97 =  0.9210526315789473\n",
      "98 =  0.9298245614035088\n",
      "99 =  0.9385964912280702\n",
      "100 =  0.9385964912280702\n"
     ]
    }
   ],
   "source": [
    "for i in range(100):\n",
    "  mymodel = RandomForestClassifier(n_estimators=i+1)\n",
    "  mymodel.fit(xtrain, ytrain)\n",
    "  p = mymodel.predict(xtest)\n",
    "  ascore = accuracy_score(p, ytest)\n",
    "  print(str(i+1)+ \" = \", str(ascore))"
   ]
  },
  {
   "cell_type": "code",
   "execution_count": 42,
   "metadata": {
    "id": "w9Vaqx5V1JDz"
   },
   "outputs": [],
   "source": [
    "import pickle as pk\n",
    "modelfile = open(\"model.pkl\",\"wb\")\n",
    "pk.dump(model,modelfile )"
   ]
  }
 ],
 "metadata": {
  "colab": {
   "name": "HelloML.ipynb",
   "provenance": []
  },
  "kernelspec": {
   "display_name": "Python 3",
   "language": "python",
   "name": "python3"
  },
  "language_info": {
   "codemirror_mode": {
    "name": "ipython",
    "version": 3
   },
   "file_extension": ".py",
   "mimetype": "text/x-python",
   "name": "python",
   "nbconvert_exporter": "python",
   "pygments_lexer": "ipython3",
   "version": "3.8.8"
  }
 },
 "nbformat": 4,
 "nbformat_minor": 1
}
