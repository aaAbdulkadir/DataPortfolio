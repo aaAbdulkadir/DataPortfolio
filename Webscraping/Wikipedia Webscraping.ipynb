{
 "cells": [
  {
   "cell_type": "markdown",
   "id": "8b9e5b74",
   "metadata": {},
   "source": [
    "# Disney Movies Wikipedia Scraper"
   ]
  },
  {
   "cell_type": "markdown",
   "id": "001f44b8",
   "metadata": {},
   "source": [
    "This webscraper consists of scraping the list of Walt Disney picture films on wikipedia and its corresponding extra information needed for each film."
   ]
  },
  {
   "cell_type": "markdown",
   "id": "2b5459db",
   "metadata": {
    "heading_collapsed": true
   },
   "source": [
    "## Webscraping"
   ]
  },
  {
   "cell_type": "markdown",
   "id": "2349ba34",
   "metadata": {
    "hidden": true
   },
   "source": [
    "### bs4 set up"
   ]
  },
  {
   "cell_type": "code",
   "execution_count": 1,
   "id": "76921353",
   "metadata": {
    "hidden": true
   },
   "outputs": [],
   "source": [
    "from bs4 import BeautifulSoup\n",
    "import requests"
   ]
  },
  {
   "cell_type": "code",
   "execution_count": 2,
   "id": "c7f31acc",
   "metadata": {
    "hidden": true
   },
   "outputs": [],
   "source": [
    "# website to be scraped\n",
    "url = 'https://en.wikipedia.org/wiki/List_of_Walt_Disney_Pictures_films'\n",
    "website = requests.get(url).content\n",
    "soup = BeautifulSoup(website, 'lxml')"
   ]
  },
  {
   "cell_type": "markdown",
   "id": "daeb3ccc",
   "metadata": {
    "hidden": true
   },
   "source": [
    "### start of by selecting a movie and scraping the info box"
   ]
  },
  {
   "cell_type": "code",
   "execution_count": 3,
   "id": "729fe204",
   "metadata": {
    "hidden": true
   },
   "outputs": [],
   "source": [
    "url = 'https://en.wikipedia.org/wiki/Snow_White_and_the_Seven_Dwarfs_(1937_film)'\n",
    "website = requests.get(url).text\n",
    "soup_movie = BeautifulSoup(website, 'lxml')"
   ]
  },
  {
   "cell_type": "code",
   "execution_count": 4,
   "id": "eda205f0",
   "metadata": {
    "hidden": true
   },
   "outputs": [],
   "source": [
    "# soup of the info box\n",
    "info_box = soup_movie.find(class_='infobox vevent')\n",
    "info_rows = info_box.select('tr')"
   ]
  },
  {
   "cell_type": "code",
   "execution_count": 5,
   "id": "fba0645b",
   "metadata": {
    "hidden": true
   },
   "outputs": [],
   "source": [
    "# create empty dictionary to scrape title and respective information for movie\n",
    "movie_info = {}"
   ]
  },
  {
   "cell_type": "code",
   "execution_count": 6,
   "id": "f09e55c9",
   "metadata": {
    "hidden": true
   },
   "outputs": [],
   "source": [
    "for index, row in enumerate(info_rows):\n",
    "    if index == 0:\n",
    "        movie_info['title'] = row.find('th').text\n",
    "    elif index == 1:\n",
    "        continue\n",
    "    else:\n",
    "        content_key = row.find('th').text\n",
    "        content_value = row.find('td').text\n",
    "        movie_info[content_key] = content_value"
   ]
  },
  {
   "cell_type": "code",
   "execution_count": 7,
   "id": "c6ac4dfb",
   "metadata": {
    "hidden": true,
    "scrolled": true
   },
   "outputs": [
    {
     "data": {
      "text/plain": [
       "{'title': 'Snow White and the Seven Dwarfs',\n",
       " 'Directed by': 'Supervising Director \\nDavid Hand\\n\\nSequence Directors \\nWilliam Cottrell\\nWilfred Jackson\\nLarry Morey\\nPerce Pearce\\nBen Sharpsteen\\n',\n",
       " 'Written by': '\\nTed Sears\\nRichard Creedon\\nOtto Englander\\nDick Rickard\\nEarl Hurd\\nMerrill De Maris\\nDorothy Ann Blank\\nWebb Smith\\n',\n",
       " 'Based on': 'Snow Whiteby The Brothers Grimm',\n",
       " 'Produced by': 'Walt Disney',\n",
       " 'Starring': '\\nAdriana Caselotti\\nLucille La Verne\\nHarry Stockwell\\nRoy Atwell\\nPinto Colvig\\nOtis Harlan\\nScotty Mattraw\\nBilly Gilbert\\nEddie Collins\\nMoroni Olsen\\nStuart Buchanan\\n',\n",
       " 'Music by': '\\nFrank Churchill\\nPaul Smith\\nLeigh Harline\\n',\n",
       " 'Productioncompany': 'Walt Disney Productions',\n",
       " 'Distributed by': 'RKO Radio Pictures',\n",
       " 'Release dates': '\\nDecember\\xa021,\\xa01937\\xa0(1937-12-21) (Carthay Circle Theatre)\\nFebruary\\xa04,\\xa01938\\xa0(1938-02-04) (United States)\\n',\n",
       " 'Running time': '83 minutes',\n",
       " 'Country': 'United States',\n",
       " 'Language': 'English',\n",
       " 'Budget': '$1.49 million[1]',\n",
       " 'Box office': '$418 million[2]'}"
      ]
     },
     "execution_count": 7,
     "metadata": {},
     "output_type": "execute_result"
    }
   ],
   "source": [
    "movie_info"
   ]
  },
  {
   "cell_type": "code",
   "execution_count": 8,
   "id": "a1212f0b",
   "metadata": {
    "hidden": true
   },
   "outputs": [
    {
     "data": {
      "text/plain": [
       "{'title': 'Snow White and the Seven Dwarfs',\n",
       " 'Directed by': ['David Hand',\n",
       "  'William Cottrell',\n",
       "  'Wilfred Jackson',\n",
       "  'Larry Morey',\n",
       "  'Perce Pearce',\n",
       "  'Ben Sharpsteen'],\n",
       " 'Written by': ['Ted Sears',\n",
       "  'Richard Creedon',\n",
       "  'Otto Englander',\n",
       "  'Dick Rickard',\n",
       "  'Earl Hurd',\n",
       "  'Merrill De Maris',\n",
       "  'Dorothy Ann Blank',\n",
       "  'Webb Smith'],\n",
       " 'Based on': 'Snow White by The Brothers Grimm',\n",
       " 'Produced by': 'Walt Disney',\n",
       " 'Starring': ['Adriana Caselotti',\n",
       "  'Lucille La Verne',\n",
       "  'Harry Stockwell',\n",
       "  'Roy Atwell',\n",
       "  'Pinto Colvig',\n",
       "  'Otis Harlan',\n",
       "  'Scotty Mattraw',\n",
       "  'Billy Gilbert',\n",
       "  'Eddie Collins',\n",
       "  'Moroni Olsen',\n",
       "  'Stuart Buchanan'],\n",
       " 'Music by': ['Frank Churchill', 'Paul Smith', 'Leigh Harline'],\n",
       " 'Productioncompany': 'Walt Disney Productions',\n",
       " 'Distributed by': 'RKO Radio Pictures',\n",
       " 'Release dates': ['December 21, 1937 ( 1937-12-21 ) ( Carthay Circle Theatre )',\n",
       "  'February 4, 1938 ( 1938-02-04 ) (United States)'],\n",
       " 'Running time': '83 minutes',\n",
       " 'Country': 'United States',\n",
       " 'Language': 'English',\n",
       " 'Budget': '$1.49 million ',\n",
       " 'Box office': '$418 million ',\n",
       " 'Production company': 'Walt Disney Productions'}"
      ]
     },
     "execution_count": 8,
     "metadata": {},
     "output_type": "execute_result"
    }
   ],
   "source": [
    "# clean dictionary: get rid of \\xa0 using replace, [1] using regex,'productioncompany', strip in get text to get rid of white space, deal with <br> tags\n",
    "import re\n",
    "\n",
    "def get_content_value(row_data):\n",
    "    if row.find('li'):\n",
    "        return [re.sub(r'\\[\\d*?\\]', '', li.get_text(' ', strip=True).replace('\\xa0', ' ')) for li in row_data.find_all('li')]\n",
    "    else:\n",
    "        return re.sub(r'\\[\\d*?\\]', '', row_data.get_text(' ', strip=True).replace('\\xa0', ' '))\n",
    "    \n",
    "for index, row in enumerate(info_rows): # provides an index to each table row that has to be looped through\n",
    "    if index == 0: # first index is a title\n",
    "        movie_info['title'] = row.find('th').get_text(' ', strip=True)\n",
    "    elif index == 1: # second index is useless\n",
    "        continue\n",
    "    else: # index 3- is what we need\n",
    "        content_key = row.find('th').get_text(' ', strip=True)        \n",
    "        content_value = get_content_value(row.find('td'))\n",
    "        movie_info[content_key] = content_value\n",
    "\n",
    "movie_info"
   ]
  },
  {
   "cell_type": "markdown",
   "id": "07292b47",
   "metadata": {
    "hidden": true
   },
   "source": [
    "### Make sure to scrape for each movie by getting each link"
   ]
  },
  {
   "cell_type": "code",
   "execution_count": 9,
   "id": "4b5c69f0",
   "metadata": {
    "hidden": true
   },
   "outputs": [],
   "source": [
    "# empty dict to append to\n",
    "movies = {}"
   ]
  },
  {
   "cell_type": "code",
   "execution_count": 10,
   "id": "6bd8fab2",
   "metadata": {
    "hidden": true
   },
   "outputs": [],
   "source": [
    "# gives a list of all the movies and links\n",
    "links = soup.select('table > tbody > tr > td > i > a')\n",
    "\n",
    "movies['title'] = [link.get_text(' ', strip=True) for link in links]\n",
    "movies['link'] = [link.get('href') for link in links]"
   ]
  },
  {
   "cell_type": "code",
   "execution_count": 11,
   "id": "624b5d0a",
   "metadata": {
    "hidden": true
   },
   "outputs": [],
   "source": [
    "for index, link in enumerate(movies['link']):\n",
    "    movies['link'][index] = 'https://en.wikipedia.org' + link"
   ]
  },
  {
   "cell_type": "code",
   "execution_count": 12,
   "id": "eeb537d1",
   "metadata": {
    "hidden": true
   },
   "outputs": [
    {
     "data": {
      "text/plain": [
       "'https://en.wikipedia.org/wiki/Snow_White_and_the_Seven_Dwarfs_(1937_film)'"
      ]
     },
     "execution_count": 12,
     "metadata": {},
     "output_type": "execute_result"
    }
   ],
   "source": [
    "movies['link'][1]"
   ]
  },
  {
   "cell_type": "markdown",
   "id": "199d41e6",
   "metadata": {
    "hidden": true
   },
   "source": [
    "More cleaning of data"
   ]
  },
  {
   "cell_type": "code",
   "execution_count": 13,
   "id": "f42d75d8",
   "metadata": {
    "hidden": true
   },
   "outputs": [],
   "source": [
    "def get_content_value(row_data):\n",
    "    if row_data.find(\"li\"):\n",
    "        return [li.get_text(\" \", strip=True).replace(\"\\xa0\", \" \") for li in row_data.find_all(\"li\")]\n",
    "    elif row_data.find(\"br\"):\n",
    "        return [text for text in row_data.stripped_strings]\n",
    "    else:\n",
    "        return row_data.get_text(\" \", strip=True).replace(\"\\xa0\", \" \")\n",
    "\n",
    "# get rids of number tags, re was creating problems with the string list. Span gets rid of the extra date in brackets.\n",
    "def clean_tags(soup):\n",
    "    for tag in soup.find_all([\"sup\", \"span\"]):\n",
    "        tag.decompose()\n",
    "\n",
    "def get_info_box(url):\n",
    "    website = requests.get(url).content\n",
    "    soup = BeautifulSoup(website, 'lxml')\n",
    "    info_box = soup.find(class_=\"infobox vevent\")\n",
    "    info_rows = info_box.select(\"tr\")\n",
    "    \n",
    "    clean_tags(soup)\n",
    "        \n",
    "    movie_info = {}\n",
    "    for index, row in enumerate(info_rows):\n",
    "        if index == 0:\n",
    "            movie_info['title'] = row.find(\"th\").get_text(\" \", strip=True)\n",
    "        else:\n",
    "            header = row.find('th') # deals with some links not having .text\n",
    "            if header:\n",
    "                content_key = row.find(\"th\").get_text(\" \", strip=True)\n",
    "                content_value = get_content_value(row.find(\"td\"))\n",
    "                movie_info[content_key] = content_value\n",
    "            \n",
    "    return movie_info    "
   ]
  },
  {
   "cell_type": "code",
   "execution_count": 14,
   "id": "4ffe347b",
   "metadata": {
    "hidden": true
   },
   "outputs": [
    {
     "data": {
      "text/plain": [
       "{'title': 'Snow White and the Seven Dwarfs',\n",
       " 'Directed by': ['David Hand',\n",
       "  'William Cottrell',\n",
       "  'Wilfred Jackson',\n",
       "  'Larry Morey',\n",
       "  'Perce Pearce',\n",
       "  'Ben Sharpsteen'],\n",
       " 'Written by': ['Ted Sears',\n",
       "  'Richard Creedon',\n",
       "  'Otto Englander',\n",
       "  'Dick Rickard',\n",
       "  'Earl Hurd',\n",
       "  'Merrill De Maris',\n",
       "  'Dorothy Ann Blank',\n",
       "  'Webb Smith'],\n",
       " 'Based on': ['Snow White', 'by The', 'Brothers Grimm'],\n",
       " 'Produced by': 'Walt Disney',\n",
       " 'Starring': ['Adriana Caselotti',\n",
       "  'Lucille La Verne',\n",
       "  'Harry Stockwell',\n",
       "  'Roy Atwell',\n",
       "  'Pinto Colvig',\n",
       "  'Otis Harlan',\n",
       "  'Scotty Mattraw',\n",
       "  'Billy Gilbert',\n",
       "  'Eddie Collins',\n",
       "  'Moroni Olsen',\n",
       "  'Stuart Buchanan'],\n",
       " 'Music by': ['Frank Churchill', 'Paul Smith', 'Leigh Harline'],\n",
       " 'Production company': 'Walt Disney Productions',\n",
       " 'Distributed by': 'RKO Radio Pictures',\n",
       " 'Release dates': ['December 21, 1937 ( Carthay Circle Theatre )',\n",
       "  'February 4, 1938 (United States)'],\n",
       " 'Running time': '83 minutes',\n",
       " 'Country': 'United States',\n",
       " 'Language': 'English',\n",
       " 'Budget': '$1.49 million',\n",
       " 'Box office': '$418 million'}"
      ]
     },
     "execution_count": 14,
     "metadata": {},
     "output_type": "execute_result"
    }
   ],
   "source": [
    "get_info_box('https://en.wikipedia.org/wiki/Snow_White_and_the_Seven_Dwarfs_(1937_film)')"
   ]
  },
  {
   "cell_type": "markdown",
   "id": "9a7f2a35",
   "metadata": {
    "hidden": true
   },
   "source": [
    "### Run script for every link"
   ]
  },
  {
   "cell_type": "code",
   "execution_count": 15,
   "id": "3e391848",
   "metadata": {
    "hidden": true
   },
   "outputs": [
    {
     "name": "stdout",
     "output_type": "stream",
     "text": [
      "https://en.wikipedia.org/wiki/Zorro_(1957_TV_series)#Theatrical\n",
      "'NoneType' object has no attribute 'find'\n",
      "https://en.wikipedia.org/wiki/Zorro_(1957_TV_series)#Theatrical\n",
      "'NoneType' object has no attribute 'find'\n",
      "https://en.wikipedia.org/wiki/The_Omega_Connection\n",
      "'NoneType' object has no attribute 'find'\n",
      "https://en.wikipedia.org/wiki/The_Beatles:_Get_Back#The_Beatles:_Get_Back_–_The_Rooftop_Concert\n",
      "'NoneType' object has no attribute 'find'\n",
      "https://en.wikipedia.org/wiki/Chris_Paul\n",
      "'NoneType' object has no attribute 'select'\n",
      "https://en.wikipedia.org/wiki/All_Night_Long_(All_Night)\n",
      "'NoneType' object has no attribute 'find'\n",
      "https://en.wikipedia.org/wiki/Keeper_of_the_Lost_Cities#Film_adaptation\n",
      "'NoneType' object has no attribute 'select'\n",
      "https://en.wikipedia.org/wiki/Jim_Henson#Legacy\n",
      "'NoneType' object has no attribute 'select'\n",
      "https://en.wikipedia.org/wiki/Sister_Act_3\n",
      "'NoneType' object has no attribute 'find'\n",
      "https://en.wikipedia.org/wiki/The_Thief_(Turner_novel)\n",
      "'NoneType' object has no attribute 'select'\n",
      "https://en.wikipedia.org/wiki/Tom_Sawyer\n",
      "'NoneType' object has no attribute 'select'\n",
      "https://en.wikipedia.org/wiki/The_Twilight_Zone_Tower_of_Terror#Film_adaptation\n",
      "'NoneType' object has no attribute 'select'\n",
      "https://en.wikipedia.org/wiki/Tron:_Ares\n",
      "'NoneType' object has no attribute 'find'\n",
      "https://en.wikipedia.org/wiki/FC_Barcelona\n",
      "'NoneType' object has no attribute 'select'\n",
      "https://en.wikipedia.org/wiki/Gertrude_Ederle\n",
      "'NoneType' object has no attribute 'select'\n"
     ]
    }
   ],
   "source": [
    "url = 'https://en.wikipedia.org/wiki/List_of_Walt_Disney_Pictures_films'\n",
    "website = requests.get(url).content\n",
    "soup = BeautifulSoup(website, 'lxml')\n",
    "\n",
    "movie_list = []\n",
    "\n",
    "for index, movie in enumerate(movies['link']):\n",
    "    try:\n",
    "        movie_list.append(get_info_box(movie))\n",
    "    except Exception as e:\n",
    "        print(movie)\n",
    "        print(e)"
   ]
  },
  {
   "cell_type": "code",
   "execution_count": 16,
   "id": "090e212e",
   "metadata": {
    "hidden": true
   },
   "outputs": [],
   "source": [
    "total_links = len(movies['link'])"
   ]
  },
  {
   "cell_type": "code",
   "execution_count": 17,
   "id": "8bd0f7ba",
   "metadata": {
    "hidden": true
   },
   "outputs": [
    {
     "name": "stdout",
     "output_type": "stream",
     "text": [
      "520/535 scraped.\n"
     ]
    }
   ],
   "source": [
    "print(f'{len(movie_list)}/{total_links} scraped.')"
   ]
  },
  {
   "cell_type": "markdown",
   "id": "0846d16b",
   "metadata": {
    "heading_collapsed": true
   },
   "source": [
    "## Export file"
   ]
  },
  {
   "cell_type": "code",
   "execution_count": 18,
   "id": "ea3ee217",
   "metadata": {
    "hidden": true
   },
   "outputs": [],
   "source": [
    "import json\n",
    "\n",
    "def save_data(title, data):\n",
    "    with open (title, 'w', encoding='utf-8') as f:\n",
    "        json.dump(data, f, ensure_ascii=False, indent=2)\n",
    "        \n",
    "def load_data(title):\n",
    "    with open(title, encoding='utf-8') as f:\n",
    "        return json.load(f)"
   ]
  },
  {
   "cell_type": "code",
   "execution_count": 19,
   "id": "0745674e",
   "metadata": {
    "hidden": true
   },
   "outputs": [],
   "source": [
    "save_data(\"disney_data.json\", movie_list)"
   ]
  },
  {
   "cell_type": "markdown",
   "id": "637f3aec",
   "metadata": {
    "heading_collapsed": true
   },
   "source": [
    "## Load Data In"
   ]
  },
  {
   "cell_type": "code",
   "execution_count": 20,
   "id": "8ca17779",
   "metadata": {
    "hidden": true
   },
   "outputs": [],
   "source": [
    "movie_raw = load_data(\"disney_data.json\")"
   ]
  },
  {
   "cell_type": "code",
   "execution_count": 21,
   "id": "44b548ae",
   "metadata": {
    "hidden": true
   },
   "outputs": [
    {
     "data": {
      "text/plain": [
       "[{'title': 'Snow White and the Seven Dwarfs',\n",
       "  'Directed by': ['David Hand',\n",
       "   'William Cottrell',\n",
       "   'Wilfred Jackson',\n",
       "   'Larry Morey',\n",
       "   'Perce Pearce',\n",
       "   'Ben Sharpsteen'],\n",
       "  'Written by': ['Ted Sears',\n",
       "   'Richard Creedon',\n",
       "   'Otto Englander',\n",
       "   'Dick Rickard',\n",
       "   'Earl Hurd',\n",
       "   'Merrill De Maris',\n",
       "   'Dorothy Ann Blank',\n",
       "   'Webb Smith'],\n",
       "  'Based on': ['Snow White', 'by The', 'Brothers Grimm'],\n",
       "  'Produced by': 'Walt Disney',\n",
       "  'Starring': ['Adriana Caselotti',\n",
       "   'Lucille La Verne',\n",
       "   'Harry Stockwell',\n",
       "   'Roy Atwell',\n",
       "   'Pinto Colvig',\n",
       "   'Otis Harlan',\n",
       "   'Scotty Mattraw',\n",
       "   'Billy Gilbert',\n",
       "   'Eddie Collins',\n",
       "   'Moroni Olsen',\n",
       "   'Stuart Buchanan'],\n",
       "  'Music by': ['Frank Churchill', 'Paul Smith', 'Leigh Harline'],\n",
       "  'Production company': 'Walt Disney Productions',\n",
       "  'Distributed by': 'RKO Radio Pictures',\n",
       "  'Release dates': ['December 21, 1937 ( Carthay Circle Theatre )',\n",
       "   'February 4, 1938 (United States)'],\n",
       "  'Running time': '83 minutes',\n",
       "  'Country': 'United States',\n",
       "  'Language': 'English',\n",
       "  'Budget': '$1.49 million',\n",
       "  'Box office': '$418 million'},\n",
       " {'title': 'Pinocchio',\n",
       "  'Directed by': ['Ben Sharpsteen',\n",
       "   'Hamilton Luske',\n",
       "   'Bill Roberts',\n",
       "   'Norman Ferguson',\n",
       "   'Jack Kinney',\n",
       "   'Wilfred Jackson',\n",
       "   'T. Hee'],\n",
       "  'Story by': ['Ted Sears',\n",
       "   'Otto Englander',\n",
       "   'Webb Smith',\n",
       "   'William Cottrell',\n",
       "   'Joseph Sabo',\n",
       "   'Erdman Penner',\n",
       "   'Aurelius Battaglia'],\n",
       "  'Based on': ['The Adventures of Pinocchio', 'by', 'Carlo Collodi'],\n",
       "  'Produced by': 'Walt Disney',\n",
       "  'Starring': ['Cliff Edwards',\n",
       "   'Dickie Jones',\n",
       "   'Christian Rub',\n",
       "   'Walter Catlett',\n",
       "   'Charles Judels',\n",
       "   'Evelyn Venable',\n",
       "   'Frankie Darro'],\n",
       "  'Music by': ['Leigh Harline', 'Paul J. Smith'],\n",
       "  'Production company': 'Walt Disney Productions',\n",
       "  'Distributed by': 'RKO Radio Pictures',\n",
       "  'Release dates': ['February 7, 1940 ( Center Theatre )',\n",
       "   'February 23, 1940 (United States)'],\n",
       "  'Running time': '88 minutes',\n",
       "  'Country': 'United States',\n",
       "  'Language': 'English',\n",
       "  'Budget': '$2.6 million',\n",
       "  'Box office': '$164 million'},\n",
       " {'title': 'Fantasia',\n",
       "  'Directed by': ['Samuel Armstrong',\n",
       "   'James Algar',\n",
       "   'Bill Roberts',\n",
       "   'Paul Satterfield',\n",
       "   'Ben Sharpsteen',\n",
       "   'David D. Hand',\n",
       "   'Hamilton Luske',\n",
       "   'Jim Handley',\n",
       "   'Ford Beebe',\n",
       "   'T. Hee',\n",
       "   'Norman Ferguson',\n",
       "   'Wilfred Jackson'],\n",
       "  'Story by': ['Joe Grant', 'Dick Huemer'],\n",
       "  'Produced by': ['Walt Disney', 'Ben Sharpsteen'],\n",
       "  'Starring': ['Leopold Stokowski', 'Deems Taylor'],\n",
       "  'Narrated by': 'Deems Taylor',\n",
       "  'Cinematography': 'James Wong Howe',\n",
       "  'Music by': 'See program',\n",
       "  'Production company': 'Walt Disney Productions',\n",
       "  'Distributed by': 'RKO Radio Pictures',\n",
       "  'Release date': ['November 13, 1940'],\n",
       "  'Running time': '126 minutes',\n",
       "  'Country': 'United States',\n",
       "  'Language': 'English',\n",
       "  'Budget': '$2.28 million',\n",
       "  'Box office': '$76.4–$83.3 million (United States and Canada)'},\n",
       " {'title': 'The Reluctant Dragon',\n",
       "  'Directed by': ['Alfred Werker',\n",
       "   '(live action)',\n",
       "   'Hamilton Luske',\n",
       "   '(animation)',\n",
       "   'Jack Cutting',\n",
       "   ',',\n",
       "   'Ub Iwerks',\n",
       "   ',',\n",
       "   'Jack Kinney',\n",
       "   '(sequence directors)'],\n",
       "  'Written by': ['Live-action:',\n",
       "   'Ted Sears',\n",
       "   'Al Perkins',\n",
       "   'Larry Clemmons',\n",
       "   'Bill Cottrell',\n",
       "   'Harry Clork',\n",
       "   'Robert Benchley',\n",
       "   'The Reluctant Dragon',\n",
       "   'segment:',\n",
       "   'Kenneth Grahame',\n",
       "   '(original book)',\n",
       "   'Erdman Penner',\n",
       "   'T. Hee',\n",
       "   'Baby Weems',\n",
       "   'segment:',\n",
       "   'Joe Grant',\n",
       "   'Dick Huemer',\n",
       "   'John Miller'],\n",
       "  'Produced by': 'Walt Disney',\n",
       "  'Starring': ['Robert Benchley',\n",
       "   'Frances Gifford',\n",
       "   'Buddy Pepper',\n",
       "   'Nana Bryant'],\n",
       "  'Cinematography': 'Bert Glennon',\n",
       "  'Edited by': 'Paul Weatherwax',\n",
       "  'Music by': ['Frank Churchill', 'Larry Morey'],\n",
       "  'Production company': 'Walt Disney Productions',\n",
       "  'Distributed by': 'RKO Radio Pictures',\n",
       "  'Release date': ['June 27, 1941'],\n",
       "  'Running time': '74 minutes',\n",
       "  'Country': 'United States',\n",
       "  'Language': 'English',\n",
       "  'Budget': '$600,000',\n",
       "  'Box office': '$960,000 (worldwide rentals)'}]"
      ]
     },
     "execution_count": 21,
     "metadata": {},
     "output_type": "execute_result"
    }
   ],
   "source": [
    "movie_raw[1:5]"
   ]
  },
  {
   "cell_type": "markdown",
   "id": "b9e11ce7",
   "metadata": {
    "heading_collapsed": true
   },
   "source": [
    "## Further cleaning"
   ]
  },
  {
   "cell_type": "markdown",
   "id": "9fb5c805",
   "metadata": {
    "hidden": true
   },
   "source": [
    "__Cleaning__:\n",
    "\n",
    "- Convert time to int\n",
    "- Convert date to datetime\n",
    "- Convert revenue, budget, etc to int"
   ]
  },
  {
   "cell_type": "code",
   "execution_count": 22,
   "id": "cdad530b",
   "metadata": {
    "hidden": true
   },
   "outputs": [
    {
     "data": {
      "text/plain": [
       "['77 minutes',\n",
       " '92 minutes',\n",
       " '69 minutes',\n",
       " '81 minutes',\n",
       " ['60 minutes (VHS version)', '71 minutes (original)'],\n",
       " '127 minutes',\n",
       " '93 minutes',\n",
       " '76 minutes',\n",
       " '75 minutes',\n",
       " '73 minutes',\n",
       " '85 minutes',\n",
       " '81 minutes',\n",
       " '70 minutes',\n",
       " '90 min.',\n",
       " '80 minutes',\n",
       " '75 minutes',\n",
       " '83 minutes',\n",
       " '83 minutes',\n",
       " '72 minutes',\n",
       " '97 minutes']"
      ]
     },
     "execution_count": 22,
     "metadata": {},
     "output_type": "execute_result"
    }
   ],
   "source": [
    "# for movie in movies, get the running time, if it does not have one, make it equal to N/A\n",
    "x = [movie.get('Running time', 'N/A') for movie in movie_raw]\n",
    "x[20:40]"
   ]
  },
  {
   "cell_type": "markdown",
   "id": "9c3010ed",
   "metadata": {
    "hidden": true
   },
   "source": [
    "- Convert time to int"
   ]
  },
  {
   "cell_type": "code",
   "execution_count": 23,
   "id": "46e7e688",
   "metadata": {
    "hidden": true
   },
   "outputs": [],
   "source": [
    "def convert_time(running_time):\n",
    "    if running_time == 'N/A': # if it has no value\n",
    "        return None\n",
    "    elif isinstance(running_time, list): # deals with lists by only taking first value\n",
    "        entry = running_time[0]\n",
    "        return int(entry.split(\" \")[0])\n",
    "    else:\n",
    "        return int(running_time.split(\" \")[0])"
   ]
  },
  {
   "cell_type": "code",
   "execution_count": 24,
   "id": "3925e7ad",
   "metadata": {
    "hidden": true
   },
   "outputs": [],
   "source": [
    "for movie in movie_raw:\n",
    "    # add a new key to the dictionary with fixed values\n",
    "    movie['Running time (int)'] = convert_time(movie.get('Running time', 'N/A'))"
   ]
  },
  {
   "cell_type": "code",
   "execution_count": 25,
   "id": "501f9e8f",
   "metadata": {
    "hidden": true
   },
   "outputs": [
    {
     "data": {
      "text/plain": [
       "{'title': 'The Rocketeer',\n",
       " 'Directed by': 'Joe Johnston',\n",
       " 'Screenplay by': ['Danny Bilson', 'Paul De Meo'],\n",
       " 'Story by': ['Danny Bilson', 'Paul De Meo', 'William Dear'],\n",
       " 'Based on': ['The Rocketeer', 'by', 'Dave Stevens'],\n",
       " 'Produced by': ['Charles Gordon', 'Lawrence Gordon', 'Lloyd Levin'],\n",
       " 'Starring': ['Bill Campbell',\n",
       "  'Alan Arkin',\n",
       "  'Jennifer Connelly',\n",
       "  'Paul Sorvino',\n",
       "  'Timothy Dalton'],\n",
       " 'Cinematography': 'Hiro Narita',\n",
       " 'Edited by': ['Michael A. Stevenson', 'Arthur Schmidt'],\n",
       " 'Music by': 'James Horner',\n",
       " 'Production companies': ['Walt Disney Pictures',\n",
       "  'Touchstone Pictures',\n",
       "  'Silver Screen Partners IV',\n",
       "  'Gordon Company'],\n",
       " 'Distributed by': 'Buena Vista Pictures Distribution',\n",
       " 'Release date': ['June 21, 1991'],\n",
       " 'Running time': '108 minutes',\n",
       " 'Country': 'United States',\n",
       " 'Language': 'English',\n",
       " 'Budget': '$35-40 million',\n",
       " 'Box office': '$46.7 million (USA)',\n",
       " 'Running time (int)': 108}"
      ]
     },
     "execution_count": 25,
     "metadata": {},
     "output_type": "execute_result"
    }
   ],
   "source": [
    "movie_raw[-1]"
   ]
  },
  {
   "cell_type": "markdown",
   "id": "5fa65a9b",
   "metadata": {
    "hidden": true
   },
   "source": [
    "- Convert revenue, budget, etc to int"
   ]
  },
  {
   "cell_type": "code",
   "execution_count": 26,
   "id": "a335950e",
   "metadata": {
    "hidden": true
   },
   "outputs": [
    {
     "data": {
      "text/plain": [
       "['N/A',\n",
       " '$1.49 million',\n",
       " '$2.6 million',\n",
       " '$2.28 million',\n",
       " '$600,000',\n",
       " '$950,000',\n",
       " '$858,000',\n",
       " 'N/A',\n",
       " '$788,000',\n",
       " 'N/A',\n",
       " '$1.35 million',\n",
       " '$2.125 million',\n",
       " 'N/A',\n",
       " '$1.5 million',\n",
       " '$1.5 million',\n",
       " 'N/A',\n",
       " '$2.2 million',\n",
       " '$1,800,000',\n",
       " '$3 million',\n",
       " 'N/A',\n",
       " '$4 million',\n",
       " '$2 million',\n",
       " '$300,000',\n",
       " '$1.8 million',\n",
       " 'N/A',\n",
       " '$5 million',\n",
       " 'N/A',\n",
       " '$4 million',\n",
       " 'N/A',\n",
       " 'N/A',\n",
       " 'N/A',\n",
       " 'N/A',\n",
       " 'N/A',\n",
       " 'N/A',\n",
       " '$700,000',\n",
       " 'N/A',\n",
       " 'N/A',\n",
       " 'N/A',\n",
       " 'N/A',\n",
       " 'N/A',\n",
       " '$6 million',\n",
       " 'under $1 million or $1,250,000',\n",
       " 'N/A',\n",
       " '$2 million',\n",
       " 'N/A',\n",
       " 'N/A',\n",
       " '$2.5 million',\n",
       " 'N/A',\n",
       " 'N/A',\n",
       " '$4 million',\n",
       " '$3.6 million',\n",
       " 'N/A',\n",
       " 'N/A',\n",
       " 'N/A',\n",
       " 'N/A',\n",
       " '$3 million',\n",
       " 'N/A',\n",
       " '$3 million',\n",
       " 'N/A',\n",
       " 'N/A',\n",
       " 'N/A',\n",
       " 'N/A',\n",
       " 'N/A',\n",
       " 'N/A',\n",
       " 'N/A',\n",
       " 'N/A',\n",
       " 'N/A',\n",
       " '$3 million',\n",
       " 'N/A',\n",
       " 'N/A',\n",
       " 'N/A',\n",
       " 'N/A',\n",
       " '$4.4–6 million',\n",
       " 'N/A',\n",
       " 'N/A',\n",
       " 'N/A',\n",
       " 'N/A',\n",
       " 'N/A',\n",
       " 'N/A',\n",
       " 'N/A',\n",
       " 'N/A',\n",
       " 'N/A',\n",
       " 'N/A',\n",
       " 'N/A',\n",
       " '$4 million',\n",
       " 'N/A',\n",
       " '$5 million',\n",
       " 'N/A',\n",
       " 'N/A',\n",
       " 'N/A',\n",
       " 'N/A',\n",
       " '$5 million',\n",
       " 'N/A',\n",
       " 'N/A',\n",
       " 'N/A',\n",
       " 'N/A',\n",
       " 'N/A',\n",
       " 'N/A',\n",
       " '$4 million',\n",
       " 'N/A',\n",
       " 'N/A',\n",
       " 'N/A',\n",
       " '$6.3 million',\n",
       " 'N/A',\n",
       " 'N/A',\n",
       " 'N/A',\n",
       " 'N/A',\n",
       " 'N/A',\n",
       " 'N/A',\n",
       " 'N/A',\n",
       " 'N/A',\n",
       " '$5 million',\n",
       " 'N/A',\n",
       " 'N/A',\n",
       " 'N/A',\n",
       " 'N/A',\n",
       " '$8 million',\n",
       " 'N/A',\n",
       " 'N/A',\n",
       " 'N/A',\n",
       " 'N/A',\n",
       " 'N/A',\n",
       " 'N/A',\n",
       " 'AU$1 million',\n",
       " 'N/A',\n",
       " 'N/A',\n",
       " 'N/A',\n",
       " 'N/A',\n",
       " '$5 million',\n",
       " 'N/A',\n",
       " 'N/A',\n",
       " 'N/A',\n",
       " '$7.5 million',\n",
       " 'N/A',\n",
       " '$10 million',\n",
       " 'N/A',\n",
       " 'N/A',\n",
       " '$3.5 to 4 million',\n",
       " 'N/A',\n",
       " 'N/A',\n",
       " 'N/A',\n",
       " '$5.25 million',\n",
       " '$20 million',\n",
       " 'N/A',\n",
       " '$9 million',\n",
       " 'N/A',\n",
       " '$6-8 million',\n",
       " '$20 million',\n",
       " 'N/A',\n",
       " 'N/A',\n",
       " '$18 million',\n",
       " '$12 million',\n",
       " '$14 million',\n",
       " 'N/A',\n",
       " '$17 million',\n",
       " '$5 million',\n",
       " 'unknown',\n",
       " '$20 million',\n",
       " '$11 million',\n",
       " '$28 million',\n",
       " '$44 million',\n",
       " 'N/A',\n",
       " 'N/A',\n",
       " '$14 million',\n",
       " '$9 million',\n",
       " 'N/A',\n",
       " 'A$8.7 million',\n",
       " '$31 million',\n",
       " '$18 million',\n",
       " '$5 million',\n",
       " '$40 million',\n",
       " '$20 million',\n",
       " 'N/A',\n",
       " '$14 million',\n",
       " '60 million Norwegian Kroner (around $8.7 million in 1989)',\n",
       " 'N/A',\n",
       " '$35-40 million',\n",
       " '$25 million',\n",
       " '$15 million',\n",
       " '$32 million',\n",
       " '$14 million',\n",
       " '$28 million',\n",
       " '$12 million',\n",
       " 'N/A',\n",
       " 'N/A',\n",
       " '$6.5 million',\n",
       " '$28 million',\n",
       " '$17 million',\n",
       " '$30 million',\n",
       " 'N/A',\n",
       " '$13 million',\n",
       " 'N/A',\n",
       " 'N/A',\n",
       " '$45 million',\n",
       " '$31 million',\n",
       " 'N/A',\n",
       " '$22 million',\n",
       " '$30 million',\n",
       " 'N/A',\n",
       " '$22 million',\n",
       " ['$32 million', '(estimated)'],\n",
       " '$18 million',\n",
       " '$55 million',\n",
       " '$24 million',\n",
       " '$15 million',\n",
       " '$12 million',\n",
       " 'N/A',\n",
       " '$30 million',\n",
       " 'N/A',\n",
       " '$31 million',\n",
       " 'N/A',\n",
       " '$38 million',\n",
       " '$70 million',\n",
       " '$15 million',\n",
       " 'N/A',\n",
       " '$67 million',\n",
       " 'N/A',\n",
       " '$32 million',\n",
       " '$7 million',\n",
       " '$85 million',\n",
       " '$55 million',\n",
       " '$3 million',\n",
       " '$16 million',\n",
       " '$80 million',\n",
       " '$30 million',\n",
       " '$24 million',\n",
       " '$90 million',\n",
       " '$15 million',\n",
       " 'N/A',\n",
       " '$30 million',\n",
       " '$120 million',\n",
       " '$90 million',\n",
       " '$65 million',\n",
       " '$5 million',\n",
       " 'N/A',\n",
       " '$130 million',\n",
       " '$75–90 million',\n",
       " '$10 million',\n",
       " '$90 million',\n",
       " '$15 million –$30 million',\n",
       " '$4,000,000 (estimated)',\n",
       " '$127.5 million',\n",
       " '$80–$85 million',\n",
       " '$65 million',\n",
       " 'N/A',\n",
       " '$30 million',\n",
       " '$85 million',\n",
       " '$100 million',\n",
       " '$23 million',\n",
       " 'N/A',\n",
       " '$90–120 million',\n",
       " '$26 million',\n",
       " '$25 million',\n",
       " '$115 million',\n",
       " 'N/A',\n",
       " '$33 million',\n",
       " '$20 million',\n",
       " '$5 million',\n",
       " 'N/A',\n",
       " '$22 million',\n",
       " '$80 million',\n",
       " '$35 million',\n",
       " '(US$15–19.2 million)',\n",
       " '$15 million',\n",
       " '$65 million',\n",
       " '$140 million',\n",
       " 'N/A',\n",
       " '$20 million',\n",
       " '$12 million',\n",
       " '$46 million',\n",
       " '$13 million',\n",
       " '$20 million',\n",
       " '$17 million',\n",
       " '$94 million',\n",
       " '$140 million',\n",
       " '$26 million',\n",
       " 'N/A',\n",
       " 'N/A',\n",
       " '$46 million',\n",
       " '$90 million',\n",
       " 'N/A',\n",
       " '$10 million',\n",
       " '$28 million',\n",
       " 'N/A',\n",
       " '$15 million',\n",
       " 'N/A',\n",
       " '$110 million',\n",
       " 'N/A',\n",
       " '$110 million',\n",
       " 'N/A',\n",
       " '$45 million',\n",
       " 'N/A',\n",
       " '$92–145 million',\n",
       " 'N/A',\n",
       " '$100 million',\n",
       " 'N/A',\n",
       " 'N/A',\n",
       " '$20 million',\n",
       " '$56 million',\n",
       " '$25 million',\n",
       " 'N/A',\n",
       " '$50 million',\n",
       " ['¥', '2.4 billion', 'US$24 million'],\n",
       " '$35 million',\n",
       " '$35 million',\n",
       " 'N/A',\n",
       " 'N/A',\n",
       " '$25 million',\n",
       " '$150 million',\n",
       " '$180 million',\n",
       " 'N/A',\n",
       " '$30 million',\n",
       " '$1 million',\n",
       " 'N/A',\n",
       " '$40 million',\n",
       " '$50 million',\n",
       " '$80 million',\n",
       " '$120 million',\n",
       " 'N/A',\n",
       " '$225 million',\n",
       " '$30 million',\n",
       " 'N/A',\n",
       " '$24 million',\n",
       " '$12 million',\n",
       " 'N/A',\n",
       " '$8 million',\n",
       " '$17 million',\n",
       " '$150 million',\n",
       " '$300 million',\n",
       " '$150 million',\n",
       " 'N/A',\n",
       " '$25 million',\n",
       " 'N/A',\n",
       " '$22 million',\n",
       " '$85 million',\n",
       " '$130 million',\n",
       " '$7 million',\n",
       " '$25 million',\n",
       " '$225 million',\n",
       " '$180 million',\n",
       " 'N/A',\n",
       " '$20 million',\n",
       " 'N/A',\n",
       " '$11 million',\n",
       " 'N/A',\n",
       " '$50 million',\n",
       " '$150 million',\n",
       " '$80 million',\n",
       " 'N/A',\n",
       " '$50 million',\n",
       " '$30 million',\n",
       " '$47 million',\n",
       " 'N/A',\n",
       " '$175 million',\n",
       " 'N/A',\n",
       " '$150 million',\n",
       " ['¥', '3.4 billion', '(', 'US$', '34 million)'],\n",
       " 'N/A',\n",
       " '$30—$35 million',\n",
       " '$8 million ( ₽ 350 million)',\n",
       " '$175–200 million',\n",
       " '$35 million',\n",
       " '$105 million',\n",
       " '$150 –$200 million',\n",
       " '$80 million',\n",
       " '$150–200 million',\n",
       " '$200 million',\n",
       " '$150 million',\n",
       " '$22 million',\n",
       " 'N/A',\n",
       " '$30—$35 million',\n",
       " '$35 million',\n",
       " 'N/A',\n",
       " '$260 million',\n",
       " '$170 million',\n",
       " '',\n",
       " 'N/A',\n",
       " 'N/A',\n",
       " '$150 million',\n",
       " 'N/A',\n",
       " '$5 million',\n",
       " '$8 million',\n",
       " ['$410.6 million (gross)', '$378.5 million (net)'],\n",
       " '$200 million',\n",
       " '$30 million',\n",
       " 'N/A',\n",
       " '$45 million',\n",
       " 'N/A',\n",
       " '$23 million',\n",
       " ['$306.6 million (gross)', '$263.7 million (net)'],\n",
       " '$5 million',\n",
       " 'N/A',\n",
       " '$185 million',\n",
       " '$25 million',\n",
       " 'N/A',\n",
       " '$39 million',\n",
       " '$30—35 million',\n",
       " '$165 million',\n",
       " '$200 million',\n",
       " 'N/A',\n",
       " '$200 million',\n",
       " '$225–250 million',\n",
       " '$50 million',\n",
       " 'N/A',\n",
       " '$150 million',\n",
       " '$35 million',\n",
       " '$50 million',\n",
       " 'N/A',\n",
       " '$5 million',\n",
       " '$25 million',\n",
       " '$180–263 million',\n",
       " '$50 million',\n",
       " '(US$3.0 million)',\n",
       " '$28 million',\n",
       " '$165 million',\n",
       " '$50 million',\n",
       " '$17 million',\n",
       " 'N/A',\n",
       " '$84.21-95 million',\n",
       " '$5–10 million',\n",
       " '$180–190 million',\n",
       " '$175 million',\n",
       " '',\n",
       " '$175–200 million',\n",
       " '$70–80 million',\n",
       " '$150 million',\n",
       " '$175–177 million',\n",
       " 'N/A',\n",
       " '$170 million',\n",
       " '$175–200 million',\n",
       " '$140 million',\n",
       " '$65 million',\n",
       " '$15 million',\n",
       " '$150–175 million',\n",
       " '',\n",
       " '$8 million',\n",
       " '$160–255 million',\n",
       " '$5–10 million',\n",
       " '$230–320 million',\n",
       " '$175 million',\n",
       " 'N/A',\n",
       " ['131 crore'],\n",
       " ['~$8 million', '₽', '370 million'],\n",
       " '$175–225 million',\n",
       " '$100–130 million',\n",
       " '$200 million',\n",
       " '$75 million',\n",
       " '$120–133 million',\n",
       " '$175 million',\n",
       " '$130 million',\n",
       " '$170 million',\n",
       " 'N/A',\n",
       " '$183 million',\n",
       " '$200 million',\n",
       " '$250–260 million',\n",
       " '$185 million',\n",
       " '$60 million',\n",
       " 'N/A',\n",
       " '$150 million',\n",
       " '$40 million',\n",
       " '$42 million',\n",
       " '$175–200 million',\n",
       " 'N/A',\n",
       " 'N/A',\n",
       " 'N/A',\n",
       " '$125 million',\n",
       " '$12.5 million (stage production)',\n",
       " 'N/A',\n",
       " '$24 million',\n",
       " 'N/A',\n",
       " '$200 million',\n",
       " 'Unknown',\n",
       " '$26 million',\n",
       " '$150 million',\n",
       " '₽ 650 million',\n",
       " 'N/A',\n",
       " '$100 million+',\n",
       " '$100–200 million',\n",
       " 'N/A',\n",
       " '$200 million',\n",
       " '$120–150 million',\n",
       " 'N/A',\n",
       " '₽ 454 million',\n",
       " 'N/A',\n",
       " '$175 million',\n",
       " 'N/A',\n",
       " 'N/A',\n",
       " 'N/A',\n",
       " 'N/A',\n",
       " 'N/A',\n",
       " 'N/A',\n",
       " 'N/A',\n",
       " 'N/A',\n",
       " 'N/A',\n",
       " 'N/A',\n",
       " 'N/A',\n",
       " 'N/A',\n",
       " 'N/A',\n",
       " 'N/A',\n",
       " '$11 million',\n",
       " 'N/A',\n",
       " '$28 million',\n",
       " '$858,000',\n",
       " '$53.4 million',\n",
       " 'N/A',\n",
       " '$85 million',\n",
       " '$70 million',\n",
       " '$75–90 million',\n",
       " '$80 million',\n",
       " '$130 million',\n",
       " 'N/A',\n",
       " '$5 million',\n",
       " 'N/A',\n",
       " 'N/A',\n",
       " '$18 million or $25 million',\n",
       " 'N/A',\n",
       " '$4 million',\n",
       " '$3 million',\n",
       " 'N/A',\n",
       " '$35-40 million']"
      ]
     },
     "execution_count": 26,
     "metadata": {},
     "output_type": "execute_result"
    }
   ],
   "source": [
    "[movie.get('Budget', 'N/A') for movie in movie_raw]"
   ]
  },
  {
   "cell_type": "code",
   "execution_count": 27,
   "id": "f50cca47",
   "metadata": {
    "hidden": true
   },
   "outputs": [
    {
     "data": {
      "text/plain": [
       "['$45.472',\n",
       " '$418 million',\n",
       " '$164 million',\n",
       " '$76.4–$83.3 million (United States and Canada)',\n",
       " '$960,000 (worldwide rentals)',\n",
       " '>$1.3 million (est. United States/Canada rentals, 1941)',\n",
       " '$267.4 million',\n",
       " '$1.135 million (worldwide rentals)',\n",
       " '$799,000',\n",
       " '$3.355 million (worldwide rentals)',\n",
       " '$3.275 million (worldwide rentals)',\n",
       " '$65 million',\n",
       " '$3.165 million (worldwide rentals)',\n",
       " '$2.56 million (worldwide rentals)',\n",
       " '$3.7 million (U.S. rental) $575,000 (foreign rental)',\n",
       " '$1.625 million (worldwide rentals)',\n",
       " '$182 million',\n",
       " '$4,100,000 (worldwide rentals)',\n",
       " ['$2.4 million (1951, domestic)', '$3.5 million (1974, domestic)'],\n",
       " '$2.1 million (US rentals)',\n",
       " '$87.4 million (United States and Canada)',\n",
       " '$1 million (US)',\n",
       " '$2.6 million (US)',\n",
       " 'N/A',\n",
       " '$1.75 million (US and Canadian rentals)',\n",
       " '$28.2 million',\n",
       " '$2,150,000 (US)',\n",
       " '$187 million',\n",
       " '$2.1 million (US)',\n",
       " '$1.6 million (US)',\n",
       " '$1.7 million (US)',\n",
       " 'N/A',\n",
       " 'N/A',\n",
       " '$2.75 million (US)',\n",
       " 'N/A',\n",
       " '$1.75 million (US rentals)',\n",
       " '$6,250,000 (U.S./Canada rentals)',\n",
       " 'N/A',\n",
       " '$1.8 million (est. US/Canada rentals)',\n",
       " '$2.5 million (est. US/ Canada rentals)',\n",
       " '$51.6 million (United States and Canada)',\n",
       " '$12.3 million (US and Canada rentals)',\n",
       " ['Original release',\n",
       "  ':',\n",
       "  '$2.6 million (est. US/ Canada rentals)',\n",
       "  '1969 re-release',\n",
       "  ':',\n",
       "  '$2.3 million  (US/ Canada rentals)'],\n",
       " '$1,700,000 (US/Canada rentals)',\n",
       " '$3,100,000 (US/Canada rentals)',\n",
       " 'N/A',\n",
       " '$3.75 million (US and Canadian rentals)',\n",
       " '$2.3 million (US and Canadian rentals)',\n",
       " 'N/A',\n",
       " '$40 million',\n",
       " '$303 million',\n",
       " '$25.4 million',\n",
       " '$25.1 million',\n",
       " 'N/A',\n",
       " 'N/A',\n",
       " '$4.6 million (U.S./Canada rentals)',\n",
       " '$3.5 million',\n",
       " '$5 million (rentals)',\n",
       " 'N/A',\n",
       " 'N/A',\n",
       " 'N/A',\n",
       " '$21,745,500',\n",
       " '$22.1 million',\n",
       " '$2,550,000 (US/ Canada)',\n",
       " '$3,000,000 (U.S./Canada)',\n",
       " '$4,350,000 (US/ Canada rentals)',\n",
       " '$4.2 million (US/Canada) (rentals)',\n",
       " '$22.2 million (United States and Canada)',\n",
       " 'est. $1,600,000 (US/ Canada)',\n",
       " '$4,000,000 (US/ Canada)',\n",
       " '$2,250,000 (US/ Canada)',\n",
       " 'est. $3,500,000 (US/ Canada)',\n",
       " '$103.1 million',\n",
       " '$3,500,000 (US/ Canada rentals)',\n",
       " '$1,275,000',\n",
       " '$4,000,000 (US/Canada rentals)',\n",
       " '$28,068,222',\n",
       " '$6.2 million (est. US/ Canada rentals)',\n",
       " '$22,565,634',\n",
       " 'N/A',\n",
       " '$16,207,116',\n",
       " '$3,000,000 (US/ Canada)',\n",
       " '$1,900,000 (US/ Canada)',\n",
       " '$4,000,000 (US/ Canada)',\n",
       " '$378 million',\n",
       " 'N/A',\n",
       " '$5 million (U.S./Canada rentals)',\n",
       " '$21,540,050',\n",
       " '$2,250,000 (US/ Canada)',\n",
       " '$4,150,000 (US/ Canada rentals)',\n",
       " '$3.3 million  (US/ Canada rentals)',\n",
       " '$51.3 million',\n",
       " '$1.3 million (US/ Canada rentals)',\n",
       " 'N/A',\n",
       " '$5.5 million (US/ Canada rentals)',\n",
       " 'N/A',\n",
       " '$18,607,492',\n",
       " '$4 million (rentals) (US/Canada)',\n",
       " '$191 million',\n",
       " 'N/A',\n",
       " 'N/A',\n",
       " '$5.1 million (North America) (rentals)',\n",
       " '$17.9 million',\n",
       " 'N/A',\n",
       " '$4,610,000 (US/Canada) (rentals)',\n",
       " 'N/A',\n",
       " 'N/A',\n",
       " '$6,100,000 (US/ Canada rentals)',\n",
       " '$22,583,370',\n",
       " 'N/A',\n",
       " '$2 million',\n",
       " '$33 million',\n",
       " '$7 million (US/Canada rentals)',\n",
       " ['$38,229,000 (US/Canada gross)', '$30.8 million (worldwide rentals)'],\n",
       " '$4 million (rentals) (US/Canada)',\n",
       " 'N/A',\n",
       " '$10 million (US/Canada rentals)',\n",
       " '$6.6 million (US/Canada rentals)',\n",
       " '$20,000,000',\n",
       " '$36,853,000',\n",
       " '$5.5 million (North American rentals)',\n",
       " 'N/A',\n",
       " 'N/A',\n",
       " 'N/A',\n",
       " 'N/A',\n",
       " 'N/A',\n",
       " '$21,873,000',\n",
       " '$10.5 million (US and Canada rentals)',\n",
       " '$36 million',\n",
       " 'N/A',\n",
       " 'N/A',\n",
       " 'N/A',\n",
       " '$169 million',\n",
       " '$29 million',\n",
       " '$36 –39.6 million',\n",
       " 'N/A',\n",
       " 'N/A',\n",
       " 'N/A',\n",
       " 'N/A',\n",
       " 'N/A',\n",
       " '$20,931,111',\n",
       " '$4.475 million (US/Canada rentals )',\n",
       " ['$35.8 million'],\n",
       " '$2.9 million',\n",
       " '$5 million',\n",
       " '$18 million',\n",
       " '$11 million',\n",
       " '$60 million',\n",
       " '$16 million (USA)',\n",
       " 'N/A',\n",
       " '$14.1 million',\n",
       " '$63.5 million',\n",
       " 'N/A',\n",
       " '$8 million',\n",
       " '$50 million',\n",
       " '$7.4 million',\n",
       " '$4,304,286 (US)',\n",
       " '$8.4 million',\n",
       " '$27.6 million',\n",
       " '$11.1 million (USA)',\n",
       " '$21.3 million',\n",
       " '$9.7 million (U.S. and Canada only)',\n",
       " '$13 million',\n",
       " '$38.7 million',\n",
       " '$18,564,613',\n",
       " '$22.3 million',\n",
       " '$13,687,027',\n",
       " '>$121 million',\n",
       " '$222.7 million',\n",
       " '$8,153,677 (United States)',\n",
       " '',\n",
       " '$18.1 million',\n",
       " '$47.4 million',\n",
       " '$34.8 million',\n",
       " '$15.1 million',\n",
       " '$7.3 million',\n",
       " '$46.7 million (USA)',\n",
       " '$440.1 million',\n",
       " '$2.8 million',\n",
       " '$96 million',\n",
       " '$50.8 million',\n",
       " '$504.1 million',\n",
       " '$27.2 million',\n",
       " '$57 million',\n",
       " '$12.9 million',\n",
       " '$24.1 million',\n",
       " '$45.4 million',\n",
       " '$154.9 million',\n",
       " '$111 million',\n",
       " '$21 million',\n",
       " '$39 million',\n",
       " '$45.6 million',\n",
       " '$8,878,839 (US)',\n",
       " '$968.5 million',\n",
       " '$50.2 million',\n",
       " '$3,337,685',\n",
       " '$189.8 million',\n",
       " '$70.7 million',\n",
       " '$17.6 million',\n",
       " '$40,070,995',\n",
       " '$11 million',\n",
       " '$37.6 million',\n",
       " '$346.1 million',\n",
       " '$24,670,346',\n",
       " '$13.4 million (domestic)',\n",
       " '$17.7 million',\n",
       " 'N/A',\n",
       " '$373 million',\n",
       " '$23.9 million (US)',\n",
       " '$34.3 million (North America)',\n",
       " '$32.7 million',\n",
       " '$37.7 million',\n",
       " '$325.3 million',\n",
       " '$26,465,920 (USA)',\n",
       " '$22.9 million',\n",
       " '$320.7 million',\n",
       " '$18.3 million',\n",
       " '$59.9 million',\n",
       " 'N/A',\n",
       " '$252.7 million',\n",
       " '$174.4 million',\n",
       " '$27.8 million',\n",
       " '$15.4 million',\n",
       " '$178 million',\n",
       " '$28.9 million',\n",
       " '$4.4 million',\n",
       " '$304.3 million',\n",
       " '$92.1 million',\n",
       " 'N/A',\n",
       " '$12.2 million',\n",
       " '$363.3 million',\n",
       " '$50.6 million (US)',\n",
       " '$36.8 million',\n",
       " '$19.4 million',\n",
       " 'N/A',\n",
       " '$448.2 million',\n",
       " '$134.4 million',\n",
       " '$6.2 million',\n",
       " '$497.4 million',\n",
       " '$96.2 million',\n",
       " '$500,000 (USA) (30 November 2000)',\n",
       " '$349.8 million',\n",
       " '$90.9 million',\n",
       " '$110.3 million',\n",
       " 'N/A',\n",
       " '$136.8 million',\n",
       " '$183.6 million',\n",
       " '$169.6 million',\n",
       " '$44.5 million',\n",
       " 'N/A',\n",
       " '$186.1 million',\n",
       " '$165.3 million',\n",
       " '$18.6 million',\n",
       " '$577.4 million',\n",
       " 'N/A',\n",
       " '$115 million',\n",
       " '$115.1 million',\n",
       " 'N/A',\n",
       " 'N/A',\n",
       " '$80.7 million',\n",
       " '$273.1 million',\n",
       " '$18 million',\n",
       " '',\n",
       " '$19.3 million',\n",
       " '$172.9 million',\n",
       " '$110 million',\n",
       " 'N/A',\n",
       " '$135.7 million',\n",
       " 'N/A',\n",
       " '$62.9 million',\n",
       " '$28.7 million',\n",
       " '$71.4 million',\n",
       " '$55.5 million',\n",
       " '$940.3 million',\n",
       " '$654.3 million',\n",
       " '$160.8 million',\n",
       " 'N/A',\n",
       " 'N/A',\n",
       " '$250.4 million',\n",
       " '$182.3 million',\n",
       " '$9,638,389',\n",
       " '$6.5 million',\n",
       " '$64.5 million',\n",
       " 'N/A',\n",
       " '$105.1 million',\n",
       " 'N/A',\n",
       " '$145.5 million',\n",
       " '$1,108,356',\n",
       " '$72.2 million',\n",
       " '$314,402',\n",
       " '$134.7 million',\n",
       " 'N/A',\n",
       " '$631.6 million',\n",
       " 'N/A',\n",
       " '$347.5 million',\n",
       " '$9 million',\n",
       " 'N/A',\n",
       " '$52.9 million',\n",
       " '$198.6 million',\n",
       " '$27.6 million',\n",
       " 'N/A',\n",
       " '$144.1 million',\n",
       " ['¥', '23.2 billion', 'US$236 million (worldwide)'],\n",
       " '$86.4 million',\n",
       " '$61.7 million',\n",
       " 'N/A',\n",
       " 'N/A',\n",
       " '$15.4 million',\n",
       " '$314.4 million',\n",
       " '$745 million',\n",
       " 'N/A',\n",
       " '$42.9 million',\n",
       " '$11 million',\n",
       " '$35 Million',\n",
       " '$120.5 million',\n",
       " '$87.1 million',\n",
       " '$102.3 million',\n",
       " '$462 million',\n",
       " 'N/A',\n",
       " '$1.066 billion',\n",
       " '$58.5 million',\n",
       " 'N/A',\n",
       " '$91.5 million',\n",
       " '$110.8 million',\n",
       " 'N/A',\n",
       " 'N/A',\n",
       " '$137.6 million',\n",
       " '$169.3 million',\n",
       " '$960.9 million',\n",
       " '$623.7 million',\n",
       " 'N/A',\n",
       " '$65.3 million',\n",
       " 'N/A',\n",
       " '$146.6 million',\n",
       " '$340.5 million',\n",
       " '$459.2 million',\n",
       " '$70.6 million',\n",
       " '$51.5 million',\n",
       " '$419.7 million',\n",
       " '$521.3 million',\n",
       " 'N/A',\n",
       " '$149.3 million',\n",
       " '$275,776',\n",
       " '$252.9 million',\n",
       " '$2 million',\n",
       " '$9.2 million',\n",
       " '$310 million',\n",
       " '$212.9 million',\n",
       " '$23.1 million',\n",
       " '$106.4 million',\n",
       " '$155.5 million',\n",
       " '$109 million',\n",
       " '$55,513',\n",
       " '$735.1 million',\n",
       " 'N/A',\n",
       " '$292.8 million',\n",
       " 'US$ 204.8 million',\n",
       " 'N/A',\n",
       " '$8,582,265',\n",
       " '$11.3 million',\n",
       " '$325 million',\n",
       " '$96.8 million',\n",
       " '$271 million',\n",
       " '$1.025 billion',\n",
       " '$82.7 million',\n",
       " '$336.4 million',\n",
       " '$1.067 billion',\n",
       " '$215.3 million',\n",
       " '',\n",
       " 'N/A',\n",
       " '$10,872,752',\n",
       " '$60.3 million',\n",
       " 'N/A',\n",
       " '$592.4 million',\n",
       " '$400.1 million',\n",
       " 'N/A',\n",
       " '$29.6 million',\n",
       " 'N/A',\n",
       " '$39.2 million',\n",
       " 'N/A',\n",
       " '$30.9 million',\n",
       " '$10.7 million',\n",
       " '$1.046 billion',\n",
       " '$559.8 million',\n",
       " '$50.1 million',\n",
       " 'N/A',\n",
       " '$165.2 million',\n",
       " 'N/A',\n",
       " '$146 million',\n",
       " '$284.1 million',\n",
       " '$34.8 million',\n",
       " 'N/A',\n",
       " '$540.4 million',\n",
       " '$56 million',\n",
       " '$12.2 million',\n",
       " '$81.5 million',\n",
       " '$67.5 million',\n",
       " '$471.2 million',\n",
       " '$493.3 million',\n",
       " 'N/A',\n",
       " '$743.6 million',\n",
       " '$260.5 million',\n",
       " '$239.3 million',\n",
       " 'N/A',\n",
       " '$1.280 billion',\n",
       " '$117.9 million',\n",
       " '$80.4 million',\n",
       " '$64.9 million',\n",
       " '$21.3 million',\n",
       " '$40.2 million',\n",
       " '$758.5 million',\n",
       " '$147 million',\n",
       " 'est. (US$10 million)',\n",
       " '$100.6 million',\n",
       " '$657.9 million',\n",
       " '$213.1 million',\n",
       " '$45.7 million',\n",
       " '$31.2 million (non-US box office)',\n",
       " '$542.4 million',\n",
       " '$17.1 million',\n",
       " '$209 million',\n",
       " '$858.8 million',\n",
       " 'est.',\n",
       " '$332.2 million',\n",
       " '$52.1 million',\n",
       " '$1.024 billion',\n",
       " '$966.6 million',\n",
       " '$17 million',\n",
       " '$299.5 million',\n",
       " '$1.029 billion',\n",
       " '$195.2 million',\n",
       " '$143.7 million',\n",
       " '$10.4 million',\n",
       " '$645 million',\n",
       " 'est.',\n",
       " '$127.4 million',\n",
       " '$1.264 billion',\n",
       " '$25.1 million',\n",
       " '$794.9 million',\n",
       " '$383.9 million',\n",
       " 'N/A',\n",
       " '83 crore',\n",
       " ['$30.5 million', '₽', '1.731 billion'],\n",
       " '$807.8 million',\n",
       " '$132.7 million',\n",
       " '$1.245 billion',\n",
       " '$197.7 million',\n",
       " '$174 million',\n",
       " '$529.3 million',\n",
       " '$349.5 million',\n",
       " '$353.3 million',\n",
       " '$7.7\\n million',\n",
       " '',\n",
       " '$1.073 billion',\n",
       " '$1.663 billion',\n",
       " '$491.7 million',\n",
       " 'N/A',\n",
       " 'N/A',\n",
       " '$1.450 billion',\n",
       " 'N/A',\n",
       " 'N/A',\n",
       " '$141.9 million',\n",
       " 'N/A',\n",
       " 'N/A',\n",
       " 'N/A',\n",
       " 'N/A',\n",
       " 'N/A',\n",
       " 'N/A',\n",
       " 'N/A',\n",
       " 'N/A',\n",
       " '$70 million',\n",
       " 'N/A',\n",
       " 'N/A',\n",
       " '$121 million',\n",
       " ['₽ 2.046 billion',\n",
       "  '$28.3 million (Worldwide)',\n",
       "  '$28.6 million (Russia/ CIS )'],\n",
       " 'N/A',\n",
       " '$130.4 million',\n",
       " '$233.5 million',\n",
       " '$49.8 million',\n",
       " '$220.9 million',\n",
       " '$254.2 million',\n",
       " 'N/A',\n",
       " ['₽ 2.196 billion', '$27 million'],\n",
       " 'N/A',\n",
       " '$15.5 million',\n",
       " 'N/A',\n",
       " 'N/A',\n",
       " 'N/A',\n",
       " 'N/A',\n",
       " 'N/A',\n",
       " 'N/A',\n",
       " 'N/A',\n",
       " 'N/A',\n",
       " 'N/A',\n",
       " 'N/A',\n",
       " 'N/A',\n",
       " 'N/A',\n",
       " 'N/A',\n",
       " 'N/A',\n",
       " '$240 million',\n",
       " 'N/A',\n",
       " '$100.6 million',\n",
       " '$267.4 million',\n",
       " 'N/A',\n",
       " 'N/A',\n",
       " '$252.7 million',\n",
       " '$325.3 million',\n",
       " '$134.4 million',\n",
       " '$273.1 million',\n",
       " '$459.2 million',\n",
       " 'N/A',\n",
       " '$33 million',\n",
       " 'N/A',\n",
       " 'N/A',\n",
       " '$9,697,739 (USA)',\n",
       " 'N/A',\n",
       " '$191 million',\n",
       " '$22.2 million (United States and Canada)',\n",
       " 'N/A',\n",
       " '$46.7 million (USA)']"
      ]
     },
     "execution_count": 27,
     "metadata": {},
     "output_type": "execute_result"
    }
   ],
   "source": [
    "[movie.get('Box office', 'N/A') for movie in movie_raw]"
   ]
  },
  {
   "cell_type": "raw",
   "id": "531b992e",
   "metadata": {
    "hidden": true
   },
   "source": [
    "Examples:\n",
    "- $45.472\n",
    "- $76.4 - $83.3 million (United States and Canada)\n",
    "- >$1.3 million\n",
    "- $799,000\n",
    "- lists\n",
    "- $6,250,000\n",
    "- $36 - 39.6 million\n",
    "- empty strings\n",
    "- different currencies"
   ]
  },
  {
   "cell_type": "code",
   "execution_count": 28,
   "id": "209d6a79",
   "metadata": {
    "hidden": true
   },
   "outputs": [],
   "source": [
    "import re\n",
    "\n",
    "amounts = r\"thousand|million|billion\"\n",
    "number = r\"\\d+(,\\d{3})*\\.*\\d*\"\n",
    "\n",
    "word_re = rf\"\\${number}(-|\\sto\\s|–|\\s-|\\s-\\s)?({number})?\\s({amounts})\"\n",
    "value_re = rf\"\\${number}\"\n",
    "\n",
    "# \\d+  one or more digits \n",
    "# (,\\d{3})*  a comma followed by three digits and the star means zero or more of this combo\n",
    "# \\.*  a decimal point, zero or more \n",
    "# \\d* zero or more numbers\n",
    "# \\${number} makes it so that you have the dollar sign followed by a number \n",
    "# \\s space\n",
    "# (-|\\sto\\s|–) - or, space to space, or -\n",
    "# ? it exists or it does not exist\n",
    "\n",
    "\n",
    "def word_to_value(word):\n",
    "    value_dict = {\"thousand\": 1000, \"million\": 1000000, \"billion\": 1000000000}\n",
    "    return value_dict[word]\n",
    "\n",
    "def parse_word_syntax(string):\n",
    "    value_string = re.search(number, string).group()\n",
    "    value = float(value_string.replace(\",\", \"\"))\n",
    "    word = re.search(amounts, string, flags=re.I).group().lower()\n",
    "    word_value = word_to_value(word)\n",
    "    return value*word_value\n",
    "\n",
    "def parse_value_syntax(string):\n",
    "    value_string = re.search(number, string).group()\n",
    "    value = float(value_string.replace(\",\", \"\"))\n",
    "    return value\n",
    "\n",
    "'''\n",
    "money_conversion(\"$12.2 million\") --> 12200000 ## Word syntax\n",
    "money_conversion(\"$790,000\") --> 790000        ## Value syntax\n",
    "'''\n",
    "\n",
    "def money_conversion(money):\n",
    "    if money == \"N/A\":\n",
    "        return None\n",
    "\n",
    "    if isinstance(money, list):\n",
    "        money = money[0]\n",
    "        \n",
    "    word_syntax = re.search(word_re, money, flags=re.I)\n",
    "    value_syntax = re.search(value_re, money)\n",
    "\n",
    "    if word_syntax:\n",
    "        return parse_word_syntax(word_syntax.group())\n",
    "\n",
    "    elif value_syntax:\n",
    "        return parse_value_syntax(value_syntax.group())\n",
    "\n",
    "    else:\n",
    "        return None"
   ]
  },
  {
   "cell_type": "code",
   "execution_count": 29,
   "id": "ce344a77",
   "metadata": {
    "hidden": true
   },
   "outputs": [
    {
     "data": {
      "text/plain": [
       "36000000.0"
      ]
     },
     "execution_count": 29,
     "metadata": {},
     "output_type": "execute_result"
    }
   ],
   "source": [
    "money_conversion(\"$36 - 39.6 million\")"
   ]
  },
  {
   "cell_type": "code",
   "execution_count": 30,
   "id": "e52bd76e",
   "metadata": {
    "hidden": true
   },
   "outputs": [],
   "source": [
    "for movie in movie_raw:\n",
    "    movie['Budget (float)'] = money_conversion(movie.get('Budget', \"N/A\"))\n",
    "    movie['Box office (float)'] = money_conversion(movie.get('Box office', \"N/A\"))"
   ]
  },
  {
   "cell_type": "code",
   "execution_count": 31,
   "id": "9a5c5fd6",
   "metadata": {
    "hidden": true
   },
   "outputs": [
    {
     "name": "stdout",
     "output_type": "stream",
     "text": [
      "[None, 1490000.0, 2600000.0, 2280000.0, 600000.0, 950000.0, 858000.0, None, 788000.0, None]\n"
     ]
    }
   ],
   "source": [
    "print([movie['Budget (float)'] for movie in movie_raw[0:10]])"
   ]
  },
  {
   "cell_type": "code",
   "execution_count": 32,
   "id": "7a69b265",
   "metadata": {
    "hidden": true
   },
   "outputs": [
    {
     "name": "stdout",
     "output_type": "stream",
     "text": [
      "[45.472, 418000000.0, 164000000.0, 83300000.0, 960000.0, 1300000.0, 267399999.99999997, 1135000.0, 799000.0, 3355000.0]\n"
     ]
    }
   ],
   "source": [
    "print([movie['Box office (float)'] for movie in movie_raw[0:10]])"
   ]
  },
  {
   "cell_type": "markdown",
   "id": "73b04c7b",
   "metadata": {
    "hidden": true
   },
   "source": [
    "- Convert date to datetime"
   ]
  },
  {
   "cell_type": "code",
   "execution_count": 33,
   "id": "5e3a0265",
   "metadata": {
    "hidden": true
   },
   "outputs": [
    {
     "name": "stdout",
     "output_type": "stream",
     "text": [
      "['N/A', ['December 21, 1937 ( Carthay Circle Theatre )', 'February 4, 1938 (United States)'], ['February 7, 1940 ( Center Theatre )', 'February 23, 1940 (United States)'], 'N/A', 'N/A', ['October 23, 1941 (New York City)', 'October 31, 1941 (U.S.)'], ['August 9, 1942 (World Premiere – London)', 'August 13, 1942 (Premiere – New York City)', 'August 21, 1942 (U.S.)'], ['August 24, 1942 (World Premiere – Rio de Janeiro)', 'February 6, 1943 (U.S. Premiere – Boston)', 'February 19, 1943 (U.S.)'], 'N/A', ['December 21, 1944 (Mexico City)', 'February 3, 1945 (US)']]\n",
      "\n",
      "\n",
      "[['May 19, 1937'], 'N/A', 'N/A', ['November 13, 1940'], ['June 27, 1941'], 'N/A', 'N/A', 'N/A', ['July 17, 1943'], 'N/A']\n"
     ]
    }
   ],
   "source": [
    "print([movie.get('Release dates', 'N/A') for movie in movie_raw[0:10]])\n",
    "print('\\n')\n",
    "print([movie.get('Release date', 'N/A') for movie in movie_raw[0:10]])"
   ]
  },
  {
   "cell_type": "markdown",
   "id": "d96da969",
   "metadata": {
    "hidden": true
   },
   "source": [
    "Release date and release dates"
   ]
  },
  {
   "cell_type": "code",
   "execution_count": 34,
   "id": "6cdefa9a",
   "metadata": {
    "hidden": true
   },
   "outputs": [],
   "source": [
    "from datetime import datetime"
   ]
  },
  {
   "cell_type": "code",
   "execution_count": 35,
   "id": "1f53578d",
   "metadata": {
    "hidden": true
   },
   "outputs": [],
   "source": [
    "# get rid of brackets and leave following format: May 23, 2012\n",
    "dates_1 = [movie.get('Release date', 'N/A') for movie in movie_raw]\n",
    "dates_2 = [movie.get('Release dates', 'N/A') for movie in movie_raw]"
   ]
  },
  {
   "cell_type": "code",
   "execution_count": 36,
   "id": "b2ae8173",
   "metadata": {
    "hidden": true
   },
   "outputs": [],
   "source": [
    "# June 28, 1950\n",
    "\n",
    "def clean_date(date):\n",
    "    return date.split(\"(\")[0].strip()\n",
    "\n",
    "def date_conversion(date):\n",
    "    if isinstance(date, list):\n",
    "        date = date[0]\n",
    "        \n",
    "    if date == \"N/A\":\n",
    "        return None\n",
    "        \n",
    "    date_str = clean_date(date)\n",
    "\n",
    "    fmts = [\"%B %d, %Y\", \"%d %B %Y\"]\n",
    "    for fmt in fmts:\n",
    "        try:\n",
    "            return datetime.strptime(date_str, fmt)\n",
    "        except:\n",
    "            pass\n",
    "    return None"
   ]
  },
  {
   "cell_type": "code",
   "execution_count": 37,
   "id": "3a04e247",
   "metadata": {
    "hidden": true
   },
   "outputs": [],
   "source": [
    "# join release date and release dates to a new dictionary key and then apply datetime function\n",
    "\n",
    "# start of by making a new dictionary key\n",
    "for movie in movie_raw:\n",
    "    movie['Release date temp'] = ''\n",
    "\n",
    "# add release dates and release date to list\n",
    "for movie in movie_raw:\n",
    "    try:\n",
    "        movie['Release date temp'] = movie['Release date']\n",
    "    except:\n",
    "        pass\n",
    "\n",
    "for movie in movie_raw:\n",
    "    try:\n",
    "        movie['Release date temp'] = movie['Release dates']\n",
    "    except:\n",
    "        pass"
   ]
  },
  {
   "cell_type": "code",
   "execution_count": 38,
   "id": "f1224050",
   "metadata": {
    "hidden": true
   },
   "outputs": [],
   "source": [
    "for movie in movie_raw:\n",
    "    movie['Release date (datetime)'] = date_conversion(movie.get('Release date temp', 'N/A'))"
   ]
  },
  {
   "cell_type": "markdown",
   "id": "8a99be40",
   "metadata": {
    "heading_collapsed": true
   },
   "source": [
    "## Save cleaned file"
   ]
  },
  {
   "cell_type": "code",
   "execution_count": 39,
   "id": "4e7155e7",
   "metadata": {
    "hidden": true
   },
   "outputs": [],
   "source": [
    "# cannot save datetime to JSON therefore use pickle\n",
    "import pickle\n",
    "\n",
    "with open('cleaned_disney_data.pkl', 'wb') as f:\n",
    "    pickle.dump(movie_raw, f)\n",
    "        \n",
    "with open('cleaned_disney_data.pkl', 'rb') as f:\n",
    "    loaded_dict = pickle.load(f)\n"
   ]
  },
  {
   "cell_type": "code",
   "execution_count": 40,
   "id": "211cc566",
   "metadata": {
    "hidden": true
   },
   "outputs": [
    {
     "data": {
      "text/plain": [
       "[{'title': 'Academy Award Review of',\n",
       "  'Production company': 'Walt Disney Productions',\n",
       "  'Distributed by': 'United Artists',\n",
       "  'Release date': ['May 19, 1937'],\n",
       "  'Running time': '41 minutes (74 minutes 1966 release)',\n",
       "  'Country': 'United States',\n",
       "  'Language': 'English',\n",
       "  'Box office': '$45.472',\n",
       "  'Running time (int)': 41,\n",
       "  'Budget (float)': None,\n",
       "  'Box office (float)': 45.472,\n",
       "  'Release date temp': ['May 19, 1937'],\n",
       "  'Release date (datetime)': datetime.datetime(1937, 5, 19, 0, 0)}]"
      ]
     },
     "execution_count": 40,
     "metadata": {},
     "output_type": "execute_result"
    }
   ],
   "source": [
    "loaded_dict[0:1]"
   ]
  },
  {
   "cell_type": "markdown",
   "id": "1b9463e4",
   "metadata": {
    "heading_collapsed": true
   },
   "source": [
    "## Attach IMDB/Rotten Tomato/Meta scores"
   ]
  },
  {
   "cell_type": "code",
   "execution_count": 41,
   "id": "452475ba",
   "metadata": {
    "hidden": true
   },
   "outputs": [],
   "source": [
    "cleaned_data = loaded_dict"
   ]
  },
  {
   "cell_type": "code",
   "execution_count": 42,
   "id": "916bd57c",
   "metadata": {
    "hidden": true
   },
   "outputs": [
    {
     "data": {
      "text/plain": [
       "{'title': 'Encanto',\n",
       " 'Directed by': ['Jared Bush', 'Byron Howard'],\n",
       " 'Screenplay by': ['Charise Castro Smith', 'Jared Bush'],\n",
       " 'Story by': ['Jared Bush',\n",
       "  'Byron Howard',\n",
       "  'Charise Castro Smith',\n",
       "  'Jason Hand',\n",
       "  'Nancy Kruse',\n",
       "  'Lin-Manuel Miranda'],\n",
       " 'Produced by': ['Yvett Merino', 'Clark Spencer'],\n",
       " 'Starring': ['Stephanie Beatriz',\n",
       "  'María Cecilia Botero',\n",
       "  'John Leguizamo',\n",
       "  'Mauro Castillo',\n",
       "  'Jessica Darrow',\n",
       "  'Angie Cepeda',\n",
       "  'Carolina Gaitán',\n",
       "  'Diane Guerrero',\n",
       "  'Wilmer Valderrama'],\n",
       " 'Cinematography': ['Nathan Warner (layout)',\n",
       "  'Alessandro Jacomini',\n",
       "  'Daniel Rice (lighting)'],\n",
       " 'Edited by': 'Jeremy Milton',\n",
       " 'Music by': 'Germaine Franco',\n",
       " 'Production companies': ['Walt Disney Pictures',\n",
       "  'Walt Disney Animation Studios'],\n",
       " 'Distributed by': ['Walt Disney Studios', 'Motion Pictures'],\n",
       " 'Release dates': ['November 3, 2021 ( El Capitan Theatre )',\n",
       "  'November 24, 2021 (United States)'],\n",
       " 'Running time': '102 minutes',\n",
       " 'Country': 'United States',\n",
       " 'Languages': ['English', 'Spanish'],\n",
       " 'Budget': '$120–150 million',\n",
       " 'Box office': '$254.2 million',\n",
       " 'Running time (int)': 102,\n",
       " 'Budget (float)': 120000000.0,\n",
       " 'Box office (float)': 254200000.0,\n",
       " 'Release date temp': ['November 3, 2021 ( El Capitan Theatre )',\n",
       "  'November 24, 2021 (United States)'],\n",
       " 'Release date (datetime)': datetime.datetime(2021, 11, 3, 0, 0)}"
      ]
     },
     "execution_count": 42,
     "metadata": {},
     "output_type": "execute_result"
    }
   ],
   "source": [
    "cleaned_data[-40]"
   ]
  },
  {
   "cell_type": "markdown",
   "id": "4dcbeb8c",
   "metadata": {
    "hidden": true
   },
   "source": [
    "### Using omdb api"
   ]
  },
  {
   "cell_type": "raw",
   "id": "ed346955",
   "metadata": {
    "hidden": true
   },
   "source": [
    "key: http://www.omdbapi.com/?i=tt3896198&apikey=ef085b75\n",
    "     https://www.omdbapi.com/?t=encanto&apikey=ef085b75\n",
    "     http://www.omdbapi.com/?apikey=[yourkey]&\n",
    "     ef085b75"
   ]
  },
  {
   "cell_type": "code",
   "execution_count": 43,
   "id": "ed893438",
   "metadata": {
    "hidden": true
   },
   "outputs": [
    {
     "data": {
      "text/plain": [
       "'71%'"
      ]
     },
     "execution_count": 43,
     "metadata": {},
     "output_type": "execute_result"
    }
   ],
   "source": [
    "import requests\n",
    "\n",
    "def get_ombd_info(title):\n",
    "    base_url = \"http://www.omdbapi.com/?\"\n",
    "    key_url = f't={title}&apikey=ef085b75'\n",
    "    full_url = base_url + key_url\n",
    "    \n",
    "    return requests.get(full_url).json()\n",
    "\n",
    "def get_rotten_tomato(omdb_info):\n",
    "    ratings = omdb_info.get('Ratings', []) # if empty, it will make empty list\n",
    "    for rating in ratings:\n",
    "        if rating['Source'] == \"Rotten Tomatoes\":\n",
    "            return rating['Value']\n",
    "    return None # if empty return none"
   ]
  },
  {
   "cell_type": "code",
   "execution_count": 45,
   "id": "e34b61cd",
   "metadata": {
    "hidden": true
   },
   "outputs": [],
   "source": [
    "for movie in movie_raw:\n",
    "    title = movie['title']\n",
    "    omdb_info = get_ombd_info(title)\n",
    "    movie['imdb'] = omdb_info.get('imdbRating', None)\n",
    "    movie['metascore'] = omdb_info.get('Metascore', None)\n",
    "    movie['rottentomato'] = get_rotten_tomato(omdb_info)"
   ]
  },
  {
   "cell_type": "code",
   "execution_count": 50,
   "id": "4eedb307",
   "metadata": {
    "hidden": true
   },
   "outputs": [
    {
     "data": {
      "text/plain": [
       "{'title': 'Tomorrowland',\n",
       " 'Directed by': 'Brad Bird',\n",
       " 'Screenplay by': ['Damon Lindelof', 'Brad Bird'],\n",
       " 'Story by': ['Damon Lindelof', 'Brad Bird', 'Jeff Jensen'],\n",
       " 'Produced by': ['Damon Lindelof', 'Brad Bird', 'Jeffrey Chernov'],\n",
       " 'Starring': ['George Clooney',\n",
       "  'Hugh Laurie',\n",
       "  'Britt Robertson',\n",
       "  'Raffey Cassidy',\n",
       "  'Tim McGraw',\n",
       "  'Kathryn Hahn',\n",
       "  'Keegan-Michael Key'],\n",
       " 'Cinematography': 'Claudio Miranda',\n",
       " 'Edited by': ['Walter Murch', 'Craig Wood'],\n",
       " 'Music by': 'Michael Giacchino',\n",
       " 'Production companies': ['Walt Disney Pictures', 'A113 Productions'],\n",
       " 'Distributed by': ['Walt Disney Studios', 'Motion Pictures'],\n",
       " 'Release dates': ['May 9, 2015 ( Disneyland )',\n",
       "  'May 22, 2015 (United States)'],\n",
       " 'Running time': '130 minutes',\n",
       " 'Country': 'United States',\n",
       " 'Language': 'English',\n",
       " 'Budget': '$180–190 million',\n",
       " 'Box office': '$209 million',\n",
       " 'Running time (int)': 130,\n",
       " 'Budget (float)': 180000000.0,\n",
       " 'Box office (float)': 209000000.0,\n",
       " 'Release date temp': ['May 9, 2015 ( Disneyland )',\n",
       "  'May 22, 2015 (United States)'],\n",
       " 'Release date (datetime)': datetime.datetime(2015, 5, 9, 0, 0),\n",
       " 'imdb': '6.4',\n",
       " 'metascore': '60',\n",
       " 'rottentomato': '50%'}"
      ]
     },
     "execution_count": 50,
     "metadata": {},
     "output_type": "execute_result"
    }
   ],
   "source": [
    "movie_raw[-100]"
   ]
  },
  {
   "cell_type": "markdown",
   "id": "f32eea1e",
   "metadata": {
    "heading_collapsed": true
   },
   "source": [
    "## Save data"
   ]
  },
  {
   "cell_type": "markdown",
   "id": "8d161a28",
   "metadata": {
    "hidden": true
   },
   "source": [
    "### JSON"
   ]
  },
  {
   "cell_type": "markdown",
   "id": "2583def1",
   "metadata": {
    "hidden": true
   },
   "source": [
    "To save as a JSON, convert datetime to string"
   ]
  },
  {
   "cell_type": "code",
   "execution_count": 51,
   "id": "ec6ad064",
   "metadata": {
    "hidden": true
   },
   "outputs": [],
   "source": [
    "movie_raw_copy = [movie.copy() for movie in movie_raw]"
   ]
  },
  {
   "cell_type": "code",
   "execution_count": 60,
   "id": "aec3a7ee",
   "metadata": {
    "hidden": true
   },
   "outputs": [],
   "source": [
    "for movie in movie_raw_copy:\n",
    "    current_date = movie['Release date (datetime)']\n",
    "    if current_date:\n",
    "        movie['Release date (datetime)'] = current_date.strftime(\"%B %d, %Y\")\n",
    "    else:\n",
    "        movie['Release date (datetime)'] = None"
   ]
  },
  {
   "cell_type": "code",
   "execution_count": 61,
   "id": "ac3a91a8",
   "metadata": {
    "hidden": true
   },
   "outputs": [
    {
     "data": {
      "text/plain": [
       "{'title': 'Cheaper by the Dozen',\n",
       " 'Directed by': 'Gail Lerner',\n",
       " 'Screenplay by': ['Kenya Barris', 'Jenifer Rice-Genzuk Henry'],\n",
       " 'Story by': ['Craig Titley', 'Kenya Barris', 'Jenifer Rice-Genzuk Henry'],\n",
       " 'Based on': ['Cheaper by the Dozen',\n",
       "  'by',\n",
       "  'Frank B. Gilbreth Jr.',\n",
       "  'and',\n",
       "  'Ernestine Gilbreth Carey'],\n",
       " 'Produced by': 'Kenya Barris',\n",
       " 'Starring': ['Gabrielle Union', 'Zach Braff', 'Erika Christensen'],\n",
       " 'Cinematography': 'Mitchell Amundsen',\n",
       " 'Edited by': 'Troy Takaki',\n",
       " 'Music by': 'John Paesano',\n",
       " 'Production companies': ['Walt Disney Pictures', 'Khalabo Ink Society'],\n",
       " 'Distributed by': 'Disney+',\n",
       " 'Release dates': ['March 16, 2022 ( El Capitan Theatre )',\n",
       "  'March 18, 2022 (United States)'],\n",
       " 'Running time': '107 minutes',\n",
       " 'Country': 'United States',\n",
       " 'Language': 'English',\n",
       " 'Running time (int)': 107,\n",
       " 'Budget (float)': None,\n",
       " 'Box office (float)': None,\n",
       " 'Release date temp': ['March 16, 2022 ( El Capitan Theatre )',\n",
       "  'March 18, 2022 (United States)'],\n",
       " 'Release date (datetime)': 'March 16, 2022',\n",
       " 'imdb': '5.9',\n",
       " 'metascore': '46',\n",
       " 'rottentomato': '24%'}"
      ]
     },
     "execution_count": 61,
     "metadata": {},
     "output_type": "execute_result"
    }
   ],
   "source": [
    "movie_raw_copy[-35]"
   ]
  },
  {
   "cell_type": "code",
   "execution_count": 62,
   "id": "98a193f0",
   "metadata": {
    "hidden": true
   },
   "outputs": [],
   "source": [
    "save_data(\"disney_data_final.json\", movie_raw_copy)"
   ]
  },
  {
   "cell_type": "markdown",
   "id": "3b71dacf",
   "metadata": {
    "hidden": true
   },
   "source": [
    "### CSV"
   ]
  },
  {
   "cell_type": "code",
   "execution_count": 79,
   "id": "e3035281",
   "metadata": {
    "hidden": true
   },
   "outputs": [],
   "source": [
    "import pandas as pd"
   ]
  },
  {
   "cell_type": "code",
   "execution_count": 80,
   "id": "1bd6e96e",
   "metadata": {
    "hidden": true
   },
   "outputs": [],
   "source": [
    "df = pd.DataFrame(movie_raw)"
   ]
  },
  {
   "cell_type": "code",
   "execution_count": 81,
   "id": "5042d3fe",
   "metadata": {
    "hidden": true,
    "scrolled": false
   },
   "outputs": [
    {
     "data": {
      "text/plain": [
       "(520, 51)"
      ]
     },
     "execution_count": 81,
     "metadata": {},
     "output_type": "execute_result"
    }
   ],
   "source": [
    "df.shape"
   ]
  },
  {
   "cell_type": "code",
   "execution_count": 82,
   "id": "e758ddd5",
   "metadata": {
    "hidden": true
   },
   "outputs": [
    {
     "name": "stdout",
     "output_type": "stream",
     "text": [
      "<class 'pandas.core.frame.DataFrame'>\n",
      "RangeIndex: 520 entries, 0 to 519\n",
      "Data columns (total 51 columns):\n",
      " #   Column                   Non-Null Count  Dtype         \n",
      "---  ------                   --------------  -----         \n",
      " 0   title                    520 non-null    object        \n",
      " 1   Production company       214 non-null    object        \n",
      " 2   Distributed by           517 non-null    object        \n",
      " 3   Release date             340 non-null    object        \n",
      " 4   Running time             499 non-null    object        \n",
      " 5   Country                  465 non-null    object        \n",
      " 6   Language                 497 non-null    object        \n",
      " 7   Box office               401 non-null    object        \n",
      " 8   Running time (int)       499 non-null    float64       \n",
      " 9   Budget (float)           308 non-null    float64       \n",
      " 10  Box office (float)       389 non-null    float64       \n",
      " 11  Release date temp        520 non-null    object        \n",
      " 12  Release date (datetime)  501 non-null    datetime64[ns]\n",
      " 13  imdb                     502 non-null    object        \n",
      " 14  metascore                502 non-null    object        \n",
      " 15  rottentomato             370 non-null    object        \n",
      " 16  Directed by              514 non-null    object        \n",
      " 17  Written by               222 non-null    object        \n",
      " 18  Based on                 280 non-null    object        \n",
      " 19  Produced by              505 non-null    object        \n",
      " 20  Starring                 480 non-null    object        \n",
      " 21  Music by                 509 non-null    object        \n",
      " 22  Release dates            173 non-null    object        \n",
      " 23  Budget                   318 non-null    object        \n",
      " 24  Story by                 171 non-null    object        \n",
      " 25  Narrated by              66 non-null     object        \n",
      " 26  Cinematography           390 non-null    object        \n",
      " 27  Edited by                467 non-null    object        \n",
      " 28  Languages                20 non-null     object        \n",
      " 29  Screenplay by            248 non-null    object        \n",
      " 30  Countries                48 non-null     object        \n",
      " 31  Color process            5 non-null      object        \n",
      " 32  Production companies     302 non-null    object        \n",
      " 33  Japanese                 5 non-null      object        \n",
      " 34  Hepburn                  5 non-null      object        \n",
      " 35  Adaptation by            1 non-null      object        \n",
      " 36  Animation by             1 non-null      object        \n",
      " 37  Traditional              2 non-null      object        \n",
      " 38  Simplified               2 non-null      object        \n",
      " 39  Original title           1 non-null      object        \n",
      " 40  Layouts by               2 non-null      object        \n",
      " 41  Original concept by      1 non-null      object        \n",
      " 42  Music                    2 non-null      object        \n",
      " 43  Lyrics                   2 non-null      object        \n",
      " 44  Book                     2 non-null      object        \n",
      " 45  Basis                    2 non-null      object        \n",
      " 46  Productions              2 non-null      object        \n",
      " 47  Awards                   2 non-null      object        \n",
      " 48  Created by               1 non-null      object        \n",
      " 49  Original work            1 non-null      object        \n",
      " 50  Owner                    1 non-null      object        \n",
      "dtypes: datetime64[ns](1), float64(3), object(47)\n",
      "memory usage: 207.3+ KB\n"
     ]
    }
   ],
   "source": [
    "df.info()"
   ]
  },
  {
   "cell_type": "code",
   "execution_count": 83,
   "id": "fd293858",
   "metadata": {
    "hidden": true
   },
   "outputs": [],
   "source": [
    "df.to_csv('disney_data_dataframe.csv')"
   ]
  }
 ],
 "metadata": {
  "kernelspec": {
   "display_name": "Python 3",
   "language": "python",
   "name": "python3"
  },
  "language_info": {
   "codemirror_mode": {
    "name": "ipython",
    "version": 3
   },
   "file_extension": ".py",
   "mimetype": "text/x-python",
   "name": "python",
   "nbconvert_exporter": "python",
   "pygments_lexer": "ipython3",
   "version": "3.8.8"
  }
 },
 "nbformat": 4,
 "nbformat_minor": 5
}
